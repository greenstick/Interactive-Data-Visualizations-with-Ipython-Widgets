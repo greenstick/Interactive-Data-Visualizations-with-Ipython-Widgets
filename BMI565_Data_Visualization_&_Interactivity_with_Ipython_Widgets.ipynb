{
 "cells": [
  {
   "cell_type": "markdown",
   "metadata": {
    "extensions": {
     "jupyter_dashboards": {
      "version": 1,
      "views": {
       "grid_default": {
        "col": 0,
        "height": 27,
        "hidden": true,
        "row": 0,
        "width": 12
       },
       "report_default": {
        "hidden": false
       }
      }
     }
    }
   },
   "source": [
    "# BMI565 - Bioinformatics Programming & Scripting\n",
    "\n",
    "## Interactive Data Visualizations with Ipython Widgets\n",
    "\n",
    "### Table of Contents\n",
    "\n",
    "1. [Introduction](#Introduction)\n",
    "    * Dependencies\n",
    "    * Installation\n",
    "    * Setup\n",
    "2. [Ipython Widgets](#Ipython-Widgets)\n",
    "    * Some Basic Widgets\n",
    "    * Widgets To Filter\n",
    "    * Widgets To Select\n",
    "    * Creating Interactivity\n",
    "    * Custom Widgets\n",
    "3. [Motivational Example: Malignant or Benign?](#Motivational-Example:-Malignant-or-Benign?)\n",
    "    * Load Data into Pandas\n",
    "    * Initializing & Re-Rendering Visualizations\n",
    "    * Bringing It All Together\n",
    "4. [Resources](#Resources)\n",
    "4. [In-Class Exercises](#In---Class-Exercises)\n",
    "\n",
    "### Introduction\n",
    "\n",
    "During the course of an exploratory data analysis (EDA) we often generate numerous data visualizations, which we may describe conceptually as *exploratory data visualizations*. Once our EDA is complete and we have conducted our principle analyses, we'll have hopefully gained a handful of insights that we find valuable and would like to communicate to a larger audience of our peers or perhaps even the general public. As with an EDA, the communication of results is often greatly facilitated by visualization – often, just a handful of plots and a paragraph can powerfully distill major findings. \n",
    "\n",
    "With that in mind, once we have the results of our study, the purpose of data visualization shifts from **exploratory** to **explanatory**. For the latter, the basic approach is often to select a few plots from the EDA that highlight the core findings of a study. Occasionally, however, the additional step of generating bespoke explanatory visualizations that are illustrative of specific findings is necessary. \n",
    "\n",
    "Interactivity can be used to create compelling explanatory visualizations that invite viewers to explore the results themselves through their web browser or desktop. By making visualizations interactive, we can both improve the quality of a visualization in terms of it's ability to engage a viewer while also making the visualization more informative. \n",
    "\n",
    "To read a discussion of the distinction between exploratory and explanatory data analysis, see this [blog post](http://www.storytellingwithdata.com/blog/2014/04/exploratory-vs-explanatory-analysis).\n",
    "\n",
    "#### Dependencies\n",
    "\n",
    "The following dependencies are required to run this notebook. Note that the version numbers are primarily for reference; exact library versions are unlikely to be required.\n",
    "\n",
    "1. Python\n",
    "    * Python 2.7 or 3.x\n",
    "2. Python Libraries\n",
    "    * Jupyter 1.0.0\n",
    "    * Pandas 0.20.3\n",
    "    * Numpy 1.13.1\n",
    "    * Ipywidgets 7.0.0\n",
    "    * Widgetsnbextension 3.0.2\n",
    "    * MplD3 0.3\n",
    "3. Data\n",
    "    * <a href=\"https://archive.ics.uci.edu/ml/datasets/Breast+Cancer+Wisconsin+(Diagnostic)\" target=\"_blank\">UCI Machine Learning Repository Data</a>\n",
    "    * `./data/wdbc.csv`\n",
    "    \n",
    "#### Installation\n",
    "If you don't have the above libraries installed, use `conda` to install the packages, or run the following commands in your terminal. "
   ]
  },
  {
   "cell_type": "markdown",
   "metadata": {
    "extensions": {
     "jupyter_dashboards": {
      "version": 1,
      "views": {
       "grid_default": {
        "col": 0,
        "height": 8,
        "hidden": false,
        "row": 114,
        "width": 12
       },
       "report_default": {
        "hidden": false
       }
      }
     }
    }
   },
   "source": [
    "```bash\n",
    "pip3 install pandas==0.20.3             # Pandas (Introduces DataFrame data structure, similar to R)\n",
    "pip3 install jupyter==1.0.0             # Jupyter Notebook\n",
    "pip3 install ipywidgets==7.0.0          # Ipywidgets\n",
    "pip3 install widgetsnbextension==3.0.2  # Notebook Widgets Extension\n",
    "pip3 install mpld3==0.3                 # MplD3 (renders matplotlib plots using D3.js)\n",
    "jupyter nbextension enable --py --sys-prefix widgetsnbextension  # Ipywidgets - Extension Setup Step\n",
    "```\n",
    "*Use `pip` instead of `pip3` if using Python 2.7*\n",
    "\n",
    "#### Setup\n",
    "If you only have Python 2.7 installed, you should be able to run this notebook with the Python 2.7 kernel as well. "
   ]
  },
  {
   "cell_type": "code",
   "execution_count": 1,
   "metadata": {
    "extensions": {
     "jupyter_dashboards": {
      "version": 1,
      "views": {
       "grid_default": {
        "col": 0,
        "height": 4,
        "hidden": false,
        "row": 110,
        "width": 12
       },
       "report_default": {
        "hidden": true
       }
      }
     }
    }
   },
   "outputs": [],
   "source": [
    "# Render Plots Inline\n",
    "%matplotlib notebook\n",
    "\n",
    "# Imports: Standard Library\n",
    "import re as Rgx\n",
    "import math as Math\n",
    "from __future__ import print_function\n",
    "\n",
    "# Imports: Third Party\n",
    "import pandas as Pandas\n",
    "import numpy as Numpy\n",
    "import matplotlib.pyplot as Plot\n",
    "import mpld3 as D3\n",
    "import statsmodels as Stats\n",
    "from ipywidgets import widgets, interact"
   ]
  },
  {
   "cell_type": "markdown",
   "metadata": {
    "extensions": {
     "jupyter_dashboards": {
      "version": 1,
      "views": {
       "grid_default": {
        "col": 0,
        "height": 4,
        "hidden": false,
        "row": 122,
        "width": 12
       },
       "report_default": {
        "hidden": false
       }
      }
     }
    }
   },
   "source": [
    "### Ipython Widgets\n",
    "\n",
    "Ipython widgets provide a way to introduce interactivity into notebooks. The widgets are implemented with HTML (structure), CSS (styling), and JavaScript (action) and encapsulate specific UI functionalities. Below is a list of all the widget classes available, along with the base class they inherit from:"
   ]
  },
  {
   "cell_type": "code",
   "execution_count": 2,
   "metadata": {
    "extensions": {
     "jupyter_dashboards": {
      "version": 1,
      "views": {
       "grid_default": {
        "col": 0,
        "height": 25,
        "hidden": false,
        "row": 85,
        "width": 12
       },
       "report_default": {
        "hidden": false
       }
      }
     }
    }
   },
   "outputs": [
    {
     "name": "stdout",
     "output_type": "stream",
     "text": [
      "Layout                  Widget\n",
      "Accordion               _SelectionContainer\n",
      "BoundedFloatText        _BoundedFloat\n",
      "BoundedIntText          _BoundedInt\n",
      "Box                     DOMWidget\n",
      "Button                  DOMWidget\n",
      "ButtonStyle             Style\n",
      "Checkbox                _Bool\n",
      "ColorPicker             DescriptionWidget\n",
      "Axis                    DOMWidget\n",
      "Button                  DOMWidget\n",
      "Controller              DOMWidget\n",
      "DatePicker              DescriptionWidget\n",
      "DescriptionStyle        Style\n",
      "DirectionalLink         Link\n",
      "Dropdown                _Selection\n",
      "FloatProgress           _BoundedFloat\n",
      "FloatRangeSlider        _BoundedFloatRange\n",
      "FloatSlider             _BoundedFloat\n",
      "FloatText               _Float\n",
      "HBox                    Box\n",
      "HTMLMath                _String\n",
      "HTML                    _String\n",
      "Image                   DOMWidget\n",
      "IntProgress             _BoundedInt\n",
      "IntRangeSlider          _BoundedIntRange\n",
      "IntSlider               _BoundedInt\n",
      "IntText                 _Int\n",
      "Label                   _String\n",
      "Link                    CoreWidget\n",
      "Password                Text\n",
      "Play                    _BoundedInt\n",
      "ProgressStyle           DescriptionStyle\n",
      "RadioButtons            _Selection\n",
      "Select                  _Selection\n",
      "SelectMultiple          _MultipleSelection\n",
      "SelectionRangeSlider    _MultipleSelectionNonempty\n",
      "SelectionSlider         _SelectionNonempty\n",
      "SliderStyle             DescriptionStyle\n",
      "Tab                     _SelectionContainer\n",
      "Text                    _String\n",
      "Textarea                _String\n",
      "ToggleButton            _Bool\n",
      "ToggleButtons           _Selection\n",
      "ToggleButtonsStyle      Style\n",
      "VBox                    Box\n",
      "Valid                   _Bool\n",
      "Output                  DOMWidget\n"
     ]
    }
   ],
   "source": [
    "for widget in widgets.Widget.widget_types.items():\n",
    "    print(\"%s%s\"% (widget[1].__name__.ljust(24), widget[1].__bases__[0].__name__))"
   ]
  },
  {
   "cell_type": "markdown",
   "metadata": {},
   "source": [
    "We can think of certain widgets as being amenable to certain types of manipulation of a data model. For example:\n",
    "\n",
    "* **Button** and **Radio Button** widgets can be used to toggle a visualization feature, such as an optional regression line on a scatter plot\n",
    "* **Slider** and **Ranged Slider** widgets can be used to filter values or date ranges\n",
    "* **Toggle** and **Dropdown** widgets can be used to select specific data columns or datasets. \n",
    "* **Image** and **HTML** widgets can be used to build out user interfaces\n",
    "\n",
    "There are also specialized widgets, such as color pickers and date pickers, which can offer a user more granular control of how a visualization is rendered and data is selected. "
   ]
  },
  {
   "cell_type": "markdown",
   "metadata": {
    "extensions": {
     "jupyter_dashboards": {
      "version": 1,
      "views": {
       "grid_default": {
        "col": 0,
        "height": 4,
        "hidden": false,
        "row": 32,
        "width": 12
       },
       "report_default": {
        "hidden": false
       }
      }
     }
    }
   },
   "source": [
    "#### Some Basic Widgets\n",
    "\n",
    "##### <span style=\"color: gray\">The Button Widget</span>\n",
    "\n",
    "Each widget takes a set of initialization arguments that vary by widget type – ([see documentation for each widget here](https://ipywidgets.readthedocs.io/en/stable/examples/Widget%20List.html)). The most basic example is perhaps a simple button element:"
   ]
  },
  {
   "cell_type": "code",
   "execution_count": 3,
   "metadata": {
    "extensions": {
     "jupyter_dashboards": {
      "version": 1,
      "views": {
       "grid_default": {
        "col": 0,
        "height": 4,
        "hidden": false,
        "row": 69,
        "width": 12
       },
       "report_default": {
        "hidden": false
       }
      }
     }
    }
   },
   "outputs": [
    {
     "data": {
      "application/vnd.jupyter.widget-view+json": {
       "model_id": "ae03758620e2419aa203502074c3f523",
       "version_major": 2,
       "version_minor": 0
      },
      "text/plain": [
       "A Jupyter Widget"
      ]
     },
     "metadata": {},
     "output_type": "display_data"
    }
   ],
   "source": [
    "button = widgets.Button(\n",
    "    description = \"I'm a Button! Click me!\"\n",
    ")\n",
    "button"
   ]
  },
  {
   "cell_type": "markdown",
   "metadata": {
    "extensions": {
     "jupyter_dashboards": {
      "version": 1,
      "views": {
       "grid_default": {
        "col": 0,
        "height": 4,
        "hidden": false,
        "row": 73,
        "width": 12
       },
       "report_default": {
        "hidden": false
       }
      }
     }
    }
   },
   "source": [
    "Looks great, but what does it do? Nothing. Let's fix that:"
   ]
  },
  {
   "cell_type": "code",
   "execution_count": 4,
   "metadata": {
    "extensions": {
     "jupyter_dashboards": {
      "version": 1,
      "views": {
       "grid_default": {
        "col": 0,
        "height": 4,
        "hidden": false,
        "row": 77,
        "width": 12
       },
       "report_default": {
        "hidden": false
       }
      }
     }
    }
   },
   "outputs": [
    {
     "data": {
      "application/vnd.jupyter.widget-view+json": {
       "model_id": "ae03758620e2419aa203502074c3f523",
       "version_major": 2,
       "version_minor": 0
      },
      "text/plain": [
       "A Jupyter Widget"
      ]
     },
     "metadata": {},
     "output_type": "display_data"
    }
   ],
   "source": [
    "# Define a Function for The Button to Trigger\n",
    "def makeAnAnimalSound (element):\n",
    "    import random\n",
    "    sounds = [\"moo\", \"squawk\", \"cacaw\", \"woof\", \"oink\", \"rawr\", \"meow\", \"bark\"]\n",
    "    print(\"%s\\t\" % random.sample(sounds, 1)[0], element)\n",
    "\n",
    "button.on_click(makeAnAnimalSound)\n",
    "button"
   ]
  },
  {
   "cell_type": "markdown",
   "metadata": {},
   "source": [
    "This is a special case of binding a function to a widget – the button widget has a method `on_click()` that allows for a function to be triggered when it is clicked. \n",
    "\n",
    "##### <span style=\"color: gray\">The Toggle Button Widget</span>\n",
    "\n",
    "If you need to both set and unset a variable, you can use the toggle button widget."
   ]
  },
  {
   "cell_type": "code",
   "execution_count": 5,
   "metadata": {},
   "outputs": [
    {
     "data": {
      "application/vnd.jupyter.widget-view+json": {
       "model_id": "0aec1c797a8d41459700ab526e9e74f6",
       "version_major": 2,
       "version_minor": 0
      },
      "text/plain": [
       "A Jupyter Widget"
      ]
     },
     "metadata": {},
     "output_type": "display_data"
    }
   ],
   "source": [
    "button = widgets.ToggleButton(\n",
    "    value=False,\n",
    "    description=\"Activate!\",\n",
    "    button_style='info' # 'success', 'info', 'warning', 'danger' or ''\n",
    ")\n",
    "# Add Interaction\n",
    "action = interact(lambda x: print(x), x = button)"
   ]
  },
  {
   "cell_type": "markdown",
   "metadata": {},
   "source": [
    "##### <span style=\"color: gray\">The Checkbox Widget</span>\n",
    "\n",
    "Basically just another `ToggleButton` widget. "
   ]
  },
  {
   "cell_type": "code",
   "execution_count": 6,
   "metadata": {},
   "outputs": [
    {
     "data": {
      "application/vnd.jupyter.widget-view+json": {
       "model_id": "f7aedcecffc44a49b222eb57f5e56b64",
       "version_major": 2,
       "version_minor": 0
      },
      "text/plain": [
       "A Jupyter Widget"
      ]
     },
     "metadata": {},
     "output_type": "display_data"
    }
   ],
   "source": [
    "checkbox = widgets.Checkbox(\n",
    "    value=True,\n",
    "    description='Please don\\'t check me'\n",
    ")\n",
    "# Add Interaction\n",
    "action = interact(lambda x: print(x), x = checkbox)"
   ]
  },
  {
   "cell_type": "markdown",
   "metadata": {
    "extensions": {
     "jupyter_dashboards": {
      "version": 1,
      "views": {
       "grid_default": {
        "col": 0,
        "height": 4,
        "hidden": false,
        "row": 61,
        "width": 12
       },
       "report_default": {
        "hidden": false
       }
      }
     }
    }
   },
   "source": [
    "#### Widgets To Filter\n",
    "\n",
    "You can use sliders to filter both integer, float, or categorical data types. Below is an example of an integer slider.\n",
    "\n",
    "##### <span style=\"color: gray\">The Integer Slider Widget</span>"
   ]
  },
  {
   "cell_type": "code",
   "execution_count": 7,
   "metadata": {
    "extensions": {
     "jupyter_dashboards": {
      "version": 1,
      "views": {
       "grid_default": {
        "col": 4,
        "height": 4,
        "hidden": false,
        "row": 57,
        "width": 4
       },
       "report_default": {
        "hidden": false
       }
      }
     }
    }
   },
   "outputs": [
    {
     "data": {
      "application/vnd.jupyter.widget-view+json": {
       "model_id": "7b4f0d3ad7fb4c6fa65a60d6e4354332",
       "version_major": 2,
       "version_minor": 0
      },
      "text/plain": [
       "A Jupyter Widget"
      ]
     },
     "metadata": {},
     "output_type": "display_data"
    }
   ],
   "source": [
    "slider = widgets.IntSlider(\n",
    "    value = 0,\n",
    "    min = -10,\n",
    "    max = 10,\n",
    "    step = 1,\n",
    "    description = \"Do you like octopi?\",\n",
    "    disabled = False,\n",
    "    continuous_update = True,\n",
    "    orientation = \"horizontal\",\n",
    "    readout = True\n",
    ")\n",
    "# Add Interaction\n",
    "action = interact(lambda x: print(x), x = slider)"
   ]
  },
  {
   "cell_type": "markdown",
   "metadata": {
    "extensions": {
     "jupyter_dashboards": {
      "version": 1,
      "views": {
       "grid_default": {
        "col": 8,
        "height": 4,
        "hidden": false,
        "row": 57,
        "width": 4
       },
       "report_default": {
        "hidden": false
       }
      }
     }
    }
   },
   "source": [
    "##### <span style=\"color: gray\">The Range Slider Widget</span>\n",
    "Both integer and float variants of the range slider are available."
   ]
  },
  {
   "cell_type": "code",
   "execution_count": 8,
   "metadata": {
    "extensions": {
     "jupyter_dashboards": {
      "version": 1,
      "views": {
       "grid_default": {
        "col": 0,
        "height": 4,
        "hidden": false,
        "row": 81,
        "width": 12
       },
       "report_default": {
        "hidden": false
       }
      }
     }
    }
   },
   "outputs": [
    {
     "data": {
      "application/vnd.jupyter.widget-view+json": {
       "model_id": "7b4852a8aa3a49da99a0f0314a99a577",
       "version_major": 2,
       "version_minor": 0
      },
      "text/plain": [
       "A Jupyter Widget"
      ]
     },
     "metadata": {},
     "output_type": "display_data"
    }
   ],
   "source": [
    "slider = widgets.FloatRangeSlider(\n",
    "    value=[5, 7.5],\n",
    "    min=0,\n",
    "    max=10.0,\n",
    "    step=0.1,\n",
    "    description='How Big is The Fish?',\n",
    "    disabled=False,\n",
    "    continuous_update=True,\n",
    "    orientation='horizontal',\n",
    "    readout=True,\n",
    "    slider_color='white',\n",
    "    color='black'\n",
    ")\n",
    "slider"
   ]
  },
  {
   "cell_type": "markdown",
   "metadata": {},
   "source": [
    "#####  <span style=\"color: gray\">An Example Filter Interaction</span>"
   ]
  },
  {
   "cell_type": "code",
   "execution_count": 9,
   "metadata": {},
   "outputs": [
    {
     "name": "stdout",
     "output_type": "stream",
     "text": [
      "[ 0  1  2  9 11 11 12 14 17 22 23 24 25 32 34 35 37 39 41 43 45 46 49 49 50\n",
      " 58 68 70 73 74 74 75 75 76 81 83 85 89 90 97]\n"
     ]
    },
    {
     "data": {
      "application/vnd.jupyter.widget-view+json": {
       "model_id": "20eee2c451944eb190617cd69765918a",
       "version_major": 2,
       "version_minor": 0
      },
      "text/plain": [
       "A Jupyter Widget"
      ]
     },
     "metadata": {},
     "output_type": "display_data"
    }
   ],
   "source": [
    "# Create a Random Numpy Array With 40 Values\n",
    "array = Numpy.sort(Numpy.random.randint(0, 100, size = 40))\n",
    "print(array)\n",
    "\n",
    "# Define Range Slider Widget\n",
    "slider = widgets.FloatRangeSlider(\n",
    "    value=[25, 75],\n",
    "    min=0,\n",
    "    max=100,\n",
    "    step=1,\n",
    "    description='Focus BMI Range:',\n",
    "    continuous_update=True,\n",
    "    orientation='horizontal',\n",
    "    slider_color='white',\n",
    "    color='black'\n",
    ")\n",
    "# Add Interaction – Filter Array Values by Range Values\n",
    "action = interact(lambda x: array[Numpy.logical_and(array >= x[0], array <= x[1])], x = slider)"
   ]
  },
  {
   "cell_type": "markdown",
   "metadata": {},
   "source": [
    "#### Widgets To Select\n",
    "\n",
    "##### <span style=\"color: gray\">The Dropdown Widget</span>\n",
    "The classic dropdown."
   ]
  },
  {
   "cell_type": "code",
   "execution_count": 10,
   "metadata": {},
   "outputs": [
    {
     "data": {
      "application/vnd.jupyter.widget-view+json": {
       "model_id": "36519d846bff46b8845826db2feb3e23",
       "version_major": 2,
       "version_minor": 0
      },
      "text/plain": [
       "A Jupyter Widget"
      ]
     },
     "metadata": {},
     "output_type": "display_data"
    }
   ],
   "source": [
    "# Genres & Their Data Values\n",
    "genres = {\n",
    "    'Rock'      : 1, \n",
    "    'Indie'     : 2, \n",
    "    'Hip Hop'   : 3, \n",
    "    'Rap'       : 4, \n",
    "    'Folk'      : 5, \n",
    "    'Country'   : 6, \n",
    "    'Bluegrass' : 7, \n",
    "    'Classical' : 8, \n",
    "    'Silence'   : 9\n",
    "}\n",
    "\n",
    "# Reverse To Data Value : Genre Key\n",
    "reverse = { value : key for key, value in genres.items()}\n",
    "\n",
    "# Initialize DropDown\n",
    "dropdown = widgets.Dropdown(\n",
    "    options=genres,\n",
    "    value=1,\n",
    "    description=\"I'd Rather Listen To:\",\n",
    ")\n",
    "\n",
    "# Add Interaction\n",
    "action = interact(lambda x: print(\"Index: %d\\tGenre: %s\" % (x, reverse[x])), x = dropdown)"
   ]
  },
  {
   "cell_type": "markdown",
   "metadata": {},
   "source": [
    "##### <span style=\"color: gray\">The Multi Select Widget</span>\n",
    "For when you would like to allow the selection of combinations."
   ]
  },
  {
   "cell_type": "code",
   "execution_count": 11,
   "metadata": {},
   "outputs": [
    {
     "data": {
      "application/vnd.jupyter.widget-view+json": {
       "model_id": "fb58a32e71044d199e4abd6fbb5d61ee",
       "version_major": 2,
       "version_minor": 0
      },
      "text/plain": [
       "A Jupyter Widget"
      ]
     },
     "metadata": {},
     "output_type": "display_data"
    }
   ],
   "source": [
    "multiselect = widgets.SelectMultiple(\n",
    "    options=['Breakfast', 'Second Breakfast', 'Brunch', 'Lunch', 'Dinner', 'Second Dinner', 'Dessert All Day'],\n",
    "    value=['Breakfast', 'Brunch', 'Lunch', 'Dinner', 'Second Dinner'],\n",
    "    description='I Will Have...'\n",
    ")\n",
    "# Add Interaction\n",
    "action = interact(lambda x: print(x), x = multiselect)"
   ]
  },
  {
   "cell_type": "markdown",
   "metadata": {},
   "source": [
    "##### <span style=\"color: gray\">The Tabs Widget</span>"
   ]
  },
  {
   "cell_type": "code",
   "execution_count": 12,
   "metadata": {},
   "outputs": [
    {
     "data": {
      "application/vnd.jupyter.widget-view+json": {
       "model_id": "54fcde01b6944c43b01733e81aa38119",
       "version_major": 2,
       "version_minor": 0
      },
      "text/plain": [
       "A Jupyter Widget"
      ]
     },
     "metadata": {},
     "output_type": "display_data"
    }
   ],
   "source": [
    "# Import OrderedDict To Ensure Alphabetical Ordering of Tabs\n",
    "from collections import OrderedDict\n",
    "labels = OrderedDict(\n",
    "    (\n",
    "        ('A', 'Alice'), \n",
    "        ('B', 'Bob'), \n",
    "        ('C', 'Charlie'),\n",
    "        ('D', 'Diane')\n",
    "    )\n",
    ")\n",
    "\n",
    "tab = widgets.Tab()\n",
    "\n",
    "# Set Names to Labels\n",
    "tab.children = [widgets.Label(value) for key, value in labels.items()]\n",
    "for i, key in enumerate(labels.keys()):\n",
    "    tab.set_title(i, key)\n",
    "tab"
   ]
  },
  {
   "cell_type": "markdown",
   "metadata": {
    "extensions": {
     "jupyter_dashboards": {
      "version": 1,
      "views": {
       "grid_default": {
        "col": 0,
        "height": 4,
        "hidden": false,
        "row": 126,
        "width": 12
       },
       "report_default": {
        "hidden": false
       }
      }
     }
    }
   },
   "source": [
    "##### <span style=\"color: gray\">The Toggle Buttons Widget</span>"
   ]
  },
  {
   "cell_type": "code",
   "execution_count": 13,
   "metadata": {
    "extensions": {
     "jupyter_dashboards": {
      "version": 1,
      "views": {
       "grid_default": {
        "col": 0,
        "height": 4,
        "hidden": false,
        "row": 130,
        "width": 12
       },
       "report_default": {
        "hidden": false
       }
      }
     }
    }
   },
   "outputs": [
    {
     "data": {
      "application/vnd.jupyter.widget-view+json": {
       "model_id": "c99e742e7b2a423da6fffa0467a10f5e",
       "version_major": 2,
       "version_minor": 0
      },
      "text/plain": [
       "A Jupyter Widget"
      ]
     },
     "metadata": {},
     "output_type": "display_data"
    }
   ],
   "source": [
    "toggle = widgets.ToggleButtons(\n",
    "    options = [\"bpm\", \"bmi\", \"systolic\", \"diastolic\"],\n",
    "    description = 'Filter:',\n",
    "    disabled = False,\n",
    "    button_style='info', # 'success', 'info', 'warning', 'danger' or ''\n",
    "    tooltip='Description',\n",
    "    icon='check'\n",
    ")\n",
    "# Add Interaction\n",
    "action = interact(lambda x: print(x), x = toggle)"
   ]
  },
  {
   "cell_type": "markdown",
   "metadata": {
    "extensions": {
     "jupyter_dashboards": {
      "version": 1,
      "views": {
       "grid_default": {
        "col": 0,
        "height": 4,
        "hidden": false,
        "row": 36,
        "width": 12
       },
       "report_default": {
        "hidden": false
       }
      }
     }
    }
   },
   "source": [
    "#### Using `interact` for Basic Interactivity\n",
    "Often times, we're only concerned with the specific data from an interaction. In those cases, we can use the `interact` method, which allows us to work with the widget data directly. As seen above, we pass to the `interact` method two parameters: a simple `lambda` function, which returns the value passed to it, and a widget that the lambda function will be bound to. Of course, we can customize the `lambda` function to, say, reverse and capitalize the string data value retrieved from a `ToggleButtons` widget:"
   ]
  },
  {
   "cell_type": "code",
   "execution_count": 14,
   "metadata": {
    "extensions": {
     "jupyter_dashboards": {
      "version": 1,
      "views": {
       "grid_default": {
        "hidden": true
       },
       "report_default": {
        "hidden": true
       }
      }
     }
    }
   },
   "outputs": [
    {
     "data": {
      "application/vnd.jupyter.widget-view+json": {
       "model_id": "49e355e826c747cda297feb73cecf092",
       "version_major": 2,
       "version_minor": 0
      },
      "text/plain": [
       "A Jupyter Widget"
      ]
     },
     "metadata": {},
     "output_type": "display_data"
    }
   ],
   "source": [
    "# An Inline Function To Print A Reversed & Capitalized String\n",
    "reverseAndCapitalize = lambda x: \"%s >>> %s\" % (x, x[::-1].upper())\n",
    "\n",
    "toggle = interact(reverseAndCapitalize, x = widgets.ToggleButtons(\n",
    "    options = [\"bpm\", \"bmi\", \"systolic\", \"diastolic\"],\n",
    "    description = 'Filter:',\n",
    "    disabled = False,\n",
    "    button_style='info', # 'success', 'info', 'warning', 'danger' or ''\n",
    "    tooltip='Description',\n",
    "    icon='check'\n",
    "))"
   ]
  },
  {
   "cell_type": "markdown",
   "metadata": {},
   "source": [
    "#### More Advanced Interactivity\n",
    "Widget interactivity is powered by JavaScript's [event loop architecture](https://developer.mozilla.org/en-US/docs/Web/JavaScript/EventLoop). While most widgets can use the simple `interact` method to retrieve values, we can also use the `observe` method to bind more complex callback functions to a widget and access additional event context. While the additional context can be useful in some instances, the high-level nature of ipython widgets makes these instances few and far between. "
   ]
  },
  {
   "cell_type": "code",
   "execution_count": 15,
   "metadata": {
    "extensions": {
     "jupyter_dashboards": {
      "version": 1,
      "views": {
       "grid_default": {
        "col": 0,
        "height": 4,
        "hidden": false,
        "row": 134,
        "width": 12
       },
       "report_default": {
        "hidden": false
       }
      }
     }
    }
   },
   "outputs": [
    {
     "data": {
      "application/vnd.jupyter.widget-view+json": {
       "model_id": "632a4ac26287468a9647283a9dcc7249",
       "version_major": 2,
       "version_minor": 0
      },
      "text/plain": [
       "A Jupyter Widget"
      ]
     },
     "metadata": {},
     "output_type": "display_data"
    }
   ],
   "source": [
    "# A Simple DataFrame\n",
    "df = Pandas.DataFrame({\n",
    "    \"bpm\": [121, 118, 133],\n",
    "    \"bmi\": [23.1, 27.1, 22.7],\n",
    "    \"systolic\": [131, 103, 114],\n",
    "    \"diastolic\": [67, 82, 93]\n",
    "})\n",
    "\n",
    "# Initialize A Toggle Buttons Widget\n",
    "toggle = widgets.ToggleButtons(\n",
    "    options = [\"bpm\", \"bmi\", \"systolic\", \"diastolic\"],\n",
    "    description = 'Filter:',\n",
    "    disabled = False,\n",
    "    button_style='info', # 'success', 'info', 'warning', 'danger' or ''\n",
    "    tooltip='Description',\n",
    "    icon='check'\n",
    ")\n",
    "\n",
    "# Define A Function That Uses The Widget Interaction Data\n",
    "def callback (data):\n",
    "    if \"new\" in data.keys():\n",
    "        print(df[data[\"new\"]], \"\\n\") \n",
    "\n",
    "# Call Widget's observe Method, Passing Callback Function as Parameter\n",
    "toggle.observe(callback, names = 'value')\n",
    "toggle"
   ]
  },
  {
   "cell_type": "markdown",
   "metadata": {
    "extensions": {
     "jupyter_dashboards": {
      "version": 1,
      "views": {
       "grid_default": {
        "col": 0,
        "height": 7,
        "hidden": false,
        "row": 40,
        "width": 12
       },
       "report_default": {
        "hidden": false
       }
      }
     }
    }
   },
   "source": [
    "Above, we defined a function called `callback`, which checks for a new filter value and, if it exists, uses it to select and print the corresponding column of the `df` DataFrame. We then pass this 'callback function' as a parameter to the `observe` method, along with an indication that we'd like the observe method to pass the `value` from the interaction. In doing this, we bind the `ToggleButtons widget` to `callback`. This architecture is not common in Python, but is the bread and butter of event-based programming in JavaScript (and many other asynchronous languages). To see more about events, see their [documentation](https://ipywidgets.readthedocs.io/en/stable/examples/Widget%20Events.html)."
   ]
  },
  {
   "cell_type": "markdown",
   "metadata": {
    "extensions": {
     "jupyter_dashboards": {
      "version": 1,
      "views": {
       "grid_default": {
        "col": 0,
        "height": 4,
        "hidden": false,
        "row": 47,
        "width": 12
       },
       "report_default": {
        "hidden": false
       }
      }
     }
    }
   },
   "source": [
    "#### Custom Widgets\n",
    "\n",
    "If you find that none of the above widgets suit your needs, the `ipywidgets` API also enables the development of [custom widgets](https://ipywidgets.readthedocs.io/en/stable/examples/Widget%20Custom.html). Before embarking down this road, its worthwhile to build an understanding of how `ipywidgets` work as it is a bit more involved – here's an [excellent tutorial](https://ipywidgets.readthedocs.io/en/stable/examples/Widget%20Low%20Level.html) that focuses on just that. "
   ]
  },
  {
   "cell_type": "markdown",
   "metadata": {
    "extensions": {
     "jupyter_dashboards": {
      "version": 1,
      "views": {
       "grid_default": {
        "col": 0,
        "height": 4,
        "hidden": true,
        "row": 0,
        "width": 12
       },
       "report_default": {
        "hidden": false
       }
      }
     }
    }
   },
   "source": [
    "### Motivational Example: Malignant Versus Benign"
   ]
  },
  {
   "cell_type": "markdown",
   "metadata": {
    "extensions": {
     "jupyter_dashboards": {
      "version": 1,
      "views": {
       "grid_default": {
        "col": 0,
        "height": 10,
        "hidden": false,
        "row": 13,
        "width": 12
       },
       "report_default": {
        "hidden": false
       }
      }
     }
    }
   },
   "source": [
    "Widgets enable us to build UI that allow for the interactive exploration of data sets and their visualization. To illustrate this, we'll use a dataset with 30 (continuous) breast cancer imaging features and a (categorical) dependent variable of `diagnosis` with two factor levels (malignant or benign).\n",
    "\n",
    "The original data along with descriptions of each feature can be found on the <a href=\"https://archive.ics.uci.edu/ml/datasets/Breast+Cancer+Wisconsin+(Diagnostic)\" target=\"_blank\">UCI Machine Learning Repository</a> website. \n",
    "\n",
    "#### Load Data into Pandas"
   ]
  },
  {
   "cell_type": "code",
   "execution_count": 16,
   "metadata": {
    "extensions": {
     "jupyter_dashboards": {
      "version": 1,
      "views": {
       "grid_default": {
        "col": 0,
        "height": 9,
        "hidden": false,
        "row": 23,
        "width": 12
       },
       "report_default": {
        "hidden": false
       }
      }
     }
    }
   },
   "outputs": [],
   "source": [
    "# Read in Data & See Head\n",
    "data = Pandas.read_csv(\"data/wdbc.csv\").drop([\"id\", \"Unnamed: 32\"], axis = 1)\n",
    "data.head()\n",
    "\n",
    "# Lets Make Our Visualization Look Like ggplot\n",
    "Plot.style.use('ggplot')"
   ]
  },
  {
   "cell_type": "markdown",
   "metadata": {
    "extensions": {
     "jupyter_dashboards": {
      "version": 1,
      "views": {
       "grid_default": {
        "col": 0,
        "height": 6,
        "hidden": false,
        "row": 51,
        "width": 12
       },
       "report_default": {
        "hidden": false
       }
      }
     }
    }
   },
   "source": [
    "#### Initializing & Re-Rendering a Visualization\n",
    "\n",
    "To generate interactive data visualizations with Matplotlib, we can look at the visualization component as having two basic pieces: \n",
    "* Initialization – Where we setup the basics of the plot and `show` it. \n",
    "* Updating – Where we update the data and any associated axes, legends, labels, etc. \n",
    "\n",
    "Below is an example of a very basic initialization method."
   ]
  },
  {
   "cell_type": "code",
   "execution_count": 17,
   "metadata": {
    "extensions": {
     "jupyter_dashboards": {
      "version": 1,
      "views": {
       "grid_default": {
        "col": 0,
        "height": 4,
        "hidden": false,
        "row": 147,
        "width": 12
       },
       "report_default": {
        "hidden": true
       }
      }
     }
    }
   },
   "outputs": [],
   "source": [
    "def initPlot (groups, dependent, independent):\n",
    "    \"\"\"\n",
    "    Method to initialize a plot, returns fig & axis, Returns Figure & Axis Objects.\n",
    "    \"\"\"\n",
    "    # Structure Data for Matplotlib\n",
    "    keys, structuredData = [], []\n",
    "    for key, group in groups:\n",
    "        keys.append(key)\n",
    "        structuredData.append(group[independent])\n",
    "    # Setup Plot Figure & Axis\n",
    "    fig = Plot.figure(figsize = (8, 6))\n",
    "    axis = fig.add_subplot(111)\n",
    "    # Set Labels\n",
    "    axis.set_xlabel(dependent)\n",
    "    axis.set_ylabel(independent) \n",
    "    # Set X Axis Ticks\n",
    "    axis.set_xticks([1, 2])\n",
    "    axis.set_xticklabels(keys)\n",
    "    # Generate Violin Plot\n",
    "    axis.violinplot(structuredData)\n",
    "    Plot.show(fig)\n",
    "    return fig, axis"
   ]
  },
  {
   "cell_type": "markdown",
   "metadata": {
    "extensions": {
     "jupyter_dashboards": {
      "version": 1,
      "views": {
       "grid_default": {
        "col": 0,
        "height": 4,
        "hidden": false,
        "row": 151,
        "width": 12
       },
       "report_default": {
        "hidden": false
       }
      }
     }
    }
   },
   "source": [
    "And the update function, notice the call to `Plot.cla()`, which clears the `axis` object and avoids plots rendering on top of eachother. "
   ]
  },
  {
   "cell_type": "code",
   "execution_count": 18,
   "metadata": {
    "extensions": {
     "jupyter_dashboards": {
      "version": 1,
      "views": {
       "grid_default": {
        "col": 0,
        "height": 4,
        "hidden": false,
        "row": 155,
        "width": 12
       },
       "report_default": {
        "hidden": true
       }
      }
     }
    }
   },
   "outputs": [],
   "source": [
    "def updatePlot (groups, dependent, independent, fig, axis):\n",
    "    \"\"\"\n",
    "    Method to Render a Plot with a Pandas DataFrame, No Return Value.\n",
    "    \"\"\"\n",
    "    # Important – Clear Plot Axis\n",
    "    Plot.cla()\n",
    "    # Structure Data for Matplotlib\n",
    "    keys, structuredData = [], []\n",
    "    for key, group in groups:\n",
    "        keys.append(key)\n",
    "        structuredData.append(group[independent])\n",
    "    # Update Labels\n",
    "    axis.set_xlabel(dependent)\n",
    "    axis.set_ylabel(independent) \n",
    "    # Update X Axis Ticks\n",
    "    axis.set_xticks([1, 2])\n",
    "    axis.set_xticklabels(keys)\n",
    "    # Update Title\n",
    "    Plot.title(\"Distribution of %s by %s\" % (independent, dependent))\n",
    "    # Generate Violin Plot\n",
    "    axis.violinplot(structuredData, showmeans = True)"
   ]
  },
  {
   "cell_type": "markdown",
   "metadata": {
    "extensions": {
     "jupyter_dashboards": {
      "version": 1,
      "views": {
       "grid_default": {
        "col": 0,
        "height": 4,
        "hidden": false,
        "row": 65,
        "width": 12
       },
       "report_default": {
        "hidden": false
       }
      }
     }
    }
   },
   "source": [
    "#### Bringing It All Together\n",
    "\n",
    "You may have noticed earlier that we imported a library called `mpld3`. Before rendering the interactive plot, we'll initialize this library to enable [D3.js](https://d3js.org) to handle the rendering of the plot. One of the benefits of doing so is that the plot generated by `mpld3` will be sharper than a standard `matplotlib` plot. This is because D3 by default renders the plot in scalable vector graphics (SVG, an XML-based format) rather than painting each pixel (i.e. rasterization, like a photo). "
   ]
  },
  {
   "cell_type": "code",
   "execution_count": 19,
   "metadata": {
    "extensions": {
     "jupyter_dashboards": {
      "version": 1,
      "views": {
       "grid_default": {
        "col": 0,
        "height": 13,
        "hidden": false,
        "row": 0,
        "width": 11
       },
       "report_default": {
        "hidden": false
       }
      }
     }
    }
   },
   "outputs": [
    {
     "data": {
      "application/javascript": [
       "/* Put everything inside the global mpl namespace */\n",
       "window.mpl = {};\n",
       "\n",
       "\n",
       "mpl.get_websocket_type = function() {\n",
       "    if (typeof(WebSocket) !== 'undefined') {\n",
       "        return WebSocket;\n",
       "    } else if (typeof(MozWebSocket) !== 'undefined') {\n",
       "        return MozWebSocket;\n",
       "    } else {\n",
       "        alert('Your browser does not have WebSocket support.' +\n",
       "              'Please try Chrome, Safari or Firefox ≥ 6. ' +\n",
       "              'Firefox 4 and 5 are also supported but you ' +\n",
       "              'have to enable WebSockets in about:config.');\n",
       "    };\n",
       "}\n",
       "\n",
       "mpl.figure = function(figure_id, websocket, ondownload, parent_element) {\n",
       "    this.id = figure_id;\n",
       "\n",
       "    this.ws = websocket;\n",
       "\n",
       "    this.supports_binary = (this.ws.binaryType != undefined);\n",
       "\n",
       "    if (!this.supports_binary) {\n",
       "        var warnings = document.getElementById(\"mpl-warnings\");\n",
       "        if (warnings) {\n",
       "            warnings.style.display = 'block';\n",
       "            warnings.textContent = (\n",
       "                \"This browser does not support binary websocket messages. \" +\n",
       "                    \"Performance may be slow.\");\n",
       "        }\n",
       "    }\n",
       "\n",
       "    this.imageObj = new Image();\n",
       "\n",
       "    this.context = undefined;\n",
       "    this.message = undefined;\n",
       "    this.canvas = undefined;\n",
       "    this.rubberband_canvas = undefined;\n",
       "    this.rubberband_context = undefined;\n",
       "    this.format_dropdown = undefined;\n",
       "\n",
       "    this.image_mode = 'full';\n",
       "\n",
       "    this.root = $('<div/>');\n",
       "    this._root_extra_style(this.root)\n",
       "    this.root.attr('style', 'display: inline-block');\n",
       "\n",
       "    $(parent_element).append(this.root);\n",
       "\n",
       "    this._init_header(this);\n",
       "    this._init_canvas(this);\n",
       "    this._init_toolbar(this);\n",
       "\n",
       "    var fig = this;\n",
       "\n",
       "    this.waiting = false;\n",
       "\n",
       "    this.ws.onopen =  function () {\n",
       "            fig.send_message(\"supports_binary\", {value: fig.supports_binary});\n",
       "            fig.send_message(\"send_image_mode\", {});\n",
       "            if (mpl.ratio != 1) {\n",
       "                fig.send_message(\"set_dpi_ratio\", {'dpi_ratio': mpl.ratio});\n",
       "            }\n",
       "            fig.send_message(\"refresh\", {});\n",
       "        }\n",
       "\n",
       "    this.imageObj.onload = function() {\n",
       "            if (fig.image_mode == 'full') {\n",
       "                // Full images could contain transparency (where diff images\n",
       "                // almost always do), so we need to clear the canvas so that\n",
       "                // there is no ghosting.\n",
       "                fig.context.clearRect(0, 0, fig.canvas.width, fig.canvas.height);\n",
       "            }\n",
       "            fig.context.drawImage(fig.imageObj, 0, 0);\n",
       "        };\n",
       "\n",
       "    this.imageObj.onunload = function() {\n",
       "        this.ws.close();\n",
       "    }\n",
       "\n",
       "    this.ws.onmessage = this._make_on_message_function(this);\n",
       "\n",
       "    this.ondownload = ondownload;\n",
       "}\n",
       "\n",
       "mpl.figure.prototype._init_header = function() {\n",
       "    var titlebar = $(\n",
       "        '<div class=\"ui-dialog-titlebar ui-widget-header ui-corner-all ' +\n",
       "        'ui-helper-clearfix\"/>');\n",
       "    var titletext = $(\n",
       "        '<div class=\"ui-dialog-title\" style=\"width: 100%; ' +\n",
       "        'text-align: center; padding: 3px;\"/>');\n",
       "    titlebar.append(titletext)\n",
       "    this.root.append(titlebar);\n",
       "    this.header = titletext[0];\n",
       "}\n",
       "\n",
       "\n",
       "\n",
       "mpl.figure.prototype._canvas_extra_style = function(canvas_div) {\n",
       "\n",
       "}\n",
       "\n",
       "\n",
       "mpl.figure.prototype._root_extra_style = function(canvas_div) {\n",
       "\n",
       "}\n",
       "\n",
       "mpl.figure.prototype._init_canvas = function() {\n",
       "    var fig = this;\n",
       "\n",
       "    var canvas_div = $('<div/>');\n",
       "\n",
       "    canvas_div.attr('style', 'position: relative; clear: both; outline: 0');\n",
       "\n",
       "    function canvas_keyboard_event(event) {\n",
       "        return fig.key_event(event, event['data']);\n",
       "    }\n",
       "\n",
       "    canvas_div.keydown('key_press', canvas_keyboard_event);\n",
       "    canvas_div.keyup('key_release', canvas_keyboard_event);\n",
       "    this.canvas_div = canvas_div\n",
       "    this._canvas_extra_style(canvas_div)\n",
       "    this.root.append(canvas_div);\n",
       "\n",
       "    var canvas = $('<canvas/>');\n",
       "    canvas.addClass('mpl-canvas');\n",
       "    canvas.attr('style', \"left: 0; top: 0; z-index: 0; outline: 0\")\n",
       "\n",
       "    this.canvas = canvas[0];\n",
       "    this.context = canvas[0].getContext(\"2d\");\n",
       "\n",
       "    var backingStore = this.context.backingStorePixelRatio ||\n",
       "\tthis.context.webkitBackingStorePixelRatio ||\n",
       "\tthis.context.mozBackingStorePixelRatio ||\n",
       "\tthis.context.msBackingStorePixelRatio ||\n",
       "\tthis.context.oBackingStorePixelRatio ||\n",
       "\tthis.context.backingStorePixelRatio || 1;\n",
       "\n",
       "    mpl.ratio = (window.devicePixelRatio || 1) / backingStore;\n",
       "\n",
       "    var rubberband = $('<canvas/>');\n",
       "    rubberband.attr('style', \"position: absolute; left: 0; top: 0; z-index: 1;\")\n",
       "\n",
       "    var pass_mouse_events = true;\n",
       "\n",
       "    canvas_div.resizable({\n",
       "        start: function(event, ui) {\n",
       "            pass_mouse_events = false;\n",
       "        },\n",
       "        resize: function(event, ui) {\n",
       "            fig.request_resize(ui.size.width, ui.size.height);\n",
       "        },\n",
       "        stop: function(event, ui) {\n",
       "            pass_mouse_events = true;\n",
       "            fig.request_resize(ui.size.width, ui.size.height);\n",
       "        },\n",
       "    });\n",
       "\n",
       "    function mouse_event_fn(event) {\n",
       "        if (pass_mouse_events)\n",
       "            return fig.mouse_event(event, event['data']);\n",
       "    }\n",
       "\n",
       "    rubberband.mousedown('button_press', mouse_event_fn);\n",
       "    rubberband.mouseup('button_release', mouse_event_fn);\n",
       "    // Throttle sequential mouse events to 1 every 20ms.\n",
       "    rubberband.mousemove('motion_notify', mouse_event_fn);\n",
       "\n",
       "    rubberband.mouseenter('figure_enter', mouse_event_fn);\n",
       "    rubberband.mouseleave('figure_leave', mouse_event_fn);\n",
       "\n",
       "    canvas_div.on(\"wheel\", function (event) {\n",
       "        event = event.originalEvent;\n",
       "        event['data'] = 'scroll'\n",
       "        if (event.deltaY < 0) {\n",
       "            event.step = 1;\n",
       "        } else {\n",
       "            event.step = -1;\n",
       "        }\n",
       "        mouse_event_fn(event);\n",
       "    });\n",
       "\n",
       "    canvas_div.append(canvas);\n",
       "    canvas_div.append(rubberband);\n",
       "\n",
       "    this.rubberband = rubberband;\n",
       "    this.rubberband_canvas = rubberband[0];\n",
       "    this.rubberband_context = rubberband[0].getContext(\"2d\");\n",
       "    this.rubberband_context.strokeStyle = \"#000000\";\n",
       "\n",
       "    this._resize_canvas = function(width, height) {\n",
       "        // Keep the size of the canvas, canvas container, and rubber band\n",
       "        // canvas in synch.\n",
       "        canvas_div.css('width', width)\n",
       "        canvas_div.css('height', height)\n",
       "\n",
       "        canvas.attr('width', width * mpl.ratio);\n",
       "        canvas.attr('height', height * mpl.ratio);\n",
       "        canvas.attr('style', 'width: ' + width + 'px; height: ' + height + 'px;');\n",
       "\n",
       "        rubberband.attr('width', width);\n",
       "        rubberband.attr('height', height);\n",
       "    }\n",
       "\n",
       "    // Set the figure to an initial 600x600px, this will subsequently be updated\n",
       "    // upon first draw.\n",
       "    this._resize_canvas(600, 600);\n",
       "\n",
       "    // Disable right mouse context menu.\n",
       "    $(this.rubberband_canvas).bind(\"contextmenu\",function(e){\n",
       "        return false;\n",
       "    });\n",
       "\n",
       "    function set_focus () {\n",
       "        canvas.focus();\n",
       "        canvas_div.focus();\n",
       "    }\n",
       "\n",
       "    window.setTimeout(set_focus, 100);\n",
       "}\n",
       "\n",
       "mpl.figure.prototype._init_toolbar = function() {\n",
       "    var fig = this;\n",
       "\n",
       "    var nav_element = $('<div/>')\n",
       "    nav_element.attr('style', 'width: 100%');\n",
       "    this.root.append(nav_element);\n",
       "\n",
       "    // Define a callback function for later on.\n",
       "    function toolbar_event(event) {\n",
       "        return fig.toolbar_button_onclick(event['data']);\n",
       "    }\n",
       "    function toolbar_mouse_event(event) {\n",
       "        return fig.toolbar_button_onmouseover(event['data']);\n",
       "    }\n",
       "\n",
       "    for(var toolbar_ind in mpl.toolbar_items) {\n",
       "        var name = mpl.toolbar_items[toolbar_ind][0];\n",
       "        var tooltip = mpl.toolbar_items[toolbar_ind][1];\n",
       "        var image = mpl.toolbar_items[toolbar_ind][2];\n",
       "        var method_name = mpl.toolbar_items[toolbar_ind][3];\n",
       "\n",
       "        if (!name) {\n",
       "            // put a spacer in here.\n",
       "            continue;\n",
       "        }\n",
       "        var button = $('<button/>');\n",
       "        button.addClass('ui-button ui-widget ui-state-default ui-corner-all ' +\n",
       "                        'ui-button-icon-only');\n",
       "        button.attr('role', 'button');\n",
       "        button.attr('aria-disabled', 'false');\n",
       "        button.click(method_name, toolbar_event);\n",
       "        button.mouseover(tooltip, toolbar_mouse_event);\n",
       "\n",
       "        var icon_img = $('<span/>');\n",
       "        icon_img.addClass('ui-button-icon-primary ui-icon');\n",
       "        icon_img.addClass(image);\n",
       "        icon_img.addClass('ui-corner-all');\n",
       "\n",
       "        var tooltip_span = $('<span/>');\n",
       "        tooltip_span.addClass('ui-button-text');\n",
       "        tooltip_span.html(tooltip);\n",
       "\n",
       "        button.append(icon_img);\n",
       "        button.append(tooltip_span);\n",
       "\n",
       "        nav_element.append(button);\n",
       "    }\n",
       "\n",
       "    var fmt_picker_span = $('<span/>');\n",
       "\n",
       "    var fmt_picker = $('<select/>');\n",
       "    fmt_picker.addClass('mpl-toolbar-option ui-widget ui-widget-content');\n",
       "    fmt_picker_span.append(fmt_picker);\n",
       "    nav_element.append(fmt_picker_span);\n",
       "    this.format_dropdown = fmt_picker[0];\n",
       "\n",
       "    for (var ind in mpl.extensions) {\n",
       "        var fmt = mpl.extensions[ind];\n",
       "        var option = $(\n",
       "            '<option/>', {selected: fmt === mpl.default_extension}).html(fmt);\n",
       "        fmt_picker.append(option)\n",
       "    }\n",
       "\n",
       "    // Add hover states to the ui-buttons\n",
       "    $( \".ui-button\" ).hover(\n",
       "        function() { $(this).addClass(\"ui-state-hover\");},\n",
       "        function() { $(this).removeClass(\"ui-state-hover\");}\n",
       "    );\n",
       "\n",
       "    var status_bar = $('<span class=\"mpl-message\"/>');\n",
       "    nav_element.append(status_bar);\n",
       "    this.message = status_bar[0];\n",
       "}\n",
       "\n",
       "mpl.figure.prototype.request_resize = function(x_pixels, y_pixels) {\n",
       "    // Request matplotlib to resize the figure. Matplotlib will then trigger a resize in the client,\n",
       "    // which will in turn request a refresh of the image.\n",
       "    this.send_message('resize', {'width': x_pixels, 'height': y_pixels});\n",
       "}\n",
       "\n",
       "mpl.figure.prototype.send_message = function(type, properties) {\n",
       "    properties['type'] = type;\n",
       "    properties['figure_id'] = this.id;\n",
       "    this.ws.send(JSON.stringify(properties));\n",
       "}\n",
       "\n",
       "mpl.figure.prototype.send_draw_message = function() {\n",
       "    if (!this.waiting) {\n",
       "        this.waiting = true;\n",
       "        this.ws.send(JSON.stringify({type: \"draw\", figure_id: this.id}));\n",
       "    }\n",
       "}\n",
       "\n",
       "\n",
       "mpl.figure.prototype.handle_save = function(fig, msg) {\n",
       "    var format_dropdown = fig.format_dropdown;\n",
       "    var format = format_dropdown.options[format_dropdown.selectedIndex].value;\n",
       "    fig.ondownload(fig, format);\n",
       "}\n",
       "\n",
       "\n",
       "mpl.figure.prototype.handle_resize = function(fig, msg) {\n",
       "    var size = msg['size'];\n",
       "    if (size[0] != fig.canvas.width || size[1] != fig.canvas.height) {\n",
       "        fig._resize_canvas(size[0], size[1]);\n",
       "        fig.send_message(\"refresh\", {});\n",
       "    };\n",
       "}\n",
       "\n",
       "mpl.figure.prototype.handle_rubberband = function(fig, msg) {\n",
       "    var x0 = msg['x0'] / mpl.ratio;\n",
       "    var y0 = (fig.canvas.height - msg['y0']) / mpl.ratio;\n",
       "    var x1 = msg['x1'] / mpl.ratio;\n",
       "    var y1 = (fig.canvas.height - msg['y1']) / mpl.ratio;\n",
       "    x0 = Math.floor(x0) + 0.5;\n",
       "    y0 = Math.floor(y0) + 0.5;\n",
       "    x1 = Math.floor(x1) + 0.5;\n",
       "    y1 = Math.floor(y1) + 0.5;\n",
       "    var min_x = Math.min(x0, x1);\n",
       "    var min_y = Math.min(y0, y1);\n",
       "    var width = Math.abs(x1 - x0);\n",
       "    var height = Math.abs(y1 - y0);\n",
       "\n",
       "    fig.rubberband_context.clearRect(\n",
       "        0, 0, fig.canvas.width, fig.canvas.height);\n",
       "\n",
       "    fig.rubberband_context.strokeRect(min_x, min_y, width, height);\n",
       "}\n",
       "\n",
       "mpl.figure.prototype.handle_figure_label = function(fig, msg) {\n",
       "    // Updates the figure title.\n",
       "    fig.header.textContent = msg['label'];\n",
       "}\n",
       "\n",
       "mpl.figure.prototype.handle_cursor = function(fig, msg) {\n",
       "    var cursor = msg['cursor'];\n",
       "    switch(cursor)\n",
       "    {\n",
       "    case 0:\n",
       "        cursor = 'pointer';\n",
       "        break;\n",
       "    case 1:\n",
       "        cursor = 'default';\n",
       "        break;\n",
       "    case 2:\n",
       "        cursor = 'crosshair';\n",
       "        break;\n",
       "    case 3:\n",
       "        cursor = 'move';\n",
       "        break;\n",
       "    }\n",
       "    fig.rubberband_canvas.style.cursor = cursor;\n",
       "}\n",
       "\n",
       "mpl.figure.prototype.handle_message = function(fig, msg) {\n",
       "    fig.message.textContent = msg['message'];\n",
       "}\n",
       "\n",
       "mpl.figure.prototype.handle_draw = function(fig, msg) {\n",
       "    // Request the server to send over a new figure.\n",
       "    fig.send_draw_message();\n",
       "}\n",
       "\n",
       "mpl.figure.prototype.handle_image_mode = function(fig, msg) {\n",
       "    fig.image_mode = msg['mode'];\n",
       "}\n",
       "\n",
       "mpl.figure.prototype.updated_canvas_event = function() {\n",
       "    // Called whenever the canvas gets updated.\n",
       "    this.send_message(\"ack\", {});\n",
       "}\n",
       "\n",
       "// A function to construct a web socket function for onmessage handling.\n",
       "// Called in the figure constructor.\n",
       "mpl.figure.prototype._make_on_message_function = function(fig) {\n",
       "    return function socket_on_message(evt) {\n",
       "        if (evt.data instanceof Blob) {\n",
       "            /* FIXME: We get \"Resource interpreted as Image but\n",
       "             * transferred with MIME type text/plain:\" errors on\n",
       "             * Chrome.  But how to set the MIME type?  It doesn't seem\n",
       "             * to be part of the websocket stream */\n",
       "            evt.data.type = \"image/png\";\n",
       "\n",
       "            /* Free the memory for the previous frames */\n",
       "            if (fig.imageObj.src) {\n",
       "                (window.URL || window.webkitURL).revokeObjectURL(\n",
       "                    fig.imageObj.src);\n",
       "            }\n",
       "\n",
       "            fig.imageObj.src = (window.URL || window.webkitURL).createObjectURL(\n",
       "                evt.data);\n",
       "            fig.updated_canvas_event();\n",
       "            fig.waiting = false;\n",
       "            return;\n",
       "        }\n",
       "        else if (typeof evt.data === 'string' && evt.data.slice(0, 21) == \"data:image/png;base64\") {\n",
       "            fig.imageObj.src = evt.data;\n",
       "            fig.updated_canvas_event();\n",
       "            fig.waiting = false;\n",
       "            return;\n",
       "        }\n",
       "\n",
       "        var msg = JSON.parse(evt.data);\n",
       "        var msg_type = msg['type'];\n",
       "\n",
       "        // Call the  \"handle_{type}\" callback, which takes\n",
       "        // the figure and JSON message as its only arguments.\n",
       "        try {\n",
       "            var callback = fig[\"handle_\" + msg_type];\n",
       "        } catch (e) {\n",
       "            console.log(\"No handler for the '\" + msg_type + \"' message type: \", msg);\n",
       "            return;\n",
       "        }\n",
       "\n",
       "        if (callback) {\n",
       "            try {\n",
       "                // console.log(\"Handling '\" + msg_type + \"' message: \", msg);\n",
       "                callback(fig, msg);\n",
       "            } catch (e) {\n",
       "                console.log(\"Exception inside the 'handler_\" + msg_type + \"' callback:\", e, e.stack, msg);\n",
       "            }\n",
       "        }\n",
       "    };\n",
       "}\n",
       "\n",
       "// from http://stackoverflow.com/questions/1114465/getting-mouse-location-in-canvas\n",
       "mpl.findpos = function(e) {\n",
       "    //this section is from http://www.quirksmode.org/js/events_properties.html\n",
       "    var targ;\n",
       "    if (!e)\n",
       "        e = window.event;\n",
       "    if (e.target)\n",
       "        targ = e.target;\n",
       "    else if (e.srcElement)\n",
       "        targ = e.srcElement;\n",
       "    if (targ.nodeType == 3) // defeat Safari bug\n",
       "        targ = targ.parentNode;\n",
       "\n",
       "    // jQuery normalizes the pageX and pageY\n",
       "    // pageX,Y are the mouse positions relative to the document\n",
       "    // offset() returns the position of the element relative to the document\n",
       "    var x = e.pageX - $(targ).offset().left;\n",
       "    var y = e.pageY - $(targ).offset().top;\n",
       "\n",
       "    return {\"x\": x, \"y\": y};\n",
       "};\n",
       "\n",
       "/*\n",
       " * return a copy of an object with only non-object keys\n",
       " * we need this to avoid circular references\n",
       " * http://stackoverflow.com/a/24161582/3208463\n",
       " */\n",
       "function simpleKeys (original) {\n",
       "  return Object.keys(original).reduce(function (obj, key) {\n",
       "    if (typeof original[key] !== 'object')\n",
       "        obj[key] = original[key]\n",
       "    return obj;\n",
       "  }, {});\n",
       "}\n",
       "\n",
       "mpl.figure.prototype.mouse_event = function(event, name) {\n",
       "    var canvas_pos = mpl.findpos(event)\n",
       "\n",
       "    if (name === 'button_press')\n",
       "    {\n",
       "        this.canvas.focus();\n",
       "        this.canvas_div.focus();\n",
       "    }\n",
       "\n",
       "    var x = canvas_pos.x * mpl.ratio;\n",
       "    var y = canvas_pos.y * mpl.ratio;\n",
       "\n",
       "    this.send_message(name, {x: x, y: y, button: event.button,\n",
       "                             step: event.step,\n",
       "                             guiEvent: simpleKeys(event)});\n",
       "\n",
       "    /* This prevents the web browser from automatically changing to\n",
       "     * the text insertion cursor when the button is pressed.  We want\n",
       "     * to control all of the cursor setting manually through the\n",
       "     * 'cursor' event from matplotlib */\n",
       "    event.preventDefault();\n",
       "    return false;\n",
       "}\n",
       "\n",
       "mpl.figure.prototype._key_event_extra = function(event, name) {\n",
       "    // Handle any extra behaviour associated with a key event\n",
       "}\n",
       "\n",
       "mpl.figure.prototype.key_event = function(event, name) {\n",
       "\n",
       "    // Prevent repeat events\n",
       "    if (name == 'key_press')\n",
       "    {\n",
       "        if (event.which === this._key)\n",
       "            return;\n",
       "        else\n",
       "            this._key = event.which;\n",
       "    }\n",
       "    if (name == 'key_release')\n",
       "        this._key = null;\n",
       "\n",
       "    var value = '';\n",
       "    if (event.ctrlKey && event.which != 17)\n",
       "        value += \"ctrl+\";\n",
       "    if (event.altKey && event.which != 18)\n",
       "        value += \"alt+\";\n",
       "    if (event.shiftKey && event.which != 16)\n",
       "        value += \"shift+\";\n",
       "\n",
       "    value += 'k';\n",
       "    value += event.which.toString();\n",
       "\n",
       "    this._key_event_extra(event, name);\n",
       "\n",
       "    this.send_message(name, {key: value,\n",
       "                             guiEvent: simpleKeys(event)});\n",
       "    return false;\n",
       "}\n",
       "\n",
       "mpl.figure.prototype.toolbar_button_onclick = function(name) {\n",
       "    if (name == 'download') {\n",
       "        this.handle_save(this, null);\n",
       "    } else {\n",
       "        this.send_message(\"toolbar_button\", {name: name});\n",
       "    }\n",
       "};\n",
       "\n",
       "mpl.figure.prototype.toolbar_button_onmouseover = function(tooltip) {\n",
       "    this.message.textContent = tooltip;\n",
       "};\n",
       "mpl.toolbar_items = [[\"Home\", \"Reset original view\", \"fa fa-home icon-home\", \"home\"], [\"Back\", \"Back to  previous view\", \"fa fa-arrow-left icon-arrow-left\", \"back\"], [\"Forward\", \"Forward to next view\", \"fa fa-arrow-right icon-arrow-right\", \"forward\"], [\"\", \"\", \"\", \"\"], [\"Pan\", \"Pan axes with left mouse, zoom with right\", \"fa fa-arrows icon-move\", \"pan\"], [\"Zoom\", \"Zoom to rectangle\", \"fa fa-square-o icon-check-empty\", \"zoom\"], [\"\", \"\", \"\", \"\"], [\"Download\", \"Download plot\", \"fa fa-floppy-o icon-save\", \"download\"]];\n",
       "\n",
       "mpl.extensions = [\"eps\", \"jpeg\", \"pdf\", \"png\", \"ps\", \"raw\", \"svg\", \"tif\"];\n",
       "\n",
       "mpl.default_extension = \"png\";var comm_websocket_adapter = function(comm) {\n",
       "    // Create a \"websocket\"-like object which calls the given IPython comm\n",
       "    // object with the appropriate methods. Currently this is a non binary\n",
       "    // socket, so there is still some room for performance tuning.\n",
       "    var ws = {};\n",
       "\n",
       "    ws.close = function() {\n",
       "        comm.close()\n",
       "    };\n",
       "    ws.send = function(m) {\n",
       "        //console.log('sending', m);\n",
       "        comm.send(m);\n",
       "    };\n",
       "    // Register the callback with on_msg.\n",
       "    comm.on_msg(function(msg) {\n",
       "        //console.log('receiving', msg['content']['data'], msg);\n",
       "        // Pass the mpl event to the overriden (by mpl) onmessage function.\n",
       "        ws.onmessage(msg['content']['data'])\n",
       "    });\n",
       "    return ws;\n",
       "}\n",
       "\n",
       "mpl.mpl_figure_comm = function(comm, msg) {\n",
       "    // This is the function which gets called when the mpl process\n",
       "    // starts-up an IPython Comm through the \"matplotlib\" channel.\n",
       "\n",
       "    var id = msg.content.data.id;\n",
       "    // Get hold of the div created by the display call when the Comm\n",
       "    // socket was opened in Python.\n",
       "    var element = $(\"#\" + id);\n",
       "    var ws_proxy = comm_websocket_adapter(comm)\n",
       "\n",
       "    function ondownload(figure, format) {\n",
       "        window.open(figure.imageObj.src);\n",
       "    }\n",
       "\n",
       "    var fig = new mpl.figure(id, ws_proxy,\n",
       "                           ondownload,\n",
       "                           element.get(0));\n",
       "\n",
       "    // Call onopen now - mpl needs it, as it is assuming we've passed it a real\n",
       "    // web socket which is closed, not our websocket->open comm proxy.\n",
       "    ws_proxy.onopen();\n",
       "\n",
       "    fig.parent_element = element.get(0);\n",
       "    fig.cell_info = mpl.find_output_cell(\"<div id='\" + id + \"'></div>\");\n",
       "    if (!fig.cell_info) {\n",
       "        console.error(\"Failed to find cell for figure\", id, fig);\n",
       "        return;\n",
       "    }\n",
       "\n",
       "    var output_index = fig.cell_info[2]\n",
       "    var cell = fig.cell_info[0];\n",
       "\n",
       "};\n",
       "\n",
       "mpl.figure.prototype.handle_close = function(fig, msg) {\n",
       "    var width = fig.canvas.width/mpl.ratio\n",
       "    fig.root.unbind('remove')\n",
       "\n",
       "    // Update the output cell to use the data from the current canvas.\n",
       "    fig.push_to_output();\n",
       "    var dataURL = fig.canvas.toDataURL();\n",
       "    // Re-enable the keyboard manager in IPython - without this line, in FF,\n",
       "    // the notebook keyboard shortcuts fail.\n",
       "    IPython.keyboard_manager.enable()\n",
       "    $(fig.parent_element).html('<img src=\"' + dataURL + '\" width=\"' + width + '\">');\n",
       "    fig.close_ws(fig, msg);\n",
       "}\n",
       "\n",
       "mpl.figure.prototype.close_ws = function(fig, msg){\n",
       "    fig.send_message('closing', msg);\n",
       "    // fig.ws.close()\n",
       "}\n",
       "\n",
       "mpl.figure.prototype.push_to_output = function(remove_interactive) {\n",
       "    // Turn the data on the canvas into data in the output cell.\n",
       "    var width = this.canvas.width/mpl.ratio\n",
       "    var dataURL = this.canvas.toDataURL();\n",
       "    this.cell_info[1]['text/html'] = '<img src=\"' + dataURL + '\" width=\"' + width + '\">';\n",
       "}\n",
       "\n",
       "mpl.figure.prototype.updated_canvas_event = function() {\n",
       "    // Tell IPython that the notebook contents must change.\n",
       "    IPython.notebook.set_dirty(true);\n",
       "    this.send_message(\"ack\", {});\n",
       "    var fig = this;\n",
       "    // Wait a second, then push the new image to the DOM so\n",
       "    // that it is saved nicely (might be nice to debounce this).\n",
       "    setTimeout(function () { fig.push_to_output() }, 1000);\n",
       "}\n",
       "\n",
       "mpl.figure.prototype._init_toolbar = function() {\n",
       "    var fig = this;\n",
       "\n",
       "    var nav_element = $('<div/>')\n",
       "    nav_element.attr('style', 'width: 100%');\n",
       "    this.root.append(nav_element);\n",
       "\n",
       "    // Define a callback function for later on.\n",
       "    function toolbar_event(event) {\n",
       "        return fig.toolbar_button_onclick(event['data']);\n",
       "    }\n",
       "    function toolbar_mouse_event(event) {\n",
       "        return fig.toolbar_button_onmouseover(event['data']);\n",
       "    }\n",
       "\n",
       "    for(var toolbar_ind in mpl.toolbar_items){\n",
       "        var name = mpl.toolbar_items[toolbar_ind][0];\n",
       "        var tooltip = mpl.toolbar_items[toolbar_ind][1];\n",
       "        var image = mpl.toolbar_items[toolbar_ind][2];\n",
       "        var method_name = mpl.toolbar_items[toolbar_ind][3];\n",
       "\n",
       "        if (!name) { continue; };\n",
       "\n",
       "        var button = $('<button class=\"btn btn-default\" href=\"#\" title=\"' + name + '\"><i class=\"fa ' + image + ' fa-lg\"></i></button>');\n",
       "        button.click(method_name, toolbar_event);\n",
       "        button.mouseover(tooltip, toolbar_mouse_event);\n",
       "        nav_element.append(button);\n",
       "    }\n",
       "\n",
       "    // Add the status bar.\n",
       "    var status_bar = $('<span class=\"mpl-message\" style=\"text-align:right; float: right;\"/>');\n",
       "    nav_element.append(status_bar);\n",
       "    this.message = status_bar[0];\n",
       "\n",
       "    // Add the close button to the window.\n",
       "    var buttongrp = $('<div class=\"btn-group inline pull-right\"></div>');\n",
       "    var button = $('<button class=\"btn btn-mini btn-primary\" href=\"#\" title=\"Stop Interaction\"><i class=\"fa fa-power-off icon-remove icon-large\"></i></button>');\n",
       "    button.click(function (evt) { fig.handle_close(fig, {}); } );\n",
       "    button.mouseover('Stop Interaction', toolbar_mouse_event);\n",
       "    buttongrp.append(button);\n",
       "    var titlebar = this.root.find($('.ui-dialog-titlebar'));\n",
       "    titlebar.prepend(buttongrp);\n",
       "}\n",
       "\n",
       "mpl.figure.prototype._root_extra_style = function(el){\n",
       "    var fig = this\n",
       "    el.on(\"remove\", function(){\n",
       "\tfig.close_ws(fig, {});\n",
       "    });\n",
       "}\n",
       "\n",
       "mpl.figure.prototype._canvas_extra_style = function(el){\n",
       "    // this is important to make the div 'focusable\n",
       "    el.attr('tabindex', 0)\n",
       "    // reach out to IPython and tell the keyboard manager to turn it's self\n",
       "    // off when our div gets focus\n",
       "\n",
       "    // location in version 3\n",
       "    if (IPython.notebook.keyboard_manager) {\n",
       "        IPython.notebook.keyboard_manager.register_events(el);\n",
       "    }\n",
       "    else {\n",
       "        // location in version 2\n",
       "        IPython.keyboard_manager.register_events(el);\n",
       "    }\n",
       "\n",
       "}\n",
       "\n",
       "mpl.figure.prototype._key_event_extra = function(event, name) {\n",
       "    var manager = IPython.notebook.keyboard_manager;\n",
       "    if (!manager)\n",
       "        manager = IPython.keyboard_manager;\n",
       "\n",
       "    // Check for shift+enter\n",
       "    if (event.shiftKey && event.which == 13) {\n",
       "        this.canvas_div.blur();\n",
       "        // select the cell after this one\n",
       "        var index = IPython.notebook.find_cell_index(this.cell_info[0]);\n",
       "        IPython.notebook.select(index + 1);\n",
       "    }\n",
       "}\n",
       "\n",
       "mpl.figure.prototype.handle_save = function(fig, msg) {\n",
       "    fig.ondownload(fig, null);\n",
       "}\n",
       "\n",
       "\n",
       "mpl.find_output_cell = function(html_output) {\n",
       "    // Return the cell and output element which can be found *uniquely* in the notebook.\n",
       "    // Note - this is a bit hacky, but it is done because the \"notebook_saving.Notebook\"\n",
       "    // IPython event is triggered only after the cells have been serialised, which for\n",
       "    // our purposes (turning an active figure into a static one), is too late.\n",
       "    var cells = IPython.notebook.get_cells();\n",
       "    var ncells = cells.length;\n",
       "    for (var i=0; i<ncells; i++) {\n",
       "        var cell = cells[i];\n",
       "        if (cell.cell_type === 'code'){\n",
       "            for (var j=0; j<cell.output_area.outputs.length; j++) {\n",
       "                var data = cell.output_area.outputs[j];\n",
       "                if (data.data) {\n",
       "                    // IPython >= 3 moved mimebundle to data attribute of output\n",
       "                    data = data.data;\n",
       "                }\n",
       "                if (data['text/html'] == html_output) {\n",
       "                    return [cell, data, j];\n",
       "                }\n",
       "            }\n",
       "        }\n",
       "    }\n",
       "}\n",
       "\n",
       "// Register the function which deals with the matplotlib target/channel.\n",
       "// The kernel may be null if the page has been refreshed.\n",
       "if (IPython.notebook.kernel != null) {\n",
       "    IPython.notebook.kernel.comm_manager.register_target('matplotlib', mpl.mpl_figure_comm);\n",
       "}\n"
      ],
      "text/plain": [
       "<IPython.core.display.Javascript object>"
      ]
     },
     "metadata": {},
     "output_type": "display_data"
    },
    {
     "data": {
      "text/html": [
       "<img src=\"data:image/png;base64,iVBORw0KGgoAAAANSUhEUgAABkAAAASwCAYAAACjAYaXAAAgAElEQVR4XuzdCfx9Z30X+O/NHwgQSIGQsAUwrGFritA6ajsdt+lYO1ULUVvt1Iq1LmMVq+OuHavWpbaOW6cLtm615o+2tlVnXFptq9UWWtY0FEIgBAgJIRAStpDceX3oPc7J6b2/e+79nXt/53fO+3m9eAH/31me5/2cuz2fc55nUQoBAgQIECBAgAABAgQIECBAgAABAgQIECBAYGICi4m1R3MIECBAgAABAgQIECBAgAABAgQIECBAgAABAiUAcREQIECAAAECBAgQIECAAAECBAgQIECAAAECkxMQgEyuSzWIAAECBAgQIECAAAECBAgQIECAAAECBAgQEIC4BggQIECAAAECBAgQIECAAAECBAgQIECAAIHJCQhAJtelGkSAAAECBAgQIECAAAECBAgQIECAAAECBAgIQFwDBAgQIECAAAECBAgQIECAAAECBAgQIECAwOQEBCCT61INIkCAAAECBAgQIECAAAECBAgQIECAAAECBAQgrgECBAgQIECAAAECBAgQIECAAAECBAgQIEBgcgICkMl1qQYRIECAAAECBAgQIECAAAECBAgQIECAAAECAhDXAAECBAgQIECAAAECBAgQIECAAAECBAgQIDA5AQHI5LpUgwgQIECAAAECBAgQIECAAAECBAgQIECAAAEBiGuAAAECBAgQIECAAAECBAgQIECAAAECBAgQmJyAAGRyXapBBAgQIECAAAECBAgQIECAAAECBAgQIECAgADENUCAAAECBAgQIECAAAECBAgQIECAAAECBAhMTkAAMrku1SACBAgQIECAAAECBAgQIECAAAECBAgQIEBAAOIaIECAAAECBAgQIECAAAECBAgQIECAAAECBCYnIACZXJdqEAECBAgQIECAAAECBAgQIECAAAECBAgQICAAcQ0QIECAAAECBAgQIECAAAECBAgQIECAAAECkxMQgEyuSzWIAAECBAgQIECAAAECBAgQIECAAAECBAgQEIC4BggQIECAAAECBAgQIECAAAECBAgQIECAAIHJCQhAJtelGkSAAAECBAgQIECAAAECBAgQIECAAAECBAgIQFwDBAgQIECAAAECBAgQIECAAAECBAgQIECAwOQEBCCT61INIkCAAAECBAgQIECAAAECBAgQIECAAAECBAQgrgECBAgQIECAAAECBAgQIECAAAECBAgQIEBgcgICkMl1qQYRIECAAAECBAgQIECAAAECBAgQIECAAAECAhDXAAECBAgQIECAAAECBAgQIECAAAECBAgQIDA5AQHI5LpUgwgQIECAAAECBAgQIECAAAECBAgQIECAAAEBiGuAAAECBAgQIECAAAECBAgQIECAAAECBAgQmJyAAGRyXapBBAgQIECAAAECBAgQIECAAAECBAgQIECAgADENUCAAAECBAgQIECAAAECBAgQIECAAAECBAhMTkAAMrku1SACBAgQIECAAAECBAgQIECAAAECBAgQIEBAAOIaIECAAAECBAgQIECAAAECBAgQIECAAAECBCYnIACZXJdqEAECBAgQIECAAAECBAgQIECAAAECBAgQICAAcQ0QIECAAAECBAgQIECAAAECBAgQIECAAAECkxMQgEyuSzWIAAECBAgQIECAAAECBAgQIECAAAECBAgQEIC4BggQIECAAAECBAgQIECAAAECBAgQIECAAIHJCQhAJtelGkSAAAECBAgQIECAAAECBAgQIECAAAECBAgIQFwDBAgQIECAAAECBAgQIECAAAECBAgQIECAwOQEBCCT61INIkCAAAECBAgQIECAAAECBAgQIECAAAECBAQgrgECBAgQIECAAAECBAgQIECAAAECBAgQIEBgcgICkMl1qQYRIECAAAECBAgQIECAAAECBAgQIECAAAECAhDXAAECBAgQIECAAAECBAgQIECAAAECBAgQIDA5AQHI5LpUgwgQIECAAAECBAgQIECAAAECBAgQIECAAAEBiGuAAAECBAgQIECAAAECBAgQIECAAAECBAgQmJyAAGRyXapBBAgQIECAAAECBAgQIECAAAECBAgQIECAgADENUCAAAECBAgQIECAAAECBAgQIECAAAECBAhMTkAAMrku1SACBAgQIECAAAECBAgQIECAAAECBAgQIEBAAOIaIECAAAECBAgQIECAAAECBAgQIECAAAECBCYnIACZXJdqEAECBAgQIECAAAECBAgQIECAAAECBAgQICAAcQ0QIECAAAECBAgQIECAAAECBAgQIECAAAECkxMQgEyuSzWIAAECBAgQIECAAAECBAgQIECAAAECBAgQEIC4BggQIECAAAECBAgQIECAAAECBAgQIECAAIHJCQhAJtelGkSAAAECBAgQIECAAAECBAgQIECAAAECBAgIQFwDBAgQIECAAAECBAgQIECAAAECBAgQIECAwOQEBCCT61INIkCAAAECBAgQIECAAAECBAgQIECAAAECBAQgrgECBAgQIECAAAECBAgQIECAAAECBAgQIEBgcgICkMl1qQYRIECAAAECBAgQIECAAAECBAgQIECAAAECAhDXAAECBAgQIECAAAECBAgQIECAAAECBAgQIDA5AQHI5LpUgwgQIECAAAECBAgQIECAAAECBAgQIECAAAEBiGuAAAECBAgQIECAAAECBAgQIECAAAECBAgQmJyAAGRyXapBBAgQIECAAAECBAgQIECAAAECBAgQIECAgADENUCAAAECBAgQIECAAAECBAgQIECAAAECBAhMTkAAMrku1SACBAgQIECAAAECBAgQIECAAAECBAgQIEBAAOIaIECAAAECBAgQIECAAAECBAgQIECAAAECBCYnIACZXJdqEAECBAgQIECAAAECBAgQIECAAAECBAgQICAAcQ0QIECAAAECBAgQIECAAAECBAgQIECAAAECkxMQgEyuSzWIAAECBAgQIECAAAECBAgQIECAAAECBAgQEIC4BggQIECAAAECBAgQIECAAAECBAgQIECAAIHJCQhAJtelGkSAAAECBAgQIECAAAECBAgQIECAAAECBAgIQFwDBAgQIECAAAECBAgQIECAAAECBAgQIECAwOQEBCCT61INIkCAAAECBAgQIECAAAECBAgQIECAAAECBAQgrgECBAgQIECAAAECBAgQIECAAAECBAgQIEBgcgICkMl1qQYRIECAAAECBAgQIECAAAECBAgQIECAAAECAhDXAAECBAgQIECAAAECBAgQIECAAAECBAgQIDA5AQHI5LpUgwgQIECAAAECBAgQIECAAAECBAgQIECAAAEBiGuAAAECBAgQIECAAAECBAgQIECAAAECBAgQmJyAAGRyXapBBAgQIECAAAECBAgQIECAAAECBAgQIECAgADENUCAAAECBAgQIECAAAECBAgQIECAAAECBAhMTkAAMrku1SACBAgQIECAAAECBAgQIECAAAECBAgQIEBAAOIaIECAAAECBAgQIECAAAECBAgQIECAAAECBCYnIACZXJdqEAECBAgQIECAAAECBAgQIECAAAECBAgQICAAcQ0QIECAAAECBAgQIECAAAECBAgQIECAAAECkxMQgEyuSzWIAAECBAgQIECAAAECBAgQIECAAAECBAgQEIC4BggQIECAAAECBAgQIECAAAECBAgQIECAAIHJCQhAJtelGkSAAAECBAgQIECAAAECBAgQIECAAAECBAgIQFwDBAgQIECAAAECBAgQIECAAAECBAgQIECAwOQEBCCT61INIkCAAAECBAgQIECAAAECBAgQIECAAAECBAQgrgECBAgQIECAAAECBAgQIECAAAECBAgQIEBgcgICkMl1qQYRIECAAAECBAgQIECAAAECBAgQIECAAAECAhDXAAECBAgQIECAAAECBAgQIECAAAECBAgQIDA5AQHI5LpUgwgQIECAAAECBAgQIECAAAECBAgQIECAAAEBiGuAAAECBAgQIECAAAECBAgQIECAAAECBAgQmJyAAGRyXapBBAgQIECAAAECBAgQIECAAAECBAgQIECAgADENUCAAAECBAgQIECAAAECBAgQIECAAAECBAhMTkAAMrku1SACBAgQIECAAAECBAgQIECAAAECBAgQIEBAAOIaIECAAIGpC3xDVf35ViOvqap3Tb3Rrfb9T1X1o63//9VV9T0b2r/LtlMnnPt1M9b+/VVV9VVV9cuq6ilVdXlVNd9n31hVnzPWip+zev3HqvrCVZ3fXVW/5IT677LtOWNQXQJbBZatLf5BVf3OrXvY4DQCvqecRm96++b19t2tZuU7Qj6TFAIECBAg8BABAYgLggABAgSOIZDBs1u2nOjTVfXJqvpIVX1gtf1bq+q/VtWPV9VH96zo3Aeydxks2GXbPbvj3Ow29+tmbB31yKrK4OJvOaFipw1Autf/ulNlsPPe1fvUzVX1+qr6war6T2MDO2V9dgk1dtn2lNU6V7t330Oayn9TVf2pPVvyc1V17Zp9X1JVb9nzmHY7ncBcA5DcSPLME+geXH2nu2/1ne49VZXr96dX75fv25Pd95Q94Sa6mwBkoh2rWQQIEBhaQAAytKjjESBAgMA6gT4ByElyn6iqf11Vf2uPgcazHsg+6/PvMliwy7Zjv9JP25az7rex+x67fn+nqv7AlpMeIwDZVIWEtV9TVT95bJgDnW+XUGOXbQ9U3VEedlMAcuvqiZr2wHmfBnxeVf23DRsKQPoIHmYbAcjurjH7z1X17VX1fVWVG2D6ltN+tvc9j+3Oh4AA5Hz0k1oSIEDgzAUEIGfeBSpAgACBWQicNgBpI/27qvq9VfXOnnJnPZB91uffZbBgl2178p/ZZqdty1n325nBjfDEV6+mrbuwqtuHVtPa/cTqSYxmAPJTVbXvXcU5dJ8nQE7iyR3PX1lV3ztCw12rtEuoscu2u9bjPG+/KQBJm35NVf3Ijo07KQQUgOyIOeDmApDTYb599Z2u7+vhtJ/tp6utvccmIAAZW4+oDwECBEYqIAAZaceoFgECBCYm0A1A3ltVn99pYz6TMp//46rqqqr63Kr6FVX1y6vqks62mSbr+qpKGLKtnPVA9lmff5fBgl223eZ+1n8/bVvOut/O2m9M5//9VfV3WxX6TVX1Lw9Qwe41k7vtf9ua8+R96rlV9b9W1VdU1cNb2ySEyXvXmw5Qv2MecpdQY5dtj9mGsz5X9z3k/ta1sutaEbnG3l9VV6wa1T5W/kkAcna9LQD5BfsvqKrbOt1w2eo73ROq6rrV97msLZR/b5eEx5kW7q/26MbTfrb3OIVNzpGAAOQcdZaqEiBA4CwFBCBnqe/cBAgQmI9ANwDZtqhuW+Y5VfWHV3cINneA5++ZFuuLqurHRs54ngbSpzSwMKW2jPwSP3j1XlNVv6s18JvBswwAD12610zW9ci/nVReVlX/tqoywNeUH6qqLx26ckc+nlDj9ODd9/6sFdNcF1lH5klV9bGep0no9/2t10DC/y9u7SsA6Ql5gM0EIL+Aes3qSb1txI+vqq+tqj/aCvSaff6Pqvrr2w7g7wQIECBAgACBXQUEILuK2Z4AAQIE9hE4TQDSnO9XreaKztMhTckdsRn4uWufSh1pHwHIkaA7pxGAnI37Ic6aQOFLVgfOFFdPO8RJ1kyB1ScASVXyNNoNrTo9UFVPrKoPH6iexzisAOT0yt33/t9RVd9VVY9cHTr//5/0PE3Cj4QgKXk9ZBq4r2rtKwDpCXmAzQQgv4DaNwBpuiALqL+2ql7eee/Md70fP0A/OSQBAgQIECAwYwEByIw7X9MJECBwRIEhApBU93Oq6r9W1aWtumde9D94xLbseioByK5iw2wvABnGcQxH+dHWkxi7PD22a933eQIk58j36YSxuaO/KZke64d3rcCItheAnL4zuu/9uSayRsxvWR06Tw7lKcZtJdNeJfh7xGrDBG4JBAUg2+SO83cByC847xqAZJ/HVtXPVFWe9G1Kpg98aVVlWiyFAAECBAgQIDCIgABkEEYHIUCAAIEtAkMFIDnNH6qqv9k63yerKoskf3DgXsi6Iy9ePWGSp04y7U7m97+nqm6tqrdV1c09znnoACR1fGFVPWVVx3edYhHmbaHBY1bzfD99NeXPB6rqxqr6qapqDwL1YDn4JtvacvAKrOY8T//k+sng5R1VdUtV/ZfVtTRkHXIX7bWrpyM+XlVZZyeD2GfxdNSjVtfJM1ZPQqQ+aXsGuvK62bUcazB+3wAk7flXnSmJsm7Jt+3Y0GetXsu5MzrrjHx6dad/rpkEv32nSzrptBlwzB3W6ZtHrwbWf371Gm7vdyzzHYn22vz5q/D8yVWV97C4Zgqq91RVFmC+6UDvX+sCkDQgT3Ck5EmhvJcmPDup/IGqStCfkqeK0o5vHyAAyZSSWa8m69lcWVUPW71O45H39NMMQOd4ee/LsbOuV8519+p6+8mqunOvnty8Uz6vs15YBtLzWZj+zWdhnuL66MDn6h7upAAk7c5aZnltp17pv7ye8/rKd5fzXOKb96qm7BOAZN+EHa/rrPWWqeKa18mQRrl55kWrz8oE1vlel+sj3x/fsPo+M8R3mRdUVaZHfGpV5fMva6P89Jo1UoZqW9YI+h+rKt+1830j19k7Vk/SZLrY05ShP8/bdTmr9+amDmd9/tP0i30JECBAYEcBAciOYDYnQIAAgb0EhgxA8gM2A1cZYGnKqzuhSLuSuwYQGSD746s1B/Lj9aSSQZz/t6r+dmcAsdvevmj/Z1Wlvu3SHmRoT8nz1VX19asf8+3ts0B8BpyasksQsGnbDBR8Y1V9+WoAsdue3JWfun93z4bue8dsn7Z0B2X6VGndVEe7XjfNeTJYkOvx962CuXXnz+Bcpv74szsMiGwyyx3lf7KqMuDSLRnAzNRMmVc9r5lDl+dV1V9c3Z0eh3XlnVX1rVX1f68Gotdts8/rZ4gnQ04TgPzjqvrtrcb86ar6y1vAM2j1P6+eCPi1q8GyTbtkzZMMCP6lVZC0a19mjZIsMJw6ruubBAFNv+Ra2yUA2WXbQ7722yax/brV6/DZW7DynvkfVtdk1tYYqqwLQP6fVTjZTOXYZ82D/1ZVn7eq1Hes1k/4nlMEIJlCLu89eZKkvXZNu90ZEE7Ikmumb4CQEDafEf/LKsg7yTEBy19prWuyzbz7ntB8Vua3bNYIy38S6nVLXjffuWpvpg07RFl3TSfw/mOr62/dlH255uKbayQD5JvKf14FKPl7BrLznSRB0i7lX1TVb17tkM+EhDF5vzxtGSoAST2yPk6ekGrKv2xN+datZ5/vAe198lrLU1eZQi5h1KbPpuyT73R/t6r+rz2nMPz1q9dMpqTrltjn+2K+X755FVYkDGvKuu9/zd82tTnXWV7LWVOl/Z242e++1ft6PotOus7WXQtDfZ53jz30e/Oui6APff7Tvo7sT4AAAQJHEhCAHAnaaQgQIDBzgSEDkFB+U1X9iZZpBq0ykLiu7DKQnbtHc6zUd5eSH8sZgGnKPgO42bdPAJIpU/7RavBqXR2HDkBy135+tOeu420lgxYZaMiTMieVQw6CnmUAkidx8iRA3+snAxJf03MdgK7Z71mtJ5AAZFvJHeYZYM/TOocquf7/WlVlcKFPeUtV/YbV01Td7fd5/Zx1ANIdwEs4+S1bIP7CavCqj1ezTZ4ayADa39hhp+tWr+H2FF2bdm9ew5me6QtXG22zHVsAkoHAvGflzvJdykmDrrscp9l2XQCSadHyBGOeZEzJQOhnn3Dw3KGcJzKa8vlVlUHxfQOQ37u6Lk8aBG5XJ3euZ7H11POk8qtXIdKuTv+0ql7VY3B2XQCSwO6f9ZxG7OdW74GZSmzo0n1vznvhv149kbLtXHn6Ku/NmwLq/62q/kHrIAn1csNF35LXfI7dvC/3nXatz/GHDEDyvSbhYFMycJ9wbt13iV0DkDyxmyetdil5z/uNVfXGHXbK98D0z7aSJ/l+V1Ul2DxNAPLvVwFiew2VTef+idXruG+YOeTnebtOh3hv3iUAOcT5t/W3vxMgQIDASAQEICPpCNUgQIDAxAWGDkB+XVXlh3xT8qPuszZMY9I3AMnCtBnkac9FnePnx3MGjnP3aKazyHkyrUfuomw+R48ZgGQgJ4NYKRl4+dnVVB/536lTpqF4fMtml8GC7ra5Ozk/hJsnYfLkQqYvyd3BuasyU45kGp12+YGq+rItU8pMMQDJIPOPrLmjOgMcGezP3bvpn1/aum6aPkx/5s7uk0rXLHc2/+7VDvnfzfQaGejK3afd6zjXcAaEt4VT+7wV/ZnVE0LtfTNQnzplIClPVWX9nu6d0Blc/YLV9dve9zwGIN1BtldUVe68PqnkaZk8KdJ+H8u1kunC8lrLayv9mGAt7z3tkieM8hTNtpK7eDP41b07ONP35Vy5HnKOdliQO+az33kMQPKe/GNVlaCgXTJdX97f896VO7HzPp4nQ9L2TP2UcqwAJO8Br29VLv8/7+PrSu7czhNeKemz5nW9TwDSvd5yzLx35NwZJM/UYJnSKAOqjUm2Sagez1wvm0oG8dtPz+S6ymdVXuPZP3eq53Mk7wPdz4zvWz05ctK13H1PSFsyfVezhkrC5Awo3766wz9t6L7fZMA43x2GLu335n+4ulmguSEj74OpV3wz/Vz6unszQaYqypMJ66YFS1CV6Qybz/QMyMewb8lneJ7iaUpuULjYd+ct2w0ZgKSdmV60fd2lfzM1Vrfs8p0m++YabF8L6YtMxZgnaXL9J2hJCNl94jfTR+ZzPf7byjevnshtb5djp+9z/vR9ztEEMXl9fMXqSdBmn12eAPnfVzdPpH4psctTVbmGcq7/YTX9ZLs+r2l9ZzipPUN/njfnOtR7c98A5FDn33Zt+DsBAgQIjERAADKSjlANAgQITFxg6AAkUzwlkGh/jmVwuX03XUPaNwBpz7OefTN4m3/Lf68rqUOm+sgd+Pkx/UdaG+VHfNYlSUmA0Nztm/+fAd/8IF5XMm9z/tMu7UGGDIpmMDklU+5kYKx7rFhnn6bsMljQ3TZ1STvzQz6OueO2PY1C5s/OAEsGcdsDtBnQz/Qem8ohA5C4xz8DALm7uCmZjiTTTq0rCScycNYufa+b7JPBmwxotqehymBlpqXI1Drtkus0U2zk2mlK5oLPFDdZ/LWPWQZmsjByBnIzuJUnL7rXTZ6uyDXSng5tn3UpTqjSZ/6U9STSxvZrMe55AqK9tkH+njtq/95qLvzmuLmbPQPtGShsSvv1k3/LAOkvW/0xg1Hdwe38KYO3m15X29rQ/H3fKbC6gWzakgG3DLqfVDKIm0Gwv7+aAiYD9Ovmn8+Aad5HYtoMEOaazdMBCV42layL8OOtKXSyXa7LPD2UsK5dEngkUEl/pjSv/fzv8/QESK779uLzGVzO+1Hau84272EZvM/UTXkPy7RQQ5VNT4Dk+AkTshZBSt5X258fzfnzmsl7eTO1U46XQdKUXQOQ39Z5P8z7eKY1zOsxAUW75KmBBC+5S70puTbzHrVpPYEY5v01AUBC8Fx3+dzoloQfv2N1/LyHNWXbwHz3O0TzHpj6ZAqgvKe2P5til4HRXNPN4vE5V55m+TdDdfDqOO3rqv26yftg+rX92ZLX5G9dPcXRbv9JIVD3yYJNwcC6ZuW7SV7bKRkcz+fjUCH4kAFI6penTdtBbK6/ddNq7vKdJsfNe+RbV58jeTJn0/ozuaEjn6f5jtaUbJ/3lJPKuqefsv5TgoT2tGu5JvO5n78laGyu4ebYuwQgzb45fr7b5HWXz8Cm5HPij65eZ+3P5rznnPQk6CE+z5s6Heq9uW8AcqjzD/x24nAECBAgcCgBAcihZB2XAAECBNoCQwcgOXYGV9t3UmYQNXf+dkvfgewMijSD0vlxmTttu4PKm3o1T49sGhjqe/5Nx143pVPmTm/uCt52pe0yWNDdNsfO4E4Gz7KWxKaS9UgyiNuUDKhl0C53Ja4rhwxAmvPt0u51ddyl37p3TGbQ9Veu7uRfd+wMgmXAqz3YmoXRs8+m0h287dMv3WlFEuY1awlsu276/D3tyPQ8eSKqKX+rE/h1j5PXVZ5IaE/HlAH5PHWwqewyxVKfem/aZp8AJNd53nfaiwFnALiZc/+k+mQwMlPy9F1sOk+VtEO8BF+ZDmtT+arVQHnz96y/kjvNNwUzGTTLUxAZJG6X8xSAZHCxeUIuA4IZ/F0XjK8zO+l9fJ/r6qQApH1nfvojgVk7BMz52gOreb3ntZM+TNklAMnTP3lPuny1b96fc+wMOJ9UuvXPXecJGtaVZrqihPR9Svol73lNCJC715uQc93+654KS3Cc4CXvJ5tK3lvaYXyefkjYMmRZF6zFKV6bSu7cz/tG0yfZLu8/WY+qW/IEWAbwm5L2NNf4Se3Iotjt42XavAyKD1WGDkASGOW7RlP+fFVlmsBu2fWzPe/Nfdc8SQiaa6T9/h3/PM20qbTDzGyzqd7N/nkKJMF/d1quXQKQHCvhR74ztKfI69ax/QRZ/vbXVzetrGvLoT/PD/Xe3DcAOdT5h3o9OQ4BAgQIHFhAAHJgYIcnQIAAgc8IHCIAyQ/Sa1u+m6ac6TuQnQGG/NBNySDjUHcC9z3/pkulO8jwhtUUJd3Bsk377zJYsC4Ayfzj+YG5rcQsfdCUPD2Tu4vXlSkFIJlyKn3UTJ+RtmWQ+b9uAcs0FRm4aE+7cdKdvd1BtmYx5G39kkHG3NmakoH2DLhlfvUhSveOygwE5Q7e9p2o687THcjPfusWjW32HVsAkr5L6JNFe/N0V3vKuQwuZ/qdDDgfovzz1RRzOfa2YCKBV3t++NzdG8uTyhOrKguit58c2naeXfrn0K/9rMHTBDiZPievqbMqJwUged1nKp4MOqbktZS7zdulHXJkkL99Z/ouAUgGVv9c68B5AuGkQNqqgWIAACAASURBVLvZNL8TM4VPY5jronmaYAjTP1hVCUybkukb208vts+xLgD5U6v1wE6qS3zzBEAzBVLCpj7rWe3Svu57c9b1yPvZtictEpC01/M4KZxJ/zcBeW4seEpVZS2Jk0qeCmivEZUnFE8aLN+lzdl26ACkPUCd48dm3Zoau3yn2bVN2T6BYV6bl652PimY6IZMeb3k83ZdKNauS/ezM3/bNQDJ04Ptp1zXtTVT/eUJpIS7KScFjYf+PD/Ue3PfAORQ59/nGrMPAQIECJyBgADkDNCdkgABAjMUOEQAkrUoMs1RUzKtxj9ZY9s3gGgHILlrMj+yhyh9z7/pXN1BhvzYay+Kuq2OuwwWrAtActdxps3ZVjK/dXvB0JOeaDj0IGjquku717Wtb79lrvcsuNyUPEnUvYN+k10Gz7MgclO6a8m09+sOqPTtl+7TKRmc2RbObOvr5u/f25m7v+/AavbPugPtuewTnCTcW1d2GWDvW/d12627/nc5XtaXyJ3DJ92Rvsvx1m3bXRQ5g7nrnujIQHWmv2lKdwD9pHp07xo+rwHItnqfti+27X9SAJJ9s45VsyZFFvNu3/2eqbkycNlMedh9SqpvAJLfenlasnniatui6902ZQA9A+lNybRrGeAfouTpqfad+Wl/HNaV7neIhLgJkTY9Zdg+xnetFlpv/i3hQXfKw9O0p/venLWZst7CtpInrjKlX9bTSsmUYQlT1wXU3X7Y9j0gA9/p92ax+zxxsG7qwG11POnvQwcg31RVf6J1wvTb16ypwGk/2/u0OVPmNdMBZnH2X79hp4Q07Sd9XllVCan7lO6TI7sEILHPGkZ9nh7M2je/ZlWhPKmcaejWBTSH/jxvBxBDvjfvE4AMef4+fW0bAgQIEBiBgABkBJ2gCgQIEJiBwCECkNxp157O57QBSBYsbqY9yNMVWcj7Bwfom74D6ZtO1R1kyJQh7Xmlt1Vxl8GC7raZIuVl207Q+nv7qZxMT5KnDdbdBTulAKTbvxmg/kc9zTLwlYG45vvYSVNUtc12uRM7AzLtRW+/tKp+qGf9tm3WvjZzN3KuzU1TwXWPlXnLM4VTU056YmjsAUhej5mrPlPTJQQ5bcld63nKJP9pLwqc4+Yu8Kzt0pRN0+Z0p7/KndTtu81PqmOm52mHUdsGi3bpn0O/9r+lql7datxJ0zadtp+27b8tAMlnVvNekddNQopmQL894J2/Jehqr9XRNwDJnP/txcvb64hsq3/+3v3s3rQuw6Zj5b0tA675LGjuqG+2zXRD7SelTqpbtx5ZcL1ZaHxbOzLtU6b+aUrC+gRBQ5X2NZ0B6bwP9p0+s/vUw6apPHMHf6bLa542yxorefpgU/l9nScwtwUm+1gMHYBk/Y1MDdeUQwcgWRsm12XCxu6YSNbl+U2riqSdeTppXWk/ZZfvOjlevvv0Kd0ns3YJQDJlZELRPuXvrNaza7ZNHT+6ZsdDf54f6r25bwByqPP36QPbECBAgMAIBAQgI+gEVSBAgMAMBA4RgGQqh9yN2pTTToGVecHbd59mUOP7VwNUuYOu79zm3e4cMgDJVB7ttQb6XDqnCUD6zjXe1KM75cYvXd3p363noQdBc75d2r3OsW+/JUz4ktYBdr1DOk/XZGH0lNwBnDt2101v1jZLMJcFxfuU7gLdm4LCPsdqb5NBvvZgf57IytRffUum82mv2ZM1ZF61YeddBtj7nn/ddvs+AZIBrwyuZDHmvlPTtc+fgeFMP5L3sLxmMr1WBof7lIS2WXOkW7oLJ+/y5E/Onfe7ZtqU8xSAJBRPON4uef9OQJWns+7ugzrQNtsCkO5THu0nBzLAn/UtUtZNjdQ3AOmugZGB8dzR3rfk2mxPm5Q1GbLGwUklIV2e5sgTmglgmqcQtp3zpCfgut8htq011D5XniLIlIFNyZMQeSJiqNJ+b85TV+2pObedI4FS+2mRLJqewfd1JU8L5qnBppz0WfP61XtJtk1wlqdltk2Zta2u3b8PHYBkwfqvbZ1k6CmwMg3al6+Cs4Rg7XWoTmp7/NpTAra3zXt/gpSUPNWY9+++JZ/h7ffuXQKQk66T7vn/UlVlurimZO2pPHnULsf4PD/Ue3PfAORQ5+/b37YjQIAAgTMWEICccQc4PQECBGYicIgAJHfOt3/A5m7I3BXZLX0HsnPXdRYAbg9mN8fKmgYZUMigSQZtM0VW3zs8+55/06XQHmRIHdpz+ve5fHYJArrb5m7M9p2z286XeebzI74pWVS+PT1U8+9TCkAynVSzeG/alTv2+0xL0Vhk3v/29BqbnvBpm+Wu8Txp0qfs0v99jtdsk0G+9sKwCb/y1EHfkqdf2lM3JUjK0ynrylkFIBlIb09LlLplapmEkBmczoB1e3A3C9tnXvZt87+325jgI3fo5j1ynxLz9hRFzTFSl0xJ1pR437nDCW6sqqwZkHKeApDUNwtQ//41bc3rMnf+N+/jP1pVd+xgsuum2wKQHC/TGTav5Xy25AmADNQm7G7WB8laMz/cOXnfACSBRYK5oUqu1azdsa7keklo3l6rZJfzJqRKILCudL9DfGNnXZOTztN3gHSXura3bb/e836e13Tf0l1DIk+R/ckNO3cXQ9+0oHWmFsxgfFMSLCT4GroMHYB037PyfSL93C27fqYlyM33kjwZljW7di3p3+a12N4309O1n6TY5caEHCdhSb7TNWWXACQ3C+SmgT6lz3fQY32eH+K9eZfX9yHO36cPbEOAAAECIxAQgIygE1SBAAECMxAYOgDJNBB3daYt2LSAap8ff00X5E6+TMOQaVO6U8+0uyl36mdgP3es5u7ik8ou5193nPYgwz5rk+wyWNDd9veuBrT6XqLdNS02zek+pQCk/SRS7prPtEW7lCxi2h5k37S2xzHMdql37u7OUx9NOWlgdN1xc2d5e7qsk9aoOKsAZNvrLQPVWcchA5NNyeBlBjH7lAz2ZpqX03wf/+qqymB4t+Qu/y9q/WMGAftOzZLd2mssnbcAJJ7phz+9mn5pU18kEEnokEGxzNu/S3DVp3/7BCCZm7/5DMn58zRYgqvmGkpAk+ssIXy79A1AutPf9Kn3SdvkvLnmuiWDuWlHM0XTPudJGJTBzHWl+x3ipMHi7v67DJDuU+/2dZNB/Dxl0Ld0p5vbFlbkJo9mLY8EyLmbv3ttdAd5M41lprMcugwdgGTavXg0ZdN72y7fafI5k2Ci73Rpm4zWvUfndXlba4esQZcnLPuWfNZnOsum7BKAbLJZd+4+30GP9Xl+iPfmXV7fhzh/3/62HQECBAicscBpfnCdcdWdngABAgTOkcDQAUgG9trTeGTe9ExRsG4Aq8+Pvy5lwpT8wMydt5kqYd3df80+WTskP8DWzamcbfY5f7s+ApD/X2OXgY9dtt130CD7CUB+QW+OAUjanQHr3G2dedVTMg987sBuPx2z7vrKNFdZm6GZPiXbvLWqMoiWJ08SOmTwO6FFex2dvtf1nAOQxjtPCOYJmczl/7lbQu0MLCd4yMLRQ5U+AUg+W/Ie//TVSXPXewLRJlTbNC1U3wAkT2T0XSugT7vXhRS5hvNkzfNaB8i1myfVEjBlnY+4fnzNGkF9g10ByC/gtteNyf/PWmWZqrMpeSIta4U0UzbtOi1Tn2ug2WbIACTrxOR7XHvqv03BTd/3wNQz07XlddiUTFGYJ33zpM4bV1NB5by5NttPbnZfX+vGTK7sPEF2Q+epu22W3fV55hCAHOK9eZcA5BDn39bP/k6AAAECIxEQgIykI1SDAAECExcYOgDpLpaZu7Dbdzu3OU8bQOSO1twdl6kqcrdupqDqfn7maZBM97SunPb8ZxmAjG0KrF9dVf+hhXzSXZC7DJKcpt/OYgqsk+6U7rbltA6b3pqONWVGzj/WJ0Aam+6TTwkf2tOarTPMkx/tNU++ebUA8LanEBLK5o7mpmx6DUxtCqxdXvvrvDNdTeaAz/RMv2q1mHz3Kb83rbbZ5UmZkz66+wQg2f+bqupPrA6UqRXb6w1sGgTuG4C0j51TfPFqLZQhv3J0B+Xzes36Bs2C7pvOlafl2ttM4QmQQ06BFcc8yZX1G56wQu2e7ys7U+L9gc5i6EP2+5ABSN4v05am5GnKTAfZDn+bv/X9TItVpv3Laz8lx8yTIO0nFzd55ImwhEtNWTdmkvePPA3clKzbs8uTJnmSpz1t61kGIMf8PO+an/a9eZ8ApF2H055/yNeUYxEgQIDAAQUEIAfEdWgCBAgQ+O8CQwYg+VH7nqp6Yss3A5BZFHVdOW0A0T1m7tTN+f5w527FTQNLpz3/WQYgh1oEPVN2NHd67jJtRAYkMjDRlDEEIN1F0HMXdHtai21vA7k7+tmrjfougj6GAKS7aOp/WQ0qb2tv8/fu4M8YF0HfNgVW05bMK59+fEar8Rloz7Rem0ruiH/y6o8/v1pvo8/aMd0FnTe9Bsa6CPoxXvt9rsF8fmTB5UyT1V7HJWuHfFufA/TYpm8AkrUzsuZKt+SJoBdvOE/fACTrHnxL6xhZbyRPZgxZ2tP45RrOE5RZw2RbyVNQufabMoUA5JCLoDdOWSQ93z9S8kRD1iRqFrVuh8V5quEpq0XQt/XFPn8fMgDpfo7mqZZ2ANGuX98ApPuk8J+pqiwI3qdknaBf0dpw05hJnraJcUr+d6bF6lvy/pMpz5pylgHIMT/Pt/ns+t582gCkW59dz7+tPf5OgAABAiMREICMpCNUgwABAhMXGDIAyQ//DAA0JXfrZh7sD24wPG0AsalrMnD2F1t/zKDZuoV3u1MwbFqrZNN5zjIAybzhuQO5b8m0P7mTMCX9kmmB1t3B+aHWXPH/asPC8+vOmQGM9qKoJwUgWUw4g0FN2WXO7OzT97rpbpc7cP9xT7BMoZF53JvvYz+9ugN93e59p4rp7tt3sKhnlR+yWfvavG91x27fu+f/aFVlEd+mnHSn8tifAEkbsl5Oe+A86yH8ug2ol63uRm7+nDn7s+5Qn/KazkLRm67rTP3UXhvk66rqb/c5wWoe/szH35Qh1wA5xmu/ZzM/s9lv77xe/83qKYldjrFp274BSPbPaz9PF7bLH6+qv7bh4H0DkF9eVQkn97nW+hq0635SaNM9XvdphSkEIAmAMpicJ3n6lLxn5L2jKfncyrRhJ5VuYJZF7vNdpLumxD9cTQHXpx77bDNUAJL1Y3INtacazZNuP7yhUn0/0/KZkqkZm5Jp8F7Xo6GZ0u0jq6dtms03jZn8wOppp2a7hHoJw/uU3PzxFa0NzzIASTWO9Xnexybb9H1vHjoAaerX9/x922M7AgQIEDhjAQHIGXeA0xMgQGAmAkMFIC9dTV+QhS2bsm3tgb4D2bt2RUKXPInSlE0DZ5naJNOQNOX5nbtet533LAOQ1K3vD/qslZI5tZty0hMBuUu2mS/+5tXAzTaH/L29AGz+/0mhRndRz9xt+R19TrLapu91kykvMgVaUzJok8GbPiWD0rlTvyl5iilPF60rYwxAvrez4O8rO0/onGSQcC2v56ZkECzz1a8r5yEAyXtSXqvNUx1pRwafM0Vatzy1dcd2/pb3hz/V44LJPPlZdLe90PSm10BeX3mdNeWkRea7p/7Lq0XEm38fMgA5xmu/B+V/3yTT2GRqnOYzJSFue1H7XY7V3XaXAOQPdp5izEB6nihq7uzvHrtvAJL23dVaoybXT544WxdM79vWPMWRz4mUTC/UvnP+pGN216mZQgCS9v7uqkpQua2kb/LUQILwlDwBmNd2wuRtJSFJnjJLeefqMzTvIwnNmpJpO9tTLG075q5/HyIAyU0Sr+98B8j3iHwebHoirm8AkvfU9hMffb97ZQ2ePNXULpvGTLrTH+a9MzfHbCvp57wW857elLMOQI71eb7Npvl73/fmQwUgfc/ftz22I0CAAIEzFhCAnHEHOD0BAgRmIjBEAJIfvf+sqq5qmWUamZesBng2UfYdyN61K/LDPXcJNiULa2ax3W75fZ05uPvc4dk+xlkHIH2nW3ptVb2iVfGT7ujPYqHXt7btM23Ur1wzpdBJAUj3Ltk8ifMXdujkvtdNpj/KAHEzDUYGbbLWQAZ1TiqZdzqDrQnSmpL9cifsujLGAORLqipTlzQlAUbuYt82lVNeJ+2Fe7fdNX4eApAY/LHOHfub1gPIoFd7kDPTuiU82layQHYGydrlpNdA96mCrH3Rfipq3fky/UemcGuvQzFkAHKM1/42x+7fExA0aypk8DWL2A9RdglA8n7QPu8nttyt3jcASTsyBVamwmrKrms7bbP4qdUi89kuay4kBNz2HpDPwR/trKc1lQAkgVC+l2wLmfLUV/uprItV9Vu2Ya/+3r07PWuQ5ZpoAthdp+LqedqHbHbaACQBX9772k8+ZUqvfNc7afrAvgFInsjN03VNOempkmabTLGaz+5uCLppzCRP+ySkbALUj636PqHUSSXTi/6ezgZnHYAc6/N8l2utz3vzoQKQ1LPP+Xdpj20JECBA4AwFBCBniO/UBAgQmJHAaQKQ3K2aaa8SJDTrRoQuA0S5+37bHY59B7IzQPSdnalpTuqibrCRqUrad182+3YX7019uoOYJ53nrAOQDLz/1qrK4Mym0v0BmmAogxubFsHt2mVO+sxNv6nkjvkMiGT6sHY5afA3AxK5s7tZ6DgDvxkA7lv6Xjc5XndgOsFG7s7Nj+d1JVN9ZPqL3GnalDwpkCcGNpUxBiBpRwb7mjVMUvdMa5UB1k3lWVWV+dXbT0pkCpgMCG0q5yUAyaLOCQvaT2hsWsQ6Tz7FIiXThmXA9KS1YzI4ldCou3D3Sa+B7usyg3K5Oz/Trq0rOXamdPkNnT8OGYAc+rWf4+e9atOUiN12dxdfTkCT97shyi4ByK7n2yUAyWst11tzt3kGmTOAnhsK+pYEYr9mwxNe3WnZMv1apl/aVDJVU8KPdvibbacSgKQt26a1yxOT+e6SGymakoH9rDvUp+TzLQPvGYBPydOoWZ+sKQljv7nPgU6xzb4BSK6lDP7nc6Kpf1ONPuFc3wAkn8Ht6cT+w2pawvZnabv5+X6ZazCvjW45acwkT27mCa6m5H08303js+44f3LDWiRnHYAc+vP8UO/NfQOQQ53/FC8huxIgQIDAMQUEIMfUdi4CBAjMV6AbgOSHexZBbpd8JmUAMT+O85RH5mvOYF3+054bOvtkgD13Sv7bHqR9B7Lzozjzdn/fagAtg7Tr1jPIgrmZTumvtO76y76Zzqc9BVRTtbQpA47NQrtZmDTTMuTHeO6WzWBUU3L+7tzhZxmApC7pj0zNEcesvZL6NyVrGWSgJWtztMOpbQPaGSDONdBefDh3Kec47eOn3/O0wN9cDe409WnOv21dj4QmeXKkKRmoy9QWWaA3bWpKwrTbO9dS3+smu6UdefohU2w0JXfg5jrpDmglxMm0bV/c2jZ3Cv+yqmqvu9C9tMcYgKSOGRT9d507uTP4mYGs9kB7Xt9funoaKoFWUzJlTgaq2q+DbtvPSwCSeucpo8zJ35RNi/n+1U5QlNd51kTo3vn8WVWV9VIylV4Cigzs5ymNPq+BvH5yvHawlvnpM/iYAeh2yRRGWZA3gW1K+7U2ZABy6Nd+HDOlUO4sT5iRdq6bUiiWmX8/g5cxbkqu0fZTTd1rcZf/P5YAJHVOWxO6tkv+f4L7N21oVN7fExpnMep83r6lqjK1YLd0Q6S8h+cJwLwPtF/XeVruy1chaT7ju9fyFAKQ9usmUwp9feezJa/JWOYzoD34n+8dsdmldJ/safbNZ1sW4873i0OWbgCS9/FM69QuCd3yHSKv+zzhlPeiBBi5ttolTwxl6qh8r9pW+gYgeY2nju2FyfP5n2mrujbXrb7fNDdJdK/Nk8ZM8h0vr43c9NGUvOfk/TRPAea7Ttqb9md6tOb9OEFt+0nYsw5AUvdDfp4f6r25bwByqPNvu179nQABAgRGIiAAGUlHqAYBAgQmLtANQE7T3Ay25k6u3NHap/QdyO7eFZhBhBtXP+gzqJEB/tyxmju62wP3qUMG6NtTjHTr1V3odFO91/0APssAJE+05OmbZnqnj67meM+TDRlkzA/57kBG7iDPgNmmuyybtnfn586/54mRrB3SLJScqTGa+dEzIJFB9b/fwtsWgORO7gwsbSsJKTKo0i59r5tmnwRgP9KZOih/y3WawZGEaQk/0qb29684ZbCwvYD2uvqONQBJXbtW+bcMfP63VdiUayQ+3Tu+M/99Bs22TRdyngKQDGomMGheF+m33O2da6Bdcl3nSaHuHdA3rbaNXwbuEoxl4Dglr4GEIe3Fzbe9BjK9XMLcdmjSXJdvXgWBeYInc+43JUFh7tLPNEUpQwYgOd4hX/vdQdkMrCaMzL834XLez3I9toOP1CvvXb9525vFDn8fUwCSameA+Rs77z/590wlmRAk77v5nItL3qtyDbRvPsjreV0AkmPkPTRrTrRLQuVMw5bPjVx/meKvmVot/ZJw+wdbO0whAEnok4D3167alddxnu7LExqZ5izfH5rP06bpCSVzo8eugcW1q/eQ7iXZd0q9HS7ltZt2X2v7Hi9PTOQ7XW4K6VP6BiA51u9asx5LPotzLSesyft0HNs3L2Q6zwQYeZKpKdvGTF60Club7yvb2pHgP8fPE5RNOenp4F3a3D33rt9lDvV5fqj35l0CkGe2cM7ys2Hb9eHvBAgQIHAAgW0f5gc4pUMSIECAwAwFThuA5A793EmX+bK3zWG/74+/bQP267ot+2QR69zledKc5xn4+FdrBoi6xxxbAJLB1TyVkCdt+vywz2BW7mjcNvd52p27M3MHcp85zzOQlicmMjDXvnN92+BvzrPpLtm2/RABSI6XaYyyCHr7TtCTXu65rvOUyEnTxTT7jzkASR3zGsjdu90pmja1P+FiplpaN01Id5/zFICk7nlSKsFhUzLVUHu6s+bfE/7kemlPg7PJK0/TxCt3G+/6Gsidx1lw+kk9PntSn6zlk9f8oQKQQ7729x2UTR9lQHLdU3892NZuMrYAJJVM337XmqC2TxtzDeVpj3Ul11ZepxlM3lZyc0GeQkqQ1/d9rfsd4qS75bvn7ztAuq3em/7ebUNuhohVAp9tJYP/ues+Ack+ZV3wlD7K+Q9d9n2tpV4xy80O31FVeVLm0ztUdtcwoM93gOb0efor30ny9MYuAUj2z7X/3SeEhM05/vHqcz+D8fkcbErC7b+xwWHXNrcPs2sAkn0P8Xm+7/Wy7b257+v7UOff4dK1KQECBAicpYAA5Cz1nZsAAQLzEegTgCRAyOBTprfKgPctqx+H+ZGcubJzF+k+pe+Pv9yBmUUyc+dmBgxPGsjNAH8GGDLgmzv5+pTcSfsbV4sd5/i5uzt3H7bPM8YAJINUuaP1L67mxm/mkW+3OXeIZ+qf9tMZfU0yd3amvureoZ79s4ZHBkcypdAdq6c0dh38zXEyEJU1RvLfWXchg8iPaFVwqAAkh4zPH1nd0dqe6qntkXblLt2sHZLpuPqUvgOF3WOdZuCkT73a22QAKHeYZ72KLCa7ruR1ndDw73WmITvpXOctAMlrO0+1NNdY3tuyqG6eROiWTD2VAbqEG+u+l+eu/EzbkveG3CG+b39mke9Md5SpkLpPsKVOeVIp/ZK1C1LfXcx32bZpf94PD/Haz1Q2eZ/NHPx52qpZnHjd9ZV25v0k/gnYhy5jDEDSxgRuX1dVCZCbdWg2tT3vT3nqMoOQuUP/pKA/76uZ3jHT/Ky7xvK5mRsBci0300X2fV87TwFIBmTz/pcnKBNwd5/4iHW+52Tw/893pn3c9RrsTm2W/srTO9sWod/1POu23zagnL7Nd7o8TZHP79QtT73lqaC87vLk0T5ln/fAOOU7Snu9qva58wRUbrDJ02+pd3eNnb5jJnlfy1Nkefo07z9Zfyc3OuRpk3xXzHekPH2Skido8/22KV+zCifXmezT5uY4fb8Dd8879Of5od6b+wYghzr/PtewfQgQIEDgDAT6fpifQdWckgABAgQInJlABrFfvJoCJHe2JqjID/lMoZJBzKz3sG8gc2aNGuDEGeDKNCdZbDVzemdQ462rH/T7PEHTVCkhUAYDMkicgdo4Z7AkwUTCgvNaEnTlqZA8PZPB8AxgZ2A8UxL1eUrmvLY7r5883ZAnYRJsZU2AXCt53WQATPnFAgnLYpZpwvJ6SAic10DW8GivV3Nau7yGs85H+ib9lGnIMg3LT/WYtu605163/yFf+3nNZWqahEwZhM6TeLnTPIPPmXboZ1bTPh2iXeflmLkLPett5T0q7+m51jIVYQa3c3f6Pk8m5BrLtZwptGKeqduyDkIGe+8+LzAD1TNTimW9swRN+S4R23wGJAAY4mmjBKd5aqspJ02jNFCTzu1hEk5k6rtM95fPpY+tQphMT9h+EuNYDUwA2b5pZMj1h4ZswyE+z8/6vfmszz9k/zgWAQIECPQUEID0hLIZAQIECBAgQIAAAQIECBAYiUDWq8i0Zil56iNPyuwTWo2kObOqRp42yRolTcmNJd1F5GcForEECBAgQOCQAgKQQ+o6NgECBAgQIECAAAECBAgQGFYgT5Qk7Hj46rD/ZrVW1rBncbRDCGQaujwVlSekUjId2KYpMw9xfsckQIAAAQKzExCAzK7LNZgAAQIECBAgQIAAAQIEzrFA1rTI+lhNGesUSueY+GBV/66qelXr6Fn8PIugKwQIECBAgMCBBAQgB4J1WAIECBAgQIAAAQIECBAgMLBAprp6c+sJgqwr8ryqemDg8zhcP4FMZZV1Rf7uatH3TXtdWlV/tar+UGuDrEuU9c/e3u9UtiJAgAABAgT2ERCA7KNmHwIECBAgQIAAAQIECBAgcHiBBB4pWWD+5VWVxc6f0TptFtT+nsNXwxk2COTpjb9eVfdW1fdX1X+qarhcMQAAIABJREFUqiyu/qGqSujxlKr6gqpKP13dOYaF611WBAgQIEDgCAICkCMgOwUBAgQIECBAgAABAgQIENhDYHnCPj9ZVZ+/WgR9j0PbZQCBJgDZ9VDfW1VfVVV5CkQhQIAAAQIEDiggADkgrkMTIECAAAECBAgQIECAAIFTCGwKQG6pqi9cLYZ+isPb9ZQCWc/jO6uq79hKngz5pqrK2h8nhVunrJbdCRAgQIAAgUag74c0MQIECBAgQIAAAQIECBAgQOC4Au1B8o+v1ov4gar6lqr6yHGr4mwbBJ5WVV+8ehona3pkirLLq+phqz76YFX9TFX9SFX9s6r6KEkCBAgQIEDgeAICkONZOxMBAgQIECBAgAABAgQIECBAgAABAgQIECBwJAEByJGgnYYAAQIECBAgQIAAAQIECBAgQIAAAQIECBA4noAA5HjWzkSAAAECBAgQIECAAAECBAgQIECAAAECBAgcSUAAciRopyFAgAABAgQIECBAgAABAgQIECBAgAABAgSOJyAAOZ61MxEgQIAAAQIECBAgQIAAAQIECBAgQIAAAQJHEhCAHAnaaQgQIECAAAECBAgQIECAAAECBAgQIECAAIHjCQhAjmftTAQIECBAgAABAgQIECBAgAABAgQIECBAgMCRBAQgR4J2mvMnsFwu76uqS6vqwaq64/y1QI0JECBAgAABAgQIECBAgAABAgQInKnAVVV1SVV9crFYXHamNXHyWQoIQGbZ7RrdR2C5XH66qi702dY2BAgQIECAAAECBAgQIECAAAECBAhsFHhgsVg8jA+BYwsIQI4t7nznRmC5XH6qqh6+XC7rwQfzEIhCgMB5Fbhw4ReyzAceeOC8NkG9CRAgQIAAAQIECMxGwPf32XS1hs5A4JJLLqnF4jND0PcvFotHzKDJmjgyAQHIyDpEdcYjsFwub6uqp2XA9AMf+MB4KqYmBAjsJJAvW09+8pM/s8/tt98u0NxJz8YECBAgQIAAAQIEjivg+/txvZ2NwKEFnvSkJ9Uq1HzvYrG4+tDnc3wCXQEBiGuCwAYBAYhLg8A0BPyAmkY/agUBAgQIECBAgMA8BHx/n0c/a+V8BAQg8+nrsbZUADLWnlGvMxcQgJx5F6gAgUEE/IAahNFBCBAgQIAAAQIECBxFwPf3ozA7CYGjCQhAjkbtRBsEBCAuDQIbBAQgLg0C0xDwA2oa/agVBAgQIECAAAEC8xDw/X0e/ayV8xEQgMynr8faUgHIWHtGvc5cQABy5l2gAgQGEfADahBGByFAgAABAgQIECBwFAHf34/C7CQEjiYgADkatRNtEBCAuDQIbBAQgLg0CExDwA+oafSjVhAgQIAAAQIECMxDwPf3efSzVs5HQAAyn74ea0sFIGPtGfU6cwEByJl3gQoQGETAD6hBGB2EAAECBAgQIECAwFEEfH8/CrOTEDiagADkaNROtEFAAOLSILBBQADi0iAwDQE/oKbRj1pBgAABAgQIECAwDwHf3+fRz1o5HwEByHz6eqwtFYCMtWfU68wFBCBn3gUqQGAQAT+gBmF0EAIECBAgQIAAAQJHEfD9/SjMTkLgaAICkKNRO9EGAQGIS4PABgEBiEuDwDQE/ICaRj9qBQECBAgQIECAwDwEfH+fRz9r5XwEBCDz6euxtlQAMtaeUa8zFxCAnHkXqACBQQT8gBqE0UEIECBAgAABAgQIHEXA9/ejMDsJgaMJCECORu1EGwQEIC4NAhsEBCAuDQLTEPADahr9qBUECBAgQIAAAQLzEPD9fR79rJXzERCAzKevx9pSAchYe0a9zlxAAHLmXaACBAYR8ANqEEYHIUCAAAECBAgQIHAUAd/fj8LsJASOJiAAORq1E20QEIC4NAhsEBCAuDQITEPAD6hp9KNWECBAgAABAgQIzEPA9/d59LNWzkdAADKfvh5rSwUgY+0Z9TpzAQHImXeBChAYRMAPqEEYHYQAAQIECBAgQIDAUQR8fz8Ks5MQOJqAAORo1E60QUAA4tIgsEFAAOLSIDANAT+gptGPWkGAAAECBAgQIDAPAd/f59HPWjkfAQHIfPp6rC0VgIy1Z9TrzAUEIGfeBSpAYBABP6AGYXQQAgQIECBAgAABAkcR8P39KMxOQuBoAgKQo1E70QYBAYhLg8AGAQGIS4PANAT8gJpGP2oFAQIECBAgQIDAPAR8f59HP2vlfAQEIPPp67G2VAAy1p5RrzMXEICceReoAIFBBPyAGoTRQQgQIECAAAECBAgcRcD396MwOwmBowkIQI5G7UQbBAQgLg0CGwQEIC4NAtMQ8ANqGv2oFQQIECBAgAABAvMQ8P19Hv2slfMREIDMp6/H2lIByFh7Rr3OXEAAcuZdoAIEBhHwA2oQRgchQIAAAQIECBAgcBQB39+PwuwkBI4mIAA5GrUTbRAQgLg0CGwQEIC4NAhMQ8APqGn0o1YQIECAAAECBAjMQ8D393n0s1bOR0AAMp++HmtLBSBj7Rn1OnMBAciZd4EKEBhEwA+oQRgdhAABAgQIECBAgMBRBHx/PwqzkxA4moAA5GjUTrRBQADi0iCwQUAA4tIgMA0BP6Cm0Y9aQYAAAQIECBAgMA8B39/n0c9aOR8BAch8+nqsLRWAjLVn1OvMBQQgZ94FKkBgEAE/oAZhdBACBAgQIECAAAECRxHw/f0ozE5C4GgCApCjUTvRBgEBiEuDwAYBAYhLg8A0BPyAmkY/agUBAgQIECBAgMA8BHx/n0c/a+V8BAQg8+nrsbZUADLWnlGvMxcQgJx5F6gAgUEE/IAahNFBCBAgQIAAAQIECBxFwPf3ozA7CYGjCQhAjkbtRBsEBCAuDQIbBAQgLg0C0xDwA2oa/agVBAgQIECAAAEC8xDw/X0e/ayV8xEQgMynr8faUgHIWHtGvc5cQABy5l2gAgQGEfADahBGByFAgAABAgQIECBwFAHf34/C7CQEjiYgADkatRNtEBCAuDQIbBAQgLg0CExDwA+oafSjVhAgQIAAAQIECMxDwPf3efSzVs5HQAAyn74ea0sFIGPtGfU6cwEByJl3gQoQGETAD6hBGB2EAAECBAgQIECAwFEEfH8/CrOTEDiagADkaNROtEFAAOLSILBBQADi0iAwDQE/oKbRj1pBgAABAgQIECAwDwHf3+fRz1o5HwEByHz6eqwtFYCMtWfU68wFBCBn3gUqQGAQAT+gBmF0EAIECBAgQIAAAQJHEfD9/SjMTkLgaAICkKNRO9EGAQGIS4PABgEBiEuDwDQE/ICaRj9qBQECBAgQIECAwDwEfH+fRz9r5XwEBCDz6euxtlQAMtaeUa8zFxCAnHkXqACBQQT8gBqE0UEIECBAgAABAgQIHEXA9/ejMDsJgaMJCECORu1EGwQEIC4NAhsEBCAuDQLTEPADahr9qBUECBAgQIAAAQLzEPD9fR79rJXzERCAzKevx9pSAchYe0a9zlxAAHLmXaACBAYR8ANqEEYHIUCAAAECBAgQIHAUAd/fj8LsJASOJiAAORq1E20QEIC4NAhsEBCAuDQITEPAD6hp9KNWECBAgAABAgTOSmD50Y+c1alned58f7/qqqs+0/Y77rijHnzwwVk6nFWjF4/9rLM6tfNOVEAAMtGOPUfNEoCco85S1eMKCECO6+1sBA4lIAA5lKzjEiBAgAABAgTmIfDA13zpPBqqlQSq6sJ3/iAHAoMKCEAG5XSwPQQEIHug2WUeAgKQefSzVk5fQAAy/T7WQgIECBAgQIDAIQUEIIfUdeyxCQhAxtYj578+ApDz34fnvQUCkPPeg+p/MAEByMFoHZjAUQUEIEfldjICBAgQIECAwOQEBCCT61INOkFAAOLyGFpAADK0qOPtKiAA2VXM9rMREIDMpqs1dOICApCJd7DmESBAgAABAgQOLCAAOTCww49KQAAyqu6YRGUEIJPoxnPdCAHIue4+lT+kgADkkLqOTeB4AgKQ41k7EwECBAgQIEBgigIWQR++V5cf/EDVB977iw68/PjHqr732x/671/xtbV41KMf+m+LRS1e+NLhK+aIZRF0F8HQAgKQoUUdb1cBAciuYrafjYAAZDZdraETFxCATLyDNY8AAQIECBAgQODcCSzfd2vVnbevCUDuq+VrvvUh/7541atr8ajLfnEbX/yyWly4cO7arsIE5iYgAJlbj4+vvQKQ8fWJGo1EQAAyko5QDQKnFBCAnBLQ7gQIECBAgAABAgQGFljeenPV3XedLgC59rNrcekjB66ZwxEgMLSAAGRoUcfbVUAAsquY7WcjIACZTVdr6MQFBCAT72DNI0CAAAECBAgQOHcCy5tvqrr3ntMFIM95QS0ue+y5a7sKE5ibgABkbj0+vvYKQMbXJ2o0EgEByEg6QjUInFJAAHJKQLsTIECAAAECBAgQGFhg+ba3VH3iY6cLQJ75nFo87gkD18zhCBAYWkAAMrSo4+0qIADZVcz2sxEQgMymqzV04gICkIl3sOYRIECAAAECBAicO4HljT9bdf/9pwtAnvbMWjzxSeeu7SpMYG4CApC59fj42isAGV+fqNFIBAQgI+kI1SBwSgEByCkB7U6AAAECBAgQIEBgYIHlm366ark8XQDy5Ktr8aSnDlwzhyNAYGgBAcjQoo63q4AAZFcx289GQAAym67W0IkLCEAm3sGaR4AAAQIECBAgcK4Elg88UPWW16+t8/Lj99XyNd/6kL8tXvXqWjzqsl+8/ROfXIunPeNctV1lCcxRQAAyx14fV5sFIOPqD7UZkYAAZESdoSoETiEgADkFnl0JECBAgAABAgQIDCyw/OQnq2564+kDkMdfUYtnPHvg2jkcAQJDCwhAhhZ1vF0FBCC7itl+NgICkNl0tYZOXEAAMvEO1jwCBAgQIECAAIFzJbD82H1Vb3/r6QOQx35WLZ71/HPVdpUlMEcBAcgce31cbRaAjKs/1GZEAgKQEXWGqhA4hYAA5BR4diVAgAABAgQIECAwsMDyox+peufbTh+APOqyWjzvRQPXzuEIEBhaQAAytKjj7SogANlVzPazERCAzKarNXTiAgKQiXew5hEgQIAAAQIECJwrgeXdd1XdevPpA5BHXFqLF1x3rtqusgTmKCAAmWOvj6vNApBx9YfajEhAADKizlAVAqcQEICcAs+uBAgQIECAAAECBAYWWH7wA1XvfffpA5ALF2rx4pcNXDuHI0BgaAEByNCijrergABkVzHbz0ZAADKbrtbQiQsIQCbewZpHgAABAgQIECBwrgSWH3hf1e23nT4AqUUtrvvcc9V2lSUwRwEByBx7fVxtFoCMqz/UZkQCApARdYaqEDiFgADkFHh2JUCAAAECBAgQIDCwwPJ9t1bdefsAAUhVvfhltbhwYeAaOhwBAkMKCECG1HSsfQQEIPuo2WcWAgKQWXSzRs5AQAAyg07WRAIECBAgQIAAgXMjsLztlqq77hwmAHnh59Ti4Y84N21XUQJzFBCAzLHXx9VmAci4+kNtRiQgABlRZ6gKgVMICEBOgWdXAgQIECBAgAABAgMLLN/9jqoPf2iYAOT5L67FIx89cA0djgCBIQUEIENqOtY+AgKQfdTsMwsBAcgsulkjZyAgAJlBJ2siAQIECBAgQIDAuRFY3nxT1b33DBOAPOcFtbjsseem7SpKYI4CApA59vq42iwAGVd/qM2IBAQgI+oMVSFwCgEByCnw7EqAAAECBAgQIEBgYIHl22+s+ti9wwQg1zy3Fpc/fuAaOhwBAkMKCECG1HSsfQQEIPuo2WcWAgKQWXSzRs5AQAAyg07WRAIECBAgQIAAgXMjsHzbm6s+8fFhApBnPrsWj7vi3LRdRQnMUUAAMsdeH1ebBSDj6g+1GZGAAGREnaEqBE4hIAA5BZ5dCRAgQIAAAQIECAwssLzxDVX3f2qYAOTqa2pxxZUD19DhCBAYUkAAMqSmY+0jIADZR80+sxAQgMyimzVyBgICkBl0siYSIECAAAECBAicG4HlW36m6oFPDxOAPPUZtbjyyeem7SpKYI4CApA59vq42iwAGVd/qM2IBAQgI+oMVSFwCgEByCnw7EqAAAECBAgQIEBgYIHlm366arkcJgB58tW1eNJTB66hwxEgMKSAAGRITcfaR0AAso+afWYhIACZRTdr5AwEBCAz6GRNJECAAAECBAgQOBcCywQfCUA2lOXH76vla771IX9dvOrVtXjUZev3uOqptXjK1eei7SpJYK4CApC59vx42i0AGU9fqMnIBAQgI+sQ1SGwp4AAZE84uxEgQIAAAQIECBAYWGD5wANVb3n9cAHIE59Ui6c9c+BaOhwBAkMKCECG1HSsfQQEIPuo2WcWAgKQWXSzRs5AQAAyg07WRAIECBAgQIAAgXMhsMzi51kEfUPZ+QmQJ1xZi6dfcy7arpIE5iogAJlrz4+n3QKQ8fSFmoxMQAAysg5RHQJ7CghA9oSzGwECBAgQIECAAIGBBZaf/GTVTW8cLgB53BW1eOazB66lwxEgMKSAAGRITcfaR0AAso+afWYhIACZRTdr5AwEBCAz6GRNJECAAAECBAgQOBcCy098rOptbxkuAPmsx9filzz3XLRdJQnMVUAAMteeH0+7BSDj6Qs1GZmAAGRkHaI6BPYUEIDsCWc3AgQIECBAgAABAgMLLD92X9Xb3zpcAPLYz6rFs54/cC0djgCBIQUEIENqOtY+AgKQfdTsMwsBAcgsulkjZyAgAJlBJ2siAQIECBAgQIDAuRBY3vfRqnf83HAByGMur8Wzrz0XbVdJAnMVEIDMtefH024ByHj6Qk1GJiAAGVmHqA6BPQUEIHvC2Y0AAQIECBAgQIDAwALLj95T9c6bhgtAHv2YWjz3hQPX0uEIEBhSQAAypKZj7SMgANlHzT6zEBCAzKKbNXIGAgKQGXSyJhIgQIAAAQIECJwLgeU9d1fd8vbhApBHPboWz3vxuWi7ShKYq4AAZK49P552C0DG0xdqMjIBAcjIOkR1COwpIADZE85uBAgQIECAAAECBAYWWH74Q1XvfsdwAcilj6zFtZ89cC0djgCBIQUEIENqOtY+AgKQfdTsMwsBAcgsulkjZyAgAJlBJ2siAQIECBAgQIDAuRBY3n1X1a03DxeAPOLSWrzgunPRdpUkMFcBAchce3487RaAjKcv1GRkAgKQkXWI6hDYU0AAsiec3QgQIECAAAECBAgMLLD80Aer3vPO4QKQhz+iFi/8nIFr6XAECAwpIAAZUtOx9hEQgOyjZp9ZCAhAZtHNGjkDAQHIDDpZEwkQIECAAAECBM6FwPKuO6tuu2W4AORhD6/Fi156LtqukgTmKiAAmWvPj6fdApDx9IWajExAADKyDlEdAnsKCED2hLMbAQIECBAgQIAAgYEFlh/8QNV73z1cAHLhQi1e/LKBa+lwBAgMKSAAGVLTsfYREIDso2afWQgIQGbRzRo5AwEByAw6WRMJECBAgAABAgTOhcDyztur3nfrcAHIJRdq8RIByLnofJWcrYAAZLZdP5qGC0BG0xUqMjYBAcjYekR9COwnIADZz81eBAgQIECAAAECBIYWWN7xvqr33zZcALJY1OKzP3foajoeAQIDCghABsR0qL0EBCB7sdlpDgICkDn0sjbOQUAAMode1kYCBAgQIECAAIHzILD8wPuqbh8wAKmqxXWfdx6aro4EZisgAJlt14+m4QKQ0XSFioxNQAAyth5RHwL7CQhA9nOzFwECBAgQIECAAIGhBZa3v7fqA+/deNjlx++r5Wu+9SF/X7zq1bV41GWbq/LZn1uLheGtofvK8QgMJSAAGUrScfYV8Amxr5z9Ji8gAJl8F2vgTAQEIDPpaM0kQIAAAQIECBAYvcAy019lGqwNZa8A5CUvr8Ull4y+7SpIYK4CApC59vx42i0AGU9fqMnIBAQgI+sQ1SGwp4AAZE84uxEgQIAAAQIECBAYWGD5/vdU3fH+gQOQl9XikgsD19ThCBAYSkAAMpSk4+wrIADZV85+kxcQgEy+izVwJgICkJl0tGYSIECAAAECBAiMXmD5vlur7rx92ADkRb+0Fg972OjbroIE5iogAJlrz4+n3QKQ8fSFmoxMQAAysg5RHQJ7CghA9oSzGwECBAgQIECAAIGBBZbvvbXqg0MHIC+txcMePnBNHY4AgaEEBCBDSTrOvgICkH3l7Dd5AQHI5LtYA2ciIACZSUdrJgECBAgQIECAwOgFlre9q+quOzbWc681QF740lo8XAAy+s5XwdkKCEBm2/WjabgAZDRdoSJjExCAjK1H1IfAfgICkP3c7EWAAAECBAgQIEBgaIHlbbdU3XXnwAHI59Ti4Y8YuqqOR4DAQAICkIEgHWZvAQHI3nR2nLqAAGTqPax9cxEQgMylp7WTAAECBAgQIEBg7ALL99xS9aGBA5Brr6vFpZeOvenqR2C2AgKQ2Xb9aBouABlNV6jI2AQEIGPrEfUhsJ+AAGQ/N3sRIECAAAECBAgQGFpgeevNVXfftfGwe02Bde1n1+LSRw5dVccjQGAgAQHIQJAOs7eAAGRvOjtOXUAAMvUe1r65CAhA5tLT2kmAAAECBAgQIDB2geW7b6768MAByPNfUotHPmrsTVc/ArMVEIDMtutH03AByGi6QkXGJiAAGVuPqA+B/QQEIPu52YsAAQIECBAgQIDA0ALLd7+j6sMf2njYvZ4Aef6La/HIRw9dVccjQGAgAQHIQJAOs7eAAGRvOjtOXUAAMvUe1r65CAhA5tLT2kmAAAECBAgQIDB2geW73l71kbuHDUCe9+JaPEoAMva+V7/5CghA5tv3Y2m5AGQsPaEeoxMQgIyuS1SIwF4CApC92OxEgAABAgQIECBAYHCB5S1vr7pn4ADkuS+sxaMfM3hdHZAAgWEEBCDDODrK/gICkP3t7DlxAQHIxDtY82YjIACZTVdrKAECBAgQIECAwMgFlu98W9VHP7KxlntNgfWcF9biMgHIyLte9WYsIACZceePpOkCkJF0hGqMT0AAMr4+USMC+wgIQPZRsw8BAgQIECBAgACB4QWWN99Ude89wwYgz762Fo+5fPjKOiIBAoMICEAGYXSQUwgIQE6BZ9dpCwhApt2/WjcfAQHIfPpaSwkQIECAAAECBMYtsHzHz1Xd99FhA5BnXVuLxwpAxt3zajdnAQHInHt/HG0XgIyjH9RihAICkBF2iioR2ENAALIHml0IECBAgAABAgQIHEBg+Y4bq+67d9gA5Jrn1eLyxx2gtg5JgMAQAgKQIRQd4zQCApDT6Nl30gICkEl3r8bNSEAAMqPO1lQCBAgQIECAAIFRCyx//q1VH79v4ADkubW4/PGjbrfKEZizgABkzr0/jrYLQMbRD2oxQgEByAg7RZUI7CEgANkDzS4ECBAgQIAAAQIEDiCwfNtbqj7xsWEDkGc+pxaPe8IBauuQBAgMISAAGULRMU4jIAA5jZ59Jy0gAJl092rcjAQEIDPqbE0lQIAAAQIECBAYtcDybW+u+sTHBw5Anl2Lx10x6narHIE5CwhA5tz742i7AGQc/aAWIxQQgIywU1SJwB4CApA90OxCgAABAgQIECBA4AACy597Y9WnPjlsAPL0Z9XiCU88QG0dkgCBIQQEIEMoOsZpBAQgp9Gz76QFBCCT7l6Nm5GAAGRGna2pBAgQIECAAAECoxZY3viGqvs/NWwAcvU1tbjiylG3W+UIzFlAADLn3h9H2wUg4+gHtRihgABkhJ2iSgT2EBCA7IFmFwIECBAgQIAAAQIHEFi+9WerPn3/sAHIU59RiyuffIDaOiQBAkMICECGUHSM0wgIQE6jZ99JCwhAJt29GjcjAQHIjDpbUwkQIECAAAECBEYtsHzL66seeGDYAOQpT6/FVU8ZdbtVjsCcBQQgc+79cbRdADKOflCLEQoIQEbYKapEYA8BAcgeaHYhQIAAAQIECBAgcACB5Zt+umq5HDYAefLVtXjSUw9QW4ckQGAIAQHIEIqOcRoBAchp9Ow7aQEByKS7V+NmJCAAmVFnayoBAgQIECBAgMCoBZZv/KkT67f8+H21fM23PmSbxateXYtHXbZ5vyc9tRZPvnrU7VY5AnMWEIDMuffH0XYByDj6QS1GKCAAGWGnqBKBPQQEIHug2YUAAQIECBAgQIDAwALLBx+sevPrhg9ArnpKLZ7y9IFr63AECAwlIAAZStJx9hUQgOwrZ7/JCwhAJt/FGjgTAQHITDpaMwkQIECAAAECBEYtsPz0p6ve+jPDByBPfFItnvbMUbdd5QjMWUAAMufeH0fbBSDj6Ae1GKGAAGSEnaJKBPYQEIDsgWYXAgQIECBAgAABAgMLLO//VNWNbxg+AHnClbV4+jUD19bhCBAYSkAAMpSk4+wrIADZV85+kxcQgEy+izVwJgICkJl0tGYSIECAAAECBAiMWmD5yU9U3fSm4QOQx11Ri2c+e9RtVzkCcxYQgMy598fRdgHIOPpBLUYoIAAZYaeoEoE9BAQge6DZhQABAgQIECBAgMDAAsuPf6zq598yfABy+eNrcc1zB66twxEgMJSAAGQoScfZV0AAsq+c/SYvIACZfBdr4EwEBCAz6WjNJECAAAECBAgQGLXA8r57q95x4/AByGMur8Wzrx1121WOwJwFBCBz7v1xtF0AMo5+UIsRCghARtgpqkRgDwEByB5odiFAgAABAgQIECAwsMDyo/dUvfOm4QOQyx5Ti+e8cODaOhwBAkMJCECGknScfQUEIPvK2W/yAgKQyXexBs5EQAAyk47WTAIECBAgQIAAgVELLO+5u+qWtw8fgDzy0bV4/otH3XaVIzBnAQHInHt/HG0XgIyjH9RihAICkBF2iioR2ENAALIHml0IECBAgAABAgQIDCywvPuuqltvHj4AecSltXjBdQPX1uEIEBhKQAAylKTj7CsgANlXzn6TFxCATL6LNXAmAgKQmXTMwhNTAAAgAElEQVS0ZhIgQIAAAQIECIxaYHnXHVW3vWv4AORhD6/Fi1466rarHIE5CwhA5tz742i7AGQc/aAWIxQQgIywU1SJwB4CApA90OxCgAABAgQIECBAYGCB5R3vr3r/e4YPQBaLWnz25w5cW4cjQGAoAQHIUJKOs6+AAGRfOftNXkAAMvku1sCZCAhAZtLRmkmAAAECBAgQIDBqgeX7b6u6433DByA54kteXotLLhl1+1WOwFwFBCBz7fnxtFsAMp6+UJORCQhARtYhqkNgTwEByJ5wdiNAgAABAgQIECAwoMDyve+u+uAHDhOAvOiltXjYwwesrUMRIDCUgABkKEnH2VdAALKvnP0mLyAAmXwXa+BMBAQgM+lozSRAgAABAgQIEBi1wPLWd1bd/cHDBCDXXleLSy8ddftVjsBcBQQgc+358bRbADKevlCTkQkIQEbWIapDYE8BAciecHYjQIAAAQIECBAgMKDA8l1vr/rI3YcJQJ77olo8+rIBa+tQBAgMJSAAGUrScfYVEIDsK2e/yQsIQCbfxRo4EwEByEw6WjMJECBAgAABAgRGLbC8+aaqe+85TADyrGtr8djLR91+lSMwVwEByFx7fjztFoCMpy/UZGQCApCRdYjqENhTQACyJ5zdCBAgQIAAAQIECAwosHzbW6o+8bHDBCDPfE4tHveEAWvrUAQIDCUgABlK0nH2FRCA7Ctnv8kLCEAm38UaOBMBAchMOlozCRAgQIAAAQIERi2wvPENVfd/6jAByNXX1OKKK0fdfpUjMFcBAchce3487RaAjKcv1GRkAgKQkXWI6hDYU0AAsiec3QgQIECAAAECBAgMKLB88+uqHnzwMAHIU66uxVVPHbC2DkWAwFACApChJB1nXwEByL5y9pu8gABk8l2sgTMREIDMpKM1kwABAgQIECBAYLQCywQfCUC2lOXH76vla771IVstXvXqWjxqywLnVz2lFk95+rbD+zsBAmcgIAA5A3SnfOjnCA8CBNYLCEBcGQSmISAAmUY/agUBAgQIECBAgMD5FVjef3/VjT+7tQF7ByBPuLIWT79m6/FtQIDA8QUEIMc3d8aHCngCxBVBYIOAAMSlQWAaAgKQafSjVhAgQIAAAQIECJxfgWUWP88i6FvK3gHI5Y+vxTXP3XZ4fydA4AwEBCBngO6UDxEQgLggCAhAXAMEJi0gAJl092ocAQIECBAgQIDAORBY3ntP1c03ba3p3gHIZY+pxXNeuPX4NiBA4PgCApDjmzvjQwUEIK4IAgIQ1wCBSQsIQCbdvRpHgAABAgQIECBwDgSWH76r6t03b63p3gHIIy6txQuu23p8GxAgcHwBAcjxzZ1RAOIaINBLwBRYvZhsRGD0AgKQ0XeRChIgQIAAAQIECExcYHnn7VXvu3VrK/cOQC5cqMWLX7b1+DYgQOD4AgKQ45s7owDENUCgl4AApBeTjQiMXkAAMvouUkECBAgQIECAAIGJCyzff1vVHe/b2sq9A5Ac+SUvr8Ull2w9hw0IEDiugADkuN7O9osFTIHlqiCwQUAA4tIgMA0BAcg0+lErCBAgQIAAAQIEzq/A8j23VH3ozq0NOFUA8oLravGIS7eewwYECBxXQAByXG9nE4C4Bgj0FhCA9KayIYFRCwhARt09KkeAAAECBAgQIDADgeUtb6+65+6tLT1VAPLcF9Xi0ZdtPYcNCBA4roAA5LjeziYAcQ0Q6C0gAOlNZUMCoxYQgIy6e1SOAAECBAgQIEBgBgLLt99Y9bF7t7b0VAHINc+txeWP33oOGxAgcFwBAchxvZ1NAOIaINBbQADSm8qGBEYtIAAZdfeoHAECBAgQIECAwAwElje+oer+T21t6akCkKuvqcUVV249hw0IEDiugADkuN7OJgBxDRDoLSAA6U1lQwKjFhCAjLp7VI4AAQIECBAgQGDiAsvlsupNr6uq5daWnioAedLTavHkp209hw0IEDiugADkuN7OJgBxDRDoLSAA6U1lQwKjFhCAjLp7VI4AAQIECBAgQGDiAsv776+68Wd7tfJUAcgVV9bi6mt6ncdGBAgcT0AAcjxrZ1ovsABDgMB6AQGIK4PANAQEINPoR60gQIAAAQIECBA4nwLLj91X9fa39qr8qQKQyx9Xi2ue1+s8NiJA4HgCApDjWTuTAMQ1QGAnAQHITlw2JjBaAQHIaLtGxQgQIECAAAECBGYgsLzn7qpb3t6rpacKQB716Fo878W9zmMjAgSOJyAAOZ61MwlAXAMEdhIQgOzEZWMCoxUQgIy2a1SMAAECBAgQIEBgBgLLu+6ouu1dvVp6qgDkYQ+vxYte2us8NiJA4HgCApDjWTuTAMQ1QGAnAQHITlw2JjBaAQHIaLtGxQgQIECAAAECBGYgsLz9tqoPvK9XS08VgOQML3l5LS65pNe5bESAwHEEBCDHcXaWzQLWAHF1ENggIABxaRCYhoAAZBr9qBUECBAgQIAAAQLnU2B56zur7v5gr8qfOgC59rpaXHppr3PZiACB4wgIQI7j7CwCENcAgZ0FBCA7k9mBwCgFBCCj7BaVIkCAAAECBAgQmInA8uabqu69p1drTx2APOvaWjz28l7nshEBAscREIAcx9lZBCCuAQI7CwhAdiazA4FRCghARtktKkWAAAECBAgQIDATgeXPvbHqU5/s1dpTByBPv6YWT7iy17lsRIDAcQQEIMdxdhYBiGuAwM4CApCdyexAYJQCApBRdotKESBAgAABAgQIzEBguVxWvfl1VfnvHuXUAciTnlaLJz+tx5lsQoDAsQQEIMeSdp5NAtYAcW0Q2CAgAHFpEJiGgABkGv2oFQQIECBAgAABAudPYHn/p6pufEPvip86AHnClbV4+jW9z2dDAgQOLyAAObyxM5wsIABxhRAQgLgGCExaQAAy6e7VOAIECBAgQIAAgRELLO+7t+odN/au4akDkMdcXotnX9v7fDYkQODwAgKQwxs7gwDENUBgLwFPgOzFZicCoxMQgIyuS1SIAAECBAgQIEBgJgLLD99V9e6be7f21AHIIy6txQuu630+GxIgcHgBAcjhjZ1BAOIaILCXgABkLzY7ERidgABkdF2iQgQIECBAgAABAjMRWH7gfVW339a7tacOQBaLqpe8vBb5b4UAgVEICEBG0Q2zroRPhFl3v8afJCAAcX0QmIaAAGQa/agVBAgQIECAAAEC509g+Z5bqj50Z++KnzoAyZlecF0tHnFp73PakACBwwoIQA7r6+jbBQQg241sMVMBAchMO16zJycgAJlcl2oQAQIECBAgQIDAORFY3nxT1b339K7tIAHIs66txWMv731OGxIgcFgBAchhfR19u4AAZLuRLXYQeMUrXvHySy655Iur6vOr6oVVdWVV3V9V76uq/1xVr7l48eJPnHTI66+//ndW1Xf3PO1XX7x48Xt6brvTZgKQnbhsTGC0AgKQ0XaNihEgQIAAAQIECExcYHnjG6ru/1TvVg4SgFx9TS2uyFCEQoDAGAQEIGPohXnXQQAy7/4ftPXXX3/9j1XVF2w76GKx+IfL5fJrLl68uPZbkABkm6C/EyCwi4AAZBct2xIgQIAAAQIECBAYRmD54INVb37dTgcbJAC56qm1eMrVO53XxgQIHE5AAHI4W0fuJyAA6edkqx4C119//Tuq6tmrpz0uLhaLH18sFrdW1YXlcvnLl8vl11fV03Ko5XL5T1/72td+xbrDtgOQ5XL5RRcuXMjTI2vLJz/5ydt+4Ad+4MM9qrfzJp4A2ZnMDgRGKSAAGWW3qBQBAgQIECBAgMDEBZaf/ETVTW/aqZWDBCCPe0Itnvmcnc5rYwIEDicgADmcrSP3ExCA9HOyVQ+B66+//odXT3f884sXLz7Q3eXLv/zLn/jpT38602A9L39bLBZfeMMNN+SpkYeUdgBy4cKFa77v+77vXT1OP/gmApDBSR2QwJkICEDOhN1JCRAgQIAAAQIEZi6wvOfDVbf8/E4KgwQgj3p0LZ734p3Oa2MCBA4nIAA5nK0j9xMQgPRzstVAAq985Su/ZLFY/FAOt1gs/vYNN9zwdd1DC0AGwnYYAgQ+IyAAcSEQIECAAAECBAgQOL7A8s7bq96XSSH6l0ECkEsu1OIlL+t/UlsSIHBQAQHIQXkdvIeAAKQHkk2GE/jKr/zKyz7xiU/cuzriv7548eJv6B5dADKctyMRICAAcQ0QIECAAAECBAgQOAuB5W3vqrrrjp1OPUgAkjO+8KW1ePjDdzq3jQkQOIyAAOQwro7aX0AA0t/KlgMIXH/99U+oqrtWh/qhixcvfqkAZABYhyBAYKOAJ0BcHAQIECBAgAABAgSOL7C8+aaqe+/Z6cSDBSDPvrYWj7l8p3PbmACBwwgIQA7j6qj9BQQg/a1sOYDA9ddf/5ur6l/kUIvF4q/dcMMNf/ykAKSq/mNVPb+qnlhV+eaUhdb/fVV928WLF987QJU2HsIaIIfUdWwCxxMQgBzP2pkIECBAgAABAgQINALLG99Qdf+ndgIZLAC5+ppaXHHlTue2MQEChxEQgBzG1VH7CwhA+lvZ8pQC3/AN33DJW9/61p+sqs9bHerlFy9efP2WAGTTWT+xXC7/8Gtf+9pv36daX/ZlX3b1tv1uuOGGn75w4cKTH3jggbrzzju3be7vBAiMVCAByFVXXfWZ2t1xxx314IMPjrSmqkWAAAECBAgQIEBgGgLLBx+o5Ztet3NjEoA8+F3f8pD9Lvndf6QWj7psp2MtrnpKLZ76jJ32sTEBAocRuPLKK+vChQs5+HsXi8XW8bjD1MJR5ywgAJlz7x+57a985Su/frFYfPPqtP/i4sWLr1hXhdUaIH92uVzmSZGfvHDhwnuy3YMPPvisxWLxiuVy+co8QLLa92svXrz4Hbs25frrr19u2+fbvu3b6oorrti2mb8TIECAAAECBAgQIECAAAECLYEHP3ZvffLNP7OzyYP33Vsf+ht/7iH7PeHr/0JdctljdjrWJY+/oi593ot22sfGBAgcXEAAcnBiJ1gnIABxXRxF4Prrr//C1dRVD8tN2J/+9Kdf8v3f//1rV0O7/vrrP+vixYuZ7mptSPHKV77ySxaLRcKRrGj2sap69sWLF2/fpSECkF20bEuAAAECBAgQIECAAAECBPoLPHDXnfWpd/xc/x1WWw4VgCwe+eh65HUv3/n8diBA4KACApCD8jr4JgEBiGvj4AKveMUrXnTJJZf8eFU9vqo+sVgsvuiGG274sdOc+JWvfOWfWSwW37g6xp+5ePHiX9rleKbA2kXLtgTOt4ApsM53/6k9AQIECBAgQIDA+RNY3v7eWt5+284VH2oKrFosavGSl9fikkt2roMdCBAYVsAUWMN6OtruAgKQ3c3ssYPA9ddff01V/URVPbX+P/buBMqy667v/W/fquqqHtXzUD0ParVakmd4GBJgMRuQYrfrlCTAjh6DMDiP2CEhhCnCCcsLFgQIwTzbEJ7teDm6pySbiOAsQhymLBKwLdvqbrXU86BWq1s9qOfuqrr7rV1dLXq6VXc4wz57f+9aLNld5+z9/3/+WzLqX597pHFr7btHRkb+qI0l7njpu971rqW9vb3uqQ93hv97mqbf1e2at97PS9CzFmU9BMoR4CXo5bizKwIIIIAAAggggEC8AvbgXunMybYBMnsJutv5nvvlngThgwAC5QrwEvRy/dn979+jgAUCmQs88sgjg+Pj4+7Jjw3u66ystY+NjIx8MquNkiRxbyZfLGlnmqaZf7knAUhWk2IdBMoVIAAp15/dEUAAAQQQQAABBOITsC9sly67b6xu75NpALJ2k8z8he0VwNUIIJC5AAFI5qQs2KYAT4C0CcblrQk8+uiji8fGxv5C0lZ3hzHmn9Tr9d9t7e7WrkqSxL1DZAkBSGteXIVArAIEILFOnr4RQAABBBBAAAEEyhCw1krPfdH9Mci2t880AFm2Umb5yrZr4AYEEMhWgAAkW09Wa1+AAKR9M+6YRsC9xFzSFyS9ZTL8+Nl6vf6rWcIlSeKCj1cmvwLrz9I0/c4s13dr8QRI1qKsh0A5AgQg5bizKwIIIIAAAggggECcAvbKZWnX1zpqPtMAZP4imbUbO6qDmxBAIDsBApDsLFmpMwECkM7cuKuJwIMPPjhrYGDgTyV90+Qlv5Km6S9kDZYkyc9L+reTQcUvjoyMTPznLD8EIFlqshYC5QkQgJRnz84IIIAAAggggAAC8QnYs6el/bs7ajzTAGRglsw993dUBzchgEB2AgQg2VmyUmcCBCCduXHXHQSSJJkh6RlJ119I/ttpmn6gHaxHHnlk3ejo6IKnnnrq2Wb3DQ0Nfb8x5ilJbr9Lku5O0/SldvZp5VoCkFaUuAYB/wUIQPyfERUigAACCCCAAAIIhCNgjx+VXj7SUUOZBiDGSA+8zX0ld0e1cBMCCGQjQACSjSOrdC7A/wp0bsedtwgkSeJCiW2Tv+y+AusDtVptqi/9vPrkk0++eOMyQ0ND32qM+Z+S/sZa+0ytVvvq+Pi4e9eHenp63MvUh6y1Q5NffeW+pur9IyMjH8ljGAQgeaiyJgLFCxCAFG/OjggggAACCCCAAALxCthDe6XTJzsCyDQAcRVseYNM/0BHtXATAghkI0AAko0jq3QuQADSuR133h6AtPuGs4Npmq5rEoBM53tR0gfTNP3YdBd2+nMCkE7luA8BvwQIQPyaB9UggAACCCCAAAIIhC1gX9guXXb/yt7+J/MAZO0mmfkL2y+EOxBAIDMBApDMKFmoQwECkA7huO12gSRJug5AHnroobkzZsx4SNLbjTFvk7RC0mJJvZJOS9phjPkfo6Ojv//Zz3524smQvD4EIHnJsi4CxQoQgBTrzW4IIIAAAggggAAC8QpYa6Xnvii5v3bwyTwAWbZSZvnKDirhFgQQyEqAACQrSdbpVIAApFM57gtegAAk+BHTYCQCBCCRDJo2EUAAAQQQQAABBEoXsJcvSS8813EdmQcgdy2QWXd3x/VwIwIIdC9AANK9ISt0J0AA0p0fdwcsQAAS8HBpLSoBApCoxk2zCCCAAAIIIIAAAiUK2DMnpYN7O64g8wCkf0Bmyxs6rocbEUCgewECkO4NWaE7AQKQ7vy4O2ABApCAh0trUQkQgEQ1bppFAAEEEEAAAQQQKFHAHjsivXK04woyD0BkpAfeIlPr6bgmbkQAge4ECEC68+Pu7gUIQLo3ZIVABQhAAh0sbUUnQAAS3chpGAEEEEAAAQQQQKAkAbt/t3TWvb6zs0/2AYiku++TmTW7s4K4CwEEuhYgAOmakAW6FCAA6RKQ28MVIAAJd7Z0FpcAAUhc86ZbBBBAAAEEEEAAgfIE7PNfla5e6biAXAKQVetlFi3puCZuRACB7gQIQLrz4+7uBQhAujdkhUAFCEACHSxtRSdAABLdyGkYAQQQQAABBBBAoAQBOzYm7fhyVzvnEoAsXiazcm1XdXEzAgh0LkAA0rkdd2YjQACSjSOrBChAABLgUGkpSgECkCjHTtMIIIAAAggggAACBQvY82elvbu62jWXAGT2XJlN93ZVFzcjgEDnAgQgndtxZzYCBCDZOLJKgAIEIAEOlZaiFCAAiXLsNI0AAggggAACCCBQsIA9cUw6eqirXXMJQHp6ZO5/a1d1cTMCCHQuQADSuR13ZiNAAJKNI6sEKEAAEuBQaSlKAQKQKMdO0wgggAACCCCAAAIFC9jD+6VTJ7raNZcAxFW05Y0y/f1d1cbNCCDQmQABSGdu3JWdAAFIdpasFJgAAUhgA6WdaAUIQKIdPY0jgAACCCCAAAIIFChgX9wuXbrY1Y65BSDr7pa5a0FXtXEzAgh0JkAA0pkbd2UnQACSnSUrBSZAABLYQGknWgECkGhHT+MIIIAAAggggAACBQnYRkPa/iXJ2q52zC0AWTYos3xVV7VxMwIIdCZAANKZG3dlJ0AAkp0lKwUmQAAS2EBpJ1oBApBoR0/jCCCAAAIIIIAAAgUJ2IsXpN07ut4ttwBk3nyZ9Zu7ro8FEECgfQECkPbNuCNbAQKQbD1ZLSABApCAhkkrUQsQgEQ9fppHAAEEEEAAAQQQKEDAnjwhHdnf9U65BSC9fTL3vbnr+lgAAQTaFyAAad+MO7IVIADJ1pPVAhIgAAlomLQStQABSNTjp3kEEEAAAQQQQACBAgTskQPSyeNd75RbAOIq2/ommb4ZXdfIAggg0J4AAUh7XlydvQABSPamrBiIAAFIIIOkjegFCECiPwIAIIAAAggggAACCOQsYF/cIV260PUuuQYg6++WmceL0LseEgsg0KYAAUibYFyeuQABSOakLBiKAAFIKJOkj9gFCEBiPwH0jwACCCCAAAIIIJCnQFYvQHc15hqALFsps3xlnhSsjQACdxAgAOFYlC1AAFL2BNjfWwECEG9HQ2EItCVAANIWFxcjgAACCCCAAAIIINCWgL10UXpxe1v3NLs41wBk3gKZ9XdnUieLIIBA6wIEIK1bcWU+AgQg+biyagACBCABDJEWEJBEAMIxQAABBBBAAAEEEEAgP4GsXoDuKsw1AOFF6PkdAlZGYAoBAhCOR9kCBCBlT4D9vRUgAPF2NBSGQFsCBCBtcXExAggggAACCCCAAAJtCdgj+6WTJ9q6p9nFuQYgblNehJ7JnFgEgXYECEDa0eLaPAQIQPJQZc0gBAhAghgjTSDAEyCcAQQQQAABBBBAAAEEchSwL2yXLl/MZIfcA5C1m2TmL8ykVhZBAIHWBAhAWnPiqvwECEDys2XligsQgFR8gJSPwKQAT4BwFBBAAAEEEEAAAQQQyEfANsal577svrwqkw1yD0CWrpBZsTqTWlkEAQRaEyAAac2Jq/ITIADJz5aVKy5AAFLxAVI+AgQgnAEEEEAAAQQQQAABBHIVsBfOSXuez2yP3AOQOfNkNm7JrF4WQgCB6QUIQKY34op8BQhA8vVl9QoLEIBUeHiUjsANAjwBwnFAAAEEEEAAAQQQQCAfAXvimHT0UGaL5x6A1Hqk+98iY/jtsMyGxkIITCNAAMIRKVuAf+KXPQH291aAAMTb0VAYAm0JEIC0xcXFCCCAAAIIIIAAAgi0LGAP7pXOnGz5+ukuzD0AcQXcc7/MwKzpSuHnCCCQkQABSEaQLNOxAAFIx3TcGLoAAUjoE6a/WAQIQGKZNH0igAACCCCAAAIIFC1gd35FGr2a2baFBCCr1sssWpJZzSyEAAJTCxCAcELKFiAAKXsC7O+tAAGIt6OhMATaEiAAaYuLixFAAAEEEEAAAQQQaEnAuuDDBSAZfgoJQBYukVm9PsOqWQoBBKYSIADhfJQtQABS9gTY31sBAhBvR0NhCLQlQADSFhcXI4AAAggggAACCCDQkoA9c0o6uKela1u9qJAApH9AZssbWi2J6xBAoEsBApAuAbm9awECkK4JWSBUAQKQUCdLX7EJEIDENnH6RQABBBBAAAEEEChCwLqXn7uXoGf4KSQAcfXe9xaZ3t4MK2cpBBBoJkAAwtkoW4AApOwJsL+3AgQg3o6GwhBoS4AApC0uLkYAAQQQQAABBBBAoCUBu3undPF8S9e2elFhAcj6zTLz5rdaFtchgEAXAgQgXeBxayYCBCCZMLJIiAIEICFOlZ5iFCAAiXHq9IwAAggggAACCCCQp4BtNKTtX5KszXSbwgKQZYMyy1dlWjuLIYDAnQUIQDgZZQsQgJQ9Afb3VoAAxNvRUBgCbQkQgLTFxcUIIIAAAggggAACCEwrYC+cl/bsnPa6di8oLACZM09m45Z2y+N6BBDoQIAApAM0bslUgAAkU04WC0mAACSkadJLzAIEIDFPn94RQAABBBBAAAEE8hCwx49KLx/JfOnCApBa7dp7QNxf+SCAQK4CBCC58rJ4CwIEIC0gcUmcAgQgcc6drsMTIAAJb6Z0hAACCCCAAAIIIFCugN33gnTutcyLKCwAcZVv2ioze07mPbAgAgjcLEAAwokoW4AApOwJsL+3AgQg3o6GwhBoS4AApC0uLkYAAQQQQAABBBBAYEoB6977sf3LUmM8c6lCA5AVq2SWDmbeAwsigAABCGfALwECEL/mQTUeCRCAeDQMSkGgCwECkC7wuBUBBBBAAAEEEEAAgVsE7MUL0u4dubgUGoDMvUtmwz259MGiCCDw9wI8AcJpKFuAAKTsCbC/twIEIN6OhsIQaEuAAKQtLi5GAAEEEEAAAQQQQGBKAXvimHT0UC5KhQYgtR7p/rfIGH5rLJdhsigCkwIEIByFsgX4p3zZE2B/bwUIQLwdDYUh0JYAAUhbXFyMAAIIIIAAAggggMDUAcj+3dLZ07koFRqAuA7uvk9m1uxcemFRBBC4JkAAwkkoW4AApOwJsL+3AgQg3o6GwhBoS4AApC0uLkYAAQQQQAABBBBAoKnAxPs/dnxZGs/+/R9u08IDkME1MkuWM3EEEMhRgAAkR1yWbkmAAKQlJi6KUYAAJMap03OIAgQgIU6VnhBAAAEEEEAAAQTKEMjz/R+lBCC8B6SMY8SekQkQgEQ2cA/bJQDxcCiU5IcAAYgfc6AKBLoVIADpVpD7EUAAAQQQQAABBBC4JmCPH5VePpIbR+FPgNRq0n1vkXF/5YMAArkIEIDkwsqibQgQgLSBxaVxCRCAxDVvug1XgAAk3NnSGQIIIIAAAggggECxAnbvLun82dw2LTwAcZ1s3CIzZ15uPbEwArELEIDEfgLK758ApPwZUIGnAgQgng6GshBoU4AApE0wLkcAAQQQQAABBBBA4A4CtjEubf+y5N4DktOnlABk2aDM8lU5dcSyCCBAAMIZKFuAAKTsCbC/twIEIN6OhsIQaEuAAKQtLi5GAAEEEEAAAQQQQOCOAvbcWWnfrlx1SglAZs2RuXtrrn2xOAIxCxCAxDx9P3onAPFjDlThoQABiIdDoSQEOhAgAOkAjWYkA1QAACAASURBVFsQQAABBBBAAAEEELhFwL58WDr+cq4upQQgMtJ9b5bp7c21NxZHIFYBApBYJ+9P3wQg/syCSjwTIADxbCCUg0CHAgQgHcJxGwIIIIAAAggggAACNwjYF7dLly7malJOACJp7SaZ+Qtz7Y3FEYhVgAAk1sn70zcBiD+zoBLPBAhAPBsI5SDQoQABSIdw3IYAAggggAACCCCAwKSAHb0q7fxK7h6lBSALl8isXp97f2yAQIwCBCAxTt2vnglA/JoH1XgkQADi0TAoBYEuBAhAusDjVgQQQAABBBBAAAEEJNmTx6UjB3K3KC0A6e2Ttr5JxvDbZLkPmQ2iEyAAiW7k3jXMP9m9GwkF+SJAAOLLJKgDge4ECEC68+NuBBBAAAEEEEAAAQTs/hels2dyhygtAHGd3b1VZtac3HtkAwRiEyAAiW3i/vVLAOLfTKjIEwECEE8GQRkIdClAANIlILcjgAACCCCAAAIIRC1gG+PS9i9L1ubuUGoAsmxQZvmq3HtkAwRiEyAAiW3i/vVLAOLfTKjIEwECEE8GQRkIdClAANIlILcjgAACCCCAAAIIRC1gz56W9u8uxKDUAGRglsw99xfSJ5sgEJMAAUhM0/azVwIQP+dCVR4IEIB4MARKQCADAQKQDBBZAgEEEEAAAQQQQCBaAXtkv3TyRCH9lxqAuA7de0D6ZhTSK5sgEIsAAUgsk/a3TwIQf2dDZSULEICUPAC2RyAjAQKQjCBZBgEEEEAAAQQQQCA6Aeu+9mrnV6Sx0UJ6Lz0AGVwjs2R5Ib2yCQKxCBCAxDJpf/skAPF3NlRWsgABSMkDYHsEMhIgAMkIkmUQQAABBBBAAAEEohOw585K+3YV1nfpAcjsOTKbthbWLxshEIMAAUgMU/a7RwIQv+dDdSUKEICUiM/WCGQoQACSISZLIYAAAggggAACCEQlUOTXXznY0gMQV8S9b5SZ0R/VnGkWgTwFCEDy1GXtVgQIQFpR4pooBQhAohw7TQcoQAAS4FBpCQEEEEAAAQQQQCB3gYmvv9rxrDQ+lvte1zfwIgDha7AKmzcbxSFAABLHnH3ukgDE5+lQW6kCBCCl8rM5ApkJEIBkRslCCCCAAAIIIIAAAhEJ2HOvSfteKLRjLwKQmbNlNt9XaN9shkDIAgQgIU+3Gr0RgFRjTlRZggABSAnobIlADgIEIDmgsiQCCCCAAAIIIIBA8AL28H7p1IlC+/QiAHEdb3mjTD9fg1Xo8NksWAECkGBHW5nGCEAqMyoKLVqAAKRocfZDIB8BApB8XFkVAQQQQAABBBBAIFwB22hIO93XX40X2qQ3AciKVTJLBwvtnc0QCFWAACTUyVanLwKQ6syKSgsWIAApGJztEMhJgAAkJ1iWRQABBBBAAAEEEAhWwJ45JR3cU3h/3gQg/QMyW95QeP9siECIAgQgIU61Wj0RgFRrXlRboAABSIHYbIVAjgIEIDnisjQCCCCAAAIIIIBAkAJ27y7p/NnCe/MmAHGdb7pXZvbcwg3YEIHQBAhAQpto9fohAKnezKi4IAECkIKg2QaBnAUIQHIGZnkEEEAAAQQQQACBoATslSvSrq+W0pNXAciCRTJrNpbiwKYIhCRAABLSNKvZCwFINedG1QUIEIAUgMwWCBQgQABSADJbIIAAAggggAACCAQjYF8+Ih0/Wko/XgUgxkhb3yzT21uKBZsiEIoAAUgok6xuHwQg1Z0dlecsQACSMzDLI1CQAAFIQdBsgwACCCCAAAIIIFB5AWut9PxXpNHRUnrxKgBxAoNrZJYsL8WCTREIRYAAJJRJVrcPApDqzo7KcxYgAMkZmOURKEiAAKQgaLZBAAEEEEAAAQQQqLyAfe20dGB3aX14F4AMzJK55/7SPNgYgRAECEBCmGK1eyAAqfb8qD5HAQKQHHFZGoECBQhACsRmKwQQQAABBBBAAIFKC9j9L0pnz5TWg3cBiJPYtFVm9pzSTNgYgaoLEIBUfYLVr58ApPozpIOcBAhAcoJlWQQKFiAAKRic7RBAAAEEEEAAAQQqKWAvX5JeeK7U2r0MQOYvlFm7qVQXNkegygIEIFWeXhi1E4CEMUe6yEGAACQHVJZEoAQBApAS0NkSAQQQQAABBBBAoHIC9vB+6dSJUuv2MgCRkbY8INM/UKoNmyNQVQECkKpOLpy6CUDCmSWdZCxAAJIxKMshUJIAAUhJ8GyLAAIIIIAAAgggUBkBO3pVev6rknsJeokfPwMQSYuWyqxaV6IMWyNQXQECkOrOLpTKCUBCmSR9ZC5AAJI5KQsiUIoAAUgp7GyKAAIIIIAAAgggUCEBe/SQdOJY6RV7G4AYI937Jpm+vtKNKACBqgkQgFRtYuHVSwAS3kzpKCMBApCMIFkGgZIFCEBKHgDbI4AAAggggAACCHgtYMfGrj390RgvvU5vAxAns3RQZsWq0o0oAIGqCRCAVG1i4dVLABLeTOkoIwECkIwgWQaBkgUIQEoeANsjgAACCCCAAAIIeC1gjx+VXj7iRY1eByA9PdeeAnF/5YMAAi0LEIC0TMWFOQkQgOQEy7LVFyAAqf4M6QABJ0AAwjlAAAEEEEAAAQQQQODOAtY99fH816SxUS+IvA5AnNCK1TJLV3hhRREIVEWAAKQqkwq3TgKQcGdLZ10KEIB0CcjtCHgiQADiySAoAwEEEEAAAQQQQMA7AZ+e/nA43gcgPb3SljfI9PZ6N0sKQsBXAQIQXycTT10EIPHMmk7bFCAAaROMyxHwVIAAxNPBUBYCCCCAAAIIIIBAqQLWPfXhnv7w4N0f1yG8D0BcoUtXyKxYXers2ByBKgkQgFRpWmHWSgAS5lzpKgMBApAMEFkCAQ8ECEA8GAIlIIAAAggggAACCHgnYF86KL36ild1VSIAMebaUyAz+r2yoxgEfBUgAPF1MvHURQASz6zptE0BApA2wbgcAU8FCEA8HQxlIYAAAggggAACCJQmYK9clnY95750qrQa7rRxJQIQV/iCRTJrNnplRzEI+CpAAOLrZOKpiwAknlnTaZsCBCBtgnE5Ap4KEIB4OhjKQgABBBBAAAEEEChNwB7YLb12urT9m21cmQDENbD5fpmZs7wzpCAEfBMgAPFtIvHVQwAS38zpuEUBApAWobgMAc8FCEA8HxDlIYAAAggggAACCBQqYC+cl/bsLHTPVjerVAAyZ57Mxi2ttsZ1CEQrQAAS7ei9aZwAxJtRUIhvAgQgvk2EehDoTIAApDM37kIAAQQQQAABBBAIT8BaK+19XnIhiIefSgUgzm/9Zpl58z2UpCQE/BEgAPFnFrFWQgAS6+Tpe1oBApBpibgAgUoIEIBUYkwUiQACCCCAAAIIIFCAgD15XDpyoICdOtuicgFI3wzpngdkeno6a5i7EIhAgAAkgiF73iIBiOcDorzyBAhAyrNnZwSyFCAAyVKTtRBAAAEEEEAAAQSqKmCvXpFe2C41xr1toXIBiJNcvExm5VpvTSkMgbIFCEDKngD7E4BwBhBoIkAAwtFAIAwBApAw5kgXCCCAAAIIIIAAAt0J2H0vSOde626RnO+uZADiTDbdKzN7bs46LI9ANQUIQKo5t5CqJgAJaZr0kqkAAUimnCyGQGkCBCCl0bMxAggggAACCCCAgCcC9tSr0uF9nlTTvIzKBiD9A9Lm+2VqNe+NKRCBogUIQIoWZ79bBQhAOBMINBEgAOFoIBCGAAFIGHOkCwQQQAABBBBAAIHOBOzoqPTC16Rxf7/66npnlQ1AXANLB2VWrOpsSNyFQMACBCABD7cirRGAVGRQlFm8AAFI8ebsiEAeAgQgeaiyJgIIIIAAAggggEBVBOzBPdKZU5Uot9IBiIx091aZWbMrYU2RCBQlQABSlDT7NBMgAOFsINBEgACEo4FAGAIEIGHMkS4QQAABBBBAAAEE2hewLvhwAUhFPtUOQCQNzLoWgvBVWBU5cZRZhAABSBHK7DGVAAEI5wMBAhDOAAJBCxCABD1emkMAAQQQQAABBBBo9u+0Vy5LL+6QGv5/9dX1FiofgLhGFi2RWbWec4kAApMCBCAchbIFCEDKngD7eyvAEyDejobCEGhLgACkLS4uRgABBBBAAAEEEAhAwLrQY/fz0uWLleomiADEia/eILNwcaXsKRaBvAQIQPKSZd1WBQhAWpXiuugECECiGzkNBypAABLoYGkLAQQQQAABBBBAoKmAPbxfOnWickLBBCDuK7DcV2G5r8Tig0DkAgQgkR8AD9onAPFgCJTgpwABiJ9zoSoE2hUgAGlXjOsRQAABBBBAAAEEqixgXfDhApAKfoIJQJx9/4B0930yPT0VnAQlI5CdAAFIdpas1JkAAUhnbtwVgQABSARDpsUoBAhAohgzTSKAAAIIIIAAAghIspcuSrt3SNZW0iOoAMRNYP4imbUbKzkLikYgKwECkKwkWadTAQKQTuW4L3gBApDgR0yDkQgQgEQyaNpEAAEEEEAAAQQiF7BjY9fCj6tXKisRXADiJrFyrcziZZWdCYUj0K0AAUi3gtzfrQABSLeC3B+sAAFIsKOlscgECEAiGzjtIoAAAggggAACEQpY98THgT3S2dOV7j7IAMQYaeMWmdlzKz0bikegUwECkE7luC8rAQKQrCRZJzgBApDgRkpDkQoQgEQ6eNpGAAEEEEAAAQQiErAvHZRefaXyHQcZgLipuPeAbHIvRZ9Z+RnRAALtChCAtCvG9VkLEIBkLcp6wQgQgAQzShqJXIAAJPIDQPsIIIAAAggggEDgAvb4UenlI0F0GWwA4qbTN0O6e6uM+ysfBCISIACJaNietkoA4ulgKKt8AQKQ8mdABQhkIUAAkoUiayCAAAIIIIAAAgj4KGBPn5QO7fWxtI5qCjoAcSIDs6RN98q4J0L4IBCJAAFIJIP2uE0CEI+HQ2nlChCAlOvP7ghkJUAAkpUk6yCAAAIIIIAAAgj4JGDPvSbtf1Fy7/8I5BN8AOLmNGeetH6zTK0WyNRoA4GpBQhAOCFlCxCAlD0B9vdWgADE29FQGAJtCRCAtMXFxQgggAACCCCAAAIVELCXLkp7npca4xWotvUSowhAHMeCRTJrNrYOw5UIVFiAAKTCwwukdAKQQAZJG9kLEIBkb8qKCJQhQABShjp7IoAAAggggAACCOQlYK9ekfbslEZH89qitHWjCUCc8NIVMitWl2bNxggUJUAAUpQ0+zQTIADhbCDQRIAAhKOBQBgCBCBhzJEuEEAAAQQQQAABBCQ7elXau0u6cjlIjqgCEDfBFatllq4IcpY0hcB1AQIQzkLZAgQgZU+A/b0VIADxdjQUhkBbAgQgbXFxMQIIIIAAAggggICnAhPhh/vaK/cESKCf6AKQiRBklczSwUAnSlsISAQgnIKyBQhAyp4A+3srQADi7WgoDIG2BAhA2uLiYgQQQAABBBBAAAEPBSa+9so9+RFw+OHYowxAXOPLV8ksIwTx8G89SspAgAAkA0SW6EqAAKQrPm4OWYAAJOTp0ltMAgQgMU2bXhFAAAEEEEAAgfAEYgk/og5AXPPLBmWWrwrvANNR9AIEINEfgdIBCEBKHwEF+CpAAOLrZKgLgfYECEDa8+JqBBBAAAEEEEAAAX8E7BX35Mfzkvv6qwg+0T4Bcn22SwdlVhCCRHDUo2qRACSqcXvZLAGIl2OhKB8ECEB8mAI1INC9AAFI94asgAACCCCAAAIIIFC8gHUvOndfexVJ+OGEow9AHMLSFTIrVhd/4NgRgZwECEBygmXZlgUIQFqm4sLYBAhAYps4/YYqQAAS6mTpCwEEEEAAAQQQCFfgWvjhnvwYDbfJO3RGADKJsni5zMo1Uc2eZsMVIAAJd7ZV6YwApCqTos7CBQhACidnQwRyESAAyYWVRRFAAAEEEEAAAQRyErAXL0j7X5TG4go/HCcByA2HatESaeU6GcNv3eX0txrLFiRAAFIQNNs0FeCfohwOBJoIEIBwNBAIQ4AAJIw50gUCCCCAAAIIIBCDgD17Rjq4R2o0Ymj3th4JQG4hmXuXtHaTTE9PlOeBpsMQIAAJY45V7oIApMrTo/ZcBQhAcuVlcQQKEyAAKYyajRBAAAEEEEAAAQS6ELAnj0tHDrrnILpYpdq3EoDcYX4zZ0nrN8v0zaj2cKk+WgECkGhH703jBCDejIJCfBMgAPFtItSDQGcCBCCduXEXAggggAACCCCAQDEC1lrp2BHp+MvFbOjxLgQgTYbjwo8Nm2UGZnk8PUpD4M4CBCCcjLIFCEDKngD7eytAAOLtaCgMgbYECEDa4uJiBBBAAAEEEEAAgQIFrPuqq8P7pTMnC9zV360IQKaYjfsarHV3y8yZ5+8AqQyBOwgQgHAsyhYgACl7AuzvrQABiLejoTAE2hIgAGmLi4sRQAABBBBAAAEEChKwY2PSgd3ShXMF7ej/NgQg08zIvRB99QaZBYv8HyYVIjApQADCUShbgACk7Amwv7cCBCDejobCEGhLgACkLS4uRgABBBBAAAEEEChAwF65Iu1/QbpyuYDdqrMFAUiLs1q+SmbZYIsXcxkC5QoQgJTrz+4SAQinAIEmAgQgHA0EwhAgAAljjnSBAAIIIIAAAgiEImDPn5UO7JHGx0JpKbM+CEDaoHRPgaxaJ1PraeMmLkWgeAECkOLN2fFmAQIQTgQCBCCcAQSCFiAACXq8NIcAAggggAACCFRKwJ44Jh09LMlWqu6iiiUAaVPavRTdvRekv7/NG7kcgeIECECKs2anOwsQgHAyECAA4QwgELQAAUjQ46U5BBBAAAEEEECgEgK2MS4dPsDLzqeZFgFIB8fZvRx97SaZuXd1cDO3IJC/AAFI/sbsMLUAAQgnBAECEM4AAkELEIAEPV6aQwABBBBAAAEEvBeYeN+He9n55Yve11p2gQQgnU7ASCtWyizlvSCdCnJffgIEIPnZsnJrAgQgrTlxVYQCvAMkwqHTcpACBCBBjpWmEEAAAQQQQACBSgjYs2ekQ3ul8fFK1Ft2kQQgXU7grgXS6g0y7qkQPgh4IkAA4skgIi6DACTi4dP61AIEIJwQBMIQIAAJY450gQACCCCAAAIIVE3AvnJUOnakamWXWi8BSAb8AzMn3wsykMFiLIFA9wIEIN0bskJ3AgQg3flxd8ACBCABD5fWohIgAIlq3DSLAAIIIIAAAgiULmDd0x6H9klnT5deS9UKIADJaGK1HmnNBhn3RAgfBEoWIAApeQBsLwIQDgECTQQIQDgaCIQhQAASxhzpAgEEEEAAAQQQqIKAvXhBOrhHunqlCuV6VyMBSMYjWbJcWr5KplbLeGGWQ6B1AQKQ1q24Mh8BApB8XFk1AAECkACGSAsISCIA4RgggAACCCCAAAIIFCFgTxyTXj4sWVvEdkHuQQCSw1hnzpbWbpLp789hcZZEYHoBApDpjbgiXwECkHx9Wb3CAgQgFR4epSNwgwABCMcBAQQQQAABBBBAIE8BOzYqHd4vuRee8+lKgACkK77mN7uvxFq1TmbBopw2YFkEmgsQgHA6yhYgACl7AuzvrQABiLejoTAE2hIgAGmLi4sRQAABBBBAAAEE2hCw589Kh/ZKo6Nt3MWlzQQIQHI+GwuXSCvXyLhAhA8CBQkQgBQEzTZNBQhAOBwINBEgAOFoIBCGAAFIGHOkCwQQQAABBBBAwCcB677m6pWXpFeO+lRW5WshAClghP0D174Sa+asAjZjCwQkAhBOQdkCBCBlT4D9vRUgAPF2NBSGQFsCBCBtcXExAggggAACCCCAwDQC1r3g3D31ceE8VhkLEIBkDNpsOWOkwTUyi5cVtCHbxCxAABLz9P3onQDEjzlQhYcCBCAeDoWSEOhAgACkAzRuQQABBBBAAAEEELijgH3ttHR4nzQ+jlAOAgQgOaBOteS8BdLq9TK9vQVvzHYxCRCAxDRtP3slAPFzLlTlgQABiAdDoAQEMhAgAMkAkSUQQAABBBBAAIHIBawLPI4ekk6diFwi3/YJQPL1vePqfX3S6g0yc+8qYXO2jEGAACSGKfvdIwGI3/OhuhIFCEBKxGdrBDIUIADJEJOlEEAAAQQQQACBCAXshXPSoX2S++orPrkKEIDkyjv14u7rsFas4gXpJY4g1K0JQEKdbHX6IgCpzqyotGABApCCwdkOgZwECEBygmVZBBBAAAEEEEAgcAHbaFx70fnxY5Js4N360R4BSMlzcC9IX7NBZtackgth+5AECEBCmmY1eyEAqebcqLoAAQKQApDZAoECBAhACkBmCwQQQAABBBBAIDABe/midHCf5P7KpzABApDCqKfYyEjLBqWlK2RqNR8KooaKCxCAVHyAAZRPABLAEGkhHwECkHxcWRWBogUIQIoWZz8EEEAAAQQQQKC6AtZa6cQx6dgRyf1nPoUKEIAUyj31ZjNnX3saZGCmR0VRShUFCECqOLWwaiYACWuedJOhAAFIhpgshUCJAgQgJeKzNQIIIIAAAgggUCEB697x4d714d75wacUAQKQUtibb+qeAFmxWsa9H4QPAh0KEIB0CMdtmQkQgGRGyUKhCRCAhDZR+olVgAAk1snTNwIIIIAAAggg0LqAPXVCeumQ1Bhv/SauzFyAACRz0mwWnDPv2tMgfTOyWY9VohIgAIlq3F42SwDi5VgoygcBAhAfpkANCHQvQADSvSErIIAAAggggAACoQrY0avSkQPS2TOhtlipvghAPB5XT480uEZm4RKPi6Q0HwUIQHycSlw1EYDENW+6bUOAAKQNLC5FwGMBAhCPh0NpCCCAAAIIIIBAiQL21KvS0YPSOE99lDiGm7YmAPFlElPUMW++tGodT4NUYFS+lEgA4ssk4q2DACTe2dP5NAIEIBwRBMIQIAAJY450gQACCCCAAAIIZCVgR0cnn/o4ndWSrJORAAFIRpB5LzPxNMhamYWL896J9QMQIAAJYIgVb4EApOIDpPz8BAhA8rNlZQSKFCAAKVKbvRBAAAEEEEAAAb8F7OmT0ksHeOrD0zERgHg6mGZlzVsgrVrL0yAVG1vR5RKAFC3OfrcKEIBwJhBoIkAAwtFAIAwBApAw5kgXCCCAAAIIIIBANwI89dGNXnH3EoAUZ53ZTu5pkJXrZBYsymxJFgpLgAAkrHlWsRsCkCpOjZoLESAAKYSZTRDIXYAAJHdiNkAAAQQQQAABBLwWuPbUh3vXx5jXdVKcRABS4VMw8TSIezdIX4WboPQ8BAhA8lBlzXYECEDa0eLaqAQIQKIaN80GLEAAEvBwaQ0BBBBAAAEEEJhCYOKpD/d1V6/xro+qHBQCkKpMqkmdPA1S8QHmUz4BSD6urNq6AAFI61ZcGZkAAUhkA6fdYAUIQIIdLY0hgAACCCCAAAJNBXjqo5qHgwCkmnO7rWqeBglkkNm0QQCSjSOrdC5AANK5HXcGLkAAEviAaS8aAQKQaEZNowgggAACCCCAgHjXR7UPAQFIted3U/XuaZDBtTILFwfUFK10IkAA0oka92QpQACSpSZrBSVAABLUOGkmYgECkIiHT+sIIIAAAgggEJWAPfWqdNS962M8qr5DapYAJKRpTvYyb/7ku0FmBNgcLbUiQADSihLX5ClAAJKnLmtXWoAApNLjo3gEXhcgAOEwIIAAAggggAACYQvY0avSkQPS2TNhNxpBdwQggQ554mmQNTILlwTaIG1NJUAAwvkoW4AApOwJsL+3AgQg3o6GwhBoS4AApC0uLkYAAQQQQAABBColYE+dkI4e4qmPSk2tebEEIIEMslkbc++SVq+X6eNpkMAnfVN7BCAxTdvPXglA/JwLVXkgQADiwRAoAYEMBAhAMkBkCQQQQAABBBBAwDOBiac+Du+Xzr3mWWWU040AAUg3ehW5tzb5NMgingapyMS6LpMApGtCFuhSgACkS0BuD1eAACTc2dJZXAIEIHHNm24RQAABBBBAIHwBe3LyqY8G7/oIbdoEIKFNdIp+5sy79jTIjP6Imo6zVQKQOOfuU9cEID5Ng1q8EiAA8WocFINAxwIEIB3TcSMCCCCAAAIIIOCVAE99eDWOXIohAMmF1d9FeRrE39lkWBkBSIaYLNWRAAFIR2zcFIMAAUgMU6bHGAQIQGKYMj0igAACCCCAQOgCvOsj9Alf648AJI4539Yl7wYJevAEIEGPtxLNEYBUYkwUWYYAAUgZ6uyJQPYCBCDZm7IiAggggAACCCBQlMDEUx9HDkhnzxS1JfuUKEAAUiJ+2Vv3TL4bZCHvBil7FFnvTwCStSjrtStAANKuGNdHI0AAEs2oaTRwAQKQwAdMewgggAACCCAQrIA99ap09KA0zrs+gh3yLY0RgMQy6Sn6nDdfWrVOpm8GGIEIEIAEMsgKt0EAUuHhUXq+AgQg+fqyOgJFCRCAFCXNPggggAACCCCAQDYCdnR08qmP09ksyCqVESAAqcyo8i104mmQtTILF+e7D6sXIkAAUggzm0whQADC8UCgiQABCEcDgTAECEDCmCNdIIAAAggggEAcAvb0SemlAzz1Ece4b+uSACTSwTdre96CyadB+oCpsAABSIWHF0jpBCCBDJI2shcgAMnelBURKEOAAKQMdfZEAAEEEEAAAQTaE7Bjk099vMZTH+3JhXU1AUhY88ykG/c0yMp1MgsWZbIcixQvQABSvDk73ixAAMKJQKCJAAEIRwOBMAQIQMKYI10ggAACCCCAQLgC9uxp6fAByYUgfKIWIACJevxTNz9/kbRyrUxvL0gVEyAAqdjAAiyXACTAodJSNgIEINk4sgoCZQsQgJQ9AfZHAAEEEEAAAQTuLGAb49LRQ9LJExAhMCFAAMJBmFKgr09avVFm7jygKiRAAFKhYQVaKgFIoIOlre4FCEC6N2QFBHwQIADxYQrUgAACCCCAAAII3CxgL5yXDu2Vrl6BBoHXBQhAOAwtCSxeLq1YJVOrtXQ5F5UrQABSrj+7ubaxfgAAIABJREFUSwQgnAIEmggQgHA0EAhDgAAkjDnSBQIIIIAAAgiEIWAbDen4UemVl92f9w+jKbrITIAAJDPK8BcamCmt2Sgzc1b4vVa8QwKQig8wgPIJQAIYIi3kI0AAko8rqyJQtAABSNHi7IcAAggggAACCNxZwF6+JB3aJ126ABECdxQgAOFgtCVgjLR8pbRkhYz7z3y8FCAA8XIsURXFPx2iGjfNtiNAANKOFtci4K8AAYi/s6EyBBBAAAEEEIhHwL76ivTyYck9AcIHgSYCBCAcjY4EZs+59m6Q/v6ObuemfAUIQPL1ZfXpBQhApjfiikgFCEAiHTxtBydAABLcSGkIAQQQQAABBCokYMdGrz31ce61ClVNqWUJEICUJR/AvrUeadU6mQWLAmgmrBYIQMKaZxW7IQCp4tSouRABApBCmNkEgdwFCEByJ2YDBBBAAAEEEEDgjgL2/NlrLzofHUUIgZYECEBaYuKiqQQWLpFWrpFxgQgfLwQIQLwYQ9RFEIBEPX6an0qAAITzgUAYAgQgYcyRLhBAAAEEEECgOgLWWun4y9Kxl3jReXXG5kWlBCBejKH6RbgXpK/dKDPAC9J9GCYBiA9TiLsGApC450/3UwgQgHA8EAhDgAAkjDnSBQIIIIAAAghUQ8C6pz3cUx/u6Q8+CLQpQADSJhiXNxeo1aSVa2XcEyF8ShUgACmVn80lEYBwDBBoIkAAwtFAIAwBApAw5kgXCCCAAAIIIOC/gHXv+XDv+3Dv/eCDQAcCBCAdoHHL1ALunSAr18n08JVYZR0VApCy5Nn3ugABCGcBAQIQzgACQQsQgAQ9XppDAAEEEEAAAQ8EJr7yyn3d1fGjHlRDCVUWIACp8vQ8rn1Gv7TubpmZfCVWGVMiAClDnT1vFCAA4TwgQADCGUAgaAECkKDHS3MIIIAAAgggULKAHb0qHdwrXThXciVsH4IAAUgIU/S0B2OufSXWoqWeFhhuWQQg4c62Kp0RgFRlUtRZuABfgVU4ORsikIsAAUgurCyKAAIIIIAAAgjIuvd8HNgjjY+hgUAmAgQgmTCyyFQC8xdJq9fJ1PhKrKIOCgFIUdLs00yAAISzgUATAQIQjgYCYQgQgIQxR7pAAAEEEEAAAb8E7KuvSC8dkmT9KoxqKi1AAFLp8VWnePdVWOs3y/TNqE7NFa6UAKTCwwukdAKQQAZJG9kLEIBkb8qKCJQhQABShjp7IoAAAggggECoArbRkI4elE6eCLVF+ipRgACkRPzYtu7tk9Ztkpk9N7bOC++XAKRwcja8RYAAhCOBQBMBAhCOBgJhCBCAhDFHukAAAQQQQACB8gXs6Kh0cLd04Xz5xVBBkAIEIEGO1d+mJt4Lsk5m0RJ/awygMgKQAIZY8RYIQCo+QMrPT4AAJD9bVkagSAECkCK12QsBBBBAAAEEQhWwly5K+1+U3EvP+SCQkwABSE6wLDu1wOLl0uBqGReI8MlcgAAkc1IWbFOAv7PbBOPyeAQIQOKZNZ2GLUAAEvZ86Q4BBBBAAAEE8hewZ05Kh/dL7uuv+CCQowABSI64LD21wJx50tpNMr29SGUsQACSMSjLtS1AANI2GTfEIkAAEsuk6TN0AQKQ0CdMfwgggAACCCCQl4C1Vjr2knT8aF5bsC4CNwkQgHAgShWY0S+tv1tmYFapZYS2OQFIaBOtXj8EINWbGRUXJEAAUhA02yCQswABSM7ALI8AAggggAACQQpMvOz88D7pzKkg+6MpPwUIQPycS1RV1XquhSDuiRA+mQgQgGTCyCJdCBCAdIHHrWELEICEPV+6i0eAACSeWdMpAggggAACCGQjYBvj0v7d0vmz2SzIKgi0KEAA0iIUl+Ur4N4F4r4O664F+e4TyeoEIJEM2uM2CUA8Hk4VS3v3u9/9tlqt9r2S/oGkrZKWSBqV5J6Z/l+S/iBN079utbehoaF3GGMel/R1k2udkPR31tqPjYyMfL7VdTq5jgCkEzXuQcA/AQIQ/2ZCRQgggAACCCDgr4AdG7v2svOL5/0tksqCFSAACXa0FWzMSKvXyyxcXMHa/SqZAMSvecRYDQFIjFPPqeckSf5S0j+cbnljzCettT+WpunVZtc+8cQTtR07dnxM0o80u8YY8/tbt2798SeeeCKXN/ERgEw3SX6OQDUECECqMSeqRAABBBBAAIHyBezoVWnfC9LlS+UXQwVRChCARDl2v5seXCOzZLnfNXpeHQGI5wOKoDwCkAiGXFSLSZLskbRx8mmP1BjzV8aYQ5J6rLVvt9b+tKSVrh5r7WdGRkZ+oFltSZJ8WNLPTv78WWvtr/X09OwdHx/faIz5GUlvdj8zxny4Xq//XB49EoDkocqaCBQvQABSvDk7IoAAAggggED1BOyVy9fCj6tXqlc8FQcjQAASzCjDamTpoMyKVWH1VGA3BCAFYrPVHQUIQDgYmQkkSfLHk093PJWm6fitCz/66KOLx8bG3NdgbZ4ML76lXq+7p0Zu+jz88MObG43GDkm9kr4o6ZvTNH39jyA9+OCDswYGBv5C0tskjUm6N01TF75k+iEAyZSTxRAoTYAApDR6NkYAAQQQQACBigjYSxevhR9j7tuL+SBQngABSHn27DyNwKKl0sq17g/iQtWmAAFIm2BcnrkAf9dmTlr8gu95z3tmX7hwYV5PT09fq7unaeqezCj8MzQ09P3GmGfcxsaY36nX6z91axFJknxE0k+4X6/Vam9/8skn//et1zz88MPf0Gg0/mZynY/U6/X3Z90MAUjWoqyHQDkCBCDluLMrAggggAACCFRDwF44d+2dH+O3/Rm2ajRAlUEJEIAENc7wmpm/6Np7QWq18HrLsSMCkBxxWbolAQKQlpj8usi9H2Pnzp0/YK19dPLl4IvarNCmaeqerij848Kay5cvX3+b3p+kafp9txRhkiQ5ImlQ0q40Te9tVmSSJLsk3SPppTRNV7tv1sqyIQKQLDVZC4HyBAhAyrNnZwQQQAABBBDwW8C6F53v3SU1cnmtot/NU52XAgQgXo6Fom4UmL9QWrORJ0HaOBUEIG1gcWkuAgQgubDmt+gjjzyybnx8/HOSHpjcpZMZugCkJ78qm6+cJMlCSScnr3gmTdOHbrx627ZtG9y7PtyvGWM+Wq/X39dstSRJPirp8cmfb0jTdH+WPRGAZKnJWgiUJ0AAUp49OyOAAAIIIICAvwLWveh8z/PSuPtWYT4I+CFAAOLHHKhiGoFFS2RWrYepRQECkBahuCw3gU5+8zy3Ylh4aoHJd188J+nWf8q692OcltTyF7amaVrKP6mTJHmXpKddp8aYX6vX6//yxq5v/Iosa+0HR0ZGfquZyvDw8Aettf9ucq3vq9frf5LlGSIAyVKTtRAoT4AApDx7dkYAAQQQQAABPwWse9H5np3SaMv/CulnI1QVnAABSHAjDbehZYMyy3kxeisDJgBpRYlr8hQgAMlTN+O1h4aG/pUx5lcmv+rJ/TGd3240Gv/xqaeecl8F5f3HfXXXjh073Hs7vn6y2LelafqlGwsfHh5+n7X29yZ/LUnTdKRZY0mSDElK3c+tte8bGRlxT4S09Nm2bdu0/ytVr9f/rqenZ/n4+LhOnDjR0rpchAAC/gm4AGTp0qUThR0/flwNvuLBvyFREQIIIIAAAggUJmDHRmXdkx/uCRA+CHgm4AKQxu9P/DnH1z+1H/1nMjNne1Yp5SAgGfdS9CXLoZhGYMmSJerpmfgimpeMMdP+fhygCGQtQACStWiO6yVJ8n8m3/lhjTHD9Xr9qRy3y3zpoaGhnzbG/Prkwk+nafruWzdJkuRfSPq1yV9/R5qm/61ZIUNDQ+8wxkw89WGt/ecjIyO/0WrRSZJM+76Q3/u939OiRe2+XqXVCrgOAQQQQAABBBBAAAEEEChWwI6P6erzz6nhXnzOBwEPBRoXzuvUb/zSTZUt/OkPqTZ7jofVUhICUt/GLepdfO0P3PGZVoAAZFoiLshDgAAkD9Wc1kyS5JSkuyR9OU3Tr8tpm1yWTZLkWyT9mST38vXjY2NjD3z2s589futmw8PDv2it/dDkr397mqZfaFZQkiTfJul/uJ9ba39xZGTk37ZaPAFIq1JchwACCCCAAAIIIIAAAiEI2EZDV1/cocZr7tuT+SDgpwABiJ9zoaopBIzRjM33qce9HJ3PdAIEINMJ8fNcBAhAcmHNZ9EkSS5IGjDG/Md6vf5j+eyS/arvfve776vVan8laYGky8aY767X6395p52KegKEr8DKfs6siICvAnwFlq+ToS4EEEAAAQQQKErAWisd3Ct75mRRW7IPAh0J8BVYHbFxU9kCtZrMhi0yc+aWXYmX+/MVWF6OJaqiCEAqNO4kSV6QtMla+6mRkZHHqlB6kiTuZet/LWlQ0ri19t0jIyN/1Kz2ot4B0oodL0FvRYlrEPBfgJeg+z8jKkQAAQQQQACBfAXsK0elY0fy3YTVEchAgJegZ4DIEuUI9PZJm++X6esrZ3+Pd+Ul6B4PJ5LSCEAqNOjh4eGPW2t/RNKzaZq+1ffSH3nkkcHx8XH35MeGa99SZR8bGRn55FR1Dw0Nfb8x5hl3jbX2gyMjI781RVjyQWvtxNvRjDHfV6/XJ94HktWHACQrSdZBoFwBApBy/dkdAQQQQAABBMoVsOfPSnvdn6Wb9jWI5RbK7gi4U3rpguwf/OZNFuZHPshL0Dkd1RCYM0/acI/7Papq1FtQlQQgBUGzTVMB/o6s0OFIksSFHu5F6G5uX5+m6Zd8Lf/RRx9dPDY29heStk4GFP+kXq//7nT1btu2bUNPT8/eyXs+Wq/X39fsniRJPirp8cmfb0jTdP9067fzcwKQdrS4FgF/BQhA/J0NlSGAAAIIIIBAvgJ2dFR6cbs0NprvRqyOQEYCBCAZQbJMeQLLVsosX1ne/h7uTADi4VAiK4kApGIDT5LklyX9oqTdvb293/yZz3zmFd9aSJLEvajdvbz8LZNBxs/W6/VfbbFOkySJezbbfWXWrjRN750iAHle0hZJL6VpujrrP9JEANLixLgMAc8FCEA8HxDlIYAAAggggEAuAhPv/dj3guSeAOGDQEUECEAqMijKnFrAvQ9k7jyUJgUIQDgKZQsQgJQ9gQ72Hxoa+tfGmF+S5N5g9yuSRtI0famDpTK/5cEHH5w1MDDwp5K+aXLxX0nT9Bfa2ShJko9I+gl3T61We/uTTz75v2+9/+GHH/6GRqPxN+7XjTEfqdfr729nj1auJQBpRYlrEPBfgADE/xlRIQIIIIAAAghkL8B7P7I3ZcX8BQhA8jdmhwIEeB/ITcgEIAWcObaYUoAApEIHJEmSfTeU656QmHHDUw+vSXL/18oXu9o0TTdm3XqSJK4e9/6O75pc+7fTNP1Au/s8/PDDmxuNxk5JPZK+KOmb0zS9dH2dJElmSvpLSW+TNNZoNLY+9dRTu9vdZ7rrCUCmE+LnCFRDgACkGnOiSgQQQAABBBDIToD3fmRnyUrFChCAFOvNbjkK8D6Q13EJQHI8ZyzdkgABSEtMflyUJEmjScBxfY6thB/uWheAuHAh00+SJE9J2ja5qPsKrA/UarWparr65JNPvninIpIk+bCkn5382bOSfrXRaOyt1WouuPmXkt7sfmaM+XC9Xv+5TBuZXIwAJA9V1kSgeAECkOLN2REBBBBAAAEEyhOw7n0f7r0f7v0ffBComAABSMUGRrlTC/A+kAkfAhD+RilbgACk7Am0sf9kANLGHU0vzSsAaSWAubGog2marrtTlU888URt+/btHzfG/PAUDf/Bfffd9/gTTzzhgqHMPwQgmZOyIAKlCBCAlMLOpggggAACCCBQkoA9vF86daKk3dkWge4ECEC68+NuzwSMke55QKZ/wLPCii2HAKRYb3a7XYAApEKnYtu2bWuzKvfpp58+mNVa19dJkiSzAOT6msPDw99rrX1c0tdJWizpVUl/Z6396MjIyOez7uHG9QhA8tRlbQSKEyAAKc6anRBAAAEEEECgXAF78YK0e0e5RbA7Al0IEIB0gcetfgrMmy+zfrOftRVUFQFIQdBs01SAAITDgUATAQIQjgYCYQgQgIQxR7pAAAEEEEAAgekF7J6d0oXz01/IFQh4KkAA4ulgKKs7gfWbZebN726NCt9NAFLh4QVSOgFIIIOkjewFCECyN2VFBMoQIAApQ509EUAAAQQQQKBoAXv6pHRob9Hbsh8CmQoQgGTKyWK+CLivwNp8v0yt5ktFhdZBAFIoN5vdQYAAhGOBQBMBAhCOBgJhCBCAhDFHukAAAQQQQACB5gK2MS7t+hovPueQVF6AAKTyI6SBZgKDa2SWLI/ShwAkyrF71TQBiFfjoBifBAhAfJoGtSDQuQABSOd23IkAAggggAAC1RCwLx+Rjh+tRrFUicAUAgQgHI9gBWo90pY3yPT1Bdtis8YIQKIbuXcNE4B4NxIK8kWAAMSXSVAHAt0JEIB058fdCCCAAAIIIOC3gL165drTH9b6XSjVIdCCAAFIC0hcUl2BRUtkVq2vbv0dVk4A0iEct2UmQACSGWXxCw0PD393o9H4DmPMmyQtljRXUitfKGjTNN1YfMXV2pEApFrzoloEmgkQgHA2EEAAAQQQQCBkAXv0kHTiWMgt0ltEAgQgEQ07xlaNkba+SaY3rqdACEBiPOx+9UwA4tc8Wqrm4Ycf/oZGo/GHkjbfcMP1Wd74x35una/7mfs1F4D0tLRZxBcRgEQ8fFoPSoAAJKhx0gwCCCCAAAII3CAw8e6PnV+RxsdxQSAIAQKQIMZIE1MJrFgls3QwKiMCkKjG7WWzBCBejqV5UcPDw99hrf2vknonw4wbL74ecNz6a+6/3zhrApAW5k4A0gISlyBQAQECkAoMiRIRQAABBBBAoCMBe+qEdHh/R/dyEwI+ChCA+DgVaspUoG+GdO8bZdzTIJF8CEAiGbTHbcbzd5vHQ2i1tPe85z2zL1++fEDSosl7/t9arfaH4+Pj7zfGvNc92TE+Pr6hr69vbqPRWGuM+WZrrfv1ZZLOG2N+cmxs7K/cvU8//fTBVveN9ToCkFgnT9+hCRCAhDZR+kEAAQQQQACB6wL2xR3SpQuAIBCMAAFIMKOkkakE1t8tM29BNEYEINGM2ttGCUC8Hc3thSVJ8k8l/aYLOiT9RpqmP+OuSpLkdyS9/05fbZUkyUxr7b8zxvy4pFFjzFC9Xn+mQm2XVioBSGn0bIxApgIEIJlyshgCCCCAAAIIeCJgL56Xdu/0pBrKQCAbAQKQbBxZxXOBOfNkNm7xvMjsyiMAyc6SlToTIADpzK2Uu5Ik+RNJ3yPpknuqI03T89MFINcLHRoa+pgx5kclnZZ0X5qmvCVvmikSgJRyzNkUgcwFCEAyJ2VBBBBAAAEEEPBAwB7aJ51+1YNKKAGB7AQIQLKzZCXPBba8QaZ/wPMisymPACQbR1bpXIAApHO7wu9MkuSwJPempD9P0/TbrxdwyxMg7t0gN74IfeKyhx56aG5/f/9RSbOstb8wMjLy4cIbqNiGBCAVGxjlItBEgACEo4EAAggggAACoQnYsTFp57OSve1f/UJrlX4iEyAAiWzgMbe7ZLnM4JooBAhAohiz100SgHg9npuLS5LkoqR+SX+Ypql7mmPiMzw8/JvWWvf1WPby5ctzn3nmGXfdbZ8kSdxXX32fpL9L0/T/qlDrpZRKAFIKO5sikLkAAUjmpCyIAAIIIIAAAiUL2NdOSwd2l1wF2yOQvQABSPamrOipwMBMmXse8LS4bMsiAMnWk9XaFyAAad+stDuSJHFffTVD0kfTNP3J64UMDQ19yBjzCy4AqdVqm5988sm9dyryhq/BeiVN0xWlNVKRjQlAKjIoykRgGgECEI4IAggggAACCIQmYI8ckE4eD60t+kFABCAcgqgEtr5Jps/9Nl/YHwKQsOdbhe4IQKowpckakyR5SdJySZ9O0/S9NwQgP2mM+Q8uALHW/qORkZE/vlNbSZL8V0nvkHQ1TdM4vmiwi/kSgHSBx60IeCRAAOLRMCgFAQQQQAABBDIRsM9/Vbp6JZO1WAQBnwQIQHyaBrXkLrB6g8zCxblvU/YGBCBlT4D9CUAqdAaSJPmCpG+V9Fdpmn7L9dKHh4e/yVr7Vy4AMcZ8vF6vv+/WtpIkuUuSezJkoSSeAGlh7gQgLSBxCQIVECAAqcCQKBEBBBBAAAEEWhawLvhwAQgfBAIUIAAJcKi01FxgwSKZNRuDFyIACX7E3jdIAOL9iP6+wOHh4V+11v4LSafSNH09Iv7Wb/3W3iVLlrgXnLtfu2KM+e56vf6XN7RmhoaGPmmM+cHJF6Q/k6bpOyvUeimlEoCUws6mCGQuQACSOSkLIoAAAggggECJAvbkCenI/hIrYGsE8hMgAMnPlpU9FOjrk9n6Zg8Ly7YkApBsPVmtfQECkPbNSrtjaGjou4wx/20yxPj6NE2/dL2Y4eHhf2Ot/fnJnzUkfd5a+1ytVptlrf1eSZskuXm7p0QerNfrf1JaIxXZmACkIoOiTASmESAA4YgggAACCCCAQEgC9uAe6cypkFqiFwReFyAA4TBEJ3DP/TIDs4JumwAk6PFWojkCkEqM6VqRk096HJv8Gqt/n6bpB66X/9hjjw1cuHDhbyS9cTIEuVNnbt6fSNP0/65Q26WVSgBSGj0bI5CpAAFIppwshgACCCCAAAIlC9gdz0pjoyVXwfYI5CNAAJKPK6t6LLByrcziZR4X2H1pBCDdG7JCdwIEIN35FX73tm3bVvX09MyWdClN00M3FvDOd75zfm9v70eMMQ9PPu1x448vGmN+fevWrR964okn3BMifKYRIADhiCAQhgABSBhzpAsEEEAAAQQQkOz4uLT99S8CgASB4AQIQIIbKQ1NJ7B4mczKtdNdVemfE4BUenxBFE8AEsQYb27ikUceGWw0Gt/WaDQGa7Vao9Fo7BsbG/vC5z73uTMBtptbSwQgudGyMAKFChCAFMrNZggggAACCCCQo4C9dFF6cXuOO7A0AuUKEICU68/uJQjMmy+zfnMJGxe3JQFIcdbsdGcBAhBOBgJNBAhAOBoIhCFAABLGHOkCAQQQQAABBCTr3v3h3gHCB4FABQhAAh0sbTUX6B+Q2fKGoIUIQIIebyWaIwCpxJgosgwBApAy1NkTgewFCECyN2VFBBBAAAEEEChHwB4/Kr18pJzN2RWBAgQIQApAZgu/BIyRHnibjPtroB8CkEAHW6G2wv27q0JDoFQ/BQhA/JwLVSHQrgABSLtiXI8AAggggAACvgrYI/ulkyd8LY+6EOhagACka0IWqKLA1jfJ9M2oYuUt1UwA0hITF+UoQACSI27eSz/22GMDFy9e/B5J/6DRaKw2xiyQ1JOm6bffsrd58MEHZ7pfW7FixejHPvax0bxrC2F9ApAQpkgPCEgEIJwCBBBAAAEEEAhFwO7dJZ0/G0o79IHAbQIEIByKKAU2bpGZMy/Y1glAgh1tZRojAKnMqG4udHh4+J9ba39G0qIbfuLmadM07bnx6ne9612Lent7D0kakPR/0jT9xoq2XWjZBCCFcrMZArkJEIDkRsvCCCCAAAIIIFCwgN31NenK5YJ3ZTsEihMgACnOmp08ElizUWbBjb+951FtGZRCAJIBIkt0JUAA0hVf8Tc//vjjfadPn/6cJPfkh/vcOsPbAhB3UZIkH5H0PheQSLonTVPenDfN+AhAij/f7IhAHgIEIHmosiYCCCCAAAIIlCFgn/+qdPVKGVuzJwKFCBCAFMLMJr4JrFovs2iJb1VlVg8BSGaULNShAAFIh3Bl3ZYkye9L+uHJ/S9baz8h6QvGmB+Q9I/u9ASIu3ZoaOgbjTF/7X5ujPlgvV7/92X1UJV9CUCqMinqRGBqAQIQTggCCCCAAAIIhCJgdz4rjfKNxqHMkz5uFyAA4VREKbByrcziZcG2TgAS7Ggr0xgBSGVGNfEUx1sl/e1kyS81Go3veuqpp3a5/54kye9Ien+zAGTymtOS3JcKPp2maVKh1ksplQCkFHY2RSBzAQKQzElZEAEEEEAAAQRKErDbvyyNj5W0O9sikL8AAUj+xuzgocDgGpklyz0sLJuSCECycWSVzgUIQDq3K/zOoaGh/2CM+cnJr7H6tjRN/+J6ES0GIP9T0rdI2pmm6f2FN1CxDQlAKjYwykWgiQABCEcDAQQQQAABBEIRsM99SWqMh9IOfSBwmwABCIciSoEVq2SWDgbbOgFIsKOtTGMEIJUZ1cRTHjsk3SvpuTRN33hj6a0EIENDQ58yxvygpNfSNF1QodZLKZUApBR2NkUgcwECkMxJWRABBBBAAAEEShKwX/s7ybrXOvJBIEwBApAw50pX0wgsWymzfGWwTAQgwY62Mo0RgFRmVBMByMRXWFlrPzUyMvJYBwHI7xljflzSWJqmMyrUeimlEoCUws6mCGQuQACSOSkLIoAAAggggEBJAvar178RuaQC2BaBnAUIQHIGZnk/BZYOyqxY5WdtGVRFAJIBIkt0JUAA0hVfsTcnSXJJ0gxjzMfr9fr7OghArj8BciZN04XFVl+93QhAqjczKkbgTgIEIJwLBBBAAAEEEAhBwLonP9wTIHwQCFiAACTg4dJacwECEE4HArkKEIDkypvt4kmSHJLknol7Jk3Td7YbgCRJ4v6/Zfci9d1pmt6TbXXhrUYAEt5M6ShOAQKQOOdO1wgggAACCIQoYLd/SRrnHSAhzpaergkQgHASohRYsVpm6YpgW+cJkGBHW5nGCEAqM6qJr8D6U0nfIemEpME0TV///3ynewfII488snp8fHyfpJox5jP1ev2HKtR6KaUSgJTCzqYIZC5AAJI5KQsigAACCCCAQEkCdudXpNGrJe3OtgjkL0AAkr8xO3gosGq9zKIlHhaWTUkEINk4skrnAgQgndsVfmeSJP9M0q8BtrgRAAAgAElEQVS7PxRhrf3RkZGRP7xexHQByNDQ0P9njHmvu1fSY2mafqrwBiq2IQFIxQZGuQg0ESAA4WgggAACCCCAQCgC9oXt0uWLobRDHwjcJkAAwqGIUmDtJpn54X5TPQFIlKfaq6YJQLwax9TFJEni/mm4170IXdLZRqPxnU899dQX3V1TBSBJkvySpCcmw4+jCxYs2PCxj31stEKtl1IqAUgp7GyKQOYCBCCZk7IgAggggAACCJQkYPc8L104V9LubItA/gIEIPkbs4OHAhu2yMx1v9UX5ocAJMy5VqkrApAqTUvS8PDw+621vzMZZlw1xvyutfYz1tofN8b8qPv1GTNmLLh69eoKY8w3WWt/QtJbJLlZu6c/Hk7TdKRibZdSLgFIKexsikDmAgQgmZOyIAIIIIAAAgiUJGD375bOni5pd7ZFIH8BApD8jdnBQ4G775OZNdvDwrIpiQAkG0dW6VyAAKRzu9LuTJLktyT91GSgcWMd1+fpgo7bft0Y86F6ve6eBOHTggABSAtIXIJABQQIQCowJEpEAAEEEEAAgZYE7KF90ulXW7qWixCoogABSBWnRs1dC2x5o0x/f9fL+LoAAYivk4mnLgKQis56eHj4h6217n0g8ydbuDH0uHWuZ4wxH6zX65+oaLullE0AUgo7myKQuQABSOakLIgAAggggAACJQnYlw9Lx18uaXe2RSB/AQKQ/I3ZwUOB+98q09PjYWHZlEQAko0jq3QuQADSuV3pdyZJMscY44KQ75X0dklzbyjqiqS/lfTHM2bM+OinP/3ps6UXXLECCEAqNjDKRaCJAAEIRwMBBBBAAAEEQhGwJ49LRw6E0g59IHCbAAEIhyI6gZ5emfvdN9eH+yEACXe2VemMAKQqk2qhzve85z2zR0dH7xofH7+QpulrLdzCJVMIEIBwPBAIQ4AAJIw50gUCCCCAAAIISPbca9K+F6BAIFgBApBgR0tjzQRmzpbZfF/QPgQgQY+3Es0RgFRiTBRZhgABSBnq7IlA9gIEINmbsiICCCCAAAIIlCNgr1yWdn2tnM3ZFYECBAhACkBmC78E5i+UWbvJr5oyroYAJGNQlmtbgACkbTJuiEWAACSWSdNn6AIEIKFPmP4QQAABBBCIR8A2GtJzX4ynYTqNToAAJLqR0/DSFTIrVgftQAAS9Hgr0RwBSCXGRJFlCBCAlKHOnghkL0AAkr0pKyKAAAIIIIBAeQJ257PS6Gh5BbAzAjkKEIDkiMvSfgqsWiezaKmftWVUFQFIRpAs07EAAUjHdNwYugABSOgTpr9YBAhAYpk0fSKAAAIIIBCHgN2zU7pwPo5m6TI6AQKQ6EZOwxvukZl7V9AOBCBBj7cSzRGAeDimJEm+kHNZNk3Tb895j8ovTwBS+RHSAAITAgQgHAQEEEAAAQQQCEnAHt4vnToRUkv0gsDrAgQgHIboBO59o8yM/qDbJgAJeryVaI4AxMMxJUnSkGRzKs3N3AUgPTmtH8yyBCDBjJJGIhcgAIn8ANA+AggggAACgQnYE8eko4cC64p2ELgmQADCSYhKoNYj88Bbg2+ZACT4EXvfIAGIhyO6IQDJaz4EIC3MnQCkBSQuQaACAgQgFRgSJSKAAAIIIIBAywL23Flp366Wr+dCBKokQABSpWlRa9cCs+fIbNra9TK+L0AA4vuEwq8vr99gD18uxw5veQJkpzHmM41G42SWW46MjHw0y/VCXIsAJMSp0lOMAgQgMU6dnhFAAAEEEAhXwI6NSjueDbdBOotagAAk6vHH1/yiJTKr1gffNwFI8CP2vkECEA9HdIevwBqV9CfGmE8eP378j//8z/98zMOygyuJACS4kdJQpAIEIJEOnrYRQAABBBAIWMC6AMQFIXwQCEyAACSwgdLO1AKDa2SWLA9eiQAk+BF73yABiIcjGh4e/t5Go/GPjTEPShqYLPH6O0FOSfrPkj6Vpunfelh+MCURgAQzShqJXIAAJPIDQPsIIIAAAggEKGD37pLOnw2wM1qKXYAAJPYTEFn/G7fIzJkXfNMEIMGP2PsGCUA8HlGSJHdJeljSeyV94w2lXg9DXpT0ifHx8f/09NNPH/G4lUqWRgBSybFRNAK3CRCAcCgQQAABBBBAIDQB+9Ih6dVjobVFPwjwEnTOQFwC971Zprcv+J4JQIIfsfcNEoB4P6JrBW7btm1DT0/PP5b0Q5Kuf0Hg9SDE/fUvrLWfmDlz5lOf+tSnLlSkLa/LJADxejwUh0DLAgQgLVNxIQIIIIAAAghURMCeOiEd3l+RaikTgdYFeAKkdSuurLhAX5/M1jdXvInWyicAac2Jq/ITIADJzza3lYeGhv5hrVZ7r7V2SJJ7SsR9rochF40xT7uvyKrX63+WWxERLEwAEsGQaTEKAQKQKMZMkwgggAACCEQlYC9dlF7cHlXPNBuHAAFIHHOmS0nzFsisvzsKCgKQKMbsdZMEIF6PZ+ri3vGOd/TPmTPnnZLckyHfKannljDkqKT/NGPGjA9/+tOf5gti25w1AUibYFyOgKcCBCCeDoayEEAAAQQQQKBjAWut9NwXJfdXPggEJEAAEtAwaWVqgWUrZZavjEKJACSKMXvdJAGI1+NpvbhHH3102ejo6A8ZY94j6Q033GlrtdrXPfnkk19ufTWudAIEIJwDBMIQIAAJY450gQACCCCAAAI3C9gXd0iX+PZjzkVYAgQgYc2TbqYQWH+3zLwFURARgEQxZq+bJADxejztF/foo48uHh8f/zVr7WOTdxOAtM84cQcBSIdw3IaAZwIEIJ4NhHIQQAABBBBAIBMBe+SAdPJ4JmuxCAK+CBCA+DIJ6shdYOubZPpm5L6NDxsQgPgwhbhrIAAJYP6PP/5435kzZx6y1r5X0vdI6p1sy82XAKTDGROAdAjHbQh4JkAA4tlAKAcBBBBAAAEEMhGwJ09IR3gReiaYLOKNAAGIN6OgkDwFInoBumMkAMnzMLF2KwIEIK0oeXpNkiRvd6GHMWZY0vwbQg/3Hy9L+i/GmE/W6/XP3/CSdE+78a8sAhD/ZkJFCHQiQADSiRr3IIAAAggggIDvAvbiBWn3Dt/LpD4E2hIgAGmLi4urKjBvvsz6zVWtvu26CUDaJuOGjAUIQDIGzXu5bdu2re3t7X2vtda962PjLaGH+69/ba39ZH9/f50Xn3c3DQKQ7vy4GwFfBAhAfJkEdSCAAAIIIIBAlgK20ZC2f4kXoWeJylqlCxCAlD4CCihCYNmgzPJVRezkxR4EIF6MIeoiCEAqMP6HHnpobn9/v3vKw33F1TdJuj6363/dZ639lHvaI01TnoHOaKYEIBlBsgwCJQsQgJQ8ALZHAAEEEEAAgdwEeBF6brQsXJIAAUhJ8GxbrEBEL0B3sAQgxR4vdrtdgADE01PxxBNP1LZv3/7dtVrNPe3xkKSByVKvz+w1SfXJr7j6X562UemyCEAqPT6KR+B1AQIQDgMCCCCAAAIIhCrAi9BDnWy8fRGAxDv7qDqP6AXoBCBRnWxvmyUA8XA0SZL8hqRHXUh6S+gxJulPXehx7ty5P/r85z9/xcPygymJACSYUdJI5AIEIJEfANpHAAEEEEAgYAFehB7wcCNtjQAk0sHH1HZkL0AnAInpcPvbKwGIh7NJkqQx+dLy6/P5iqRPjI2Nfeazn/3scQ9LDrIkApAgx0pTEQoQgEQ4dFpGAAEEEEAgEgF76aL04vZIuqXNGAQIQGKYcuQ9zlsgs/7uqBD4Cqyoxu1lswQgHo7lhgDEVbfTWvtclmUaY2yapj+Y5ZohrkUAEuJU6SlGAQKQGKdOzwgggAACCMQhYK2VnvsiL0KPY9xRdEkAEsWY425y2UqZ5SujMiAAiWrcXjZLAOLhWG4JQLKu0M3cBSA9WS8c2noEIKFNlH5iFSAAiXXy9I0AAggggEAcAnb3Tuni+TiapcvgBQhAgh8xDa7fLDNvflQOBCBRjdvLZglAPBzLZACSZ2UEIC3oEoC0gMQlCFRAgACkAkOiRAQQQAABBBDoWIAXoXdMx40eChCAeDgUSspWYOubZfr6sl3T89UIQDwfUATlEYB4OOShoaF/nXdZIyMjv5z3HlVfnwCk6hOkfgSuCRCAcBIQQAABBBBAIGQBXoQe8nTj640AJL6ZR9VxhC9Ad/MlAInqlHvZLAGIl2OhKB8ECEB8mAI1INC9AAFI94asgAACCCCAAAL+CtiLF6TdO/wtkMoQaEOAAKQNLC6tnsDcu2Q23FO9urusmACkS0Bu71qAAKRrQhYIVYAAJNTJ0ldsAgQgsU2cfhFAAAEEEIhLwDYa0nNfcq96jKtxug1SgAAkyLHS1HWBpYMyK1ZF50EAEt3IvWuYAMS7kVCQLwIEIL5MgjoQ6E6AAKQ7P+5GAAEEEEAAAf8F7AvbpcsX/S+UChGYRoAAhCMStMDaTTLzFwbd4p2aIwCJbuTeNUwA4t1IKMgXAQIQXyYRXh323GvhNeVxRy4AWbp06USFx48fV8P9KUk+hQmYuXcVthcbIYAAAgggEKuAPbRPOv1qrO3Td0ACBCABDZNWbhfY8kaZ/v7oZAhAohu5dw0TgHg3EgryRYAAxJdJhFfH+I89FF5TdIRAE4Gej/8XbBBAAAEEEEAgZwF74ph09FDOu7A8AvkLEIDkb8wOJQnUemQeeGtJm5e7LQFIuf7sLhGAcAoQaCJAAMLRyEuAACQvWdb1UYAAxMepUBMCCCCAQGgC9txZad+u0NqinwgFCEAiHHosLc+eI7Npayzd3tQnAUiUY/eqaQIQr8ZBMT4JEID4NI2waiEACWuedDO1AAEIJwQBBBBAAIH8BezoqLTz2fw3YgcEchYgAMkZmOXLE1i4RGb1+vL2L3FnApAS8dl6QoAAhIOAQBMBAhCORl4CBCB5ybKujwIEID5OhZoQQAABBEIUsNu/JI2Ph9gaPUUkQAAS0bBja3VwjcyS5bF1PdEvAUiUY/eqaQIQr8ZBMT4JEID4NI2wauEl6MXNs3HmpPShD9y84ft/XrWNW4orIvKdeAl65AeA9hFAAAEEChOwe3ZKF84Xth8bIZCHAAFIHqqs6YXAhnsU678bEYB4cQKjLoIAJOrx0/xUAgQgnA8Eqi/QePW47L/60ZsaMT/9K6pteaD6zdEBAggggAACCCBwg4A9sl86eQITBCotQABS6fFR/FQCW98k0zcjSiMCkCjH7lXTBCBejYNifBIgAPFpGtSCQGcCjRPHZH/u8ZsDkA/+G9W2vrGzBbkLAQQQQAABBBDwVMCeOCYdPeRpdZSFQGsCBCCtOXFVxQRqPTIPvLViRWdXLgFIdpas1JkAAUhnbtwVgQABSARDpsXgBRqvHJX9hffdHID80ydUu/8twfdOgwgggAACCCAQl8DE16zueyGupuk2OAECkOBGSkNOYOZsmc33RWtBABLt6L1pnADEm1FQiG8CBCC+TYR6EGhfoPHyYdlfev/NAcj/84uqveHr2l+MOxBAAAEEEEAAAY8F7JXL0q6veVwhpSEwvQAByPRGXFFBgfmLZNZurGDh2ZRMAJKNI6t0LkAA0rkddwYuQAAS+IBpLwqBxpEDsr/8UzcHIO//OdXe9A1R9E+TCCCAAAIIIBCPgG00pOe+GE/DdBqkAAFIkGOlqaWDMitW/f/s3QmUZ+dZ3/nfW0tXdVfvpe6urt73VkuyLQuYgSGEHBJyZobRIKv+bcUMAQxj5wRmDsuBjCckiACZbEAWEoNjE5NgG9UtWzkhk0wGkihAJhBjy5JarW71vu+Leq/uqnrnvFXVppeq+m93eZfvPYcj7Lr3fZ/n89yW79tP3fsm60ADJNnSe5M4DRBvSkEgvgnQAPGtIsSDQPMCE8cPy/7cjz7cAPlL/4c6nvuW5gfjCgQQQAABBBBAwHMBu/d16d49z6MkPARmF6ABwt0RpcDajTL9K6NMrZGkaIA0osQ5RQrQAClSt4CxX3755Q437Msvv2wluf977HjhhRf6u7u7f8Za+7ykVZLOW2v/jTHmZ7MsO1tAWFEOSQMkyrKSVGICE0cOyP7Nn3goa/Oxn1LHN35rYhKkiwACCCCAAAIpCNiDe6WbN1JIlRwjFaABEmlhU09r8w6ZRUuSVaABkmzpvUmcBog3pagfyIsvvvhUR0fH/Y+6fi7Lsr/46FUf+chHlt27d++PJN3/uKCr8f1GyfmJiYlv++IXv3ig/mycQQOEewCB8AUmDu2T/Vs/9XAD5Id+XB3/zbeHnxwZIIAAAggggAACjwjY44ekK5dwQSBYARogwZaOwOcS2Pk+mZ7eZI1ogCRbem8SpwHiTSnqBzI0NPQJY8wvuIaGtfbbR0ZGfv/Rq3bv3v1PrbU/ON30mKm+r2dZ9lz92TiDBgj3AALhC0y8+7bs3/3Eww2QH/wxmW/60zIdky/UcSCAAAIIIIAAAtEI2LMnpXOno8mHRNIToAGSXs2TyPiZb0h6/UkDJIm73OskaYB4XZ6Hg6vVav9K0ndJeu+pp57qf/nllycePMN9+qqrq8s97XZJGjfGvGyM+VfW2vXW2n8oafN0Y+SFLMvcWBxzCNAA4fZAIHyBiX1vyf7iX328AfLct8p0d4efIBkggAACCCCAAAIPCNhLF6STRzDJWcD9pTxHOQL29i3p87/28GQf+bjM/AXlBMAsMvP7UMhToLtbZtezeY4Y3Fg0QIIrWXQB0wAJqKS1Wu0dSdsl/X6WZY99v2X37t0ftdZ+evoNkV8aGRn5yfvpvfjii9/Q0dHxX93PjDG/OTw8/H0BpV5JqDRAKmFnUgRyFZjY87rsP/iZh8Y07g2QD/y3Mr3zc52LwRBAAAEEEEAAgaoF7HtXpKN88TjvOkz8ys/nPSTjIeCtQMeP/LS3sQUZWO8CmR1PBxl6XkHTAMlLknFaFaAB0qpcBdfVarWrkhZZa//FyMjI9z8awtDQ0L8wxnzP9FseO7IsO/jgObVa7S1JT0nam2VZ2v/2baB+NEAaQOIUBDwXmHjzy7L/6Oceb4C4V5D7FnkePeEhgAACCCCAAALNCVi3AbrbCJ0jVwEaILlyMpjnAjRAci7QwsUyW3bmPGhYw9EACateMUZLAySgqtZqtbuSOo0xvzo8PPzDj4Zeq9WOSlov6VCWZdtm+Hkm6UVJ17IsWxpQ6pWESgOkEnYmRSBXgYnX/1D2n/zNxxsgT35AZsmyXOdiMAQQQAABBBBAoGoBO3pH2vdm1WFENz8NkOhKSkJzCNAAyfn2WLpcZsPWnAcNazgaIGHVK8ZoaYAEVNVareY+PNor6Z9nWfYDD4Zeq9XWSDox/Ymr3xgeHv7oo6kNDQ190hjzcUljWZbNCyj1SkKlAVIJO5MikKvAxJf/QPZTf+fxBsi2p2X6V+Q6F4MhgAACCCCAAAJVC9ixMentr1YdRnTz0wCJrqQkRAOkvHugf6XM2o3lzefhTDRAPCxKYiHRAAmo4LVa7ZiktZL+vyzL/tQjDRD3Saxfn/781ceyLPvMo6nVarV/Lul/kXQjy7LFAaVeSag0QCphZ1IEchOw1sr+0X+S/cwvPd4A2bRDZtVgbnMxEAIIIIAAAggg4IOAe/7Rm388vSz0IaI4YmAT9PLqyCbo5VnPNhOboOdcg1WDMgPur/LSPWiApFt7XzKnAeJLJRqIo1ar/WtJ/4Oku11dXRu+8IUvnLt/Wa1W+x1J3zHb/h/uvFqt9p8kucbJjJ/IaiCEpE6hAZJUuUk2QgF7757sV/5A9jO//HgDZN1mmTUbIsyalBBAAAEEEEAgdQH79uvS2L3UGcg/UAHXbJrx+X1+X6AZEXbyAoPrZVYMJM1AAyTp8nuRPA0QL8rQWBBDQ0MfN8Z8crrJ8XuSPjo6Onqxp6fnL0n629P/vdvg/JkZRjTTm6gvlPTvsixzjRSOOQRogHB7IBC2gPvtMfvGH828gBpYK7Pxsa2Swk6Y6BFAAAEEEEAAAbcofOcN6e4oFggEKUADJMiyEfRcAu6X75Y/kbQRDZCky+9F8jRAvChDY0F87/d+b9+dO3f2S1o9U4PDPetaa39oZGTknz368927d3+btfa16SbJz2dZ9jONzZruWTRA0q09mcchYK9dld37+swNkP5VMtt2xZEoWSCAAAIIIIAAAg8I2P1vSXduY4JAkAI0QIIsG0HPJbBhi8zS/qSNaIAkXX4vkqcB4kUZGg+iVqt9s6T/R9KiGa56NcuyF2cabffu3b9qrf3YdAPkz2VZ9h8anzXNM2mApFl3so5HwF66IHtgz8wNkMXLZHZ9IJ5kyQQBBBBAAAEEEJgWsPv3SHdu4YFAkAI0QIIsG0HPJbBxm8ySZUkb0QBJuvxeJE8DxIsyNBfEhz70obVdXV0/Ya39VkluM/MTkoafeuqpT7/88ssTj472wgsv9Hd1dR2XNF/S9QsXLvS/9tprY83Nmt7ZNEDSqzkZxyVgz56UPXpglm8IL5Te9w0yhv8ZjKvqZIMAAggggAAC9t23pds3gUAgSAEaIEGWjaDnEti0TWYxDZDOzk6ndMoYk/aO8PxpqUSAv/mphJ1JQxCgARJClYgRgdkF7PFDsqePz76J4pPvl5nXAyECCCCAAAIIIBCVgD24V7p5I6qcSCYdARog6dQ6mUw375BZtCSZdGdKlDdAki6/F8nTAPGiDAThowANEB+rQkwINC7gFv/24rnZGyBbdsosdC/RcSCAAAIIIIAAAvEI2IPvSDevx5MQmSQlQAMkqXKnkezmnTKL0l530gBJ41b3OUsaID5Xh9gqFaABUik/kyPQtsDkBuhuI/TP/PJDY5kf/DGZ+X3Sus0yy59oex4GQAABBBBAAAEEfBKwh/ZJN675FBKxINCwAA2Qhqk4MRSBrU/K9M20jW8oCbQfJw2Q9g0ZoT0BGiDt+XF1xAI0QCIuLqlFL2AnxqW3vqI5F1CrBmUG+Pxo9DcDCSKAAAIIIJCYAA2QxAoeWbo0QCIrKOlINEBEA4Q/CFUL0ACpugJNzL979+5va+L0OU8dHh7+vbzGinUcGiCxVpa8UhCwt29J7+6ZuwGydLnMhq0pcJAjAggggAACCCQkwB4gCRU7wlRpgERY1NRTYg8QGiCp/xnwIH8aIB4UodEQarXahCTb6PlznGezLOvKYZyoh6ABEnV5SS5yAXv1snTs4NwNkN4FMjuejlyC9BBAAAEEEEAgNQH77h7J/TIIBwIBCtAACbBohDy3wMZtMkuWJa3EGyBJl9+L5GmAeFGGxoKYboA0dvLcZ7kGSGceA8U8Bg2QmKtLbrEL2HOnpbMn526AdHRITz8nY/ifwtjvB/JDAAEEEEAgJQG7701p9E5KKZNrRAI0QCIqJqlMCazfIrOsP2kNGiBJl9+L5PlbHy/K0FgQtVrttQbfAOmQtETSdkm909eMSvqj+zNlWfZnGps13bNogKRbezIPX8AePyRduTR3A8Sl+eT7Zeb1hJ8wGSCAAAIIIIAAAtMCdu/XpHt38UAgSAEaIEGWjaDnEli7SaZ/RdJGNECSLr8XydMA8aIMxQTxsY99rPvKlSv/s6T/S9Jma+1nly9f/pc+9alP3StmxrhGpQESVz3JJi0Bu3+PdOdW/QbIpm0yi9N+HTmtO4NsEUAAAQQQiF/A7vmqND4Wf6JkGKUADZAoy5p2UoPrZVYMJG1AAyTp8nuRPA0QL8pQbBDPP//8op6env8o6VlJn86y7OPFzhjH6DRA4qgjWaQnYCcmpD1fkayt3wBZvVZm5WB6SGSMAAIIIIAAAtEK2Lf+WHLPQxwIBChAAyTAohHy3AKsOdkEnT8jlQvQAKm8BOUE8OKLL+7s6OjYI8lYa79zZGTk35czc7iz0AAJt3ZEnraAvXNLcm+AuO//3b4p+5lffgjE/OCPyczvm/rvlvbLbNiSNhjZI4AAAggggEA0ApO/COIaIBwIBCpQ9/k90LwIO2GBFQMyg+sTBhANkKSr70fyNED8qEMpUdRqtT+Q9M3W2pGRkZEPlzJpwJPQAAm4eISetIC9cklye4A00gDpnS+z45mkvUgeAQQQQAABBOIRsKOj0r434kmITJIToAGSXMnjT3hZv8z6tH/pjk9gxX+b+54hDRDfK5RjfENDQ58xxvyApKNZlm3Ocegoh6IBEmVZSSoBAXv6uHThbGMNEBnpmQ/KdHQmIEOKCCCAAAIIIBC7gL15XTr4Tuxpkl/EAjRAIi5uqqktXCyzZWeq2U/mTQMk6fJ7kTwNEC/KUE4Qu3fv/nVr7fdLGs2ybH45s4Y7Cw2QcGtH5GkL2EP7pBvXGmyASNq6S6ZvYdpoZI8AAggggAACUQjYq5elYwejyIUk0hSgAZJm3aPOuqdXZuf7ok6xXnI0QOoJ8fOiBWiAFC3s0fi1Wm2vJNd2vpRl2QqPQvMyFBogXpaFoBCoK2DdBujj4403QNZskHliVd1xOQEBBBBAAAEEEPBdwLq3YN3bsBwIBCpAAyTQwhH27AKdnTJPP5e0EA2QpMvvRfI0QLwoQ/FBDA0N/WVjzK+4T+JL+v0sy769+FnDnoEGSNj1I/o0BezoHWnfm19PvqEF1LInZNbzVcA07xiyRgABBBBAIC4Be+aEdP5MXEmRTVICDT2/JyVCslEIPPNc0p9dpgESxV0cdBI0QIIu3+zBv/zyyx1vv/12v6QPSHKfvXpJch+7l7XW/uWRkZFfizT13NKiAZIbJQMhUJrAgxugu0kbWkCxEXpp9WEiBBBAAAEEEChWwB4/LF25WOwkjI5AgQINPb8XOD9DI1CIwM73yfT0FjJ0CIPSAAmhSnHHSAMkoPrWarWpb7q0dtyv9ZclfUuWZe2M1VoEgV1FAySwghEuAq7hceq4dHFqA3R3NLyAevo5mU42QucmQgABBBBAAIGwBezBvdLNG2EnQfRJCzT8/J60EskHJ7B5h8yiJcGFnVfANEDykmScVgVogGdTpAUAACAASURBVLQqV8F1tVptYvoTVq3W7f/u7u7+i5///OevVBB+cFPSAAmuZASMgOyBvdKtP1n0N7yA2rxTZtFiBBFAAAEEEEAAgaAF7NuvS2P3gs6B4NMWaPj5PW0msg9NIPF9J2mAhHbDxhdvq3+RHp9EABlNN0AajXRM0jVJR40xfyTp88PDw/+50Ys5b/JbYSclrRkfH9e5c+cgQQABzwXsxITkNkC3bqujqaPhBdTqtTIrBz3PkPAQQAABBBBAAIHZBezYmPT2VyFCIGiBhp/fg86S4JMTeGKVzJoNyaV9P2EaIMmW3pvEaYB4UwoC8U2ABohvFSEeBOYWsO7ND/cGyANHwwuoxctkNm2DGAEEEEAAAQQQCFbAuk9fuU9gcSAQsEDDz+8B50joCQosXCyzZWeCiU+lTAMk2dJ7kzgNEG9KQSC+CdAA8a0ixIPA3AL2wlnp9PGHTmp4AdXVLfPUsxAjgAACCCCAAALBCtjLF6QTR4KNn8ARcAINP7/DhUBIAt3zZHZ9IKSIc42VBkiunAzWggANkBbQuCQNARogadSZLOMRsMcOSVcvtdYAcVftfL9MT088IGSCAAIIIIAAAkkJ2DMnpPNnksqZZOMToAESX03JaFrgmedkOjqT5KABkmTZvUqaBohX5SAYnwRogPhUDWJBoL6AfecN6e5o6w2Q9VtklvXXn4gzEEAAAQQQQAABDwXskQPStSseRkZICDQuQAOkcSvODExg21MyC/oCCzqfcGmA5OPIKK0L0ABp3Y4rIxegARJ5gUkvKgF7766092uP5dTUAqp/pczajVG5kAwCCCCAAAIIpCMw0y+DpJM9mcYi0NTzeyxJk0caAus2ySxfkUauj2RJAyTJsnuVNA0Qr8pBMD4J0ADxqRrEgsDcAvbqZenYwfYaIPMXyGx/GmoEEEAAAQQQQCA4ATs2Jr391eDiJmAEHhWgAcI9Ea3AE6tk1myINr25EqMBkmTZvUqaBohX5ZBqtdr4AyHZLMu67v/nR37WTuQPjdvOQDFfSwMk5uqSW2wC9tRx6eLZ9hogMtLTH5TpTPO7rLHdE+SDAAIIIIBASgL2xjXp0L6UUibXSAVogERaWNKS+hbKbN2VpAQNkCTL7lXSNEC8KsdkA2RCkpXc38TJNSq+/jdxj/ysncgfGredgWK+lgZIzNUlt9gE7IG90q0bbTZAJG3eKbNocWw85IMAAggggAACkQtYt/m52wSdA4HABWiABF5Awp9doKNDevo5GZPeX8XSAOEPRtUC6f2pq1q8zvzTTY77Z83UAMkjAxogDSjSAGkAiVMQ8EDAToxLe74qWdc7fvhoegG1ao3MwBoPsiIEBBBAAAEEEECgcQF77JB09VLjF3AmAp4KNP387mkehIXAjAI7npHpnZ8cDg2Q5EruXcI0QLwrCQH5IkADxJdKEAcCcwvM9cmHphdQCxfLbNkJOQIIIIAAAgggEJSA3femNHonqJgJFoGZBJp+focRgZAE1m+RWdYfUsS5xEoDJBdGBmlDgAZIG3hcGrcADZC460t28QjYc6elsydnTKjpBVRH59Q+IAm+lhzPHUEmCCCAAAIIpCVgx93bsF9JK2myjVag6ef3aCVILEqBJwZk1qyPMrW5kqIBklzJvUuYBoh3JSEgXwRogPhSCeJAYG4Be3i/dP29fBogbpRtT8ks6IMdAQQQQAABBBAIQoAN0IMoE0E2KEADpEEoTgtTINGN0GmAhHm7xhQ1DZCYqkkuuQrQAMmVk8EQKETAun0/3v6q5H7zcYajpQXU4HqZFQOFxMugCCCAAAIIIIBA3gJzvQ2b91yMh0DRAi09vxcdFOMjkJeA+9KA2wjdbYie0EEDJKFie5oqDRBPC0NY1QvQAKm+BkSAQD0Be/uW9O6eWU9raQG1dLnMhq31pubnCCCAAAIIIICAFwL2yLvStatexEIQCLQr0NLze7uTcj0CZQps2yWzYGGZM1Y+Fw2QykuQfAA0QJK/BQCYTYAGCPcGAv4L2AtnpdPH822AdHXLPPWs/8kTIQIIIIAAAgggIMnucW/DjmGBQBQCNECiKCNJzCWQ4BcHaIDwR6JqARogVVfgkflrtdrhEkKyWZZtKWGeoKegARJ0+Qg+EQF79ID03pV8GyButB3PyPTOT0SRNBFAAAEEEEAgVAE7ekfa92ao4RM3Ao8J0ADhpoheYGm/zIa0/kqOBkj0d7X3CdIA8axEtVptwv0ST52wZqrbTNc8ep47x/13rgHS6Vnq3oVDA8S7khAQAg8JTO3/8fqcv/HY8gJq7UaZ/pWII4AAAggggAACXgvYyxelE2X8Dp3XDAQXkUDLz+8RGZBK5ALzemSefH/kST6cHg2QpMrtZbI0QDwry3QDpNGo7jc95qrjTOfQAGlAmAZIA0icgkCFAvX2/3ChtbyAYh+QCivL1AgggAACCCDQqIA9eVS6dL7R0zkPAe8FWn5+9z4zAkTgAYFdz8p0dydDQgMkmVJ7mygNEM9K86EPfWhDvZA6Ozv/J0l/T9I8ScestZ+X9F+stce7urpujo2N9XV0dKyT9M2S/oKkTZJGJf3k+Pj4b7vxv/SlLx2rN0/qP6cBkvodQP6+C9Tb/6OtBkhnl/TUszKG/5n0/T4gPgQQQAABBFIWsO/ukW7fSpmA3CMToAESWUFJZ2aBjdtklixLRocGSDKl9jZR/mbH29LMHNju3bs/aq39p+4Xm40xf/38+fN/57XXXpt1x7tareY+dfWTkn5++vNXH8uy7DOBpV1JuDRAKmFnUgQaFrCH90vX35vz/LYWUNueklnQ13A8nIgAAggggAACCJQpYMfHJbcBet0vKJcZFXMh0J5AW8/v7U3N1QiUJ7BiQGZwfXnzVTwTDZCKC8D0k/tBcAQi8OEPf3j7xMTEG+7ND2PMXxkeHnZvgTR0DA0N/YQx5u9KuiPp2SzL9jd0YcIn0QBJuPik7r2AnZiQ3v6q5P45x9HWAmpgrcyqQe8tCBABBBBAAAEE0hSw169Jh/elmTxZRyvQ1vN7tCokFp1A30KZrbuiS2u2hGiAJFNqbxOlAeJtaR4PbGho6JeMMT8q6XSWZWubDN3UarUTklYbY/7h8PDwjzV5fXKn0wBJruQkHJCAdW9+uDdA6hxtLaD6FslsfbLeFPwcAQQQQAABBBCoRMCeOy2dPVnJ3EyKQFECbT2/FxUU4yKQt4D71PLTz8l0dOQ9spfj0QDxsixJBUUDJKBy12q1PZKetNa+MjIy8pFmQx8aGvq8MeYlSXuzLHu62etTO58GSGoVJ9+QBOyp49LFs3VDbm8BZab2AenqqjsPJyCAAAIIIIAAAmUL2CPvSteulj0t8yFQqEB7z++FhsbgCOQrsG2XzIKF+Y7p6Wg0QDwtTEJh0QAJqNi1Ws197H6htfYzIyMjH2s29KGhoU8ZY35I0rUsy5Y2e31q59MASa3i5BuSgN37Nene3boht72AWrdZZvkTdefhBAQQQAABBBBAoGwB6/b/GJ91O8iyw2E+BHIRaPv5PZcoGASBEgQG18usGChhouqnoAFSfQ1Sj4AGSEB3wP0GiKTfz7Ls25sNvVarvSbp2yRdz7JsSbPXp3Y+DZDUKk6+oQjYWzekA3sbCrftBdTiZTKbtjU0FychgAACCCCAAAJlCdjRO9K+N8uajnkQKE2g7ef30iJlIgTaFFi6XGbD1jYHCeNyGiBh1CnmKGmABFTdWq3mNkB/RtJ4R0fHU6+88sq7jYZfq9V2SHpbmtz4/u0sy97X6LWpnkcDJNXKk7fvAvbMCen8mYbCbHsB5b7N+tQHZTo7G5qPkxBAAAEEEEAAgTIE7JVL0vFDZUzFHAiUKtD283up0TIZAm0IzOuRefL9bQwQzqU0QMKpVayR0gAJqLJDQ0O/YIz5hCQr6c2xsbE/++qrr16ql8ILL7zQ39XV9buS3L9ZrbX2b42MjPzVetel/nMaIKnfAeTvq4B95w3p7mhD4eWygFq/RWZZf0PzcRICCCCAAAIIIFCGQKP7oZURC3MgkKdALs/veQbEWAgUKeB+2S6BPSdpgBR5EzF2IwI0QBpR8uScWq3mPg7ovvty//NV56y1P9vT0/OFz33uc9ceDfP5559f1NPT8xck/Ywkd62rt9slb1eWZfV3D/Yk76rCoAFSlTzzIjC7gL1xTTq0r2GiXBZQCxfLbNnZ8JyciAACCCCAAAIIFC1gD74j3bxe9DSMj0DpArk8v5ceNRMi0KLA5h0yi+L/Qj0NkBbvDy7LTYAGSG6U5QxUq9VekPSKJPc9Flc/9zaI2/nO/Y3gcWvtLWPMAknrJbm/seuajsydO26t/fDIyMiXyok27FlogIRdP6KPU8AeOyhdvdxwcrktoHa+T6ant+F5OREBBBBAAAEEEChKwForuQ3QJ8aLmoJxEahMILfn98oyYGIEmhBYvVZm5WATF4R5Kg2QMOsWU9Q0QAKsZq1W+x8lfUbSygfCd42QR48H63vRGPODw8PDvx1gypWETAOkEnYmRWBWAXvvnvTO19yH/BpWym0BtWJAZtD1lTkQQAABBBBAAIFqBeyd29L+t6oNgtkRKEggt+f3guJjWARyFViyTGbjtlyH9HEwGiA+ViWtmGiABFrvWq223Fr7E8aYH5j+vNVsmbhPXf362NjYLzeyX0igHIWETQOkEFYGRaBlAXv+tHTmZFPX57aA6uySdn1ApqOjqfk5GQEEEEAAAQQQyFvAXr4onTic97CMh4AXArk9v3uRDUEgUEcgkY3QaYDwJ6FqARogVVcgh/k//OEPPzkxMfGspBWSFkq6IelCR0fH66+88or7NFbjvy6dQzyxDEEDJJZKkkcMAnZiQtr3huTeAmniyHUBtXajTP+DL941EQinIoAAAggggAACOQmwAXpOkAzjpUCuz+9eZkhQCDwikMBG6DRAuOurFqABUnUFmN9bARog3paGwBIUsBfOSqePN515rguo7m5p5/t5C6TpKnABAggggAACCOQpYA/vl66/l+eQjIWANwK5Pr97kxWBIDCHwNZdMn3ud5njPWiAxFvbUDKjARJKpYizdAEaIKWTMyECMwrY8XHpnTek8bGmhXJfQA2ul1kx0HQcXIAAAggggAACCOQlYN1z0d3RvIZjHAS8Esj9+d2r7AgGgRkE1m2SWe4+6BLvQQMk3tqGkhkNkFAqRZylC9AAKZ2cCRGYuQFy7rR0trm9P+4PlPsCqsu9BfI+mc5OqoUAAggggAACCJQuMPlZ0Le+wleOS5dnwrIEcn9+Lytw5kGgVYGVq2VWr2v16iCuowESRJmiDpIGSNTlJbl2BGiAtKPHtQjkI2DH7kn73pTcWyAtHIUsoFatkRlY00I0XIIAAggggAACCLQnYO/ckvbvaW8QrkbAY4FCnt89zpfQENDiZTKbtkUNQQMk6vIGkRwNkCDKNHOQtVptiaRvlfQBY8wT1tpFxpiOeilNTEzYkZGRH6x3Xuo/pwGS+h1A/j4I2GMHpauXWw6lkAWUMdL2p2R6F7QcFxcigAACCCCAAAKtCFj3XOSejzgQiFSgkOf3SK1IKxKB3vkyO56JJJmZ06ABEnV5g0iOBkgQZXo4yI985CPL7t69+7eNMd8jqbeVFLIs4/stdeBogLRyZ3ENAvkJ2PeuSEcPtDVgYQuo+X3Stl0yrhnCgQACCCCAAAIIlCRg2/g0aEkhMg0CbQkU9vzeVlRcjECBAm5N+cw3RL22pAFS4P3D0A0J8Dc3DTH5c9JLL720cXx8/D9JWiupkfrZGc6zNEDq15QGSH0jzkCgKAE7Nibtf0tyn8Bq4yh0AbV6nczK1W1Ex6UIIIAAAggggEBzAvbEEenyheYu4mwEAhIo9Pk9IAdCTUzgyffLzOuJNmkaINGWNpjEGvkL9GCSSSBQU6vVvirp/dO5vinpc5K+U9J3uJ3wjDEfdZ/CstZuMMZ8m6RvnD73hrX2Zzs6Oi66/zw8PPwbCXi1lSINkLb4uBiBtgTs8UPSlUttjeEuLnQBNfkprKdleue3HScDIIAAAggggAACjQjYIweka1caOZVzEAhSoNDn9yBFCDoJgW1PySzoizZVGiDRljaYxGiABFMqaWhoqGaMecX9nZ6kf3fhwoXnX3vttbFarfaPJP2w++8ffbOjVqs9J+lTkp6VdHJiYuI7v/jFL+4LKO3KQqUBUhk9EycuYC+dl04ezUWh8AVUT6+0dZdMV1cu8TIIAggggAACCCAwl4A9uFe6eQMkBKIVKPz5PVo5EgtaYPMOmUVum984DxogcdY1pKxogARUraGhoc8bY16SNDE+Pr7lS1/60jEX/lwNkOmfu19P/h1J3yJpT19f3zd99rOfvRNQ6pWESgOkEnYmTVzA3rgmHdo/3edtH6OUBZR7UN20PepvtrZfCUZAAAEEEEAAgTwE7L43pVGWcnlYMoafAqU8v/uZOlGlLLB+i8yy/mgFaIBEW9pgEqMBEkypJhsdByVtkvSVLMu+6X7o9Rog002QrZLekdRhjPlfh4eHfz2g1CsJlQZIJexMmrCAHR2VDuyRxsdzUyhtAbViQGZwfW5xMxACCCCAAAIIIDCTgN3zVWl8DBwEohUo7fk9WkESC1JgcL3MioEgQ28kaBogjShxTpECNECK1M157Fqt9p6khcaY3xweHv6++8MPDQ39A2PM/+Z+Zbqvr69vtrc7arWa2zz9T0n63SzL3L4hHHMI0ADh9kCgPAHrmh7ukw53buc6aakLqHWbZZY/kWv8DIYAAggggAACCNwXsNZKb/5xbm/KIouAjwKlPr/7CEBMaQqsGpQZWBtt7jRAoi1tMInRAAmmVJNvgIxK6jLG/Orw8LDb82PyGBoa+gVjzCfck3BnZ+e63/qt3zo9U1q1Wu3Tkj4q6USWZRsCSr2SUGmAVMLOpAkK2IlxyW3o6T5/lfNR6gLKbYruPoUV8bdbcy4PwyGAAAIIIIBAEwJ27J709utNXMGpCIQnUOrze3g8RByrQP9KmbUbY81ONECiLW0widEACaZUkw2QC5KWS/rnWZb9wP3Qa7Xaj0v6e64BYoz5M8PDw783SwMkk/SipNEsy9y+IBxzCNAA4fZAoHiBIpsfLvrSF1A0QYq/aZgBAQQQQACBRAXs3VHpnTcSzZ60UxEo/fk9FVjy9FtgWb/M+i1+x9hGdDRA2sDj0lwEaIDkwljOILVa7Q8lfaOk/zfLsv/+/qy7d+/+89bafzvdAPm54eHhlx+N6OWXX+54++23D0zvIXIly7J4d1fKqRw0QHKCZBgEZhEouvlRSQPETUoThHseAQQQQAABBAoQsPfuSnu/VsDIDImAPwI0QPypBZGUKLB8hcw6t+VvnAcNkDjrGlJWNEACqtbu3bt/1Vr7sUc/YVWr1ZZIOitpnqQLY2Nj73v11VfPP5jag2+JSPqDLMv+dECpVxIqDZBK2Jk0EYEymh+VNUBogiRyF5MmAggggAAC5QrwCaxyvZmtGgEaINW4M2vFAnwCq+ICMH3sAjRAAqrw0NDQS8aYz7s3PcbHx7d96UtfOnw//N27d/+mtfYj0zvinZL09yW9Za1dIOl5Y4zbNL1j+uc/kmXZJwNKvZJQaYBUws6kCQhMbnh+tJg9Px7lq3QB5d4E2bhVZvGyBKpKiggggAACCCBQtMDkM9SerxQ9DeMjUKlApc/vlWbO5EkLPLFKZk28W/XyBkjSd7cXydMA8aIMjQXxPd/zPYvv3r3r3uzottZ+YmRk5O/cv7JWq62R9KakpXOM5ur9lWXLln3Lpz71qXuNzZruWTRA0q09mRcnMPntarfh+Z1bxU3ywMjVL6CMNLhOZsVAKfkyCQIIIIAAAgjEK2AnJqS3/jjeBMkMgSr28EMdAR8EVgzIDK73IZJCYqABUggrgzYhQAOkCSwfTq3Vai9Ya1dKOjUyMvKvH4zpxRdffLajo+OLkjbOEuvvjY2N7X7081g+5OVjDDRAfKwKMYUsYG/dmGp+jJXXf62+ATJdsf6V0poNMu6tEA4EEEAAAQQQQKAFAWut9OaXW7iSSxAIR8Cb5/dwyIg0BoGVgzKr18aQyYw50ACJtrTBJMbfxARTqsYCrdVq84wxL1prv0PSoKQJY8xha+1vZ1n2O42NwllOgAYI9wEC+QnYq5elE4cl95uLJR5eLaAWLZE2bJXp7CxRgKkQQAABBBBAICYB+8Z/jSkdckHgMQGvnt+pDwJlCawalBmgAVIWN/OkJ0ADJL2ak3GDAjRAGoTiNATqCNjzp6UzJytx8m4B1Ttf2rRdZl5PJR5MigACCCCAAAJhC9g9X5XGx8JOgugRmEPAu+d3qoVAGQKD66P+bDJvgJRxEzHHXAI0QLg/EJhFgAYItwYC7QnYsTHp5BHpvSvtDdTG1V4uoDq7pPWbZRbPtWVTG0lzKQIIIIAAAghEK2AP7JXcZ0U5EIhUwMvn90itScsjAfdLchGvD2mAeHSvJRoKDZAEC+82U//c5z53LcHUm0qZBkhTXJyMwEMC9tZN6dhByW16XuHh9QJq5WppYC37glR4fzA1AggggAACoQnY44ekK5dCC5t4EWhYwOvn94az4EQEmhTY+T6Znt4mLwrndBog4dQq1khpgMRa2Rny+u7v/u6lXV1dP26M+ZEsy5YnlHpLqdIAaYmNixCQvXhOOn3cbaRTuYb3C6i+hVP7gnTPq9yKABBAAAEEEEDAfwF79qR07rT/gRIhAi0KeP/83mJeXIbA7AJGeuY5mY6OaJFogERb2mASowESTKlaD/SFF17o7+7u/glr7Q9LWuhGyrKMXXjrkNIAaf2e48o0Bez4+NQnr9yG554cQSyg3CexNmyRcZukcyCAAAIIIIAAAnMI2MsXpROHMUIgWoEgnt+j1SexSgTm9cg8+f5Kpi5rUhogZUkzz2wCNEAivjdeeOGFld3d3T9lrf24pAWS7tfb0gCpX3gaIPWNOAOB+wL25g3JfZKh4k9ePVqRoBZQ7pNYq9ZE/Zs//IlBAAEEEEAAgfYEJp+5Du5tbxCuRsBjgaCe3z12JLSABBYultmyM6CAmw+VBkjzZlyRrwANkHw9cx/twx/+8AettR+z1n6bpEFJ7qOA56y1f2iM+bUsy/7Do5PWarUlxpj/01r7I9Pnuzq7b9G4f96U9Mksy34q92AjG5AGSGQFJZ1CBOzEhHT+tHTuzPS/ZgqZpuVBg1tA9S6Y2iB9vutZcyCAAAIIIIAAAg8L2LF70tuvw4JAtALBPb9HWwkSK02gf4XM2k2lTVfFRDRAqlBnzgcFaIB4fD/UarVflPSj0yE+WqvJj+tba39pZGTkJ++nUavVhlyDQ5Lb4+PBxscNSf+4q6vrF7/whS9c9Dhtb0KjAeJNKQjEUwF75/bUWx+3b3kaoRTkAsqYyc3RtWKADdK9vbMIDAEEEEAAgeoE7DtvePfWbXUazBybQJDP77EVgXzKFVi7SaZ/RblzljwbDZCSwZnuMQEaIJ7eFLVa7a9Lenk6vPtvbzwY7f3/zhpj/srw8PDfq9VqPy/pE480Pq5L+keSfinLssI/zO8+u9XZ2flNkr7JGPONktz/9U83a35jZGTk++uR12o1d84/q3fe9M9/IMuyzzZ4blOn0QBpiouTExKwbnNzt9H5mRNebHQ+F33QC6i+RdK6zTI9PQndXaSKAAIIIIAAAvUE7Ikj0uUL9U7j5wgEKRD083uQ4gRducCT75eZF/eajwZI5XdZ8gHQAPHwFnjppZcGx8fHj0jqeiC81yR9TdJtY8ygtfY7JK2b/vlFa+1fMcZ85sFPXRlj/v7du3d/8V/+y395taw0a7Xa5JspMx3WWhogZRWCeRAoSMC6PT7covvGtYJmyHfY4BdQHZ3S4ProfyMo36ozGgIIIIAAAnEL2KuXpGOH4k6S7JIVCP75PdnKkXhLAj29Mjvf19KlIV1EAySkasUZKw0QD+s6NDT0CWPML0w3M453dHR89yuvvPLGg6HWarVOa607729Mnzf+QMPk30n6oSzLTpWd3iMNkOOS9kn6ThdHKw0Qa+2f7+zsPD1bHqOjoyeLavDwBkjZdw/z+S5gL52XTp+QJty/bsI4ollALVoird0Y/W8GhXFXESUCCCCAAALVCrAPSLX+zF6sQDTP78UyMXosAv0rZdZujCWbWfOgARJ9ib1PkAaIhyWq1Wr/VtKfdz2Djo6O/+6VV175w9nCHBoa+rwx5qXpn7vPYX1heHj4e6vajbhWq/2stfbL3d3dX/7CF75w7qWXXto4/TZLSw2Qzs7OTb/1W791tIoy0QCpQp05fRSwo6PSyXDe+njQMKoF1OTbIOtk+lf6eJsQEwIIIIAAAgiUKGDf3eP1PmwlUjBVZAJRPb9HVhvSKUBg4zaZJcsKGNivIWmA+FWPFKOhAeJh1Wu12jFJayW9lWXZB+YKsVarfauk35s+587Y2NjGV1999bwvadEA8aUSxIFA8wJf3+vj7ElpYqL5ATy4IsoF1MLFktsoj71BPLjDCAEBBBBAAIFqBKzbi+38mWomZ1YEChSI8vm9QC+GDlnASE89K9P14NfvQ85n9thpgMRZ15CyogHiYbVqtZr7uH6fMeY3h4eHv2+uEJ9//vlFPT09702/8fEfsyz7sz6lRAPEp2oQCwKNC9jRO1N7fdy83vhFHp4Z7QKqo0NavU5yr0wb/qfcw1uPkBBAAAEEEChUwF6/Jh12XxvmQCAugWif3+MqE9nkIdC3UGbrrjxG8n4MGiDelyj6APlbEw9LXKvV3K9au89Z/ePh4eH/vV6ID5z/G8PDwx+td36ZP6cBUqY2cyHQvsDkWx8XzkrnTgX71seDCtEvoPoWSus2y/T0tl98RkAAAQQQQACBYAQmn9neeUO6dzeYmAkUgUYEon9+bwSBc9IQcHs8JvJ5YxogadzSPmdJx7bSxwAAIABJREFUA8TD6rTRAGmoYVJmyu02QCS9JmmHpCckuTdjDkr6XUmfLHqTd/YAKfNOYS4fBOydW9LxI9Ltmz6Ek0sMSSyg3BsgA2ukFat5GySXu4ZBEEAAAQQQCEPAnj019UsrHAhEJJDE83tE9SKVFgXc/o67PiDT2dniAGFdRgMkrHrFGC0NEA+rSgOk9v2S/lmd0tyx1v7oyMjIr7VSwg996ENuj5U5j+Hh4S93dnYOjI+P68KFC/VO5+cIBCtg3f4e50/Lnjsj2TD3+pgN3y2gJj79Sw/9uOOHflxmfl+w9Zo18Pl9Mus3y8xfEF9uZIQAAggggAACjwnYe3dl935Ncm+DcCAQiUBSz++R1Iw0mhdwb36YdZuavzDQK1asWKHOqWbPKWNM3b+PCzRNwvZYgAaIh8WhATLZAPlr1tovSfovnZ2dJ1yZJiYmNhtjXrTWDkm6f+9+PMuyTzVbxlqtVneV8MlPflL9/f3NDs35CAQlMHHjuu4e3i97+1ZQcTca7MTNG7r8i3/9odOX/8TfUIf7dFSMhzHqWr1OXWvWy7h9QjgQQAABBBBAIGqB0Xff1sSVS1HnSHJpCST3/J5Wecl2WqDn6Q/Guyadu8o0QPhTUIkADZBK2Oee9H4DRNKXJf2bBkJ8eXoT9EbPV5Zlf6OBcds+pcVPYC3Jssx97mrGJsXQ0NB3GWNcc6Rbkvtb2y1Zlp1tJlgaIM1ocW6MAnZ8XGOnjmnMfToh4t8aTHUBZXoXaN7m7epYtDjG25ecEEAAAQQQQGBaYPy9K7q77y08EIhGINXn92gKSCJ1BTr6Fqnn6WfrnhfpCTRAIi2s72nRAPGwQg80QAqLLsuyUj402EoDpJGkh4aGftoY83PT5/50lmW/0Mh198/hE1jNaHFubAL2xnXZE4el0TuxpfZYPkm/Qm+MzIqByf1BjPvGLAcCCCCAAAIIRCfgNkO3bjP0u6PR5UZCaQok/fyeZsmTy3rys8XLVySVN5/ASqrcXiZLA8TDsjzQACmqPjb0BsgLL7ywsqury7314Yx+J8uy78y7lGyCnrco41Ut4N760NmT0sVzVYdS2vxsoihpXo/kHrL7FpXmzkQIIIAAAgggUJ6APX9GOjP51WAOBIIX4Pk9+BKSwFwCbh8Mt/l5Yr+gxibo/LGoWqCov2CvOq+g56/Vaq/N9vmnvBLLsuzP5DXWXOMU9QaIm7NWq7mdyZ+QtDfLsqfyzocGSN6ijFelgL1+TTp5JLnfDmQB9cBd98QqafXa5B62q/xzx9wIIIAAAgiUITD5Sy773pTG7pUxHXMgUKgAz++F8jJ41QJuPbZysOooSp+fBkjp5Ez4iAANEG6JQgUKboCcl+TeG6QBUmgVGTxkgckF8Znj0iXXL0zvYAH1SM3d2yBrN8mwN0h6fxjIGAEEEEAgagF76bx08mjUOZJcGgI8v6dR5ySz7J4n7XwmyV9IowGS5B3vVdI0QLwqR3zBFNUAqdVqrvHhvuPj7uHfzbLsz+WtxxsgeYsyXtkC9sY16UR6b3086MwCapa7jrdByv7jyHwIIIAAAggUKuD2AtH+t5LY461QSAavXIDn98pLQABFCazblNzeH/cpaYAUdVMxbqMCNEAaleK8lgQKbID8VUk/74Ky1v61kZGRyf8/z4MGSJ6ajFWmgJ1wb32cki66bXLSPlhAzVH/yb1Btsj0LUz7JiF7BBBAAAEEIhGw712Rjh6IJBvSSFWA5/dUKx953r0LpO1PyZg0/xqWBkjk93cA6aX5Jy+AwsQSYrMNEHf+vXv3ln3xi198fTaDoaGh7zLGfNFt7SvptqRtWZadytuMBkjeooxXhoC9eUM6cZjf/pvGZgFV764z0soBadUamY6OeifzcwQQQAABBBDwXMAe3Cu550EOBAIV4Pk90MIR9twCm7bLLF6arBINkGRL703iNEC8KUUcgdRqtW+VtPV+NsaYJ6y1f3f6P/9nSZ9+MNMsyz774H8eGhr6dmPMf5T0X6y1v93R0fHG+Pi42+tDnZ2dmyUNWWuHpj995d7++OGRkZF/UoQeDZAiVBmzKAE7MSGdOy2dP+PeiypqmuDGZQHVYMncbySt3ywzf0GDF3AaAggggAACCPgoYG9elw6+42NoxIRAQwI8vzfExEkhCSxcLLNlZ0gR5x4rDZDcSRmwSQEaIE2CcfrcAkNDQ581xnxfo05Zlj10Dz7QAKk3xC1JP5Zl2afqndjqz2mAtCrHdWUL2Du3pWOHpDvujwXHgwIsoJq5H4y0eo20YnWyr2Y3o8W5CCCAAAII+Cpg3Wew3OewOBAIUIDn9wCLRshzCBhp2y6ZBX1JK9EASbr8XiRPA8SLMsQTRLsNkOeff37RvHnznpf0zcaYb5C0WtITkrokuaf4t40x//7evXuffvXVVyffDCnqoAFSlCzj5ilgL56TTh93m+HkOWw0Y7GAaqGUfYum3gZxe4RwIIAAAggggEBwAvbe3akN0cfHg4udgBHg+Z17ICqBlatlVq+LKqVWkqEB0ooa1+QpQAMkT03GikqABkhU5YwuGXvvnnTyiHTtanS55ZkQC6gWNTs7pbUbZZb2tzgAlyGAAAIIIIBAlQL2yiXp+KEqQ2BuBFoS4Pm9JTYu8lGgd7607Sn2WpREA8THGzStmGiApFVvsm1CgAZIE1icWqqAdU2PE0eksXulzhviZCyg2qzasiekNRtkXEOEAwEEEEAAAQSCEuBTWEGVi2CnBXh+51aIQ4BPXz1YRxogcdzVIWdBAyTk6hF7oQI0QArlZfAWBCY3Oj9zUrp4toWr07yEBVQOdXefwtqwRWbBwhwGYwgEEEAAAQQQKEvAul+W2ec+hTVW1pTMg0DbAjy/t03IAD4IrBqUGVjrQyRexEADxIsyJB0EDZCky0/ycwnQAOH+8EnAjt6Rjh2UbrPReTN1YQHVjNYc5xq3Qfo6mRUDOQ3IMAgggAACCCBQhoC9ennqGZIDgUAEeH4PpFCEObtA74Kpjc87OlCaFqABwq1QtQANkKorwPzeCtAA8bY0yQU2+Q3nk0elCTaybLb4LKCaFatz/uKl0rpNMl3dOQ/McAgggAACCCBQlIA9dki6eqmo4RkXgVwFeH7PlZPByhZwvzjm9v2Yv6Dsmb2ejwaI1+VJIjgaIEmUmSRbEaAB0ooa1+QpYF3D49Rx6fKFPIdNaiwWUAWUu7tb2rBVpm9RAYMzJAIIIIAAAgjkLWDHxqR390j37uY9NOMhkLsAz++5kzJgmQKr18qsHCxzxiDmogESRJmiDpIGSNTlJbl2BGiAtKPHte0K2Du3JPfbendutztU0tezgCqq/EYaWCOtXC3jfsuJAwEEEEAAAQS8FrC3bkgH35Gs9TpOgkOA53fugWAFliyT2bgt2PCLDJwGSJG6jN2IAH9r0YgS5yQpQAMkybJ7kbS9fFE65T55NeFFPCEHwQKq4OotXDy1QTqfxCoYmuERQAABBBBoX2DyGfPE4fYHYgQEChTg+b1AXIYuTqB3vrR1l0xnZ3FzBDwyDZCAixdJ6DRAIikkaeQvQAMkf1NGnFuAT17lf4ewgMrf9LER+SRWCchMgQACCCCAQD4C9tQx6eK5fAZjFAQKEOD5vQBUhixWwDU93L4fPb3FzhPw6DRAAi5eJKHTAImkkKSRvwANkPxNGXF2ATt6Rzp6UHKfvuLITYAFVG6UdQYy0uT3bleXNSHzIIAAAggggEALAta9YXx4v3TzegtXcwkCxQvw/F68MTPkLLBpu8zipTkPGtdwNEDiqmeI2dAACbFqxFyKAA2QUpiZRJK9elk6cURym55z5CrAAipXzvqDLV4mrdsk09VV/1zOQAABBBBAAIFKBOy9e9KBt9kUvRJ9Jq0nwPN7PSF+7pXAwFqZVWx6Xq8mNEDqCfHzogVogBQtzPjBCtAACbZ0wQQ++Rt4Z05KF88GE3NogbKAqqBi83qkDVtlFvRVMDlTIoAAAggggEAjAvbWTengXjZFbwSLc0oV4Pm9VG4ma0eATc8b1qMB0jAVJxYkQAOkIFiGDV+ABkj4NfQ5A3t3VDp2SLp1w+cwg4+NBVRFJTRGWrNBpn9lRQEwLQIIIIAAAgjUE7BXLknHD9U7jZ8jUKoAz++lcjNZqwK9C6StT7LpeYN+NEAahOK0wgRogBRGy8ChC9AACb2C/sZvr12Vjh+Wxsf8DTKSyFhAVVzIZf3S2o0yHZ0VB8L0CCCAAAIIIDCTgL1wVjp9HBwEvBHg+d2bUhDIbALujfetu2S6uzFqUIAGSINQnFaYAA2QwmgZOHQBGiChV9C/+K210rlT0rnT/gUXaUQsoDwobO/8qU9iuX9yIIAAAggggIB3AtZ9kvU8z6feFSbRgHh+T7TwoaTd1T3V/OjpCSViL+KkAeJFGZIOggZI0uUn+bkEaIBwf+QpMLnZpPvEwI1reQ7LWHUEWEB5cot0dEhrN8m4N0I4EEAAAQQQQMA7AXviiHT5gndxEVB6Ajy/p1fzYDJ2b7W7z17NXxBMyL4ESgPEl0qkGwcNkHRrT+b1/uLU2pOS1oyPj+vcuXN4IdCygHVND9f8cE0QjlIFWECVyl1/sv4V0uB6PolVX4ozEEAAAQQQKFVg8k3lowela1dKnZfJEHhUgOd37gkvBdweh5t3yCxc7GV4vgdFA8T3CsUfHw2Q+GtMhi0K8AZIi3Bc9nWByYXk+TPS2VOSLDIVCLCAqgC93pRuw8CNW2V6euudyc8RQAABBBBAoEQBOzEhHd4v3bxe4qxMhcDDAjy/c0f4J2Cm1i9LlvkXWiAR0QAJpFARh0kDJOLiklp7AjRA2vNL/Wo+eeXHHcACyo86PBaFe33cbY7OJ7E8LRBhIYAAAgikKmDHxqRD+6Q7t1IlIO+KBXh+r7gATP+4gPuUr3uTnaNlARogLdNxYU4CNEBygmSY+ARogMRX07Iy4pNXZUnXn4cFVH2jSs+Y/CTWBhm3RwgHAggggAACCHghMPmLPIfekUbveBEPQaQlwPN7WvX2Plv3+d4VA96H6XuANEB8r1D88dEAib/GZNiiAA2QFuESvmzyk1fnTknnzvDJK0/uAxZQnhRirjDcJ7E2bJZx/+RAAAEEEEAAAS8EJpsgh92bILe9iIcg0hHg+T2dWnufKc2P3EpEAyQ3SgZqUYAGSItwXBa/AA2Q+GucZ4b27ujURuc3b+Q5LGO1KcACqk3Asi53b4C4N0F4tbwsceZBAAEEEECgrgBNkLpEnFCAAM/vBaAyZPMCND+aN5vjChoguXIyWAsCNEBaQOOSNARogKRR5zyytFcvSyePSOPjeQzHGDkKsIDKEbOModzGgu4bu11dZczGHAgggAACCCBQR8COuc9h7WdPEO6U0gR4fi+NmolmE1izQeaJVfjkKEADJEdMhmpJgAZIS2xclIIADZAUqtxejnZiXDp9XLp0ob2BuLowARZQhdEWN3D3PGnDFpm+RcXNwcgIIIAAAggg0LAATZCGqTgxBwGe33NAZIjWBdZulOlf2fr1XDmjAA0QboyqBWiAVF0B5vdWgAaIt6XxIjB7+9bUJ6/4LrIX9ZgtCBZQXpdnjuCMtGq1tHKQDdJDLSFxI4AAAghEJTDZBDm8X3LPwBwIFCjA83uBuAw9twDNj8LuEBoghdEycIMCNEAahOK09ARogKRX80Yyntzo/MIZ6ewpyf3/HF4LsIDyujz1g5vfN/U2SE9v/XM5AwEEEEAAAQQKFbBjY1Mbo9MEKdQ59cF5fk/9Dqgof/cZXvYjLAyfBkhhtAzcoAANkAahOC09ARog6dW8XsZ2dFQ6wUbn9Zx8+jkLKJ+q0WIskxukr+dV9Bb5uAwBBBBAAIE8BSabIEfflW7eyHNYxkLg6wI8v3MzlCtgpHWbZJY/Ue60ic1GAySxgnuYLg0QD4tCSH4I0ADxow6+RGEvX5ROHZPcvh8cwQiwgAqmVPUDXbx0aoP07u7653IGAggggAACCBQmMLkP3rFD0rWrhc3BwOkK8Pyebu1Lz9z9otWGrTJuncFRqAANkEJ5GbwBARogDSBxSpoCNEDSrPujWU9+7/jkUem9K4AEKMACKsCizRVyZ9fUb2gtWRZZYqSDAAIIIIBAWAKTn4U9cUS6cjGswInWewGe370vURwBdnZKm3bI9C2MIx/Ps6AB4nmBEgiPBkgCRSbF1gRogLTmFtNV1jU9XPPDNUE4ghRgARVk2eoHvaxfGtwg09VV/1zOQAABBBBAAIHCBOzp49KFs4WNz8DpCfD8nl7NS8/YvVG+eYdM74LSp051QhogqVben7xpgPhTCyLxTIAGiGcFKTGcyW8bu89dXb1U4qxMVYQAC6giVD0Z0y1c1m6UWczbIJ5UhDAQQAABBBIVsOfPSGdOJJo9aectwPN73qKM95BAT+9U82NeDzAlCtAAKRGbqWYUoAHCjYHALAI0QNK8Ney16bc+7vHWRwx3AAuoGKpYJ4dlT0xtks7bIAkUmxQRQAABBHwVsJcvSCeOSrK+hkhcgQjw/B5IoUIMc36ftHm7TBd7CpZdPhogZYsz36MCNEC4JxCgAcI94JZq7q0P9wo/3zGO6n5gARVVOWdPxr0Nsm6zzKIliSRMmggggAACCPgnMPmLREcPSm5/EA4EWhTg+b1FOC6bW2DhYmnjNhm39wdH6QI0QEonZ8JHBGiAcEsgQAMk+XuAtz7ivQVYQMVb2xkzW75CWr2Ot0ESKzvpIoAAAgj4I2Bv3pCOvCuNj/kTFJEEJcDze1DlCiNY98a4+3RuR0cY8UYYJQ2QCIsaWEo0QAIrGOGWJ8AnsMqzrmom6zY3P3WcvT6qKkAJ87KAKgHZtynYG8S3ihAPAggggEBiAnZ0VDqyXxq9k1jmpJuHAM/veSgyxtcFBtbKrBoEpGIBGiAVF4DpRQOEmwCBWQRogMR9a9irl6c2OndNEI5oBVhARVva+okt7ZfWuL1B+MZvfSzOQAABBBBAIF+Byc/LHj0g3bye78CMFr0Az+/Rl7icBI2Z+kTusv5y5mOWOQVogHCDVC1AA6TqCjC/twI0QLwtTVuBWbe5+amj0ntX2hqHi8MQYAEVRp0Ki7KzS1q7QcY1QzgQQAABBBBAoFQBOzEhnTzKHnulqoc/Gc/v4dew8gzcPh+btsv0Lao8FAKYEqABwp1QtQANkKorwPzeCtAA8bY0LQdmL1+UTh+TxsdbHoMLwxJgARVWvQqLdvGyqUZI97zCpmBgBBBAAAEEEJhZwJ49JZ07BQ8CDQnw/N4QEyfNJjCvR9q8Q6anFyOPBGiAeFSMREOhAZJo4Um7vgANkPpGoZxh745O/fbZ9fdCCZk4cxJgAZUTZAzDuN8EG1wv4zZK50AAAQQQQACBUgXslUvSicOStaXOy2ThCfD8Hl7NvIm4b6G0cRufwPWmIH8SCA0QD4uSWEg0QBIrOOk2LkADpHErX8+0boF16bx05qQ0wVsfvtapyLhYQBWpG+jYCxdLazfJ9PQEmgBhI4AAAgggEKaAdfuBHHmXt7HDLF9pUfP8Xhp1XBO5T96u2yTT0RFXXpFkQwMkkkIGnAYNkICLR+jFCtAAKda36NHtndvSySPSzRtFT8X4HguwgPK4OFWG5hZGA2ulJ1bJuA0SORBAAAEEEECgFAE7emeqCeL+yYHADAI8v3NbNC0wsFZm1WDTl3FBeQI0QMqzZqaZBVj1c2cgMIsADZAwb43JzRYvnJ36zjCv2IdZxByjZgGVI2aMQy1YKK3bKNO7IMbsyAkBBBBAAAEvBazbj+/4IenaVS/jI6hqBXh+r9Y/qNndLzWt3yKzZFlQYacYLA2QFKvuV840QPyqB9F4JEADxKNiNBiKvX1r6tvC7p8cCEhiAcVtUFfAvQGyao20YoBX5uticQICCCCAAAL5CEx+qvbsSen8mXwGZJRoBHh+j6aUxSbSPU/atF1mPr/IVCx0PqPTAMnHkVFaF6AB0rodV0YuQAMknAJPvvVx7vT0AoqNFcOpXPGRsoAq3jiaGdxbIO67wQv6okmJRBBAAAEEEPBdwF6+OPXZWt7c9r1UpcXH83tp1OFO5DY737BNprs73BwSi5wGSGIF9zBdGiAeFoWQ/BCgAeJHHepFYd0eH+6tD74jXI8qyZ+zgEqy7G0kbaSVq6VVg7wN0oYilyKAAAIIINCMwOTz/NED0ti9Zi7j3EgFeH6PtLB5pbV8hbRmA8/qeXmWNA4NkJKgmWZWARog3BwIzCJAA8TvW8NOjEtnTkkXz/odKNFVKsACqlL+cCfv6Z16G6RvUbg5EDkCCCCAAAIBCdh7d6c2R+dTtgFVrZhQeX4vxjX8UY00uE5mxUD4qSSYAQ2QBIvuWco0QDwrCOH4I0ADxJ9aPBqJvXldOn5Yujvqb5BE5oUACygvyhBuEE8MSKvXyHR0hpsDkSOAAAIIIBCIwOQvOJ04Il29HEjEhFmEAM/vRagGPmZnp7Rhq8yiJYEnkm74NEDSrb0vmdMA8aUSxOGdAA0Q70oi3vrwrya+R8QCyvcKBRDfvB5p/RYZ961hDgQQQAABBBAoXMCePy2dOVn4PEzgpwDP737WpbKoeudLG7fJuDe0OYIVoAESbOmiCZwGSDSlJJG8BWiA5C3a3ni89dGeX6pXs4BKtfJ5522kFaukgbV8bzhvWsZDAAEEEEBgBgF7/T3p2EFpfByfxAR4fk+s4HOlu2SZtG6zjHsDhCNoARogQZcviuBpgERRRpIoQoAGSBGqzY85+dbH2VPSBfb6aF6PK1hAcQ/kKuB+82z9ZpkFvA2SqyuDIYAAAgggMFMTZPTO1Obod27jk5AAz+8JFXuuVN0vHq0aBCMSARogkRQy4DRogARcPEIvVoAGSLG+jYxub92Y2uvDLX44EGhBgAVUC2hcUkfASCtXS6sGeRuEewUBBBBAAIGCBax7A+TEYem9KwXPxPC+CPD87kslKorDve3hPj+7eGlFATBtEQI0QIpQZcxmBGiANKPFuUkJ0ACprtzWWun8mak3P2SrC4SZgxdgARV8Cf1NYP6CqcWZ+y4xBwIIIIAAAggUKsC+IIXyejU4z+9elaPcYNjvo1zvEmejAVIiNlPNKEADhBsDgVkEaIBUc2vY0VHpxCHp5o1qAmDWqARYQEVVTv+S6eiQVq+TeWKVf7EREQIIIIAAApEJ2GtXpeOH2Bcksro+mg7P75EXeLb0Fi+b+tQs+31EeQPQAImyrEElRQMkqHIRbJkCNEDK1J6ay16+KJ06Jrl9PzgQyEGABVQOiAxRX8C9or92k0x3d/1zOQMBBBBAAAEEWhaw7AvSsl0oF/L8HkqlcoxzYO3kJ2aN4a8oc1T1aigaIF6VI8lg+LdLkmUn6UYEaIA0opTPOXZsTDp1VLp6OZ8BGQWBaQEWUNwKpQl0dknrN8m4317jQAABBBBAAIHCBCb3BTl5hLVDYcLVDszze7X+pc7Ofh+lclc5GQ2QKvWZ2wnQAOE+QGAWARog5dwa1n3q6thB6d7dciZklqQEWEAlVW4/kn1iQFq9lg3S/agGUSCAAAIIRCxg3Z6BZ06yZ2BkNeb5PbKCzpZO7wJp41aZnt5EEk47TRogadffh+xpgPhQBWLwUoAGSPFlsRfOSmdOSG7Tcw4EChBgAVUAKkPWF1iwUNqwRWZeT/1zOQMBBBBAAAEEWhaw169N/TLV+FjLY3ChXwI8v/tVj0KiWdovrdso09FZyPAM6p8ADRD/apJaRDRAUqs4+TYsQAOkYaqmT5z85NWJI9K1K01fywUINCPAAqoZLc7NVWDylf7NfBIrV1QGQwABBBBA4HEBe3dUOnpQun0TnggEeH6PoIizpmCkwXUyKwZiTpLcZhCgAcJtUbUADZCqK8D83grQACmmNPaW++TVIcktVDgQKFiABVTBwAxfX8At8Ab4JFZ9KM5AAAEEEECgdQE7MSGdOiZdvtD6IFzphQDP716UIf8gurqn3pBeuDj/sRnRewEaIN6XKPoAaYBEX2ISbFWABkircrNfZy9dmNrsnE9e5Y/LiDMKsIDixvBCoM99EmubTHe3F+EQBAIIIIAAArEK2EvnpxohrDeCLTHP78GWbvbA3edh3X4f3fMiTI6UGhGgAdKIEucUKUADpEhdxg5agAZIfuWzbgFy+oR08Wx+gzISAg0IsIBqAIlTyhFwC75N22XmLyhnPmZBAAEEEEAgUQF7071xfkC6dy9RgbDT5vk97Po9Fn3/Cmlwg0xHR2SJkU4zAjRAmtHi3CIEaIAUocqYUQjQAMmnjJP7fbiNCW9cy2dARkGgCQEWUE1gcWrxAm7ht36LzJJlxc/FDAgggAACCCQsYF3zw61Bbl5PWCHM1Hl+D7Nuj0VtjLRmo4xrgHAkL0ADJPlboHIAGiCVl4AAfBWgAdJ+ZezoHenwfvb7aJ+SEVoUYAHVIhyXFSvg9gRZNVjsHIyOAAIIIIBA4gKT+4KcOclb6IHdBzy/B1awmcJ1bz67T165T19xICCJBgi3QdUCNECqrgDzeytAA6S90tjr16ZePR8fb28grkagDQEWUG3gcWmxAkv7pXWb+BxAscqMjgACCCCAgOyVS9LJI5JriHB4L8Dzu/clmjtAt8m52+zcbXrOgcC0AA0QboWqBWiAVF0B5vdWgAZI66WxVy9Lxw+x+WDrhFyZkwALqJwgGaYYAbdA3LhNprOzmPEZFQEEEEAAAQQmBeztW9LRA7yZHsD9wPN7AEWaLcSVqyX3prP7/BUHAg8I0ADhdqhagH8rVV0B5vdWgAZIa6Wxl85LJ4+2djFXIZCzAAuonEEZLn+B+X3S5u38llz+soyIAAIIIIDAQwKTexO6X9K6/h4yHgvw/O5xcWYLze1z595sdm84cyAwgwANEG6LqgVogFRdAeb3VoAGSPOlsedOS2dPNn8hVyBQkAALqIJgGTajDK7pAAAgAElEQVRfgZ5eafMOmXk9+Y7LaAgggAACCCDwcBPEWuncKcmtWzi8FOD53cuyzB6Ue37dtE2md0FggRNumQI0QMrUZq6ZBGiAcF8gMIsADZDGbw3rFhKnT7DBYONknFmSAAuokqCZpn2B7m5p806Z3vntj8UICCCAAAIIIDCngL12RTp2WJpgv0LfbhWe332ryBzxLF429eZHV1dAQRNqFQI0QKpQZ84HBWiAcD8gQAOk7XvAnjomXTzX9jgMgEDeAiyg8hZlvEIF3GaRW5+UcW+EcCCAAAIIIIBAoQJ29M7UviB3bhc6D4M3J8Dze3NelZ29ao20apD9PiorQFgT0wAJq14xRksDJMaqklMuArwB0hijPXNSOs8r5I1pcVbZAiygyhZnvrYFuudNNUH4HFbblAyAAAIIIIBAPQE7Pi6dOCy9d6Xeqfy8JAGe30uCbnWajk5pw2YZ9/YHBwINCtAAaRCK0woToAFSGC0Dhy5AA6R+Bdnzo74RZ1QrwAKqWn9mb1HANT9cE8Q1QzgQQAABBBBAoHAB1jWFEzc8Ac/vDVOVf6J7S3nTdt5WLl8++BlpgARfwuAToAESfAlJoCgBGiBzy9oLZ6XTx4viZ1wEchFgAZULI4NUIeD2AtmyU8Z9FosDAQQQQAABBAoXsNeuSscPSe6tEI7KBHh+r4x+7ondGx/rN8t0dnoaIGH5LEADxOfqpBEbDZA06kyWLQjQAJkdzV65NLU44EDAcwEWUJ4XiPDmFpjfJ23dKeM+NcCBAAIIIIAAAoULsC9I4cR1J+D5vS5R+ScMrJVWrma/j/Llo5mRBkg0pQw2ERogwZaOwIsWoAEys7C9dUM6+I5kbdElYHwE2hZgAdU2IQNULbC0X2bDlqqjYH4EEEAAAQSSEWBfkGpLzfN7tf4Pze7e9li/RWbxUo+CIpQQBWiAhFi1uGKmARJXPckmRwEaII9j2nt3pQNvS/fu5SjNUAgUJ8ACqjhbRi5RYGCtzKrBEidkKgQQQAABBBBgX5Bq7gGe36txf2xW9vvwpBBxhEEDJI46hpwFDZCQq0fshQrQAHmY105MTL35cftmoe4MjkCeAiyg8tRkrEoFNm6TWbKs0hCYHAEEEEAAgdQE7LUr0rHD0gT7gpRVe57fy5KeYx73xod784P9PjwoRhwh0ACJo44hZ0EDJOTqEXuhAjRAHmmAHD8sXblYqDmDI5C3AAuovEUZrzIBtw/Itl0ybnN0DgQQQAABBBAoTcDeuS0deVe6O1ranClPxPN7xdVfOSgNrGG/j4rLENv0NEBiq2h4+dAACa9mRFySAA2QP4Fm0/OSbjqmyV2ABVTupAxYpUDvgqkmSEdHlVEwNwIIIIAAAskJ2LEx6dhB6ca15HIvO2Ge38sWn57PPV+u2ySztL+iAJg2ZgEaIDFXN4zcaICEUSeirECABsgU+uS+H/vfksZ57buC25Ap2xRgAdUmIJf7J7ByUGb1Wv/iIiIEEEAAAQQiF7DWSqdPSBfPRp5ptenx/F6Bf/c8yX1udUFfBZMzZQoCNEBSqLLfOdIA8bs+RFehAA0QafIh//B+ftOpwvuQqdsTYAHVnh9X+yhgpK07ZfoW+RgcMSGAAAIIIBC9gL18UTp5xC2Wos+1igR5fi9ZvW+htGGbTHd3yRMzXUoCNEBSqrafudIA8bMuROWBAA0QyV44K50+7kE1CAGB1gRYQLXmxlWeC8zrkbY/zcaUnpeJ8BBAAAEE4hWwN29Ixw5I9+7Fm2RFmfH8XiL88hXSmg18XrVE8lSnogGSauX9yZsGiD+1IBLPBFJvgEx++mrfm9LEhGeVIRwEGhdgAdW4FWcGJrBiQGZwfWBBEy4CCCCAAALxCEyul9zm6LdvxZOUB5nw/F5GEYw0uE5mxUAZkzEHAqIBwk1QtQANkKorwPzeCiTfADl+SLpyydv6EBgCjQiwgGpEiXOCFDBG2vGMTE9vkOETNAIIIIAAAjEI2Ilx6fhh6b0rMaTjRQ48vxdcho5OacMWmcVLC56I4RH4EwEaINwNVQvQAKm6AszvrUDKDZDJV7oP7vW2NgSGQKMCLKAaleK8IAUWL5PZtC3I0AkaAQQQQACBWAQm9008e0o6fzqWlCrNg+f3AvndZ1Q3bZPpXVDgJAyNwOMCNEC4K6oWoAFSdQWY31uBVBsgkw/wB9+Rbt3wtjYEhkCjAiygGpXivGAFNu+QWbQk2PAJHAEEEEAAgVgE7OUL0smjbI7eZkF5fm8TcLbLFyyUNrLZeUG6DFtHgAYIt0jVAjRAqq4A83srkGwDxH32yn3+igOBCARYQEVQRFKYW8D9Bt/2p2TcJ7E4EEAAAQQQQKBSAXvjmnT0gDQ+XmkcIU/O83sB1VvaL63bxGbnBdAyZGMCNEAac+Ks4gRYLRdny8iBCyTbANm/R7rDRn6B376EPy3AAopbIQkB9ymDxcuSSJUkEUAAAQQQ8F3Ajt6Z2hzd/ZOjaQGe35smm/uCVWtkBtbkPCjDIdCcAA2Q5rw4O38BGiD5mzJiJAIpNkDstatTD+scCEQiwAIqkkKSxtwCfQtltu5CCQEEEEAAAQQ8EbBjY9Kxg5J7I4SjKQGe35vimv1k93bwus0yy/pzGpBhEGhdgAZI63ZcmY8ADZB8HBklQoEkGyBu74+b1yOsJimlKsACKtXKJ5j31idl+hYlmDgpI4AAAggg4KeAnZiQTh2T3N4gHA0L8PzeMNXsJ3Z2SZu2y/QtzGEwhkCgfQEaIO0bMkJ7AjRA2vPj6ogFUmuAWLfp+YG9EVeU1FIUYAGVYtUTzXnxUplN2xNNnrQRQAABBBDwV8CePSWdO+VvgJ5FxvN7mwWZ1yNt3iHT09vmQFyOQH4CNEDys2Sk1gRogLTmxlUJCCTXADlxhN9OSuC+Ti1FFlCpVTzlfI206/0y3fNSRiB3BBBAAAEEvBSwly5IJ49Ksl7G51NQPL+3UY35fVNvfnR3tzEIlyKQvwANkPxNGbE5ARogzXlxdkICKTVAJl/P3vu6ND6eUIVJNQUBFlApVJkcvy6wep3MytWAIIAAAggggICHApP7Lbp9Qdzai2NWAZ7fW7w5Fi2RNm6V6ehscQAuQ6A4ARogxdkycmMCNEAac+KsBAWSaoBcvSQdO5RglUk5dgEWULFXmPweEuhdILPjaVAQQAABBBBAwFMBe+umdORdaeyepxFWHxbP7y3UYPkKae1GGbfxOQcCHgrQAPGwKImFxL8dEys46TYukFQDxD2Eu99I4kAgMgEWUJEVlHTqC2x/Wmb+gvrncQYCCCCAAAIIVCJgR0elw/uku6OVzO/7pDy/N1mhVWtkBtY0eRGnI1CuAA2Qcr2Z7XEBGiDcFQjMIpBKA8ROjEt7vipZvkfLH4b4BFhAxVdTMqojsGpQZmAtTAgggAACCCDgsYB1b4AcPSDdvOFxlNWExvN7o+5GWrdRxr39wYGA5wI0QDwvUALh0QBJoMik2JpAMg2Q6+9Jh/e3hsRVCHguwALK8wIRXv4CfQtltu7Kf1xGRAABBBBAAIFcBSZ/Ec19hpg38R9y5fm9gdvMfepq4zaZxUsbOJlTEKhegAZI9TVIPQIaIKnfAeQ/q0AyDZAzJ6TzZ7gTEIhSgAVUlGUlqbkE3IL46Q+yASZ3CQIIIIAAAgEIWLch+okjktuTkWNSgOf3OjeC2+R883aZvkXcMQgEI0ADJJhSRRsoDZBoS0ti7Qok0wB5923p9s12ubgeAS8FWEB5WRaCKlpg8w6ZRUuKnoXxEUAAAQQQQCAHAes+RXzqqHTpQg6jhT8Ez+9z1LCzS3LPeQv6wi80GSQlQAMkqXJ7mSwNEC/LQlA+CKTQALHj0/t/iP0/fLjniCF/ARZQ+ZsyYgACKwdlVrMPSACVIkQEEEAAAQS+LmDPnJTOn05ehOf3WW6B7m5p806Z3vnJ3yMAhCdAAyS8msUWMQ2Q2CpKPrkJJNEAuX1LendPbmYMhIBvAiygfKsI8ZQisHS5zIatpUzFJAgggAACCCCQn4B1DRDXCEn44Pl9huLP65G27JRx/+RAIEABGiABFi2ykGmARFZQ0slPIIkGyNXL0rGD+aExUkMC7qGeoxwB65p8n/+1hyf7yMdl5i8oJwBmkZnPK/ql3wbzF8hsf7r0aZkQAQQQQAABBNoXsJfOSyePtj9QoCPQAHmkcL0Lpj575d4A4UAgUAEaIIEWLqKwaYBEVExSyVcgiQaI2/zcbYLOUarAxK/8fKnzMRkCVQp0/MhPVzl9mnN3dso8/VyauZM1AggggAACEQhYtyn6scNuS/AIsmkuBRogD3j1LZQ2bpfp6moOkbMR8EyABohnBUkwHBogCRadlBsTSKIBcvIIm+01djvkehYNkFw5GcxzARogFRXoqWdluvhNwYr0mRYBBBBAAIG2Bex7V6be1nebpCd00ACZLnbfImnzdpmOzoSqT6qxCtAAibWy4eRFAyScWhFpyQJJNECOH5KuXCpZlulogHAPpCRAA6Siaj/5fr4TXRE90yKAAAIIIJCXgL12RTqaVhOEBogkmh95/RFiHE8EaIB4UoiEw6ABknDxSX1ugTQaIIelKxe5FUoWoAFSMjjTVSpAA6Qi/l0fkOmeV9HkTIsAAggggAACeQmk1gRJvgGycLG0aRtvfuT1B4hxvBCgAeJFGZIOggZI0uUn+bkEkmiAnDgiXb7AjVCyAJuglwfOJujlWc82E5ugV1SDXc+yWWZF9EyLAAIIIIBA3gIpNUGSboDQ/Mj7jw7jeSJAA8STQiQcBg2QhItP6nML0ADhDkEgfIGkF1Dhl48M2hGgAdKOHtcigAACCCDgnUAqTZBkn99pfnj3Z46A8hOgAZKfJSO1JkADpDU3rkpAIIkGyOnj0oWzCVSTFFMVSHYBlWrByXtawEjPfJBPJ3A/IIAAAgggEJmAvXZVOnog6o3Rk3x+p/kR2Z9U0nlUgAYI90TVAjRAqq4A83srkEQDxG2A7jZC50AgUoEkF1CR1pK0mhDo6ZXZ+b4mLuBUBBBAAAEEEAhFIPYmSHLP7zQ/QvmjR5xtCNAAaQOPS3MRoAGSCyODxCiQRAPkzi1p/54Yy0dOCEwKJLeAou4IOIGl/TIbtmCBAAIIIIAAApEK2PeuSEcPuqfd6DJM6vm9b6G0eQdv7UZ3F5PQowI0QLgnqhagAVJ1BZjfW4EkGiDWSm/9cdSvUHt7gxFYKQJJLaBKEWWSIARWr5NZuTqIUAkSAQQQQAABBFoTsJcvSicOt3axx1cl8/zeu0DaslOmq8vjahAaAvkI0ADJx5FRWhegAdK6HVdGLpBCA8SV0B7cK928EXk1SS9VgWQWUKkWmLxnFnCLafc5BQ4EEEAAAQQQiFrAuv0c3b6OER1JPL/P65G27pLp7o6ocqSCwOwCNEC4O6oWoAFSdQWY31uBZBogl85LJ496WwcCQ6AdgSQWUO0AcW18Am5BvfN9MoZHvPiKS0YIIIAAAgg8LmDPnpLOnYqGJvrn9+550tYnZdwzGwcCiQjQAEmk0B6nyerY4+IQWrUCyTRAxselvV+TJsarBWd2BAoQiH4BVYAZQwYusHqtzMrBwJMgfAQQQAABBBBoRsCeOi5dPNvMJd6eG/Xze2eXtG2XTE+vt/4EhkARAjRAilBlzGYEaIA0o8W5SQmk0gBxRbXuDRD3JggHApEJRL2AiqxWpPP/s3cvUHbdd33of/8ZyZYtWZYtS5bflt+PJIVSUigtpLBKm5bQxp4zCi1vSqCXXnpDC5fbx11uV7tSYLXk0jZpQoBAmodmj5M2viXQ8gilXNKGZ2Mnfr+fkt+2HrY0Z9+1RyMjy5qZc2b22c/PWYuVRLP3///7fX7b+Jz5ap9dgkBx18f1X+HrFEqgtAQBAgQIEGibQP7IAxHP7m9b2W+ot7Pv36enI664LtKZm1s/Iw0QGFdAADKumOPLFhCAlC1qvc4I9CoAOXww4q7bOzM7jRA4LtDZD1BGTOBUAtu2R7rsSjYECBAgQIBADwXyPI946N6IF55rdfedfP8+NRVxxbWRNp/V6tkonsBaBQQga5VzXlkCApCyJK3TOYE+BSDF8PKH74947unOzVFD/Rbo5Aeofo9U98sJFHd/XPtmX6ngCiFAgAABAj0WyIfDiPvvjDjwcmsVOvn+/fKrI519TmtnonAC6xUQgKxX0PnrFRCArFfQ+Z0V6F0AcvRoxN1fjDhypLMz1Vj/BDr5Aap/Y9TxKAIXXhppx65RjnQMAQIECBAg0GGB/OiRiHu+FPHqK63ssnPv371Ha+V1qOhyBQQg5XpabXwBAcj4Zs7oiUDfApBirPmLz0U8cE9PJqzNPgh07gNUH4amx/EFztwScdX1kYq7QLwIECBAgACB3gvkrxw+FoIsHG2dRafev593fqSLLmvdDBRMoGwBAUjZotYbV8An5XHFHN8bgT4GIIshyEP3RTz/TG/mrNFuC3TqA1S3R6W7tQoUocc1b4q06Yy1ruA8AgQIECBAoIMC+YGXIu67M6J4NkiLXp15/751W0Tx1Vf+gkqLrj6lTkpAADIpWeuOKiAAGVXKcb0T6G0AUnwV1r1fiij+1pAXgZYLdOYDVMvnoPwJClx8eaTtOye4gaUJECBAgACBtgrkxV9sK/6CW4tenXj/fsaZx+7OnZpukbxSCUxOQAAyOVsrjyYgABnNyVE9FOhrAFKMOi++L/beL0ccebWHk9dylwQ68QGqSwPRS7kCF1wcaeeF5a5pNQIECBAgQKBTAvm+JyKeeKQ1PbX+/fvG0yKuvjHSxo2tMVcogUkLCEAmLWz91QQEIKsJ+XlvBfocgCyGIMUdIEUIUjxEz4tASwVa/wGqpe7KrkBg5wWRLrikgo1sQYAAAQIECLRdIH/0gYhn9reijVa/fy/u+Lj6+kibzmyFtSIJVCUgAKlK2j7LCQhAXBsElhHoewCyGIIcOhhx35cjFhZcJwRaKdDqD1CtFFd0JQLbd0S6eHclW9mEAAECBAgQaL9APhxG3H9nxIGXG99Mq9+/77460tZzGm+sQAJVCwhAqha338kCAhDXBAEByIrXQF68Sb7/roihEMQ/LO0TaPUHqPZxq7gKgXO2R1xyhQdqVmFtDwIECBAg0CGB/MiRiHtujyj+s8Gv1r5/P/+iSLsuarCs0gjUJyAAqc/ezscEBCCuBAICkFWvgfzwoYgH7o4ong3iRaBFAq39ANUiY6VWKLDr4kjne+ZHheK2IkCAAAECnRLID7587GuO87yxfbXy/Xtx18flV/kLKo29qhRWt4AApO4J2F8A4hogIAAZ6RrIjx6NePi+iJdeGOl4BxFogkArP0A1AU4NzRIovk/60isine0rFZo1GNUQIECAAIH2CeTP7o945IHGFt669++nbzr20PPp6caaKoxA3QICkLonYH8BiGuAgABk5GsgL/6m0JOPRux7YuRzHEigToHWfYCqE8vezRQ47fSI4vukPUyzmfNRFQECBAgQaKFA/uiDEc/sa2TlrXr/vvjQ8xsibTqjkZaKItAUAQFIUybR3zoEIP2dvc5XEfAQ9OWB8ueeiXjk/kbfOu0CJ1AItOoDlJEROFlgy9aIy66KtGEDGwIECBAgQIBAaQJNfih6q96/e+h5adekhbotIADp9nzb0J0ApA1TUmMtAgKQldnzwwcjHr4/4tDBWuZjUwKjCLTqA9QoDTmmHwIpRRQP0dxxge+S7sfEdUmAAAECBCoXaOpD0Vvz/t1Dzyu/Zm3YXgEBSHtn15XKBSBdmaQ+ShcQgKxOuviVWMXXYT31mLtBVudyRA0CrfkAVYONLRsqcMbmiEt3+8qrho5HWQQIECBAoEsC+csvRtx3Z6NaasX79+Iu3Suu9RdVGnXlKKbJAgKQJk+nH7UJQPoxZ12uQUAAMjqau0FGt3JktQKt+ABVLYndmirgro+mTkZdBAgQIECg0wJ58YzHpx5vTI+Nf/8+vSHi2jdF2nhaY8wUQqDpAgKQpk+o+/UJQLo/Yx2uUUAAMh6cu0HG83J0NQKN/wBVDYNdmi7gro+mT0h9BAgQIECgswKLn+OKu0AOvNSIHhv//n33NZG2bmuElSIItEVAANKWSXW3TgFId2ers3UKCEDWBrh4N8ijDzXmDfTaunBWVwQa/wGqK9D6WJvA1HTE+RdG7NjlKxTWJugsAgQIECBAoASB/MirEXfdHrFwtITV1rdEo9+/F+/ZLrx0fQ06m0APBQQgPRx6w1oWgDRsIMppjoAAZH2zyJ9/JuLxRyKKN9NeBGoSaPQHqJpMbNsQgXN3ROy6ONLGjQ0pSBkECBAgQIBAnwXyF5+LeOCe2gka+/69uGP3qusjTU3VbqQAAm0TEIC0bWLdq1cA0r2Z6qgkAQHI+iHz4ULE/qci9j0eMRyuf0ErEBhToLEfoMbsw+EdEti8JeLCyyKdublDTWmFAAECBAgQ6IJA/tjDEU8/WWsrjXz/Xty1e82bIp1+eq02NifQVgEBSFsn1526BSDdmaVOShYQgJQHunhL9ROPRDz3THmLWonACAKN/AA1Qt0O6aBA8aDMCy+JtG17B5vTEgECBAgQINAFgbz4S2v3fCmi+Frjml6NfP9+6ZWRzvEerqZLwrYdEBCAdGCILW9BANLyASp/cgICkPJt8wMvRzz+cMTBl8tf3IoETiHQyA9QJtUvgeJrEnZcELFzV6Tibw96ESBAgAABAgQaLJAfOhhxzx0RxcPRa3g17v37tnMjXXZVDRK2JNAdAQFId2bZ1k4EIG2dnLonLiAAmRxx/sJzEU8+GnH40OQ2sTKBiGjcByhT6Y9AShHbd0bsvNBzPvozdZ0SIECAAIFOCORPPX7s81oNr0a9f5/eEHHdmyNt8My2Gi4FW3ZIQADSoWG2tBUBSEsHp+zJCwhAJmucF3+jqPhKrKcei3j1lcluZvXeCjTqA1Rvp9C3xlPEuedFnH9hpNN8T3Tfpq9fAgQIECDQBYHFz2rFV2EdOlB5O416/3751ZHOPqdyAxsS6JqAAKRrE21fPwKQ9s1MxRUJCECqgV78ntnnnj4WhBw5Us2mdumNQKM+QPVGvceNbjs34vyLIm06o8cIWidAgAABAgS6IJAXzwG5u/qvwmrM+/dt2yNddmUXRqkHArULCEBqH0HvCxCA9P4SALCcgACk2msjHy5EPL0vYt/jEQsL1W5ut84KNOYDVGeFNbYocNbZEbsujnTmZiAECBAgQIAAgc4I5PueiHjikUr7acT79+Irr64tvvpqQ6W924xAVwUEIF2dbHv6EoC0Z1YqrVhAAFIx+NJ2eRF+PP1UxP4nBCH1jKBTuzbiA1SnRDXzOoEtWyN2XRRp81lgCBAgQIAAAQKdE1j8Kqx7vxxx8OXKemvE+/fdV0fa6quvKhu6jTovIADp/Igb36AApPEjUmBdAgKQuuSP7SsIqde/K7s34gNUVzD18ScCgg9XAwECBAgQINATgfzwoYi7b48owpAKXrW/fz9ne6RLffVVBaO2RY8EBCA9GnZDWxWANHQwyqpfQABS/wwEIc2YQZurqP0DVJvx1P5GgcXg4+JIm7fQIUCAAAECBAj0RiB/8tGIpx6vpN9a379PT0dc+5ZIGzdW0qtNCPRFQADSl0k3t08BSHNno7KaBQQgNQ/gpO3/5I6QJyMWjjarONU0VqDWD1CNVVHY2ALFMz6Kh5sLPsamcwIBAgQIECDQfoHF5zXedXvEq69MvJla379ffHmk7Tsn3qMNCPRNQADSt4k3r18BSPNmoqKGCAhAGjKIUwUhzzwVsU8Q0swJNauqWj9ANYtCNWsREHysRc05BAgQIECAQAcF8hefj3jg7ol3Vtv79zO3RFx1faTk12QTH7INeicgAOndyBvXsP/P3riRKKgpAgKQpkzi1HUs3hHyzL6I/U9GHD3S7GJVV5tAbR+gauvYxqUIbN0Wcf6FkYoPwl4ECBAgQIBA7wXyl17ovUEBkD/yQMSLz03UIj90MOLjH3z9Hn/zByKdceYE900RV1wX6YwzJrhHe5ZOxV8C8iJQooAApERMS61JQACyJjYn9UFAANKOKS/ejv3M/oh9TwhC2jGySqsUgFTK3f7Ntp6zFHxsbn8vOiBAgAABAgRKE1j4/m8tbS0LEWi6wPTPfqbpJaqvZQICkJYNrIPlCkA6OFQtlSMgACnHsapVXgtC9j8RccQdIVW5N30fAUjTJ9SQ+s4ugo+LJvw3CxvSqzIIECBAgACBsQUEIGOTOaHFAgKQFg+voaULQBo6mB6VJQDp0bC1Op6AAGQ8r6YcnQ+HEc8Wd4Q8LghpylBqrEMAUiN+G7bedu6xOz42TfIrFdoAoUYCBAgQIEBgJQEBiOujTwICkD5Nu5peBSDVONtleQEBiKuDwDICApB2XxqLQcjiM0LcEdLuSa6vegHI+vw6e3Zxx8euiwQfnR2wxggQIECAQLkCApByPa3WbAEBSLPn08bqBCBtnFq3ahaAdGueuilRQABSImaNS3lGSI34DdhaANKAITSphOIZH0XwMdGHaDapYbUQIECAAAECZQh4CHoZiqOvMTU1FTt37lw8Yd++fTEs/nKbV2UCHoJeGXVvNhKA9GbUjW1UANLY0SisbgEBSN0TKHf/xSDk6aeOPSx9YaHcxa3WWAEBSGNHU21hZ519LPg4c0u1+9qNAAECBAgQIEBgbIEiANm1a9fieU8++aQAZGxBJxBoloAApFnz6GM1ApA+Tl3PIwkIQEZiat1BeRF+FEFI8dVYgpDWzW/cggUg44p17PgtWyN2XRxps+CjY5PVDgECBAgQINBhAQFIh4ertV4KCEB6OfZGNS0AadQ4FNMkAQFIk6ZRfi350aMR+588FoTkefkbWLERAgKQRoyh+iLO2Bxx4SWRigDEiwABAgQIECBAoFUCApBWjUuxBFYVEICsSmTqStMAACAASURBVOSACQsIQCYMbPn2CghA2ju7cSrPj7wa8cSjEc89Pc5pjm2JgACkJYMqq8zTTo+44OJI27aXtaJ1CBAgQIAAAQIEKhYQgFQMbjsCExYQgEwY2PKrCghAViVyQF8FBCD9mnx+6GDE4w9HvPxivxrveLcCkI4P+Hh709MR518UsX1npKmpnjStTQIECBAgQIBANwUEIN2cq676KyAA6e/sm9K5AKQpk1BH4wQEII0bSSUF5S+9EPH4IxGHD1ayn00mKyAAmaxv7aunFLFjV8SOCyJt2FB7OQogQIAAAQIECBBYv4AAZP2GViDQJAEBSJOm0c9aBCD9nLuuRxAQgIyA1NFD8uKZIM89E/HkIxFHjnS0y360JQDp8JyLr7kqvu6q+NorLwIECBAgQIAAgc4ICEA6M0qNEFgUEIC4EOoWEIDUPQH7N1ZAANLY0VRWWL6wEPHkYxFPPxURHpReGXyJGwlASsRsylKbzoi46DIPOG/KPNRBgAABAgQIEChZQABSMqjlCNQsIACpeQC2DwGIi4DAMgICEJfGcYHF54M8+mDEwZehtExAANKyga1UbvFsj/MvjDhvl+d8dGisWiFAgAABAgQInCwgAHFNEOiWgACkW/NsYzcCkDZOTc2VCAhAKmFuzSaLX4v17NMRTzwcUdwZ4tUKAQFIK8a0epFbz4m46FJfd7W6lCMIECBAgAABAq0XEIC0foQaIPA6AQGIC6JuAQFI3ROwf2MFBCCNHU2theVHj0Q88WjEs/trrcPmowkIQEZzauxRxfM9iuCjCEC8CBAgQIAAAQIEeiEgAOnFmDXZIwEBSI+G3dBWBSANHYyy6hcQgNQ/gyZXkL/0QsQj93tIepOHVDy55dCByH/up19XZfq+90Q6Y3PDK1debN8RccGlkaanYRAgQIAAAQIECPRIQADSo2FrtRcCApBejLnRTQpAGj0exdUpIACpU78de+dHj0Y89mDE88+2o+AeVikAaeHQpzdEXLrbXR8tHJ2SCRAgQIAAAQJlCAhAylC0BoHmCAhAmjOLvlYiAOnr5PW9qoAAZFUiBywJ5MWzQR57KGLo2SBNuygEIE2byCr1bN0WcfHuSBs3tqxw5RIgQIAAAQIECJQlIAApS9I6BJohIABpxhz6XIUApM/T1/uKAgIQF8g4Avkrr0Q8cl/EgZfHOc2xExYQgEwYuKzlp6YiLrw00vadZa1oHQIECBAgQIAAgZYKCEBaOjhlE1hGQADi0qhbQABS9wTs31gBAUhjR9PYwvI8j3jqsYinHm9sjX0rTADSgomfvini8qsjbTqjBcUqkQABAgQIECBAYNICApBJC1ufQLUCApBqve32RgEBiKuCwDICAhCXxloF8uKZIMUD0ofDtS7hvJIEBCAlQU5qmbPOjrj0ykgbNkxqB+sSIECAAAECBAi0TEAA0rKBKZfAKgICEJdI3QICkLonYP/GCghAGjuaVhSWHzwQ8eDdEUeOtKLerhYpAGnwZHfsirjgkkjJW5EGT0lpBAgQIECAAIHKBQQglZPbkMBEBQQgE+W1+AgCfuswApJD+ikgAOnn3MvsOj/yasSD90Yc9FyQMl3HWUsAMo5WRccWgcfFl0c6d0dFG9qGAAECBAgQIECgTQICkDZNS60EVhcQgKxu5IjJCghAJutr9RYLCEBaPLwGlZ4XX4P1yAMRzz/ToKr6U4oApGGznp6O2H1NpM1nNaww5RAgQIAAAQIECDRFQADSlEmog0A5AgKQchytsnYBAcja7ZzZcQEBSMcHXGF7iw9Hf/TBiGf3V7irrQoBAUiDroPpDRFXXhfpjDMbVJRSCBAgQIAAAQIEmiYgAGnaRNRDYH0CApD1+Tl7/QICkPUbWqGjAgKQjg62praEIPXAC0DqcX/DrsKPhgxCGQQIECBAgACB5gsIQJo/IxUSGEdAADKOlmMnISAAmYSqNTshIADpxBgb1cRiCPLYgxHPuBOkqsEIQKqSXmGfIvy46rpIm9z50YBpKIEAAQIECBAg0HgBAUjjR6RAAmMJCEDG4nLwBAQEIBNAtWQ3BAQg3Zhj07o4FoI8FPHMvqaV1sl6BCA1j3XDxogrrxV+1DwG2xMgQIAAAQIE2iQgAGnTtNRKYHUBAcjqRo6YrIAAZLK+Vm+xgACkxcNrQen5Q/d5MHoFcxKAVIC83BZT0xFXXe+ZHzWOwNYECBAgQIAAgTYKCEDaODU1E1heQADi6qhbQABS9wQ6tv873/nOndPT02+NiLemlL46Ior/2160mef5L87Pz3/3OC3PzMy8PaX07qV1dkRE8d1BX8jz/EPz8/OfHWetcY8VgIwr5vhxBPLhMOK+OyMOvjzOaY4dU0AAMiZYaYeniN1XRdp6TmkrWogAAQIECBAgQKAfAgKQfsxZl/0REID0Z9ZN7VQA0tTJtLSuwWCQL1f6OAHILbfcMnXHHXd8KCK+b7n1UkofvuGGG37glltuGU6CSwAyCVVrniiQHzkSce+XIl59BcyEBAQgE4JdbdkLL420Y9dqR/k5AQIECBAgQIAAgTcICEBcFAS6JSAA6dY829iNAKSNU2twzScFIA9HxJ0R8c1FyeMEIIPB4L0R8eNLrf5hnuc/OT09fd/CwsKVKaUfi4ivLH6WUnrv3NzcP5wEiQBkEqrWPFkgP3ww4p4vRwwX4ExAQAAyAdTVlty+M9LFl692lJ8TIECAAAECBAgQOKWAAMSFQaBbAgKQbs2zjd0IQNo4tQbXPBgM/mme51/YuHHjFz7xiU889a53vevyhYWFB8YJQPbs2XPNcDi8IyI2RMTvRcTXZ1l26Hjb73jHO87ctGnTb0XEn4mIoxFxfZZl95bNIgApW9R6ywnkL70Qcf9dgCYgIACZAOpKS27ZGnHFtUU4XfHGtiNAgAABAgQIEOiKgACkK5PUB4FjAgIQV0LdAn5DUfcEOr7/WgKQwWDw/oj4OwXN1NTU1+7du/fzJzPt2bPna4bD4e8Wf55Sev/c3NwPlU0pAClb1HorCeRPPBqx73FIJQsIQEoGXWm56Q0R174p0sbTKtzUVgQIECBAgAABAl0TEIB0baL66buAAKTvV0D9/QtA6p9BpytYQwCSBoPBoxFxYfH1WVmWXb8c0GAwKL5e69qIeCzLskuKb9kqE1MAUqamtVYT8FD01YTW9nMByNrc1nTW7msibd22plOdRIAAAQIECBAgQOC4gADEtUCgWwICkG7Ns43dCEDaOLUW1TxuAHLTTTddUTzro2gxpfTBubm5H1whAPlgRLx76edXZFm2+FVbZb0EIGVJWmdUgbx4GPrdt0cseB7IqGarHScAWU2opJ/vvCDSBUUO7UWAAAECBAgQIEBgfQICkPX5OZtA0wQEIE2bSP/qEYD0b+aVdjxuADIzM/MtKaXbiiLzPH/P/Pz8+5YreHZ29j15nv/r4ucppb82Nzf3y2U2JwApU9NaowrkLzwX8eA9ox7uuFUEBCAVXCJnbom48rpIU1MVbGYLAgQIECBAgACBrgsIQLo+Yf31TUAA0reJN69fAUjzZtKpisYNQGZnZ38wz/MPLCEMsiybXw5kMBjMRES2FJb84Pz8fHFHyEivm2666eLVDpybm/vC9PT0roWFhdi/f/9qh/s5gdIE8ofvj/xZ11wZoEUAMvzwYk762mvqb/9IpDM2l7G8NaamIl375kinb2JBgAABAgQIECBAoBSBIgDZuXPn4lr79u2L4XBYyroWIUCgHoEdO3bE9PR0sfljKaVVfx9XT5V27bKAAKTL021Ab+MGIIPB4Ecj4ieXSn97lmW/slwbMzMzb08pLd71kef5P5ifn/9Xo7Y8GAxWfV7IBz7wgdi+ffuoSzqOQGkC+dGj8coXfz8WvxLLa10CwwMvx7P/6v9+3Rrn/v1/FlObt6xrXScfE9h42ZWxYddFOAgQIECAAAECBAgQIECAwGoCApDVhPx8IgICkImwWvS4wLgByOzs7D/J8/yfLZ3/TVmW/cZymoPB4Bsj4teLn+d5/k/m5+f/+ajyApBRpRxXl8DCC8/Fq3d+sa7tO7OvAGRyo5zaui1Ou+7NxVcQTm4TKxMgQIAAAQIECBAgQIBAVwQEIF2ZZMv68FuLlg2sbeWOG4BUdQeIr8Bq25XUz3rzRx+M/Omn+tl8SV37CqySIE9eZnr62FdfnXb6hDawLAECBAgQIECAQF8FfAVWXyev764K+Aqsrk62PX0JQNozq1ZWOm4AUtUzQEbB9BD0UZQcM0mBfLgQcdftEb4Ka83MHoK+ZrqVT7x4d6TtOya0uGUJECBAgAABAgT6LOAh6H2evt67KOAh6F2cart6EoC0a16tq3bcAGRmZuZbUkq3FY3mef6e+fn59y3X9Ozs7HvyPF98unFK6a/Nzc0tPg+krJcApCxJ66xHIH/5xYj77lzPEr0+VwAygfGfdXakK66dwMKWJECAAAECBAgQIBAhAHEVEOiWgACkW/NsYzcCkDZOrUU1jxuA3HTTTVdMT0/ftxRqfHBubu4Hl2t3MBh8MCLevfTzK7Ise6BMGgFImZrWWo9A/thDEb4Ka02EApA1sS1/0tR0RPHcj42nlbyw5QgQIECAAAECBAgcExCAuBIIdEtAANKtebaxGwFIG6fWoprHDUCKmzkGg8GjEXFhRNyZZdn1KwQgX46I6yLisSzLLiluGimTRgBSpqa11iPgq7DWricAWbvdKc+8ZHekc331VcmqliNAgAABAgQIEDhBQADiciDQLQEBSLfm2cZuBCBtnFqLal5DABKDweD9EfF3ijanpqa+du/evZ8/ueU9e/Z8zXA4/N3iz1NK75+bm/uhslkEIGWLWm89AvmBlyLuLTI/r3EEBCDjaK1yrK++KhHTUgQIECBAgAABAssJCEBcGwS6JSAA6dY829iNAKSNU2tRzWsJQPbs2XPNcDj8UkRMR8TvRcTXZ1l26Hjbg8HgjIj4bxHxZyLi6HA4vOHWW2+9p2wWAUjZotZbr0D+xCMR+55Y7zK9Ol8AUtK4pzdEXFt89dXGkha0DAECBAgQIECAAIFTCwhAXBkEuiUgAOnWPNvYjQCkjVNrcM2DweDPR8RVx0tMKZ2X5/lPLf3v34mID59YfpZlHzlVO4PB4L0R8eNLP/vDiPiJ4XB439TU1JUR8X9GxFcWP0spvXdubu4fToJEADIJVWuuRyAfDiPu+VLE4YPrWaZX5wpAShr35VdHOvuckhazDAECBAgQIECAAIHlBQQgrg4C3RIQgHRrnm3sRgDSxqk1uOaZmZmPpJS+a9QSsyw75TV4yy23TN1+++0/m1L63hXW+rkbb7zx3bfccstw1P3GOU4AMo6WY6sSyIvw4+47IvJSH3lTVfmV7yMAKYH83B2RLtldwkKWIECAAAECBAgQILC6gABkdSNHEGiTgACkTdPqZq0CkG7OtbauygpAjjcwOzv7V/M8f3dEfHVEnBcRT0fEF/I8/+D8/PxnJ9moAGSSutZej0C+/8mIxx9ezxK9OVcAss5Rn3Z6xDVvijRdfCOhFwECBAgQIECAAIHJCwhAJm9sBwJVCghAqtS216kEBCCuCwLLCAhAXBpNFsgfuCfixeeaXGIjahOArGMMKUVcdUOkMzevYxGnEiBAgAABAgQIEBhPQAAynpejCTRdQADS9Al1vz4BSPdnrMM1CghA1gjntEoE8qNHI+65I+LVVyrZr62bCEDWMbmLLot03vnrWMCpBAgQIECAAAECBMYXEICMb+YMAk0WEIA0eTr9qE0A0o8563INAgKQNaA5pVKB/OCBiHu/5HkgK6gLQNZ4SW7bHumyK9d4stMIECBAgAABAgQIrF1AALJ2O2cSaKKAAKSJU+lXTQKQfs1bt2MICEDGwHJobQL5M/siHn2wtv2bvrEAZA0TOn1TxNU3eu7HGuicQoAAAQIECBAgsH4BAcj6Da1AoEkCApAmTaOftQhA+jl3XY8gIAAZAckhjRDIH74/4rmnG1FL04oQgIw5kanpiKuvj7TpzDFPdDgBAgQIECBAgACBcgQEIOU4WoVAUwQEIE2ZRH/rEID0d/Y6X0VAAOISaYtAPhxG3H9nxIGX21JyZXUKQMak3n11pK3njHmSwwkQIECAAAECBAiUJyAAKc/SSgSaICAAacIU+l2DAKTf89f9CgICEJdHmwTyI0eOPRT9yKttKnvitQpAxiC+4JJIOy8Y4wSHEiBAgAABAgQIEChfQABSvqkVCdQpIACpU9/ehYAAxHVAYBkBAYhLo20C+aGDxx6KXtwR4rUoIAAZ8UI457xIl14x4sEOI0CAAAECBAgQIDA5AQHI5GytTKAOAQFIHer2PFFAAOJ6ICAAcQ10SCB/4bmIB+/pUEfra0UAMoLf5i0RV1wXaWpqhIMdQoAAAQIECBAgQGCyAgKQyfpanUDVAgKQqsXtd7KAAMQ1QUAA4hromED+9FMRjz3Usa7W1o4AZBW3TWdEXHl9pA0b1gbsLAIECBAgQIAAAQIlCwhASga1HIGaBQQgNQ/A9r4CyzVAYDkBX4Hl2mizQP7koxFPPd7mFkqpXQCyAuPG0yKuviFS8Z9eBAgQIECAAAECBBoiIABpyCCUQaAkAQFISZCWWbOAO0DWTOfErgsIQLo+4e73lz/yQMSz+7vf6AodCkCWwZmejrjqhkjFHSBeBAgQIECAAAECBBokIABp0DCUQqAEAQFICYiWWJeAAGRdfE7usoAApMvT7UdveZ5HPHhvxIvP9aPhU3QpADkFSvGsj+KZH8WzP7wIECBAgAABAgQINExAANKwgSiHwDoFBCDrBHT6ugUEIOsmtEBXBQQgXZ1sv/rKh8OIB+6OePnFfjW+1K0A5KSxpxSx+5pIZ53dy+tB0wQIECBAgAABAs0XEIA0f0YqJDCOgABkHC3HTkJAADIJVWt2QkAA0okxaiIi8uFCxP13RRx4uXceApATR54iLr8q0tnn9O460DABAgQIECBAgEB7BAQg7ZmVSgmMIiAAGUXJMZMUEIBMUtfarRYQgLR6fIo/SSBfWIi4786IQwd6ZSMAOT7uFHHZFZG2be/V/DVLgAABAgQIECDQPgEBSPtmpmICKwkIQFwfdQsIQOqegP0bKyAAaexoFLZGgfzo0WMhyOGDa1yhfacJQJZmdskVkc49r30DVDEBAgQIECBAgEDvBAQgvRu5hjsuIADp+IBb0J4ApAVDUmI9AgKQetztOlmB/MiRiPuLEOTQZDdqyOoCkIi4+PJI23c2ZCLKIECAAAECBAgQILCygADEFUKgWwICkG7Ns43dCEDaODU1VyIgAKmE2SY1CPQpBOl9ACL8qOGfMFsSIECAAAECBAisR0AAsh495xJonoAApHkz6VtFApC+TVy/IwsIQEamcmALBfoSgvQ6ABF+tPCfTCUTIECAAAECBAgIQFwDBLolIADp1jzb2I0ApI1TU3MlAgKQSphtUqNAH0KQ3gYgwo8a/8myNQECBAgQIECAwHoEBCDr0XMugeYJCECaN5O+VSQA6dvE9TuygABkZCoHtlig6yFILwMQ4UeL/4lUOgECBAgQIECAgADENUCgWwICkG7Ns43dCEDaODU1VyIgAKmE2SYNEMiPHom4766IwwcbUE25JfQuALl4d6TtO8pFtBoBAgQIECBAgACBCgUEIBVi24pABQICkAqQbbGigADEBUJgGQEBiEujTwL50aMR998ZcahbIUh/ApAUccnuSOee16fLVq8ECBAgQIAAAQIdFBCAdHCoWuq1gACk1+NvRPMCkEaMQRFNFBCANHEqapqkwLEQ5K6IQwcmuU2la/cjAEkRl14R6ZztldrajAABAgQIECBAgMAkBAQgk1C1JoH6BAQg9dnb+ZiAAMSVQGAZAQGIS6OPAoshyIN3Rxx4uRPtdz8ASRGXXRlp27mdmJcmCBAgQIAAAQIECAhAXAMEuiUgAOnWPNvYjQCkjVNTcyUCApBKmG3SQIF8YSHigSIEeamB1Y1XUqcDkFSEH1dFOvuc8VAcTYAAAQIECBAgQKDBAgKQBg9HaQTWICAAWQOaU0oVEICUymmxLgkIQLo0Tb2MK5APixDknoiXXxz31EYd39kApAg/Lr8q0lbhR6MuOMUQIECAAAECBAisW0AAsm5CCxBolIAApFHj6GUxApBejl3TowgIQEZRckyXBboQgnQyACnCj93XRDrr7C5ffnojQIAAAQIECBDoqYAApKeD13ZnBQQgnR1taxoTgLRmVAqtWkAAUrW4/ZookA+HEQ/eE/HSC00sb9WaOheATE1FXF6EH1tX7d0BBAgQIECAAAECBNooIABp49TUTGB5AQGIq6NuAQFI3ROwf2MFBCCNHY3CKhZYDEEeui/ixecq3nn923UqACnCj+LOjy3Cj/VfGVYgQIAAAQIECBBoqoAApKmTUReBtQkIQNbm5qzyBAQg5VlaqWMCApCODVQ76xJoawjSmQCkCD+uuDbS5rPWNUcnEyBAgAABAgQIEGi6gACk6RNSH4HxBAQg43k5unwBAUj5plbsiIAApCOD1EZpAm0MQToRgExNR1xxjfCjtCvZQgQIECBAgAABAk0WEIA0eTpqIzC+gABkfDNnlCsgACnX02odEhCAdGiYWilNYDEEefi+iBfa8XVYrQ9AhB+lXbsWIkCAAAECBAgQaIeAAKQdc1IlgVEFBCCjSjluUgICkEnJWrf1AgKQ1o9QAxMSaFMI0uoAZDH8KL72asuEJmlZAgQIECBAgAABAs0TEIA0byYqIrAeAQHIevScW4aAAKQMRWt0UkAA0smxaqokgbZ8HVZrAxDP/CjpSrUMAQIECBAgQIBA2wQEIG2bmHoJrCwgAHGF1C0gAKl7AvZvrIAApLGjUVhDBI6FIPdGvPh8Qyp6YxmtDECK8GP3NZG2bG2sq8IIECBAgAABAgQITEpAADIpWesSqEdAAFKPu13/REAA4mogsIyAAMSlQWB1gcUQ5MF7Il56YfWDaziidQFIShG7r410lvCjhsvFlgQIECBAgAABAg0QEIA0YAhKIFCigACkRExLrUlAALImNif1QUAA0ocp67EMgcUQ5IG7I15+sYzlSl2jVQHIYvhxTaSzzi7VwGIECBAgQIAAAQIE2iQgAGnTtNRKYHUBAcjqRo6YrIAAZLK+Vm+xgACkxcNTeuUC+XAh4v67Iw68VPneK23YngCkCD+uirT1nEb5KYYAAQIECBAgQIBA1QICkKrF7UdgsgICkMn6Wn11AQHI6kaO6KmAAKSng9f2mgXyhYWI++6MOHRgzWuUfWJrApDLroy0bXvZ7VuPAAECBAgQIECAQOsEBCCtG5mCCawoIABxgdQtIACpewL2b6yAAKSxo1FYgwXyo0eOhSCHDzWiylYEIBfvjrR9RyO8FEGAAAECBAgQIECgbgEBSN0TsD+BcgUEIOV6Wm18AQHI+GbO6ImAAKQng9Zm6QL5kVcj7v1yxKuvlL72uAs2PgC58NJIO3aN25bjCRAgQIAAAQIECHRWQADS2dFqrKcCApCeDr5BbQtAGjQMpTRLQADSrHmopl0C+SuvRNz3pYgjR2otvNEByM4LI11wca0+NidAgAABAgQIECDQNAEBSNMmoh4C6xMQgKzPz9nrFxCArN/QCh0VEIB0dLDaqkwgP3Tw2J0gxQPSa3o1NgA5d0ekS3bXpGJbAgQIECBAgAABAs0VEIA0dzYqI7AWAQHIWtScU6aAAKRMTWt1SkAA0qlxaqYmgfylFyMeuCsiz2upoJEByNZtEZdfHSn5V3AtF4VNCRAgQIAAAQIEGi0gAGn0eBRHYGwBAcjYZE4oWcBvX0oGtVx3BAQg3ZmlTuoVyJ97JuLh+2oponEByJlbIq68NtLUdC0eNiVAgAABAgQIECDQdAEBSNMnpD4C4wkIQMbzcnT5AgKQ8k2t2BEBAUhHBqmNRgjk+5+MePzhymtpVABy2ukRV98QacPGyh1sSIAAAQIECBAgQKAtAgKQtkxKnQRGExCAjObkqMkJCEAmZ2vllgsIQFo+QOU3TiB/9MGIZ/ZVWldjApDpDcfCj9M3Vdq/zQgQIECAAAECBAi0TUAA0raJqZfAygICEFdI3QICkLonYP/GCghAGjsahbVUIC+eA3L/XREvv1hZB40IQIpnfVxxbaQtWyvr20YECBAgQIAAAQIE2iogAGnr5NRN4NQCAhBXRt0CApC6J2D/xgoIQBo7GoW1WCA/ejTi3i9FvHK4ki4aEYBcsjvSuTsq6dcmBAgQIECAAAECBNouIABp+wTVT+D1AgIQV0TdAgKQuidg/8YKCEAaOxqFtVwgL8KPe74UsXB04p3UHoDs2BXpwksn3qcNCBAgQIAAAQIECHRFQADSlUnqg8AxAQGIK6FuAQFI3ROwf2MFBCCNHY3COiCQF1+Ddd9dEZFPtJtaA5Czzo7YfU2k4iuwvAgQIECAAAECBAgQGElAADISk4MItEZAANKaUXW2UL+V6exoNbZeAQHIegWdT2BlgXzfExFPPDJRptoCkNNOj7j6xkgbNky0P4sTIECAAAECBAgQ6JqAAKRrE9VP3wUEIH2/AurvXwBS/wxU0FABAUhDB6OsTgnkD94T8cJzE+uplgCkuOPjqhsinbl5Yn1ZmAABAgQIECBAgEBXBQQgXZ2svvoqIADp6+Sb07cApDmzUEnDBAQgDRuIcjopkC8sRNxzx8Qeil5LAOKh5528VjVFgAABAgQIECBQjYAApBpnuxCoSkAAUpW0fZYTEIC4NggsIyAAcWkQqEYgP3zw2EPRh8PSN6w8ADl3R6RLdpfehwUJECBAgAABAgQI9EVAANKXSeuzLwICkL5Murl9CkCaOxuV1SwgAKl5ALbvlUD+zL6IRx8svedKA5DTN0Vcc2OkqenS+7AgAQIECBAgQIAAgb4ICED6Mml99kVAANKXM4Y34wAAIABJREFUSTe3TwFIc2ejspoFBCA1D8D2vRPIH7gn4sVynwdSWQDiuR+9u141TIAAAQIECBAgMBkBAchkXK1KoC4BAUhd8vY9LiAAcS0QWEZAAOLSIFCtQH70SMRdt0cU/1nSq7IA5IJLIu28oKSqLUOAAAECBAgQIECgvwICkP7OXufdFBCAdHOubepKANKmaam1UgEBSKXcNiOwKJC/9ELE/XeVplFJALJla8QV10Yq7gLxIkCAAAECBAgQIEBgXQICkHXxOZlA4wQEII0bSe8K8tua3o1cw6MKCEBGlXIcgXIF8kcfiHhmfymLTjwAmZqKuPbNkU47vZR6LUKAAAECBAgQIECg7wICkL5fAfrvmoAApGsTbV8/ApD2zUzFFQkIQCqCtg2BkwTyo0cj7v5ixJH1fxXWxAOQCy+NtGOXGRIgQIAAAQIECBAgUJKAAKQkSMsQaIiAAKQhg+hxGQKQHg9f6ysLCEBcIQTqE8hfeC7iwXvWXcBEA5AzNkdcfYOvvlr3lCxAgAABAgQIECBA4E8EBCCuBgLdEhCAdGuebexGANLGqam5EgEBSCXMNiGwrEBeBCBFELKO1+QCkBRxzY2RzjhzHdU5lQABAgQIECBAgACBkwUEIK4JAt0SEIB0a55t7EYA0sapqbkSAQFIJcw2IbB8AHLk1Yg7vxgxXFiz0sQCkJ0XRLrgkjXX5UQCBAgQIECAAAECBE4tIABxZRDoloAApFvzbGM3ApA2Tk3NlQgIQCphtgmBFQXypx6PePLRNStNJADZsDHiurdEmp5ec11OJECAAAECBAgQIEBAAOIaINAHAQFIH6bc7B4FIM2ej+pqFBCA1IhvawJLAvlwGHHn/4oo7gZZw2siAcjFuyNt37GGapxCgAABAgQIECBAgMBqAu4AWU3Izwm0S0AA0q55dbFaAUgXp6qnUgQEIKUwWoTAugXy55+JeOi+Na1TegCy6cxjz/5I/vW5poE4iQABAgQIECBAgMAqAgIQlwiBbgkIQLo1zzZ24zc4bZyamisREIBUwmwTAiMJ5Pd+KeLAyyMde+JBpQcgV1wX6aytY9fhBAIECBAgQIAAAQIERhMQgIzm5CgCbREQgLRlUt2tUwDS3dnqbJ0CApB1AjqdQIkC+csvRtx359grlhqAbNka6crrxq7BCQQIECBAgAABAgQIjC4gABndypEE2iAgAGnDlLpdowCk2/PV3ToEBCDrwHMqgQkI5EUAUgQhY7xKDUCuuj7S5rPG2N2hBAgQIECAAAECBAiMKyAAGVfM8QSaLSAAafZ8+lCdAKQPU9bjmgQEIGticxKBiQms5S6Q0gIQd39MbK4WJkCAAAECBAgQIHCigADE9UCgWwICkG7Ns43dCEDaODU1VyIgAKmE2SYExhIY9y6Q0gKQq26ItHnLWLU6mAABAgQIECBAgACB8QUEIOObOYNAkwUEIE2eTj9qE4D0Y866XIOAAGQNaE4hMGGB/KUXI+4f/VkgpQQg7v6Y8FQtT4AAAQIECBAgQOBPBAQgrgYC3RIQgHRrnm3sRgDSxqmpuRIBAUglzDYhMLZAftftEYcPjnReKQHI7qsjbT1npP0cRIAAAQIECBAgQIDA+gQEIOvzczaBpgkIQJo2kf7VIwDp38x1PKKAAGREKIcRqFggf3Z/xCMPjLTrugOQ006PuO4tkZJ/XY4E7iACBAgQIECAAAEC6xQQgKwT0OkEGiYgAGnYQHpYjt/o9HDoWh5NQAAympOjCFQtkA+HEV/+44ijR1bdet0ByEWXRTrv/FX3cQABAgQIECBAgAABAuUICEDKcbQKgaYICECaMon+1iEA6e/sdb6KgADEJUKguQL5k49FPPXYqgWuKwCZno644SsiTU2vuo8DCBAgQIAAAQIECBAoR0AAUo6jVQg0RUAA0pRJ9LcOAUh/Z69zAYhrgEBrBfJXXzl2F8hq/xwfOhD5z/30645K3/eeSGdsXu3UiO07I118+erHOYIAAQIECBAgQIAAgdIEBCClUVqIQCMEBCCNGEOvixCA9Hr8ml9JwB0grg8CzRbI778r4qUXVixyXXeAXH1jpDNHCEqazaQ6AgQIECBAgAABAq0SEIC0alyKJbCqgABkVSIHTFhAADJhYMu3V0AA0t7ZqbwfAvnzz0Y8dO9kApAzzox0zZv6AalLAgQIECBAgAABAg0SEIA0aBhKIVCCgACkBERLrEtAALIuPid3WUAA0uXp6q0LAosPQ//SH0UsHF22nTXfAeLh5124RPRAgAABAgQIECDQQgEBSAuHpmQCKwgIQFwedQsIQOqegP0bKyAAaexoFEbgNYH8sYcinn6q5AAkRdz4FZE2bCRNgAABAgQIECBAgEDFAgKQisFtR2DCAgKQCQNbflUBAciqRA7oq4AApK+T13ebBPIDL0Xc++VyA5Czzo50xbVtYlArAQIECBAgQIAAgc4ICEA6M0qNEFgUEIC4EOoWEIDUPQH7N1ZAANLY0SiMwGsCeZ5HfPmPIo4cOaXKmr4C65Ldkc7dQZkAAQIECBAgQIAAgRoEBCA1oNuSwAQFBCATxLX0SAICkJGYHNRHAQFIH6eu5zYK5I8/HLH/yXICkJQibvjKSBs2tJFCzQQIECBAgAABAgRaLyAAaf0INUDgdQICEBdE3QICkLonYP/GCghAGjsahRF4nUB+4OWIe79UTgCydVuk3dcQJkCAAAECBAgQIECgJgEBSE3wtiUwIQEByIRgLTuygABkZCoH9k1AANK3ieu3rQKLX4P1pT+KOPrGr8Ea+yuwLt4dabuvv2rrtaBuAgQIECBAgACB9gsIQNo/Qx0QOFFAAOJ6qFtAAFL3BOzfWAEBSGNHozACbxDIH3kg4tn9b/zzQwci/7mfft2fp+97T6QzNp9a8YaviLTxNMIECBAgQIAAAQIECNQkIACpCd62BCYkIACZEKxlRxYQgIxM5cC+CQhA+jZx/bZZIH/huYgH71lfAHLG5kjX3NhmBrUTIECAAAECBAgQaL2AAKT1I9QAgdcJCEBcEHULCEDqnoD9GysgAGnsaBRG4I1Bx3Ah4vY/iCi+DuuE11hfgXX+RZF2XUSXAAECBAgQIECAAIEaBQQgNeLbmsAEBAQgE0C15FgCApCxuBzcJwEBSJ+mrdcuCOT33Rnx8otrD0CuviHSmVu6QKEHAgQIECBAgAABAq0VEIC0dnQKJ3BKAQGIC6NuAQFI3ROwf2MFBCCNHY3CCJxSIN/3RMQTj6wtAJmejrjxT0dK/rXo8iJAgAABAgQIECBQp4AApE59exMoX0AAUr6pFccT8Jue8bwc3SMBAUiPhq3VTgjkhw5G3H372gKQs8+JdPnVnXDQBAECBAgQIECAAIE2CwhA2jw9tRN4o4AAxFVRt4AApO4J2L+xAgKQxo5GYQROKZAXz/+44w8jFo6+9vORnwFy8eWRtu8kS4AAAQIECBAgQIBAzQICkJoHYHsCJQsIQEoGtdzYAgKQscmc0BcBAUhfJq3PLgnkD90b8fyz4wcg170l0umbukShFwIECBAgQIAAAQKtFBCAtHJsiiawrIAAxMVRt4AApO4J2L+xAgKQxo5GYQSWFcj3Pxnx+MPjBSAbNka68SupEiBAgAABAgQIECDQAAEBSAOGoAQCJQoIQErEtNSaBAQga2JzUh8EBCB9mLIeuyZw8nNARvoKrG3nRrrsqq5R6IcAAQIECBAgQIBAKwUEIK0cm6IJLCsgAHFx1C0gAKl7AvZvrIAApLGjURiBZQWOPQfkDyIWFhaPGSkAufDSSDt2USVAgAABAgQIECBAoAECApAGDEEJBEoUEICUiGmpNQkIQNbE5qQ+CAhA+jBlPXZRIL//roiXXhg9ALn6xkhnbu4ihZ4IECBAgAABAgQItE5AANK6kSmYwIoCAhAXSN0CApC6J2D/xgoIQBo7GoURWFEgf/KxiKceGy0AmZqKeNNXRUr+deiyIkCAAAECBAgQINAEAQFIE6agBgLlCQhAyrO00toE/MZnbW7O6oGAAKQHQ9ZiJwXyF5+PeODu0QKQzVsiXXVDJx00RYAAAQIECBAgQKCNAgKQNk5NzQSWFxCAuDrqFhCA1D0B+zdWQADS2NEojMCKAvnRo8eeAzLKM0DO2xXpokuJEiBAgAABAgQIECDQEAEBSEMGoQwCJQkIQEqCtMyaBQQga6ZzYtcFBCBdn7D+uiyQf/mPI159ZfWHoF92ZaRt27tMoTcCBAgQIECAAAECrRIQgLRqXIolsKqAAGRVIgdMWEAAMmFgy7dXQADS3tmpnED+0L0Rzz+7egBy3Vsinb4JGAECBAgQIECAAAECDREQgDRkEMogUJKAAKQkSMusWUAAsmY6J3ZdQADS9QnX11/+0gv1bd6TnfOnn4x46vHIDx2M+PgHX9/13/yBSGecGZGmI65/iwegT/iaSGedPeEdLE+AAAECBAgQINAlAQFIl6apFwIRAhBXQd0CApC6J2D/xgoIQBo7mtYXtvD939r6HjRAYFSB6Z/9zKiHOo4AAQIECBAgQIBACEBcBAS6JSAA6dY829iNAKSNU1NzJQICkEqYe7mJAKSXY+9t0wKQ3o5e4wQIECBAgACBNQkIQNbE5iQCjRUQgDR2NL0pTADSm1FrdFwBAci4Yo4fVUAAMqqU47ogIADpwhT1QIAAAQIECBCoTkAAUp21nQhUISAAqULZHisJCEBcHwSWERCAuDQmJSAAmZSsdZsoIABp4lTURIAAAQIECBBoroAApLmzURmBtQgIQNai5pwyBQQgZWpaq1MCApBOjbNRzXgIerXjKD5A7dy5c3HTffv2xXA4rLaAnu/mIeg9vwC0T4AAAQIECBAYU0AAMiaYwwk0XEAA0vAB9aA8AUgPhqzFtQkIQNbm5iwCTRPwAappE1EPAQIECBAgQIAAgeUFvH93dRDoloAApFvzbGM3ApA2Tk3NlQgIQCphtgmBiQv4ADVxYhsQIECAAAECBAgQKE3A+/fSKC1EoBECApBGjKHXRQhAej1+za8kIABxfRDohoAPUN2Yoy4IECBAgAABAgT6IeD9ez/mrMv+CAhA+jPrpnYqAGnqZNRVu4AApPYRKIBAKQI+QJXCaBECBAgQIECAAAEClQh4/14Js00IVCYgAKmM2kbLCAhAXBoElhEQgLg0CHRDwAeobsxRFwQIECBAgAABAv0Q8P69H3PWZX8EBCD9mXVTOxWANHUy6qpdQABS+wgUQKAUAR+gSmG0CAECBAgQIECAAIFKBLx/r4TZJgQqExCAVEZto2UEBCAuDQLLCAhAXBoEuiHgA1Q35qgLAgQIECBAgACBfgh4/96POeuyPwICkP7MuqmdCkCaOhl11S4gAKl9BAogUIqAD1ClMFqEAAECBAgQIECAQCUC3r9XwmwTApUJCEAqo7bRMgICEJcGgWUEBCAuDQLdEPABqhtz1AUBAgQIECBAgEA/BLx/78ecddkfAQFIf2bd1E4FIE2djLpqFxCA1D4CBRAoRcAHqFIYLUKAAAECBAgQIECgEgHv3ythtgmBygQEIJVR22gZAQGIS4PAMgICEJcGgW4I+ADVjTnqggABAgQIECBAoB8C3r/3Y8667I+AAKQ/s25qpwKQpk5GXbULCEBqH4ECCJQi4ANUKYwWIUCAAAECBAgQIFCJgPfvlTDbhEBlAgKQyqhttIyAAMSlQWAZAQGIS4NANwR8gOrGHHVBgAABAgQIECDQDwHv3/sxZ132R0AA0p9ZN7VTAUhTJ6Ou2gUEILWPQAEEShHwAaoURosQIECAAAECBAgQqETA+/dKmG1CoDIBAUhl1DZaRkAA4tIgsIyAAMSlQaAbAj5AdWOOuiBAgAABAgQIEOiHgPfv/ZizLvsjIADpz6yb2qkApKmTUVftAgKQ2kegAAKlCPgAVQqjRQgQIECAAAECBAhUIuD9eyXMNiFQmYAApDJqGy0jIABxaRBYRkAA4tIg0A0BH6C6MUddECBAgAABAgQI9EPA+/d+zFmX/REQgPRn1k3tVADS1Mmoq3YBAUjtI1AAgVIEfIAqhdEiBAgQIECAAAECBCoR8P69EmabEKhMQABSGbWNlhEQgLg0CCwjIABxaRDohoAPUN2Yoy4IECBAgAABAgT6IeD9ez/mrMv+CAhA+jPrpnYqAGnqZNRVu4AApPYRKIBAKQI+QJXCaBECBAgQIECAAAEClQh4/14Js00IVCYgAKmM2kbLCAhAXBoElhEQgLg0CHRDwAeobsxRFwQIECBAgAABAv0Q8P69H3PWZX8EBCD9mXVTOxWANHUy6qpdQABS+wgUQKAUAR+gSmG0CAECBAgQIECAAIFKBLx/r4TZJgQqExCAVEZto2UEBCAuDQLLCAhAXBoEuiHgA1Q35qgLAgQIECBAgACBfgh4/96POeuyPwICkP7MuqmdCkCaOhl11S4gAKl9BAogUIqAD1ClMFqEAAECBAgQIECAQCUC3r9XwmwTApUJCEAqo7bRMgICEJcGgWUEBCAuDQLdEPABqhtz1AUBAgQIECBAgEA/BLx/78ecddkfAQFIf2bd1E4FIE2djLpqFxCA1D4CBRAoRcAHqFIYLUKAAAECBAgQIECgEgHv3ythtgmBygQEIJVR22gZAQGIS4PAMgICEJcGgW4I+ADVjTnqggABAgQIECBAoB8C3r/3Y8667I+AAKQ/s25qpwKQpk5GXbULCEBqH4ECCJQi4ANUKYwWIUCAAAECBAgQIFCJgPfvlTDbhEBlAgKQyqhttIyAAMSlQWAZAQGIS4NANwR8gOrGHHVBgAABAgQIECDQDwHv3/sxZ132R0AA0p9ZN7VTAUhTJ6Ou2gUEILWPQAEEShHwAaoURosQIECAAAECBAgQqETA+/dKmG1CoDIBAUhl1DZaRkAA4tIgsIyAAMSlQaAbAj5AdWOOuiBAgAABAgQIEOiHgPfv/ZizLvsjIADpz6yb2qkApKmTUVftAgKQ2kegAAKlCPgAVQqjRQgQIECAAAECBAhUIuD9eyXMNiFQmYAApDJqGy0jIABxaRBYRkAA4tIg0A0BH6C6MUddECBAgAABAgQI9EPA+/d+zFmX/REQgPRn1k3tVADS1Mmoq3YBAUjtI1AAgVIEfIAqhdEiBAgQIECAAAECBCoR8P69EmabEKhMQABSGbWNlhEQgLg0CCwjIABxaRDohoAPUN2Yoy4IECBAgAABAgT6IeD9ez/mrMv+CAhA+jPrpnYqAGnqZNRVu4AApPYRKIBAKQI+QJXCaBECBAgQIECAAAEClQh4/14Js00IVCYgAKmM2kbLCAhAXBoElhEQgLg0CHRDwAeobsxRFwQIECBAgAABAv0Q8P69H3PWZX8EBCD9mXVTOxWANHUy6qpdQABS+wgUQKAUAR+gSmG0CAECBAgQIECAAIFKBLx/r4TZJgQqExCAVEZto2UEBCAuDQLLCOR5/mpEbMzzPIbDIScCBFosMD09vVj9wsJCi7tQOgECBAgQIECAAIF+CHj/3o8567IfAkWomdLir6CPpJRO60fXumySgACkSdNQS6ME8jw/GhHHfmvqRYAAAQIECBAgQIAAAQIECBAgQIDAWgUWUkob1nqy8wisVUAAslY553VeIM/zAxFxekQUt3/s63zDGiTQUYGFhYXp559/flfR3rZt256cnp52G0hHZ60tAgQIECBAgACB9gt4/97+GeqAwEkCOyNiKiJeSSltpkOgagEBSNXi9iNAgACBSgVuuummi6enpx8pNl1YWLjkU5/61KOVFmAzAgQIECBAgAABAgRGFvD+fWQqBxIgQIDACAICkBGQHEKAAAEC7RXwAaq9s1M5AQIECBAgQIBA/wS8f+/fzHVMgACBSQoIQCapa20CBAgQqF3AB6jaR6AAAgQIECBAgAABAiMLeP8+MpUDCRAgQGAEAQHICEgOIUCAAIH2CvgA1d7ZqZwAAQIECBAgQKB/At6/92/mOiZAgMAkBQQgk9S1NgECBAjULuADVO0jUAABAgQIECBAgACBkQW8fx+ZyoEECBAgMIKAAGQEJIcQIECAQHsFfIBq7+xUToAAAQIECBAg0D8B79/7N3MdEyBAYJICApBJ6lqbAAECBGoX8AGq9hEogAABAgQIECBAgMDIAt6/j0zlQAIECBAYQUAAMgKSQwgQIECgvQI+QLV3dionQIAAAQIECBDon4D37/2buY4JECAwSQEByCR1rU2AAAECBAgQIECAAAECBAgQIECAAAECBAjUIiAAqYXdpgQIECBAgAABAgQIECBAgAABAgQIECBAgMAkBQQgk9S1NgECBAgQIECAAAECBAgQIECAAAECBAgQIFCLgACkFnabEiBAgAABAgQIECBAgAABAgQIECBAgAABApMUEIBMUtfaBAgQIECAAAECBAgQIECAAAECBAgQIECAQC0CApBa2G1KgAABAgQIECBAgAABAgQIECBAgAABAgQITFJAADJJXWsTIECAAAECBAgQIECAAAECBAgQIECAAAECtQgIQGphtykBAgQIECBAgAABAgQIECBAgAABAgQIECAwSQEByCR1rU2AAAECBAgQIECAAAECBAgQIECAAAECBAjUIiAAqYXdpgQIECBAgAABAgQIECBAgAABAgQIECBAgMAkBQQgk9S1NgECBAhUKjAzM/O2lNJvrrDpgYh4PM/z/5FS+oUsy36j0gJtRoAAAQIECBAgQIBAnOJ9+8uHDx8+/7bbbju4Es9gMDgjIp6MiK3Hj8vz/C/Oz89/DisBAgQIEDiVgADEdUGAAAECnREYIQB5Xa8ppV/K8/x7syxb6AyCRggQIECAAAECBAg0XGCZ9+1/K8uyj69U+szMzLtSSp848RgBSMOHrTwCBAjULCAAqXkAtidAgACB8gRO+iD1gampqfcfX304HBb/zjs3Ir42It4TETuXfvYvsiz7x+VVYSUCBAgQIECAAAECBFYJMk68c/twRGyKiF/JsuztK503GAz+c0T81Yg4fk4IQFxrBAgQILCSgADE9UGAAAECnRE4MQBJKf3Tubm5W07V3GAwuCEifn/pg9ZLEXFelmWvdgZCIwQIECBAgAABAgQaLHDi+/Y8z+dSSrMRUdyVfXGWZcVXXL3h9c53vnPnhg0bHouIDRGxNyL2FAcJQBo8aKURIECgAQICkAYMQQkECBAgUI7AqAFIsdtgMJiPiJuL/z4cDv/Urbfe+r/KqcIqBAgQIECAAAECBAisJHDSndt/OyL+eUTsSin9yNzc3E+f6tzBYPD3IuJ9S88AKe7g/rAAxHVGgAABAqsJCEBWE/JzAgQIEGiNwDgByMzMzE+llP5B0dzU1NRb9+7d+4XWNKpQAgQIECBAgAABAi0WOCkA+Z48z9+SUiq+pvYPsyz708sEIMUd3MXP/nVEfDEifkEA0uKLQOkECBCoSEAAUhG0bQgQIEBg8gLjBCCzs7NzeZ4Piqo2bNiw6xOf+MRTk6/QDgQIECBAgAABAgQInByADIfDP56amvqDQmY4HL7p1ltvveNEpaWvsD3+Z18ZEV8hAHEdESBAgMAoAgKQUZQcQ4AAAQKtEBg1ALn55puvW/qAdUZEfD7LsuLB6F4ECBAgQIAAAQIECFQgcHIAkmXZRwaDwe0RcWOe5z8xPz//4ycFIO+NiOLPbs+y7M2DweC7BSAVDMoWBAgQ6ICAAKQDQ9QCAQIECBwTOOmD1Aempqbef9xmOBymPM+3RcTXLt1evysiXpiamvore/fu/TxDAgQIECBAgAABAgSqEThVADIzM/NjKaWfiIhHsiy7rHi++VI1aTAYPBQRl0TEj2VZ9lMCkGrmZBcCBAh0QUAA0oUp6oEAAQIEThWArKQyzPP8Q9PT0z+9d+/eu/ERIECAAAECBAgQIFCdwDJ3gFwUEQ8Xj+hLKX3j3NzcbxYVzc7O/sU8z3+j+HasiLg0y7LHBCDVzcpOBAgQaLuAAKTtE1Q/AQIECLwmcNIHqdVknk8pfeSll1768c9+9rOvrHawnxMgQIAAAQIECBAgUI7AqQKQYuXBYPBrEfFNKaVfmJub+96lAOTn8zz/noj4tSzL/tLScb4Cq5xRWIUAAQKdFxCAdH7EGiRAgEB/BFZ7BshgMCie+XFVRHxHRLyneP55RPz3w4cP/+XbbrvtYH+kdEqAAAECBAgQIECgPoHlApCZmZnvTCn9YkS8GBHFV9YWr6ci4qyI+M4syz4qAKlvbnYmQIBAGwUEIG2cmpoJECBA4JQCqwUgJ540Ozv7/cXXYC392b/IsuwfYyVAgAABAgQIECBAYPICK9wBsmUp8Dgzz/Nvm5qaKp7j9/GIOLBp06bzP/rRjx4QgEx+PnYgQIBAlwQEIF2apl4IECDQc4FxApBbbrll6o477tgfEedGxBNZll3Ycz7tEyBAgAABAgQIEKhEYLkApNh8dnb2P+R5/rci4pcjovi91dvzPP8P8/PzxV3ciy/PAKlkTDYhQIBAJwQEIJ0YoyYIECBAoBAYJwBZ+uD0+Yj4s8V/P3r06Hmf/vSnnyFJgAABAgQIECBAgMBkBVYKQGZmZr45pfSrxVv0pSqKr6395izL/uvxqgQgk52P1QkQINAlAQFIl6apFwIECPRcYA0ByO9FxFcVbBs2bNj1iU98ovh+YS8CBAgQIECAAAECBCYosFIAMhgMpiPikYi4YKmEx2+88cZLbrnllqEAZIJDsTQBAgQ6KiAA6ehgtUWAAIE+CowTgLzjHe84c9OmTU9HRPFg9EPFgxWzLFvoo5ueCRAgQIAAAQIECFQpsFIAUtQxOzv7E3me/73iv+d5/r75+fkfP7E+d4BUOS17ESBAoN0CApB2z0/1BAgQIHCCwDgByGAw+MmI+NGl0/9jlmXvhEmAAAECBAgQIECAwOQFVgtAVqtAALKakJ8TIECAwHEBAYgcn2DEAAAd3klEQVRrgQABAgQ6I3DSB6kPTE1Nvf/E5o4ePbppenr66jzPvzMi/srSzw5HxFuzLPtiZyA0QoAAAQIECBAgQKDBAgKQBg9HaQQIEOiYgACkYwPVDgECBPoscNIHqVEo9ud5/u3z8/P/ZZSDHUOAAAECBAgQIECAwPoFBCDrN7QCAQIECIwmIAAZzclRBAgQINACgRECkFcj4tmIuCMifnnjxo2/8PGPf/y5FrSmRAIECBAgQIAAAQKdERCAdGaUGiFAgEDjBQQgjR+RAgkQIECAAAECBAgQIECAAAECBAgQIECAAIFxBQQg44o5ngABAgQIECBAgAABAgQIECBAgAABAgQIEGi8gACk8SNSIAECBAgQIECAAAECBAgQIECAAAECBAgQIDCugABkXDHHEyBAgAABAgQIECBAgAABAgQIECBAgAABAo0XEIA0fkQKJECAAAECBAgQIECAAAECBAgQIECAAAECBMYVEICMK+Z4AgQIECBAgAABAgQIECBAgAABAgQIECBAoPECApDGj0iBBAgQIECAAAECBAgQIECAAAECBAgQIECAwLgCApBxxRxPgAABAgQIECBAgAABAgQIECBAgAABAgQINF5AANL4ESmQAAECBAgQIECAAAECBAgQIECAAAECBAgQGFdAADKumOMJECBAgAABAgQIECBAgAABAgQIECBAgACBxgsIQBo/IgUSIECAAAECBAgQIECAAAECBAgQIECAAAEC4woIQMYVczwBAgQIECBAgAABAgQIECBAgAABAgQIECDQeAEBSONHpEACBAgQIECAAAECBAgQIECAAAECBAgQIEBgXAEByLhijidAgAABAgQIECBAgAABAgQIECBAgAABAgQaLyAAafyIFEiAAAECBAgQIECAAAECBAgQIECAAAECBAiMKyAAGVfM8QQIECBAgAABAgQIECBAgAABAgQIECBAgEDjBQQgjR+RAgkQIECAAAECBAgQIECAAAECBAgQIECAAIFxBQQg44o5ngABAgQIECBAgAABAgQIECBAgAABAgQIEGi8gACk8SNSIAECBAgQIECAAIH1C7zrXe+6fGFh4YGllR7Ksuzy9a9qhUkLzMzMvC2l9JtL+/xWlmVvm/Se1idAgAABAgQIECDQFQEBSFcmqQ8CBAgQIECAAIFWCwwGg89FxDcs08QrEfFCRLwYEU9FxB9GxO9HxG9kWfbwKI0LQEZRat4xApDmzURFBAgQIECAAAEC7REQgLRnViolQIAAAQIECBDosMAqAchynQ8j4ldSSj8zNzf3qyvxCEDaefEIQNo5N1UTIECAAAECBAg0Q0AA0ow5qIIAAQIECBAgQKDnAicFIF/I8/x/HidJKU1FxNkRsS0iboyIy07B9ZFXXnnlhz/zmc+8dCpKAUg7LzABSDvnpmoCBAgQIECAAIFmCAhAmjEHVRAgQIAAAQIECPRc4MQAJKX0T+fm5m5ZjmQwGOyKiO+IiB+OiItPOO4LxddoZVl2qOec2idAgAABAgQIECBAgEAIQFwEBAgQIECAAAECBBogME4AcrzcwWCwJaX083meD47/WZ7nc/Pz83sa0JISCBAgQIAAAQIECBAgUKuAAKRWfpsTIECAAAECBAgQOCawlgBkyS4NBoPbIuKvHbdMKX3D3Nzcf2NLgAABAgQIECBAgACBPgsIQPo8fb0TIECAAAECBAg0RmAdAUgRnpwbEQ9GxFlLDf2XLMv+8onNjfMMkJtuuumy6enpv5pS+vo8z98cEZdExJkR8WJEPJ7n+X+fnp7+xb17935+HMDBYPDWPM9/IKX0FyPigoh4OSIeSCndeuTIkQ9/+tOffmYwGHx3RPxCsW6e5784Pz9f/O/XvZY7ZjAYvDMivjci/lREnB8RL0TEH6WUfmlubu5jxZIj1ptmZmZmpqambsrz/K1LaxWnPpXn+f9IKX0qy7JbR1lv6S6db8/z/B0RUVieFxEbI+JgRDwREfeklH43pfSZvXv33n5yfeM8A+Tmm2++bmpqquj/6yPiqojYGhHDpbk9EhH/K6X0uQ0bNnzm4x//+HMjWjiMAAECBAgQIECAQGsFBCCtHZ3CCRAgQIAAAQIEuiSwngCkcJidnf2ZPM//9yWT4hf952VZ9uxxo1EDkJmZmZ9KKf39iNW/Ljel9MlDhw5932233Vb8Mn+lVxEo/GRK6Ucionig+6lej01NTc0Mh8Prxg1AUkp/LyJ+KSK+dYUifiUiblrt+Sg333zz1VNTU3sj4itX6en3FxYWZj/1qU/dv9xxg8HgayMii4iLRrlW9+/fv/Fzn/vc0ROPHTUAmZ2dvSXP838cEdOr7ZVS+tjc3Ny3r3acnxMgQIAAAQIECBBou4AApO0TVD8BAgQIECBAgEAnBNYbgMzMzPyFlNKJX3v117Ms+8xxnFEDkMFg8MmIKJ4hUoQodxX/l+f5M1NTU0fyPN++FAxceQL6L2dZ9i0r3Q0xMzPzr1NK7znhnOLOj9/M8/zJlFJxp0ZxR0hx98qzKaX35Xn+z4pjR7kDpPhlfp7nxUPhvykiXo2I/y8i7kspbcrz/C9ExKXH983z/N/Pz8//neUumD179lw/HA5/KyJ2nHDMF5fuIsnzPC9CkeIujuOvp6ampr5+7969d5+85rve9a5LFhYW7jjhrpwjEfGFlNK9w+HwYEppc0RcvnS3SnGnRqw1ABkMBkUA9L4Tang6Ij6f5/kTKaVijsUdQkWwdH0RkAhAOvH/MjRBgAABAgQIECAwgoAAZAQkhxAgQIAAAQIECBCYtMB6A5B3vOMdZ27atKn4iqrFOwBSSu+dm5v7h8frHiMA+dHid/EbNmz4fz/xiU8Uv0h/w2spbPn5pa9ZKvb6jrm5uf+wzLHflFL6teM/K375vnHjxv/tYx/7WFHr4qv4mqiI+DcRUXzd1SsRcXrx56MEICcc/9mI+P4syx47vu7b3va2Deedd957U0r/YOnP8unp6Ss++clPFl8X9rrXYDA4LSL+51IgUfxsX0rpb83Nzb1We/GHMzMz31z0sPRVVsUf/cE555zzNR/60IeKgOO11+zs7E/nef5/LP3Bb09PT7/rk5/85OMn71vUuGPHjq9LKX1/nufflWXZwonHrHYHyNL5xVdpFV+tVbz+r3POOedfnVzPkvO5eZ7/9SLgmZ+f/8lTzcufESBAgAABAgQIEOiSgACkS9PUCwECBAgQIECAQGsF1huALP2C+4GluwqK8ODn5+fnv+84yKgByKiAS+t9OSI2FcFBlmV/9lTnDgaD4jkhx3/22RtvvPFbbrnlluK5FCe/ioe5fzoiil/QL75GDECKQ397//7933jy10ctLVOs+z8i4quL/51S+vG5ubmfOHnzmZmZ70kpFaFO8ToyHA7/7K233vqHp+ppz549Xz0cDos7TTYs1fld8/PzxVdwvfYaDAa/FxFftfQHV2dZdu+oticet1oAsmfPnjcNh8PiLpXi9TtZlv35tezjHAIECBAgQIAAAQJdFBCAdHGqeiJAgAABAgQIEGidQEkByB+dcAfDp7Msu+k4RNkBSLHuYDD45Yh4e5FVnHbaadtOvKuj+PnNN99849TU1GsP9p6amrr2VF8XdVKN9x1/TsioAcjU1NRX7d279w+WG/pgMCi+9ur9Sz8vHmB+88nHnhjU5Hn+M/Pz88XXSi37GgwGxXrHv07r81mWFc/7eO01GAyKr8W6eukPtmVZVjyQfezXagHIzMzMn0sp/c7Swv8xy7LiQfBeBAgQIECAAAECBAiM8mBDSgQIECBAgAABAgQITF6gpADkv0fE1y1V+2tZlv2l45WvJQAZDAbF8zPemlK6Js/zbRFxRp7nr/0lqpRS8dyN4tkSxd0aXz8/P//bJ0rNzs7+UJ7n/3bpz5a9S+TEcwaDQfEck+LZHaPeAXJ/lmUnPpPkDcPas2fP1wyHw99d+sEfZFl2/M6MxT/61m/91rNOP/30545/fdjU1NRX7N27949XmvqePXv+9HA4/P2lYxY2bdp09kc/+tEDx88ZDAa/HhHfWPzv5e46GeWqWi0AWXrWyMNLa70wNTX11pVCplH2dAwBAgQIECBAgACBrgi4A6Qrk9QHAQIECBAgQIBAqwVKCkCKX9q/ZQnidXc6jBOADAaD4m6Gf7kURIz6meGmLMuKr7B67TU7O/uzeZ7/7aUQ4N/Mzc398GpDmpmZ+anjz+wY8Q6Q/5Rl2d9Yad2bb7756qmpqeMPKr83y7Ljd2YsnjY7O/t1eZ4X4VHxejnLsuKh5MXDw5d93XLLLVN33HFH8RyT4mHmRVjzdfPz88XXYi2+ZmZmfiCl9O9PWODX8zz/2HA4/K+f+tSnHl3N4YR13pZS+s2l//1bWZa97eRzB4NBEe58zfH6I+KjEfHpw4cP/85tt912cNS9HEeAAAECBAgQIECgawKjfpjpWt/6IUCAAAECBAgQINAogZICkOLh3pcVjaWUPjw3N/f9x5scNQCZnZ393jzPPzzu3eLFA7xP8RyM/3jCMz1+LMuyn1oNfTAYFF899b7iuFECkJTSL83NzX3XSuuu1vvs7OzfyPP8eHjz5SzLblitzuLng8GgeAbK4h0wRZ9Zln3m+HmDwaB4GP18RJwqnHk4pfTbeZ7/5oYNG/7Tcg+bL9Za7Q6QpTqKen8jIs4/qe6jEVF8Ldp/y/P8V1NKv37yQ9ZH6dMxBAgQIECAAAECBNoqIABp6+TUTYAAAQIECBAg0CmB9QYg3/Ed37H58OHDxXMmil+8FwHIP5+bm/snx5FWCwFO+EV6cRfJ4sO9I+KOlNKHUkq/++qrrz509tlnv/iRj3zk8PE1Z2ZmPpJSOh4+fE+WZR85cSiDweDXIqL4mqyinr87Nzf371Yb2mAwKB7cXgQwIwUgy4UkJ+6zWu+zs7Pfnud5cddE8fq9LMsWH5i+2uvEB53nef7t8/PzHzvpnOIB7N8bET8SEcuFKkcioniAehEQPXvynqMEIMU53/Zt33b+wsLCP8rz/Dsj4uxlan8sz/Nb5ufnF329CBAgQIAAAQIECHRdQADS9QnrjwABAgQIECBAoBUC6w1ABoPBN0TE505o9luyLPvPx//3aiFAcdzMzEwRdhy/a+RXi8djZFn26nKAg8Hg1og4/qD1UwUgY98BMjs7+8N5nv8/xZ6j3AFSUgBS+h0gJ5vt2bOneI7KNwyHw69LKRXPOLnipGOKh79/bZZl+0/881EDkOPnvP3tbz99y5YtX5Pn+V9IKf25pWfCFF/p9dorpTTS15G14h8cRRIgQIAAAQIECBBYQUAA4vIgQIAAAQIECBAg0ACB9QYgMzMz/zal9ENLrQwj4twsy4o7QhZfowQgg8Gg+CX84i/mh8PhV996662/txLNiXdARMSpApDiToPijo4izPiZ+fn54uutVnwNBoOfjIgfXTrnF+fn57/75BMGg0HxZ7+w0jEnnrNa7yc9A+SlLMuKOyjW9QyQ1fosApHhcPgDEVGYLN61k+f5v5ufn/+7J547bgBy8r7vfve7Nz733HPFXTj/KCL+/PGfLz0s/Qur1ennBAgQIECAAAECBNosIABp8/TUToAAAQIECBAg0BmB9QQg73znO7dv2LCheP7HliWQX86y7P9v795D7LjqOID/zqRJU+ujkVofoOAraNraVsVX8f34w2Kh7p27JrS0Cop/VKkIiuBj1SL+odjqPxLxRUya3LmbSkUKolRR1Cqt9RWk1Ipaaq1aUaPSurlHTpiV23U3u6luNXs+89fmzsyZ+X1+k3/my5lzwfGEAOXYtm3/HhFby9+HDx/eev3119+7EnDbtiUkKLMVNvfHLBeAlJf5n+j339h13eJC3Sv2bdrhwZoBcuGFFz7s5JNP/uNiEDGZTM6Zn5//0bEerpmZmfOaprm5P+bI1q1bH7Fnz56/Hu8D2bZtCSau7M/7ddd1T5ge4z8NQBbH6meGlEDrrPJbzvmD4/H4vcd7v44nQIAAAQIECBAgcCIJCEBOpG65VwIECBAgQIAAgQ0r8B8EIGWdiS9FxHTg8YKu674zjbXaLIhybNu25QX+Q8rfmzdvfuS+fftKKLDsNhgM3p5S+sjUzn8LQGZnZ8+aTCY/7o8pMyq2d11320pjtm1bXv7/IiKacsyDFYD0tX83Ip7bX/dj4/G4rNux4rZkxs13uq4rn5s67q1t27MjYjFsua/rupOnB/lvBSB9jR/t1yMp/9zddV2ZgWIjQIAAAQIECBAgsGEFBCAbtrUKI0CAAAECBAgQOJEEHkgA0rbtQ3POn04pDadq3dN1XVkI+37bGgOQElYcnSGQUrpsNBp9fjnDmZmZpzZNc1NEPGxq/78FIGVf27bfi4jFRcW/3HXda1b6vNSSNUUe1ABkMBi8PqX0mb6e+/pPgC07C6Rt22dFRAlMji4Wn3O+dDwel4XM/7Xt3Lnz9Guuueb3qz2Dw+Hw1TnnxbVa7ui67vHT56wWgOzatWvb9u3b/zQ3N1c+e3bMbTgcjnLObd/fK0ej0XtWO8d+AgQIECBAgAABAieygADkRO6eeydAgAABAgQIENgwAscTgLRt+5iU0sU557dGxPQL828fPnz4Zct9umotAchwOPxQzvldPeo9KaVdo9GoLIb+r20wGLw8pVRe9j8uIsqMkVP7nSsFIK+MiK9MDbFny5Ytl+/du/fPi7+VICcirurXCymf3To6C+JBngGyJSJKWHNOf1939fXfMF3/cDh8Rc55X0Q8qv/95m3btj1v9+7d/5g+rm3bv0XEnojYd+aZZ35zuYBiZmbm2U3THFhcdyXn/KnxePymJd4vSSkt3sM3uq57yZLrlPVQ3p1S+mTTNOP9+/eXT6Hdb+s/f1UWt/94ybZ62/PH4/G3N8x/IIUQIECAAAECBAgQWEZAAOKxIECAAAECBAgQIPB/IDAdgETE93PO5WX80S2l1KSUHp5zPi0idkTEE5fecnl5fsopp7xtpXUo1hKAXHTRRWecdNJJP5l6uV8uc3PO+VBKqXzC6pkRcWZ/7RKM3B0Rl/T/XjYAKfsGg8HVKaUS1ixuf4mIG3LOv00pnRERL42Ih0dECV2uyjl/oK/7s6PR6A1La/1vL4K+OP7s7OzTJ5PJN5bU/8Oc8y39/Zw7FZCUn+5umuaFBw4cuHWZe5xeRL3Ue0vO+ZdN0/w153x6RDxtyrKc/rtNmzadu3///junx1ptBsi0RX/er8ontXLOpTfl2XlMRJS1Vx459TztHY1GF/8fPPZugQABAgQIECBAgMC6CghA1pXX4AQIECBAgAABAgTWJrAkAFnbSRFHIuL6nPNV4/H4a8c6aS0BSDm/bdvnR8R1EVFe0q+0fTEiLss5l2Dj0v6gFQOQ8h5+MBh8NKV0xeIMhGUGvrNpmpmc89k55939/qu7rivn3G9brwCkXGR2dnb7ZDLZHxHnrdKEm5umGR44cODnyx3Xtm0JPRYXpV+tnz+cTCavm5+f/9nSA9cQgAwiYnQM1+khJ2WmyGmnnXbF0hkrq92g/QQIECBAgAABAgRORAEByInYNfdMgAABAgQIECCw4QRWCUDui4jyyag/RcRdEfGDiLjpyJEjXz148OAda8FYawBSxiozQTZv3nxFzrms1/Gkfvzf5JxvaprmC6PRqCy6XmZ2fG6NAcjRIWZmZp7bNM2bI6J8xumxEXG4X/R8fmFh4VPXXnvtH4bD4Ttzzh8ux6eU3j8ajeaW1reeAUi51tzcXHPo0KHBZDKZSSk9JyLKLJWylVkVN0bEuOu6+ZXWMikHtm27JaX0ooh4cc65rIHy1Ih4dERsjYjyeaw7es/5HTt2XLfSGh6rBSDlWjt37nz0wsLCq1JK5+ecyye8Ss/KbKGylWfm1pzzt8qny7quO7SW58UxBAgQIECAAAECBDaCgABkI3RRDQQIECBAgAABAgQ2iEDbtnsjYldfzuu6ritrZNgIECBAgAABAgQIECBw3AICkOMmcwIBAgQIECBAgAABAush0C+GXma0PKKMf+TIkScfPHjw9vW4ljEJECBAgAABAgQIENj4AgKQjd9jFRIgQIAAAQIECBA4IQSGw+HHc85v6W/2xq7ryuLdNgIECBAgQIAAAQIECDwgAQHIA2JzEgECBAgQIECAAAECaxVo2/bylNK2hYWFzy63ZklZc2TTpk1XppTeODXma7uuu3at13AcAQIECBAgQIAAAQIElgoIQDwTBAgQIECAAAECBAisq8BwOJzLOb+vXzT8UM75p03T/HEymWxNKT0lIsoi4VsWbyLn/PnxeHzZut6UwQkQIECAAAECBAgQ2PACApAN32IFEiBAgAABAgQIEPjfCkwFIKvdyEJK6eodO3a8Y25ubrLawfYTIECAAAECBAgQIEDgWAICEM8HAQIECBAgQIAAAQLrKnDJJZeceu+9914wmUxekVJ6RkScERGnR8TWiLgnIm5PKX095/yZrutuW9ebMTgBAgQIECBAgAABAtUICECqabVCCRAgQIAAAQIECBAgQIAAAQIECBAgQIBAPQICkHp6rVICBAgQIECAAAECBAgQIECAAAECBAgQIFCNgACkmlYrlAABAgQIECBAgAABAgQIECBAgAABAgQI1CMgAKmn1yolQIAAAQIECBAgQIAAAQIECBAgQIAAAQLVCAhAqmm1QgkQIECAAAECBAgQIECAAAECBAgQIECAQD0CApB6eq1SAgQIECBAgAABAgQIECBAgAABAgQIECBQjYAApJpWK5QAAQIECBAgQIAAAQIECBAgQIAAAQIECNQjIACpp9cqJUCAAAECBAgQIECAAAECBAgQIECAAAEC1QgIQKpptUIJECBAgAABAgQIECBAgAABAgQIECBAgEA9AgKQenqtUgIECBAgQIAAAQIECBAgQIAAAQIECBAgUI2AAKSaViuUAAECBAgQIECAAAECBAgQIECAAAECBAjUIyAAqafXKiVAgAABAgQIECBAgAABAgQIECBAgAABAtUICECqabVCCRAgQIAAAQIECBAgQIAAAQIECBAgQIBAPQICkHp6rVICBAgQIECAAAECBAgQIECAAAECBAgQIFCNgACkmlYrlAABAgQIECBAgAABAgQIECBAgAABAgQI1CMgAKmn1yolQIAAAQIECBAgQIAAAQIECBAgQIAAAQLVCAhAqmm1QgkQIECAAAECBAgQIECAAAECBAgQIECAQD0CApB6eq1SAgQIECBAgAABAgQIECBAgAABAgQIECBQjYAApJpWK5QAAQIECBAgQIAAAQIECBAgQIAAAQIECNQjIACpp9cqJUCAAAECBAgQIECAAAECBAgQIECAAAEC1QgIQKpptUIJECBAgAABAgQIECBAgAABAgQIECBAgEA9AgKQenqtUgIECBAgQIAAAQIECBAgQIAAAQIECBAgUI2AAKSaViuUAAECBAgQIECAAAECBAgQIECAAAECBAjUIyAAqafXKiVAgAABAgQIECBAgAABAgQIECBAgAABAtUICECqabVCCRAgQIAAAQIECBAgQIAAAQIECBAgQIBAPQICkHp6rVICBAgQIECAAAECBAgQIECAAAECBAgQIFCNgACkmlYrlAABAgQIECBAgAABAgQIECBAgAABAgQI1CMgAKmn1yolQIAAAQIECBAgQIAAAQIECBAgQIAAAQLVCAhAqmm1QgkQIECAAAECBAgQIECAAAECBAgQIECAQD0CApB6eq1SAgQIECBAgAABAgQIECBAgAABAgQIECBQjYAApJpWK5QAAQIECBAgQIAAAQIECBAgQIAAAQIECNQjIACpp9cqJUCAAAECBAgQIECAAAECBAgQIECAAAEC1QgIQKpptUIJECBAgAABAgQIECBAgAABAgQIECBAgEA9AgKQenqtUgIECBAgQIAAAQIECBAgQIAAAQIECBAgUI2AAKSaViuUAAECBAgQIECAAAECBAgQIECAAAECBAjUIyAAqafXKiVAgAABAgQIECBAgAABAgQIECBAgAABAtUICECqabVCCRAgQIAAAQIECBAgQIAAAQIECBAgQIBAPQICkHp6rVICBAgQIECAAAECBAgQIECAAAECBAgQIFCNgACkmlYrlAABAgQIECBAgAABAgQIECBAgAABAgQI1CMgAKmn1yolQIAAAQIECBAgQIAAAQIECBAgQIAAAQLVCPwT5RApTrB7oFgAAAAASUVORK5CYII=\" width=\"800\">"
      ],
      "text/plain": [
       "<IPython.core.display.HTML object>"
      ]
     },
     "metadata": {},
     "output_type": "display_data"
    },
    {
     "data": {
      "application/vnd.jupyter.widget-view+json": {
       "model_id": "d2f9d0e7946f4325bf708025eea2f5a0",
       "version_major": 2,
       "version_minor": 0
      },
      "text/plain": [
       "A Jupyter Widget"
      ]
     },
     "metadata": {},
     "output_type": "display_data"
    },
    {
     "data": {
      "text/plain": [
       "<function __main__.<lambda>>"
      ]
     },
     "execution_count": 19,
     "metadata": {},
     "output_type": "execute_result"
    }
   ],
   "source": [
    "# Before Plotting, We Need to Enable D3 in The Notebook\n",
    "D3.enable_notebook()\n",
    "\n",
    "# Prettify Column Names - Replace Underscores with Spaces and Capitalize the First Letter of Each Word\n",
    "data.columns = [\" \".join([word[0].upper() + word[1:] for word in col.split(\"_\")]) for col in data.columns]\n",
    "\n",
    "# Filter Columns\n",
    "filterCols = list(data.columns.drop('Diagnosis'))[0:5]\n",
    "\n",
    "# Group Data by Diagnosis\n",
    "groups = data.groupby(\"Diagnosis\")\n",
    "    \n",
    "# Initialize Plot\n",
    "fig, axis = initPlot(groups, \"Diagnosis\", filterCols[0])\n",
    "\n",
    "# Create Filter Toggle\n",
    "filters = widgets.ToggleButtons(\n",
    "    options = filterCols,\n",
    "    description = 'Filter:',\n",
    "    disabled = False,\n",
    "    button_style='info',\n",
    "    tooltip='Feature',\n",
    "    icon='check'\n",
    ")\n",
    "\n",
    "# Bind ToggleButtons Widget Events to Rendering Function\n",
    "interact(lambda x: updatePlot(groups, \"Diagnosis\", x, fig, axis), x = filters)"
   ]
  },
  {
   "cell_type": "markdown",
   "metadata": {
    "extensions": {
     "jupyter_dashboards": {
      "version": 1,
      "views": {
       "grid_default": {
        "col": 0,
        "height": 4,
        "hidden": false,
        "row": 57,
        "width": 4
       },
       "report_default": {
        "hidden": false
       }
      }
     }
    }
   },
   "source": [
    "### In-Class Excercises\n",
    "1. Using the available dataset, create an interactive plot that visualizes `Perimeter Mean` by `Radius Mean`. Allow the user to select samples by their `Diagnosis` using a `dropdown` widget. "
   ]
  },
  {
   "cell_type": "code",
   "execution_count": null,
   "metadata": {
    "extensions": {
     "jupyter_dashboards": {
      "version": 1,
      "views": {
       "grid_default": {
        "col": 0,
        "height": 4,
        "hidden": true,
        "row": 0,
        "width": 12
       },
       "report_default": {
        "hidden": true
       }
      }
     }
    }
   },
   "outputs": [],
   "source": []
  },
  {
   "cell_type": "markdown",
   "metadata": {
    "extensions": {
     "jupyter_dashboards": {
      "version": 1,
      "views": {
       "grid_default": {
        "col": 0,
        "height": 12,
        "hidden": false,
        "row": 159,
        "width": 12
       },
       "report_default": {
        "hidden": false
       }
      }
     }
    }
   },
   "source": [
    "2. Create a similar plot to Exercise 1 that visualizes data for both `Diagnosis` (malignant and benign). Allow the user to filter this data by a value range using a `rangeslider` widget. "
   ]
  },
  {
   "cell_type": "code",
   "execution_count": null,
   "metadata": {
    "extensions": {
     "jupyter_dashboards": {
      "version": 1,
      "views": {
       "grid_default": {
        "col": 0,
        "height": 4,
        "hidden": true,
        "row": 0,
        "width": 12
       },
       "report_default": {
        "hidden": true
       }
      }
     }
    }
   },
   "outputs": [],
   "source": []
  },
  {
   "cell_type": "markdown",
   "metadata": {
    "extensions": {
     "jupyter_dashboards": {
      "version": 1,
      "views": {
       "grid_default": {
        "col": 0,
        "height": 4,
        "hidden": false,
        "row": 171,
        "width": 12
       },
       "report_default": {
        "hidden": false
       }
      }
     }
    }
   },
   "source": [
    "### Resources\n",
    "* [ipywidgets Documentation](https://ipywidgets.readthedocs.io/en/stable/user_guide.html)\n",
    "* [mpld3](https://mpld3.github.io)\n",
    "* [Explanatory v. Exploratory Data Analysis Blog Post](http://www.storytellingwithdata.com/blog/2014/04/exploratory-vs-explanatory-analysis)"
   ]
  }
 ],
 "metadata": {
  "extensions": {
   "jupyter_dashboards": {
    "activeView": "grid_default",
    "version": 1,
    "views": {
     "grid_default": {
      "cellMargin": 10,
      "defaultCellHeight": 20,
      "maxColumns": 12,
      "name": "grid",
      "type": "grid"
     },
     "report_default": {
      "name": "report",
      "type": "report"
     }
    }
   }
  },
  "kernelspec": {
   "display_name": "Python [default]",
   "language": "python",
   "name": "python2"
  },
  "language_info": {
   "codemirror_mode": {
    "name": "ipython",
    "version": 2
   },
   "file_extension": ".py",
   "mimetype": "text/x-python",
   "name": "python",
   "nbconvert_exporter": "python",
   "pygments_lexer": "ipython2",
   "version": "2.7.11"
  }
 },
 "nbformat": 4,
 "nbformat_minor": 2
}
