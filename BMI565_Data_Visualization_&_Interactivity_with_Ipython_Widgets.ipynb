{
 "cells": [
  {
   "cell_type": "markdown",
   "metadata": {
    "extensions": {
     "jupyter_dashboards": {
      "version": 1,
      "views": {
       "grid_default": {
        "col": 0,
        "height": 27,
        "hidden": true,
        "row": 0,
        "width": 12
       },
       "report_default": {
        "hidden": false
       }
      }
     }
    }
   },
   "source": [
    "# BMI565 - Bioinformatics Programming & Scripting\n",
    "\n",
    "## Interactive Data Visualizations with Ipython Widgets\n",
    "\n",
    "### Table of Contents\n",
    "\n",
    "1. [Introduction](#Introduction)\n",
    "    * Dependencies\n",
    "    * Installation\n",
    "    * Setup\n",
    "2. [Ipython Widgets](#Ipython-Widgets)\n",
    "    * Some Basic Widgets\n",
    "    * Widgets To Filter\n",
    "    * Widgets To Select\n",
    "    * Creating Interactivity\n",
    "    * Simplifying Interactivity\n",
    "    * Custom Widgets\n",
    "3. [Motivational Example: Malignant or Benign?](#Motivational-Example:-Malignant-or-Benign?)\n",
    "    * Load Data into Pandas\n",
    "    * Initializing & Re-Rendering Visualizations\n",
    "    * Bringing It All Together\n",
    "4. [In-Class Exercises](#In---Class-Exercises)\n",
    "5. [Reference](#Reference)\n",
    "\n",
    "### Introduction\n",
    "\n",
    "During the course of an exploratory data analysis (EDA) we often generate numerous data visualizations, which we could describe simply as *exploratory data visualizations*. Once our EDA is complete and we have conducted our principle analysis, we'll have hopefully gained a handful of insights that we find valuable and would like to communicate to a larger audience of our peers or perhaps even the general public. As with an EDA, the communication of results is often greatly facilitated by visualization. Often, just a handful of plots and a paragraph can provide a powerful distillation of the major findings from a dataset. \n",
    "\n",
    "With that in mind, once we have the results of our study, the purpose of data visualization shifts from **exploratory** to **explanatory**. For the latter, the basic approach can be to select a few plots from the EDA that highlight the core findings of a study. Usually, however, the additional step of generating bespoke visualizations that are illustrative of specific findings will be required. \n",
    "\n",
    "For *explanatory data visualization*, interactivity can be used to create compelling visualizations that engage a user and invite them to explore the results themselves through their web browser. By making visualizations interactive, we can both improve the quality of a visualization in terms of it's ability to engage a viewer while also making visualization more informative. \n",
    "\n",
    "#### Dependencies\n",
    "\n",
    "The following dependencies are required to run this notebook. Note that the version numbers are primarily for reference; exact library versions are unlikely to be required.\n",
    "\n",
    "1. Python\n",
    "    * Python 3.x\n",
    "2. Python Libraries\n",
    "    * Pandas 0.20.3\n",
    "    * Jupyter 1.0.0\n",
    "    * Ipywidgets 6.0.0\n",
    "    * MPLD3 0.3\n",
    "    \n",
    "#### Installation\n",
    "If you don't have the above libraries installed, paste & run the following commands into your terminal. "
   ]
  },
  {
   "cell_type": "markdown",
   "metadata": {
    "extensions": {
     "jupyter_dashboards": {
      "version": 1,
      "views": {
       "grid_default": {
        "col": 0,
        "height": 8,
        "hidden": false,
        "row": 114,
        "width": 12
       },
       "report_default": {
        "hidden": false
       }
      }
     }
    }
   },
   "source": [
    "```bash\n",
    "pip3 install pandas==0.20.3  # Pandas (Introduces DataFrame data structure, similar to R)\n",
    "pip3 install jupyter==1.0.0  # Jupyter Notebook\n",
    "pip3 install ipywidgets==6.0.0 # Ipywidgets\n",
    "pip3 install mpld3==0.3\n",
    "jupyter nbextension enable --py --sys-prefix widgetsnbextension  # Ipywidgets - Extension Setup Step\n",
    "```\n",
    "*Use `pip` instead of `pip3` if using Python 2*\n",
    "\n",
    "#### Setup"
   ]
  },
  {
   "cell_type": "code",
   "execution_count": 3,
   "metadata": {
    "collapsed": true,
    "extensions": {
     "jupyter_dashboards": {
      "version": 1,
      "views": {
       "grid_default": {
        "col": 0,
        "height": 4,
        "hidden": false,
        "row": 110,
        "width": 12
       },
       "report_default": {
        "hidden": true
       }
      }
     }
    }
   },
   "outputs": [],
   "source": [
    "# Render Plots Inline\n",
    "%matplotlib notebook\n",
    "\n",
    "# Imports: Standard Library\n",
    "import re as Rgx\n",
    "import math as Math\n",
    "\n",
    "# Imports: Third Party\n",
    "import pandas as Pandas\n",
    "import matplotlib.pyplot as Plot\n",
    "import mpld3 as D3\n",
    "import statsmodels as Stats\n",
    "from ipywidgets import widgets, interact"
   ]
  },
  {
   "cell_type": "markdown",
   "metadata": {
    "extensions": {
     "jupyter_dashboards": {
      "version": 1,
      "views": {
       "grid_default": {
        "col": 0,
        "height": 4,
        "hidden": false,
        "row": 122,
        "width": 12
       },
       "report_default": {
        "hidden": false
       }
      }
     }
    }
   },
   "source": [
    "### Ipython Widgets\n",
    "\n",
    "Ipython widgets provide a way to introduce interactivity into notebooks. The widgets are implemented with HTML (structure), CSS (styling), and JavaScript (action) and encapsulate specific UI functionalities."
   ]
  },
  {
   "cell_type": "code",
   "execution_count": 4,
   "metadata": {
    "extensions": {
     "jupyter_dashboards": {
      "version": 1,
      "views": {
       "grid_default": {
        "col": 0,
        "height": 25,
        "hidden": false,
        "row": 85,
        "width": 12
       },
       "report_default": {
        "hidden": false
       }
      }
     }
    }
   },
   "outputs": [
    {
     "data": {
      "text/plain": [
       "['Jupyter.Accordion',\n",
       " 'Jupyter.BoundedFloatText',\n",
       " 'Jupyter.BoundedIntText',\n",
       " 'Jupyter.Box',\n",
       " 'Jupyter.Button',\n",
       " 'Jupyter.ButtonStyle',\n",
       " 'Jupyter.Checkbox',\n",
       " 'Jupyter.ColorPicker',\n",
       " 'Jupyter.Controller',\n",
       " 'Jupyter.ControllerAxis',\n",
       " 'Jupyter.ControllerButton',\n",
       " 'Jupyter.DatePicker',\n",
       " 'Jupyter.Dropdown',\n",
       " 'Jupyter.FloatProgress',\n",
       " 'Jupyter.FloatRangeSlider',\n",
       " 'Jupyter.FloatSlider',\n",
       " 'Jupyter.FloatText',\n",
       " 'Jupyter.HBox',\n",
       " 'Jupyter.HTML',\n",
       " 'Jupyter.HTMLMath',\n",
       " 'Jupyter.Image',\n",
       " 'Jupyter.IntProgress',\n",
       " 'Jupyter.IntRangeSlider',\n",
       " 'Jupyter.IntSlider',\n",
       " 'Jupyter.IntText',\n",
       " 'Jupyter.Label',\n",
       " 'Jupyter.Play',\n",
       " 'Jupyter.ProgressStyle',\n",
       " 'Jupyter.RadioButtons',\n",
       " 'Jupyter.Select',\n",
       " 'Jupyter.SelectMultiple',\n",
       " 'Jupyter.SelectionSlider',\n",
       " 'Jupyter.SliderStyle',\n",
       " 'Jupyter.Tab',\n",
       " 'Jupyter.Text',\n",
       " 'Jupyter.Textarea',\n",
       " 'Jupyter.ToggleButton',\n",
       " 'Jupyter.ToggleButtons',\n",
       " 'Jupyter.VBox',\n",
       " 'Jupyter.Valid',\n",
       " 'jupyter.DirectionalLink',\n",
       " 'jupyter.Link']"
      ]
     },
     "execution_count": 4,
     "metadata": {},
     "output_type": "execute_result"
    }
   ],
   "source": [
    "sorted(widgets.Widget.widget_types)"
   ]
  },
  {
   "cell_type": "markdown",
   "metadata": {},
   "source": [
    "We can think of certain widgets as being amenable to certain types of manipulation of a data model. For example:\n",
    "\n",
    "* **Button** and **Radio Button** widgets can be used to toggle a visualization feature, such as an optional regression line on a scatter plot\n",
    "* **Slider** and **Ranged Slider** widgets can be used to filter values or date ranges\n",
    "* **Toggle** and **Dropdown** widgets can be used to select specific data columns or datasets. \n",
    "* **Image** and **HTML** widgets can be used to build out user interfaces\n",
    "\n",
    "There are also specialized widgets, such as color pickers and date pickers, which can offer a user more granular control of how a visualization is rendered and data is selected. "
   ]
  },
  {
   "cell_type": "markdown",
   "metadata": {
    "extensions": {
     "jupyter_dashboards": {
      "version": 1,
      "views": {
       "grid_default": {
        "col": 0,
        "height": 4,
        "hidden": false,
        "row": 32,
        "width": 12
       },
       "report_default": {
        "hidden": false
       }
      }
     }
    }
   },
   "source": [
    "#### Some Basic Widgets\n",
    "\n",
    "##### <span style=\"color: gray\">The Button Widget</span>\n",
    "\n",
    "Each widget takes a set of initialization arguments that vary by widget type – ([see documentation for each widget here](https://ipywidgets.readthedocs.io/en/stable/examples/Widget%20List.html)). The most basic example is perhaps a simple button element:"
   ]
  },
  {
   "cell_type": "code",
   "execution_count": 5,
   "metadata": {
    "extensions": {
     "jupyter_dashboards": {
      "version": 1,
      "views": {
       "grid_default": {
        "col": 0,
        "height": 4,
        "hidden": false,
        "row": 69,
        "width": 12
       },
       "report_default": {
        "hidden": false
       }
      }
     }
    }
   },
   "outputs": [
    {
     "data": {
      "application/vnd.jupyter.widget-view+json": {
       "model_id": "a748cdfde89640fcaaa4abcc105ebcf5"
      }
     },
     "metadata": {},
     "output_type": "display_data"
    }
   ],
   "source": [
    "button = widgets.Button(\n",
    "    description = \"I'm a Button! Click me!\"\n",
    ")\n",
    "button"
   ]
  },
  {
   "cell_type": "markdown",
   "metadata": {
    "extensions": {
     "jupyter_dashboards": {
      "version": 1,
      "views": {
       "grid_default": {
        "col": 0,
        "height": 4,
        "hidden": false,
        "row": 73,
        "width": 12
       },
       "report_default": {
        "hidden": false
       }
      }
     }
    }
   },
   "source": [
    "Looks great, but what does it do? Nothing. Let's fix that:"
   ]
  },
  {
   "cell_type": "code",
   "execution_count": 6,
   "metadata": {
    "extensions": {
     "jupyter_dashboards": {
      "version": 1,
      "views": {
       "grid_default": {
        "col": 0,
        "height": 4,
        "hidden": false,
        "row": 77,
        "width": 12
       },
       "report_default": {
        "hidden": false
       }
      }
     }
    }
   },
   "outputs": [
    {
     "data": {
      "application/vnd.jupyter.widget-view+json": {
       "model_id": "a748cdfde89640fcaaa4abcc105ebcf5"
      }
     },
     "metadata": {},
     "output_type": "display_data"
    }
   ],
   "source": [
    "# Define a Function for The Button to Trigger\n",
    "def makeAnAnimalSound (element):\n",
    "    import random\n",
    "    sounds = [\"moo\", \"squawk\", \"cacaw\", \"woof\", \"oink\", \"rawr\", \"meow\", \"bark\"]\n",
    "    print(\"%s\\t\" % random.sample(sounds, 1)[0], element)\n",
    "\n",
    "button.on_click(makeAnAnimalSound)\n",
    "button"
   ]
  },
  {
   "cell_type": "markdown",
   "metadata": {},
   "source": [
    "This is a special case of binding a function to a widget – the button widget has a method `on_click()` that allows for a function to be triggered when it is clicked. \n",
    "\n",
    "##### <span style=\"color: gray\">The Toggle Button Widget</span>\n",
    "\n",
    "If you need to both set and unset a variable, you can use the toggle button widget."
   ]
  },
  {
   "cell_type": "code",
   "execution_count": 7,
   "metadata": {},
   "outputs": [
    {
     "data": {
      "application/vnd.jupyter.widget-view+json": {
       "model_id": "94e24c4cf70e4814a515d9ab0e31c0ff"
      }
     },
     "metadata": {},
     "output_type": "display_data"
    }
   ],
   "source": [
    "button = widgets.ToggleButton(\n",
    "    value=False,\n",
    "    description=\"Activate!\",\n",
    "    button_style='info' # 'success', 'info', 'warning', 'danger' or ''\n",
    ")\n",
    "button"
   ]
  },
  {
   "cell_type": "markdown",
   "metadata": {},
   "source": [
    "##### <span style=\"color: gray\">The Checkbox Widget</span>\n",
    "\n",
    "Basically just another `ToggleButton` widget. "
   ]
  },
  {
   "cell_type": "code",
   "execution_count": 8,
   "metadata": {},
   "outputs": [
    {
     "data": {
      "application/vnd.jupyter.widget-view+json": {
       "model_id": "9c19c42232064616b00f972c22a165c5"
      }
     },
     "metadata": {},
     "output_type": "display_data"
    }
   ],
   "source": [
    "widgets.Checkbox(\n",
    "    value=False,\n",
    "    description='Please don\\'t check me'\n",
    ")"
   ]
  },
  {
   "cell_type": "markdown",
   "metadata": {
    "extensions": {
     "jupyter_dashboards": {
      "version": 1,
      "views": {
       "grid_default": {
        "col": 0,
        "height": 4,
        "hidden": false,
        "row": 61,
        "width": 12
       },
       "report_default": {
        "hidden": false
       }
      }
     }
    }
   },
   "source": [
    "#### Widgets To Filter\n",
    "\n",
    "You can use sliders to filter both integer, float, or categorical data types. Below is an example of an integer slider.\n",
    "\n",
    "##### <span style=\"color: gray\">The Integer Slider Widget</span>"
   ]
  },
  {
   "cell_type": "code",
   "execution_count": 9,
   "metadata": {
    "extensions": {
     "jupyter_dashboards": {
      "version": 1,
      "views": {
       "grid_default": {
        "col": 4,
        "height": 4,
        "hidden": false,
        "row": 57,
        "width": 4
       },
       "report_default": {
        "hidden": false
       }
      }
     }
    }
   },
   "outputs": [
    {
     "data": {
      "application/vnd.jupyter.widget-view+json": {
       "model_id": "977e9098bea545de804ef27a1d55987b"
      }
     },
     "metadata": {},
     "output_type": "display_data"
    }
   ],
   "source": [
    "slider = widgets.IntSlider(\n",
    "    value = 0,\n",
    "    min = -10,\n",
    "    max = 10,\n",
    "    step = 1,\n",
    "    description = \"Do you like octopi?\",\n",
    "    disabled = False,\n",
    "    continuous_update = True,\n",
    "    orientation = \"horizontal\",\n",
    "    readout = True,\n",
    "    readout_format = 'i'\n",
    ")\n",
    "slider"
   ]
  },
  {
   "cell_type": "markdown",
   "metadata": {
    "extensions": {
     "jupyter_dashboards": {
      "version": 1,
      "views": {
       "grid_default": {
        "col": 8,
        "height": 4,
        "hidden": false,
        "row": 57,
        "width": 4
       },
       "report_default": {
        "hidden": false
       }
      }
     }
    }
   },
   "source": [
    "##### <span style=\"color: gray\">The Range Slider Widget</span>\n",
    "Both integer and float variants of the range slider are available."
   ]
  },
  {
   "cell_type": "code",
   "execution_count": 10,
   "metadata": {
    "extensions": {
     "jupyter_dashboards": {
      "version": 1,
      "views": {
       "grid_default": {
        "col": 0,
        "height": 4,
        "hidden": false,
        "row": 81,
        "width": 12
       },
       "report_default": {
        "hidden": false
       }
      }
     }
    }
   },
   "outputs": [
    {
     "data": {
      "application/vnd.jupyter.widget-view+json": {
       "model_id": "b65061b6159f4a1bbccb17d84d7199d0"
      }
     },
     "metadata": {},
     "output_type": "display_data"
    }
   ],
   "source": [
    "slider = widgets.FloatRangeSlider(\n",
    "    value=[5, 7.5],\n",
    "    min=0,\n",
    "    max=10.0,\n",
    "    step=0.1,\n",
    "    description='How Big is The Fish?',\n",
    "    disabled=False,\n",
    "    continuous_update=False,\n",
    "    orientation='horizontal',\n",
    "    readout=True,\n",
    "    readout_format='i',\n",
    "    slider_color='white',\n",
    "    color='black'\n",
    ")\n",
    "slider"
   ]
  },
  {
   "cell_type": "markdown",
   "metadata": {},
   "source": [
    "#### Widgets To Select\n",
    "\n",
    "##### <span style=\"color: gray\">The Dropdown Widget</span>\n",
    "The classic dropdown."
   ]
  },
  {
   "cell_type": "code",
   "execution_count": 11,
   "metadata": {},
   "outputs": [
    {
     "data": {
      "application/vnd.jupyter.widget-view+json": {
       "model_id": "34050c69ef21432182055ed658179660"
      }
     },
     "metadata": {},
     "output_type": "display_data"
    }
   ],
   "source": [
    "widgets.Dropdown(\n",
    "    options={'Rock': 1, 'Indie': 2, 'Hip Hop': 3, 'Rap': 4, 'Folk': 5, 'Country': 6, 'Bluegrass': 7, 'Classical': 8, 'Silence': 9},\n",
    "    value=1,\n",
    "    description=\"I'd Rather Listen To:\",\n",
    ")"
   ]
  },
  {
   "cell_type": "markdown",
   "metadata": {},
   "source": [
    "##### <span style=\"color: gray\">The Multi Select Widget</span>\n",
    "For when you would like to allow the selection of combinations."
   ]
  },
  {
   "cell_type": "code",
   "execution_count": 12,
   "metadata": {},
   "outputs": [
    {
     "data": {
      "application/vnd.jupyter.widget-view+json": {
       "model_id": "7cdd4d92343f40d7a9baf43471109fe9"
      }
     },
     "metadata": {},
     "output_type": "display_data"
    }
   ],
   "source": [
    "widgets.SelectMultiple(\n",
    "    options=['Breakfast', 'Second Breakfast', 'Brunch', 'Lunch', 'Dinner', 'Second Dinner', 'Dessert All Day'],\n",
    "    value=['Breakfast', 'Brunch', 'Lunch', 'Dinner', 'Second Dinner'],\n",
    "    description='I Will Have...'\n",
    ")"
   ]
  },
  {
   "cell_type": "markdown",
   "metadata": {},
   "source": [
    "##### <span style=\"color: gray\">The Tabs Widget</span>"
   ]
  },
  {
   "cell_type": "code",
   "execution_count": 13,
   "metadata": {},
   "outputs": [
    {
     "data": {
      "application/vnd.jupyter.widget-view+json": {
       "model_id": "c7dfb22a0adc4fefb66d1b7b08a5f0a2"
      }
     },
     "metadata": {},
     "output_type": "display_data"
    }
   ],
   "source": [
    "# Import OrderedDict To Ensure Alphabetical Ordering of Tabs\n",
    "from collections import OrderedDict\n",
    "labels = OrderedDict(\n",
    "    (\n",
    "        ('A', 'Alice'), \n",
    "        ('B', 'Bob'), \n",
    "        ('C', 'Charlie'),\n",
    "        ('D', 'Diane')\n",
    "    )\n",
    ")\n",
    "\n",
    "tab = widgets.Tab()\n",
    "\n",
    "# Set Names to Labels\n",
    "tab.children = [widgets.Label(value) for key, value in labels.items()]\n",
    "for i, key in enumerate(labels.keys()):\n",
    "    tab.set_title(i, key)\n",
    "tab"
   ]
  },
  {
   "cell_type": "markdown",
   "metadata": {
    "extensions": {
     "jupyter_dashboards": {
      "version": 1,
      "views": {
       "grid_default": {
        "col": 0,
        "height": 4,
        "hidden": false,
        "row": 126,
        "width": 12
       },
       "report_default": {
        "hidden": false
       }
      }
     }
    }
   },
   "source": [
    "##### <span style=\"color: gray\">The Toggle Buttons Widget</span>"
   ]
  },
  {
   "cell_type": "code",
   "execution_count": 14,
   "metadata": {
    "extensions": {
     "jupyter_dashboards": {
      "version": 1,
      "views": {
       "grid_default": {
        "col": 0,
        "height": 4,
        "hidden": false,
        "row": 130,
        "width": 12
       },
       "report_default": {
        "hidden": false
       }
      }
     }
    }
   },
   "outputs": [
    {
     "data": {
      "application/vnd.jupyter.widget-view+json": {
       "model_id": "22062c9611f14a64b29836d224952394"
      }
     },
     "metadata": {},
     "output_type": "display_data"
    }
   ],
   "source": [
    "toggle = widgets.ToggleButtons(\n",
    "    options = [\"bpm\", \"bmi\", \"systolic\", \"diastolic\"],\n",
    "    description = 'Filter:',\n",
    "    disabled = False,\n",
    "    button_style='info', # 'success', 'info', 'warning', 'danger' or ''\n",
    "    tooltip='Description',\n",
    "    icon='check'\n",
    ")\n",
    "toggle"
   ]
  },
  {
   "cell_type": "markdown",
   "metadata": {
    "extensions": {
     "jupyter_dashboards": {
      "version": 1,
      "views": {
       "grid_default": {
        "col": 0,
        "height": 4,
        "hidden": false,
        "row": 36,
        "width": 12
       },
       "report_default": {
        "hidden": false
       }
      }
     }
    }
   },
   "source": [
    "#### Creating Interactivity\n",
    "\n",
    "Widget interactivity is powered by JavaScript's [event loop architecture](https://developer.mozilla.org/en-US/docs/Web/JavaScript/EventLoop). Certain widgets have specialized event methods (e.g. `Buttons` have the `on_click` method, as seen above), however, for slider and toggle widgets, we can use the `observe` method to bind a specific action to interactions with the widget."
   ]
  },
  {
   "cell_type": "code",
   "execution_count": 15,
   "metadata": {
    "extensions": {
     "jupyter_dashboards": {
      "version": 1,
      "views": {
       "grid_default": {
        "col": 0,
        "height": 4,
        "hidden": false,
        "row": 134,
        "width": 12
       },
       "report_default": {
        "hidden": false
       }
      }
     }
    }
   },
   "outputs": [
    {
     "name": "stdout",
     "output_type": "stream",
     "text": [
      "Event Type\tNew Value\n"
     ]
    },
    {
     "data": {
      "application/vnd.jupyter.widget-view+json": {
       "model_id": "22062c9611f14a64b29836d224952394"
      }
     },
     "metadata": {},
     "output_type": "display_data"
    }
   ],
   "source": [
    "def callback (event):\n",
    "    if \"value\" in event[\"new\"]:\n",
    "        print(\"%s\\t\\t%s\" % (event[\"type\"], event[\"new\"][\"value\"]))\n",
    "        \n",
    "toggle.observe(callback)\n",
    "print(\"Event Type\\tNew Value\")\n",
    "toggle"
   ]
  },
  {
   "cell_type": "markdown",
   "metadata": {
    "extensions": {
     "jupyter_dashboards": {
      "version": 1,
      "views": {
       "grid_default": {
        "col": 0,
        "height": 7,
        "hidden": false,
        "row": 40,
        "width": 12
       },
       "report_default": {
        "hidden": false
       }
      }
     }
    }
   },
   "source": [
    "Above, we defined a function called `callback`, which checks for an updated filter value and prints it if it exists (along with the `change` event that triggered it). We then hand in this 'callback function' as a parameter to the `observe` method, binding interactions with the `ToggleButtons widget` to `callbacks` functionality. This architecture is not common in Python, but is the bread and butter of event-based programming in JavaScript (and many other asynchronous languages). To see more about events, see their [documentation](https://ipywidgets.readthedocs.io/en/stable/examples/Widget%20Events.html).\n",
    "\n",
    "#### Simplifying Interactivity\n",
    "Often times, we're only concerned with the specific value of the interaction. In those cases, we can simplify the above using the `interact` method, which allows us to work with the widget data directly (rather than extracting it from the `event` dictionary, which was passed as a parameter to the `callback` method we defined above). "
   ]
  },
  {
   "cell_type": "code",
   "execution_count": 16,
   "metadata": {
    "extensions": {
     "jupyter_dashboards": {
      "version": 1,
      "views": {
       "grid_default": {
        "col": 0,
        "height": 5,
        "hidden": false,
        "row": 138,
        "width": 12
       },
       "report_default": {
        "hidden": false
       }
      }
     }
    }
   },
   "outputs": [
    {
     "data": {
      "application/vnd.jupyter.widget-view+json": {
       "model_id": "ff38fa87a1ef49079ecc4705faecf400"
      }
     },
     "metadata": {},
     "output_type": "display_data"
    }
   ],
   "source": [
    "toggle = interact(lambda x: x, x = widgets.ToggleButtons(\n",
    "    options = [\"bpm\", \"bmi\", \"systolic\", \"diastolic\"],\n",
    "    description = 'Filter:',\n",
    "    disabled = False,\n",
    "    button_style='info', # 'success', 'info', 'warning', 'danger' or ''\n",
    "    tooltip='Description',\n",
    "    icon='check'\n",
    "))"
   ]
  },
  {
   "cell_type": "markdown",
   "metadata": {
    "extensions": {
     "jupyter_dashboards": {
      "version": 1,
      "views": {
       "grid_default": {
        "col": 0,
        "height": 4,
        "hidden": false,
        "row": 143,
        "width": 12
       },
       "report_default": {
        "hidden": false
       }
      }
     }
    }
   },
   "source": [
    "Here, we pass to the `interact` method a simple `lambda` function, which returns the value passed to it, and bind this to our familiar `ToggleButtons` widget. Of course we could customize the `lambda` function to, say, reverse and capitalize the string value:"
   ]
  },
  {
   "cell_type": "code",
   "execution_count": 17,
   "metadata": {
    "extensions": {
     "jupyter_dashboards": {
      "version": 1,
      "views": {
       "grid_default": {
        "hidden": true
       },
       "report_default": {
        "hidden": true
       }
      }
     }
    }
   },
   "outputs": [
    {
     "data": {
      "application/vnd.jupyter.widget-view+json": {
       "model_id": "2e075e2fa3cd42368cb3ab73f6d0bb56"
      }
     },
     "metadata": {},
     "output_type": "display_data"
    }
   ],
   "source": [
    "# An Inline Function To Print A Reversed & Capitalized String\n",
    "reverseAndCapitalize = lambda x: \"%s >>> %s\" % (x, x[::-1].upper())\n",
    "\n",
    "toggle = interact(reverseAndCapitalize, x = widgets.ToggleButtons(\n",
    "    options = [\"bpm\", \"bmi\", \"systolic\", \"diastolic\"],\n",
    "    description = 'Filter:',\n",
    "    disabled = False,\n",
    "    button_style='info', # 'success', 'info', 'warning', 'danger' or ''\n",
    "    tooltip='Description',\n",
    "    icon='check'\n",
    "))"
   ]
  },
  {
   "cell_type": "markdown",
   "metadata": {
    "extensions": {
     "jupyter_dashboards": {
      "version": 1,
      "views": {
       "grid_default": {
        "col": 0,
        "height": 4,
        "hidden": false,
        "row": 47,
        "width": 12
       },
       "report_default": {
        "hidden": false
       }
      }
     }
    }
   },
   "source": [
    "#### Custom Widgets\n",
    "\n",
    "If you find that none of the above widgets suit your needs, the `ipywidgets` API also enables the development of [custom widgets](https://ipywidgets.readthedocs.io/en/stable/examples/Widget%20Custom.html). Before embarking down this road, its worthwhile to build an understanding of how `ipywidgets` work as it is a bit more involved – here's an [excellent tutorial](https://ipywidgets.readthedocs.io/en/stable/examples/Widget%20Low%20Level.html) that focuses on just that. "
   ]
  },
  {
   "cell_type": "markdown",
   "metadata": {
    "extensions": {
     "jupyter_dashboards": {
      "version": 1,
      "views": {
       "grid_default": {
        "col": 0,
        "height": 4,
        "hidden": true,
        "row": 0,
        "width": 12
       },
       "report_default": {
        "hidden": false
       }
      }
     }
    }
   },
   "source": [
    "### Motivational Example: Malignant Versus Benign"
   ]
  },
  {
   "cell_type": "markdown",
   "metadata": {
    "extensions": {
     "jupyter_dashboards": {
      "version": 1,
      "views": {
       "grid_default": {
        "col": 0,
        "height": 10,
        "hidden": false,
        "row": 13,
        "width": 12
       },
       "report_default": {
        "hidden": false
       }
      }
     }
    }
   },
   "source": [
    "Widgets enable us to build UI that allow for the interactive exploration of data sets and their visualization. To illustrate this, we'll use a dataset with 30 (continuous) breast cancer imaging features and a (categorical) dependent variable of `diagnosis` with two factor levels (malignant or benign).\n",
    "\n",
    "The original data along with descriptions of each feature can be found on the <a href=\"https://archive.ics.uci.edu/ml/datasets/Breast+Cancer+Wisconsin+(Diagnostic)\" target=\"_blank\">UCI Machine Learning Repository</a> website. \n",
    "\n",
    "#### Load Data into Pandas"
   ]
  },
  {
   "cell_type": "code",
   "execution_count": 18,
   "metadata": {
    "collapsed": true,
    "extensions": {
     "jupyter_dashboards": {
      "version": 1,
      "views": {
       "grid_default": {
        "col": 0,
        "height": 9,
        "hidden": false,
        "row": 23,
        "width": 12
       },
       "report_default": {
        "hidden": false
       }
      }
     }
    }
   },
   "outputs": [],
   "source": [
    "# Read in Data & See Head\n",
    "data = Pandas.read_csv(\"data/data.csv\").drop([\"id\", \"Unnamed: 32\"], axis = 1)\n",
    "data.head()\n",
    "\n",
    "# Lets Make Our Visualization Look Like ggplot\n",
    "Plot.style.use('ggplot')"
   ]
  },
  {
   "cell_type": "markdown",
   "metadata": {
    "extensions": {
     "jupyter_dashboards": {
      "version": 1,
      "views": {
       "grid_default": {
        "col": 0,
        "height": 6,
        "hidden": false,
        "row": 51,
        "width": 12
       },
       "report_default": {
        "hidden": false
       }
      }
     }
    }
   },
   "source": [
    "#### Initializing & Re-Rendering a Visualization\n",
    "\n",
    "To generate interactive data visualizations with Matplotlib, we can look at the visualization component as having two basic pieces: \n",
    "* Initialization – Where we setup the basics of the plot and `show` it. \n",
    "* Updating – Where we update the data and any associated axes, legends, labels, etc. \n",
    "\n",
    "Below is an example of a very basic initialization method."
   ]
  },
  {
   "cell_type": "code",
   "execution_count": 19,
   "metadata": {
    "collapsed": true,
    "extensions": {
     "jupyter_dashboards": {
      "version": 1,
      "views": {
       "grid_default": {
        "col": 0,
        "height": 4,
        "hidden": false,
        "row": 147,
        "width": 12
       },
       "report_default": {
        "hidden": true
       }
      }
     }
    }
   },
   "outputs": [],
   "source": [
    "def initPlot (groups, dependent, independent):\n",
    "    \"\"\"\n",
    "    Method to initialize a plot, returns fig & axis, Returns Figure & Axis Objects.\n",
    "    \"\"\"\n",
    "    # Structure Data for Matplotlib\n",
    "    keys, structuredData = [], []\n",
    "    for key, group in groups:\n",
    "        keys.append(key)\n",
    "        structuredData.append(group[independent])\n",
    "    # Setup Plot Figure & Axis\n",
    "    fig = Plot.figure(figsize = (8, 6))\n",
    "    axis = fig.add_subplot(111)\n",
    "    # Set Labels\n",
    "    axis.set_xlabel(dependent)\n",
    "    axis.set_ylabel(independent) \n",
    "    # Set X Axis Ticks\n",
    "    axis.set_xticks([1, 2])\n",
    "    axis.set_xticklabels(keys)\n",
    "    # Generate Violin Plot\n",
    "    axis.violinplot(structuredData)\n",
    "    Plot.show(fig)\n",
    "    return fig, axis"
   ]
  },
  {
   "cell_type": "markdown",
   "metadata": {
    "extensions": {
     "jupyter_dashboards": {
      "version": 1,
      "views": {
       "grid_default": {
        "col": 0,
        "height": 4,
        "hidden": false,
        "row": 151,
        "width": 12
       },
       "report_default": {
        "hidden": false
       }
      }
     }
    }
   },
   "source": [
    "And the update function, notice the call to `Plot.cla()`, which clears the `axis` object and avoids plots rendering on top of eachother. "
   ]
  },
  {
   "cell_type": "code",
   "execution_count": 20,
   "metadata": {
    "collapsed": true,
    "extensions": {
     "jupyter_dashboards": {
      "version": 1,
      "views": {
       "grid_default": {
        "col": 0,
        "height": 4,
        "hidden": false,
        "row": 155,
        "width": 12
       },
       "report_default": {
        "hidden": true
       }
      }
     }
    }
   },
   "outputs": [],
   "source": [
    "def updatePlot (groups, dependent, independent, fig, axis):\n",
    "    \"\"\"\n",
    "    Method to Render a Plot with a Pandas DataFrame, No Return Value.\n",
    "    \"\"\"\n",
    "    # Important – Clear Plot Axis\n",
    "    Plot.cla()\n",
    "    # Structure Data for Matplotlib\n",
    "    keys, structuredData = [], []\n",
    "    for key, group in groups:\n",
    "        keys.append(key)\n",
    "        structuredData.append(group[independent])\n",
    "    # Update Labels\n",
    "    axis.set_xlabel(dependent)\n",
    "    axis.set_ylabel(independent) \n",
    "    # Update X Axis Ticks\n",
    "    axis.set_xticks([1, 2])\n",
    "    axis.set_xticklabels(keys)\n",
    "    # Update Title\n",
    "    Plot.title(\"Distribution of %s by %s\" % (independent, dependent))\n",
    "    # Generate Violin Plot\n",
    "    axis.violinplot(structuredData, showmeans = True)"
   ]
  },
  {
   "cell_type": "markdown",
   "metadata": {
    "extensions": {
     "jupyter_dashboards": {
      "version": 1,
      "views": {
       "grid_default": {
        "col": 0,
        "height": 4,
        "hidden": false,
        "row": 65,
        "width": 12
       },
       "report_default": {
        "hidden": false
       }
      }
     }
    }
   },
   "source": [
    "#### Bringing It All Together\n",
    "\n",
    "You may have noticed earlier that we imported a library called `mpld3`. Before rendering the interactive plot, we'll initialize this library to enable [D3.js](https://d3js.org) to handle the rendering of the plot. One of the benefits of doing so is that the plot generated by `mpld3` will be sharper than a standard `matplotlib` plot. This is because D3 by default renders the plot in scalable vector graphics (SVG, an XML-based format) rather than painting each pixel (i.e. rasterization, like a photo). "
   ]
  },
  {
   "cell_type": "code",
   "execution_count": 22,
   "metadata": {
    "extensions": {
     "jupyter_dashboards": {
      "version": 1,
      "views": {
       "grid_default": {
        "col": 0,
        "height": 13,
        "hidden": false,
        "row": 0,
        "width": 11
       },
       "report_default": {
        "hidden": false
       }
      }
     }
    }
   },
   "outputs": [
    {
     "data": {
      "application/javascript": [
       "/* Put everything inside the global mpl namespace */\n",
       "window.mpl = {};\n",
       "\n",
       "\n",
       "mpl.get_websocket_type = function() {\n",
       "    if (typeof(WebSocket) !== 'undefined') {\n",
       "        return WebSocket;\n",
       "    } else if (typeof(MozWebSocket) !== 'undefined') {\n",
       "        return MozWebSocket;\n",
       "    } else {\n",
       "        alert('Your browser does not have WebSocket support.' +\n",
       "              'Please try Chrome, Safari or Firefox ≥ 6. ' +\n",
       "              'Firefox 4 and 5 are also supported but you ' +\n",
       "              'have to enable WebSockets in about:config.');\n",
       "    };\n",
       "}\n",
       "\n",
       "mpl.figure = function(figure_id, websocket, ondownload, parent_element) {\n",
       "    this.id = figure_id;\n",
       "\n",
       "    this.ws = websocket;\n",
       "\n",
       "    this.supports_binary = (this.ws.binaryType != undefined);\n",
       "\n",
       "    if (!this.supports_binary) {\n",
       "        var warnings = document.getElementById(\"mpl-warnings\");\n",
       "        if (warnings) {\n",
       "            warnings.style.display = 'block';\n",
       "            warnings.textContent = (\n",
       "                \"This browser does not support binary websocket messages. \" +\n",
       "                    \"Performance may be slow.\");\n",
       "        }\n",
       "    }\n",
       "\n",
       "    this.imageObj = new Image();\n",
       "\n",
       "    this.context = undefined;\n",
       "    this.message = undefined;\n",
       "    this.canvas = undefined;\n",
       "    this.rubberband_canvas = undefined;\n",
       "    this.rubberband_context = undefined;\n",
       "    this.format_dropdown = undefined;\n",
       "\n",
       "    this.image_mode = 'full';\n",
       "\n",
       "    this.root = $('<div/>');\n",
       "    this._root_extra_style(this.root)\n",
       "    this.root.attr('style', 'display: inline-block');\n",
       "\n",
       "    $(parent_element).append(this.root);\n",
       "\n",
       "    this._init_header(this);\n",
       "    this._init_canvas(this);\n",
       "    this._init_toolbar(this);\n",
       "\n",
       "    var fig = this;\n",
       "\n",
       "    this.waiting = false;\n",
       "\n",
       "    this.ws.onopen =  function () {\n",
       "            fig.send_message(\"supports_binary\", {value: fig.supports_binary});\n",
       "            fig.send_message(\"send_image_mode\", {});\n",
       "            if (mpl.ratio != 1) {\n",
       "                fig.send_message(\"set_dpi_ratio\", {'dpi_ratio': mpl.ratio});\n",
       "            }\n",
       "            fig.send_message(\"refresh\", {});\n",
       "        }\n",
       "\n",
       "    this.imageObj.onload = function() {\n",
       "            if (fig.image_mode == 'full') {\n",
       "                // Full images could contain transparency (where diff images\n",
       "                // almost always do), so we need to clear the canvas so that\n",
       "                // there is no ghosting.\n",
       "                fig.context.clearRect(0, 0, fig.canvas.width, fig.canvas.height);\n",
       "            }\n",
       "            fig.context.drawImage(fig.imageObj, 0, 0);\n",
       "        };\n",
       "\n",
       "    this.imageObj.onunload = function() {\n",
       "        this.ws.close();\n",
       "    }\n",
       "\n",
       "    this.ws.onmessage = this._make_on_message_function(this);\n",
       "\n",
       "    this.ondownload = ondownload;\n",
       "}\n",
       "\n",
       "mpl.figure.prototype._init_header = function() {\n",
       "    var titlebar = $(\n",
       "        '<div class=\"ui-dialog-titlebar ui-widget-header ui-corner-all ' +\n",
       "        'ui-helper-clearfix\"/>');\n",
       "    var titletext = $(\n",
       "        '<div class=\"ui-dialog-title\" style=\"width: 100%; ' +\n",
       "        'text-align: center; padding: 3px;\"/>');\n",
       "    titlebar.append(titletext)\n",
       "    this.root.append(titlebar);\n",
       "    this.header = titletext[0];\n",
       "}\n",
       "\n",
       "\n",
       "\n",
       "mpl.figure.prototype._canvas_extra_style = function(canvas_div) {\n",
       "\n",
       "}\n",
       "\n",
       "\n",
       "mpl.figure.prototype._root_extra_style = function(canvas_div) {\n",
       "\n",
       "}\n",
       "\n",
       "mpl.figure.prototype._init_canvas = function() {\n",
       "    var fig = this;\n",
       "\n",
       "    var canvas_div = $('<div/>');\n",
       "\n",
       "    canvas_div.attr('style', 'position: relative; clear: both; outline: 0');\n",
       "\n",
       "    function canvas_keyboard_event(event) {\n",
       "        return fig.key_event(event, event['data']);\n",
       "    }\n",
       "\n",
       "    canvas_div.keydown('key_press', canvas_keyboard_event);\n",
       "    canvas_div.keyup('key_release', canvas_keyboard_event);\n",
       "    this.canvas_div = canvas_div\n",
       "    this._canvas_extra_style(canvas_div)\n",
       "    this.root.append(canvas_div);\n",
       "\n",
       "    var canvas = $('<canvas/>');\n",
       "    canvas.addClass('mpl-canvas');\n",
       "    canvas.attr('style', \"left: 0; top: 0; z-index: 0; outline: 0\")\n",
       "\n",
       "    this.canvas = canvas[0];\n",
       "    this.context = canvas[0].getContext(\"2d\");\n",
       "\n",
       "    var backingStore = this.context.backingStorePixelRatio ||\n",
       "\tthis.context.webkitBackingStorePixelRatio ||\n",
       "\tthis.context.mozBackingStorePixelRatio ||\n",
       "\tthis.context.msBackingStorePixelRatio ||\n",
       "\tthis.context.oBackingStorePixelRatio ||\n",
       "\tthis.context.backingStorePixelRatio || 1;\n",
       "\n",
       "    mpl.ratio = (window.devicePixelRatio || 1) / backingStore;\n",
       "\n",
       "    var rubberband = $('<canvas/>');\n",
       "    rubberband.attr('style', \"position: absolute; left: 0; top: 0; z-index: 1;\")\n",
       "\n",
       "    var pass_mouse_events = true;\n",
       "\n",
       "    canvas_div.resizable({\n",
       "        start: function(event, ui) {\n",
       "            pass_mouse_events = false;\n",
       "        },\n",
       "        resize: function(event, ui) {\n",
       "            fig.request_resize(ui.size.width, ui.size.height);\n",
       "        },\n",
       "        stop: function(event, ui) {\n",
       "            pass_mouse_events = true;\n",
       "            fig.request_resize(ui.size.width, ui.size.height);\n",
       "        },\n",
       "    });\n",
       "\n",
       "    function mouse_event_fn(event) {\n",
       "        if (pass_mouse_events)\n",
       "            return fig.mouse_event(event, event['data']);\n",
       "    }\n",
       "\n",
       "    rubberband.mousedown('button_press', mouse_event_fn);\n",
       "    rubberband.mouseup('button_release', mouse_event_fn);\n",
       "    // Throttle sequential mouse events to 1 every 20ms.\n",
       "    rubberband.mousemove('motion_notify', mouse_event_fn);\n",
       "\n",
       "    rubberband.mouseenter('figure_enter', mouse_event_fn);\n",
       "    rubberband.mouseleave('figure_leave', mouse_event_fn);\n",
       "\n",
       "    canvas_div.on(\"wheel\", function (event) {\n",
       "        event = event.originalEvent;\n",
       "        event['data'] = 'scroll'\n",
       "        if (event.deltaY < 0) {\n",
       "            event.step = 1;\n",
       "        } else {\n",
       "            event.step = -1;\n",
       "        }\n",
       "        mouse_event_fn(event);\n",
       "    });\n",
       "\n",
       "    canvas_div.append(canvas);\n",
       "    canvas_div.append(rubberband);\n",
       "\n",
       "    this.rubberband = rubberband;\n",
       "    this.rubberband_canvas = rubberband[0];\n",
       "    this.rubberband_context = rubberband[0].getContext(\"2d\");\n",
       "    this.rubberband_context.strokeStyle = \"#000000\";\n",
       "\n",
       "    this._resize_canvas = function(width, height) {\n",
       "        // Keep the size of the canvas, canvas container, and rubber band\n",
       "        // canvas in synch.\n",
       "        canvas_div.css('width', width)\n",
       "        canvas_div.css('height', height)\n",
       "\n",
       "        canvas.attr('width', width * mpl.ratio);\n",
       "        canvas.attr('height', height * mpl.ratio);\n",
       "        canvas.attr('style', 'width: ' + width + 'px; height: ' + height + 'px;');\n",
       "\n",
       "        rubberband.attr('width', width);\n",
       "        rubberband.attr('height', height);\n",
       "    }\n",
       "\n",
       "    // Set the figure to an initial 600x600px, this will subsequently be updated\n",
       "    // upon first draw.\n",
       "    this._resize_canvas(600, 600);\n",
       "\n",
       "    // Disable right mouse context menu.\n",
       "    $(this.rubberband_canvas).bind(\"contextmenu\",function(e){\n",
       "        return false;\n",
       "    });\n",
       "\n",
       "    function set_focus () {\n",
       "        canvas.focus();\n",
       "        canvas_div.focus();\n",
       "    }\n",
       "\n",
       "    window.setTimeout(set_focus, 100);\n",
       "}\n",
       "\n",
       "mpl.figure.prototype._init_toolbar = function() {\n",
       "    var fig = this;\n",
       "\n",
       "    var nav_element = $('<div/>')\n",
       "    nav_element.attr('style', 'width: 100%');\n",
       "    this.root.append(nav_element);\n",
       "\n",
       "    // Define a callback function for later on.\n",
       "    function toolbar_event(event) {\n",
       "        return fig.toolbar_button_onclick(event['data']);\n",
       "    }\n",
       "    function toolbar_mouse_event(event) {\n",
       "        return fig.toolbar_button_onmouseover(event['data']);\n",
       "    }\n",
       "\n",
       "    for(var toolbar_ind in mpl.toolbar_items) {\n",
       "        var name = mpl.toolbar_items[toolbar_ind][0];\n",
       "        var tooltip = mpl.toolbar_items[toolbar_ind][1];\n",
       "        var image = mpl.toolbar_items[toolbar_ind][2];\n",
       "        var method_name = mpl.toolbar_items[toolbar_ind][3];\n",
       "\n",
       "        if (!name) {\n",
       "            // put a spacer in here.\n",
       "            continue;\n",
       "        }\n",
       "        var button = $('<button/>');\n",
       "        button.addClass('ui-button ui-widget ui-state-default ui-corner-all ' +\n",
       "                        'ui-button-icon-only');\n",
       "        button.attr('role', 'button');\n",
       "        button.attr('aria-disabled', 'false');\n",
       "        button.click(method_name, toolbar_event);\n",
       "        button.mouseover(tooltip, toolbar_mouse_event);\n",
       "\n",
       "        var icon_img = $('<span/>');\n",
       "        icon_img.addClass('ui-button-icon-primary ui-icon');\n",
       "        icon_img.addClass(image);\n",
       "        icon_img.addClass('ui-corner-all');\n",
       "\n",
       "        var tooltip_span = $('<span/>');\n",
       "        tooltip_span.addClass('ui-button-text');\n",
       "        tooltip_span.html(tooltip);\n",
       "\n",
       "        button.append(icon_img);\n",
       "        button.append(tooltip_span);\n",
       "\n",
       "        nav_element.append(button);\n",
       "    }\n",
       "\n",
       "    var fmt_picker_span = $('<span/>');\n",
       "\n",
       "    var fmt_picker = $('<select/>');\n",
       "    fmt_picker.addClass('mpl-toolbar-option ui-widget ui-widget-content');\n",
       "    fmt_picker_span.append(fmt_picker);\n",
       "    nav_element.append(fmt_picker_span);\n",
       "    this.format_dropdown = fmt_picker[0];\n",
       "\n",
       "    for (var ind in mpl.extensions) {\n",
       "        var fmt = mpl.extensions[ind];\n",
       "        var option = $(\n",
       "            '<option/>', {selected: fmt === mpl.default_extension}).html(fmt);\n",
       "        fmt_picker.append(option)\n",
       "    }\n",
       "\n",
       "    // Add hover states to the ui-buttons\n",
       "    $( \".ui-button\" ).hover(\n",
       "        function() { $(this).addClass(\"ui-state-hover\");},\n",
       "        function() { $(this).removeClass(\"ui-state-hover\");}\n",
       "    );\n",
       "\n",
       "    var status_bar = $('<span class=\"mpl-message\"/>');\n",
       "    nav_element.append(status_bar);\n",
       "    this.message = status_bar[0];\n",
       "}\n",
       "\n",
       "mpl.figure.prototype.request_resize = function(x_pixels, y_pixels) {\n",
       "    // Request matplotlib to resize the figure. Matplotlib will then trigger a resize in the client,\n",
       "    // which will in turn request a refresh of the image.\n",
       "    this.send_message('resize', {'width': x_pixels, 'height': y_pixels});\n",
       "}\n",
       "\n",
       "mpl.figure.prototype.send_message = function(type, properties) {\n",
       "    properties['type'] = type;\n",
       "    properties['figure_id'] = this.id;\n",
       "    this.ws.send(JSON.stringify(properties));\n",
       "}\n",
       "\n",
       "mpl.figure.prototype.send_draw_message = function() {\n",
       "    if (!this.waiting) {\n",
       "        this.waiting = true;\n",
       "        this.ws.send(JSON.stringify({type: \"draw\", figure_id: this.id}));\n",
       "    }\n",
       "}\n",
       "\n",
       "\n",
       "mpl.figure.prototype.handle_save = function(fig, msg) {\n",
       "    var format_dropdown = fig.format_dropdown;\n",
       "    var format = format_dropdown.options[format_dropdown.selectedIndex].value;\n",
       "    fig.ondownload(fig, format);\n",
       "}\n",
       "\n",
       "\n",
       "mpl.figure.prototype.handle_resize = function(fig, msg) {\n",
       "    var size = msg['size'];\n",
       "    if (size[0] != fig.canvas.width || size[1] != fig.canvas.height) {\n",
       "        fig._resize_canvas(size[0], size[1]);\n",
       "        fig.send_message(\"refresh\", {});\n",
       "    };\n",
       "}\n",
       "\n",
       "mpl.figure.prototype.handle_rubberband = function(fig, msg) {\n",
       "    var x0 = msg['x0'] / mpl.ratio;\n",
       "    var y0 = (fig.canvas.height - msg['y0']) / mpl.ratio;\n",
       "    var x1 = msg['x1'] / mpl.ratio;\n",
       "    var y1 = (fig.canvas.height - msg['y1']) / mpl.ratio;\n",
       "    x0 = Math.floor(x0) + 0.5;\n",
       "    y0 = Math.floor(y0) + 0.5;\n",
       "    x1 = Math.floor(x1) + 0.5;\n",
       "    y1 = Math.floor(y1) + 0.5;\n",
       "    var min_x = Math.min(x0, x1);\n",
       "    var min_y = Math.min(y0, y1);\n",
       "    var width = Math.abs(x1 - x0);\n",
       "    var height = Math.abs(y1 - y0);\n",
       "\n",
       "    fig.rubberband_context.clearRect(\n",
       "        0, 0, fig.canvas.width, fig.canvas.height);\n",
       "\n",
       "    fig.rubberband_context.strokeRect(min_x, min_y, width, height);\n",
       "}\n",
       "\n",
       "mpl.figure.prototype.handle_figure_label = function(fig, msg) {\n",
       "    // Updates the figure title.\n",
       "    fig.header.textContent = msg['label'];\n",
       "}\n",
       "\n",
       "mpl.figure.prototype.handle_cursor = function(fig, msg) {\n",
       "    var cursor = msg['cursor'];\n",
       "    switch(cursor)\n",
       "    {\n",
       "    case 0:\n",
       "        cursor = 'pointer';\n",
       "        break;\n",
       "    case 1:\n",
       "        cursor = 'default';\n",
       "        break;\n",
       "    case 2:\n",
       "        cursor = 'crosshair';\n",
       "        break;\n",
       "    case 3:\n",
       "        cursor = 'move';\n",
       "        break;\n",
       "    }\n",
       "    fig.rubberband_canvas.style.cursor = cursor;\n",
       "}\n",
       "\n",
       "mpl.figure.prototype.handle_message = function(fig, msg) {\n",
       "    fig.message.textContent = msg['message'];\n",
       "}\n",
       "\n",
       "mpl.figure.prototype.handle_draw = function(fig, msg) {\n",
       "    // Request the server to send over a new figure.\n",
       "    fig.send_draw_message();\n",
       "}\n",
       "\n",
       "mpl.figure.prototype.handle_image_mode = function(fig, msg) {\n",
       "    fig.image_mode = msg['mode'];\n",
       "}\n",
       "\n",
       "mpl.figure.prototype.updated_canvas_event = function() {\n",
       "    // Called whenever the canvas gets updated.\n",
       "    this.send_message(\"ack\", {});\n",
       "}\n",
       "\n",
       "// A function to construct a web socket function for onmessage handling.\n",
       "// Called in the figure constructor.\n",
       "mpl.figure.prototype._make_on_message_function = function(fig) {\n",
       "    return function socket_on_message(evt) {\n",
       "        if (evt.data instanceof Blob) {\n",
       "            /* FIXME: We get \"Resource interpreted as Image but\n",
       "             * transferred with MIME type text/plain:\" errors on\n",
       "             * Chrome.  But how to set the MIME type?  It doesn't seem\n",
       "             * to be part of the websocket stream */\n",
       "            evt.data.type = \"image/png\";\n",
       "\n",
       "            /* Free the memory for the previous frames */\n",
       "            if (fig.imageObj.src) {\n",
       "                (window.URL || window.webkitURL).revokeObjectURL(\n",
       "                    fig.imageObj.src);\n",
       "            }\n",
       "\n",
       "            fig.imageObj.src = (window.URL || window.webkitURL).createObjectURL(\n",
       "                evt.data);\n",
       "            fig.updated_canvas_event();\n",
       "            fig.waiting = false;\n",
       "            return;\n",
       "        }\n",
       "        else if (typeof evt.data === 'string' && evt.data.slice(0, 21) == \"data:image/png;base64\") {\n",
       "            fig.imageObj.src = evt.data;\n",
       "            fig.updated_canvas_event();\n",
       "            fig.waiting = false;\n",
       "            return;\n",
       "        }\n",
       "\n",
       "        var msg = JSON.parse(evt.data);\n",
       "        var msg_type = msg['type'];\n",
       "\n",
       "        // Call the  \"handle_{type}\" callback, which takes\n",
       "        // the figure and JSON message as its only arguments.\n",
       "        try {\n",
       "            var callback = fig[\"handle_\" + msg_type];\n",
       "        } catch (e) {\n",
       "            console.log(\"No handler for the '\" + msg_type + \"' message type: \", msg);\n",
       "            return;\n",
       "        }\n",
       "\n",
       "        if (callback) {\n",
       "            try {\n",
       "                // console.log(\"Handling '\" + msg_type + \"' message: \", msg);\n",
       "                callback(fig, msg);\n",
       "            } catch (e) {\n",
       "                console.log(\"Exception inside the 'handler_\" + msg_type + \"' callback:\", e, e.stack, msg);\n",
       "            }\n",
       "        }\n",
       "    };\n",
       "}\n",
       "\n",
       "// from http://stackoverflow.com/questions/1114465/getting-mouse-location-in-canvas\n",
       "mpl.findpos = function(e) {\n",
       "    //this section is from http://www.quirksmode.org/js/events_properties.html\n",
       "    var targ;\n",
       "    if (!e)\n",
       "        e = window.event;\n",
       "    if (e.target)\n",
       "        targ = e.target;\n",
       "    else if (e.srcElement)\n",
       "        targ = e.srcElement;\n",
       "    if (targ.nodeType == 3) // defeat Safari bug\n",
       "        targ = targ.parentNode;\n",
       "\n",
       "    // jQuery normalizes the pageX and pageY\n",
       "    // pageX,Y are the mouse positions relative to the document\n",
       "    // offset() returns the position of the element relative to the document\n",
       "    var x = e.pageX - $(targ).offset().left;\n",
       "    var y = e.pageY - $(targ).offset().top;\n",
       "\n",
       "    return {\"x\": x, \"y\": y};\n",
       "};\n",
       "\n",
       "/*\n",
       " * return a copy of an object with only non-object keys\n",
       " * we need this to avoid circular references\n",
       " * http://stackoverflow.com/a/24161582/3208463\n",
       " */\n",
       "function simpleKeys (original) {\n",
       "  return Object.keys(original).reduce(function (obj, key) {\n",
       "    if (typeof original[key] !== 'object')\n",
       "        obj[key] = original[key]\n",
       "    return obj;\n",
       "  }, {});\n",
       "}\n",
       "\n",
       "mpl.figure.prototype.mouse_event = function(event, name) {\n",
       "    var canvas_pos = mpl.findpos(event)\n",
       "\n",
       "    if (name === 'button_press')\n",
       "    {\n",
       "        this.canvas.focus();\n",
       "        this.canvas_div.focus();\n",
       "    }\n",
       "\n",
       "    var x = canvas_pos.x * mpl.ratio;\n",
       "    var y = canvas_pos.y * mpl.ratio;\n",
       "\n",
       "    this.send_message(name, {x: x, y: y, button: event.button,\n",
       "                             step: event.step,\n",
       "                             guiEvent: simpleKeys(event)});\n",
       "\n",
       "    /* This prevents the web browser from automatically changing to\n",
       "     * the text insertion cursor when the button is pressed.  We want\n",
       "     * to control all of the cursor setting manually through the\n",
       "     * 'cursor' event from matplotlib */\n",
       "    event.preventDefault();\n",
       "    return false;\n",
       "}\n",
       "\n",
       "mpl.figure.prototype._key_event_extra = function(event, name) {\n",
       "    // Handle any extra behaviour associated with a key event\n",
       "}\n",
       "\n",
       "mpl.figure.prototype.key_event = function(event, name) {\n",
       "\n",
       "    // Prevent repeat events\n",
       "    if (name == 'key_press')\n",
       "    {\n",
       "        if (event.which === this._key)\n",
       "            return;\n",
       "        else\n",
       "            this._key = event.which;\n",
       "    }\n",
       "    if (name == 'key_release')\n",
       "        this._key = null;\n",
       "\n",
       "    var value = '';\n",
       "    if (event.ctrlKey && event.which != 17)\n",
       "        value += \"ctrl+\";\n",
       "    if (event.altKey && event.which != 18)\n",
       "        value += \"alt+\";\n",
       "    if (event.shiftKey && event.which != 16)\n",
       "        value += \"shift+\";\n",
       "\n",
       "    value += 'k';\n",
       "    value += event.which.toString();\n",
       "\n",
       "    this._key_event_extra(event, name);\n",
       "\n",
       "    this.send_message(name, {key: value,\n",
       "                             guiEvent: simpleKeys(event)});\n",
       "    return false;\n",
       "}\n",
       "\n",
       "mpl.figure.prototype.toolbar_button_onclick = function(name) {\n",
       "    if (name == 'download') {\n",
       "        this.handle_save(this, null);\n",
       "    } else {\n",
       "        this.send_message(\"toolbar_button\", {name: name});\n",
       "    }\n",
       "};\n",
       "\n",
       "mpl.figure.prototype.toolbar_button_onmouseover = function(tooltip) {\n",
       "    this.message.textContent = tooltip;\n",
       "};\n",
       "mpl.toolbar_items = [[\"Home\", \"Reset original view\", \"fa fa-home icon-home\", \"home\"], [\"Back\", \"Back to  previous view\", \"fa fa-arrow-left icon-arrow-left\", \"back\"], [\"Forward\", \"Forward to next view\", \"fa fa-arrow-right icon-arrow-right\", \"forward\"], [\"\", \"\", \"\", \"\"], [\"Pan\", \"Pan axes with left mouse, zoom with right\", \"fa fa-arrows icon-move\", \"pan\"], [\"Zoom\", \"Zoom to rectangle\", \"fa fa-square-o icon-check-empty\", \"zoom\"], [\"\", \"\", \"\", \"\"], [\"Download\", \"Download plot\", \"fa fa-floppy-o icon-save\", \"download\"]];\n",
       "\n",
       "mpl.extensions = [\"eps\", \"jpeg\", \"pdf\", \"png\", \"ps\", \"raw\", \"svg\", \"tif\"];\n",
       "\n",
       "mpl.default_extension = \"png\";var comm_websocket_adapter = function(comm) {\n",
       "    // Create a \"websocket\"-like object which calls the given IPython comm\n",
       "    // object with the appropriate methods. Currently this is a non binary\n",
       "    // socket, so there is still some room for performance tuning.\n",
       "    var ws = {};\n",
       "\n",
       "    ws.close = function() {\n",
       "        comm.close()\n",
       "    };\n",
       "    ws.send = function(m) {\n",
       "        //console.log('sending', m);\n",
       "        comm.send(m);\n",
       "    };\n",
       "    // Register the callback with on_msg.\n",
       "    comm.on_msg(function(msg) {\n",
       "        //console.log('receiving', msg['content']['data'], msg);\n",
       "        // Pass the mpl event to the overriden (by mpl) onmessage function.\n",
       "        ws.onmessage(msg['content']['data'])\n",
       "    });\n",
       "    return ws;\n",
       "}\n",
       "\n",
       "mpl.mpl_figure_comm = function(comm, msg) {\n",
       "    // This is the function which gets called when the mpl process\n",
       "    // starts-up an IPython Comm through the \"matplotlib\" channel.\n",
       "\n",
       "    var id = msg.content.data.id;\n",
       "    // Get hold of the div created by the display call when the Comm\n",
       "    // socket was opened in Python.\n",
       "    var element = $(\"#\" + id);\n",
       "    var ws_proxy = comm_websocket_adapter(comm)\n",
       "\n",
       "    function ondownload(figure, format) {\n",
       "        window.open(figure.imageObj.src);\n",
       "    }\n",
       "\n",
       "    var fig = new mpl.figure(id, ws_proxy,\n",
       "                           ondownload,\n",
       "                           element.get(0));\n",
       "\n",
       "    // Call onopen now - mpl needs it, as it is assuming we've passed it a real\n",
       "    // web socket which is closed, not our websocket->open comm proxy.\n",
       "    ws_proxy.onopen();\n",
       "\n",
       "    fig.parent_element = element.get(0);\n",
       "    fig.cell_info = mpl.find_output_cell(\"<div id='\" + id + \"'></div>\");\n",
       "    if (!fig.cell_info) {\n",
       "        console.error(\"Failed to find cell for figure\", id, fig);\n",
       "        return;\n",
       "    }\n",
       "\n",
       "    var output_index = fig.cell_info[2]\n",
       "    var cell = fig.cell_info[0];\n",
       "\n",
       "};\n",
       "\n",
       "mpl.figure.prototype.handle_close = function(fig, msg) {\n",
       "    var width = fig.canvas.width/mpl.ratio\n",
       "    fig.root.unbind('remove')\n",
       "\n",
       "    // Update the output cell to use the data from the current canvas.\n",
       "    fig.push_to_output();\n",
       "    var dataURL = fig.canvas.toDataURL();\n",
       "    // Re-enable the keyboard manager in IPython - without this line, in FF,\n",
       "    // the notebook keyboard shortcuts fail.\n",
       "    IPython.keyboard_manager.enable()\n",
       "    $(fig.parent_element).html('<img src=\"' + dataURL + '\" width=\"' + width + '\">');\n",
       "    fig.close_ws(fig, msg);\n",
       "}\n",
       "\n",
       "mpl.figure.prototype.close_ws = function(fig, msg){\n",
       "    fig.send_message('closing', msg);\n",
       "    // fig.ws.close()\n",
       "}\n",
       "\n",
       "mpl.figure.prototype.push_to_output = function(remove_interactive) {\n",
       "    // Turn the data on the canvas into data in the output cell.\n",
       "    var width = this.canvas.width/mpl.ratio\n",
       "    var dataURL = this.canvas.toDataURL();\n",
       "    this.cell_info[1]['text/html'] = '<img src=\"' + dataURL + '\" width=\"' + width + '\">';\n",
       "}\n",
       "\n",
       "mpl.figure.prototype.updated_canvas_event = function() {\n",
       "    // Tell IPython that the notebook contents must change.\n",
       "    IPython.notebook.set_dirty(true);\n",
       "    this.send_message(\"ack\", {});\n",
       "    var fig = this;\n",
       "    // Wait a second, then push the new image to the DOM so\n",
       "    // that it is saved nicely (might be nice to debounce this).\n",
       "    setTimeout(function () { fig.push_to_output() }, 1000);\n",
       "}\n",
       "\n",
       "mpl.figure.prototype._init_toolbar = function() {\n",
       "    var fig = this;\n",
       "\n",
       "    var nav_element = $('<div/>')\n",
       "    nav_element.attr('style', 'width: 100%');\n",
       "    this.root.append(nav_element);\n",
       "\n",
       "    // Define a callback function for later on.\n",
       "    function toolbar_event(event) {\n",
       "        return fig.toolbar_button_onclick(event['data']);\n",
       "    }\n",
       "    function toolbar_mouse_event(event) {\n",
       "        return fig.toolbar_button_onmouseover(event['data']);\n",
       "    }\n",
       "\n",
       "    for(var toolbar_ind in mpl.toolbar_items){\n",
       "        var name = mpl.toolbar_items[toolbar_ind][0];\n",
       "        var tooltip = mpl.toolbar_items[toolbar_ind][1];\n",
       "        var image = mpl.toolbar_items[toolbar_ind][2];\n",
       "        var method_name = mpl.toolbar_items[toolbar_ind][3];\n",
       "\n",
       "        if (!name) { continue; };\n",
       "\n",
       "        var button = $('<button class=\"btn btn-default\" href=\"#\" title=\"' + name + '\"><i class=\"fa ' + image + ' fa-lg\"></i></button>');\n",
       "        button.click(method_name, toolbar_event);\n",
       "        button.mouseover(tooltip, toolbar_mouse_event);\n",
       "        nav_element.append(button);\n",
       "    }\n",
       "\n",
       "    // Add the status bar.\n",
       "    var status_bar = $('<span class=\"mpl-message\" style=\"text-align:right; float: right;\"/>');\n",
       "    nav_element.append(status_bar);\n",
       "    this.message = status_bar[0];\n",
       "\n",
       "    // Add the close button to the window.\n",
       "    var buttongrp = $('<div class=\"btn-group inline pull-right\"></div>');\n",
       "    var button = $('<button class=\"btn btn-mini btn-primary\" href=\"#\" title=\"Stop Interaction\"><i class=\"fa fa-power-off icon-remove icon-large\"></i></button>');\n",
       "    button.click(function (evt) { fig.handle_close(fig, {}); } );\n",
       "    button.mouseover('Stop Interaction', toolbar_mouse_event);\n",
       "    buttongrp.append(button);\n",
       "    var titlebar = this.root.find($('.ui-dialog-titlebar'));\n",
       "    titlebar.prepend(buttongrp);\n",
       "}\n",
       "\n",
       "mpl.figure.prototype._root_extra_style = function(el){\n",
       "    var fig = this\n",
       "    el.on(\"remove\", function(){\n",
       "\tfig.close_ws(fig, {});\n",
       "    });\n",
       "}\n",
       "\n",
       "mpl.figure.prototype._canvas_extra_style = function(el){\n",
       "    // this is important to make the div 'focusable\n",
       "    el.attr('tabindex', 0)\n",
       "    // reach out to IPython and tell the keyboard manager to turn it's self\n",
       "    // off when our div gets focus\n",
       "\n",
       "    // location in version 3\n",
       "    if (IPython.notebook.keyboard_manager) {\n",
       "        IPython.notebook.keyboard_manager.register_events(el);\n",
       "    }\n",
       "    else {\n",
       "        // location in version 2\n",
       "        IPython.keyboard_manager.register_events(el);\n",
       "    }\n",
       "\n",
       "}\n",
       "\n",
       "mpl.figure.prototype._key_event_extra = function(event, name) {\n",
       "    var manager = IPython.notebook.keyboard_manager;\n",
       "    if (!manager)\n",
       "        manager = IPython.keyboard_manager;\n",
       "\n",
       "    // Check for shift+enter\n",
       "    if (event.shiftKey && event.which == 13) {\n",
       "        this.canvas_div.blur();\n",
       "        // select the cell after this one\n",
       "        var index = IPython.notebook.find_cell_index(this.cell_info[0]);\n",
       "        IPython.notebook.select(index + 1);\n",
       "    }\n",
       "}\n",
       "\n",
       "mpl.figure.prototype.handle_save = function(fig, msg) {\n",
       "    fig.ondownload(fig, null);\n",
       "}\n",
       "\n",
       "\n",
       "mpl.find_output_cell = function(html_output) {\n",
       "    // Return the cell and output element which can be found *uniquely* in the notebook.\n",
       "    // Note - this is a bit hacky, but it is done because the \"notebook_saving.Notebook\"\n",
       "    // IPython event is triggered only after the cells have been serialised, which for\n",
       "    // our purposes (turning an active figure into a static one), is too late.\n",
       "    var cells = IPython.notebook.get_cells();\n",
       "    var ncells = cells.length;\n",
       "    for (var i=0; i<ncells; i++) {\n",
       "        var cell = cells[i];\n",
       "        if (cell.cell_type === 'code'){\n",
       "            for (var j=0; j<cell.output_area.outputs.length; j++) {\n",
       "                var data = cell.output_area.outputs[j];\n",
       "                if (data.data) {\n",
       "                    // IPython >= 3 moved mimebundle to data attribute of output\n",
       "                    data = data.data;\n",
       "                }\n",
       "                if (data['text/html'] == html_output) {\n",
       "                    return [cell, data, j];\n",
       "                }\n",
       "            }\n",
       "        }\n",
       "    }\n",
       "}\n",
       "\n",
       "// Register the function which deals with the matplotlib target/channel.\n",
       "// The kernel may be null if the page has been refreshed.\n",
       "if (IPython.notebook.kernel != null) {\n",
       "    IPython.notebook.kernel.comm_manager.register_target('matplotlib', mpl.mpl_figure_comm);\n",
       "}\n"
      ],
      "text/plain": [
       "<IPython.core.display.Javascript object>"
      ]
     },
     "metadata": {},
     "output_type": "display_data"
    },
    {
     "data": {
      "text/html": [
       "<img src=\"data:image/png;base64,iVBORw0KGgoAAAANSUhEUgAABkAAAASwCAYAAACjAYaXAAAAAXNSR0IArs4c6QAAQABJREFUeAHs3QmcJVdZKPCemRASEkjCEsLehD0EWUTZocEFhSC+LEBAoQFxXwB5PMSFBlTEB4hPUVYZggZIIEEWRRAYZAdZRAKyN0sCWYCwJTOZme73fWMXntTctbvuvXXv/Z/f75s6VXW2+lfde6frdN1eWJAIECBAgAABAgQIECBAgAABAgQIECBAgAABAgQIECBAgAABAgQIECBAgAABAgQIECBAgAABAgQIECBAgAABAgQIECBAgAABAgQIECBAgAABAgQIECBAgAABAgQIECBAgAABAgQIECBAgAABAgQIECBAgAABAgQIECBAgAABAgQIECBAgAABAgQIECBAgAABAgQIECBAgAABAgQIECBAgAABAgQIECBAgAABAgQIECBAgAABAgQIECBAgAABAgQIECBAgAABAgQIECBAgAABAgQIECBAgAABAgQIECBAgAABAgQIECBAgAABAgQIECBAgAABAgQIECBAgAABAgQIECBAgAABAgQIECBAgAABAgQIECBAgAABAgQIECBAgAABAgQIECBAgAABAgQIECBAgAABAgQIECBAgAABAgQIECBAgAABAgQIECBAgAABAgQIECBAgAABAgQIECBAgAABAgQIECBAgAABAgQIECBAgAABAgQIECBAgAABAgQIECBAgAABAgQIECBAgAABAgQIECBAgAABAgQIECBAgAABAgQIECBAgAABAgQIECBAgAABAgQIECBAgAABAgQIECBAgAABAgQIECBAgAABAgQIECBAgAABAgQIECBAgAABAgQIECBAgAABAgQIECBAgAABAgQIECBAgAABAgQIECBAgAABAgQIECBAgAABAgQIECBAgAABAgQIECBAgAABAgQIECBAgAABAgQIECBAgAABAgQIECBAgAABAgQIECBAgAABAgQIECBAgAABAgQIECBAgAABAgQIECBAgAABAgQIECBAgAABAgQIECBAgAABAgQIECBAgAABAgQIECBAgAABAgQIECBAgAABAgQIECBAgAABAgQIECBAgAABAgQIECBAgAABAgQIECBAgAABAgQIECBAgAABAgQIECBAgAABAgQIECBAgAABAgQIECBAgAABAgQIECBAgAABAgQIECBAgAABAgQIECBAgAABAgQIECBAgAABAgQIECBAgAABAgQIECBAgAABAgQIECBAgAABAgQIECBAgAABAgQIECBAgAABAgQIECBAgAABAgQIECBAgAABAgQIECBAgAABAgQIECBAgAABAgQIECBAgAABAgQIECBAgAABAgQIECBAgAABAgQIECBAgAABAgQIECBAgAABAgQIECBAgAABAgQIECBAgAABAgQIECBAgAABAgQIECBAgAABAgQIECBAgAABAgQIECBAgAABAgQIECBAgAABAgQIECBAgAABAgQIECBAgAABAgQIECBAgAABAgQIECBAgAABAgQIECBAgAABAgQIECBAgAABAgQIECBAgAABAgQIECBAgAABAgQIECBAgAABAgQIECBAgAABAgQIECBAgAABAgQIECBAgAABAgQIECBAgAABAgQIECBAgAABAgQIECBAgAABAgQIECBAgAABAgQIECBAgAABAgQIECBAgAABAgQIECBAgAABAgQIECBAgAABAgQIECBAgAABAgQIECBAgAABAgQIECBAgAABAgQIECBAgAABAgQIECBAgAABAgQIECBAgAABAgQIECBAgAABAgQIECBAgAABAgQIECBAgAABAgQIECBAgAABAgQIECBAgAABAgQIECBAgAABAgQIECBAgAABAgQIECBAgAABAgQIECBAgAABAgQIECBAgAABAgQIECBAgAABAgQIECBAgAABAgQIECBAgAABAgQIECBAgAABAgQIECBAgAABAgQIECBAgAABAgQIECBAgAABAgQIECBAgAABAgQIECBAgAABAgQIECBAgAABAgQIECBAgAABAgQIECBAgAABAgQIECBAgAABAgQIECBAgAABAgQIECBAgAABAgQIECBAgAABAgQIECBAgAABAgQIECBAgAABAgQIECBAgAABAgQIECBAgAABAgQIECBAgAABAgQIECBAgAABAgQIECBAgAABAgQIECBAgAABAgQIECBAgAABAgQIECBAgAABAgQIECBAgAABAgQIECBAgAABAgQIECBAgAABAgQIECBAgAABAgQIECBAgAABAgQIECBAgAABAgQIECBAgAABAgQIECBAgAABAgQIECBAgAABAgQIECBAgAABAgQIECBAgAABAgQIECBAgAABAgQIECBAgAABAgQIECBAgAABAgQIECBAgAABAgQIECBAgAABAgQIECBAgAABAgQIECBAgAABAgQIECBAgAABAgQIECBAgAABAgQIECBAgAABAgQIECBAgAABAgQIECBAgAABAgQIECBAgAABAgQIECBAgAABAgQIECBAgAABAgQIECBAgAABAgQIECBAgAABAgQIECBAgAABAgQIECBAgAABAgQIECBAgAABAgQIECBAgAABAgQIECBAgAABAgQIECBAgAABAgQIECBAgAABAgQIECBAgAABAgQIECBAgAABAgQIECBAgAABAgQIECBAgAABAgQIECBAgAABAgQIECBAgAABAgQIECBAgAABAgQIECBAgAABAgQIECBAgAABAgQIECBAgAABAgQIECBAgAABAgQIECBAgAABAgQIECBAgAABAgQIECBAgAABAgQIECBAgAABAgQIECBAgAABAgQIECBAgAABAgQIECBAgAABAgQIECBAgAABAgQIECBAgAABAgQIECBAgAABAgQIECBAgAABAgQIECBAgAABAgQIECBAgAABAgQIECBAgAABAgQIECBAgAABAgQIECBAgAABAgQIECBAgAABAgQIECBAgAABAgQIECBAgAABAgQIECBAgAABAgQIECBAgAABAgQIECBAgAABAgQIECBAgAABAgQIECBAgAABAgQIECBAgAABAgQIECBAgAABAgQIECBAgAABAgQIECBAgAABAgQIECBAgAABAgQIECBAgAABAgQIECBAgAABAgQIECBAgAABAgQIECBAgAABAgQIECBAgAABAgQIECBAgAABAgQIECBAgAABAgQIECBAgAABAgQIECBAgAABAgQIECBAgAABAgQIECBAgAABAgQIECBAgAABAgQIECBAgAABAgQIECBAgAABAgQIECBAgAABAgQIECBAgAABAgQIECBAgAABAgQIECBAgAABAgQIECBAgAABAgQIECBAgAABAgQIECBAgAABAgQIECBAgAABAgQIECBAgAABAgQIECBAgAABAgQIECBAgAABAgQIECBAgAABAgQIECBAgAABAgQIECBAgAABAgQIECBAgAABAgQIECBAgAABAgQIECBAgAABAgQIECBAgAABAgQIECBAgAABAgQIECBAgAABAgQIECBAgAABAgQIECBAgAABAgQIECBAgAABAgQIECBAgAABAgQIECBAgAABAgQIECBAgAABAgQIECBAgAABAgQIECBAgAABAgQIECBAgAABAgQIECBAgAABAgQIECBAgAABAgQIECBAgAABAgQIECBAgAABAgQIECBAgAABAgQIECBAgAABAgQIECBAgAABAgQIECBAgAABAgQIECBAgAABAgQIECBAgAABAgQIECBAgAABAgQIECBAgAABAgQIECBAgAABAgQIECDQfoGVGOJ6EYuRn6e0FAdbHv9yj4MfpmyPZmZi10ocRem2OBNHNf0Hcd84hJ0Rn464NGItojpPH4+81IzArmimcl3t0+QwZfs0ZTeBqROoXie53Dl1o5++AS/FkEvz5ek7BCNuUCDPf3k9LDXYtqYIECBAYIYEts/QsTgUAgQIEGivwGIMrfwBpVN+b5T5fsT5ER+NeF3EMyIeEHH1CIkAgfkVOCwO/TUR74h4VMStI46K2BbRVFqKhjq9N5XbcsLluxFfjdgV8dyI+0RIBOoCK7GhvHaq/J/WCw6xnhN/VTvl8sQh2lCUQBMCq9FIeQ3W8/tj/2URF0d8MuKfI54XcXrE9SMkAgQIECBAgMDYBEyAjI1aRwQIECDQR+CQ2H9ERP5gfMeIkyP+MOLNERdF5ITIfSKmLa3EgMsbA4vTdgBTOt6lGHfpvjylx2HY/y3wnFg8pAUYOeGSE7I3jMj3oydG7IrIG3x3i5AI9BN4RBTYzMTdj0e9nPiTCEyDQN5nODzi2hG3jfiZiCdEnBnxtYh3R/xCRP7fTyJAgAABAgQIjFTABMhIeTVOgAABAg0J5G9/54TIroi3RhwfIREgMB8COdnwq8WhfivyvxWRE6X5XnDTjcinxSaV8gbfeyIePqkB6HdqBG4cI73vJkb7yE3UUYVAGwVyAvCeEa+M+FTE/SIkAgQIECBAgMDIBPzGxchoNUyAAAECPQTya67yh98y5Q/E14g4OuLYiB+LuHtE/lZ1OWH/U7GeX5F1WsTbIiQCBGZb4Ofi8HYUh/iYyP9jsT6q7Aej4Yd1aDzfp24R8aCInPC4SkSmfJ96eUQ+DfKJCIlAKZBf81hdKzmZ8Y5yZ5981iuvxbKtPlXtJjAWgXtFL/lkR5nyqd78P901I24fkf+fyyfncnuV8r00/y/31IhnVxstCRAgQIAAAQIECBAgQIDAtAksxoDLryNaHeIAbh5l/zpiX0TZxuWxfu+ItqeVGGA57sUWD3ipNtblFo+139CWokDpvtyvgv2tFXhZjKw6l1dEvrqJ3PSAl4p+sr9dEf3Sj0aBb0ZU48vlG/pVmoL9u2KM1TGtTsF42zjElRhUZZjLnLSr1r8X+atFDJp+PgpWdfM1kF8NWa3n0t8ACYQJpfI87JzQGCbR7Wp0Wh774oCDOCbKPSXikoiyfub/d4REgAABAgQIEGhcoPyN2sYb1yABAgQIEGhA4PPRxm9G/FRE/i2QKuXXYr064lrVBksCBGZSIJ8Iq9LFkcnffm9L+kgMpPx6rhxXfhVX/tazRKAUOCtWdm9sODKW/6vc2Sf/qGL/WyKfrwOJwDQKfDsG/WcROXn877UDeFas55MkEgECBAgQIECgUQETII1yaowAAQIERijwzmj7/hF7ij6uF/mVYl2WAIHZE8ibxVVq0+RHNabXRubCaiWW+XVd9a/4K3bLzqnAd+K4y6eDBv2bHjnJn5NqVTqjylgSmGKBL8fY7xeRv+RSpXzvzCd+3aOoRCwJECBAgACBRgT8DZBGGDVCgAABAmMS+Hj0838inl/097jIPz3ikmJbE9n8AfzEiNtF5G+g53dW51ePfDfiKxGfifhCxKRTjvGEiJwMyjGuRpwZMYp0ZDSav515o4j8Tu+86Zt/wPRDEfn1FdKVBfI7z/P85PVzaMRFEV+KeF9EXktNpjtHY7eOuEFEfj3c+RG7IvLrmcadDo8O8zq5ccS1I3I8eez5t3vydTNsyr8P1OaU134+CfKAYpD5Ghk2HR8VToi4SUT+nZH82r9vReQ184GIyyK2mq4eDdw3Is/N1SIuiPhsxIciZjXdKg7sDhHHReR7WLp+P+KrEZ+L+K+IPIfjSK+MTh6y0dFPxDLft7++sd5t8bDYke8fmS6NeGPESbmyxZQ3m/Nvbd0i4joR+XPhRRHpkdfDWsRmU7aX733Z9tER2Vf+5n9eb++PaPoJlvy8vltEfmVmmub5XY14V8T3IiaV8rjvHpGv7RxXnr98Pe+K2BMx7ynPTb4e/j0iz2GmH4l4YERe502nq0aDt43Iz8rrRuT/mXIMl0R8POJTEU28F9wm2vnRiOtH5Off1yI+vLGMRePpKtHivSMWI46NyOssJ5beHbE7Yiup6c/zciy3ipU7RBwXcWTEuN+bJ91/HLJEgAABAgQIECBAgMAsCSzGweQPlVWsRn6zKX+AzZs0VVu5fHyPxlZqZRd7lM1d+UPYMyPyBnLZR6d8juOVET8eUabFWOlUvt+2lbKRjfxqLKt6uza25eLREZ+MqPZVy/zBt0xLsVLty+VyRLe0FDs6lc0bBS+OyBsF5f4qvxrbczyDpqpeLncOWinKLUWUdZdjvZ5WY0NZZpD8rnojsb4SUdZdjPVBUt4seGrEVyPK+mU+HV8eccOIQVNZf2dR6RcjX920Kctkfn/EqyI2czM+qg2dbhk1zoq4LKI+lmr9C7HvNyPyZmu3tBg7qvKDLle7NTbE9qUoW/a3a4i6f1+rm9dAv5Q3rfJG3ysi+r3fXBFlXhdxp4jNpJywfElEt3Pz2dj3axHbIjLtiqgsViPfK+2KnYOWrcrlcmfEoGkpCpZ1l/tUTNvfjcibgGW9Tvl8z0zbn4poMq1EY2V/J8V6XvcXFtsH+ZsHHyzKvyjymXZGlG2fmBsHTDlJ+sKIb0aUbZT5i2PfH0fkhNmg6c5R8LkR50WUbXXK5zEN8xVgi7U2V2I9U16vT4j4ckSnfvJ184KIvP5Hlcp+d250cmgsfz/iaxHl/iqf19yzIw6P6JXeGzurOnkj/ZhehbvsO6doIz8TbtKl3LCbV6NCNbZcLkZsNr0hKpZtvb5HQ0u1sss9yuauYyPyM+dfI7q9/1V95//pnhZxdMRm0s9GpU9EVO2Vy7T/p4jbRWRajCj3r8R6t7QUO8qyyxsF8zrL/6/W/09clc2JwNzf7zqLIgelpj7P6w03/d68HB1Ux5vLpYheqen+e/VlHwECBAgQIECAAAECcyawGMdb/oCyusXjf1atvbf2aG+lVnaxR9mbx74v1cqX4+6Wf36tzcVNtJFtr0TU02psqPrdFfmcAMqbzNW2+jJvrJRpKVbKMsvlzlp+KdbrZfO3Mb9e216WKfN50yJ/IO+Xyjo7+xUu9i9Fvqy7XOyrsquRKcsMkt9VVS6WK5Ev6y4W+7plT4gdX4oo6/XK582YR3RrrLa9bGdn7EvnMyLK7d3yF0S5HNso0+Oj8bzZ2G0M9e3/GWXzKYROaTE21sv3W1/t1NCQ25aifNnPriHq12/gPXGAus+o9Vf23S2fvyGbN/aHSfkk0jciurVZbq9ew7uK8quR75V2xc6qjdVeBYtyWX5nn7Ll7qVYqfrI5XJEt5RPH3w0oiw/SD6Pvcm0Eo2V/eYESKbnR1Tb82Zpr3Sr2FmVzeU9NgrvrG0fdALkV6Nev5vAZX85kVvdsI1s13S/2FPWGzR/ZtQb5ObsYq39lVg/KuItte3d+v1UlLt+xChS2efO6ODoiPdFlNu75T8T5XpNUD+y1s5vxfowKX95oXxf/pdhKvcpuxr7y+Na7FO+1+7719rKG/f5GdcpLcXGst/lToWKbV+plS/rdsuvRp183xwm/WUU7tZeuf0HUe6hEYu18iux3i0txY6yjeVYz1+gyKdKyu3d8u+OclePGDQ9PgqW1023dqvtvT7Pyz5H8d68HB1U48jlUkS3NIr+u/VlOwECBAi0TOCQlo3HcAgQIECAwCAC74hCTykK3jXy2yLyh5/NpsOi4j9HLNYayB+e8+bJtyJ2RORNl1tEHB+RfY475c2z0zY6zeP9WMRqROZzTDeNaCrlD4tpctxGg3lT4v0Rl0QcG3G3iKtFVOnBkXlNxMkRWzkXVXvTtMybJXldXrM26C/F+icjdkfk+blTRHXd5I2/V0YcEfHiiGHSC6LwL25U2BvLvBGSv22cv92YNyxzMq9K14vM2RF3jMibGk2nP4gGn1lrNH/bNcf05YgjI+4QcYOIKuUN2/dG3CtiNWLaUx5fmVbLlS757bXt34v1vFYuisjXWr628jzm5FW+92TK5XMifhDxwoh+6ZZR4G0R+Vou0xdiJfvK6yH7yGsjU76G//pAbjr/yddW/sZ7dTzVUVwYmbxJl+9daxFHRdwsIo/9kIhxpjOis9/Z6DBfqznWj22s1xePKjbkOcvXzGbTH0fF369VzveO7PurETm5dpOIO0dUJnmT9d0R94zI66Vbql/LeV19OuJrEd+JyJvZ14/I10n5mXF6rOc5y+UwKV8H+VmTN84zXR7xwYic6Mv31TyG8v3mNrH+ioifihhlymPJceVnY6Z8H8xxpW/egM73/+rzNLIL+frMz427R1wcUU/5vp2f+cds7HhsLP9qIz/IIq+f/Eyo0kurTMuW/xbjyeuvuu6OiHz+8sW/R2w11a/NPBefifh2RF7/+ZmdfeX1WaV8Hbw94vYR51cbeyzzPfm3a/uz7Tz3+RrIc5993Cgir/98D3h4xGZT+rwpIseX6bsRH4rIayj7umvEtSOqlK/fv4j4pWpDj+UfxL5n1vbndfzhiC9HHBmxmc/zfG2cEzGp9+ZJ9x+HLhEgQIAAAQIECBAgMOsCi3GA60WsRn4r6eionDexyjZv2qXBlVq5xS7lfqNWLn+Y/LEuZXNzjuFhEW+OeF5EmfKH+MWNyJsX5TjzB9FqX32ZbdbTamyo6ucN0ir/ysjfMKKeFmsblmK9qpPL5YhuaSl2lGXzBkGuXxHx1IjDI8qUP4Q/PWJfRFnvV8pCHfJl2Z0d9nfbtBQ7yrrLHQqmyWJEnpuy7JM2tue+epQ3pGL3gbQS/5b1Fw9s7fxPuuQkWVn+87H+Ex2KHx/bclKpLLs71vPmSK9Uls+buLmeNyX+NKLTdfPA2F6dv6rur8W2ptN9o8H6a/HM2Ha9WkfbYv3nIy6IqMaTy/dE7IgoU/n6WYwdH4io6nwt8rmtHp1eC1FsqLQUpat+crkrYpCUN1XLevl6uO4AFf84ynwx4g8i8vynUaeU1+efReQNtaqfvOF744heKW/8vTeiqpPLvC7vF1FPt4wN74ioypbXzmq9cG19V6xX9VZr++qrVblc7qzv7LG+FPvKustdyuZ1X5b7XKzn67Cbbb6HPTji1RFnRzSZVqKxciwnFY1/sthX//yoiuWYv1yUe1q1I5Y7i+3Zx4kRvVL9/fCyKPx7EUd1qJTX7ssiyrF/ItYP61C22vSTkbk04v9F5PV1lYhOKW/+/nJE9R5W9XFap8LFtsXIV2VzWdXP10G+t9c/m9Lu0RF7Isp6PxvrTaey/fJ1c2Z0VP9sydfk6RHV+Ku6r+oxqL+MfVW5XN65R9n6rs8UdS+K/KH1AltYX4265bgWt9BWVv1oRNlenr9OaSk2luWWOxUqtn0l8v8c8aiI+kRwUezApNW/xYay7fz/Xb+U13tZJ/N/E5ETK2XKazKvv9WILFO/BlZiW7e0FDvKPqq634ztj4nIz8wy5fpTIuqfzSeUhTrk79uhTl7H16uVzWMZ9PO8qjqq9+bl6KC0Wao6rC1H1X+tG6sECBAgQIAAAQIECMyzwGIcfPkDymoDGF+vtXnvLm2u1MotdimXPyBXY8wfLjvdVO5SteeNoZWi3Wx/MWKYtBqFq3FVy2cN0cBSrf5yj7r1stlf/gD9kB51ctejI6qx5TJvhF0jolsqy+7sVqjD9qXYVtZd7lCm2rQUmUHLVnXK5Uqt/mK5s5bPG9hlX3nT9dhamXJ1e6ycFVHWyRvVvVJZNvODnJf7R7my3od6dbCJfXkcn631kTfreqWbx85vRJTjelyvCrFvV1F+NfKjSkvRcDmuXQN0dOMosxpR1jt3gHpZ5IYRaThoOiUKlv08u0/FR9XKfyHW8+Z2t5Q3zfKGX9lH5lcjeqVdsbOqs9qrYFEuy+/sU7bcvRQrVR+5XI7olP42NlblcsLopp0KddnW6wZ/lyo9N6/E3mosuTypKP3kYl++HuqTgFn0fkWZfL0fnxs30s5Ylm2fWO3osMybvt8pyuf78506lKtvWokNZR+/US9QrOfN3iOL9X7ZW0aB/Jyt2v9gnwqLRdmqzu7Yds8+9X65Vi/fd5tO1XjK5V/36eT2sb88J1n3Pl3q5E3rsu0XdilX33zvWr3n1AtscX211v7iFtt7Va29P+rS3lKt3HKXctXmm1SZAZb5OjwnovS+TZ965WRm1us27qqZG0XmKxFlH5lfieiWlmJHvXxOfty6W4WN7X9aq/fnPcrnZ9EoP89H9d68XDvGpVjvlEbVf6e+bCNAgAABAgQIECBAYE4FFuO4yx/eVhtw+HStzZO7tLlSK7fYpdx5RbkmfxN4pWg3DRYjhkmrUbi0+1isd7pZ1q3NpVr95W4FY/tSRNlX5ndGDJJeG4XKur/eo1JZbmePcvVdS7GhrLtcL1CsL0V+0LJFtR9mV2r1F3+458qZq8Tq+RFVX3mj8q5XLtJxLb+moqyX9Xv9Zm/VfrV8UcdWD974vthU1cknRo44uMimt9R/ozK/YihvovdL9Rv5Wa9X2hU7q2NY7VVwi/uWon7VTy53RXRKee7yBvLTIr4VUdbJm8s5yTOq9LpouOpvtU8nHy7KZp2lPuVz97Ujyt9iz3qrEb3Srtg56JiqcrncGTFoWoqCZd3lLhXLCZw8/kmmlei8HPNJxWCuH/l8PVb7H1Dsq7I7i/3vrjZuLMt92caJtf3l6tNjpeonl/0mtKu62yLzoaJu3hxtMv1WNFaOa7FH47mvLJv53+tRvtqVN3W/FlHVzcmmplPVdrXMpy4OHaCT34wyVZ1cntWjznuKsjlxcrUeZatdZxR1sv1+N8ureoMuV6NgOf7FQSt2KVfeoM52/1+Xckuxvex3uUu5zW7OCcOcXKv6WOnRUH2S6QNRNl83/VL9szP7WulRaSn2VeOplqf3KF/tOioylxd1e0001sfU9Of5qN6bl4vjS5uliE5pVP136ss2AgQIEGihQP6nUCJAgAABAtMokDcay3R4ubLFfP4A3Nb0/BhY3jgbV3rmgB09o1buEbX1WV29bxxY3sys0lsikzdB+qXvRYE/rxX6hdp6r9V63W5l/6nYkf/vu12xvtVs/RzntbJvgEbzJv7Hi3J58/YOxXpbsveJgVQ3m8rld2P7RyJWIo6JqNIlkTkp4vPVhhEs/7Fo8yaRv26xXmZvGSvlhFreQN1VFuiSz2PIG5GzkNr8Pn5BAL+9QH5kkc/sERE5UVilM6rMkMu8GfsrRZ28qdnrRntR9MC1/1fFhltEPq+rplJ5LWebdxmi4R9E2RcMUD4npPM9uUr5ejmuWhnRMt+brxig7RdGmYuKcj8f+TzvnVI54Z1PV57WqVCxLW98n1qsvzfy/1WstzF7aW1QTf6frtZ0z9WLY+/7ihK9rsv6efi/US8/K/qlN0eB8/oV6rF/Nfa9psf+aldOluW5r9KPRKbbBM04P8+vUw1oQstJ9z+hw9YtAQIE5lvABMh8n39HT4AAgWkWaPozLH9rs0r5tRo/V620bPnGMY7no9HXFwbs7xNRrrzB8qOxfuiAdae52N1rg8+v8Rg0VV/5UZWvt1Vtry8/FxsGPS/lOcl2mvzBvxzvZdH2G7KDAdOZtXJlW7VdrV/9VozwuRG3iciJhq2mfG/LG5g3jFisRX3ys9tvdd8t6pVp0JveWWeQG2tl223Kl+/jOUH0G20aXG0s5aTGg2PfNYr9J0f+yI313bEc5vwVzSycECt5079KOfk4TKo/eXKPYSpH2bzZmjf1rxexWIurxHqZul3LZZkqnzeocyJykDTK98B6/znhMqhxThafUzSQHvm52SmdHRu/Xex4bJHvlH14bCwnEF7SqVDLtjX9f7p+h5f/P8kn3vJ9YrEWOXFQpV7X5V2rQrG8IuJNxXq/7KDXSad23hYb81obJJXX/2FRoXpfqdctP4NH8Xk+6ffmSfdf97ZOgAABAmMWGPd/NMZ8eLojQIAAgRkWyBuEZbq8XNlE/tVFnR2Rf31E/oCav5XZ7QfG2DXW9JXoLW+2jit9eMiOyvJXjbq3HbL+NBav37D64BAHkb/9+6Wi/B0in9dev/TpfgWK/eWNnNxc3mQtig2dvVbUyBtHVfqPyOSN2kHTB2oF64613a1ePSJGlze/yhuUwww4Xyt5w/sfIvLcZlv529Bfjcjro4y/j/UyHVOuFPk7FfnMlq/N2q6DVj8ZW4Y5lwc1MMEN5ft4DuOvI/Jm4cMjulnFromkc6PX72/0nDcmTytGUT4R8sbYXn8dF0V7ZusTFhdG6cUhIq/NMi2WK13y2edfReQ194OIPMYLIsrrOPP1J6WGOT9teA+MQzgofS625Gt30FR/XXZ7H8zXYzlhdq9Yv2WPTn6p2JfXztnFeluzTf+frn6cN4gNT4p4a8Q3IvZEXByxGlG/NvP/fVXqdV3+SFUoludFZJuDpo8OWrBDuaav/2tFHzcp+vmPyA/zGTDI5/mk35sn3X/BK0uAAAECkxA4ZBKd6pMAAQIECDQgcHStjfxBdivptVH5TREnbTSSv7maNyUz8jc1PxKRXyXwbxHvihjmJkcUbyRt9RiHHcSgTxlU7dZvaB1b7ZjhZflExXocZ92g36HnbyUev1EofwM4bwL1m+TKG1qDpr21gtlHE6k87mwvb/wNk8rfxsx69faGaWtUZXMy62G1xvP85I2in4zIm4z5W9Z5k/j3Im4akTfa8zoYND0wCv51xOKgFWrluk1oXbdWbpjXcj5l8qWI29TamIbVD8Ug/ybi14vB5rnKyN+Y/s+I6n38nZHPSchJpR9Ex+dEVJMduXxZRN6ovV9Elcob39W2QZc3rBX829r6sKvX7FEhr5cXRdyrR5leu7pdy53qtOE9sNO4hnmdZf3650Wvz8wXR/nfKTrN958nF+tV9g6RKSdAXxXrl1U7W7xs+v901aEeFpmnRzwhYjOff92uy/zFmHyKpEo5YT1MGrZ82XbT13/983cUn+eTfm+edP/l+ZMnQIAAgQkIbJ9An7okQIAAAQJbFTgmGqjfKNjKD5M5nrw5dkrE8yP2RZTpkFi5S8QTI14fkTfN3hiRN9XGmfI3aceZvjtkZ/Ufyus3NIZsbiqKl8eYNzTzOhom1c3y2u6Xhu2jX3ub2V8ed9bf6rUyyHFvZpxbqZO/Abtai/+I9TdE/HbELSI+FVGlnCz5P9XKAMvHRJl8H1kcoGy3It3+L9/0+enWfxu3/2YM6vcj6jd90+r2Eb8ekb8N/PWInAQ5NWJbxCTSGUWnOXGwGPELEdV5zc+at0RsNl1zsxW71Mubvp3SnWJjTixtdvIj26yOOfP9UhveAzuNcavvg/XXbdlHvte8p9jwyMjn/03q6XG1DS+prbd19da1gW31/3TZXE5O/2PEkyM2M/kR1bq+N+RkeJm+V64MkB/2WimbbPr6r193w47tO+XgIt/t83zS782T7r/GZJUAAQIExikwzH80xzkufREgQIAAgV4CPx47yxtW+cPal3tVGHDfFVHuCRH51RLPjPh4RKcfNPMH6ZMi3haRX5N19QiJAIH5Ejg/DvdBEeXNoqfH+iBPTtwiyuVv45fvY+fF+lMjfiLi5hH5m8d5Ay/LVHHfyEu9BfIJnD+NOD4iJ6TeH1Gf1I5NB264L8Xy7Ih3RVwvYtwpJ2CqG715jn8xIm9sV+lVkek09mp/v+Vmb/p2azfHWE/5W/A5zvKmZ07cPDfiwRG3jbhmRD4tlfXLiFVpCIF8wqZK141Mvv+UKY3zKbQqfSwyH61WWry8WoztxNr4PlFb38zqU6LSTxcV90f+nIhfivixiOtHHBmxI6K8Ll8R6/1S/n+xTMO+1vK9fd7SpN+bJ93/vJ1vx0uAAIFWCZgAadXpMBgCBAgQGFDgfrVyH4j1/MGmqfSlaOiPIu4Yce2IB0T8WcSHI+r9nBzb8gbaLKa8ATtMqv9G5KXDVB6gbBv/31Ie4xFxDMOOsW727QEc2lCkPO4cz1avlWk57rr9F2NDvldUKW8GP69a6bHMG/NZtkrPicztIp4V8Y6IL0TkbxTXb7JdPbYNkpo+P4P0Ocoyw76uciwXRvx5xN0j8uZ8TiytRLwroj6pkE8u5JMW474puRZ9/kNElZ4YmROqlVieUeQ3k/1WrVJ+lpU3eofNL9fay9WHRNyy2L4r8jnB96SIN0Tkkwv5+t4dUaZBr+WyTtvzW30frL9u68f72thQntO8kV+mfJrp6GLDS4t8m7P3icHlJESVvh+ZT1Yrm1weFvXyGqxStpmv81MiXhbx7xFfj+j05OYg12b9M6ucAIxm+6Zhy/dtcAsF6tfdVq/juk19aJN+b550/3UP6wQIECAwBoHN/DAxhmHpggABAgQIdBXIH2ofU9v75tp6k6v5g9w/R+R3/OeTJzeJeG7E/ogq3T8yP1utzNDyZkMeS/7WepkuKleKfGl3SLG9X7a8sdOv7Lj2X1x0lDcThzUrbxzujfrfKdprc7Y87hxn/dz3G3t53Fm23l6/+m3a/zcxmK8UA/qZyN+zWO+UfWCx8bORzwmR+uRqUeSH2eN+mOudyRs8ZRrmuswbkTctKzeYn9RrP29+5sTS0yOWIvJpjz+IuDyiSj8SmfpnS7VvlMszisbL97h8Iuijxb7NZOvvwdfeTCN96pTXck7oPCriu33q5O5Br+UBmmpNkWFeZzno+vtm/XzVDywnkcrrJf/vcYOi0GOLfF7b5eRasat12V+vjSifrq1P/taK9F3NSZV8uqNK+Uss769W+iwHuTZzEjUnUKp02yoz4HLY8gM2u6liF9dq1a/L2u6DVrfyeT7p9+ZJ938Qpg0ECBAgMBqB7aNpVqsECBAgQGBkAr8aLZc3cfbE+pkj6+3ghr8am54U8bTargfV1qvVQW5qVmXbtsyviBgmleXzvOQNvE6pvDlW3vDrVLbcdkK50ic/LveP1MZxl9p6r9XrxM7jiwIfj3x5g7jY1brsN2NEXy5GdfvIX7VY75e9a61A3bG2u9WrOXH1rNoI6+8P5e4jYqW8wZY3+/LG8SCp7tatTv3Gefna7Fan2n5iZHKieRRpHK/9QcZ9SRT6k4jH1Qp3ex+vFWt09dPRWv42ej2VN7rr+wZd/0Ct4DDvT7WqXVfLm6V5LF/pWvLKOwa9lq9cq91r+eTLMJ9p9dflIO+DLy4IcrLy0RvreR7uU+w7O/LTMKF+pxjnA4pxZ/bvauubWS2vy6z/LwM2cmiUyzENkj5UFLp+5Ot9FrsPyt77oC2T29Cmz/NJvzdPuv/JXQV6JkCAwIwLmACZ8RPs8AgQIDBjAneM48nf4ivTS2Ilf2AZd3pFrcPF2nq1mhMBZcofrqcl5U2AQX+gz9+evnVxYHkjp9tvcJa/bVjWKap3zN6/49bOG8fl/r5a9w+trfdaPT12bisKvL/IT0O2PPa8qX/SEIN+eK3stB17bfgLL48N3yg2/mTku93gPaool9lyUqC260qrV4u1/3WlLd1X6p75NUWDpmGu4UHbrMqN47Vf9TXI8jVRqHyvWByk0gjK1Cc7ckKsid/e/3C0U15fD471pj+Dyuu57Ksf0yP6FZjC/fmzdX7F0iDpkChUls2J1EEmQHKS6d1FBzkBkp8jv1Rsy+w0fP3VNWKc+Ros70n8R6z/U8RWU3ldZluDXpsnR9nDBuz8nbVyeS4GScdEoZ8fpOAYy7Tt83zS782T7n+Mp15XBAgQmA+B8j8b83HEjpIAAQIEplVgKQb+loirFgfw9civFOvjzNZ/mO52s/87tUEdV1tv+2p+Tcwg6Y9qhXrdvMsbHFW6WWTyt2b7pXtEgXv2K1TsH5d73gDJ67BK+ZusP1qt9FgeGfv+d23/39fW2756Zm2Avx/rg/zfMm/83LGoe17kP1asT2M2b6I/rzbwP6ytV6uXVpmN5S1r691W88mzY7rtrG3/bKz/e7EtXztLxXq3bD5d92vddjawfRyv/WGGuS8K/6Co0O19vCgykmxOoN2riLtE/vwGesrje1nRzg0j/zvFehPZ8nq+eTQ4yHvAfaLcTzfReQvbeHKM6dABxvWrUeY6RbnXR768FotdB2VfVGw5PvJp+ahi22ciX06SFLtak71xjOTtEXnNVGl/ZH4zIicAt5rK6zLbGuR9Nic+/nCIjvMzu5xAfXys5/nol/4sCuSEdpvSmbXBTPrzfNLvzZPuv3Y6rBIgQIDAVgUG+Q/qVvtQnwABAgQIbEUgb5D/VcS/RhxbNLQ78vmbyvnofhPpidHI1Ydo6BG1snnDoVOqb79vp0It3vbIGNtpfca3HPvL32TNyYdeN/Nz0qBM/W44XD8Kv7KsMED+i1Emf4Ct0qjc90YHL6w6iWX+3yrHeq1iWz2bZV4SccNixwcin7+tPU0pf0v3C8WAc1Ijb+z0Snlz6G9rBfL1PQspr4NvFweSk2F3Ktar7GWRyeuzSvnkTL9JwCzT73VStVctX1BlNpYvi+V1a9vK1UNiZWfE0eXGhvOjfu3n5E15U7nf8H82ClyzKFR/vy52jTT7/Wj9PUWUk1db7fjPo4G85qr0rMjkZ+cwKa+J8j2+rPufxUra/0Kx3il789iYnw/51MIsprzRXp8MrR9nPjH5J7WN9ddrbfeVVl8ba+X/ffLzpPzlipdeqXS7VvJaenLERyPuXBva78V6vg6aSOV1me3l5ESva25H7E+3EyIGTXkOXlwUzkmNt0QsFtvKbPb/1IhfLje2JD/qz/NJvzdPuv+WnGbDIECAAAECBAgQIEBglAKL0fh6EV+LfG4r46axnjcF7h1xasSzI94dsT+irJv5SyN+OmKQtBKFyvqLXSpV7eYPs9n24V3K5fb8QXp3RNXuWuRvH9Ep5aRK3nyqymb+9yPuGnGziMUi8sZAPa3GhqrurvrOAdaXokxVP5fLEd3SUuwoy+bN3Fy/IiJ/aK+b5NcerUTsiyjr/Uqs90r5W+ylSdZ9bkS9/ZwoODniKxFZphpP1ddybOuV8kZKVTaXeXPjJyLyZvNiEeWNo9h8IK3Ev2XdxQNbO/+T4/6viLJ8rt+nQ/G8zt9cK7sn1u/QoWy5qWx7Z7mjT34p9pd1l/uUH3Z3eub1X/bxiliv32jfFtseHHF+rez7Yn1HRK+0K3ZW7a/2KrjFfUtRv+onl7sihk3PiAplG+d0aeDZtXJfivV7dih7VGx7ZkROtGW7+RVSZfvLsd4t5esnfcvyn4v1+3aokK+Jtxdly9faaofy5aZdsVL1sVru6JAf9Ws/+7884h8ifj4i3387pUNi4yMjLo2oxp7LB0U0lVaiobLtnMRqKu2Mhsq2T+zT8MNr5bPu30fkZ263lO/vOea/i8gJmpyk7ZR+NjaWY8n39kdH1F/XV4ltaX5hRJavX8s7Y1u3tBg7yj5WuhXssH05tpV1lzqU2cqmsu3ydZPXYP2zJV+TD4u4JKKs96pYHzY9LyqUbVT5/LweZhJw2H6r8quRqfrMZb5/LdYiJxPuHvHAiPx/z5si8loq62U+/5/3lIhB0lIUKusvd6mUr/Gv1cqeGeudbG4f299RlK1fm7Gra8r3mC9HlGPKY3xOxP0ibhWRE+GPiSjfj8+K9bLOSqx3S0uxoyy73K1gh+0rsa2su9ihTLVplJ/nq9HJKN6bl6Pd8viWYr1TWo2No+i/U1+2ESBAgAABAgQIECAwpwKLcdzlDyhbyb812rrZEI4rtb4Xu9StjylvOH4iIm9W542ivEHx7oj6jfus9xcRvdLfxs56+53WVzo0slrU3dVhf79NS1Gg7Gu5R4V62SdH2Qsiqvrfjfy/RORNhLdFdLqRcW5s3xbRLz01ClTtVst8cuSfI/LG0T9FXBRR7csbEnlTrVrP5XJEr/TQ2FmW75bf1aGRlVrdxQ5lyk359EN586vq6/Ox/fURr4n4UMRaRLUvl7n+axH9UllnZ7/Cxf6lyJd1l4t9TWVXoqGyj8zvi3hvRL5u3hDx1Yh6mfNj2/ER/dKuKFDVXe1XeAv7l6Ju1U8ud0UMm64VFcrXRZ7fTjen8yZc/SZo9vnpiLMjXh2R7zd5M7MaU74GHlWs5/bliF7plrGzfjMv6+V1ma/VvAn3kYiqj1y+NGJXsW018r3SrthZ1V/tVXBj3yhf+9l/NZZcpn9ORub7Sr5vZbwzoj7xkWXTo8m0Eo2VYzmpwcZ31trudI3Vu8sb0PX3nxzfBRFviUibfJ/KfD4JU//lg24TIFF04V0R5bFm/usR+drP9/P83CjfH7PtnGwq6+yM9W5pMXaUZVe6FeywfTm2lXWXOpTZyqay7VdEQ/nZWG3L98H3ROT74Bsj0rraVy0/F9s63ZSPzT3TrWNv1Ua5fG3PWs3tXO3SfzmWQfKfjXZ+YohhLdX6Xe5RNycd6mPYHdvyes3rMj+b8/2hLJPvvztr22K1Z7pt7C3/v1K21yn/vih/i4hy39N69LBUK7vco2x910psKPtZrBeora/Eelk+8018nq/W2m3qvXm51u5SrHdKq7GxPK6m+u/Ul20ECBAgQIAAAQIECMypwGIcd/mDx7D5y6P+6yKWIoZNK1Gh7G+xSwNlmUHz+QPUX0Rs79JmtfnIyHS6QVTvZ6WqUCxXI1+V21VsHzS7FAWr+rlcjuiWlmJHvewdYtugP9j/Y5Q9NGKQlL+dmTfbyv665fNGWk4wLNXKL8d6v9Ttt2TLvnZ1aGQltpVlFjuUqW+6XWz4ckRZr1c+r+tH1hvpsl62s7NLmU6bl2JjWXe5U6EGtv1utLE3ouyrV/68KLsYMUjaFYWqtlYHqbDJMktRr+onl7siNpPyPaFsJyczOqV7xcac9CvLdst/I8r9aMRSrfxyrPdL+RrO+t3aLrfnTdp8De8qyq9GvlfaFTurNlZ7FdzYN8rXfvZfjWWYZZ6jq26Mr6nFSjRUjmHSEyB5XKdElBMR5fj65XMSqVu6buz4dES/NnJ/TuotR2Qqy+88sKXzP4uxuSy70rlYx63LsbWsu9Sx1OY3lm3vjGaOifhgRLm9Wz5v/t8oYrOp0/8rfmazjQ1ZbzXKdzuuftvz/045MZSff/l+MExaisJl+8t9Kg/yf4CqvZywOyxiZ0S1LZeDpFtHofdHlPU65V8ZZa4WcZta2fwM7ZaWYkfZ1nK3gh22r8S2su5ihzL1TTmWpj/PV6PNchyD5vu9Ny/X2l2K9U5pNTYO2mdZrl//nfqyjQABAgRaKNDvhk0Lh2xIBAgQIDCjAvkDcd4Q/kbExyPOjfiTiAdGHBuRN252RYwq3TMa/r8R2Xf+dmqvlDdw8gfle0Q8ISLH3ivlb4TfN+LkiDMjPhWRNz7zt+rantIjb6C+POKyLoPNm/6PjXhwRNoMkvLYT494fMQlXSqk24sjbh/xsS5l+m1+YhS4S8QLIj4c8c2IQccYRYdK/xml86bGH0Zc0KNmHtcrIm4VcUaPctO067kx2JwAyt8+zt+w7Za+FDvynOc1tRoxi+k5cVDlNXZarOe5rqd3x4Y7R7wpIm+4dErfio157abtRzoVGGDbx6PMCREvi8j32E7pC7HxtyOGeQ13ameQbaN87ef4nx7xgYi8gdcr5fv22yPyM+ZhEXsiZj29Lg7wJhH5HvXFAQ72K1Emr5ufjkinbunC2PHjEX8V0e0ay9fEuRE/FrEzYlbTt+PA7hOxEvH1iE4pP//z/xu3j/hqpwIDbntRrVyer7fWtk1qNd/T8rPgmxGfjsingJ4f8YiIG0Tk/7ny82/U/w/K/wNkn/ke1y19InY8LiLfP3p9fnWrn9v/K+IeEadGnB3xpYh8LeT1kP83eHHEXSN+MSL/L3V0RJnymmhLem4M5HYRTX6ep+0k35sn3X9bzq1xECBAYG4Fts3tkTtwAgQIECDQXeDqsevEiJtFHBuRv62XN8cujfhMxMcivhcxbyld7h1xo4hjIvLJkPMiqt92jeymUv4G6N0i8ibtNSPSOW/kvCsiJwumNd0hBp43Ea4TcWjExRF50/G9EeUN8lidqZSvl3tF3Dji2hF5EyivlXzd5I0w6WCB68emNLthRL4eciI4XwPvidgb0VTK1/D9IvLc5HnKibrPRnwoIm9YjjuN8rV/WBxMvo/fPOK4iCMj0jJvNH4+4qMROcE0z+kmcfA5IZHvUfmenj7fjViN+FTEZm7O5zWW13K6p/klEedHvC/i2xHzlHbEweaN/uMjrhuRtvkZ8M6I/D/FVlNOSuUEapVWIpM3maWDBbbHpjtG3CkiP5dyEiInqD4Zkdf6uNOjo8O/Kzr9uci/sVhvS3YUn+eTfm+edP9tObfGQYAAAQIECBAgQIAAAQIECBAgQIAAgdYKvDZGlhOXGfsjbhQhTYfAy2KY1bnLZU5+SwQIECBAgAABAgQIECBAgAABAgQIECBAYO4F8omSfJKwuon+T3MvMj0A14ih5lPE1bnLJ/EkAgQIECBAgAABAgQIECBAgAABAgQIECBAIASeEVHdQM/lg6hMjcBLa+fuOVMzcgMlQIAAAQIECBAgQIAAAQIECBAgQIAAAQIjFFiMtssnCL4Q6/n3RqTJCDwmun1yxBF9ur9q7H9+RDlxlX935xZ96tlNgAABAgQIECBAgAABAgQIECBAgAABAgRmUmAxjirjdhH5x7O/HFHeRF+OdWlyAk+KrvN85KTUGRGPjbhLRE5snBjxUxH5xM5XI8rzlvmnRUgECBAgQIAAAQIECBAgQIAAAQIECBAgQGAuBeo3zcv194XI9rlUac9BVxMg5XkZJP8PcQiHtOcwjIQAAQIECBAgQIAAAQIECBAgQIAAAQIECIxXoNvN9C/GMG403qHorYNAPvGxFtHtPNW3fzPK5qTJtgiJAAECBAgQGIOAD90xIOuCAAECBAgQIECAAAECBAhsQiBvoFfp8sh8LuL1Ec+L+E6ENHmBG8QQHhBxz4gTIm4ccY2IfMIjz9ElER+NeEfEayLy67IkAgQIECBAgAABAgQIECBAgAABAgQIECBAgAABAgQIECBAgAABAgQIECBAgAABAgQIECBAgAABAgQIECBAgAABAgQIECBAgAABAgQIECBAgAABAgQIECBAgAABAgQIECBAgAABAgQIECBAgAABAgQIECBAgAABAgQIECBAgAABAgQIECBAgAABAgQIECBAgAABAgQIECBAgAABAgQIECBAgAABAgQIECBAgAABAgQIECBAgAABAgQIECBAgAABAgQIECBAgAABAgQIEDhYYNvBm2whQCAF1tfXfxCLq0asRVwUIREgQIAAAQIECBAgQIAAAQIECBAgMLjAsVF0e8Sebdu2HTF4NSUJNCNgAqQZR63MoEBMgOyLw9oxg4fmkAgQIECAAAECBAgQIECAAAECBAiMU2B/TIAcMs4O9UUgBVx0rgMC3QXyyY8dMRGysLaWWYkAgWkV2LHjv+cy9+/fP62HYNwECBAgQIAAAQIE5kbA/9/n5lQ70DkQ2L59+0JMfOSRurk2B+e7jYdoAqSNZ8WY2iKQX3t1g5z8uPDCC9syJuMgQGBIgfzP1nHHHXeg1sUXX2xCc0g/xQkQIECAAAECBAiMU8D/38eprS8Coxe47nWvu7Axqenr5UfPrYcOAvn9axIBAgQIECBAgAABAgQIECBAgAABAgQIECBAYKYETIDM1Ol0MAQIECBAgAABAgQIECBAgAABAgQIECBAgEAKmABxHRAgQIAAAQIECBAgQIAAAQIECBAgQIAAAQIzJ2ACZOZOqQMiQIAAAQIECBAgQIAAAQIECBAgQIAAAQIETIC4BggQIECAAAECBAgQIECAAAECBAgQIECAAIGZEzABMnOn1AERIECAAAECBAgQIECAAAECBAgQIECAAAECJkBcAwQIECBAgAABAgQIECBAgAABAgQIECBAgMDMCZgAmblT6oAIECBAgAABAgQIECBAgAABAgQIECBAgAABEyCuAQIECBAgQIAAAQIECBAgQIAAAQIECBAgQGDmBEyAzNwpdUAECBAgQIAAAQIECBAgQIAAAQIECBAgQICACRDXAAECBAgQIECAAAECBAgQIECAAAECBAgQIDBzAiZAZu6UOiACBAgQIECAAAECBAgQIECAAAECBJGznNsAAEAASURBVAgQIEDABIhrgAABAgQIECBAgAABAgQIECBAgAABAgQIEJg5ARMgM3dKHRABAgQIECBAgAABAgQIECBAgAABAgQIECBgAsQ1QIAAAQIECBAgQIAAAQIECBAgQIAAAQIECMycgAmQmTulDogAAQIECBAgQIAAAQIECBAgQIAAAQIECBAwAeIaIECAAAECBAgQIECAAAECBAgQIECAAAECBGZOwATIzJ1SB0SAAAECBAgQIECAAAECBAgQIECAAAECBAiYAHENECBAgAABAgQIECBAgAABAgQIECBAgAABAjMnYAJk5k6pAyJAgAABAgQIECBAgAABAgQIECBAgAABAgRMgLgGCBAgQIAAAQIECBAgQIAAAQIECBAgQIAAgZkTMAEyc6fUAREgQIAAAQIECBAgQIAAAQIECBAgQIAAAQImQFwDBAgQIECAAAECBAgQIECAAAECBAgQIECAwMwJmACZuVPqgAgQIECAAAECBAgQIECAAAECBAgQIECAAAETIK4BAgQIECBAgAABAgQIECBAgAABAgQIECBAYOYETIDM3Cl1QAQIECBAgAABAgQIECBAgAABAgQIECBAgIAJENcAAQIECBAgQIAAAQIECBAgQIAAAQIECBAgMHMCJkBm7pQ6IAIECBAgQIAAAQIECBAgQIAAAQIECBAgQMAEiGuAAAECBAgQIECAAAECBAgQIECAAAECBAgQmDkBEyAzd0odEAECBAgQIECAAAECBAgQIECAAAECBAgQIGACxDVAgAABAgQIECBAgAABAgQIECBAgAABAgQIzJyACZCZO6UOiAABAgQIECBAgAABAgQIECBAgAABAgQIEDAB4hogQIAAAQIECBAgQIAAAQIECBAgQIAAAQIEZk7ABMjMnVIHRIAAAQIECBAgQIAAAQIECBAgQIAAAQIECJgAcQ0QIECAAAECBAgQIECAAAECBAgQIECAAAECMydgAmTmTqkDIkCAAAECBAgQIECAAAECBAgQIECAAAECBA5BQIAAAQIECBAgQIAAAQIECBAg0Flg/Xvf6bzD1pEIrG/fvrD/8KseaDvt19fWRtKPRjsLbLv6UZ132EqAAIEpFTABMqUnzrAJECBAgAABAgQIECBAgACB0QusPfEXR9+JHn4okNMdF/xwTWbcAjte8oZxd6k/AgQIjFTAV2CNlFfjBAgQIECAAAECBAgQIECAAAECBAgQIECAwCQETIBMQl2fBAgQIECAAAECBAgQIECAAAECBAgQIECAwEgFTICMlFfjBAgQIECAAAECBAgQIECAAAECBAgQIECAwCQE/A2QSajrkwABAgQIECBAgAABAgQIEJgKge3Pe+VUjHOaBrl+yYULCxeef9CQ1y+/bGHhzBddefvDf2Vh2+FXu/K2bdsWtp1wxytvs0aAAAECBDoImADpgGITAQIECBAgQIAAAQIECBAgQCAFtl39KBBNC3zvOwsLhx/RsdX12tac/NjWqezVjlzYtmNHrbRVAgQIECBwZQFfgXVlD2sECBAgQIAAAQIECBAgQIAAAQKjFNi3d+utN9HG1kehBQIECBBouYAJkJafIMMjQIAAAQIECBAgQIAAAQIECMyUwF4TIDN1Ph0MAQIEWixgAqTFJ8fQCBAgQIAAAQIECBAgQIAAAQIzJ7Bv39YPqYlJlK2PQgsECBAg0HIBEyAtP0GGR4AAAQIECBAgQIAAAQIECBCYKYH9ngCZqfPpYAgQINBiARMgLT45hkaAAAECBAgQIECAAAECBAgQmDmBJp4A2b9/5lgcEAECBAg0L2ACpHlTLRIgQIAAAQIECBAgQIAAAQIECHQQWM+Ji/X1DnuG3NTEJMqQXSpOgAABAtMnYAJk+s6ZERMgQIAAAQIECBAgQIAAAQIEplOgqYmLJr5GazoFjZoAAQIEhhAwATIElqIECBAgQIAAAQIECBAgQIAAAQJbENjfwB9Az+6bmkjZwqGoSoAAAQLtFzAB0v5zZIQECBAgQIAAAQIECBAgQIAAgdkQMAEyG+fRURAgQGBKBEyATMmJMkwCBAgQIECAAAECBAgQIECAwNQLNPXkRlMTKVMP6gAIECBAoJeACZBeOvYRIECAAAECBAgQIECAAAECBAg0J9DUxEVT7TR3ZFoiQIAAgRYKmABp4UkxJAIECBAgQIAAAQIECBAgQIDATArs39/MYe1fa6YdrRAgQIDATAuYAJnp0+vgCBAgQIAAAQIECBAgQIAAAQItEmjsyY31hfWmJlNaxGMoBAgQINCsgAmQZj21RoAAAQIECBAgQIAAAQIECBAg0E1graEnQLL9JtvqNl7bCRAgQGCqBUyATPXpM3gCBAgQIECAAAECBAgQIECAwBQJNPnURmNPk0yRn6ESIECAwFACJkCG4lKYAAECBAgQIECAAAECBAgQIEBg0wL79m266kEVm5xMOahxGwgQIEBgFgRMgMzCWXQMBAgQIECAAAECBAgQIECAAIFpEFhr8I+XewJkGs64MRIgQGCiAiZAJsqvcwIECBAgQIAAAQIECBAgQIDAHAk0+Xc7mpxMmaNT4FAJECAwTwImQObpbDtWAgQIECBAgAABAgQIECBAgMAkBZr82qr9DT5NMkkTfRMgQIDAyARMgIyMVsMECBAgQIAAAQIECBAgQIAAAQJXEmjyqY0mnya50iCtECBAgMCsCJgAmZUz6TgIECBAgAABAgQIECBAgAABAm0XaHLSosnJlLa7GR8BAgQIbErABMim2FQiQIAAAQIECBAgQIAAAQIECBAYRmB9fX1hIaOpZAKkKUntECBAYGYFTIDM7Kl1YAQIECBAgAABAgQIECBAgACBFgk0PWHR5NMkLWIyFAIECBBoTsAESHOWWiJAgAABAgQIECBAgAABAgQIEOgm0PSERdMTKt3GbTsBAgQITK2ACZCpPXUGToAAAQIECBAgQIAAAQIECBCYIoG1Br/+Kg/bBMgUnXxDJUCAwGQETIBMxl2vBAgQIECAAAECBAgQIECAAIH5Eljf3+zxrq81257WCBAgQGDmBEyAzNwpdUAECBAgQIAAAQIECBAgQIAAgRYKeAKkhSfFkAgQIDDbAiZAZvv8OjoCBAgQIECAAAECBAgQIECAQDsEmn5iY73hr9Rqh5JRECBAgECDAiZAGsTUFAECBAgQIECAAAECBAgQIECAQBcBT4B0gbGZAAECBEYlYAJkVLLaJUCAAAECBAgQIECAAAECBAgQ+B8BfwPkfyzkCBAgQGAsAiZAxsKsEwIECBAgQIAAAQIECBAgQIDAnAt4AmTOLwCHT4AAgfELmAAZv7keCRAgQIAAAQIECBAgQIAAAQLzJ9D03+xour35OyOOmAABAjMvYAJk5k+xAyRAgAABAgQIECBAgAABAgQItECg6QmLpttrAZEhECBAgECzAiZAmvXUGgECBAgQIECAAAECBAgQIECAQCeBpicsmm6v05htI0CAAIGpFjABMtWnz+AJECBAgAABAgQIECBAgAABAlMisL7W7ECbbq/Z0WmNAAECBFogYAKkBSfBEAgQIECAAAECBAgQIECAAAECMy/Q9BMb6zMv5gAJECBAYIsCJkC2CKg6AQIECBAgQIAAAQIECBAgQIDAAAJNP7HRdHsDHIIiBAgQIDBdAiZAput8GS0BAgQIECBAgAABAgQIECBAYDoFmn5io+knSqZT1agJECBAoIeACZAeOHYRIECAAAECBAgQIECAAAECBAg0JDCCCYv1EbTZ0NFqhgABAgRaIGACpAUnwRAIECBAgAABAgQIECBAgAABAjMvMIrJilG0OfMnwgESIEBgfgRMgMzPuXakBAgQIECAAAECBAgQIECAAIEJCjT9HVh5KKNoc4JEuiZAgACBRgVMgDTKqTECBAgQIECAAAECBAgQIECAAIGOAqN4WmPNBEhHaxsJECBA4ICACRAXAgECBAgQIECAAAECBAgQIECAwOgFRjJXMZJGR2+hBwIECBAYi4AJkLEw64QAAQIECBAgQIAAAQIECBAgMOcC62vNA5j/aN5UiwQIEJghARMgM3QyHQoBAgQIECBAgAABAgQIECBAoL0Co5itGEWb7RU0MgIECBAYTsAEyHBeShMgQIAAAQIECBAgQIAAAQIECGxGYBRzFf4GyGbOhDoECBCYGwETIHNzqh0oAQIECBAgQIAAAQIECBAgQGCCAqP4CqyFUcyqTNBI1wQIECDQqIAJkEY5NUaAAAECBAgQIECAAAECBAgQINBRYBRzFeujaLTj6G0kQIAAgSkUMAEyhSfNkAkQIECAAAECBAgQIECAAAEC0ycwismKUbQ5fbJGTIAAAQKdBUyAdHaxlQABAgQIECBAgAABAgQIECBAoEmBUTytYf6jyTOkLQIECMycgAmQmTulDogAAQIECBAgQIAAAQIECBAg0EKBUUxWjOTvirTQzpAIECBAYFMCJkA2xaYSAQIECBAgQIAAAQIECBAgQIDAUAKjmKwYxaTKUAelMAECBAi0WcAESJvPjrERIECAAAECBAgQIECAAAECBGZFYCRfgbU2KzqOgwABAgRGIGACZASomiRAgAABAgQIECBAgAABAgQIEKgJjGQCpNaHVQIECBAgUAiYACkwZAkQIECAAAECBAgQIECAAAECBEYlMILvqxrF12qN6vC1S4AAAQJjFzABMnZyHRIgQIAAAQIECBAgQIAAAQIE5lBgbQQTIAujaHMOz41DJkCAwIwKmACZ0RPrsAgQIECAAAECBAgQIECAAAECrRIYxVdgjWRSpVVqBkOAAAECWxAwAbIFPFUJECBAgAABAgQIECBAgAABAgQGFRjF0xqjaHPQ41GOAAECBNouYAKk7WfI+AgQIECAAAECBAgQIECAAAECsyCwttb8UXgCpHlTLRIgQGCGBEyAzNDJdCgECBAgQIAAAQIECBAgQIAAgdYKjOIrsEbRZmsBDYwAAQIEhhUwATKsmPIECBAgQIAAAQIECBAgQIAAAQLDC4xismJt//DjUIMAAQIE5kbABMjcnGoHSoAAAQIECBAgQIAAAQIECBCYoMD6CL4CaxSTKhMk0jUBAgQINCtgAqRZT60RIECAAAECBAgQIECAAAECBAh0EhjF3wAxAdJJ2jYCBAgQ2BAwAeJSIECAAAECBAgQIECAAAECBAgQGL3AKCYrRvFUyegl9ECAAAECYxIwATImaN0QIECAAAECBAgQIECAAAECBOZVYH0UT38k5igmVeb1JDluAgQIzKCACZAZPKkOiQABAgQIECBAgAABAgQIECDQKoFRTYCMqt1W4RkMAQIECGxWwATIZuXUI0CAAAECBAgQIECAAAECBAgQGExgVF9VZQJkMH+lCBAgMKcCJkDm9MQ7bAIECBAgQIAAAQIECBAgQIDA2ARGNVExqnbHBqMjAgQIEBilgAmQUepqmwABAgQIECBAgAABAgQIECBAYGFhVBMVo2rXOSNAgACBmRAwATITp9FBECBAgAABAgQIECBAgAABAgRaLDCqiYq1/S0+aEMjQIAAgUkLmACZ9BnQPwECBAgQIECAAAECBAgQIEBg1gVGNQEyqr8tMuvnw/ERIEBgTgRMgMzJiXaYBAgQIECAAAECBAgQIECAAIGJCayP6EmN/WsTOyQdEyBAgED7BUyAtP8cGSEBAgQIECBAgAABAgQIECBAYLoFRjVR4Suwpvu6MHoCBAiMWMAEyIiBNU+AAAECBAgQIECAAAECBAgQmHuBUU1UjOqrteb+hAEgQIDAbAiYAJmN8+goCBAgQIAAAQIECBAgQIAAAQLtFdg/qq/A2tfeYzYyAgQIEJi4gAmQiZ8CAyBAgAABAgQIECBAgAABAgQIzLjAqCZA1tcX1j0FMuMXj8MjQIDA5gVMgGzeTk0CBAgQIECAAAECBAgQIECAAIFBBEb1FVjZ9yjbHuTYlCFAgACB1gqYAGntqTEwAgQIECBAgAABAgQIECBAgMCMCIzqCZDkGdUfWJ8ReodBgACBeRYwATLPZ9+xEyBAgAABAgQIECBAgAABAgTGITDKpzT2+zsg4ziF+iBAgMA0CpgAmcazZswECBAgQIAAAQIECBAgQIAAgWkSGOkTICP6A+vT5GusBAgQINBRwARIRxYbCRAgQIAAAQIECBAgQIAAAQIEGhPYN8KnNDwB0thp0hABAgRmTcAEyKydUcdDgAABAgQIECBAgAABAgQIEGibwCgnKUb5dEnbHI2HAAECBIYSMAEyFJfCBAgQIECAAAECBAgQIECAAAECQwuMdAJk79DDUYEAAQIE5kPABMh8nGdHSYAAAQIECBAgQIAAAQIECBCYiMD62trCQsaokidARiWrXQIECEy9gAmQqT+FDoAAAQIECBAgQIAAAQIECBAg0GKBUU9QjPLvi7SY1dAIECBAoL+ACZD+RkoQIECAAAECBAgQIECAAAECBAhsVmD/iL+iygTIZs+MegQIEJh5ARMgM3+KHSABAgQIECBAgAABAgQIECBAYIICo56gGPUEywTpdE2AAAECWxMwAbI1P7UJECBAgAABAgQIECBAgAABAgR6Cewb8RMge0fcfq9js48AAQIEWi1gAqTVp8fgCBAgQIAAAQIECBAgQIAAAQJTLjDqCYr9+6YcyPAJECBAYFQCJkBGJatdAgQIECBAgAABAgQIECBAgACBhYWRfwXW/oX1tTXSBAgQIEDgIAETIAeR2ECAAAECBAgQIECAAAECBAgQINCYwKi/AisHOo4+GgPREAECBAiMS8AEyLik9UOAAAECBAgQIECAAAECBAgQmEeBUT8Bkqbj6GMez51jJkCAwJQLmACZ8hNo+AQIECBAgAABAgQIECBAgACBVguM4+mMfVe0msDgCBAgQGAyAiZAJuOuVwIECBAgQIAAAQIECBAgQIDAfAjsHcPkxF5/CH0+LiZHSYAAgeEETIAM56U0AQIECBAgQIAAAQIECBAgQIDAgALr6+sLC3v3Dlh6C8XGMcmyheGpSoAAAQKTETABMhl3vRIgQIAAAQIECBAgQIAAAQIEZl/gwN/miEmQUSdfgTVqYe0TIEBgKgVMgEzlaTNoAgQIECBAgAABAgQIECBAgMAUCIzryYxxPGUyBdyGSIAAAQJXFjABcmUPawQIECBAgAABAgQIECBAgAABAk0JjOvJjHFNtDTloh0CBAgQGIuACZCxMOuEAAECBAgQIECAAAECBAgQIDCHAuN6MmNc/czhKXTIBAgQmGYBEyDTfPaMnQABAgQIECBAgAABAgQIECDQZoFxPZmxb+/C+tpamyWMjQABAgQmIGACZALouiRAgAABAgQIECBAgAABAgQIzIXAFVeM7zA9BTI+az0RIEBgSgRMgEzJiTJMAgQIECBAgAABAgQIECBAgMDUCYzrCZCEuWLP1PEYMAECBAiMVsAEyGh9tU6AAAECBAgQIECAAAECBAgQmF+BcU5K7DUBMr8XmiMnQIBAZwETIJ1dbCVAgAABAgQIECBAgAABAgQIENiCwPr6+sLCWJ8AGePXbW3BRVUCBAgQGJ+ACZDxWeuJAAECBAgQIECAAAECBAgQIDA/AvGHyRdyEmRcaZyTLeM6Jv0QIECAwJYETIBsiU9lAgQIECBAgAABAgQIECBAgACBjgLj/APoOYBxft1WxwO2kQABAgTaJmACpG1nxHgIECBAgAABAgQIECBAgAABArMgMO6/yWECZBauGsdAgACBRgVMgDTKqTECBAgQIECAAAECBAgQIECAAIEDAnvG/EfJ4yuwDvzdEfwECBAgQGBDwASIS4EAAQIECBAgQIAAAQIECBAgQKB5gXE/kTHuP7revJgWCRAgQKBhARMgDYNqjgABAgQIECBAgAABAgQIECBAIATGPQGS6ON+6sSJJkCAAIFWCxzS6tEZ3NQJnHLKKXfevn37A2Lg94w4IeI6EXsjLoh4b8TLzj777PfEsms67bTTlmPny7sWuPKOR0d7O6+8yRoBAgQIECBAgAABAgQIECAwcYE9u8c/hElMuoz/KPVIgAABAgMKmAAZEEqx/gIxcfFvUepeHUoeGttusRHLD3nIQ86I7+R8XExcXNGhrE0ECBAgQIAAAQIECBAgQIDAlAusr63Fr0NO4Md+EyBTfuUYPgECBJoVMAHSrOe8t3b9DYB82uPsbdu2vTviK5HfERMed4v43cjfIJaPjLhK5B8e0TNFufvv2LEj2+uY9uzZ87WOO2wkQIAAAQIECBAgQIAAAQIEJicwicmPPNorJvDUyeSU9UyAAAECfQRMgPQBsnsogf+KCY+nxqTF6+Lpjv21mh84/fTTX7lv3778GqxbRrnT40mQF5511ln51EjXdMghh3z21a9+9WrXAnYQIECAAAECBAgQIECAAAEC7ROYxNdfpcKk+m3fGTAiAgQIEAgBEyAug8YEYtLjpF6NvepVr7rk1FNP/d2Y/HjjRrlTY9lzAqRXe/YRIECAAAECBAgQIECAAAECLRWY1ESEP4Le0gvCsAgQIDAZge2T6Vav8ypw+OGHv7M69nhS5GZV3pIAAQIECBAgQIAAAQIECBCYIYFJTYCs7V9Y37t3hiAdCgECBAhsRcAEyFb01B1aYPfu3VctKtW/JqvYJUuAAAECBAgQIECAAAECBAhMrcCkJkASbM/lU8tm4AQIECDQrICvwGrWU2v9Be5TFYmvwvp0le+23L9//8tPO+20W8X+a0d8N+LzEf8a8bfxlVvnx1IiQIAAAQIECBAgQIAAAQIE2iYw0QmQPQsLR7YNxHgIECBAYBICJkAmoT6nfa6srGw/77zznlIdfnwF1llVvsdyqdh3rchn3CXid+PviTz+ta997YuK/QNnTz755Bv2KxyTLzsiHSi2fbuHpfp52U+grQLl67fMt3W8xkWAAAECBAgQIEBg2gXW42uoFvbF11Bt2zbcoUT59VqN+OXJaGa4drbt3bOwzc/xNUmrBAgQmE8BEyDzed4nctSf/OQnnxD/afnxjc7PiSc4PtJjIF+MCZJzYv/7YxLiq1lubW3t+Kh/SmzPP55+WORfGE+HrEc7L879w6SqzV51Lr300oVrXetaCzkJctxxx/Uqah8BAlMicOyxx07JSA2TAAECBAgQIECAwPQKrF32/YU9xxwz9AGsHXqVhW/Vah191NEL248Y7nGO7UcesXBVP8fXJK0SIEBgPgVMgMzneR/7UcdERX711Z9tdHzRvn37fq3HIM6NSY1XxP76L358OLa9Jp78OCkmP3Jy5CoRfxFtvyHKfyPyEgECBAgQIECAAAECBAgQIDBhgfXLJ/s3OCbd/4T5dU+AAAEChYAJkAJDdjQCp5xyym2j5XMj8nrbHZMXp5177rkXdestJjO+021fbo+vvXpTTII8I9p5ZqxeLeKxEX8SMXCKr7e6Ub/CRx99dE64HBdlFy6++OJ+xe0nQKClAvm1V9WTHxdddFE+TdbSkRoWAQIECBAgQIAAgdkQWP/G+Qvr3/720AezfvkPDqpz6XcuXdh2RXyd1jBpW9S5zgW+BmsYM2UJjEjgOte5zoFvVxlR85ol0FfABEhfIgW2IhBPZ9w06r81Ip993R9fX/WwmOD4t620mXVjUuLFhxxyyDMim18Emk+XDDUBcs4553wt6vRM8dVX8aWl/53cMK0kLAlMt0C+lr2ep/scGj0BAgQIECBAgED7BdYvvyy+06H+pQ79xx33DA4qdGBbh+0HFSw3RPn13ZctbDssf2dSIkCAAIF5FvCXnef57I/42B/2sIddP7r414hcxv9Z1h8TT2/8YxPdbjxB8s2Ntm7QRJvaIECAAAECBAgQIECAAAECBBoQ2D3Zr8A6cAS7dzdwIJogQIAAgWkXMAEy7WewpeM//fTTrx1Pabwthnd8DjG+ruq3YvLjjIaHe/CvhjTcgeYIECBAgAABAgQIECBAgACBwQUOPLGxpw0TIC0Yw+BsShIgQIDAiARMgIwIdp6bja+9Oir+yPm/hMEJ6RCTH08566yzXtCkSfRxnWjv2httXtBk29oiQIAAAQIECBAgQIAAAQIENilwxZ5Nff3VJnvrXm2PJ0C649hDgACB+REwATI/53osR/qgBz0ov2DzzRF32ujwT2Ly49kj6PyXo838+x/53VrvGkH7miRAgAABAgQIECBAgAABAgSGFWjD0x855jZ8DdewdsoTIECAQOMCJkAaJ53fBuOpjEMPO+ywc0PgHhsKfxl/8PwPhhGJvxuyeMopp9yxV51TTz31pNj/RxtlLo8nTF7eq7x9BAgQIECAAAECBAgQIECAwJgE2jLxEBMxB76Oa0yHrRsCBAgQaKfAIe0cllFNqcCrYtw/vTH2d8TyZQ996ENP7HEsV7zmNa/5bLk/vjprcfv27e+MyZT3x39U3hj5/4i/JXJRltmxY8fxsTg1tp8ay+rpjyfF3xY5P/dLBAgQIECAAAECBAgQIECAwIQF2jIBsh5/NjS/juuqh00YRPcECBAgMEkBEyCT1J+9vk8uDul+kf/E2tpasemg7Jdjy+JBW/97w93iyY675W9rxCTIgS2139y4LDY+ISY/Xtylvs0ECBAgQIAAAQIECBAgQIDAuAUub9EfH788bh2YABn3FaA/AgQItErABEirTofBXHHFFR859NBDfyEkcgLkzrG8XkT+sfO8Vr8dcV5sf/vevXtfeu655x54MiS2SQQIECBAgAABAgQIECBAgMCEBQ784mJb/gZIWrTlaZQJnxfdEyBAYJ4FTIDM89lv+Njj730c+FqqrTT7hje84XtR/x82YitNqUuAAAECBAgQIECAAAECBAiMU2DP7oX4wxvj7LF3X7vzyyMkAgQIEJhnAX8EfZ7PvmMnQIAAAQIECBAgQIAAAQIECDQl0LYJB0+ANHVmtUOAAIGpFTABMrWnzsAJECBAgAABAgQIECBAgAABAi0SaNuEw549C+tr+1sEZCgECBAgMG4BEyDjFtcfAQIECBAgQIAAAQIECBAgQGAWBdr0B9AP+MbXce2Or+WSCBAgQGBuBUyAzO2pd+AECBAgQIAAAQIECBAgQIAAgQYF2vYVWHlol/s7IA2eYU0RIEBg6gRMgEzdKTNgAgQIECBAgAABAgQIECBAgEC7BNb37VtYuGJPuwaVo2njpEz7lIyIAAECMytgAmRmT60DI0CAAAECBAgQIECAAAECBAiMSaCtEw2eABnTBaAbAgQItFPABEg7z4tRESBAgAABAgQIECBAgAABAgSmR6CtEw1tnZiZnjNrpAQIEJhqARMgU336DJ4AAQIECBAgQIAAAQIECBAg0AKB3Ze3YBAdhrB//8L6nhZ+NVeHodpEgAABAs0LmABp3lSLBAgQIECAAAECBAgQIECAAIH5Erj8B+09Xk+BtPfcGBkBAgRGLGACZMTAmidAgAABAgQIECBAgAABAgQIzLLA+tpa/LHxlj4BkvBtnpyZ5QvDsREgQKAFAiZAWnASDIEAAQIECBAgQIAAAQIECBAgMLUCOfmxvt7e4bf175O0V8zICBAgMDMCJkBm5lQ6EAIECBAgQIAAAQIECBAgQIDABATaPsFwWYu/nmsCp0uXBAgQmCcBEyDzdLYdKwECBAgQIECAAAECBAgQIECgaYG2f8XUvr0L63uvaPqotUeAAAECUyBgAmQKTpIhEiBAgAABAgQIECBAgAABAgRaKzANT1i0fZKmtSfXwAgQIDDdAiZApvv8GT0BAgQIECBAgAABAgQIECBAYGIC//0H0C+bWP8Dd3zZFIxx4INRkAABAgQGFTABMqiUcgQIECBAgAABAgQIECBAgAABAlcW2LO73X8AvRpt2/9OSTVOSwIECBBoVMAESKOcGiNAgAABAgT+P3t3AmbZdRcG/lT1ppYXWZYX2ZJsecEYiTAOawjEJIEQIJFBlrq1GDkOZgRkmeAkBL6BLwgSAoSJJw5hBgQOXjCyehPYwU4yE0aGOEAMmGDtS7fUanW3el+quva68z+v67Wqq2t5VfWWu/zu913f++5y7v/8ztNz9fu/cw4BAgQIECBAgACBBglUYfir3BznRhrUKKpKgAABAm0BCZC2hC0BAgQIECBAgAABAgQIECBAgMDqBMYqklgwEfrq2tXVBAgQqImABEhNGlI1CBAgQIAAAQIECBAgQIAAAQJ9Fxgd7fsj1/zA0Yoka9ZcQTcSIECAwEIBCZCFIl4TIECAAAECBAgQIECAAAECBAisKFDMzqQ0PrbidaW5YKxCyZrSoAmEAAEC1RaQAKl2+4meAAECBAgQIECAAAECBAgQIDAYgdbE4sVgnr2Wp1ZlvpK11M09BAgQILCogATIoiwOEiBAgAABAgQIECBAgAABAgQILCtQtYRCxFsUFUrYLIvvJAECBAh0IiAB0omSawgQIECAAAECBAgQIECAAAECBC4WqFoCJA/ZNVGhIbsu1vaKAAECBNYgIAGyBjS3ECBAgAABAgQIECBAgAABAgQaLzB6tnoEVZq0vXq6IiZAgEDpBCRAStckAiJAgAABAgQIECBAgAABAgQIlFugmJpMKa9VW86NVC1i8RIgQIDAOgQkQNaB51YCBAgQIECAAAECBAgQIECAQCMFRiuaSKhir5VGvsFUmgABAt0RkADpjqNSCBAgQIAAAQIECBAgQIAAAQLNEahqT4qJ8VRMTzenndSUAAECDReQAGn4G0D1CRAgQIAAAQIECBAgQIAAAQKrFqhqD5Bc0aomb1bdSG4gQIAAAQkQ7wECBAgQIECAAAECBAgQIECAAIGOBYrZ2ZTGRju+vnQXSoCUrkkERIAAgV4JSID0Sla5BAgQIECAAAECBAgQIECAAIE6CoydS6koqluzKvdeqa66yAkQIDAQAQmQgbB7KAECBAgQIECAAAECBAgQIECgogKjZyoa+FzY0QOk1Yul2rUQPQECBAh0ICAB0gGSSwgQIECAAAECBAgQIECAAAECBOYERs5Wm6I1hFf0YrEQIECAQO0FJEBq38QqSIAAAQIECBAgQIAAAQIECBDojkCRh76qwxBSVe/F0p3mVAoBAgRqLyABUvsmVkECBAgQIECAAAECBAgQIECAQJcE8vwfszNdKmyAxVS9F8sA6TyaAAECVRKQAKlSa4mVAAECBAgQIECAAAECBAgQIDBIgdGKD3/VtoteLK3eLO3XtgQIECBQSwEJkFo2q0oRIECAAAECBAgQIECAAAECBHogUJeeE7kXS+7NYiFAgACBWgtIgNS6eVWOAAECBAgQIECAAAECBAgQINAdgfPzf5zpTmFlKKUuvVnKYCkGAgQIlFRAAqSkDSMsAgQIECBAgAABAgQIECBAgECpBHKPiZkazP/RRj17ur1nS4AAAQI1FZAAqWnDqhYBAgQIECBAgAABAgQIECBAoKsCIzVLGEQPkGJ2tqtECiNAgACBcglIgJSrPURDgAABAgQIECBAgAABAgQIECinwNkaDX+VhXPy49xIOa1FRYAAAQJdEZAA6QqjQggQIECAAAECBAgQIECAAAEC9RUo8qThdZwzY6RmSZ36vgXVjAABAmsSkABZE5ubCBAgQIAAAQIECBAgQIAAAQINEhgdTako6lfhuvVqqV8LqREBAgTWJSABsi4+NxMgQIAAAQIECBAgQIAAAQIEGiBQt/k/2k12bjQV09PtV7YECBAgUDMBCZCaNajqECBAgAABAgQIECBAgAABAgS6LnC2ZhOgXwCKXi2GwbqgYYcAAQJ1E5AAqVuLqg8BAgQIECBAgAABAgQIECBAoIsCxdRkSmPnulhiyYqqbXKnZM7CIUCAwAAEJEAGgO6RBAgQIECAAAECBAgQIECAAIHKCJw5VZlQ1xRo1K+o4/wma8JwEwECBOolIAFSr/ZUGwIECBAgQIAAAQIECBAgQIBAdwXqngCZnooeLjHJu4UAAQIEaicgAVK7JlUhAgQIECBAgAABAgQIECBAgEB3BIrZmZSaMERU3ZM83Xk7KIUAAQKVE5AAqVyTCZgAAQIECBAgQIAAAQIECBAg0CeBPEF4E4aHOl3zYb769HbxGAIECJRNQAKkbC0iHgIECBAgQIAAAQIECBAgQIBAWQSa0jNi/FxqTfZeFndxECBAgEBXBCRAusKoEAIECBAgQIAAAQIECBAgQIBAvQRaE4M3qWfEqRP1akC1IUCAAIEkAeJNQIAAAQIECBAgQIAAAQIECBAgcKnAyNmU8gThTVlOS4A0panVkwCB5ghIgDSnrdWUAAECBAgQIECAAAECBAgQINC5wOnjnV9bhytHR1IxOVGHmqgDAQIECMwJSIB4KxAgQIAAAQIECBAgQIAAAQIECFwk0Br+6tTJi4414sXpBta5EQ2rkgQINFVAAqSpLa/eBAgQIECAAAECBAgQIECAAIGlBEbOpDQzvdTZ+h4/2bBeL/VtSTUjQIBAS0ACxBuBAAECBAgQIECAAAECBAgQIEDgYoGmTgg+NpqKCcNgXfxm8IoAAQLVFZAAqW7biZwAAQIECBAgQIAAAQIECBAg0HWBYnY2pSZPCN60uU+6/g5SIAECBMojIAFSnrYQCQECBAgQIECAAAECBAgQIEBg8AJnTsXwVzODj2NQEZw4Nqgney4BAgQIdFlAAqTLoIojQIAAAQIECBAgQIAAAQIECFRa4PiRSoe/7uAnxlMxenbdxSiAAAECBAYvIAEy+DYQAQECBAgQIECAAAECBAgQIECgFAKt+S/yBOhNX5qeBGp6+6s/AQK1EZAAqU1TqggBAgQIECBAgAABAgQIECBAYJ0CJ46us4Ca3B6TwBfT0zWpjGoQIECguQISIM1tezUnQIAAAQIECBAgQIAAAQIECFwQKIoipZMSIC2QloW5QC68OewQIECgogISIBVtOGETIECAAAECBAgQIECAAAECBLoqkCc/n5rqapGVLsxk6JVuPsETIEAgC0iAeB8QIECAAAECBAgQIECAAAECBAikZPiri98F4+diMvSRi495RYAAAQKVEpAAqVRzCZYAAQIECBAgQIAAAQIECBAg0H2BYnwspdwDxHKxwLHDF7/2igABAgQqJSABUqnmEiwBAgQIECBAgAABAgQIECBAoAcCR33Rv6jqqZOpmBhf9JSDBAgQIFB+AQmQ8reRCAkQIECAAAECBAgQIECAAAECPRMopiZj8nMTfi8OHBPDSw4tTuMoAQIEKiAgAVKBRhIiAQIECBAgQIAAAQIECBAgQKBnAvkL/iK+6LcsLhBzoxQmh1/cxlECBAiUXEACpOQNJDwCBAgQIECAAAECBAgQIECAQK8EiunplI4f7VXx9Sg3J4eOvVCPuqgFAQIEGiYgAdKwBlddAgQIECBAgAABAgQIECBAgMAFgRNHUpqdufDSzhICx19IxQynJXQcJkCAQGkFJEBK2zQCI0CAAAECBAgQIECAAAECBAj0TqDIiY+jejZ0JJyTH8cjWWQhQIAAgUoJSIBUqrkES4AAAQIECBAgQIAAAQIECBDokkAe1ml6qkuFNaCYI4dSa8iwBlRVFQkQIFAXAQmQurSkehAgQIAAAQIECBAgQIAAAQIEOhQocuLjhUMdXu2ylsBMzJdylJl3AwECBKokIAFSpdYSKwECBAgQIECAAAECBAgQIECgGwIvHDT3x1ocjx5OxeTEWu50DwECBAgMQEACZADoHkmAAAECBAgQIECAAAECBAgQGJRAMTGe0jHzWazJvyhSOnxgTbe6iQABAgT6LyAB0n9zTyRAgAABAgQIECBAgAABAgQIDE7g0HPx7Pgi37I2gZPHUzF2bm33uosAAQIE+iogAdJXbg8jQIAAAQIECBAgQIAAAQIECAxOoBgdSen0ycEFUJcnH9xfl5qoBwECBGotIAFS6+ZVOQIECBAgQIAAAQIECBAgQIDAeYEiD990yBf3XXk/jJxJxZlTXSlKIQQIECDQOwEJkN7ZKpkAAQIECBAgQIAAAQIECBAgUB6BE0dTyj1ALN0ROPBMKmZmulOWUggQIECgJwISID1hVSgBAgQIECBAgAABAgQIECBAoDwCxeRESgfz3B+WrglMTZoQvWuYCiJAgEBvBCRAeuOqVAIECBAgQIAAAQIECBAgQIBAeQSit0Ka1Vuh6w1y7IVUjJ7terEKJECAAIHuCEiAdMdRKQQIECBAgAABAgQIECBAgACBUgoUJ46ldPZ0KWOrRVDP7UvF7GwtqqISBAgQqJuABEjdWlR9CBAgQIAAAQIECBAgQIAAAQJzAsXUVAx99SyPXgpMjKf0wsFePkHZBAgQILBGAQmQNcK5jQABAgQIECBAgAABAgQIECBQeoGc/DBRd++b6cihVJwb7f1zPIEAAQIEViUgAbIqLhcTIECAAAECBAgQIECAAAECBKohUJw6kVJeLX0QKFIyFFYfnD2CAAECqxOQAFmdl6sJECBAgAABAgQIECBAgAABAqUXKPKwTPGFvKWPAuPnDDfWR26PIkCAQCcCEiCdKLmGAAECBAgQIECAAAECBAgQIFARgWJ2JqVnnkopby39FTh+NLUmne/vUz2NAAECBJYQkABZAsZhAgQIECBAgAABAgQIECBAgEAlBZ7fn1LujWAZjMDzz6SC/2DsPZUAAQILBCRAFoB4SYAAAQIECBAgQIAAAQIECBCoqkBx4mhKebUMTmB2ttUDpzD5/ODawJMJECAwJyAB4q1AgAABAgQIECBAgAABAgQIEKiBQDEWvT4OPFODmtSgCnkOFm1Rg4ZUBQIEqi4gAVL1FhQ/AQIECBAgQIAAAQIECBAg0HiBYno6eh08mVJRNN6iNACnjqfi2AulCUcgBAgQaKKABEgTW12dCRAgQIAAAQIECBAgQIAAgdoIFDnp8dy+lCYnalOn2lTk4P5UjJ6tTXVUhAABAlUTkACpWouJlwABAgQIECBAgAABAgQIECAwXyC+ZE9nTs4/Yr8sAjk5te+JmBR9rCwRiYMAAQKNEpAAaVRzqywBAgQIECBAgAABAgQIECBQJ4HiyMGUDLNU7ibNk6HvfTwVU5PljlN0BAgQqKGABEgNG1WVCBAgQIAAAQIECBAgQIAAgfoLFCePp3ToQP0rWoca5uTH3ugJkpMhFgIECBDom4AESN+oPYgAAQIECBAgQIAAAQIECBAg0B2B4uzpmPdjb3cKU0p/BMbPtSaqL2Zn+/M8TyFAgACBJAHiTUCAAAECBAgQIECAAAECBAgQqJBAMZa/SH8qpTy/hKVaAiNnUjoQE9ZbCBAgQKAvAhIgfWH2EAIECBAgQIAAAQIECBAgQIDA+gWKyYmYVPvxlGYNpbR+zQGVEEOXFYeeG9DDPZYAAQLNEpAAaVZ7qy0BAgQIECBAgAABAgQIECBQUYHWJNoxmXaamqpoDYR9QeDIoVTEaiFAgACB3gpIgPTWV+kECBAgQIAAAQIECBAgQIAAgXULtJIfTz2a0sT4ustSQEkEohdIceRgSYIRBgECBOopIAFSz3ZVKwIECBAgQIAAAQIECBAgQKAmAq1hr3LyIw9/ZamXwKEDqXhBEqRejao2BAiUSUACpEytIRYCBAgQIECAAAECBAgQIECAwDyBVvLj6cckP+aZ1G73cCRBYrUQIECAQPcFNna/SCUSIECAAAECBAgQIECAAAECBAisV6CYiB4fT0fPj6nJ9Rbl/rILRC+Qokhp6HXXlj1S8REgQKBSAnqAVKq5BEuAAAECBAgQIECAAAECBAg0QaDIc31IfjShqV+sY8wHUsS8IBYCBAgQ6J6ABEj3LJVEgAABAgQIECBAgAABAgQIEFi3gOTHugmrW8CRQ6l4fn914xc5AQIESiZgCKySNYhwCBAgQIAAAQIECBAgQIAAgeYKFOdGU9r3RErTU81FaHrNjx2O4bBmUrrm+jQ0NNR0DfUnQIDAugQkQNbF52YCBAgQIECAAAECBAgQIECAQHcEijOnUnr2qZRmZ7tToFKqK3D8aEx8P5mKN741DW3YUN16iJwAAQIDFjAE1oAbwOMJECBAgAABAgQIECBAgAABAsXxI9Hz40nJD2+FFwXOnm7NA1NMTb54zB4BAgQIrEpAAmRVXC4mQIAAAQIECBAgQIAAAQIECHRPoCiK8xNfH3gmCi26V7CS6iEwdi6lJx9JxXhsLQQIECCwagEJkFWTuYEAAQIECBAgQIAAAQIECBAgsH6BIg91tX9vSjHxtYXAkgK5B8hTj6Zi5MySlzhBgAABAosLSIAs7uIoAQIECBAgQIAAAQIECBAgQKBnAsX0dEp7H0/p1PGePUPBNRKYiUnR4/1SnPR+qVGrqgoBAn0QMAl6H5A9ggABAgQIECBAgAABAgQIECDQFigmJmK+j0h+TIy3D9kSWFkghktL+59OxeREGnrt61e+3hUECBAgkCRAvAkIECBAgAABAgQIECBAgAABAn0SaA1j9MxTKc1EDxALgbUIHD6QiomxlK69Pg0Nb1hLCe4hQIBAYwQkQBrT1CpKgAABAgQIECBAgAABAgQIDFKgOHo4pYPPRQgmOx9kO9Ti2XkorLGxVFz/ZWloy5ZaVEklCBAg0AsBc4D0QlWZBAgQIECAAAECBAgQIECAAIE5gWJ2JhXPPh3Jj/1xRPLDG6NLAuPnUnryoVScPd2lAhVDgACB+glIgNSvTdWIAAECBAgQIECAAAECBAgQKIlAa76PJx812XlJ2qN2YbQmR38iFUcO1q5qKkSAAIFuCBgCqxuKyiBAgAABAgQIECBAgAABAgQILBAozpxqTVqd8pfUFgI9E4heRYdiXpBzoyld9+Y0tMG8ID2jVjABApUT0AOkck0mYAIECBAgQIAAAQIECBAgQKDsAsUL8Yv8fU/EZOeSH2Vvq9rEd/pkSk89EhOkj9emSipCgACB9QpIgKxX0P0ECBAgQIAAAQIECBAgQIAAgTmBIhIexb4nUzp8gAmB/guMj6X0xMOpyMkQCwECBAgkCRBvAgIECBAgQIAAAQIECBAgQIBAFwRaQxA98VBKZ3z53AVORaxVYDZ6HT3zZCoO7k/F7OxaS3EfAQIEaiFgDpBaNKNKECBAgAABAgQIECBAgAABAoMUKI4ejnkYnkupiPkYLATKIJDfkyNnU/HGt6ahLVvKEJEYCBAg0HcBPUD6Tu6BBAgQIECAAAECBAgQIECAQF0EiumpGPIq5vqIX9tLftSlVWtUj7GYGD16JRUnj9eoUqpCgACBzgX0AOncypUECBAgQIAAAQIECBAgQIAAgQsCxciZlPY/ndLU1IVjdgiUTiAPiRXv09b79Zo3pKHhDaULUUAECBDolYAESK9klUuAAAECBAgQIECAAAECBAjUUqDIw1y98HysB2tZP5WqqcCJoymNzg2JtfXymlZStQgQIHCxgCGwLvbwigABAgQIECBAgAABAgQIECCwpEAxOZHS049Kfiwp5ESpBSbGU3ry4VQce6HUYQqOAAEC3RLQA6RbksohQIAAAQIECBAgQIAAAQIEai1QnD6Z0nN7U5qJIYUsBKoqkHswPf9sKs7GEG7XvSkNbfT1YFWbUtwECKws4BNuZSNXECBAgAABAgQIECBAgAABAg0WKHLCI09ynocQshCoi8CZSOg9MZKK696chl52RV1qpR4ECBC4SEAC5CIOLwgQIECAAAECBAgQIECAAAECLwoUMWdC2h+9PvLQVxYCdROYmkpp7+OpeNVrU3rdtSZIr1v7qg8BAkkCxJuAAAECBAgQIECAAAECBAgQILBAoJidPT/R+ZHDcSaGDLIQqLNAnhPk7OlUvCF6g1z+0jrXVN0IEGiYgEnQG9bgqkuAAAECBAgQIECAAAECBAgsL1CMn4uJoh9J6cihuFDyY3ktZ2sj0Jog/dFUHH4+tRKAtamYihAg0GQBPUCa3PrqToAAAQIECBAgQIAAAQIECFwQKPLk0Eejx8fhA5H3kPi4AGOnQQLxvn/h+ZTOnDrfG+SyrQ2qu6oSIFBHAT1A6tiq6kSAAAECBAgQIECAAAECBAisSqDIc3w8/VhKh56T/FiVnItrKTA2Gr2gHk5FHhrLQoAAgQoL6AFS4cYTOgECBAgQIECAAAECBAgQILB+geLE0ZSe35/S7Mz6C1MCgboI5Hlwnn82FadPppTnBtm0uS41Uw8CBBokoAdIgxpbVQkQIECAAAECBAgQIECAAIEXBYqpyVTseyKl5/ZJfrzIYo/AxQIjZ1J6/EuplSi8+IxXBAgQKL2AHiClbyIBEiBAgAABAgQIECBAgAABAt0WKE4cS+ngsynN6PXRbVvl1VAg/3cSicJWb5Brr9cbpIZNrEoE6iqgB0hdW1a9CBAgQIAAAQIECBAgQIAAgUsEiqmp6PXxZHyZu1fy4xIdBwisIBCTo5/vDRIJRAsBAgQqIKAHSAUaSYgECBAgQIAAAQIECBAgQIDA+gWKk8djToNnJD7WT6mEJgu0eoPsnesN8ka9QZr8XlB3AhUQkACpQCMJkQABAgQIECBAgAABAgQIEFi7QO71kQ48k9KZmMzZQoBAdwTyf0+Pn0nFNTEk1pVXdadMpRAgQKDLAhIgXQZVHAECBAgQIECAAAECBAgQIFAegfO9PvJcH9PlCUokBOoikHuD7H86FadOpNSaG2RTXWqmHgQI1ERAAqQmDakaBAgQIECAAAECBAgQIECAwIsCrV4febir03p9vKhij0CPBPQG6RGsYgkQWK+ABMh6Bd1PgAABAgQIECBAgAABAgQIlEpAr49SNYdgmiKgN0hTWlo9CVRKQAKkUs0lWAIECBAgQIAAAQIECBAgQGApAXN9LCXjOIE+CrR7g7w+Jkh/5av6+GCPIkCAwKUCEiCXmjhCgAABAgQIECBAgAABAgQIVEygOHEspYN5ro+Yk8BCgMBgBfJ/h8/tTcXp9twgmwcbj6cTINBYgeHG1lzFCRAgQIAAAQIECBAgQIAAgcoLFFOTqdj3ROvLVsmPyjenCtRN4MyplB7/UipOHK1bzdSHAIGKCOgBUpGGEiYBAgQIECBAgAABAgQIECBwsUDrS9WD+/X6uJjFKwLlEmj1BtmXilPRG+S6N6WhTXqDlKuBREOg3gJ6gNS7fdWOAAECBAgQIECAAAECBAjUTqDV62Pv49HrY5/kR+1aV4VqK3D2dEqPRW+Q43qD1LaNVYxACQX0AClhowiJAAECBAgQIECAAAECBAgQWFyg9eVp7vUxa66PxYUcJVBigfzf7YHcG+T4+d4gm7eUOFihESBQBwE9QOrQiupAgAABAgQIECBAgAABAgRqLnCh10d8eSr5UfPGVr36C4yciblBHtIbpP4trYYEBi6gB8jAm0AABAgQIECAAAECBAgQIECAwHIC5vpYTsc5AhUVaPcGOW1ukIq2oLAJVEJAD5BKNJMgCRAgQIAAAQIECBAgQIBA8wRavT72PWGuj+Y1vRo3SSDPDfJ4zA1ywtwgTWp2dSXQLwE9QPol7TkECBAgQIAAAQIECBAgQIBAxwLFiWMpHXzWJOcdi7mQQIUFZmJukOdibpDTJ1O69vo0tGlzhSsjdAIEyiSgB0iZWkMsBAgQIECAAAECBAgQIECg4QLF1FQq9j0ZX4bulfxo+HtB9RsocObUXG+QSIBaCBAg0AUBPUC6gKgIAgQIECBAgAABAgQIECBAYP0CxcnjKT3/jMTH+imVQKC6Aq3eIHvn9QbZVN26iJwAgYELSIAMvAkEQIAAAQIECBAgQIAAAQIEmi1QTE+ldOCZlPLwNxYCBAhkgTPxefD4mVRcE0NiXXkVEwIECKxJQAJkTWxuIkCAAAECBAgQIECAAAECBLohUOQvOZ97JqWcBLEQIEBgvkDuDbL/6VTkobGueWMa2uirzPk89gkQWFnAp8bKRq4gQIAAAQIECBAXEaFRAABAAElEQVQgQIAAAQIEuixQzMYXmwf3p3T8aJdLVhwBArUTOBXD441Gb5Dr3pKGXvby2lVPhQgQ6J2ABEjvbJVMgAABAgQIECBAgAABAgQILCJQjI60ftWdJicWOesQAQIEFhGYil5iex9LxauuTul116ah4eFFLnKIAAECFwtIgFzs4RUBAgQIECBAgAABAgQIECDQI4FidjalIwdTeuFQPKHo0VMUS4BArQWOHU5p5HQq3hC9QbZeXuuqqhwBAusXkCpdv6ESCBAgQIAAAQIECBAgQIAAgRUEivGxlJ56NJIfkQCR/FhBy2kCBJYVyJ8nTz6cikioFoVk6rJWThJouIAeIA1/A6g+AQIECBAgQIAAAQIECBDotUBx7IWUDj2XUu4BYiFAgEA3BHLi49CBlGKC9NbcIFu2dKNUZRAgUDMBPUBq1qCqQ4AAAQIECBAgQIAAAQIEyiJQTE+lYu/jKT3/rORHWRpFHATqJpDnFHrioVScjInSLQQIEFggoAfIAhAvCRAgQIAAAQIECBAgQIAAgfULFCNnzk90nicuthAgQKCXArMzrc+b1ufONW+ICdI39PJpyiZAoEICEiAVaiyhEiBAgAABAgQIECBAgACBsgu0xuM/EpOcH34+QjU2f9nbS3wEaiVw4mhK50ZS8caYIP0yE6TXqm1VhsAaBQyBtUY4txEgQIAAAQIECBAgQIAAAQIXCxS5t0ce8upwjMsv+XExjlcECPRHoDVB+iOpyMkQCwECjRfQA6TxbwEABAgQIECAAAECBAgQIEBg/QLF2dMxBM3elGLeDwsBAgQGKjA7m9Jz+9L5IbGuT0MbDIk10PbwcAIDFJAAGSC+RxMgQIAAAQIECBAgQIAAgaoLtIa8ysNdHTlY9aqInwCBugnkidFjkvTi+i9LQ1sNiVW35lUfAp0IGAKrEyXXECBAgAABAgQIECBAgAABApcIFFOTKT39mOTHJTIOECBQGoHJiZSefDgVx4+UJiSBECDQPwE9QPpn7UkECBAgQIAAAQIECBAgQKA2Aq2hZZ55KqWZ6drUSUUIEKipQFGkdOCZGBLrbErXxZBYw4bEqmlLqxaBSwQkQC4hcYAAAQIECBAgQIAAAQIECBBYTqA49kJKz++PS+JLRQsBAgSqInAqhsSaGEvFm96WhjZtrkrU4iRAYB0ChsBaB55bCRAgQIAAAQIECBAgQIBAkwSKmFi4OLAvkh/PRrUlP5rU9upKoDYCY+dSeiKGxBqN3iAWAgRqLyABUvsmVkECBAgQIECAAAECBAgQILB+gWJqKqW9Md/H8aPrL0wJBAgQGKTAdHyexfxFhc+zQbaCZxPoi4AhsPrC7CEECBAgQIAAAQIECBAgQKC6AkX+xfS+J1LKk55bCBAgUAeB1rwg+1IxPpbS669LQ0NDdaiVOhAgsEBAAmQBiJcECBAgQIAAAQIECBAgQIDAiwJFHjP/uRj2Koa/shAgQKB2AscOpzR+LhVvfGsa2uir0tq1rwo1XsAQWI1/CwAgQIAAAQIECBAgQIAAAQKXChTx6+ji0IGUnn1a8uNSHkcIEKiTwMiZlJ6MeUEiEWIhQKBeAhIg9WpPtSFAgAABAgQIECBAgAABAusWyJOdp/2R+DhycN1lKYAAAQKVEJiciCTIo6nIyRALAQK1EZAAqU1TqggBAgQIECBAgAABAgQIEFi/QDE7c36+j1Mn1l+YEggQIFAlgfz5t/fxVJw+WaWoxUqAwDICBrZbBsep1QvccsstXzs8PPxdcec3x3pDrK+OdSrW/LOhz8f64Z07d/632Ha03Hrrrd8Zk1DdHRd/Xay5rKOxfiG6Yt+7a9euz8a+hQABAgQIECBAgAABAgS6JFBMT59Pfpwb6VKJiiFAgEDFBPLk6M88lYrr3pSGXvmqigUvXAIEFgpIgCwU8XrNAtu2bfu9uPmvLFLA5jj2ZXPr+7Zv3/6xSGD8r5EImVzk2tahe+65Z/jhhx++N168f8E118TrayIp8j1Rzq/dcMMNPxDXmolvAZKXBAgQIECAAAECBAgQWK1AMRX/RItfPqfxsdXe6noCBAjUTCCSIM/tTcXMdBp69dU1q5vqEGiWgCGwmtXeva7t6+cekHt7fCiSFLdGb5Cvj/UbY/8fx7Hn8/lIfrw31o/k/aWWSH78TJxrJz++GNffkcvK2zj+xXxf7H//I4888i/zvoUAAQIECBAgQIAAAQIE1i5QTIyn9NSjkh9rJ3QnAQJ1FDi4PxWHDtSxZupEoDECeoA0pqn7UtHHItHxv0diYnf07ohBEy9a/vCOO+74+PT0dB4G621x3R3Rg+OXd+zYkXuNXLTcdtttb5udnf2ncwf/OLbvjOGu2j9B+sJNN930qcsuu+xzcfxr41k/Ej1P/kM876mLCvGCAAECBAgQIECAAAECBDoSKMbOne/5MZ1HL7YQIECAwEUCRw62eoKka96Y4vusi055QYBA+QUkQMrfRitGeNddd71kdHT05Rs2bNi04sVzF0TCYH+n13Z6XZT5t5e79r777jsWc3r8k/g/i0/PXXdrbC9JgETy44fjeOu9Gb0+/uH999/fTn60bvv0pz99LpIk/zCu+4N8XZT3gdj+/dZJ/0OAAAECBAgQIECAAAECHQsUo2fPz/kxs/A3bB0X4UICBAjUX+D4kZTic7I1L8iwAXXq3+BqWCcBCZAKtmaeHyOGfrpzbjiorxsfH78qkh+rqUkMZHg+wbCam7px7datW/+/iLdVVMT/lkXKzKn07547/lgkP/5wkWtSPh49P2Jw2vTlUU6+/h/EmutlIUCAAAECBAgQIECAAIEOBIo80Xme82PWtIodcLmEAIGmC5w6HgJFKt7wFj1Bmv5eUP9KCUhZVqq5Urr99tuvj/kx/jS+9P9ohP4dsb4q1pw0WO0at/R/ieTHlnlPveQnRrfccsub4nxrLpHo2fG5edcutts+f00kQ65f7ALHCBAgQIAAAQIECBAgQOBSgSJPdL73CcmPS2kcIUCAwNICp07EDLfPLH3eGQIESiegB0jpmmTpgGLui8tnZmb+a1yRkwTzlzxE1MlYqzBg67e0A48Ex6Pt/fY2jt3Q3o8hrh5r7y+2jWsfi0RQ61Tsf0Xs7FvsOscIECBAgAABAgQIECBA4EWBYnIikh/xz62Z6RcP2iNAgACBzgSOH03Fxk1p6OprO7veVQQIDFRAAmSg/Kt7+JYtW/5R3JGTH/lb//yX6ociSfAfdu/evWyiIK4rxZKH7oreKz/WDiaSFzva++1tzPlx7bykxoH28cW2cd1z7ePhcF17v5Ptu9/97hX/XyqSTTGy2PmhxSKuTop1DQECJRSY/9/v/P0ShiokAgQIECBAgEDPBYo80fkzT8a/KOOflCbz7bm3B6xSIN6T53/m+OJ98YNHww29yGGvLAJHDqWhTZvT0KuvLktE4iBAYAkBCZAlYMp4OP5P/3vaccX+nTt27Njdfl2F7UMPPfSBiPvr52LdE5Om/8nCuCOp8bJ5x2JA2qWXuHY0/yE0t7y0vdPJNhIbF5InS11/6tSpdNVVV6WcBLn6av+HtpST4wSqJPCa17ymSuGKlQABAgQIECDQVYEienxMPvqlNLv1spTyaiFQMoHZzZtSDDB00fKKK16Rhl+yqn/yX3S/FwR6JnDuTNq08fVp46v8O7Nnxgom0AUBP2vvAmIfi/iyeFb+McSfVi35EXN0fEskK35uzurI9PT0Dy3mFtfM/yt8crFr2sfi2ui3fWHZemHPDgECBAgQIECAAAECBAhcJFDEROeTTz6aZkfPXnTcCwIECBBYu8DU3sfTTJ4XxEKAQGkF9AApbdMsGlhrAvH44v/PFj1b0oMxsfmNEdoDseb323jEv+2BBx44sli40atjfN7xzfP2L9mNa7dEWe3jeR6UjpcY3mrFIbNe8YpXfCEKvDquTUePHu24bBcSIFAugTzsVbvnx5EjR1IMmVeuAEVDgAABAgQIEOixQPzbKaVnn07FqeM9fpLiCaxPoBgbvaSAU6dPpaHJKkx5eknoDjRF4H98Pg29+e1p6KXzBzVpSuVXruerX/3q1ugqK1/pCgK9EZAA6Y1rr0o9EAW/Nb6829SrB3S73Oj5kecs+S+xXhnrTPzhfXsMffV7Sz0nEhpnW3+cn79g2T6uce1L5pWz7HBZ865r7e7ZsydbLrvE0Fcz7Qt8YdqWsCVQbYH837L/nqvdhqInQIAAAQIEVi9QvHAwpZPHVn+jOwj0WWDe9wEXntw6lpN4FgJlFYgfzhb7nkjpbV8Z84JU5iu7smqKi0DXBQyB1XXS3hUYX/jnxEFshv5C757SvZJvv/3210dp/2+seRt/sxTft2vXrt9e7gnxxeSFxERcv+xE5eFwoRdH/MJ7xTk9lnuucwQIECBAgAABAgQIEKijQDFyJqXDz9exaupEgACB8ghMRy+l/dHTTrKuPG0iEgJzAhIgFXorxIfoL0e4eeyWd0TPiq8pc+h33HHHq2LoqP8nYnxzjjOSFf8wkh8fWynmqOMj7WsiqfH29v5i27j2wvnYf3SxaxwjQIAAAQIECBAgQIBAUwWKqfhCLoa+Oj+VZFMV1JsAAQJ9EsgJ59zjzkKAQKkEJEBK1RzLBxNDR/1JXPEzseaJL34zkgyvXf6OwZyN5MwVMcn5f46n35AjiOTHj8Wk7b/USTS7d+/eF9e1/t8ikhrfssI975w7/3zYPLPCtU4TIECAAAECBAgQIECgMQLx76nWr5FT/lWyhQABAgT6I/DC86k4G4kQCwECpRGQAClNU3QWSHzR/5Pxh+xPxdVvjSTDlyLZ8I9ivaazu3t/1U033XR5POV3Yv3quaf9TCQ/fn4VT84De7aHyXr7bbfd9pcWu3fueKsHSCRY8vX5PgsBAgQIECBAgAABAgQIZIEjh1LKv0a2ECBAgEB/BfJQWLkHnoUAgVIImAS9FM3QWRCR6Ng778r8SfqqWD+Y1zh3OrZ57SQRUEQi5S1xbVeXiGFzFPhArN80V/CH4jk/sdqHxNBX/zbmArk77tsQ21+Mct8Z5Yy1y4nXW/PxudfTMdTWv22fsyVAgAABAgQIECBAgEDTBcz70fR3gPoTIDBQgfZ8IG/+8jwqykBD8XACBFKSAKnWu+D6CHd+gqO9nz9NXxHrFbGutORr2/etdO1qz98XN3z73E2/G9sPR0+Nr1ymkMn777//iYXn87FIcvxCHP+xWL821s/H65+PpMfTkRzJiZsfjfUvxpr/j+QXYtisJ/O+hQABAgQIECBAgAABAk0XKOa+eOvdP/uaLqz+BAgQ6ECgPR/I1dd0cLFLCBDopYAESC91e1P2cqnj5c71JpqLS333vJd/Pfb/PJIW8w5dsvtsHLn+kqNx4MYbb/zxhx566DWR4Pi+eJmTHZ+M5MfCSz98ww03rLqHycJCvCZAgAABAgQIECBAgEBtBA4dSMnQK7VpThUhQKDCAkcOpuLKq9LQlssqXAmhE6i+gARIhdowhnp6U4XCXVeo99xzT86cvH/79u27Y86TPBzW18Wah/w6FusX4tiv7Nq167MxNFa8tBAgQIAAAQIECBAgQIBAcW40pRNHQRAgQIBAGQSKGIDl4P6U3vS2MkQjBgKNFZAAqVDT79mzJ/eYKO0SyYihbgcXE6h/JsrMq4UAAQIECBAgQIAAAQIElhM4WOp/Mi4XuXMECBCop8CZU6mIdejleeR6CwECgxC4ZEyhQQThmQQIECBAgAABAgQIECBAgMDaBYqTx1MaHVl7Ae4kQIAAgd4IRC+QYvkh4nvzXKUSINASkADxRiBAgAABAgQIECBAgAABAhUWKGZnUjoUw6xYCBAgQKB8AhPjKR0/Ur64RESgIQISIA1paNUkQIAAAQIECBAgQIAAgZoKvHDIxOc1bVrVIkCgJgKHn0/F1FRNKqMaBKolIAFSrfYSLQECBAgQIECAAAECBAgQuCBQTE6kdDQSIBYCBAgQKK9A7qn3woHyxicyAjUWMAl6hRt3+/btf3N2dvbbhoaG3hHVeFWsL4u1k6RWEROWv6XCVRc6AQIECBAgQIAAAQIECGSBYy+kVBQsCBAgQKDsAieOpeLqa9PQxk1lj1R8BGolIAFSwea87bbb/lIkPn69KIq3RfKjXYP2zvy/fNvH2tfkc/nY/Gva52wJECBAgAABAgQIECBAoEICrbk/ThytUMRCJUCAQIMFcrI6f2a/5vUNRlB1Av0X6KS3QP+j8sQlBaLXx7dF8uNzccHbYs3JjPaa72knOBYeayc88nELAQIECBAgQIAAAQIECNRB4NSJlGZiWBULAQIECFRD4NiR6LTX/pquGiGLkkDVBSRAKtSCd91110viQ/K+CDn3lcvJjF8eHh7+hjj2sXY1ZmZm3hTHvipe3xS9Q34htkdizdeOxOv35vOxvjleWwgQIECAAAECBAgQIECgygLxRZqFAAECBCokMDWZ0tlTFQpYqASqL2AIrAq14fj4+PdHuFfFmlPF/ybm8fhnOfxt27adzdu87Nmz59nze+mh2P5OnLsnEiQfjOTHD8T2wxs3brx1x44dn567xoYAAQIECBAgQIAAAQIEKihQnBtJaWy0gpELmQABAg0XOBpzN738yoYjqD6B/gnoAdI/62486W/OFTIe25/upMBIkozt2rXrhyL58Wtx/abYfiSSIld3cq9rCBAgQIAAAQIECBAgQKCkAnp/lLRhhEWAAIEVBEbOpGIif7VnIUCgHwISIP1Q7t4z/kIUlXt//GEkNuLnPosui87zMTk5+U/i6vzzoFdEEuTvLnqngwQIECBAgAABAgQIECBQeoFiejqlU8dLH6cACRAgQGAJgeOGMFxCxmECXReQAOk6aU8LzMNf5WXf+c35/43hreKv3/PLTTfdtLW9P3/7qU99Kg+T9WCscfnQ98w/Z58AAQIECBAgQIAAAQIEKiQwGv+8M4luhRpMqAQIEFggcPb0ggNeEiDQKwEJkF7J9qbcdu+OmDHpxWV2djYnN1rL5Zdf/rr2/sJt9Pw4NHfsDQvPeU2AAAECBAgQIECAAAECFRHwxVlFGkqYBAgQWEJgfCwVeUJ0CwECPReQAOk5cVcfcGKutJcuKPVw+/XMzMxXtPcXbqPnxzVzx8y0tBDHawIECBAgQIAAAQIECFRFQAKkKi0lTgIECCwtcPbM0uecIUCgawISIF2j7EtBj8dTci+QN85/2vDw8P9sv479v93en7+Nic+viNffMHfs5Pxz9gkQIECAAAECBAgQIECgGgLF5ERKebUQIECAQLUFRgyDVe0GFH1VBCRAqtJSEWf04PjCXLg3zg/7yJEjfxSvj+VLYpirv7N9+/Z3zj8/d/zfx/aVseZJ1PP1FgIECBAgQIAAAQIECBComoBfDFetxcRLgACBxQVG9ABZHMZRAt0V2Njd4pTWS4GY6+O/RhLkR+IZV0aPjq/ZuXPnn+TnPfjgg9OR9PiVSH78eLzcHNv/Guc/G9svRY+Qy2P7XXH8rfnavEQZ957f878ECBAgQIAAAQIECBAgUCkBvxiuVHMJlgABAksKTE2lYvxcGrrs8iUvcYIAgfUL6AGyfsO+lXDs2LHfjYfleUDyMFh3zX9wTH7+M/E6D4WVz+V2/VuR6PixSH78b7F/IfkR+x/bsWPHZ2JrIUCAAAECBAgQIECAAIGqCYycrVrE4iVAgACBpQR8pi8l4ziBrglIgHSNsvcF5Z4eMcn5O+JJeaLzD85/4kc+8pHxqampvxYJj0/OHc+JkPnrWCREfvrGG298//z77BMgQIAAAQIECBAgQIBANQSKmZmUpqeqEawoCRAgQGBlgYnxla9xBQEC6xIwBNa6+Pp/8549ew4s9dTf+q3fOhXn7rz99tv/aQyX9ddjfX0MgRWb2b3T09O/O3d+qdsdJ0CAAAECBAgQIECAAIEyC5j8vMytIzYCBAisXsDn+urN3EFglQISIKsEq8Lln/zkJw9GnL9RhVjFSIAAAQIECBAgQIAAAQIdCvilcIdQLiNAgEBFBHyuV6ShhFllAUNgVbn1xE6AAAECBAgQIECAAAECzRGYNFRKcxpbTQkQaIRA9ACJ4ewbUVWVJDAoAQmQQcl7LgECBAgQIECAAAECBAgQWI2AoVJWo+VaAgQIlF8gJz/M7VT+dhJhpQUMgVXh5nvf+9532blz574jqvDNMc/HdTHJ+ZWxv2Hnzp3fuqBaQzfddNPWfOx1r3vd1L333mvWvAVAXhIgQIAAAQIECBAgQKD0AhMTpQ9RgAQIECCwSoE8DNamzau8yeUECHQqIAHSqVTJrtu+ffs/HR0d/WcR1lU5tEh+tDbxP5f0m7v55ptfuXHjxv1x7rKTJ0/+UWz/cr7YQoAAAQIECBAgQIAAAQIVEpiarFCwQiVAgACBjgSm/E65IycXEVijgCGw1gg3qNvuvvvuTdu2bfudGB/w5yOGnPzImY/2umhYDzzwwPE48dG5674h7n/rohc6SIAAAQIECBAgQIAAAQLlFTBOfHnbRmQECBBYq8Ds7FrvdB8BAh0ISIB0gFSmS6IHx/8d8XxnrDnpMRGJkF+J9bbY/+1Yl1zimt9on4zeIt/V3rclQIAAAQIECBAgQIAAgYoIFL4kq0hLCZMAAQKdC/hs79zKlQTWICABsga0Qd0SPTe+Jp79d2PNw1wdiHk/vnrXrl0/FOvO/DrWJZe45r/HydP5gkiG/JUlL3SCAAECBAgQIECAAAECBMopMHvJiMfljFNUBAgQINC5gN59nVu5ksAaBCRA1oA2qFsicZGTH7nnR17u2r1792Pndzv+3z+LK/P9X9HxHS4kQIAAAQIECBAgQIAAgXII+JKsHO0gCgIECHRTQA+Qbmoqi8AlAhIgl5CU90AMXfXX5qJ7aOfOnZ9bbaSRQGn3Erlmtfe6ngABAgQIECBAgAABAgQGLOBLsgE3gMcTIECgBwJ69/UAVZEEXhSQAHnRogp7r48gI49RfHGNwY7M3feSNd7vNgIECBAgQIAAAQIECBAYlIAeIIOS91wCBAj0TsBne+9slUwgBCRAqvU2uCyHOzw8PL7GsF86d187EbLGYtxGgAABAgQIECBAgAABAv0UiB/C9fNxnkWAAAECBAgQqIWABEi1mvFoDjf+8L16LWHHEFpvn7uvVc5aynAPAQIECBAgQIAAAQIECPRfIP49l9KGDf1/sCcSIECAQG8FfLb31lfpjReQAKnWWyBPep4nMf/Gbdu2reov39tvv/26uO8dsRbxh/MXYmshQIAAAQIECBAgQIAAgSoJDK/qn4FVqplYCRAg0FyBDRubW3c1J9AHAQmQPiB38RH/aa6sV0UvkPeuptzp6el/Ede3/lqOe//zau51LQECBAgQIECAAAECBAiUQMCXZCVoBCEQIECgywJ6gHQZVHEELhaQALnYo+yvPhIBns5BRi+OD95yyy1fm/dXWqK3yD+P63PCJA8ae/DKK6/85Er3OE+AAAECBAgQIECAAAECJRPwJVnJGkQ4BAgQ6IKA5HYXEBVBYGkBfayWtindmZ07d57Yvn37T0QPjl+M4F4ek6H/frz+pXh9X6xbWmPCxon3vOc9L5+cnHxdvP6mOP5Dceir51XmA/fee+/UvNd2CRAgQIAAAQIECBAgQKAKAr4kq0IriZEAAQKrE5DcXp2XqwmsUkAPkFWCDfryHTt2/FLE8O9izXOBbI4Exwdi+z8i2fH+2OZlKJIfJ2P7SJz71djm5Ee+Nvca+ReRRNmV9y0ECBAgQIAAAQIECBAgUDEBX5JVrMGES4AAgQ4EJLc7QHIJgbULSICs3W5gd0YS44cjmfH9EUAeDisnN1oJjtjmIa7y2j7W3p6K6/9uJE/uiXMWAgQIECBAgAABAgQIEKiiwKZNVYxazAQIECCwnMBGA/Qsx+McgfUKSICsV3BA90cy4z/Eo98QiY0fju1/iXUk1nbCI3bTRKy/H+uPbt68+fq4/qP5oIUAAQIECBAgQIAAAQIEKiqweUtFAxc2AQIECCwqEL0/hvTuW5TGQQLdEpBi7JbkAMqJniA56ZGHw8pruuuuu14yNTV1xczMzGica02Wno9bCBAgQIAAAQIECBAgQKAGAhIgNWhEVSBAgMA8AZ/r8zDsEuiNgARIb1wHUurHP/7x0XhwXi0ECBAgQIAAAQIECBAgUDcBX5TVrUXVhwCBpgts0bOv6W8B9e+9gCGwem/sCQQIECBAgAABAgQIECBAYP0CmzavvwwlECBAgEB5BCS2y9MWIqmtgARIbZtWxQgQIECAAAECBAgQIECgTgJDw/FPeBOh16lJ1YUAgaYLSIA0/R2g/n0QkADpA7JHECBAgAABAgQIECBAgACBrgj4sqwrjAohQIBAKQR8ppeiGQRRbwFzgJSwfbdt2/a7PQ6riEnSv7XHz1A8AQIECBAgQIAAAQIECHRbYMvWmPlxpNulKo8AAQIEBiGw5bJBPNUzCTRKQAKknM39VyOsokehDfWw7B6FrFgCBAgQIECAAAECBAgQaAlcFgkQCwECBAhUX2B4QxrSA6T67agGpReQACl3E+VkhYUAAQIECBAgQIAAAQIECJwXuOxyEgQIECBQB4GtEtp1aEZ1KL+ABEi52yj3AnlkaGjovtnZ2ePlDlV0BAgQIECAAAECBAgQINBzAV+Y9ZzYAwgQINAXAT36+sLsIQQkQMr/HrihKIp/HkmQz8T6sSNHjvzHBx98cLr8YYuQAAECBAgQIECAAAECBLotMLRxUypiTdNT3S5aeQQIECDQT4E8p5OFAIGeCwz3/AkesGqBSHT87Uh67IobJ2LNw2BtjvW749juV7/61YdikvRfjPXr45iFAAECBAgQIECAAAECBJom4FfDTWtx9SVAoI4CWw1pWMdmVafyCegBUr42STt27PhMhPWZSHJcEdvbYn1vrH851rxcFevfy2ucfyK2H52ZmfmNPXv2HIh9CwECBAgQIECAAAECBAjUXSDPAzJypu61VD8CBAjUW0Ayu97tq3alEZAAKU1TXBrIzp07T8fRe/N6yy23vHl4ePjvxP73xvqmWPPytlh/ZsOGDf8ykiGfix4iH926devuj3/846Ots/6HAAECBAgQIECAAAECBOonYB6Q+rWpGhEg0CyBTZtSHtLQQoBA7wUMgdV74648Yffu3XsjIfKTsb4lEh3fEsNkfTgKzj/5yUNk5Xb8q3Hs18fHxw9v3779o7F+WxyzECBAgAABAgQIECBAgEDdBLa+pG41Uh8CBAg0S2DrS5tVX7UlMEABPUAGiL/WR+/atev3497f/87v/M5/8NKXvvR7Yj/3DPkbsW6I9SWRIMm9RL43eoUcjO1vbN68+Wc/8YlP6B8dGBYCBAgQIECAAAECBAhUXiAPmzIUv4UrispXRQUIECDQSAHzfzSy2VV6MAISIINx78pTP/vZz+ZJ0u/P6x133PHaqamp741eIHfF66+ae8A1sf1n09PTO2P7p3PHbAgQIECAAAECBAgQIECgwgLx775U5HlAxox+XOFmFDoBAk0WuNwE6E1ufnXvr4AhsPrr3bOn3XfffS9Ez5B/s3Hjxm+LP4Y/0rMHKZgAAQIECBAgQIAAAQIEBi9wuWGwBt8IIiBAgMAaBQxluEY4txFYvYAeIKs3K90dd99996ZTp069K4a+em/09viOCDC3a+4LnecHsRAgQIAAAQIECBAgQIBA3QR8eVa3FlUfAgSaIpAnQN+0uSm1VU8CAxeQABl4E6w9gJjj4xtz0uPkyZPbo5RXzJXUTnqMx+tPRW+Qj91///1fXPtT3EmAAAECBAgQIECAAAECpRMwfnzpmkRABAgQ6EhAArsjJhcR6JaABEi3JPtUzrvf/e43xjBX743ER57r4y157NdY2kmPvP/f4tzHtmzZssPE55nDQoAAAQIECBAgQIAAgRoKmAi9ho2qSgQINEJAArsRzayS5RGQAClPWywZybve9a6XRUIj9/J4b6zfFAmOdsKjvd0bxz6ee3vs3Llz35IFOUGAAAECBAgQIECAAAECtRAYGh42EXotWlIlCBBonIA5nBrX5Co8WAEJkMH6L/n0e+65Z/ihhx76m8PDw7m3x7viwsvmLm4nPU7H6x056bFjx47PL1mQEwQIECBAgAABAgQIECBQT4H8JdrYaD3rplYECBCoq4AhsOrasupVUgEJkBI2TMzt8W8efvjhOyK58dpIfuQI20mP6dj/Lznpcfbs2d/+7Gc/O1HC8IVEgAABAgQIECBAgAABAv0Q8CVaP5Q9gwABAt0TMAF69yyVRKBDAQmQDqH6fNkH4nk589FOfPxZ7H90enr6vgceeOBIn2PxOAIECBAgQIAAAQIECBAoo4BhVMrYKmIiQIDA0gJbX7r0OWcIEOiJgARIT1i7VmhOgjwSvUAei+03bNiw4RtuvfXWdRcePUiKmCvkPesuSAEECBAgQIAAAQIECBAgMDgBE6EPzt6TCRAgsBYBE6CvRc09BNYlIAGyLr6+3HxDJCxu6OKTcq+SnFiRAOkiqqIIECBAgAABAgQIECDQb4H4t2Iq8jBY50b6/WjPI0CAAIG1COi5txY19xBYl8Dwuu52cy8FcqKiF2svY1Y2AQIECBAgQIAAAQIECPRTwK+J+6ntWQQIEFifgLmb1ufnbgJrENADZA1ovb4lhrz6qV4/Q/kECBAgQIAAAQIECBAgUAMBX6bVoBFVgQCBRgi0JkDf1IiqqiSBMglIgJSpNeZi2bVrlwRICdtFSAQIECBAgAABAgQIECidgB4gpWsSAREgQGBRgcsuX/SwgwQI9FbAEFi99VU6AQIECBAgQIAAAQIECBDonUCeCL01enLvHqFkAgQIEOiCgB57XUBUBIHVC0iArN7MHQQIECBAgAABAgQIECBAoBQCQ8Pxz/pWEqQU4QiCAAECBJYS0GNvKRnHCfRUwBBYPeVVOAECBC4VKM6evvSgIz0TKOJLgZmtW1rlZ/tidrZnz1LwpQJDL7vi0oOOECBAgAABAt0VyF+qjZ/rbplKI0CAAIHuCugB0l1PpRHoUEACpEMolxEgQKBbArP/+K5uFaWcDgRyuuNgB9e5pDcCG371U70pWKkECBAgQIDAiwI5AXLyxZf2CBAgQKBkAsMb0tCW8z/MK1lkwiFQewFDYNW+iVWQAAECBAgQIECAAAECBGotYGLdWjevyhEgUAOBrXm+JgsBAoMQkAAZhLpnEiBAgAABAgQIECBAgACBbgmYA6RbksohQIBAbwS2SID0BlapBFYWkABZ2cgVBAgQIECAAAECBAgQIECgtAJDmzaltGFDaeMTGAECBBovIFHd+LcAgMEJmANkcPaeTIBAQwWGP/jxhta8/9WePXU8pZ/+4Ysf/Pd/PA2/5e0XH/OKAAECBAgQIFB1gfzl2uhI1WshfgIECNRTQAKknu2qVpUQkACpRDMJkgCBOgkMveyKOlWn1HUZmphIxYIIh2KMbG2wAMVLAgQIECBAoPoCEiDVb0M1IECgvgISIPVtWzUrvYAhsErfRAIkQIAAgTULFLOX3jq7yLFLr3KEAAECBAgQIFAtAePLV6u9REuAQHMEhjekoU2bm1NfNSVQMgEJkJI1iHAIECBAoIsCiyU7Zme6+ABFESBAgAABAgRKIuDXxSVpCGEQIEBggcCWyxYc8JIAgX4KSID0U9uzCBAgQKC/AoslOxY71t+oPI0AAQIECBAg0H2BzVu6X6YSCRAgQGD9AhIg6zdUAoF1CEiArAPPrQQIECBQcoGZRXp7SICUvNGER4AAAQIECKxJwPAqa2JzEwECBHouIEHdc2IPILCcgATIcjrOESBAgEC1BRYbAmvGHCDVblTREyBAgAABAosJDA3HP+83bVrslGMECBAgMEiBzeb/GCS/ZxPYiKBaAvfcc08raRXbIiLP6yXLzTfffNWmTZt+siiKd8XJ18Z6JPY/MzQ09FM7d+48fMkNDhAgQKCuAov2AJEAqWtzqxcBAgQIEGi8QP6V8dRU4xkAECBAoFQCeoCUqjkE0zwBPUAq1Oa33HLLjQ8//PBUXrdt2/bRxUK/8847r9y4ceMfRMLj78f562LNA8FeG8mPu2P7xSjjy2JrIUCAQDMEFhvuana6GXVXSwIECBAgQKB5Ar5ka16bqzEBAuUX8Nlc/jYSYa0FJEAq1LyRxMg9OoZyyJHg+NXFQp+env7Xcfytc+da18Z+3ub1tcPDw5+cO2dDgACB+gss1gOkKFKx2NBY9ddQQwIECBAgQKDuAr5kq3sLqx8BAlUUMEdTFVtNzDUSMARWhRozEiDfOBfuma/8yq/8/K5duy6KPg99FYmR98bBPDTWTFx/T6yfimNviPXfxbE3x/qO6D3yrhgK61OxbyFAgEC9BZZKdOTESB4n20KAAAECBAgQqJPApjwAgKXbAsXYaLeLVN4SAsXYuUvOLHbskosc6JrA0NaXdK0sBYVAzM3UmqMJBgECAxOQABkY/ZoenIevysmN/xlzgFwyiH3M+/HdkejIs97FpvhQJDn+1dxTHoqhr45E74//kV9HUuSW2EiAzOHYECBQY4HpJYa7monjJgmtccOrGgECBAgQaKjARv/E70XLFx/+P3tRrDI7FfjNX1l8AtRO73fdqgSG/sFPrOp6F68gsCF/TWchQGCQAn7+Okj91T/7dfmWSG48s9its7Ozf619PJIcv9Lez9vdu3f/cWwejnUo7v+afMxCgACB2gssNd9HToBYCBAgQIAAAQJ1E9joi7a6Nan6ECBQcQGJ6Yo3oPDrICABUq1WvDyHGz05Fu1/G0mPvzJXnb3R++OpRar22Nyxaxc55xABAgTqJ7DYHCC5lkv1DKmfgBoRIECAAAECTRLwRVuTWltdCRCogoDP5Sq0khhrLiABUq0GnsrhRg+OViJkfugxr8c18foN+XQkQn5//rn2ftx3bG7/kvvb19gSIECgVgJLJTqWOl6ryqsMAQIECBAg0DiBDYbAalybqzABAuUW8Llc7vYRXSME/HVUrWbOCYzce+Oti4T9N9rHItHx+fb+/G0kRtozWY3PP26fAAECdRSIz8KUlhrqarqVT65jtdWJAAECBAgQaLLAhg1R+6FY89SRlm4JDL3/A90qSjkrCLQmPI85Py5a7vyBNLTV7zgvMvGiOgJ6gFSnrURaWwEJkGo17Zci3Oti/bo77rjjtffdd98L88J/z7z9z83bn7/7xrkX8++bf94+AQIE6iPQ6uWxxD/+JUDq085qQoAAAQIECFwQiB+9pSJ/2eZvnQsm3dgZ2tr+LWE3SlPGSgIL/4LPyQ9tsJKa86UV0AOktE0jsOYISIBUqK3j18yfjj9ovytC3jQ9Pf3JGPbq+yYmJo5t2bLlB+PYt8aa/054ZIn5P/LPgN4xd82TsbUQIECg3gLL/cN/arLedVc7AgQIECBAoLkCw0a6bm7jqzkBAqUTkAApXZMIqHkC/jKqUJtv3br1NyLcg3MhvzO2T0Xy41Rsf27uWJ4f5IPt/fnb7du35wnSXzZ37Avzz9knQIBALQWWS3JMGQKrlm2uUgQIECBAgEBKEiDeBQQIECiPwHD+PbKFAIFBCkiADFJ/lc/++Mc/Phq3bIt1JNb8CTp/jZfpt3bt2vXreWeR5c55xz43b98uAQIE6imwXJJjueRIPTXUigABAgQIEGiMgC/bGtPUKkqAQPkFhnz1Wv5GEmHdBfxXWLEWjuGt/mBmZubGGArrQxH6n8Sah7P63Vh/8MYbb8zJkUuWm2+++aroGXLX3ImRo0eP/t4lFzlAgACBuglMTSxdo0iOtCZJX/oKZwgQIECAAAEC1RSIeUAsBAgQIFASAR/JJWkIYTRZwBwgFWz9PXv2HIiwP7Aw9EiOLDzUev3AAw8cjx2zti2q4yABArUVmFwmAZKnTMq9QDZvqW31VYwAAQIECBBoqIDhVhra8KpNgEApBfQAKWWzCKpZAnqANKu91ZYAAQLNEVg2ARIMK51vjpSaEiBAgAABArUS8HPjWjWnyhAgUHEBn8kVb0Dh10BAAqQGjagKBAgQILCIwEoJjsnoAWIhQIAAAQIECNRNwBBYdWtR9SFAoMoCeuVVufXEXhMBCZCaNKRqECBAgMCLAsXsTAxxNfXigcX2JscXO+oYAQIECBAgQIAAAQIECBAgQIBATQTMAVKhhty+ffs7uxXujh07TITeLUzlECBQPoGJ5eb/mAt3QgKkfA0nIgIECBAgQGDdAsXsuotQAAECBAh0SWDWZ3KXJBVDYM0CEiBrpuv/jUVRPBhPjZl7173kMrT9uhkVQIBAaQU6SW6MS4CUtv0ERoAAAQIECKxdwJdta7dzJwECBLot4DO526LKI7BqAV+Cr5ps4DeYPWngTSAAAgRKL9BJAiSGwIrEchoyTnbpm1OABAgQIECAwCoEfNm2CiyXEiBAoMcCPpN7DKx4AisLSICsbFSmK/KwVZ30AMlzu1wR69tivWzunjwezB/FaiFAgED9BSbGVq5j/kN0KiZC37xl5WtdQYAAAQIECBCoioAv26rSUuIkQKAJAj6Tm9DK6lhyAQmQkjfQ/PB27tz5V+e/Xmn/7rvv3nTy5Mnvjut+NtY3xy+d977yla/8wXvvvXeFmYFXKtl5AgQIlFxgrIMESK7C+DkJkJI3pfAIECBAgACBVQr4sm2VYC4nQIBADwVmZ3pYuKIJEOhEIPcUsNRUICc6Immya2Ji4qujil+MYV7eFwmRf1/T6qoWAQIEWgJF/kd/Jz1A8tXjHSZK2BIgQIAAAQIEqiJgEvSqtJQ4CRBogoDP5Ca0sjqWXEACpOQN1I3wPvWpT52dnZ393igrD5/1/bfeeuu3dqNcZRAgQKCUAjG3R0zu0VlonfYU6aw0VxEgQIAAAQIEBirQ+iGIHiADbQMPJ0CAwEUC09MXvfSCAIH+C0iA9N98IE/cvXv3Y/HgP5x7+N0DCcJDCRAg0A+B1SQ18hBYFgIECBAgQIBAXQSmjHZcl6ZUDwIEaiIw7XO5Ji2pGhUWkACpcOOtNvSYA+TxuCdGwhr6utXe63oCBAhURmBstPNQx8dTYUzWzr1cSYAAAQIECJRbYHqy3PGJjgABAk0TkJhuWourbwkFJEBK2Ci9Cml4eHhoruzX9eoZyiVAgMDABcZW06sjhspaTY+RgVdOAAQIECBAgACBZQR80bYMjlMECBAYgMCUxPQA1D2SwEUCEiAXcdT7RfQA+UtzNRypd03VjgCBRguspgdIhlrt9Y3GVXkCBAgQIECg1AK+aCt18wiOAIEGChgCq4GNrsplE5AAKVuL9CiemPj870XRb481zwz8cI8eo1gCBAgMVKCYiAnQZ2ZWF8O5VQyZtbqSXU2AAAECBAgQ6K+AL9r66+1pBAgQWEkg/n1q2OWVkJwn0FuBjb0tXumDErjnnnuGH3744avi+e+I9X2x3h5ra4meIPe1920JECBQK4G1JDP0AKnVW0BlCBAgQIBAowUMgdXo5ld5AgRKKpA/m7dsKGlwwiJQfwEJkAq18bZt2zr+WXMkPxbWrD3/xx/HJOi/tvCk1wQIEKiFwFoSIONjqYhf5Qxt8AdpLd4DKkGAAAECBJosMBm9YS0ECBAgUC6ByYlIgFxWrphEQ6BBAobAqlZjt5MYebvaNdf0dzZt2vQdO3fu7DiRUi0e0RIg0HiBc2uc4mgtiZPGYwMgQIAAAQIESicwEV+yWQgQIECgXAJ5qGYLAQIDE9ADZGD0a35wOwmyUgHTccGZWJ+JHh9/FNvf3LFjx+dXusl5AgQIVFWgmJ1d+4TmY5E4ednLq1p1cRMgQIAAAQIEUjEd/wQ0B4h3AgECBMonIAFSvjYRUaMEJEAq1NzRc0OPnQq1l1AJEOizwPi5lIpibQ8dNRH62uDcRYAAAQIECJRGwBdspWkKgRAgQOAigRh22UKAwOAEfKE+OHtPJkCAAIFuCoyucfirHMNah87qZvzKIkCAAAECBAisR2DCF2zr4XMvAQIEeiYgQd0zWgUT6ERAAqQTJdcQIECAQPkF1jOPRwwXURgzu/xtLEICBAgQIEBgaQFfsC1t4wwBAgQGKTA1mYpZ0/EOsgk8u9kCEiDNbn+1J0CAQH0E1tuLY73310dSTQgQIECAAIEqCoybZLeKzSZmAgQaIuAzuiENrZplFJAAKWOriIkAAQIEViVQxC9q0uTEqu655OLRs5cccoAAAQIECBAgUBmBPB+ahQABAgTKKeAzupztIqpGCEiANKKZVZIAAQI1F1jP/B9tGj1A2hK2BAgQIECAQMUEiunp9f8YpGJ1Fi4BAgQqJTAmSV2p9hJsrQQ21qo2NajMtm3b5g8KWOzcufNCGy04t57aXlTuegpyLwECBEoh0I0EyNhYKmZm0tCGDaWokiAIECBAgAABAh0L+GVxx1QuJECAwEAExkYH8lgPJUAgJT1AyvcuGJoLKW/b++0o26/b59azbZdpS4AAgeoLdKX3RpHSeiZSr76iGhAgQIAAAQJVFfA3TFVbTtwECDRFIHqAFEX8m9NCgEDfBSRA+k7e0QPbiY7FLl7u3GLXO0aAAIFaCxSz0XGuW7+mMQ9Ird8rKkeAAAECBGorYGiV2jatihEgUBOB2dmUJsZrUhnVIFAtgQvDK1Ur7PpGG0NeLZmUWu5cfUXUjAABAisI5F88duuXNBIgK2A7TYAAAQIECJRSoFs/Bill5QRFgACBmgjkZPVlW2tSGdUgUB2BJb9sr04VREqAAAECjRboxvwfbcBIpuiW3MawJUCAAAECBKogkOcw86viKrSUGAkQaLyA4Qob/xYAMBgBCZDBuHsqAQIECHRLoJu9NlrDacWvciwECBAgQIAAgaoI6P1RlZYSJwECTRcYG2m6gPoTGIiABMhA2D2UAAECBLoh0Oqt0ZUJ0OdF082Eyrxi7RIgQIAAAQIEeiLQzd6wPQlQoQQIECDQEsgjDuS5QCwECPRVQAKkr9weRoAAAQJdFRgfSykP+9DNpdsJlW7GpiwCBAgQIECAwEIBf7ssFPGaAAEC5RTIc1eOG3GgnI0jqjoLSIDUuXXVjQABAnUXGDnT/RqOnO1+mUokQIAAAQIECPRKQA+QXskqlwABAt0X8JndfVMlElhBYOMK553us8C2bdv29uGRxc6dO9/Sh+d4BAECBHor0IvhqqanUhE9S4Yu29rb2JVOgAABAgQIEFinQDExHr1hp9dZitsJECBAoG8CJkLvG7UHEWgLSIC0JcqzvT5CiT5xyy5Di5xd7J6F1+Vr8rHFrl2kSIcIECBQXoHW/B+96q2REysSIOVtfJERIECAAAEC5wX8ktg7gQABAtUSMGxhtdpLtLUQMARWOZsxJymWW9tR50RGO5mx2PX5uoXXtO+1JUCAQLUFWvN/9OgXj70YWqva2qInQIAAAQIEyijgi7QytoqYCBAgsLTA5EQqpqaWPu8MAQJdF9ADpOuk6ytwZmbmTSuVsGHDhpvimv8j1s2xPhu/gv7N2P5BbPdv3LhxdHp6+iXDw8PXxbFvjPWOWHOZE7H+SJT/6dhaCBAgUH2BXiYpzp5JuYfJ0FDOLVsIECBAgAABAiUVkAApacMIiwABAssI5M/uK65c5gKnCBDopoAESDc1u1DWnj17nl2umO3bt39ffCn3obimiC/mfuLIkSP/+sEHH1zsJ9B/Htf8Tswp8pOx/ZFY/2WsH4rkyVjM//Hh2LcQIECg2gJnT/cu/jyW9ti5lC5/Se+eoWQCBAgQIECAwDoEipmZ+HtlbB0luJUAAQIEBiKQh1yWABkIvYc2U8AQWBVq99tuu+1tkfz4pRxyJD9+bMeOHf9qieTHhVpFsmMm1p+L+3403xbrL0ZS5MsvXGCHAAECFRQoZmdT6sUE6PMteplgmf8c+wQIECBAgACBtQi0JtJtj4i8lgLcQ4AAAQIDEdB7byDsHtpcAQmQCrV9DF/1gxHullgPRfIjD4HV8bJr164PxsUHY90SyZNcjoUAAQLVFcjJj5wE6eUiAdJLXWUTIECAAAEC6xXwBdp6Bd1PgACBwQhEArv1o77BPN1TCTROQAKkQk0eiYtvj3CjM0fxe2sIu33fUOz8jTXc7xYCBAiUR+BMD4e/atdydCQV04uNMNi+wJYAAQIECBAgMEABCZAB4ns0AQIE1iEQ802m8Rhy2UKAQF8EJED6wty1h+SJzfMSsyWtaWnfd+2a7nYTAQIEyiJw+kQfIok/Ss+c6sNzPIIAAQIECBAgsAaB+LGGhQABAgQqKuAzvKINJ+wqCkiAVLDVoifI29YS9rz78lwgFgIECFRSoMi/dpya7E/sp0/25zmeQoAAAQIECBBYhUAxMZ7SjJ6qqyBzKQECBMoloBdfudpDNLUWkACpVvM+E+Hm5MU35QnRVxP63MTn3xz35Fnynl3Nva4lQIBAqQT6mZQ4eyoVMzOlqr5gCBAgQIAAAQKpNQE6BwIECBCorIDP8co2ncCrJyABUqE2i7k7/uNcuMOzs7P333zzzVd1Ev7cdZ+Ma1vtHeV8upP7XEOAAIFSCpzqx/BXczXPY7MaBquUbwNBESBAgACBRgv44qzRza/yBAjUQGBywpyTNWhGVaiGgARINdqpFWUMYfWLsdMekP6rNm7c+KVbb731B97znve8fLFqvOtd73pZ9Py4O6778zj/VXPXnJ4rZ7FbHCNAgECpBYqRMynFH4p9XU4c7evjPIwAAQIECBAgsKLA2OiKl7iAAAECBEou4LO85A0kvLoIbKxLRZpQj507dx6OhMb7o673x7oh1qsjmfF/TU5O/rs4/li83h+9O87Fsctj/w2xvj3WdhvnobNm4vz379q163DsWwgQIFA9geNH+h9zJF3yONtDWy7r/7M9kQABAgQIECCwQCD+TZfS2LkFR70kQIAAgcoJ5ATIy66oXNgCJlA1AT1AKtZikQR5IEK+Odb2T5JzYmNTrF8Z63dF8uPWvJ17nY/n83k9FufeHcmPPbFvIUCAQOUEiqmplPo5/8d8oUEkXuY/3z4BAgQIECBAoC2QJ0CfNUdZm8OWAAEClRUwnGFlm07g1RKQAKlWe7WijSTI78TODfHLn5+Nbbs3RzvRMX+br8/n/9X09PRX7Nixw9wfWcRCgEA1BU5G3jf/4nEQy4ljqZidHcSTPZMAAQIECBAgcLGAL8wu9vCKAAECVRXQm6+qLSfuigm0h0eqWNjCjSRIngX4x/N62223fUVMiv4XY//Vsb401pFYjw4PD3/x/vvvz0NjDegbw3iyhQABAl0QaCUfjr3QhZLWWMTMdEonj6V01WvWWIDbCBAgQIAAAQJdEvCFWZcgFUOAAIEBC8xNhD600dezA24Jj6+5gP/CatDAkeR4NKqRVwsBAgTqKZCHoMpDYA1yeeH5VFz5qjQ0rPPkIJvBswkQIECAQOMFJsYaTwCAAAECtRHIwxpuzL9lthAg0CsB3+L0Sla5BAgQINAVgWImxrh+4WBXylpXITkBYy6QdRG6mQABAgQIEOiCQP6yzEKAAAEC9RCQ1K5HO6pFqQUkQErdPIIjQIAAgZSHvspDUJVhOXIotRIyZYhFDAQIECBAgEDjBFrDgk5ONq7eKkyAAIHaCkhq17ZpVaw8AhIg5WkLkRAgQIDAAoFiOnpdHD204OgAX7biOTzAADyaAAECBAgQaLTAZO79YYrHRr8HVJ4AgXoJjOvVV68GVZsyCpgDpIyt0mFM27ZtuyIu/eZY3zE0NPSqoiheFtsVk1oxYXqxa9eu93f4GJcRIEBgcALPPxu9P2IIrDItRw6m4hVXpqHLLi9TVGIhQIAAAQIEmiDgi7ImtLI6EiDQJIFWYrtJFVZXAv0XkADpvDidqwAAQABJREFUv/m6n3jnnXdeOTk5+fNR0HtivSwXGMmPvLmwbb1Y4n8iSZLPSIAs4eMwAQLlEChOn0zp1IlyBDM/ivx5u39fKr7shjT3eTr/rH0CBAgQIECAQO8EDJXSO1slEyBAYBAC8bmev9Pzb8tB4HtmUwQkQCrW0rfffvv1U1NTn4sPxmsj9FYmY4Uq5MzIwuv0mV4BzWkCBAYrUEzHnB8HnhlsEMs9fWw0huaKobBe87rlrnKOAAECBAgQINBdgcmJ7panNAIECBAYrED+gd1UzO20ectg4/B0AjUWkACpVuMOzczMPBAhXzcX9p/H9hOxfnus3xprEYmR78tDYcX6xth/Zxz7uljzMhLHfmp4ePjY+Zf+lwABAiUWOBhDX+X5Nsq8HD6Qipe/IobC2lrmKMVGgAABAgQI1Ekg/0jEQoAAAQL1Esif7RIg9WpTtSmVgARIqZpj+WBujSWu+F9izT04/vPRo0ff9eCDD07HXCBviNc5AZJ27Njx0bxtL3Hua2L/3lj/YiRE/lEkUL599+7dj7XP2xIgQKBsAsXxIymdPF62sC6NJ/9S55knU/HWGApro/87vRTIEQIECBAgQKDrAjMl/4FI1yusQAIECDRAYEZyuwGtrIoDFFhxwuwBxubRlwrcPHeoiETGD+Xkx6WXXHxk586dfxJHvjnW/x7rtdEDZMf73ve+1rwhF1/pFQECBAYvUIyciaGvovdHVZY8Dvf+pzuaf6kqVRInAQIECBAgUGIBPUBK3DhCI0CAwBoFfLavEc5tBDoTkADpzKkUV0UPjq+PQHLvjz/ds2dPx98QRhJkLO55X6wzsd547ty5O2NrIUCAQKkEiokY0zp6VJz/mCtVaMsHc/Z0SoeeW/4aZwkQIECAAAEC3RDwJVk3FJVBgACBcgmUffjncmmJhsCqBSRAVk020BtenZ8eiZBH50cRc3vMtl8v1bsjkiBPxTW5F8hQXH97+3pbAgQIlEEgurVF8uOJSNPmPG0Fl5gQvThhiqUKtpyQCRAgQIBAZQTi33HV/VupMsoCJUCAwAAEDIE1AHSPbJKABEi1Wrs9dNXIgrAvvB4fH3/lgnPzX+afVufly89v/C8BAgQGL1DM5uRHfDyN585qFV4O7EtF7g1iIUCAAAECBAj0QqD1BVkeEMBCgAABArUS0LuvVs2pMuUTkAApX5ssF1EMjh+DwxTF5fMvih4hF2YLnp2dfev8cwv2r5h7/ZoFx70kQIDAQARayY99kfzIc39Ufcm/ytz3hCRI1dtR/AQIECBAoKwCsxc6/pc1QnERIECAwFoE8o8CLQQI9ExAAqRntD0p+Om5Uq+eX3okQB6e9/qvz9u/sHvPPffktv7quQPnLpywQ4AAgQEJ1Cr50TaUBGlL2BIgQIAAAQLdFhga6naJyiNAgACBMggM+Xq2DM0ghvoK+C+sQm0biY4/i3DzX703zA87eoT8YbyO2YNbvUN+8Oabb76kh8fDDz/8w3H6TfmSWB+K1UKAAIGBCdQy+dHWlARpS9gSIECAAAEC3RSQAOmmprIIECBQHgGf7+VpC5HUUmBjLWtV00rF8FYPRhLk7qjetbfccsubd+/evTdXNSY4P719+/bdkQi5M16+euPGjX+8bdu2fxv7X5obLutdsf93Ym0vn2zv2BIgQKDfAucnPK/JsFdL4bWTINe/NQ29/MqlrnKcAAECBAgQINC5gF8Id27lSgIECFRJQAKkSq0l1goK6AFSoUbbsmXLZyLcyRxyJEJunR96JDp+NF6fnDt2TWx/Idb/FNftifV9sd/uL/2nV1555a/FawsBAgT6LlBMRme1px6tx5wfK+m1kiBPpeLo4ZWudJ4AAQIECBAgsLKAL8hWNnIFAQIEqijg872KrSbmCglIgFSosT7xiU/kWYLviGTH34vtI/NDj14gz0cPkW+LY8/GmpMdi62/Nz09/bfuvffeqfn32idAgEA/BIpzIyk9GR9d4+f68biSPCNGHTy4PxUHnknx2V2SmIRBgAABAgQIVFLAF2SVbDZB///s3XmMZVmaEPbvxpJb5BKZkfu+VlVXG0tYzNgIBEhItixheWZ6xRjR9oxn/gAkZsDYLILRGP5AmEVCsj1jEIMsM9PTNd24xzKysY2wZIPURhhNV3fXvmVlVmUtmZWV+3b9nReZVVmVW7yIt9zld6ToePHeveee73deR2W8757zESBA4IkCVvg9kcgBBNYiYAustehN4dxMdHznUZfNLbH+VW599Uyu+PhSftD2B/O4/fl1J39+NX/+rTz3nzzqXM8TIEBgnAL1hQ8j3spd++7cGedlmtv3B+dy/d71qI/kllizs80dp5ERIECAAAECjRXIv+sGBR0bO0ADI0CAAIHVCdzbs2V1ZzuLAIEnCEiAPAGobS9nkqNskfVrd7/aNnzjJUCggwL1uTMRZ093MLIhQ/r4o9z+6wdRH3sqqnXrhzzZ4QQIECBAgACBFJjNP+Fv30JBgAABAl0SKL/bNQIExiZgC6yx0eqYAAEC/Raob92K+vUsdi758ekb4drViBefj/rihU+f84gAAQIECBAgsFKB9RtWeqTjCBAgQKAtAn63t2WmjLOlAhIgLZ24tQz7j/yRP7J1Lec7lwABAk8SqK9cznofz0d8dP5Jh/bv9XLX5msvRn32LXVB+jf7IiZAgAABAmsTWG8V6doAnU2AAIEGCkiANHBSDKlLAtZYdWk2nxDLT/zETyzOzc39wo0bN/5EHrrjCYd7mQABAqsSqN9/d1D4Oz/dX9X5vTnp3NmIyx8v1wWZX9ebsAVKgAABAgQIrEHANpprwHMqAQIEmiiQBUD8PdjEiTGmDglIgHRoMh8Vyk/+5E8uzc/P/+kshP7H85jNjzrO8wQIEFiLQH37dsTp1yJKwXNtZQKXL0W88P1MgpyIasu2lZ3jKAIECBAgQKC/AutsgdXfyRc5AQKdFFi3LqoZG/R0cm4F1RgBCZDGTMXoB5KJj92Z+Pizmfj4ufzalFfItPKguS37LoRvBAiMRqAuH+S/+UrEjeuj6bBPvZQtsV59Ierd+yL2HPCP3z7NvVgJECBAgMCwArZJGVbM8QQIEGi2gJV9zZ4fo+uEgARIw6fxa1/72r+VyYufza/fl0Pdn1/llp938+d/UVXVL3/rW9/6Pz8fwle+8pVt+dqfz2P+RH6V40vi417SIzfmj//28+f4mQABAqsRqO/ciTh3Jn8r5XZOn/yaWU1PzomyJdbFj6I+fDyqjSVnrREgQIAAAQIEPiegBsjnQPxIgACBlgv4vd7yCTT8NghYY9XgWcpExt+4c+fO9zKJ8Z/lMJ/Jr1K8vGwUfygTHF/O7//ky1/+8l/P75+0PKc8/3Ke82fy+8ZPXsid5vPxX8saIMcyafJn73veQwIECKxKoL52NX/b/CCTH5kAkfxYleEDJ127MigeX2cyJH+PP/CyJwgQIECAAIF+C1Rz8/kXoULo/X4XiJ4AgU4JbLRTfafmUzCNFLACpJHTEpGJjL+UQ/v5u8N71KdgmQepfuGrX/3qu7/xG7/xX+c5fyWP/3P5df+Kj9yXJv5Ofv3NTHyMfWP+su3W7Ozsj+f1fjzH9mP5vXwt5Vf5MO8fPPfcc98ojx/XMo5v5Ot//3HH3Pfaf5Jx/ep9P3tIgMCYBQYfzJdC52ffKv/HHvPVeth9MS22Fy9EfShXg7gjqIdvAiETIECAAIHHCGzO++I+fO8xB3iJAAECBFojsKXc66wRIDBOAQmQcequsu+vf/3r+2/fvv0X8vT7P1n8p/nz/5dfVzOxsD8/gPyD+fhQflX5+M/mSpAP8vGfz69751zJ4/72jRs3/sY/+kf/6EI+P5GWK0zyU1GNAIGuCtSlxsdbr0VcutjVEJsT1+WPI17MAun7D0e1tKs54zISAgQIECBAYLoC5cMyCZDpzoGrEyBAYBQCWdepsqpvFJL6IPBYAQmQx/JM58Vbt279sUxe5NrmQTLjzZmZmZ/45je/+a/vH02ukpjNxMefy+N+KZ9fyu+/fPf1svrjf82vn8lVIW/ffW5a397MC/8ov/7d1Q4gY/z3ckVJ2V/noe369eunH/qCJwkQGLlA/cG5iDO5MuHO7ZH3rcNHCBTr069F/dGHEQeP+sfxI5g8TYAAAQIEeiVQVoBoBAgQINB+Ab/P2z+HImiFgARIA6cpkxml4PmgZfLjD38++VFeyG2fyieQfyVXfjybx389H5e5rPPxr2Xi44+Wx/k1jfZLmbT43vz8/Pd+7dd+7d1czXI0V7Pk7eKra7mi5MVf//Vff311ZzuLAIFRCNTXc9VHfghv1ccoNFfZx8cfRbxQVoMcytUgu1fZidMIECBAgACBLgiUOiD1xk25N0DWDtMIECBAoL0CW7a1d+xGTqBFAhIgzZysZ3NYJYHx25n8+BePG2ImPP6bfL0kQEq7fvPmzV/I79NKfpTEzF8ejMT/ECDQeoFMZkaUWh/v5EKrO3daH0/rAxisBnk96gtlNcgxtUFaP6ECIECAAAECaxAoH5pJgKwB0KkECBCYtkBu4LKwZdqDcH0CvRCY6UWU7QtyexlyJjc+s+3Vw8LILaDuHVOSHv/Pd77zndyjRiNAgMDaBOrr1yJeyR3szuROdpIfa8Mc9dml/sqLvx11JqcGSapR968/AgQIECBAoPkCm9013PxJMkICBAg8RmBhIao596U/RshLBEYmIAEyMsqRdrT5bm+558nj23e/+92skrvcMmFSam5oBAgQWLVA+UC9Pnd2UHw7ShFurZkCJSn19huZpPphDJJVzRylUREgQIAAAQLjEticdw3PrxtX7/olQIAAgXELbN857ivonwCBuwJSjd16K1zqVjgRWT/k72fB96czrvJfhrztOV7Or/89v/7b3G5r2kXecxgage4I1NdyH+k3X8vtFC53J6iuR3I5f+2/kKtB9h6I2LWvrBzsesTiI0CAAAECBFKg/De/3rEr4l1/EnlDECBAoHUCM7MRi0utG7YBE2irgARIW2euP+P+A/eFWv7rUL7+7fz601kA/k8999xzv3zf6yt++FM/9VMHn3RwJl9msw0Oy2L0Tzrc6wRaK1CX1QTnzuQf0Lnyo87HXfoQvXw48LmZKR8YdC5R8E5++PHRhagOH4+qFEXVCBAgQIAAgc4L1Lv2RP1e+ffb5/+10/nQBdhlgb78+73Lcyi2JwpUO3ZGNT//xOMcQIDAaAQkQEbjqJfRC7yaW/F8O7v955mEeKt0f+fOneP5oeWX8vkv548b8vF/l6tD6lwJ8ivl9WHavT4fd86FCxdiaWkpShJk7969jzvUawRaK3Dn0sdx49UXchulXP2x2L29pO+sm48sGf6ZtrhtMWYW7u00+JmX2v/De2/H3L5DMXfgcFQSt+2fTxEQIECAAIEnCFy/+nHcOf/BE47yMoH2CPTu3+/tmRojHaHA+md/R3f/Jh2hk64IjEpAAmRUkmPoJz/o//H8gP8vrbTrYY7PpMEvrbTfKRz3nRzfP8jrfv5Wpu/lc9/MlR9/KJMfJTlS0uV/K42+m8e/k481AgRWKFDfvh23sobErbJywF2DK1RrwWE5l7eycP3tD9+PdcefipktW1swaEMkQIAAAQIEViswt2d/3JAAWS2f8wgQIDBxgZmFLZIfE1d3wb4LSIA0+x3wYzm88vWkdi9RsNLjS3+NTYBkMuOxxd9z26v/OZMgv5RJkP8q4yh7vfx0fv3V/Fpxy+2tDj3p4MXFxZJw2ZvHxnvvvfekw71OoDUCda76qN96NeL6tdaMebUDrR9Sz+RC2Srqxs3VdtmS885HvHMmql25ei3rg1Rlj1mNAAECBAgQ6JxA3gQX9eVcyXvjeudiE1A/Bfr77/d+zncfo662bI/qnX7dw7tr167B7ip9nG8xN0NAAqQZ8/CoUYyrmu29hMmjrtv45zMp8Stzc3MliVOMfn9+DZUA+fa3v336SUHm1le37x2T22/de+g7gdYKlFUf8U6+9d9/t7UxDDvw8qHA59vguYc8//njWv9z+UDk3aztUu4KLbVB8k4jjQABAgQIEOiewKAY+tnBrsHdC05EvRPo9b/fezfbPQw4t1ivty5G5TOmHk6+kKcpIAEyTf1HX/v/ypce/NTu0cf37pXvfOc753Lrq7LZ7c78OtA7AAETGFKg/vhixOnX3B04pFsnDi93hL78w6h37onYd9BqkE5MqiAIECBAgMB9Aku7I97Lu4lvdX2F630xe0iAAIE2Cuze5++xNs6bMbdeQAKkgVOYW0D9gQYOq4lDkiRq4qwYU6MEBqs+zr4Z8YFt3Bo1MdMYTFn5c/FC1AePRaU2yDRmwDUJECBAgMBYBKpyR3FueRmnXx9L/zolQIAAgREIzK/LW3jzpjSNAIGJC8xM/IouSGAEArn6Y1d2U1Z/lJZ7vGgECHxeoL6Uqz5e/L7kx+dh+vxzWQ3y6o+ifvuNqO98sstfn0XEToAAAQIEuiGwI/88Wr+hG7GIggABAl0UUJuxi7MqppYISIC0ZKIM8wGBn81nBjVSco/Qf/bAq54g0GOB8sF2/Xau+njlR7a86vH74LGhl9UgL3w/i6ZeeuxhXiRAgAABAgTaIVBV+afRvkPtGKxREiBAoG8CGzZFbL93D2/fghcvgekLSIBMfw6M4D6Br3/960e/9KUv/c77nnrg4Ze//OU/lE/+pbsvXM1/7P/9Bw7yBIGeCgw+0H7x+Sx0nvtAawQeJ3CvNkgWTa0V4XuclNcIECBAgEArBKpt2yMWNrdirAZJgACBXgmUWowlUa0RIDAVATVApsLe3Yvm1lS/N6M7eS/CO3fufJLizl/2J/P1b9x7rXzPeie/ev/Pt27dOjozM/NP87h/nis7fisf/+vbt2+fK8fMzs4ez29fzue/nN/vrf74M88999zb5XWNQJ8FBh9gv5u7wZ07mwzK4/T5vTBc7PleKe+Zix9Fffh4VBvzziSNAAECBAgQaK9AWQXy8g/bO34jJ0CAQNcENm+Nauti16ISD4FWCUiAtGq6mj/YTE78TCY6/ti9kebP9x6W77/n7tf9z/3q/T/c9/h3Zz+/u5yfSZDB05/r60o++fOZ/PiV+87xkEAvBeprVyPeeCXiWvm/hUZgFQLlvZMrh+p9WUB11z53J62C0CkECBAgQKAJAtXClqjLSpCPzjdhOMZAgACBngvYnrDnbwDhN0RAAqQhE2EYywI3btz4l+vWrfuP86eSAPld+X1ffpVVJOW9Wv4V/3w+/3/cvHnz737nO98ZrAzJ5zQCvRWoSy2HM1nv47PJxt56CHwtApmwPnv609Ug69avpTPnEiBAgAABAtMSOHAk4tLFiNu3pzUC1yVAgACBIrB7b1SbFlgQIDBlAQmQKU9A1y6fKzK+kTGVr1W17373ux/nif/j3a9V9eEkAn0QqG/ejDj9Wn5YfaEP4YpxkgKX89fwi1kg/eDRqBaXJnll1yJAgAABAgRGIFDNr4v6wNGIN3OFsEaAAAEC0xHYsDFiT66w1wgQmLqAIuhTnwIDIECAwHACdUl65AfUkh/DuTl6CIFyx2huq1a/+WrU7h4dAs6hBAgQIECgGQLV9ryJoWyFpREgQIDAFARy66tDWWPx7pbuUxiASxIgcJ+AFSD3YXhIgACBJgsMCp2XLYref6fJwzS2Lgmcfz8iV4TUR07k0u3NXYpMLAQIECBAoPsCuZozLuXKztu3uh+rCAkQINAkgT1ZV9HWV02aEWPpuYAVID1/AwifAIF2CNTXr0W8/APJj3ZMV7dGeeN6vvd+GPV7Em/dmljRECBAgEDXBaq5+YiSBNEIECBAYHICGzZl7Y/9k7ueKxEg8EQBCZAnEjmAAAEC0xWoz3+QW149H3H1ynQH4ur9FaizQPqZN6N+7cWob2X9GY0AAQIECBBohUC1uCNCTa9WzJVBEiDQAYEqt746bOurDsykEDomIAHSsQkVDgEC3RGo79yO+q0sdF4KWOZjjcDUBe7Wn6lLoXSNAAECBAgQaIfAgSMRWRhdI0CAAIExC+w9ENXGXAGiESDQKAEJkEZNh8EQIEBgWaC+lqs9Xsotrz58DwmBZgnczBUgL/8o6nfPRF1WhmgECBAgQIBAowWquSz9efRkRLkzWSNAgACB8Qhs2x6Vra/GY6tXAmsUkABZI6DTCRAgMGqB+sMsPF2SH9eujrpr/REYkUAmPt45HfHqC7bEGpGobggQIECAwDgFqk2bsx7IsXFeQt8ECBDor8CGjRGHjvc3fpETaLiABEjDJ8jwCBDoj8AnW1699WpueXWnP4GLtL0Cly5mfZrvhy2x2juFRk6AAAEC/RGoduyM2LmnPwGLlAABApMQmJ3NVXanoirfNQIEGikgAdLIaTEoAgT6JlBfv5arPn5oy6u+TXwX4r23Jda5s12IRgwECBAgQKDbAvsORSxs6XaMoiNAgMAkBQ6fiGr9hkle0bUIEBhSQAJkSDCHEyBAYNQC9YUP8y7653PLq6z7oRFopUBuiXX2rahfeym3xLrVyggMmgABAgQI9EGgmsmPAI5kPRBF0fsw3WIkQGDcAnsPRrV1cdxX0T8BAmsUkABZI6DTCRAgsFqBOre5qt9+M+KNl3PLq9ur7cZ5BJojcPF8rmR6Puorl5szJiMhQIAAAQIEPiNQzc8PtmtRFP0zLH4gQIDAcAKl6Pme/cOd42gCBKYiIAEyFXYXJUCg7wL1jesRr/wo4v13+k4h/q4JlPf2yz+I+oNzXYtMPAQIECBAoDMC1aYFBXs7M5sCIUBg4gIbNvkdOnF0FySweoG51Z/qTAIECBBYjUB98ULEm1no/Latglbj55wWCNS5Jdbp15eLox88GtWMgoAtmDVDJECAAIGeCVTbl3LrypsRZ3JFskaAAAECKxNYtz7i+NOKnq9My1EEGiEgAdKIaTAIAgT6IFCXD4XffTu/zvQhXDESiDj/QcTVK1HnXuPVho1ECBAgQIAAgYYJVLv2LtfvOuffpw2bGsMhQKCJAnO5heDxZ2KwlWATx2dMBAg8VMAWWA9l8SQBAgRGK1DfzLvrXn1B8mO0rHprg8C1q8t1QUoyRCNAgAABAgQaJ1DtOxixY1fjxmVABAgQaJRAWdVeVn6szxUgGgECrRKwAqRV02WwBAi0UaC+dDG3vHoloiRBNAJ9FLhzZ/D/gfpy/n9h/2FbYvXxPSBmAgQIEGi2QG5ZGbdye9aL55s9TqMjQIDANASqKuLYqag2Zu0PjQCB1glYAdK6KTNgAgTaIlC2vKrLdlev5MoPyY+2TJtxjlPgg/dyNcgPo75+bZxX0TcBAgQIECAwpEBVPtw7ciJiYcuQZzqcAAECXRcovx9zS9/NW7seqPgIdFZAAqSzUyswAgSmKfDJllfvnM5hZO0PjQCBZYFrVyJefD5qW2J5RxAgQIAAgUYJVDP58cDRUxEb3OHcqIkxGAIEpiuQK+SqbdunOwZXJ0BgTQISIGviczIBAgQeFBhsefXS9yPK1lcaAQIPCty5vbwl1unXoi7bY2kECBAgQIBAIwSqudwlO/e4j/UbGjEegyBAgMBUBcr2vUtqJE11DlycwAgEJEBGgKgLAgQIFIHBlldlxYctr7whCKxMYLAl1g+iLqtCNAIECBAgQKARAtX8fMSJL+RKkI2NGI9BECBAYCoCJfmxa+9ULu2iBAiMVkACZLSeeiNAoKcC9Y3rmfj4YUSp+WHLq56+C4S9KoGS/HgpkyAlGaIRIECAAAECjRAYJEGOPyMJ0ojZMAgCBCYuIPkxcXIXJDBOAQmQcerqmwCBXgjUFz7Mmga55dXlS72IV5AERi5QtsEq22G9/lLUt26NvHsdEiBAgAABAsMLLK8EKUkQNUGG13MGAQKtFThwxMqP1k6egRN4uIAEyMNdPEuAAIEnCtRZx6DOD23jjZcjbmdNA40AgbUJfHR+kEysL3+8tn6cTYAAAQIECIxEoJor22FlTRBJkJF46oQAgYYLlILnO/c0fJCGR4DAsAISIMOKOZ4AAQIpUF9d3rYnbNvj/UBgtAI3b0S8/KOos56OAumjpdUbAQIECBBYjcAnSZCNVoKsxs85BAi0RKAkP5Z2t2SwhkmAwDACEiDDaDmWAIHeCwwKnZ/LOh8vPR9x7WrvPQAQGI9AvVxP5+UfRn392nguoVcCBAgQIEBgxQKDJEipCSIJsmIzBxIg0CKBg8ckP1o0XYZKYFgBCZBhxRxPgEBvBerrdwudnz2dS0DyA1qNAIHxCly9vLwl1gfnxnsdvRMgQIAAAQJPFKjm5iJKEmRh8xOPdQABAgTaIVBFHDqeyY9d7RiuURIgsCoBCZBVsTmJAIG+CdQfvq/Qed8mXbzNEBgUSH896tdejPrmzWaMySgIECBAgEBPBZaTIFkTZOtiTwWETYBAZwRm8iPRY6ei2rGzMyEJhACBhwtIgDzcxbMECBAYCNS3bkb9+ksRb70akUXPNQIEpiRw8ULEC78ddSmUrhEgQIAAAQJTE6hmZiOOnorY7kPDqU2CCxMgsDaB2fw9livaKsnctTk6m0BLBHINq0aAAAECDxMYfNB6+vWITIJoBAg0QOD2rYhMSNbblyL2H4nBXagNGJYhECBAgACBvglUVW4bc/h41GVbrPfe6Vv44iVAoM0C8/OZ/Hg6qg2b2hyFsRMgMISABMgQWA4lQKAfAvWt/JD17TciLnzQj4BFSaBtAufz/5uXLkZ98GjetbW9baM3XgIECBAg0BmBav/hTILkh4ln3+pMTAIhQKDDAus3LCc/1q3vcJBCI0Dg8wISIJ8X8TMBAr0WqC/m9jpl1YdaA71+Hwi+BQLl/6OvldUguf1GfvhiNUgL5swQCRAgQKCTAtXufcsrQd56PeOrOxmjoAgQ6IDAxoVMfjyVfzdk0lYjQKBXAhIgvZpuwRIg8CiBwaqPM29GnM9i5xoBAu0RKP+fvfRR1IeOR7VlW3vGbaQECBAgQKBDAtWOXctJkNdfzhyIJEiHplYoBLohsHnroHZRVWp/aAQI9E5AEfTeTbmACRD4vMBg1ceLvy358XkYPxNoi0BZDfLqC1G/9VoMkpltGbdxEiBAgACBDgkMtqU88YWIWfdZdmhahUKg/QJlxfixXPkh+dH+uRQBgVUKSICsEs5pBAi0X6DO4ub1G68MttGx5VX751MEBOLD9yIymTlIauIgQIAAAQIEJi5QLWyOOPXFiLLPvkaAAIFpC+w9GNXhXCk+4+PPaU+F6xOYpoDfANPUd20CBKYmUF/4MOKF7yt0PrUZcGECYxK4Vxskk5slyakRIECAAAECkxWo1mdx4ZPPRixsmeyFXY0AAQL3BKoq4vCJqPbsv/eM7wQI9FjA2tQeT77QCfRRoC4fjr79esRHWexcI0CguwIXPoj4OGuDHDwS1eJSd+MUGQECBAgQaKBANTcX9fGnI06/bpvZBs6PIRHotEDZ6qpseSUJ2+lpFhyBYQQkQIbRciwBAq0WqD/MYsln3oi4fbvVcRg8AQIrFLh9K6KsBDmfK75KImR+3QpPdBgBAgQIECCwVoHBljO59Uy9LleEvPv2WrtzPgECBJ4sUH7fZPK1sg3fk60cQaBHAhIgPZpsoRLoq0B94/ry3Wd5N7hGgEAPBS7miq8XLka9/3BUO3b1EEDIBAgQIEBgegLV3gNRlw8j33o1oq6nNxBXJkCg2wKlBtHRU1HNzXc7TtERIDC0gATI0GROIECgLQJ1+QPrg3MRZ09H3LHqoy3zZpwExiJQVn699VquBsmtsQ4ey7vC8u4wjQABAgQIEJiIQLV9KVeC5ErM1160Gnsi4i5CoGcCZcvbQ/lvfMXOezbxwiWwMgFF0Ffm5CgCBFomUF+7GvHKD7PeR255JfnRstkzXAJjFLh0MeLF3476vXfyJlR3oY5RWtcECBAgQOAzAoP9+E99McLWNJ9x8QMBAmsU2HswqiNZ8FzyY42QTifQXQEJkO7OrcgI9FKgvnMn6nfP5Aec34+4fKmXBoImQOAJAvl7Is68GfHyD6O+duUJB3uZAAECBAgQGJXAYF/+kgTZujiqLvVDgEBfBUrCo2x5tWd/XwXETYDACgUkQFYI5TACBJovUF/NDzJf/kHEO7nllTu7mz9hRkhg2gJXMkn64vODpGlJnmoECBAgQIDA+AWq2dnBh5axe9/4L+YKBAh0U2A+t9Q7+WxU27Z3Mz5RESAwUgE1QEbKqTMCBKYhMPjgsqz6OHc2L29Lm2nMgWsSaK1ASZaWpOmFD6Mu+wZvWmhtKAZOgAABAgTaIlBVVcS+Q1kcfWPE6dfcvNSWiTNOAk0QKMXOj+TKj3nFzpswHcZAoA0CEiBtmCVjJEDgkQJ12ebqrVcjrl975DFeIECAwBMFylZYL/0g6nI3ai6jt4fwE8UcQIAAAQIE1ixQ7diZSZANEa+/FHHr5pr70wEBAh0X2LEr4sAR/1bv+DQLj8CoBWyBNWpR/REgMBGBOgub12+XPfxzyyvJj4mYuwiB7gvkapBzyzWE6ssfdz9cERIgQIAAgQYIVOVu7qeyLsjGTQ0YjSEQINBMgVw1tv9wVGXFtmLnzZwioyLQYAEJkAZPjqERIPBwgcEHky9kkfP333n4AZ4lQIDAWgRKUrUUSM8ka0m2agQIECBAgMB4BarBfv5fiFjcMd4L6Z0AgfYJlLpBx5+Katfe9o3diAkQaISALbAaMQ0GQYDASgQGH0SefVviYyVYjiFAYO0CJcl68XzUh0/E4O7UtfeoBwIECBAgQOARAtVMfsh55GTUG3M15tmsz6URIEBgQ9YJOpr1PspWeRoBAgRWKSABsko4pxEgMFmBwaqPN7PWx43rk72wqxEg0G+B8junrAbZtSdi70FL7vv9bhA9AQIECExAoNq9P5MgCxFvvBxx20rMCZC7BIFmCmzbHnHoeFRlBYhGgACBNQjYAmsNeE4lQGD8AoNaH2dKrY8fSn6Mn9sVCBB4qEDWBnkvV4O8+P2or1x66BGeJECAAAECBEYnUG3ZFnEq64KUu781AgT6J1BuPCorPyQ/+jf3IiYwBgEJkDGg6pIAgdEIDD5ofPH55Q8eR9OlXggQILB6gVIb5KVcDZLbctR37qy+H2cSIECAAAECTxQYbHlz8tmIche4RoBAPwRKwuNY1vvYs78f8YqSAIGJCNgCayLMLkKAwDACdZ13W587G/FO1vuIfKwRIECgMQLl91PuTf7xheXaIO5MbczMGAgBAgQIdE9gcPd33gVel//2qgvSvQkWEYH7BdT7uF/DYwIERihgBcgIMXVFgMDaBerrud/+K7nd1Tul8KHkx9pF9UCAwFgErl7J1SDPR/3+u2PpXqcECBAgQIDApwKlLki5Kzxsh/MpikcEuiSwNVd65Yovxc67NKliIdAcAQmQ5syFkRDovUD94fuDPfbjsj32e/9mAECgDQJlG6y334j6tRejvnmzDSM2RgIECBAg0FqBauuiuiCtnT0DJ/AYgaz3EUdPqvfxGCIvESCwNgEJkLX5OZsAgREI1LduRf3GyxFvvRpx5/YIetQFAQIEJihw8ULEC78d9cXzE7yoSxEgQIAAgf4JfFIXZHFH/4IXMYGuCdxX76Oqqq5FJx4CBBokIAHSoMkwFAJ9FKjLao8Xvx9x4cM+hi9mAgS6InD7VsRrL0X99psKpHdlTsVBgAABAo0UKHVBqiMnI/YdyvH50LSRk2RQBJ4ksGHTYEXXYGXXk471OgECBNYooAj6GgGdToDA6gXq997JYoZvZakPtT5Wr+hMAgQaJfB+/l67cinqIyeiWre+UUMzGAIECBAg0CWBave+qDcuRJSV5OVGBI0AgXYILC5FHDoa1cxsO8ZrlAQItF7ACpDWT6EACLRPYLDlVd4pHWfelPxo3/QZMQECTxLIBEhZ2WZLrCdBeZ0AAQIECKxNoNqyNeKpL0aURIhGgEDDBXLF1v7DuYIrbxSS/Gj4XBkegW4JSIB0az5FQ6DxAnX5YPCl5yPsld/4uTJAAgTWIHA76xmVLbEy0VuXYukaAQIECBAgMBaBwYrLk1+I2LFrLP3rlACBEQjMzUeceDqqXXtH0JkuCBAgMJyALbCG83I0AQJrEKg/eC/i7det+liDoVMJEGiZQNnqb7Al1qmo5vMPP40AAQIECBAYuUA1k/d2HjoW9aZcCfL2G/7eGLmwDgmsQWDT5oijJ/PfwuvW0IlTCRAgsHoBK0BWb+dMAgRWKFBnjY9SGDhOv+aPkRWaOYwAgQ4JXF5e+VZfvdKhoIRCgAABAgSaJ1At7c67zHM1iJsOmjc5RtRPgaVcmXXiGcmPfs6+qAk0RkACpDFTYSAEuilQ6n3Eqy9ElMLAGgECBPoqcPNGxMs/iPqj830VEDcBAgQIEJiIQLWQd5uf+jciFrZM5HouQoDAQwSqrPdx8FhU5aus0NIIECAwRQG/haaI79IEui5QX7+2XO/j0sWuhyo+AgQIPFmg1AJ5PeuCvHvmycc6ggABAgQIEFi1wGDbyeNPR+xUb2DViE4ksFqBstVV1uWpyuoPjQABAg0QUAOkAZNgCAS6KFB/nEmPN16KKIWANQIECBD4VOCd01FfuzrYq9wdcZ+yeESAAAECBEYpMPhv7IHDy3VByla85UYEjQCB8Qps3hpx5ERUpei5RoAAgYYISIA0ZCIMg0CXBOoLH0a8+Yp6H12aVLEQIDBagQsfRNy6GfXRLI4+OzvavvVGgAABAgQIfCJQbV+KesPGwSrMuHH9k+c9IEBgxAK790XsPRhV2f5KI0CAQIMEbIHVoMkwFAJdEKg/OJcrP16W/OjCZIqBAIHxCpTtAV/5UdSZCNEIECBAgACB8QlUGzdlXZAvRmzZNr6L6JlAXwVKjY+y6mPfIcmPvr4HxE2g4QISIA2fIMMj0CaBwb72p19v05CNlQABAtMVuHo5i6P/MGp3pE53HlydAAECBDovUM3lBhjHnorYs7/zsQqQwMQE1q3P5OKzUS0uTeySLkSAAIFhBSRAhhVzPAECDwjUdR31229G5L72GgECBAgMKXD9WiZBfrBcF2TIUx1OgAABAgQIrFygbM1T5RY9cexUxIwtKFcu50gCDxHYun2wsqrakCusNAIECDRYQAKkwZNjaARaI3Amkx/vv9Oa4RooAQIEGidwM7fBKtthlWSIRoAAAQIECIxVoCof3D6VW2KV2iAaAQLDC+w5EHH0ZBY7V1p4eDxnECAwaQEJkEmLux6BjgnUZ3PVx/vvdiwq4RAgQGAKAqUWSEmC2A5rCvguSYAAAQJ9E6jWb4g4+WzEtkyGaAQIrEygrJzKFVTV3gPqfaxMzFEECDRAQAKkAZNgCATaKjCo+XHuTFuHb9wECBBonsDNG8tJkPJdI0CAAAECBMYqUM3ORnU0t8Mq22JpBAg8XqAkDXPl1GAF1eOP9CoBAgQaJSAB0qjpMBgC7RGo38str9T8aM+EGSkBAu0RKCtAXn0h6rIiRCNAgAABAgTGLlCVwuilQHomRDQCBB4icK/eR0mCaAQIEGiZgARIyybMcAk0QaA+/0FEqfuhESBAgMB4BK5dzSTIi1HfuT2e/vVKgAABAgQIfEag2ro4KOisLshnWPxAYHmFVKn3IUHo3UCAQEsFJEBaOnGGTWBaAvWVSxFvvTqty7suAQIE+iNw9XL+vn29P/GKlAABAgQITFlAXZApT4DLN0ugJDxyZVRZIVVVVbPGZjQECBAYQkACZAgshxLou0Bd9qR//aWIuu47hfgJECAwGYELH8Sg3tJkruYqBAgQIECg9wLqgvT+LQCgCJStrk6Veh+5MkojQIBAywUkQFo+gYZPYFIC9Z07Ea9l8uOmPeknZe46BAgQGAhkvaX6o/MwCBAgQIAAgQkKLNcFyQLpM+qCTJDdpZogcHc7uMGKqCaMxxgIECCwRgEJkDUCOp1AbwROvx5RtmPRCBAgQGDyAm++GnWpC6IRIECAAAECExOoBoWfn41Yt35i13QhAlMV2L0/4ugp9T6mOgkuToDAqAUkQEYtqj8CHRQYFD0//34HIxMSAQIEWiJQiqG/8UoWRc/VeBoBAgQIECAwMYFqw8bl4uibt07smi5EYOICM/nx4JETUe07qN7HxPFdkACBcQtIgIxbWP8EWi4wqPvx9ustj8LwCRAg0AGBa1ci3j3TgUCEQIAAAQIE2iVQzc1FHH86Yufedg3caAmsRGB+XcSJL0S1uLSSox1DgACB1glIgLRuygyYwOQE6lLsPLddidt557FGgAABAtMXOHc26ssfT38cRkCAAAECBHomUFVVVAcORxw6HnmLfM+iF25nBRY2Lxc737TQ2RAFRoAAAQkQ7wECBB4t8P67EZcuPvp1rxAgQIDAhAWWE9O1xPSE3V2OAAECBAgsC1Q7dg7ulo/5eSQE2i2wY1eubHomKu/lds+j0RMg8EQBCZAnEjmAQD8FBltfvXO6n8GLmgABAk0WuHE9t8J6u8kjNDYCBAgQINBpgeruXfOxcVOn4xRcVwVyBdP+w1EdOhZVqf2hESBAoOMCftN1fIKFR2DVAmffilBsd9V8TiRAgMBYBXKFXn392lgvoXMCBAgQIEDg0QJVqZtw8gsR27Y/+iCvEGiawMxsxLFTUe1Sz6ZpU2M8BAiMT0ACZHy2eibQWoH68qWI8x+0dvwGToAAgc4LlBpNZzJRrREgQIAAAQJTE6jKh8lHTkbs3j+1MbgwgRULrFuf9T6y2PnWxRWf4kACBAh0QUACpAuzKAYCIxQYFD4/8+YIe9QVAQIECIxF4OL5qD/+aCxd65QAAQIECBBYmcCgOPq+g1kc/Zji6Csjc9Q0BDZlsfOTz0a1wbZt0+B3TQIEpisgATJdf1cn0DyBCx9GXMkVIBoBAgQINF8gV4EMEtfNH6kREiBAgACBTgtUg4LST0fM5qoQjUCTBBaXIk4odt6kKTEWAgQmKyABMllvVyPQfIFzZ5s/RiMkQIAAgWWBa1ciPr5AgwABAgQIEGiAQLV5a24x9MWI9RsaMBpDIJACew5EdeSEYufeDAQI9FpAAqTX0y94Ap8VqC/mh2jlwzSNAAECBNojIHHdnrkyUgIECBDovEBVkh+51VCUZIhGYFoCVRVxOBMfew9MawSuS4AAgcYISIA0ZioMhEADBHyI1oBJMAQCBAgMKXD5UtSXPx7yJIcTIECAAAEC4xKo5uYijj0VUbbF0ghMWmA2338nstj59tz6SiNAgACBkADxJiBAYCBQl7ofPkDzbiBAgEA7BSSw2zlvRk2AAAECnRWoZmaiKoXRcwsijcDEBNatz23Ystj5QhY91wgQIEBgICAB4o1AgMCywAfvkSBAgACBtgpc/CjqmzfaOnrjJkCAAAECnRUYbEF0MBMhkVsSaQTGKbBxYbD92mAbtnFeR98ECBBomYAESMsmzHAJjEOgvnMn4qMPx9G1PgkQIEBgIgJ1xPkPJnIlFyFAgAABAgSGE6iWciusY6ciclWIRmAsAlu2ZfLjmajm58fSvU4JECDQZgH/9W3z7Bk7gVEJXDwfcfv2qHrTDwECBAhMQ0ACZBrqrkmAAAECBFYkUG1dHNRliDkfUK8IzEErFyi1ZrLmTDUzu/JzHEmAAIEeCUiA9GiyhUrgkQI+NHskjRcIECDQGoFrV6K+eqU1wzVQAgQIECDQN4Fq0/IWRVHqNGgERiGQNWZKrZmqssXaKDj1QYBANwUkQLo5r6IisGKB+k6u/Pj4oxUf70ACBAgQaLCA7QwbPDmGRoAAAQIEshLI+uUi1aFItbfDmgQy4VESH3sPrKkXJxMgQKAPAhIgfZhlMRJ4nMDlSxF17h2vESBAgED7BS5dbH8MIiBAgAABAh0XqMo2WMefjijbYmkEhhUoqz2ypkxVtr7SCBAgQOCJAhIgTyRyAIGOC/iwrOMTLDwCBHolcOVyDFb29SpowRIgQIAAgfYJDOo1HDkZsbjUvsEb8fQESp2PE1nsXPJsenPgygQItE5AAqR1U2bABEYs8LG7hUcsqjsCBAhMT6Cs6Csr+zQCBAgQIECg8QLVTH4kc/h4xJI7+Rs/WU0Y4OzccvJjYUsTRmMMBAgQaI2ABEhrpspACYxeoL6d9T8UzB09rB4JECAwTYFLH0/z6q5NgAABAgQIDCFQildXB49F7N4/xFkO7Z3AfG6bdvILUW1a6F3oAiZAgMBaBTJ9rBEg0FuBG9czdPU/ejv/AidAoJsCN651My5RESBAgACBDgtU+w5GPZv3qJ493eEohbYqgXXrl1d+lO8aAQIECAwtIAEyNJkTCHRI4LoPyaYxm/XVy9O4bC+vWT9khdPDnuslzoSCrja6S21C1J9exu/2Ty08IkCAAAECLRKochVIXbY5Ov16i0ZtqGMV2LAp4vjTUZUVIBoBAgQIrEpAAmRVbE4i0BGBwQqQjsTSojDqv/e3WjTaDg71H/6ydU8TnNbqT/zFCV7NpQYCfrd7IxAgQIAAgdYKVEu7MwmSha7feDVjsFq/tRM5ioEvbI44+lRUcz66GwWnPggQ6K+AGiD9nXuRE4iwTYp3AQECBLonkPWd6ls3uxeXiAgQIECAQE8EqsWl/OD7ZETWB9F6KlAKnZeVH5IfPX0DCJsAgVEKSICMUlNfBNomcOdO20ZsvAQIECCwEgG/31ei5BgCBAgQINBYgWrbdkmQxs7OmAc2SH7kyo+ZXAmkESBAgMCaBSRA1kyoAwJtFnBHUZtnz9gJECDwSAF3jD6SxgsECBAgQKAtAtVWSZC2zNXIxrl5a678kPwYmaeOCBAgkAI2EvQ2INBnAR+QTWX2q5/++alct48XHRQ8z5ofn2n/0c9FtTGLCWoEOi0gwd3p6RUcAQIECPRGoCRB6rId1usvZ0kQNUE6PfEl+XHslJUfnZ5kwREgMA0BCZBpqLsmAQK9Fqg2LvQ6/kkH//k/E0vywxxMehZcjwABAgQIECBAYLUCkiCrlWvReZIfLZosQyVAoG0CtsBq24wZL4FRCszaU3SUnPoiQIBAMwRy9cesf+I1Yy6MggABAgQIjEZgeTusUwqjj4azWb1IfjRrPoyGAIHOCfjruHNTKiACQwhYiTAElkMJECDQEoH1622d0JKpMkwCBAgQIDCMQLV1MQujS4IMY9b4YyU/Gj9FBkiAQPsFJEDaP4ciILB6gY0bV3+uMwkQIECgmQKS282cF6MiQIAAAQIjEBgkQY5kTZBQ72sEnNPtYmGzmh/TnQFXJ0CgJwISID2ZaGESeKjA+kyAKIT+UBpPEiBAoLUCWedGI0CAAAECBLorUG3bHnHoWHcD7ENkG/Lfa0efsmq3D3MtRgIEpi4gATL1KTAAAtMTqEryY5OC3NObAVcmQIDAGAT8Xh8Dqi4JECBAgECzBKodOyP2H27WoIxmZQLr1kccfzqqubmVHe8oAgQIEFiTgATImvicTKADAtvzH84aAQIECHRDoPxBvbClG7GIggABAgQIEHisQLVrb8SeA489xosNE5hfF3Himajm5xs2MMMhQIBAdwUkQLo7tyIjsDKBxaWImdmVHesoAgQIEGi2wNKu3NnQnuDNniSjI0CAAAECoxOo9mYCZGcmQrTmC8zmio+S/Cg3rGgECBAgMDEBCZCJUbsQgWYKVLOZ/NieSRCNAAECBNotUBIf23e1OwajJ0CAAAECBIYWqA7kVlg7/BtgaLhJnlD+7i7bXq3fMMmruhYBAgQIpIAEiLcBAQJ5x9BuCgQIECDQdoFtO2yn0PY5NH4CBAgQILBagYNHI0pxdK15AjP50duxLHiuTlvz5saICBDohYAESC+mWZAEHi9QbdiUdw2rBfJ4Ja8SIECgwQJl9UfZAkMjQIAAAQIEeikw2ALz8ImsBba5l/E3Ouicl0qNtkZPkcERINBtAQmQbs+v6AisXGB/LptWiG3lXo4kQIBAkwT2HbKlQpPmw1gIECBAgMAUBKqy0uDoqQg1Jqag/4hL5t/ZlZU5j8DxNAECBCYjIAEyGWdXIdB4gWouC7KVZdMaAQIECLRLYFPe6blzT7vGbLQECBAgQIDAWASquflBrYkoBbe16Qrkv8+qXQrUT3cSXJ0AAQJqgHgPECBwn0C1NfeMXVQQ/T4SDwkQINBsgbL11aFjMdj2otkjNToCBAgQIEBgQgKDQtvHciVI+XeCNh2BrYsRZZcFjQABAgSmLmAFyNSnwAAINEzgwJGI9RsaNijDIUCAAIGHCuTv7GrDxoe+5EkCBAgQIECgvwKDmhOHj/cXYJqRb8wam0ey7ocE1DRnwbUJECDwiYAEyCcUHhAgUAQGW2EdfzrrgawDQoAAAQJNFth3MKql3U0eobERIECAAAECUxSoyur+rBOmTVCg/B197OmoZmYneFGXIkCAAIHHCUiAPE7HawR6KlCVonknnoko+8dqBAgQINA8gd37otq9v3njMiICBAgQIECgUQJV/pshlnY1akydHUxJehx/Kqp5f0d3do4FRoBAKwUkQFo5bQZNYPwCg31jy0qQWXeujF/bFQgQIDCEQH6IUbmbcwgwhxIgQIAAgZ4L7M9tjhc29xxhAuEfOZ5bk+b2VxoBAgQINEpAAqRR02EwBJolUJW9S3P5bli+26yJMRoCBPorsD23sjhwtL/xi5wAAQIECBAYWqCayY9+jmRRdCsThrZb8Ql7DkS1dfuKD3cgAQIECExOQAJkctauRKCVAlW5U+jUsxFlWyyNAAECBKYnsDdrfhxWUHN6E+DKBAgQIECgvQKDbZmOZhJEYe7RT2JJfOyxNenoYfVIgACB0QhIgIzGUS8EOi1QbdiYSZAvRmzZ1uk4BUeAAIFGCpRVePmBReUP60ZOj0ERIECAAIG2CFSb8ua2g0fbMtx2jHP9hojDufWVxFI75ssoCRDopYAESC+nXdAEhheo5uZyO6ynIkoRPY0AAQIEJiNQVt+d+kJU22ypMBlwVyFAgAABAt0WqHZkQfSl3d0OclLR3btJRd3MSYm7DgECBFYlIAGyKjYnEeinQLmrZVB4N7dgsXS6n+8BURMgMEGBzVsHq+8U05yguUsRIECAAIE+COw/rCj6KOZ5UPQ8d0vQCBAgQKDRAhIgjZ4egyPQTIGqFOF9KrfEKkXSNQIECBAYrUDZQmHfwYjjT8dg9d1oe9cbAQIECBAg0HMBRdFH8AZQ9HwEiLogQIDAZAQkQCbj7CoEOicwuCO51AXJorxWg3RuegVEgMC0BDYuDBLM1e799pKe1hy4LgECBAgQ6IHAoCh6WdmvDS9QVumqzTa8mzMIECAwJQEJkCnBuyyBLggMtsQq//CzGqQL0ykGAgSmKXBv1cepZ8OWV9OcCNcmQIAAAQL9Eah8kD/8ZM9mbUxFz4d3cwYBAgSmKCABMkV8lybQFQGrQboyk+IgQGAqAlZ9TIXdRQkQIECAAIEUyK2cYmELipUKlOTH/LqVHu04AgQIEGiAgARIAybBEAh0QeAzq0H8A7oLUyoGAgTGLTAzm7U+DmWhc6s+xk2tfwIECBAgQODhAuXvuDiSW2GVlQ3a4wV27Y1q6+Ljj/EqAQIECDROQAKkcVNiQATaLVBWg1Qnv7D8j2h3xrR7Mo2eAIHxCezYFfHMvxnV7n1qfYxPWc8ECBAgQIDACgQGKxoOH1vBkT0+pKzYLfUvNQIECBBonYAUf+umzIAJtEOgWlyKutwd8967EefORNy5046BGyUBAgTGKbCwOWL/kag25R/RGgECBAgQIECgIQLV1u1R79wb8f47DRlRg4ZRVu0eORnVjHuIGzQrhkKAAIEVC0iArJjKgQQIDCtQlX8oZpH0esfOiLNvRZz/YNguHE+AAIFuCJQVcfsPRUkOawQIEGtuZ08AAEAASURBVCBAgACBRgrsyxUOly5GXLvSyOFNbVAHj0a1fv3ULu/CBAgQILA2Aenrtfk5mwCBFQiUJdXV4dxX9uSzEZvy7meNAAECfREodwqW4qLP/A7Jj77MuTgJECBAgEBLBQYrHLLId+7P2dIIxjDsxR1RbXcDyxhkdUmAAIGJCVgBMjFqFyJAoCpbv2Sx3/qj8xHvnM47i65CIUCAQDcFygcHS7sjdu+Pan6+mzGKigABAgQIEOicQLVxU9Tl5o3y91rfWykMf+BI3xXET4AAgdYLSIC0fgoFQKB9AtW23F+21AcpW2K9+3bEjevtC8KICRAg8FCBTHyUbf9y+79qna0SHkrkSQIECBAgQKDZArv3RZSb1q5ebvY4xz26Q8eimnMjy7iZ9U+AAIFxC0iAjFtY/wQIPFSgKndH54eEdS4pjvPvLydCbt586LGeJECAQCsEyu+zvGOy2rCxFcM1SAIECBAgQIDAwwTK32r14WMRLz4fUdcPO6T7z2XdtnLjnkaAAAEC7ReQAGn/HIqAQKsFBvvM5jYxddlX9f1zEefORNy+3eqYDJ4AgZ4JbNkWsfdgVJsWeha4cAkQIECAAIGuClQbcius/PdNnH2rqyE+Oq6y6sPWV4/28QoBAgRaJiAB0rIJM1wCXRWoZmZzr/x9UZc9899/N+K9sxIhXZ1scRHoisDmrZn4yBUfC1u6EpE4CBAgQIAAAQKfCuzau7wV1pVLnz7Xh0eHjubWVz4u68NUi5EAgX4I+I3ej3kWJYHWCFSzmQjJvfPrnXskQlozawZKoGcCEh89m3DhEiBAgACBfgoMtsLKOhjx4vf7sxVW7kxQbbX1VT/f8aImQKCrAhIgXZ1ZcRFouYBESMsn0PAJdFFgkPjIra4WNncxOjERIECAAAECBB4QKLXN6lIU/d3cqrjrrdyMt+9w16MUHwECBHonIAHSuykXMIF2CTyYCHknt8a61a4gjJYAgXYLlBofpbi5xEe759HoCRAgQIAAgdUJlATI+Q8iblxf3fltOWvfoajms/6HRoAAAQKdEpAA6dR0CoZAdwU+kwj5IGuEnJMI6e5si4xAQwQkPhoyEYZBgAABAgQITFOg1GusS1Hw116c5jDGe+1NucJ3x67xXkPvBAgQIDAVAQmQqbC7KAECqxUYJEJ2Z42QpawR8sG5LJaeiZBbN1fbnfMIECDwoMDWxUEtoqr8IawRIECAAAECvReoP/6o9wZRVVHPr4u4eH6sFvXVKw/0/7DnHjhoTU9Ug62vqksXo15TP904uSo3AWkECBDokIAESIcmUygE+iSwnAjZl8XSd2ci5L1cEXJWIqRPbwCxEhiHQCl4uWd/VJsWxtG7PgkQIECAAIGWCtz5hT/a0pF3ZNj/8JcnkpiQ/Fh+v8z+99/tyBtHGAQIEFgWkADxTiBAoNUCZTl27NqbK0JyuXJJhLyXiZCbVoS0elINnsCkBbaVxEfW+Ni4adJXdj0CBAgQIECAAAECBAgQIEBgjAISIGPE1TUBApMT+DQRkitCPiwrQs5IhEyO35UItFNgccfyio8NEh/tnECjJkCAAAECBAgQIECAAAECjxeQAHm8j1cJEGiZQDUzE7FzT9SlgN2gRogVIS2bQsMlMH6BsuJjb674kPgYv7UrECBAgAABAgQIECBAgACBKQpIgEwR36UJEBifwCARcv/WWGqEjA9bzwTaIlBqfJTEh62u2jJjxkmAAAECBBohMPM3/4dGjKMvg5jJm9p2786V/dnOnTsXd+7c6Uvo4iRAgACBMQhIgIwBVZcECDRH4NOtsXJFyPvvLhdLv327OQM0EgIExi+wZdty4mPT5vFfyxUIECBAgACBzglU5d8S2sQEys1ss2XFbrbq6vWoJEAmZu9CBAgQ6KKABEgXZ1VMBAg8IDBIhOzen8XS9ywnQkqxdImQB5w8QaBTApu3ZuLjYFQLEh+dmlfBECBAgAABAgQIECBAgACBFQpIgKwQymEECHRDoJqdHRQ9rpdySfV77+RXJkLquhvBiYIAgWWBjQsR+w9FVRIgGgECBAgQIECAAAECBAgQINBbAQmQ3k69wAn0W6Cay19/+w5GvTMTIWdPR5x/v98goifQBYF16wf/v64Wl7oQjRgIECBAgAABAgQIECBAgACBNQpIgKwR0OkECLRboJpfF3H4eNRZMD3OvBlx6WK7AzJ6An0UGKzsOhCRK7vKntEaAQIECBAgQIAAAQIECBAgQKAISIB4HxAgQCAFqo2bIk48E/XHH2Ui5K2Ia1e4ECDQdIGqiijJy137YrCqq+njNT4CBAgQIECAAAECBAgQIEBgogISIBPldjECBJouUG3ZFvVTWTfg/AcR72Qi5ObNpg/Z+Aj0U6Bsc5Xb2FVl2yuNAAECBAgQIECAAAECBAgQIPAQAQmQh6B4igCBfgtU5a7yHTuj3rY9kyBvR7z/boIolN7vd4XoGyOwYWPEgSMKnDdmQgyEAAECBAgQIECAAAECBAg0V0ACpLlzY2QECExZoCp1BQ4cjjqTIXH69Ygrl6Y8Ipcn0GOBUttjz/6InXvV+ejx20DoBAgQIECAAAECBAgQIEBgGAEJkGG0HEuAQC8FSn2Q+uQXIj58P+JsFkq/fbuXDoImMDWBrbkaK5ORtrua2gy4MAECBAgQIECAAAECBAgQaKWABEgrp82gCRCYtMBgW6ylXbkt1mImQU5nMuS9SQ/B9Qj0T6DU9yiJj5IA0QgQIECAAAECBAgQIECAAAECQwpIgAwJ5nACBPotUM3NRxw6FvXijoi3XlUkvd9vB9GPUyATjrEvkx9lKzqNAAECBAgQIECAAAECBAgQILAKgdxQWyNAgACBYQWqLdsinvodESURohEgMDqB2bw349ipqA4ek/wYnaqeCBAgQIAAAQIECBAgQIBALwWsAOnltAuaAIFRCFRz+Sv0yMmot2RtkLffiLijNsgoXPXRY4GtucVcSXzM50orjQABAgQIECBAgAABAgQIECCwRgEJkDUCOp0AAQLVjp1RL2zJLbFeibh8CQgBAsMKzOSC1P253dXS7mHPdDwBAgQIECBAgAABAgQIECBA4JECtsB6JI0XCBAgsHKBan0Waz7xhYg9+1d+kiMJEIhYvyHi1BclP7wXCBAgQIAAAQIECBAgQIAAgZELWAEyclIdEiDQV4GqqiL2Hox6w6blAul37vSVQtwEViZQaukcPhGD7eRWdoajCBAgQIAAAQIECBAgQIAAAQIrFpAAWTGVAwkQILAygSoLo9frckXI6y9G3Ly5spMcRaBvArv2Ruw7FIPEYd9iFy8BAgQIECBAgAABAgQIECAwEQFbYE2E2UUIEOibQLVpYbCtT2za3LfQxUvg8QJlpdShLHRean6UxxoBAgQIECBAgAABAgQIECBAYEwCEiBjgtUtAQIEqvl1WRfkmYjFJRgECBSB2dnB/yeqHbt4ECBAgAABAgQIECBAgAABAgTGLmALrLETuwABAn0WqGZmoj58PCK/x4fv9ZlC7H0XmM1/cmRCsNqYNXI0AgQIECBAgAABAgQIECBAgMAEBKwAmQCySxAg0G+BwTY/B49GuOu932+EPkcv+dHn2Rc7AQIECBAgQIAAAQIECBCYmoAEyNToXZgAgT4JfJIEWbL1T5/mXawpUJIfJ6388F4gQIAAAQIECBAgQIAAAQIEJi8gATJ5c1ckQKCnAoMkyIGjEUu7eyog7N4JzM0vJz822Paqd3MvYAIECBAgQIAAAQIECBAg0AABCZAGTIIhECDQH4GSBKnKdlgKo/dn0vsa6UwWPD/+dFSSH319B4ibAAECBAgQIECAAAECBAhMXUAR9KlPQbcG8JM/+ZO7Z2dnfzyj+vH8oPfH8nv5WipR1nX9D5577rlvlMcrbV/+8pf//eznZ/P40k/ZO6hUkf5e9vUr2dc/zscagXYKHDoWceN6xJVL7Ry/URN4rEAVceS4guePNfIiAQIECBAgQIAAAQIECBAgMG4BCZBxC/es/7m5uXdHEfIv/uIvzjz//PO/kn399Of6O5A/H8ikyE989atf/bvPPvvsz+Wxdz53jB8JNF6gmpmJ+uipiJd/sJwIafyIDZDAEAL7D0W1dfsQJziUAAECBAgQIECAAAECBAgQIDB6AVtgjd5Uj58KvJkP/7dPf1z5o0x+/NU8+l7y41/lio8/PDMz8+Plez7/r0pP+fhnfvCDH/yV8lgj0EaBaj7rIxzLJEjZKkgj0BWBrHFT7drblWjEQYAAAQIECBAgQIAAAQIECLRYQAKkxZPX0KH/UiYm/oNcCbL3W9/61pHcDuvnhh3n1772tafynD9z97z/N7//ntzu6te/+c1vfq98v3bt2u/N58rzJQnyn3/lK185WR5rBNooMKiPcNRbuI1zZ8wPEdi8NdfoHXnIC54iQIAAAQIECBAgQIAAAQIECExewBZYkzfv9BUz6fGX1xrgnTt3/lT2MXhv5qqPP5mJj6v39/lbv/VbVzJJ8ifzuH9ejsvtsH4+v//x+4/xmECbBKot26LevT/i3Jk2DdtYCXxWYDZ/bR/Ouh9V1v/QCBAgQIAAAQIECBAgQIAAAQINELACpAGTYAifESifnP2Hd5/5USY//sVnXr37w93nXyg/5iqQcrxP3O7a+NZSgT2ZANm0uaWDN2wCKVCSH/PrUBAgQIAAAQIECBAgQIAAAQIEGiMgAdKYqTCQIvClL33pWH7LT4Izo1FV/6x8f0y79/qB3Abr6GOO8xKBxguUouhx5ETErHogjZ8sA3xQYPe+LHq++ODzniFAgAABAgQIECBAgAABAgQITFFAAmSK+C79oEAmPZ6992xucfWje48f9j2P/eT1fPyFhx3jOQJtEqjWrY84dLxNQzZWAssrl/YcIEGAAAECBAgQIECAAAECBAgQaJyAGiCNm5J+DyhrfhzMLa0GCJnUOP04jTzurXuvZ7Lk0L3HK/n+Uz/1UwefdNzt27ezhvvy3fg5ricd7nUCoxHYvhT1xx9F/eF7o+mv771kPYrl3yifQuTvFnUqPuVY26P83VgdPRnVnH9OrA3S2QQIECBAgAABAvcE7v/7+/7H9173nQABAgQIDCPgE4thtBw7doFMamy57yKX7nv8wMM89nL5IPNuG6p4QiY2Pkme3Ovg898vXLgQS0tLuSPRbOzdu/fzL/uZwNgE6p074/pv/8uob1wf2zX60vGddfPx4eeCXdy2GDMLQ/3K+FwPfrwnMJ/bts3ttfrjnofvBAgQIECAAAECoxXYvXv3aDvUGwECBAj0TsBt7b2b8mYHnAmNDfeN8MZ9jx94mMfe/+nwxgcO8ASBlgqUu+nnjz/V0tEbdl8EZrLmx+yeQcmmvoQsTgIECBAgQIAAAQIECBAgQKBlAlaAtGzCuj7cXNVx7b4Y1933+IGHeez6+1aAXH3ggMc8kdtbPXHLrMXFxe9lF3vz2HjvPdsRPYbTS2MSqGfXRf3+u2PqvR/d1lcvPxDohY8uRHXj5gPPe2IIgVwZV+07EtW73p9DqDmUAAECBAgQIEBgBQJl26t7Kz/OnTsXueX1Cs5yCAECTRXYtWvXYHeVpo7PuLovIAHS/TluVYSZ0Pg4Exv3xvzYPWry2IV7B+b3x26Xdd9xg4ff/va3T3/+uc//nFtf3b73nH9w3ZPwfZICddla6KPzEbbCWjX7fb9PPulj8Nynv2c+ed6DIQT2Zg55bj5qf4wOgeZQAgQIECBAgACBYQXK3+L+Hh9WzfEECBAgcL+ALbDu1/B46gL5D5tPEhP5IeVjC5VnAuSTVRx5h8gTa3pMPTgDIDCkQDUzG3Ho2JBnOZzAmAW2bItqadeYL6J7AgQIECBAgAABAgQIECBAgMDaBSRA1m6ohxEKZNLjB/e6y6TGM/ceP+x7HvvJ6/n4hw87xnME2i5Qbd4asXNP28Mw/q4ISMp1ZSbFQYAAAQIECBAgQIAAAQIEeiEgAdKLaW5PkL/5m7/5Wo72TBlxJjV+/xNG/vvuvv72t771rdefcKyXCbRXYF8uhlq3vr3jN/LuCBw4HNX8Y8szdSdWkRAgQIAAAQIECBAgQIAAAQKtF5AAaf0Udi6AUgDkf7ob1TNf+9rX/p2HRXj3+cEKkNwKqxz/SeGQhx3vOQJtFhhshXX4eJtDMPYuCJStr3bY+qoLUykGAgQIECBAgAABAgQIECDQFwEJkL7MdIvizK2v/nYOd1CAPGuC/J2vfOUrG+8ffvm5PH/3uVu3b98ux2sEOi1QLWyJ2L2v0zEKrsECs3NZj0YSrsEzZGgECBAgQIAAAQIECBAgQIDAQwTyEw2NwOgEMjnxe7O3k/d6zETFznuPc6XGyXz9G/d+Lt9z66pfvf/n8vib3/zmi3ncX8+H/2V+/a78+r/z57+Wfb2SyZET+fN/kV+/M78i+/zruW3WS+WxRqDzAnsORFz8KOLalc6HKsCGCRw6lltfzTdsUIZDgAABAgQIECBAgAABAgQIEHi8gATI4328OqRA1u34mUxK/LF7p+XP9x6W77/n7tf9z/3q/T/ce/zFL37xL3z/+9/fnX39p/lcSXb8eiY/7r187/vfe/bZZ//ivR98J9B1gSr/P1AfybvwX3y+FMnperjia4pAbntVbdvelNEYBwECBAgQIECAAAECBAgQIEBgxQISICumcuAkBX7xF3/xTl7vp7/61a/+ZiZRfjYf/1h+ldUk7+fX9/K5X37uuef+ca4gyR81Av0RqDZsinrfoYgzb/YnaJFOT2Dd+oj9h6d3fVcmQIAAAQIECBAgQIAAAQIECKxBQAJkDXhOfVAgkxLfyGfL10jab/zGb/wv2VH50ggQuCtQ7dob9aWPczus80wIjE+gqiKOnIxqdnZ819AzAQIECBAgQIAAAQIECBAgQGCMAg/sKTTGa+maAAECBEYlkDUZotydrxEYl0Cu/Kg2LYyrd/0SIECAAAECBAgQIECAAAECBMYuIAEydmIXIECAwOgFqrlcwJd350e5S18jMGqBxaWodu4Zda/6I0CAAAECBAgQIECAAAECBAhMVEACZKLcLkaAAIHRCQzuzj9wZHQd6olAEVi/IeLgURYECBAgQIAAAQIECBAgQIAAgdYLSIC0fgoFQIBAnwWqpd0R23f2mUDsoxSYyXofR9X9GCWpvggQIECAAAECBAgQIECAAIHpCUiATM/elQkQIDAagXK3/sLm0fSll34LHDke1YZN/TYQPQECBAgQIECAAAECBAgQINAZAQmQzkylQAgQ6KtANZO/yo+ciphf11cCcY9CYN+hqLZuH0VP+iBAgAABAgQIECBAgAABAgQINEJAAqQR02AQBAgQWJtANT8fceypiJIM0QgMK5DbqFW79w17luMJECBAgAABAgQIECBAgAABAo0W8ElZo6fH4AgQILBygWpjbl10+MTKT3AkgSJQtk9T9Nx7gQABAgQIECBAgAABAgQIEOiggARIBydVSAQI9Feg2pZbGB040l8AkQ8nsGFjFj1/KgbbqA13pqMJECBAgAABAgQIECBAgAABAo0XkABp/BQZIAECBIYTqHbuidizf7iTHN0/gVIz5vjTUc3N9S92ERMgQIAAAQIECBAgQIAAAQK9EJAA6cU0C5IAgb4JVHsPRuzY1bewxbtSgdnZ5eRHSYJoBAgQIECAAAECBAgQIECAAIGOCkiAdHRihUWAAIFBXYetuSWWRuB+gZn8T/+xXPlRtr/SCBAgQIAAAQIECBAgQIAAAQIdFpAA6fDkCo0AgX4LVFUVcSSLom/e2m8I0X8qUN4TR09FVQqfawQIECBAgAABAgQIECBAgACBjgtIgHR8goVHgEC/BQbFrY+divCBd7/fCIPoS0LsZFRbtrEgQIAAAQIECBAgQIAAAQIECPRCQAKkF9MsSAIE+ixQzWS9h9zyKDYu9Jmh57GX5MfxqLbZEq3nbwThEyBAgAABAgQIECBAgACBXglIgPRqugVLgEBfBaq7Ra9jw6a+EvQ77kPHolpc6reB6AkQIECAAAECBAgQIECAAIHeCUiA9G7KBUyAQF8Fqrm5iOO5EkTx6369BQ4ejWrHzn7FLFoCBAgQIECAAAECBAgQIECAQApIgHgbECBAoEcC1fx8JkGekQTpy5yX5MfS7r5EK04CBAgQIECAAAECBAgQIECAwGcEJEA+w+EHAgQIdF9AEqT7czyIUPKjJxMtTAIECBAgQIAAAQIECBAgQOBRAhIgj5LxPAECBDosIAnS4cktoUl+dHyChUeAAAECBAgQIECAAAECBAisREACZCVKjiFAgEAHBSRBOjipJSTJj45OrLAIECBAgAABAgQIECBAgACBYQUkQIYVczwBAgQ6JDBIgpwoNUE2dSiqHody8JiaHz2efqETIECAAAECBAgQIECAAAECnxWQAPmsh58IECDQO4FqLgujlyTIRkmQ9k5+FXHoeCY/drU3BCMnQIAAAQIECBAgQIAAAQIECIxYQAJkxKC6I0CAQBsFqrm5iOMlCbLQxuH3fMyZ/DicyY8dO3vuIHwCBAgQIECAAAECBAgQIECAwGcFJEA+6+EnAgQI9FZgOQnydMTC5t4atC/wTH4cORHV9qX2Dd2ICRAgQIAAAQIECBAgQIAAAQJjFpAAGTOw7gkQINAmgUES5FhJgmxp07D7OdYqkx9HT0a1uKOf8YuaAAECBAgQIECAAAECBAgQIPAEAQmQJwB5mQABAn0TqGZnczuspyI2b+1b6O2J917yY9v29ozZSAkQIECAAAECBAgQIECAAAECExaQAJkwuMsRIECgDQLVTCZBjp2SBGniZJXkx7Gnotoq+dHE6TEmAgQIECBAgAABAgQIECBAoDkCEiDNmQsjIUCAQKMElpMguRJky7ZGjavXg5nJ/2znFmWVOen120DwBAgQIECAAAECBAgQIECAwMoEJEBW5uQoAgQI9FKgKh+4H82VIFYbTH/+B8mPXPmxxdZk058MIyBAgAABAgQIECBAgAABAgTaICAB0oZZMkYCBAhMUWCQBDlyQhJkinMQJflxPFd+qMsyzVlwbQIECBAgQIAAAQIECBAgQKBlAhIgLZswwyVAgMA0BCRBpqF+95qlHktJfixsmeIgXJoAAQIECBAgQIAAAQIECBAg0D4BCZD2zZkREyBAYCoCnyRBtim+PbEJGCQ/ctsryY+JkbsQAQIECBAgQIAAAQIECBAg0B0BCZDuzKVICBAgMHaBQRLkcG6HJQkyduuw8mP8xq5AgAABAgQIECBAgAABAgQIdFpAAqTT0ys4AgQIjF7gkySIwuijx73X46DmR1n5sfneM74TIECAAAECBAgQIECAAAECBAgMKSABMiSYwwkQIEAg4pPtsLYu4hi1QEl+HLPt1ahZ9UeAAAECBAgQIECAAAECBAj0T0ACpH9zLmICBAiMRGA5CXIyYsu2kfSnkxSoqoijmfzYvBUHAQIECBAgQIAAAQIECBAgQIDAGgUkQNYI6HQCBAj0WWCQBDl6KsIH9mt/G5TkR1n5sUXyY+2YeiBAgAABAgQIECBAgAABAgQIREiAeBcQIECAwJoEBkmQY5kEWdiypn76fXJZ+XEykx9W0/T7fSB6AgQIECBAgAABAgQIECBAYJQCEiCj1NQXAQIEeipQzcwOVi/ExoWeCqwx7CPHo1JUfo2ITidAgAABAgQIECBAgAABAgQIfFZAAuSzHn4iQIAAgVUKVLOZBDn+VMSGjavsoaenHTwW1eJST4MXNgECBAgQIECAAAECBAgQIEBgfAISIOOz1TMBAgR6J1DNzWcS5OmIdet7F/uqAt5/OKqlXas61UkECBAgQIAAAQIECBAgQIAAAQKPF5AAebyPVwkQIEBgSIFqfl0mQZ6JmM9kiPZogd37o9q199Gve4UAAQIECBAgQIAAAQIECBAgQGBNAhIga+JzMgECBAg8TKBanytAjuVKkFIbRHtQYMeuqPYdfPB5zxAgQIAAAQIECBAgQIAAAQIECIxMQAJkZJQ6IkCAAIH7BaqNmyKOnoqoqvuf9njrYsTBoxwIECBAgAABAgQIECBAgAABAgTGLCABMmZg3RMgQKDPAtWWrRGHjveZ4LOxb9occeRE5oQkhT4L4ycCBAgQIECAAAECBAgQIECAwOgFJEBGb6pHAgQIELhPoNq+FJHFvnvfSmH4Y6eisi1Y798KAAgQIECAAAECBAgQIECAAIHJCEiATMbZVQgQINBrgUGx76Xd/TWYncvC8E9HNacwfH/fBCInQIAAAQIECBAgQIAAAQIEJi0gATJpcdcjQIBAXwUOHInYnFti9a2V7a6Onoxq/Ya+RS5eAgQIECBAgAABAgQIECBAgMBUBSRApsrv4gQIEOiPwKDuxZGTEX1LBGTB86qPiZ/+vLVFSoAAAQIECBAgQIAAAQIECDRUQAKkoRNjWAQIEOiiQDWXW0EdeyqibAnVh7Zrb1Q7dvUhUjESIECAAAECBAgQIECAAAECBBonIAHSuCkxIAIECHRbYLAVVG4JFZFbQ3W5bdkWse9QlyMUGwECBAgQIECAAAECBAgQIECg0QISII2eHoMjQIBANwUGW0LtO9jN4EpU69ZHHD4Rg22/uhulyAgQIECAAAECBAgQIECAAAECjRaQAGn09BgcAQIEuitQ7d4XsW179wIsRc+z1slgu6/uRSciAgQIECBAgAABAgQIECBAgEBrBCRAWjNVBkqAAIEOChw63r2i6KXo+aaFDk6WkAgQIECAAAECBAgQIECAAAEC7RKQAGnXfBktAQIEOiVQzc5GlHogMx35z1EWPFf0vFNvUcEQIECAAAECBAgQIECAAAECLRboyCdOLZ4BQydAgEDPBaoNmyL2H26/wvoNEQc6EEf7Z0IEBAgQIECAAAECBAgQIECAAIGBgASINwIBAgQITF2gWtodsbXF9UBK3Y9S9HwmV7RoBAgQIECAAAECBAgQIECAAAECjRCQAGnENBgEAQIECMShoxFz8+2E2HtQ3Y92zpxREyBAgAABAgQIECBAgAABAh0WkADp8OQKjQABAm0SqEry4/DxNg15eaybt0bs2tu+cRsxAQIECBAgQIAAAQIECBAgQKDjAhIgHZ9g4REgQKBNAtWWbRFLu9oz5FK8/dCxqMoWWBoBAgQIECBAgAABAgQIECBAgECjBCRAGjUdBkOAAAECsfdQxHxLtsIqW1+tW2/SCBAgQIAAAQIECBAgQIAAAQIEGiggAdLASTEkAgQI9FmgmpuLOHC0+QQbFyJ27mn+OI2QAAECBAgQIECAAAECBAgQINBTAQmQnk68sAkQINBkgWrb9ojy1diWW17Z+qqxs2NgBAgQIECAAAECBAgQIECAAIEiIAHifUCAAAECzRQ4cCT/KzXbzLHt3hvVxk3NHJtRESBAgAABAgQIECBAgAABAgQIDAQkQLwRCBAgQKCRAtX8uojd+5o3trmsT7J7f/PGZUQECBAgQIAAAQIECBAgQIAAAQKfEZAA+QyHHwgQIECgUQK79mZB9EyENKmVwuezDV2Z0iQnYyFAgAABAgQIECBAgAABAgQITFlAAmTKE+DyBAgQIPBogWom/zO1/9CjD5j0Kxty26sdOyd9VdcjQIAAAQIECBAgQIAAAQIECBBYhYAEyCrQnEKAAAECkxOoFpciFjZP7oKPu9L+w1FVWQBdI0CAAAECBAgQIECAAAECBAgQaLyABEjjp8gACRAgQCBy26mpt81bo9qyderDMAACBAgQIECAAAECBAgQIECAAIGVCUiArMzJUQQIECAwRYEqkw9RvqbZ9h6Y5tVdmwABAgQIECBAgAABAgQIECBAYEgBCZAhwRxOgAABAlMS2LN/ShfOy5bVHwtbpnd9VyZAgAABAgQIECBAgAABAgQIEBhaQAJkaDInECBAgMA0BKa6CqQJW3BNA901CRAgQIAAAQIECBAgQIAAAQItFpAAafHkGToBAgR6J7B7CqtABqs/GlKEvXcTLmACBAgQIECAAAECBAgQIECAwOoFJEBWb+dMAgQIEJiwwKAI+YZNk73qrj2TvZ6rESBAgAABAgQIECBAgAABAgQIjERAAmQkjDohQIAAgYkJTDIhsW59xJbFiYXmQgQIECBAgAABAgQIECBAgAABAqMTkAAZnaWeCBAgQGASAotLEXPzk7hSxK69UVXVZK7lKgQIECBAgAABAgQIECBAgAABAiMVkAAZKafOCBAgQGDcAtVM/qdrafe4LxMxOxuxY+f4r+MKBAgQIECAAAECBAgQIECAAAECYxGQABkLq04JECBAYKwCk0hM5EqTaiaTIBoBAgQIECBAgAABAgQIECBAgEArBSRAWjltBk2AAIF+C1SD2hzbxouwY9d4+9c7AQIECBAgQIAAAQIECBAgQIDAWAUkQMbKq3MCBAgQGJvAOBMUGzdFtWlhbEPXMQECBAgQIECAAAECBAgQIECAwPgFJEDGb+wKBAgQIDAOga2LWadjbhw9Z+0Pqz/GA6tXAgQIECBAgAABAgQIECBAgMDkBCRAJmftSgQIECAwQoFBMfTtSyPs8V5XVcTijns/+E6AAAECBAgQIECAAAECBAgQINBSAQmQlk6cYRMgQIBACowjUbFla1Rz83gJECBAgAABAgQIECBAgAABAgRaLiAB0vIJNHwCBAj0WmDT5oj5EScrxpFU6fUkCZ4AAQIECBAgQIAAAQIECBAgMB0BCZDpuLsqAQIECIxAoKrKdlUj3Aar9Ld1+whGpgsCBAgQIECAAAECBAgQIECAAIFpC0iATHsGXJ8AAQIE1iawbYT1OrZsy+2vxlRYfW1ROpsAAQIECBAgQIAAAQIECBAgQGBIAQmQIcEcToAAAQINE9i0EDGqmh1WfzRscg2HAAECBAgQIECAAAECBAgQILB6AQmQ1ds5kwABAgQaIDDYBmvr4mhGsnXbaPrRCwECBAgQIECAAAECBAgQIECAwNQFJECmPgUGQIAAAQJrFhhFAmTjQlTz69Y8FB0QIECAAAECBAgQIECAAAECBAg0Q0ACpBnzYBQECBAgsBaBLVsjSgHztbRRJFHWcn3nEiBAgAABAgQIECBAgAABAgQIjFRAAmSknDojQIAAgWkIVDOzEQtb1nZp21+tzc/ZBAgQIECAAAECBAgQIECAAIGGCUiANGxCDIcAAQIEVimwZQ31O2YzgZJbYGkECBAgQIAAAQIECBAgQIAAAQLdEZAA6c5cioQAAQL9FlhLAmTz1txBa41baPVbX/QECBAgQIAAAQIECBAgQIAAgcYJSIA0bkoMiAABAgRWJbBhY8Ts3KpOjbUkT1Z3RWcRIECAAAECBAgQIECAAAECBAiMWUACZMzAuidAgACByQgMVnCUYuirabkCRCNAgAABAgQIECBAgAABAgQIEOiWgARIt+ZTNAQIEOi3wKbNw8c/Nx/V+g3Dn+cMAgQIECBAgAABAgQIECBAgACBRgtIgDR6egyOAAECBIYSWM1Kjs1bhrqEgwkQIECAAAECBAgQIECAAAECBNohIAHSjnkySgIECBBYicCgDsjsSo789JjVrBr59GyPCBAgQIAAAQIECBAgQIAAAQIEGiogAdLQiTEsAgQIEBheYFAHZNiExoIVIMNLO+P/b+9eoPyo6jyB9yOBhIRXhICrKOPALCSKIwOMrCJxEUdQwJCQBCIsyygOqyIys+5xx7PGOc7D5YzLjHuOCihihkdCEnaSdQFdecigIIuiPNzV8QUOQtAgCoS8Ovu9zb+aP53udFfe9e9PnXNTt27dunXvpziH7vr1rUuAAAECBAgQIECAAAECBAgQ2PUFBEB2/WekhwQIECBQR6BOAKQn/xucuEed1tUlQIAAAQIECBAgQIAAAQIECBBoiIAASEMelG4SIECAwCgF9pg0yoqpluBH/6yR0V+hJgECBAgQIECAAAECBAgQIECAQEMEBEAa8qB0kwABAgRGKVBnBsjEyaNsVDUCBAgQIECAAAECBAgQIECAAIGmCQiANO2J6S8BAgQIbFage9y4rq7ddt9snYGTk2rMFhm4SIYAAQIECBAgQIAAAQIECBAgQKAJAgIgTXhK+kiAAAEC9QRG+xmsiQIg9WDVJkCAAAECBAgQIECAAAECBAg0RyB/JmsjQIAAgR0psPG3T+3I243Je23s29DVtfqZro2rn91k/ANl3b1dXWue6+pau2aTOgq2nUD3nntvu8a0RIAAAQIECBAgQIAAAQIECBCoISAAUgNLVQIECGwLgb6Lz94WzWhjSwWu+VzXxrZr2/NtxbLbSKD38uXbqCXNECBAgAABAgQIECBAgAABAgTqCfgEVj0vtQkQIECAAAECBAgQIECAAAECBAgQIECAAIEGCAiANOAh6SIBAgQIECBAgAABAgQIECBAgAABAgQIECBQT0AApJ6X2gQIECBAgAABAgQIECBAgAABAgQIECBAgEADBKwB0oCHpIsECHSWQM+nFnbWgHbx0fT09HRNnTq1v5crV67s6uvr28V7rHsECBAgQIAAAQIECBAgQIAAAQLbQkAAZFsoaoMAAQI1BLr33LtGbVW3VqA7AZDevfftb6Z79ZqubgGQrSV1PQECBAgQIECAAAECBAgQIECgEQI+gdWIx6STBAgQIECAAAECBAgQIECAAAECBAgQIECAQB0BAZA6WuoSIECAAAECBAgQIECAAAECBAgQIECAAAECjRAQAGnEY9JJAgQIECBAgAABAgQIECBAgAABAgQIECBAoI6AAEgdLXUJECBAgAABAgQIECBAgAABAgQIECBAgACBRggIgDTiMekkAQIECBAgQIAAAQIECBAgQIAAAQIECBAgUEdAAKSOlroECBAgQIAAAQIECBAgQIAAAQIECBAgQIBAIwQEQBrxmHSSAAECBAgQIECAAAECBAgQIECAAAECBAgQqCMgAFJHS10CBAgQIECAAAECBAgQIECAAAECBAgQIECgEQICII14TDpJgAABAgQIECBAgAABAgQIECBAgAABAgQI1BEQAKmjpS4BAgQIECBAgAABAgQIECBAgAABAgQIECDQCAEBkEY8Jp0kQIAAAQIECBAgQIAAAQIECBAgQIAAAQIE6ggIgNTRUpcAAQIECBAgQIAAAQIECBAgQIAAAQIECBBohIAASCMek04SIECAAAECBAgQIECAAAECBAgQIECAAAECdQQEQOpoqUuAAAECBAgQIECAAAECBAgQIECAAAECBAg0QkAApBGPSScJECBAgAABAgQIECBAgAABAgQIECBAgACBOgICIHW01CVAgAABAgQIECBAgAABAgQIECBAgAABAgQaISAA0ojHpJMECBAgQIAAAQIECBAgQIAAAQIECBAgQIBAHQEBkDpa6hIgQIAAAQIECBAgQIAAAQIECBAgQIAAAQKNEBAAacRj0kkCBAgQIECAAAECBAgQIECAAAECBAgQIECgjoAASB0tdQkQIECAAAECBAgQIECAAAECBAgQIECAAIFGCAiANOIx6SQBAgQIECBAgAABAgQIECBAgAABAgQIECBQR0AApI6WugQIECBAgAABAgQIECBAgAABAgQIECBAgEAjBARAGvGYdJIAAQIECBAgQIAAAQIECBAgQIAAAQIECBCoIyAAUkdLXQIECBAgQIAAAQIECBAgQIAAAQIECBAgQKARAgIgjXhMOkmAAAECBAgQIECAAAECBAgQIECAAAECBAjUERAAqaOlLgECBAgQIECAAAECBAgQIECAAAECBAgQINAIAQGQRjwmnSRAgAABAgQIECBAgAABAgQIECBAgAABAgTqCAiA1NFSlwABAgQIECBAgAABAgQIECBAgAABAgQIEGiEgABIIx6TThIgQIAAAQIECBAgQIAAAQIECBAgQIAAAQJ1BARA6mipS4AAAQIECBAgQIAAAQIECBAgQIAAAQIECDRCQACkEY9JJwkQIECAAAECBAgQIECAAAECBAgQIECAAIE6AgIgdbTUJUCAAAECBAgQIECAAAECBAgQIECAAAECBBohIADSiMekkwQIECBAgAABAgQIECBAgAABAgQIECBAgEAdAQGQOlrqEiBAgAABAgQIECBAgAABAgQIECBAgAABAo0QEABpxGPSSQIECBAgQIAAAQIECBAgQIAAAQIECBAgQKCOgABIHS11CRAgQIAAAQIECBAgQIAAAQIECBAgQIAAgUYICIA04jHpJAECBAgQIECAAAECBAgQIECAAAECBAgQIFBHoLtOZXUJjCWBjRs3rs14x2ff1dfXN5aGbqwEOk6gt7e3f0wbNmzouLEZEAECBAgQIECAAIFOE/Dze6c9UeMZywI9PT1d3d39r6DXZb/bWLYw9p0jIACyc9zdtQECCXysTzeff2vagP7qIgECBAgQIECAAAECBAgQIECAAIFdVGBDAiDjdtG+6VYHC/iProMfrqFttcCatLB7Upn+sXKrW9MAAQI7RSCzPnp//etfH1huvs8++zyWvyYzDWSnPAk3JUCAAAECBAgQIDCygJ/fRzZSg0DDBKamv2UZhvKezUZghwuYAbLDyd2QAAECBHakwOmnn/7yBD0eKffML1MHLVu27Oc78v7uRYAAAQIECBAgQIDA6AX8/D56KzUJECBAYGQBi6CPbKQGAQIECBAgQIAAAQIECBAgQIAAAQIECBAg0DABAZCGPTDdJUCAAAECBAgQIECAAAECBAgQIECAAAECBEYWEAAZ2UgNAgQIECBAgAABAgQIECBAgAABAgQIECBAoGECAiANe2C6S4AAAQIECBAgQIAAAQIECBAgQIAAAQIECIwsIAAyspEaBAgQIECAAAECBAgQIECAAAECBAgQIECAQMMEBEAa9sB0lwABAgQIECBAgAABAgQIECBAgAABAgQIEBhZQABkZCM1CBAgQIAAAQIECBAgQIAAAQIECBAgQIAAAQIECBAgQIAAAQIECBAgQIAAAQIECBAgQIAAAQIECBAgQIAAAQIECBAgQIAAAQIECBAgQIAAAQIECBAgQIAAAQIECBAgQIAAAQIECBAgQIAAAQIECBAgQIAAAQIECBAgQIAAAQIECBAgQIAAAQIECBAgQIAAAQIECBAgQIAAAQIECBAgQIAAAQIECBAgQIAAAQIECBAgQIAAAQIECBAgQIAAAQIECBAgQIAAAQIECBAgQIAAAQIECBAgQIAAAQIECBAgQIAAAQIECBAgQIAAAQIECBAgQIAAAQIECBAgQIAAAQIECBAgQIAAAQIECBAgQIAAAQIECBAgQIAAAQIECBAgQIAAAQIECBAgQIAAAQIECBAgQIAAgY4R6O6YkRgIAQIECIx5gdmzZ8/o7u6+dTMQz+Tcoxs3brw79a68/vrrb9lMXacIECBAgAABAgQIENgOAkP83P70c889d8CKFSue3dztzjjjjIk5/1jSXlW9/Gz/5iVLltxWHdsTIECAAIF2gZ72A3kCBAgQINDhApMyvkMT/HhX9l+bM2fOVfklqrfDx2x4BAgQIECAAAECBHZ1gckTJkx450idTLDjtNQZCH6MVN95AgQIECAgAOK/AQIECBDoVIHP9PT0vKZKGeQRSTOSPpK0Mqkrv0Cdk93HS95GgAABAgQIECBAgMBOEXiuddezR7p7/pCpqlNdM9IlzhMgQIDAGBcYN8bHb/gECBAg0KEC+eVo5aJFix4YYni3Z9bH8pTfmzQh6cIc/0U+h7V2iLqKCBAgQIAAAQIECBDYjgL5o6Tl+dl9Tm5xYn4uPzA/l5dPXG2yzZw5c2oK39o68Y/Zz92kkgICBAgQIDBIwAyQQSAOCRAgQKDzBfJL1UMZ5ZdbI92zr6/vsM4ftRESIECAAAECBAgQ2PUEEvz4SnpVgh69yZ85XA/HjRtXzpU/5C11vzpcPeUECBAgQKBdQACkXUOeAAECBMaMQP7S7CfVYPPL1O5V3p4AAQIECBAgQIAAgR0qsCE/m19b7ph99YmroTpQPl9btmuSNvTn/EOAAAECBEYQEAAZAchpAgQIEOhMgawN8spqZMk/XOXtCRAgQIAAAQIECBDYsQIJfCxs3fF1s2bNmj747vk01rSUHdkqr+oOruaYAAECBAhsIiAAsgmJAgIECBDodIH8UnVYfsl6R2ucd1177bWPd/qYjY8AAQIECBAgQIDAriqwdOnS76RvD5b+5TNYQ80CqcoeyOds79tVx6FfBAgQILDrCVgEfdd7JnpEgAABAttAIAGOqXPnzn111VTW+ehO2T45Pja/VH0o+4lJT2X2R8nbCBAgQIAAAQIECBDYiQL5Wf1L+Tn9k0lnpRsfSdrY6k539vNb+S+19nYECBAgQGBUAmaAjIpJJQIECBBooMAFCXrcX6X0/3v5Zerr5Zeq5KfmF6zPJvhxzKJFi+5q4Nh0mQABAgQIECBAgEBHCeTn9KszoL6kg+bMmTOjGlwrf1DrXFn/w0aAAAECBEYtIAAyaioVCRAgQKCDBHryC9a8BEEuOOmkkyyA3kEP1lAIECBAgAABAgSaKZBPW/1Len5rq/fVJ6/KYZW/pVWnVcWOAAECBAiMLOATWCMbqUGAAAECDRRIgOPjixcvXtDe9SyeWD57dUhS+SXqQwmAXDR58uSjTjnllD9asWLFs+115QkQIECAAAECBAgQ2LECrc9gnZD9rPzs/r5y9+Rnt3rh81c79nG4GwECBDpCQACkIx6jQRAgQIDAaATyF2OrU+/+pA9nKv0P88vUZcm/ccKECf85+48m2QgQIECAAAECBAgQ2EkC+SOmZbn1Z5L2ys/qp+WTtWUdvz1z/Ex+Zi/nbAQIECBAoJaAT2DV4lKZAAECBDpFYNq0aZ/PWFa1xnNep4zLOAgQIECAAAECBAg0VSB/sPR0giA3lP5nf3aCH/2fv8r+hoULFz7T1HHpNwECBAjsPAEBkJ1n784ECBAgsBMFFixYUBZY/GGrCy+dOXPmS3Zid9yaAAECBAgQIECAAIEI9PX1VZ+6emsOTywoCYZUZeXQRoAAAQIERi0gADJqKhUJECBAoAMFBj4FmSn1A/kOHKchESBAgAABAgQIEGiEQIIdX0tHf5FUfj4v6dHp06eXMhsBAgQIEKgtIABSm8wFBAgQINAJAln4fI+MY1prLKvXr1//y04YlzEQIECAAAECBAgQaLJAPoO1IUGQhRnDmpLy+auFrdnbTR6WvhMgQIDAThLw1647Cd5tCRAgQGDnCmTGx4L0YGKrFzeXX7R2bo/cnQABAgQIECBAgACBIrB48eL/lF1JNgIECBAgsFUCAiBbxediAgQIENhVBfKXYlPnzp376vb+ZZbHhN7e3kNz7pyUv6117rns/0t7PXkCBAgQIECAAAECBAgQIECAAIHmCwiANP8ZGgEBAgQIDC1wQRZQvKD9VE9PT1eCH+1FT+T4XUuWLLm/vVCeAAECBAgQIECAAAECBAgQIECg+QICIM1/hkZAgAABAqMXWJuqq5IeTPpf48ePv/Kaa655cvSXq0mAAAECBAgQIECAAAECBAgQIECAAAECBAgQIECAAAECBAgQIECAAAECBAgQIECAAAECBAgQIECAAAECBAgQIECAAAECBAgQIECAAAECBAgQIECAAAECBAgQIECAAAECBAgQIECAAAECBAgQIECAAAECBAgQIECAAAECBAgQIECAAAECBAgQIECAAAECBAgQIECAAAECBAgQIECAAAECBAgQIECAAAECBAgQIECAAAECBAgQIECAAAECBAgQIECAAAECBAgQIECAAAECBAgQIECAAAECBAgQIECAAAECBAgQIECAAAECBAgQIECAAAECBAgQIECAAAECBAgQIECAAAECBAgQIECAAAECBAgQIECAAAECBAgQIECAAAECBAgQIECAAAECBAgQIECAAAECBAgQIECAAAECBAgQIECAAAECBAgQIECAAAECBAgQIECAAAECBAgQIECAAAECBAgQIECAAAECBAgQIECAAAECBAgQIECAAAECBAgQIECAAAECBAgQIECAAAECBAgQIECAAAECBAgQIECAAAECBAgQIECAAAECBAgQIECAAAECBAgQIECAAAECBAgQIECAAAECBAgQIECAAAECBAgQIECAAAECBAgQIECAAAECBAgQIECAAAECBAgQIECAAAECBAgQIECAAAECBAgQIECAAAECBAgQIECAAAECBAgQ2BqB7q252LUECBAgQIAAAQIECDRDYN68eQdv2LDhJ63e/uz6668/uBk9H9u9nD179ozu7u5bWwq357nNGNsiRk+AAAECBAgQIEBg9ALjRl9VTQIECBAgQIAAAQIEtpfAGWeccVvaPn6Y9tek/Kmk3yQ9nvSdpHuTbskL8YeztxEgQIAAAQIECBAgQIDAIAEBkEEgDgkQIECAAAECBAjsggK7p09TW+mQ7N/Q6mNfAic3ZYbA3y9evPjmVpkdAQIECBAgQIAAAQIECERAAMR/BgQIECBAgAABAgR2PYF7Nm7c+K2qWwlw9CS/d9I+SdOTXplUtlJ+cuqenEDIF9esWXPh8uXLf9t/xj8ECBAgQIAAAQIECBAY4wLWABnj/wEYPgECBAgQIECAwK4h0P4JrAQ8Pp4ZHQuG61nqHphzZyddmPTytnr3JH98Pou1uq1MlgABAgQIECBAgAABAmNSoPzFmI0AAQIECBAgQIAAgQYJJMDxWNIl6fLhCZZc39b1ozMb5Ittx7IECBAgQIAAAQIECBAYswICIGP20Rs4AQIECBAgQIBA0wUSBHk6M0XmZhxfrsaSgMicbG+qju0JECBAgAABAgQIECAwVgWsATJWn7xxEyBAgAABAgQIdIrAxgzknKSfJu2Z1JVZIH+e3ddLvtrmzZt38IYNG37SOv5ZgicHV+cG708//fRX9vb2npxgypvS1mty/qCkPZJ+k/Royv4p569atGjRXTke9ZZPdx2Ta9+bdt+ci16a9HTST3K8dN26dVfccMMNv0qdc1N2ZVIZx1VLliwpxy/ahquT8pmpeF7Sa5MOSHoq6b60/6UEiq5OvliNZuuena2np+f09OGYXFDaKtvjOb477S2L39Icj9he+jQ59d+V605J/WK5X9L4pGeTfpH0w5z/ZtLyeD6Q4xdt6caMnLu1VXh77jvjRRXaDmbNmnVY+lzGXwJghyTtldSXVJ7bI0nfS1u3jRs3bvk111zzZI5tBAgQIECAAAECBDpaQACkox+vwREgQIAAAQIECIwFgbwUX5VZH1/MS/YPtMZ7Yl68TynldcefF+6X5CX5n+a67rQ3+PIpKZiS86/u6+v7k9zzutWrV//xihUrysv8zW0loPBfU+HiXNs+C31CyvbLfY7OS/kPzJ07d3ba3Vw7Q57LWMsC8V9KOnVQhf1zfGLaLx7zkz89JptdHyVBhEMTRFiUuq8bYvyvSv9flXNnpr1709c5S5cu/XGOh9xS59icuD7tvGyICiU4UdK/zvl3JP3ljBkzxt92223rh6g7YlGexYK08dFU7B2icnEo6cjUOXf9+vUlGPSuIeopIkCAAAECBAgQINBRAgIgHfU4DYYAAQIECBAgQGCsCuRl/PV5OV8FQLrj8Mak5XU90kaZ7VGuL9GP/1dSXpr/KkGBddm/JMevS/rdpDJDY96ECRPKS/x3lMNSNtSW4Mffpt0PtZ0rMz9uzfWPpbzMrigzQl6WMXw5x5emvK3q5rPp17jUX5paJyStTfpG0o/SzoSUH5f8K5LK9rYcfyr7C/qPhvgnAZjD04fbc6oEC6rt/mTKLJJcvrGMvcziKNsf5N7fyDVvysyNHzxf9MK/mXFzUGbc3JySPVul67K/J+38c+7xbPaTcnxwUpmtUgy3eEtbPFBLAAATVklEQVSg5YPp28faGvhl8nel7Bel38mXwNVhSYcnDRUgSbGNAAECBAgQIECAQOcJCIB03jM1IgIECBAgQIAAgTEosGbNmnsTjNiQofe/4M6L79cnXzsAkmvuTbopMzL+57XXXltepG+yJaBxXNr/Qk6UzyydnNkH8/OJqX/YpGIKUveE1B0IfiR/9fjx4//D1Vdf/Zuqfl7gT07+00nn5qV9+XzXqLfUn53KuyfdmPSezPD4l+rizKgYt99++/117vlnpSz79yYw8cnrrrvup1Wdap8+7JbAxLU5roIfK1O/jOt/V3XKPuN5axlDsvslHVCuOf/8819/2WWXlQDHwJbyi3NQBT/uyCfD5uW+jw5UaGVKH/fff/83pM33ZD/6yE/b9cmWmR/V9pF99933bwf3p5zMGKfE67SkaozVNfYECBAgQIAAAQIEOlJAAKQjH6tBESBAgAABAgQIjDWB8hmqvOB+JOM+uIw9L+CrdSvK4ai3BBAuGaly1uW4I4GEEzPD4fupW2ZafCD7IQMgebH/l23t3Tht2rRzFixY8KLvXOWeZUbIeen/vtmf1lZ/NNkS/LjjiSeeOHXw56Naxx9Ou8enztFJ3XGZm/0nk160ZQzz09cyG6Ns61Lvbfm81XeeP3zh34z9K5n1cXLOl5km5fepI1etWnVm9uUTXANb2iuzT6rtvKGCH+Vkq49l1klJtbcDDjjgsPSlBGPKdmcs/+b57Kb/5tyqlF656RklBAgQIECAAAECBDpToP37u505QqMiQIAAAQIECBAgMHYEnqqGmpf5JZiw3bbWLIpbWzc4ev78+Zt8xinraUzP+T+sOpFPRl00OPhRnct+Y2ZJXJT9i4IjbeeHzZZ2Bwc/2iqXWRUDL/0TmCiLmm+yxeu9VWHqfGao4Ed1Pp+8uif5y6vjXDvUZ7XaPZ6o6m7rfYJQO+Q+27rf2iNAgAABAgQIECCwIwTMANkRyu5BgAABAgQIECBAYMcIlJkU1VZ9fqk6rr3PzImyfsYxecH/ewkK7JP8xOy72xr6nVa+O5/gKrMn7mg715WAxozUr4q+NdRaGdXJsi9BldzzzmTbZ0+0Vxkq/+O0++2hTlRlCZB8J7MkqsODq0y1P/XUU4vVUdVx+v2FKj/cPm1ekTarwMfRZ5999qSFCxc+01a/zMY5tBzH70+y22TWSTm3tVs+VfZIgiBVM2/O7JTfG8m5qmxPgAABAgQIECBAoNMFBEA6/QkbHwECBAgQIECAwFgSaA96DKyxURcgQYhjc035lFIJRJTVvweayMv8gXx7JuXVZ5jai3+/Osj5u6v85va5192pWycAUhYp3+y2fv36soh7Vad9xkR/WdZOOSL37V87JQVPJ4DwvarycPvDDz/8vgcffLAEPCYl9a5evboEgMpnsfq3tLc44/i35SD5v4npidlfnaDJV5ctW/bz52tt/b8JGj2Stu9KS2XNl73T/r05Xpj8Dc8999yd5dNoW38XLRAgQIAAAQIECBBopoAASDOfm14TIECAAAECBAgQGEpg76owL99XVfk6+yxofl5e1F+Ra4aOdAzTWK5pD77010rZwGLbyZcZESNu6Xet4EDqD3z2a7jGs+j6urZZEuOHqDfQz5wr/Xwh4jNE5VJUPuWVQEOpe1g5Tj9eFADKcTF8W9I7y/lsZTH4EzK7pCxG/nDyd8Tk1szg+MfhFpt//rJR/fvHqXVLUln3pSwoX2amXJDAzvrc677kv5573Zx7fi3rgAxMF0m5jQABAgQIECBAgEBHCwz8GVRHj9LgCBAgQIAAAQIECHS4QPkEU4b48rZhPtaWH1U2L8un5UX551K5Cn48mJfmH8zsiWMyi+KASZMmTcwL9O4qpe5VVcOpN9TvFuVlfP+W86OdidD+Ga/q8mH3mfEwYrBi2ItfODHQzxS1f8bqhRpD5wbqxuJFAaASaEg6PZe9O+mhQZe/IvXnp+yKuD4a9yuSpgyqM+rD3OehBFJeG+NP56L2gFD5g7fyaa+Lc+7m7H82e/bs0h8bAQIECBAgQIAAgTEhUH4gthEgQIAAAQIECBAg0HCBfO6ovOjurYaRF+zls0i1tlxzUV6UV78jlBfmpy5evHjtcI2k7ote+g9RbyCYkbb3GOL8JkVpc1LqblK+nQsG+pn7lEDSaLeBuun3b4e4aGOCE59P+efL2hwZ1/EJ2Lwhdcsnvl7Vql9mpJQZHDMSBDk29Z9oldfaZRbJ47ngwpNOOuk/Tp48+fW513G5z79J2RuSqs9+vSxll2eWzxF5rhfWuoHKBAgQIECAAAECBBooUP1y08Cu6zIBAgQIECBAgAABApVAXnifkZfb1WFZ8fufqoPR7nP9CVXdvKj/6NKlS4cNfrTqvbKqP8z+l1V5+tc+O6Uq3mQ/2nqbXLh1Be1Bh9LPArnZKEw+gdWTNUAOqm6bfg+MtSpr37cWJv9Byi4v5SUgEuP3JvvBpBK4+t208bHs35+0xduNN964Jhff3kpd559//vgnn3yyPNc/T3pjUlmT5AO5/8L06Z5ybCNAgAABAgQIECDQqQJDTVPv1LEaFwECBAgQIECAAIGOFJg5c+ZLErz4d22DuykzCdo/hdR2arPZf1WdffbZZze7uHhmK5T1Ro6o6g+zL+tP9G/p3x9W+RH2x4xwfpufzuyZsuh5tTbGnrNmzXrNSDe5//77y6Ln1QyQDRMnTvzuSNe0ny8BkTyjP01ZCXr0bzE6tcpvq/1ll122Lve56emnn35L2nygajdropxS5e0JECBAgAABAgQIdKqAAEinPlnjIkCAAAECBAgQGCsC3Vn/oazF0b6OxSe2cPBl5kj/tu+++272k1WZRfDuVBxqQfFWC11dWTvktoGDrq5jEjQ5pO14k2zOvyKF5fNQO3Rbvnx5+XzV/6lumkDEuVV+uH3qlM9WVdu3Fi5cOLAeSFU4yv3ytnplEfPtsrVmhnylajz93273qu5hT4AAAQIECBAgQGBnCwiA7Own4P4ECBAgQIAAAQIEtlAgAYPJWdT6ulz+9rYmFuYv/r/Zdlwn++OqchbnHnY2QmZIHJoX6AMzF6prBu8zy6HMOKg+s1Q+K3VpUtkPt/23nNgpv6MkoFMWf+/fMrb3ZYzDzm6J+x+kTvl8Vf+Waz9b5av9mWeeuV+V39w+7Qx8Riv1Vm6u7lDnzjrrrH3L57iGOje4rP1eyde+1+D2HBMgQIAAAQIECBDY1QVG9YPyrj4I/SNAgAABAgQIECAwlgTyAv7ALGT9ZxnzQ3mRPadt7N/Ip47e03ZcK5u2VlQX5KX+p3KPP6qOq30CLie0ZnaUBdBHM+uhrD1RbW9P36+aP3/+XlVB2ZdATtIVyZ6eVNaw2OFbxn51blp9xmq3jPHmjP/NgzuSsrek7Makca1z354yZcq1g+slgPRwxvS5pOOHC1AkyHJUnD9dXZt8abfWtm7dutOyFskPyn8P8+bNO3ioi7Mw+u7px/vT/uzqfNYfqX2v6lp7AgQIECBAgAABAk0RqH5ob0p/9ZMAAQIECBAgQIBAxwvkRfXJCTQMzCDIy/mepL1Svk8GPy3pd5J/kUOOL886FB/K7I8tDiDkZfql+ZzWu9Pw/klT0uZNeXH+7exLoKXc8Mik6UlluzmpzCI4uxwMt6U/X81Y/j7XX9iqc/batWvfmXZvTbuPp3xqykugoQRFVuX40pT/RambIMTAJ7nK8fbc0s+1WRj8zAQGbs99yvgPTD9uST+/m33/Wibp2+8nX9b+qLaV6eOZZZ2NqqBtPzH580tKgOK3aee+XPuz1H8m+/JsD0uqLJPteiL2C0pmC7aygPolWdfjktzn4Vz/vRz3z/BInw/M8euTplTtpuzqjPcb1bE9AQIECBAgQIAAgU4VEADp1CdrXAQIECBAgAABAk0WODovqY9uH0BeaLcfVvmycPeNOXfpkiVLvlYVbun+hhtuWJkX6Kfl+rIuRRWAOTJ9KYGP9u1/5ODc3Pfvcq69fMh8+nZRgiAbUveiVCgXlNkjpw669tEEB2alzYEFyJP/zZANbqfCfLLr+wmCvDFBkPJZsde1bvPa9LM96FHd/dvp75xc86OqYND+6RxX67KU8R6Xdo7LmAZV6z/8bu45L0GJR4c6OUJZuU9ptHoQZR2VVwyyrZroS/ln99lnn/IcbAQIECBAgAABAgQ6XsAnsDr+ERsgAQIECBAgQIBABwiszRh+mVRett+Z9N+T/n3+4v/gvDQ/ZVsEP9Je/5b2vpnPN03Pi/K/TsEDSc+20o/y8n5xyk9NnZlJT/VfMLp/NqaPF+cl/7Gp/sWknyaVmSq/SiqLj38k9zwiwYS7km+fqfDrHO/QLX34wfTp04/KOOeW8ebmP02qDEp+UdIZGf9Rmwl+pErXS9LGiUmfSL7Mlinrq5RPhpWgVVl0/ftp/x9yfmbud+TSpUv/b8pqb+nHkswceWkuPCdtfS77Ylhmf5T/Zkp6IunO3OuT2b9m8eLF7xtmxkpO2wgQIECAAAECBAh0lkD1V0KdNSqjIUCAAAECBAgQIECgkQKZgVLW4jir1fkyK6IEHGwECBAgQIAAAQIECBCoLWAGSG0yFxAgQIAAAQIECBAgsD0EEvwon4x6e9V2ZozcU+XtCRAgQIAAAQIECBAgUFdAAKSumPoECBAgQIAAAQIECGwXgXzC6a/S8N6txu/OZ6HKZ6NsBAgQIECAAAECBAgQ2CIBi6BvEZuLCBAgQIAAAQIECBAYrUBmdrw/wY19s87HlcuWLfv54Otmzpw5tbe39xNZp+I9befKmhU2AgQIECBAgAABAgQIbLGANUC2mM6FBAgQIECAAAECBAiMRmDOnDkLEtz4WOpuTHoo+Qd7enqezCeuJiQwckjKjk7aLal/y/mrsmj6ua1DOwIECBAgQIAAAQIECGyRgBkgW8TmIgIECBAgQIAAAQIEtkCg/AHW9AQ9pifI0ZX94CbWp+zvpk+f/uEEQAafc0yAAAECBAgQIECAAIFaAgIgtbhUJkCAAAECBAgQIECgrsDuu+9+yZo1ax7KjI+3JMBxRK6fmrRf0oSkVUk/TvltCYp8YfHixf+cYxsBAgQIECBAgAABAgQIECBAgAABAgQIECBAgAABAgQIECBAgAABAgQIECBAgAABAgQIECBAgAABAgQIECBAgAABAgQIECBAgAABAgQIECBAgAABAgQIECBAgAABAgQIECBAgAABAgQIECBAgAABAgQIECBAgAABAgQIECBAgAABAgQIECBAgAABAgQIECBAgAABAgQIECBAgAABAgQIECBAgAABAgQIECBAgAABAgQIECBAgAABAgQIECBAgAABAgQIECBAgAABAgQIECBAgAABAgQIECBAgAABAgQIECBAgAABAgQIECBAgAABAgQIECBAgAABAgQIECBAgAABAgQIECBAgAABAgQIECBAgAABAgQIECBAgAABAgQIECBAgAABAgQIECBAgAABAgQIECBAgAABAgQIECBAgAABAgQIECBAgAABAgQIECBAgAABAgQIECBAgAABAgQIECBAgAABAgQIECBAgAABAgQIECBAgAABAgQIECBAgAABAgQIECBAgAABAgQIECBAgAABAgQIECBAgAABAgQIECBAgAABAgQIECBAgAABAgQIECBAgAABAgQIECBAgAABAgQIECBAgAABAgQIECBAgAABAgQIECBAgAABAgQIECBAgAABAgQIECBAgAABAgQIECBAgAABAgQIECBAgAABAgQIECBAgAABAgQIECBAgAABAgQIECBAgAABAgQIECBAgAABAgQIECBAgAABAgQIECBAgAABAgQIECBAgAABAgQIECBAgAABAgQIECBAgAABAgQIECBAgAABAgQIECBAgAABAgQIECBAgAABAgQIECBAgAABAgQIECBAgAABAgQIECBAgAABAgQIECBAgAABAgQIECBAgAABAgQIECBAgAABAgQIECBAgAABAgQIECBAgAABAgQIECBAgAABAgQIECBAgAABAgQIECBAgAABAgQIECBAgAABAgQIECBAgAABAgQIECBAgAABAgQIECBAgAABAgQIECBAgAABAgQIECBAgAABAgQIECBAgAABAgQIECBAgAABAgQIECBAgAABAgQIECBAgAABAgQIECBAgAABAgQIECBAgAABAgQIECBAgAABAgQIECBAgAABAgQIECBAgAABAgQIECBAgAABAgQIECBAgAABAgQIECBAgAABAgQIECBAgAABAgQIECBAgAABAgQIECBAgAABAgQIECBAgAABAgQIECBAgAABAgQIECBAgAABAgQIECBAgAABAgQIECBAgAABAgQIECBAgAABAgQIECBAgAABAgQIECBAgAABAgQIECBAgAABAgQIECBAgAABAgQIECBAgAABAgQIECBAgAABAgQIECBAgAABAgQIECBAgAABAgQIECBAgAABAgQIECBAgAABAgQIECBAgAABAgQIECBAgAABAgQIECBAgAABAgQIECBAgAABAgQIECBAgAABAgQIECBAgAABAgQIECBAgAABAgQIECBAgAABAgQIECBAgAABAgQaI/D/ARnUhx/b0+HrAAAAAElFTkSuQmCC\" width=\"800\">"
      ],
      "text/plain": [
       "<IPython.core.display.HTML object>"
      ]
     },
     "metadata": {},
     "output_type": "display_data"
    },
    {
     "data": {
      "application/vnd.jupyter.widget-view+json": {
       "model_id": "10a72a02fb11444bac832f4aecf584d4"
      }
     },
     "metadata": {},
     "output_type": "display_data"
    },
    {
     "data": {
      "text/plain": [
       "<function __main__.<lambda>>"
      ]
     },
     "execution_count": 22,
     "metadata": {},
     "output_type": "execute_result"
    }
   ],
   "source": [
    "# Before Plotting, We Need to Enable D3 in The Notebook\n",
    "D3.enable_notebook()\n",
    "\n",
    "# Prettify Column Names - Replace Underscores with Spaces and Capitalize the First Letter of Each Word\n",
    "data.columns = [\" \".join([word[0].upper() + word[1:] for word in col.split(\"_\")]) for col in data.columns]\n",
    "\n",
    "# Filter Columns\n",
    "filterCols = list(data.columns.drop('Diagnosis'))[0:5]\n",
    "\n",
    "# Group Data by Diagnosis\n",
    "groups = data.groupby(\"Diagnosis\")\n",
    "    \n",
    "# Initialize Plot\n",
    "fig, axis = initPlot(groups, \"Diagnosis\", filterCols[0])\n",
    "\n",
    "# Create Filter Toggle\n",
    "filters = widgets.ToggleButtons(\n",
    "    options = filterCols,\n",
    "    description = 'Filter:',\n",
    "    disabled = False,\n",
    "    button_style='info',\n",
    "    tooltip='Feature',\n",
    "    icon='check'\n",
    ")\n",
    "\n",
    "# Bind ToggleButtons Widget Events to Rendering Function\n",
    "interact(lambda x: updatePlot(groups, \"Diagnosis\", x, fig, axis), x = filters)"
   ]
  },
  {
   "cell_type": "markdown",
   "metadata": {
    "extensions": {
     "jupyter_dashboards": {
      "version": 1,
      "views": {
       "grid_default": {
        "col": 0,
        "height": 4,
        "hidden": false,
        "row": 171,
        "width": 12
       },
       "report_default": {
        "hidden": false
       }
      }
     }
    }
   },
   "source": []
  },
  {
   "cell_type": "markdown",
   "metadata": {
    "extensions": {
     "jupyter_dashboards": {
      "version": 1,
      "views": {
       "grid_default": {
        "col": 0,
        "height": 4,
        "hidden": false,
        "row": 57,
        "width": 4
       },
       "report_default": {
        "hidden": false
       }
      }
     }
    }
   },
   "source": [
    "### In-Class Excercises\n",
    "1. Using the available dataset, create an interactive plot that visualizes `Perimeter Mean` by `Radius Mean`. Allow the user to select samples by their `Diagnosis` using a `dropdown` widget. "
   ]
  },
  {
   "cell_type": "code",
   "execution_count": null,
   "metadata": {
    "collapsed": true,
    "extensions": {
     "jupyter_dashboards": {
      "version": 1,
      "views": {
       "grid_default": {
        "col": 0,
        "height": 4,
        "hidden": true,
        "row": 0,
        "width": 12
       },
       "report_default": {
        "hidden": true
       }
      }
     }
    }
   },
   "outputs": [],
   "source": []
  },
  {
   "cell_type": "markdown",
   "metadata": {
    "extensions": {
     "jupyter_dashboards": {
      "version": 1,
      "views": {
       "grid_default": {
        "col": 0,
        "height": 12,
        "hidden": false,
        "row": 159,
        "width": 12
       },
       "report_default": {
        "hidden": false
       }
      }
     }
    }
   },
   "source": [
    "2. Create a similar plot to Exercise 1 that visualizes data for both `Diagnosis` (malignant and benign). Allow the user to filter this data by a value range using a `rageslider` widget. "
   ]
  },
  {
   "cell_type": "code",
   "execution_count": null,
   "metadata": {
    "collapsed": true,
    "extensions": {
     "jupyter_dashboards": {
      "version": 1,
      "views": {
       "grid_default": {
        "col": 0,
        "height": 4,
        "hidden": true,
        "row": 0,
        "width": 12
       },
       "report_default": {
        "hidden": true
       }
      }
     }
    }
   },
   "outputs": [],
   "source": []
  }
 ],
 "metadata": {
  "extensions": {
   "jupyter_dashboards": {
    "activeView": "grid_default",
    "version": 1,
    "views": {
     "grid_default": {
      "cellMargin": 10,
      "defaultCellHeight": 20,
      "maxColumns": 12,
      "name": "grid",
      "type": "grid"
     },
     "report_default": {
      "name": "report",
      "type": "report"
     }
    }
   }
  },
  "kernelspec": {
   "display_name": "Python 3",
   "language": "python",
   "name": "python3"
  },
  "language_info": {
   "codemirror_mode": {
    "name": "ipython",
    "version": 3
   },
   "file_extension": ".py",
   "mimetype": "text/x-python",
   "name": "python",
   "nbconvert_exporter": "python",
   "pygments_lexer": "ipython3",
   "version": "3.5.2"
  }
 },
 "nbformat": 4,
 "nbformat_minor": 2
}
