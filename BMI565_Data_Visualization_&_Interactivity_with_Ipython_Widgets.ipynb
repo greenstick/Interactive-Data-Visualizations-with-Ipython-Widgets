{
 "cells": [
  {
   "cell_type": "markdown",
   "metadata": {
    "extensions": {
     "jupyter_dashboards": {
      "version": 1,
      "views": {
       "grid_default": {
        "col": 0,
        "height": 27,
        "hidden": false,
        "row": 0,
        "width": 12
       },
       "report_default": {}
      }
     }
    }
   },
   "source": [
    "# BMI565 - Bioinformatics Programming & Scripting\n",
    "\n",
    "## Interactive Data Visualizations with Ipython Widgets\n",
    "\n",
    "#### Table of Contents\n",
    "\n",
    "1. [Introduction](#Preamble)\n",
    "    * Dependencies\n",
    "    * Installation\n",
    "    * Setup\n",
    "2. [Ipython Widgets](#Ipython-Widgets)\n",
    "    * Example: The Button Widget\n",
    "    * Example: The ToggleButtons Widget\n",
    "    * A Simplification\n",
    "    * Widgets in Context\n",
    "3. [Motivational Example: Malignant or Benign?](#Motivational-Example:-Malignant-or-Benign?)\n",
    "    * Load Data into Pandas\n",
    "    * Initializing & Re-Rendering Visualizations\n",
    "    * Bringing It All Together\n",
    "4. [In-Class Exercises](#In---Class-Exercises)\n",
    "5. [Reference](#Reference)\n",
    "\n",
    "### Introduction\n",
    "\n",
    "#### Dependencies\n",
    "\n",
    "The following dependencies are required to run this notebook.\n",
    "\n",
    "1. Python\n",
    "    * Python 3.x.x\n",
    "2. Python Libraries\n",
    "    * Pandas 0.20.3\n",
    "    * Jupyter 1.0.0\n",
    "    * Jupyter Dashboards 0.7.0\n",
    "    * Jupyter Dashboards Bundler 0.9.1\n",
    "    * Ipywidgets 6.0.0\n",
    "3. JavaScript\n",
    "    * Node.js 5.x +\n",
    "    * NPM 3.5.x +\n",
    "    \n",
    "#### Installation\n",
    "Paste & run the following commands into your terminal. "
   ]
  },
  {
   "cell_type": "markdown",
   "metadata": {
    "extensions": {
     "jupyter_dashboards": {
      "version": 1,
      "views": {
       "grid_default": {
        "col": 0,
        "height": 6,
        "hidden": false,
        "row": 27,
        "width": 12
       },
       "report_default": {}
      }
     }
    }
   },
   "source": [
    "```bash\n",
    "pip3 install pandas==0.20.3  # Pandas (Introduces DataFrame data structure, similar to R)\n",
    "pip3 install jupyter==1.0.0  # Jupyter Notebook\n",
    "pip3 install jupyter_dashboards==0.7.0  # Jupyter Dashboards\n",
    "jupyter dashboards quick-setup --sys-prefix  # Jupyter Dashboards - Extension Setup Step\n",
    "pip3 install jupyter_dashboards_bundlers==0.9.1  # Jupyter Dashboard Bundler\n",
    "jupyter bundlerextension enable --sys-prefix --py dashboards_bundlers  # Jupyter Bundler - Extension Setup Step\n",
    "pip3 install ipywidgets==6.0.0 # Ipywidgets\n",
    "jupyter nbextension enable --py --sys-prefix widgetsnbextension  # Ipywidgets - Extension Setup Step\n",
    "```\n",
    "#### Setup"
   ]
  },
  {
   "cell_type": "code",
   "execution_count": 1,
   "metadata": {
    "collapsed": true,
    "extensions": {
     "jupyter_dashboards": {
      "version": 1,
      "views": {
       "grid_default": {
        "hidden": true
       },
       "report_default": {}
      }
     }
    }
   },
   "outputs": [],
   "source": [
    "# Render Plots Inline\n",
    "%matplotlib notebook\n",
    "\n",
    "# Imports: Standard Library\n",
    "import re as Rgx\n",
    "import math as Math\n",
    "\n",
    "# Imports: Third Party\n",
    "import pandas as Pandas\n",
    "import matplotlib.pyplot as Plot\n",
    "from ipywidgets import *\n",
    "from IPython.display import display\n",
    "from IPython.display import clear_output"
   ]
  },
  {
   "cell_type": "markdown",
   "metadata": {
    "extensions": {
     "jupyter_dashboards": {
      "version": 1,
      "views": {
       "grid_default": {
        "col": 0,
        "height": 4,
        "hidden": true,
        "row": 73,
        "width": 12
       },
       "report_default": {}
      }
     }
    }
   },
   "source": [
    "### Ipython Widgets\n",
    "\n",
    "Ipython widgets provide a way to introduce interactivity into notebooks. The widgets are implemented with HTML (structure), CSS (styling), and JavaScript (action) and encapsulate specific UI functionalities."
   ]
  },
  {
   "cell_type": "code",
   "execution_count": 2,
   "metadata": {
    "extensions": {
     "jupyter_dashboards": {
      "version": 1,
      "views": {
       "grid_default": {
        "col": 0,
        "height": 25,
        "hidden": true,
        "row": 77,
        "width": 4
       },
       "report_default": {}
      }
     }
    }
   },
   "outputs": [
    {
     "data": {
      "text/plain": [
       "['Jupyter.Accordion',\n",
       " 'Jupyter.BoundedFloatText',\n",
       " 'Jupyter.BoundedIntText',\n",
       " 'Jupyter.Box',\n",
       " 'Jupyter.Button',\n",
       " 'Jupyter.ButtonStyle',\n",
       " 'Jupyter.Checkbox',\n",
       " 'Jupyter.ColorPicker',\n",
       " 'Jupyter.Controller',\n",
       " 'Jupyter.ControllerAxis',\n",
       " 'Jupyter.ControllerButton',\n",
       " 'Jupyter.DatePicker',\n",
       " 'Jupyter.Dropdown',\n",
       " 'Jupyter.FloatProgress',\n",
       " 'Jupyter.FloatRangeSlider',\n",
       " 'Jupyter.FloatSlider',\n",
       " 'Jupyter.FloatText',\n",
       " 'Jupyter.HBox',\n",
       " 'Jupyter.HTML',\n",
       " 'Jupyter.HTMLMath',\n",
       " 'Jupyter.Image',\n",
       " 'Jupyter.IntProgress',\n",
       " 'Jupyter.IntRangeSlider',\n",
       " 'Jupyter.IntSlider',\n",
       " 'Jupyter.IntText',\n",
       " 'Jupyter.Label',\n",
       " 'Jupyter.Play',\n",
       " 'Jupyter.ProgressStyle',\n",
       " 'Jupyter.RadioButtons',\n",
       " 'Jupyter.Select',\n",
       " 'Jupyter.SelectMultiple',\n",
       " 'Jupyter.SelectionSlider',\n",
       " 'Jupyter.SliderStyle',\n",
       " 'Jupyter.Tab',\n",
       " 'Jupyter.Text',\n",
       " 'Jupyter.Textarea',\n",
       " 'Jupyter.ToggleButton',\n",
       " 'Jupyter.ToggleButtons',\n",
       " 'Jupyter.VBox',\n",
       " 'Jupyter.Valid',\n",
       " 'jupyter.DirectionalLink',\n",
       " 'jupyter.Link']"
      ]
     },
     "execution_count": 2,
     "metadata": {},
     "output_type": "execute_result"
    }
   ],
   "source": [
    "sorted(widgets.Widget.widget_types)"
   ]
  },
  {
   "cell_type": "markdown",
   "metadata": {
    "extensions": {
     "jupyter_dashboards": {
      "version": 1,
      "views": {
       "grid_default": {
        "col": 0,
        "height": 4,
        "hidden": false,
        "row": 52,
        "width": 12
       },
       "report_default": {}
      }
     }
    }
   },
   "source": [
    "#### The Button Widget\n",
    "\n",
    "Each widget takes a set of initialization arguments ([see documentation for each widget here](https://ipywidgets.readthedocs.io/en/stable/examples/Widget%20List.html)). The most basic of example is perhaps a simple button element:"
   ]
  },
  {
   "cell_type": "code",
   "execution_count": 3,
   "metadata": {
    "extensions": {
     "jupyter_dashboards": {
      "version": 1,
      "views": {
       "grid_default": {
        "col": 5,
        "height": 4,
        "hidden": true,
        "row": 52,
        "width": 4
       },
       "report_default": {}
      }
     }
    }
   },
   "outputs": [
    {
     "data": {
      "application/vnd.jupyter.widget-view+json": {
       "model_id": "0b451109bb8b45a2936e4239d5226542"
      }
     },
     "metadata": {},
     "output_type": "display_data"
    }
   ],
   "source": [
    "button = widgets.Button(\n",
    "    description = \"I'm a Button! Click me!\"\n",
    ")\n",
    "button"
   ]
  },
  {
   "cell_type": "markdown",
   "metadata": {
    "extensions": {
     "jupyter_dashboards": {
      "version": 1,
      "views": {
       "grid_default": {
        "col": 5,
        "height": 4,
        "hidden": true,
        "row": 52,
        "width": 4
       },
       "report_default": {}
      }
     }
    }
   },
   "source": [
    "Looks great, but what does it do? Nothing. Let's fix that:"
   ]
  },
  {
   "cell_type": "code",
   "execution_count": 4,
   "metadata": {
    "extensions": {
     "jupyter_dashboards": {
      "version": 1,
      "views": {
       "grid_default": {
        "col": 5,
        "height": 4,
        "hidden": true,
        "row": 52,
        "width": 4
       },
       "report_default": {}
      }
     }
    }
   },
   "outputs": [
    {
     "data": {
      "application/vnd.jupyter.widget-view+json": {
       "model_id": "0b451109bb8b45a2936e4239d5226542"
      }
     },
     "metadata": {},
     "output_type": "display_data"
    }
   ],
   "source": [
    "# Define a Function for The Button to Trigger\n",
    "def makeAnimalSound (element):\n",
    "    import random\n",
    "    sounds = [\"moo\", \"squawk\", \"cacaw\", \"woof\", \"oink\", \"rawr\", \"meow\", \"bark\"]\n",
    "    print(random.sample(sounds, 1), element)\n",
    "\n",
    "button.on_click(makeAnimalSound)\n",
    "button"
   ]
  },
  {
   "cell_type": "markdown",
   "metadata": {
    "extensions": {
     "jupyter_dashboards": {
      "version": 1,
      "views": {
       "grid_default": {
        "col": 0,
        "height": 4,
        "hidden": false,
        "row": 85,
        "width": 12
       },
       "report_default": {}
      }
     }
    }
   },
   "source": [
    "#### Slider Widgets\n",
    "\n",
    "There are several types of sliders available in Ipython Widgets; the `IntSlider`, `FloatSlider`, and their ranged versions. The simplest is the `IntSlider`:"
   ]
  },
  {
   "cell_type": "code",
   "execution_count": 5,
   "metadata": {
    "extensions": {
     "jupyter_dashboards": {
      "version": 1,
      "views": {
       "grid_default": {
        "col": 4,
        "height": 4,
        "hidden": false,
        "row": 81,
        "width": 4
       },
       "report_default": {}
      }
     }
    }
   },
   "outputs": [
    {
     "data": {
      "application/vnd.jupyter.widget-view+json": {
       "model_id": "4e11da4a02514160a30e053deed795b2"
      }
     },
     "metadata": {},
     "output_type": "display_data"
    }
   ],
   "source": [
    "slider = widgets.IntSlider(\n",
    "    value = 0,\n",
    "    min = -10,\n",
    "    max = 10,\n",
    "    step = 1,\n",
    "    description = \"Do you like octopi?\",\n",
    "    disabled = False,\n",
    "    continuous_update = True,\n",
    "    orientation = \"horizontal\",\n",
    "    readout = True,\n",
    "    readout_format = 'i'\n",
    ")\n",
    "slider"
   ]
  },
  {
   "cell_type": "markdown",
   "metadata": {
    "extensions": {
     "jupyter_dashboards": {
      "version": 1,
      "views": {
       "grid_default": {
        "col": 8,
        "height": 4,
        "hidden": false,
        "row": 81,
        "width": 4
       },
       "report_default": {}
      }
     }
    }
   },
   "source": [
    "Range sliders can be good for allow a user to filtering data by a value range. "
   ]
  },
  {
   "cell_type": "code",
   "execution_count": 6,
   "metadata": {
    "extensions": {
     "jupyter_dashboards": {
      "version": 1,
      "views": {
       "grid_default": {
        "hidden": true
       },
       "report_default": {}
      }
     }
    }
   },
   "outputs": [
    {
     "data": {
      "application/vnd.jupyter.widget-view+json": {
       "model_id": "e9608dd3918a454e9f885a569aa4d269"
      }
     },
     "metadata": {},
     "output_type": "display_data"
    }
   ],
   "source": [
    "slider = widgets.FloatRangeSlider(\n",
    "    value=[5, 7.5],\n",
    "    min=0,\n",
    "    max=10.0,\n",
    "    step=0.1,\n",
    "    description='How Big is The Fish?',\n",
    "    disabled=False,\n",
    "    continuous_update=False,\n",
    "    orientation='horizontal',\n",
    "    readout=True,\n",
    "    readout_format='i',\n",
    "    slider_color='white',\n",
    "    color='black'\n",
    ")\n",
    "slider"
   ]
  },
  {
   "cell_type": "markdown",
   "metadata": {
    "extensions": {
     "jupyter_dashboards": {
      "version": 1,
      "views": {
       "grid_default": {
        "col": 0,
        "height": 4,
        "hidden": false,
        "row": 56,
        "width": 12
       },
       "report_default": {}
      }
     }
    }
   },
   "source": [
    "#### The ToggleButtons Widget\n",
    "\n",
    "A very useful example for data visualization is the `ToggleButtons` widget, which can be used to interactively filter a data set. "
   ]
  },
  {
   "cell_type": "code",
   "execution_count": 7,
   "metadata": {
    "extensions": {
     "jupyter_dashboards": {
      "version": 1,
      "views": {
       "grid_default": {
        "col": 4,
        "height": 5,
        "hidden": true,
        "row": 52,
        "width": 4
       },
       "report_default": {}
      }
     }
    }
   },
   "outputs": [
    {
     "data": {
      "application/vnd.jupyter.widget-view+json": {
       "model_id": "d08fb604af36419ba4004078aabec584"
      }
     },
     "metadata": {},
     "output_type": "display_data"
    }
   ],
   "source": [
    "toggle = widgets.ToggleButtons(\n",
    "    options = [\"bpm\", \"bmi\", \"systolic\", \"diastolic\"],\n",
    "    description = 'Filter:',\n",
    "    disabled = False,\n",
    "    button_style='info', # 'success', 'info', 'warning', 'danger' or ''\n",
    "    tooltip='Description',\n",
    "    icon='check'\n",
    ")\n",
    "toggle"
   ]
  },
  {
   "cell_type": "markdown",
   "metadata": {
    "extensions": {
     "jupyter_dashboards": {
      "version": 1,
      "views": {
       "grid_default": {
        "col": 0,
        "height": 4,
        "hidden": false,
        "row": 60,
        "width": 12
       },
       "report_default": {}
      }
     }
    }
   },
   "source": [
    "Widget interactivity is powered by JavaScript's [event loop architecture](https://developer.mozilla.org/en-US/docs/Web/JavaScript/EventLoop). Certain widgets, like `Buttons` have specialized event methods, such as `on_click`, however, for slider and toggle widgets, we can use the `observe` method to bind an action to interactions with the widget."
   ]
  },
  {
   "cell_type": "code",
   "execution_count": 8,
   "metadata": {
    "extensions": {
     "jupyter_dashboards": {
      "version": 1,
      "views": {
       "grid_default": {
        "col": 8,
        "height": 5,
        "hidden": true,
        "row": 52,
        "width": 4
       },
       "report_default": {}
      }
     }
    }
   },
   "outputs": [
    {
     "data": {
      "application/vnd.jupyter.widget-view+json": {
       "model_id": "d08fb604af36419ba4004078aabec584"
      }
     },
     "metadata": {},
     "output_type": "display_data"
    }
   ],
   "source": [
    "def callback (event):\n",
    "    if \"value\" in event[\"new\"]:\n",
    "        print(event[\"new\"][\"value\"])\n",
    "        \n",
    "toggle.observe(callback)\n",
    "toggle"
   ]
  },
  {
   "cell_type": "markdown",
   "metadata": {
    "extensions": {
     "jupyter_dashboards": {
      "version": 1,
      "views": {
       "grid_default": {
        "col": 0,
        "height": 7,
        "hidden": false,
        "row": 64,
        "width": 12
       },
       "report_default": {}
      }
     }
    }
   },
   "source": [
    "Above, we defined a function called `callback`, which checks for an updated filter value and prints it if it exists. We then hand in this 'callback function' as a parameter to the `observe` method, binding interactions with the `ToggleButtons widget` to `callbacks` functionality. This architecture is not common in Python, but is the bread and butter of event-based programming in JavaScript (and many other asynchronous languages). To see more about events, see their [documentation](https://ipywidgets.readthedocs.io/en/stable/examples/Widget%20Events.html).\n",
    "\n",
    "#### A Simplification\n",
    "Often times, we're only concerned with the specific value of the interaction. In those cases, we can simplify the above using the `interact` method, which allows us to work with the widget data directly (rather than extracting it from the `event` parameter, as we did with the `callback` method above). "
   ]
  },
  {
   "cell_type": "code",
   "execution_count": 9,
   "metadata": {
    "extensions": {
     "jupyter_dashboards": {
      "version": 1,
      "views": {
       "grid_default": {
        "col": 4,
        "height": 8,
        "hidden": true,
        "row": 52,
        "width": 4
       },
       "report_default": {}
      }
     }
    }
   },
   "outputs": [
    {
     "data": {
      "application/vnd.jupyter.widget-view+json": {
       "model_id": "976117e97e6840dfab10fa769eed4d61"
      }
     },
     "metadata": {},
     "output_type": "display_data"
    }
   ],
   "source": [
    "toggle = interact(lambda x: x, x = widgets.ToggleButtons(\n",
    "    options = [\"bpm\", \"bmi\", \"systolic\", \"diastolic\"],\n",
    "    description = 'Filter:',\n",
    "    disabled = False,\n",
    "    button_style='info', # 'success', 'info', 'warning', 'danger' or ''\n",
    "    tooltip='Description',\n",
    "    icon='check'\n",
    "))"
   ]
  },
  {
   "cell_type": "markdown",
   "metadata": {
    "extensions": {
     "jupyter_dashboards": {
      "version": 1,
      "views": {
       "grid_default": {
        "col": 8,
        "height": 4,
        "hidden": true,
        "row": 52,
        "width": 4
       },
       "report_default": {}
      }
     }
    }
   },
   "source": [
    "Here, we pass to the `interact` method a simple `lambda` function, which returns the value passed to it, and bind this to our familiar `ToggleButtons` widget. "
   ]
  },
  {
   "cell_type": "markdown",
   "metadata": {
    "extensions": {
     "jupyter_dashboards": {
      "version": 1,
      "views": {
       "grid_default": {
        "col": 0,
        "height": 4,
        "hidden": false,
        "row": 71,
        "width": 12
       },
       "report_default": {}
      }
     }
    }
   },
   "source": [
    "#### Widgets in context\n",
    "\n",
    "In addition to the boilerplate widgets described, the ipywidgets API also enables the development of [custom widgets](https://ipywidgets.readthedocs.io/en/stable/examples/Widget%20Custom.html). "
   ]
  },
  {
   "cell_type": "markdown",
   "metadata": {
    "extensions": {
     "jupyter_dashboards": {
      "version": 1,
      "views": {
       "grid_default": {
        "col": 8,
        "height": 4,
        "hidden": true,
        "row": 52,
        "width": 4
       },
       "report_default": {}
      }
     }
    }
   },
   "source": [
    "### Motivational Example: Malignant or Benign?"
   ]
  },
  {
   "cell_type": "markdown",
   "metadata": {
    "extensions": {
     "jupyter_dashboards": {
      "version": 1,
      "views": {
       "grid_default": {
        "col": 0,
        "height": 10,
        "hidden": false,
        "row": 33,
        "width": 12
       },
       "report_default": {}
      }
     }
    }
   },
   "source": [
    "Widgets enable us to interactively visualize and explore data sets. To illustrate this, we'll use a dataset with 30 (continuous) breast cancer imaging features and a (categorical) dependent variable of `diagnosis` with two factor levels (malignant or benign).\n",
    "\n",
    "The original data along with descriptions of each feature can be found on the <a href=\"https://archive.ics.uci.edu/ml/datasets/Breast+Cancer+Wisconsin+(Diagnostic)\" target=\"_blank\">UCI Machine Learning Repository</a> website. \n",
    "\n",
    "#### Load Data into Pandas"
   ]
  },
  {
   "cell_type": "code",
   "execution_count": 10,
   "metadata": {
    "extensions": {
     "jupyter_dashboards": {
      "version": 1,
      "views": {
       "grid_default": {
        "col": 0,
        "height": 9,
        "hidden": false,
        "row": 43,
        "width": 12
       },
       "report_default": {}
      }
     }
    }
   },
   "outputs": [
    {
     "data": {
      "text/html": [
       "<div>\n",
       "<style>\n",
       "    .dataframe thead tr:only-child th {\n",
       "        text-align: right;\n",
       "    }\n",
       "\n",
       "    .dataframe thead th {\n",
       "        text-align: left;\n",
       "    }\n",
       "\n",
       "    .dataframe tbody tr th {\n",
       "        vertical-align: top;\n",
       "    }\n",
       "</style>\n",
       "<table border=\"1\" class=\"dataframe\">\n",
       "  <thead>\n",
       "    <tr style=\"text-align: right;\">\n",
       "      <th></th>\n",
       "      <th>diagnosis</th>\n",
       "      <th>radius_mean</th>\n",
       "      <th>texture_mean</th>\n",
       "      <th>perimeter_mean</th>\n",
       "      <th>area_mean</th>\n",
       "      <th>smoothness_mean</th>\n",
       "      <th>compactness_mean</th>\n",
       "      <th>concavity_mean</th>\n",
       "      <th>concave points_mean</th>\n",
       "      <th>symmetry_mean</th>\n",
       "      <th>...</th>\n",
       "      <th>radius_worst</th>\n",
       "      <th>texture_worst</th>\n",
       "      <th>perimeter_worst</th>\n",
       "      <th>area_worst</th>\n",
       "      <th>smoothness_worst</th>\n",
       "      <th>compactness_worst</th>\n",
       "      <th>concavity_worst</th>\n",
       "      <th>concave points_worst</th>\n",
       "      <th>symmetry_worst</th>\n",
       "      <th>fractal_dimension_worst</th>\n",
       "    </tr>\n",
       "  </thead>\n",
       "  <tbody>\n",
       "    <tr>\n",
       "      <th>0</th>\n",
       "      <td>M</td>\n",
       "      <td>17.99</td>\n",
       "      <td>10.38</td>\n",
       "      <td>122.80</td>\n",
       "      <td>1001.0</td>\n",
       "      <td>0.11840</td>\n",
       "      <td>0.27760</td>\n",
       "      <td>0.3001</td>\n",
       "      <td>0.14710</td>\n",
       "      <td>0.2419</td>\n",
       "      <td>...</td>\n",
       "      <td>25.38</td>\n",
       "      <td>17.33</td>\n",
       "      <td>184.60</td>\n",
       "      <td>2019.0</td>\n",
       "      <td>0.1622</td>\n",
       "      <td>0.6656</td>\n",
       "      <td>0.7119</td>\n",
       "      <td>0.2654</td>\n",
       "      <td>0.4601</td>\n",
       "      <td>0.11890</td>\n",
       "    </tr>\n",
       "    <tr>\n",
       "      <th>1</th>\n",
       "      <td>M</td>\n",
       "      <td>20.57</td>\n",
       "      <td>17.77</td>\n",
       "      <td>132.90</td>\n",
       "      <td>1326.0</td>\n",
       "      <td>0.08474</td>\n",
       "      <td>0.07864</td>\n",
       "      <td>0.0869</td>\n",
       "      <td>0.07017</td>\n",
       "      <td>0.1812</td>\n",
       "      <td>...</td>\n",
       "      <td>24.99</td>\n",
       "      <td>23.41</td>\n",
       "      <td>158.80</td>\n",
       "      <td>1956.0</td>\n",
       "      <td>0.1238</td>\n",
       "      <td>0.1866</td>\n",
       "      <td>0.2416</td>\n",
       "      <td>0.1860</td>\n",
       "      <td>0.2750</td>\n",
       "      <td>0.08902</td>\n",
       "    </tr>\n",
       "    <tr>\n",
       "      <th>2</th>\n",
       "      <td>M</td>\n",
       "      <td>19.69</td>\n",
       "      <td>21.25</td>\n",
       "      <td>130.00</td>\n",
       "      <td>1203.0</td>\n",
       "      <td>0.10960</td>\n",
       "      <td>0.15990</td>\n",
       "      <td>0.1974</td>\n",
       "      <td>0.12790</td>\n",
       "      <td>0.2069</td>\n",
       "      <td>...</td>\n",
       "      <td>23.57</td>\n",
       "      <td>25.53</td>\n",
       "      <td>152.50</td>\n",
       "      <td>1709.0</td>\n",
       "      <td>0.1444</td>\n",
       "      <td>0.4245</td>\n",
       "      <td>0.4504</td>\n",
       "      <td>0.2430</td>\n",
       "      <td>0.3613</td>\n",
       "      <td>0.08758</td>\n",
       "    </tr>\n",
       "    <tr>\n",
       "      <th>3</th>\n",
       "      <td>M</td>\n",
       "      <td>11.42</td>\n",
       "      <td>20.38</td>\n",
       "      <td>77.58</td>\n",
       "      <td>386.1</td>\n",
       "      <td>0.14250</td>\n",
       "      <td>0.28390</td>\n",
       "      <td>0.2414</td>\n",
       "      <td>0.10520</td>\n",
       "      <td>0.2597</td>\n",
       "      <td>...</td>\n",
       "      <td>14.91</td>\n",
       "      <td>26.50</td>\n",
       "      <td>98.87</td>\n",
       "      <td>567.7</td>\n",
       "      <td>0.2098</td>\n",
       "      <td>0.8663</td>\n",
       "      <td>0.6869</td>\n",
       "      <td>0.2575</td>\n",
       "      <td>0.6638</td>\n",
       "      <td>0.17300</td>\n",
       "    </tr>\n",
       "    <tr>\n",
       "      <th>4</th>\n",
       "      <td>M</td>\n",
       "      <td>20.29</td>\n",
       "      <td>14.34</td>\n",
       "      <td>135.10</td>\n",
       "      <td>1297.0</td>\n",
       "      <td>0.10030</td>\n",
       "      <td>0.13280</td>\n",
       "      <td>0.1980</td>\n",
       "      <td>0.10430</td>\n",
       "      <td>0.1809</td>\n",
       "      <td>...</td>\n",
       "      <td>22.54</td>\n",
       "      <td>16.67</td>\n",
       "      <td>152.20</td>\n",
       "      <td>1575.0</td>\n",
       "      <td>0.1374</td>\n",
       "      <td>0.2050</td>\n",
       "      <td>0.4000</td>\n",
       "      <td>0.1625</td>\n",
       "      <td>0.2364</td>\n",
       "      <td>0.07678</td>\n",
       "    </tr>\n",
       "  </tbody>\n",
       "</table>\n",
       "<p>5 rows × 31 columns</p>\n",
       "</div>"
      ],
      "text/plain": [
       "  diagnosis  radius_mean  texture_mean  perimeter_mean  area_mean  \\\n",
       "0         M        17.99         10.38          122.80     1001.0   \n",
       "1         M        20.57         17.77          132.90     1326.0   \n",
       "2         M        19.69         21.25          130.00     1203.0   \n",
       "3         M        11.42         20.38           77.58      386.1   \n",
       "4         M        20.29         14.34          135.10     1297.0   \n",
       "\n",
       "   smoothness_mean  compactness_mean  concavity_mean  concave points_mean  \\\n",
       "0          0.11840           0.27760          0.3001              0.14710   \n",
       "1          0.08474           0.07864          0.0869              0.07017   \n",
       "2          0.10960           0.15990          0.1974              0.12790   \n",
       "3          0.14250           0.28390          0.2414              0.10520   \n",
       "4          0.10030           0.13280          0.1980              0.10430   \n",
       "\n",
       "   symmetry_mean           ...             radius_worst  texture_worst  \\\n",
       "0         0.2419           ...                    25.38          17.33   \n",
       "1         0.1812           ...                    24.99          23.41   \n",
       "2         0.2069           ...                    23.57          25.53   \n",
       "3         0.2597           ...                    14.91          26.50   \n",
       "4         0.1809           ...                    22.54          16.67   \n",
       "\n",
       "   perimeter_worst  area_worst  smoothness_worst  compactness_worst  \\\n",
       "0           184.60      2019.0            0.1622             0.6656   \n",
       "1           158.80      1956.0            0.1238             0.1866   \n",
       "2           152.50      1709.0            0.1444             0.4245   \n",
       "3            98.87       567.7            0.2098             0.8663   \n",
       "4           152.20      1575.0            0.1374             0.2050   \n",
       "\n",
       "   concavity_worst  concave points_worst  symmetry_worst  \\\n",
       "0           0.7119                0.2654          0.4601   \n",
       "1           0.2416                0.1860          0.2750   \n",
       "2           0.4504                0.2430          0.3613   \n",
       "3           0.6869                0.2575          0.6638   \n",
       "4           0.4000                0.1625          0.2364   \n",
       "\n",
       "   fractal_dimension_worst  \n",
       "0                  0.11890  \n",
       "1                  0.08902  \n",
       "2                  0.08758  \n",
       "3                  0.17300  \n",
       "4                  0.07678  \n",
       "\n",
       "[5 rows x 31 columns]"
      ]
     },
     "execution_count": 10,
     "metadata": {},
     "output_type": "execute_result"
    }
   ],
   "source": [
    "# Read in Data & See Head\n",
    "data = Pandas.read_csv(\"data/data.csv\").drop([\"id\", \"Unnamed: 32\"], axis = 1)\n",
    "data.head()"
   ]
  },
  {
   "cell_type": "markdown",
   "metadata": {
    "extensions": {
     "jupyter_dashboards": {
      "version": 1,
      "views": {
       "grid_default": {
        "col": 0,
        "height": 6,
        "hidden": false,
        "row": 75,
        "width": 12
       },
       "report_default": {}
      }
     }
    }
   },
   "source": [
    "#### Initializing & Re-Rendering Visualizations\n",
    "\n",
    "To generate interactive data visualizations with Matplotlib, we can look at the visualization component as having two basic pieces: \n",
    "* Initialization – Where we setup the basics of the plot and `show` it. \n",
    "* Updating – Where we update the data and any associated axes, legends, labels, etc. \n",
    "\n",
    "Below is an example of a very basic initialization method."
   ]
  },
  {
   "cell_type": "code",
   "execution_count": 11,
   "metadata": {
    "collapsed": true,
    "extensions": {
     "jupyter_dashboards": {
      "version": 1,
      "views": {
       "grid_default": {
        "col": 0,
        "height": 15,
        "hidden": true,
        "row": 52,
        "width": 5
       },
       "report_default": {}
      }
     }
    }
   },
   "outputs": [],
   "source": [
    "def initPlot (groups, dependent, independent):\n",
    "    \"\"\"\n",
    "    Method to initialize a plot, returns fig & axis\n",
    "    \"\"\"\n",
    "    # Structure Data for Matplotlib\n",
    "    keys, structuredData = [], []\n",
    "    for key, group in groups:\n",
    "        keys.append(key)\n",
    "        structuredData.append(group[independent])\n",
    "    # Setup Plot Figure & Axis\n",
    "    fig = Plot.figure()\n",
    "    axis = fig.add_subplot(111)\n",
    "    # Set Labels\n",
    "    axis.set_xlabel(dependent)\n",
    "    axis.set_ylabel(independent) \n",
    "    # Set X Axis Ticks\n",
    "    axis.set_xticks([1, 2])\n",
    "    axis.set_xticklabels(keys)\n",
    "    # Generate Violin Plot\n",
    "    axis.violinplot(structuredData)\n",
    "    Plot.ion()\n",
    "    Plot.show()\n",
    "    return fig, axis"
   ]
  },
  {
   "cell_type": "markdown",
   "metadata": {
    "extensions": {
     "jupyter_dashboards": {
      "version": 1,
      "views": {
       "grid_default": {
        "col": 4,
        "height": 4,
        "hidden": true,
        "row": 52,
        "width": 4
       },
       "report_default": {}
      }
     }
    }
   },
   "source": [
    "And the update function, notice the importand call to `Plot.cla()`, which clears the `axis` object and avoids plots rendering on top of eachother. "
   ]
  },
  {
   "cell_type": "code",
   "execution_count": 12,
   "metadata": {
    "collapsed": true,
    "extensions": {
     "jupyter_dashboards": {
      "version": 1,
      "views": {
       "grid_default": {
        "hidden": true
       },
       "report_default": {}
      }
     }
    }
   },
   "outputs": [],
   "source": [
    "def updatePlot (groups, dependent, independent, fig, axis):\n",
    "    \"\"\"\n",
    "    Void Method to Render a Plot with a Pandas DataFrame\n",
    "    \"\"\"\n",
    "    # Important – Clear Plot Axis\n",
    "    Plot.cla()\n",
    "    # Structure Data for Matplotlib\n",
    "    keys, structuredData = [], []\n",
    "    for key, group in groups:\n",
    "        keys.append(key)\n",
    "        structuredData.append(group[independent])\n",
    "    # Set Labels\n",
    "    axis.set_xlabel(dependent)\n",
    "    axis.set_ylabel(independent) \n",
    "    # Set X Axis Ticks\n",
    "    axis.set_xticks([1, 2])\n",
    "    axis.set_xticklabels(keys)\n",
    "    # Set Title\n",
    "    Plot.title(\"Distribution of %s by %s\" % (independent, dependent))\n",
    "    # Generate Violin Plot\n",
    "    axis.violinplot(structuredData, showmeans = True)"
   ]
  },
  {
   "cell_type": "markdown",
   "metadata": {
    "extensions": {
     "jupyter_dashboards": {
      "version": 1,
      "views": {
       "grid_default": {
        "col": 8,
        "height": 4,
        "hidden": true,
        "row": 52,
        "width": 4
       },
       "report_default": {}
      }
     }
    }
   },
   "source": [
    "#### Bringing It All Together"
   ]
  },
  {
   "cell_type": "code",
   "execution_count": 13,
   "metadata": {
    "extensions": {
     "jupyter_dashboards": {
      "version": 1,
      "views": {
       "grid_default": {
        "col": 0,
        "height": 13,
        "hidden": false,
        "row": 89,
        "width": 11
       },
       "report_default": {}
      }
     }
    }
   },
   "outputs": [
    {
     "data": {
      "application/javascript": [
       "/* Put everything inside the global mpl namespace */\n",
       "window.mpl = {};\n",
       "\n",
       "\n",
       "mpl.get_websocket_type = function() {\n",
       "    if (typeof(WebSocket) !== 'undefined') {\n",
       "        return WebSocket;\n",
       "    } else if (typeof(MozWebSocket) !== 'undefined') {\n",
       "        return MozWebSocket;\n",
       "    } else {\n",
       "        alert('Your browser does not have WebSocket support.' +\n",
       "              'Please try Chrome, Safari or Firefox ≥ 6. ' +\n",
       "              'Firefox 4 and 5 are also supported but you ' +\n",
       "              'have to enable WebSockets in about:config.');\n",
       "    };\n",
       "}\n",
       "\n",
       "mpl.figure = function(figure_id, websocket, ondownload, parent_element) {\n",
       "    this.id = figure_id;\n",
       "\n",
       "    this.ws = websocket;\n",
       "\n",
       "    this.supports_binary = (this.ws.binaryType != undefined);\n",
       "\n",
       "    if (!this.supports_binary) {\n",
       "        var warnings = document.getElementById(\"mpl-warnings\");\n",
       "        if (warnings) {\n",
       "            warnings.style.display = 'block';\n",
       "            warnings.textContent = (\n",
       "                \"This browser does not support binary websocket messages. \" +\n",
       "                    \"Performance may be slow.\");\n",
       "        }\n",
       "    }\n",
       "\n",
       "    this.imageObj = new Image();\n",
       "\n",
       "    this.context = undefined;\n",
       "    this.message = undefined;\n",
       "    this.canvas = undefined;\n",
       "    this.rubberband_canvas = undefined;\n",
       "    this.rubberband_context = undefined;\n",
       "    this.format_dropdown = undefined;\n",
       "\n",
       "    this.image_mode = 'full';\n",
       "\n",
       "    this.root = $('<div/>');\n",
       "    this._root_extra_style(this.root)\n",
       "    this.root.attr('style', 'display: inline-block');\n",
       "\n",
       "    $(parent_element).append(this.root);\n",
       "\n",
       "    this._init_header(this);\n",
       "    this._init_canvas(this);\n",
       "    this._init_toolbar(this);\n",
       "\n",
       "    var fig = this;\n",
       "\n",
       "    this.waiting = false;\n",
       "\n",
       "    this.ws.onopen =  function () {\n",
       "            fig.send_message(\"supports_binary\", {value: fig.supports_binary});\n",
       "            fig.send_message(\"send_image_mode\", {});\n",
       "            if (mpl.ratio != 1) {\n",
       "                fig.send_message(\"set_dpi_ratio\", {'dpi_ratio': mpl.ratio});\n",
       "            }\n",
       "            fig.send_message(\"refresh\", {});\n",
       "        }\n",
       "\n",
       "    this.imageObj.onload = function() {\n",
       "            if (fig.image_mode == 'full') {\n",
       "                // Full images could contain transparency (where diff images\n",
       "                // almost always do), so we need to clear the canvas so that\n",
       "                // there is no ghosting.\n",
       "                fig.context.clearRect(0, 0, fig.canvas.width, fig.canvas.height);\n",
       "            }\n",
       "            fig.context.drawImage(fig.imageObj, 0, 0);\n",
       "        };\n",
       "\n",
       "    this.imageObj.onunload = function() {\n",
       "        this.ws.close();\n",
       "    }\n",
       "\n",
       "    this.ws.onmessage = this._make_on_message_function(this);\n",
       "\n",
       "    this.ondownload = ondownload;\n",
       "}\n",
       "\n",
       "mpl.figure.prototype._init_header = function() {\n",
       "    var titlebar = $(\n",
       "        '<div class=\"ui-dialog-titlebar ui-widget-header ui-corner-all ' +\n",
       "        'ui-helper-clearfix\"/>');\n",
       "    var titletext = $(\n",
       "        '<div class=\"ui-dialog-title\" style=\"width: 100%; ' +\n",
       "        'text-align: center; padding: 3px;\"/>');\n",
       "    titlebar.append(titletext)\n",
       "    this.root.append(titlebar);\n",
       "    this.header = titletext[0];\n",
       "}\n",
       "\n",
       "\n",
       "\n",
       "mpl.figure.prototype._canvas_extra_style = function(canvas_div) {\n",
       "\n",
       "}\n",
       "\n",
       "\n",
       "mpl.figure.prototype._root_extra_style = function(canvas_div) {\n",
       "\n",
       "}\n",
       "\n",
       "mpl.figure.prototype._init_canvas = function() {\n",
       "    var fig = this;\n",
       "\n",
       "    var canvas_div = $('<div/>');\n",
       "\n",
       "    canvas_div.attr('style', 'position: relative; clear: both; outline: 0');\n",
       "\n",
       "    function canvas_keyboard_event(event) {\n",
       "        return fig.key_event(event, event['data']);\n",
       "    }\n",
       "\n",
       "    canvas_div.keydown('key_press', canvas_keyboard_event);\n",
       "    canvas_div.keyup('key_release', canvas_keyboard_event);\n",
       "    this.canvas_div = canvas_div\n",
       "    this._canvas_extra_style(canvas_div)\n",
       "    this.root.append(canvas_div);\n",
       "\n",
       "    var canvas = $('<canvas/>');\n",
       "    canvas.addClass('mpl-canvas');\n",
       "    canvas.attr('style', \"left: 0; top: 0; z-index: 0; outline: 0\")\n",
       "\n",
       "    this.canvas = canvas[0];\n",
       "    this.context = canvas[0].getContext(\"2d\");\n",
       "\n",
       "    var backingStore = this.context.backingStorePixelRatio ||\n",
       "\tthis.context.webkitBackingStorePixelRatio ||\n",
       "\tthis.context.mozBackingStorePixelRatio ||\n",
       "\tthis.context.msBackingStorePixelRatio ||\n",
       "\tthis.context.oBackingStorePixelRatio ||\n",
       "\tthis.context.backingStorePixelRatio || 1;\n",
       "\n",
       "    mpl.ratio = (window.devicePixelRatio || 1) / backingStore;\n",
       "\n",
       "    var rubberband = $('<canvas/>');\n",
       "    rubberband.attr('style', \"position: absolute; left: 0; top: 0; z-index: 1;\")\n",
       "\n",
       "    var pass_mouse_events = true;\n",
       "\n",
       "    canvas_div.resizable({\n",
       "        start: function(event, ui) {\n",
       "            pass_mouse_events = false;\n",
       "        },\n",
       "        resize: function(event, ui) {\n",
       "            fig.request_resize(ui.size.width, ui.size.height);\n",
       "        },\n",
       "        stop: function(event, ui) {\n",
       "            pass_mouse_events = true;\n",
       "            fig.request_resize(ui.size.width, ui.size.height);\n",
       "        },\n",
       "    });\n",
       "\n",
       "    function mouse_event_fn(event) {\n",
       "        if (pass_mouse_events)\n",
       "            return fig.mouse_event(event, event['data']);\n",
       "    }\n",
       "\n",
       "    rubberband.mousedown('button_press', mouse_event_fn);\n",
       "    rubberband.mouseup('button_release', mouse_event_fn);\n",
       "    // Throttle sequential mouse events to 1 every 20ms.\n",
       "    rubberband.mousemove('motion_notify', mouse_event_fn);\n",
       "\n",
       "    rubberband.mouseenter('figure_enter', mouse_event_fn);\n",
       "    rubberband.mouseleave('figure_leave', mouse_event_fn);\n",
       "\n",
       "    canvas_div.on(\"wheel\", function (event) {\n",
       "        event = event.originalEvent;\n",
       "        event['data'] = 'scroll'\n",
       "        if (event.deltaY < 0) {\n",
       "            event.step = 1;\n",
       "        } else {\n",
       "            event.step = -1;\n",
       "        }\n",
       "        mouse_event_fn(event);\n",
       "    });\n",
       "\n",
       "    canvas_div.append(canvas);\n",
       "    canvas_div.append(rubberband);\n",
       "\n",
       "    this.rubberband = rubberband;\n",
       "    this.rubberband_canvas = rubberband[0];\n",
       "    this.rubberband_context = rubberband[0].getContext(\"2d\");\n",
       "    this.rubberband_context.strokeStyle = \"#000000\";\n",
       "\n",
       "    this._resize_canvas = function(width, height) {\n",
       "        // Keep the size of the canvas, canvas container, and rubber band\n",
       "        // canvas in synch.\n",
       "        canvas_div.css('width', width)\n",
       "        canvas_div.css('height', height)\n",
       "\n",
       "        canvas.attr('width', width * mpl.ratio);\n",
       "        canvas.attr('height', height * mpl.ratio);\n",
       "        canvas.attr('style', 'width: ' + width + 'px; height: ' + height + 'px;');\n",
       "\n",
       "        rubberband.attr('width', width);\n",
       "        rubberband.attr('height', height);\n",
       "    }\n",
       "\n",
       "    // Set the figure to an initial 600x600px, this will subsequently be updated\n",
       "    // upon first draw.\n",
       "    this._resize_canvas(600, 600);\n",
       "\n",
       "    // Disable right mouse context menu.\n",
       "    $(this.rubberband_canvas).bind(\"contextmenu\",function(e){\n",
       "        return false;\n",
       "    });\n",
       "\n",
       "    function set_focus () {\n",
       "        canvas.focus();\n",
       "        canvas_div.focus();\n",
       "    }\n",
       "\n",
       "    window.setTimeout(set_focus, 100);\n",
       "}\n",
       "\n",
       "mpl.figure.prototype._init_toolbar = function() {\n",
       "    var fig = this;\n",
       "\n",
       "    var nav_element = $('<div/>')\n",
       "    nav_element.attr('style', 'width: 100%');\n",
       "    this.root.append(nav_element);\n",
       "\n",
       "    // Define a callback function for later on.\n",
       "    function toolbar_event(event) {\n",
       "        return fig.toolbar_button_onclick(event['data']);\n",
       "    }\n",
       "    function toolbar_mouse_event(event) {\n",
       "        return fig.toolbar_button_onmouseover(event['data']);\n",
       "    }\n",
       "\n",
       "    for(var toolbar_ind in mpl.toolbar_items) {\n",
       "        var name = mpl.toolbar_items[toolbar_ind][0];\n",
       "        var tooltip = mpl.toolbar_items[toolbar_ind][1];\n",
       "        var image = mpl.toolbar_items[toolbar_ind][2];\n",
       "        var method_name = mpl.toolbar_items[toolbar_ind][3];\n",
       "\n",
       "        if (!name) {\n",
       "            // put a spacer in here.\n",
       "            continue;\n",
       "        }\n",
       "        var button = $('<button/>');\n",
       "        button.addClass('ui-button ui-widget ui-state-default ui-corner-all ' +\n",
       "                        'ui-button-icon-only');\n",
       "        button.attr('role', 'button');\n",
       "        button.attr('aria-disabled', 'false');\n",
       "        button.click(method_name, toolbar_event);\n",
       "        button.mouseover(tooltip, toolbar_mouse_event);\n",
       "\n",
       "        var icon_img = $('<span/>');\n",
       "        icon_img.addClass('ui-button-icon-primary ui-icon');\n",
       "        icon_img.addClass(image);\n",
       "        icon_img.addClass('ui-corner-all');\n",
       "\n",
       "        var tooltip_span = $('<span/>');\n",
       "        tooltip_span.addClass('ui-button-text');\n",
       "        tooltip_span.html(tooltip);\n",
       "\n",
       "        button.append(icon_img);\n",
       "        button.append(tooltip_span);\n",
       "\n",
       "        nav_element.append(button);\n",
       "    }\n",
       "\n",
       "    var fmt_picker_span = $('<span/>');\n",
       "\n",
       "    var fmt_picker = $('<select/>');\n",
       "    fmt_picker.addClass('mpl-toolbar-option ui-widget ui-widget-content');\n",
       "    fmt_picker_span.append(fmt_picker);\n",
       "    nav_element.append(fmt_picker_span);\n",
       "    this.format_dropdown = fmt_picker[0];\n",
       "\n",
       "    for (var ind in mpl.extensions) {\n",
       "        var fmt = mpl.extensions[ind];\n",
       "        var option = $(\n",
       "            '<option/>', {selected: fmt === mpl.default_extension}).html(fmt);\n",
       "        fmt_picker.append(option)\n",
       "    }\n",
       "\n",
       "    // Add hover states to the ui-buttons\n",
       "    $( \".ui-button\" ).hover(\n",
       "        function() { $(this).addClass(\"ui-state-hover\");},\n",
       "        function() { $(this).removeClass(\"ui-state-hover\");}\n",
       "    );\n",
       "\n",
       "    var status_bar = $('<span class=\"mpl-message\"/>');\n",
       "    nav_element.append(status_bar);\n",
       "    this.message = status_bar[0];\n",
       "}\n",
       "\n",
       "mpl.figure.prototype.request_resize = function(x_pixels, y_pixels) {\n",
       "    // Request matplotlib to resize the figure. Matplotlib will then trigger a resize in the client,\n",
       "    // which will in turn request a refresh of the image.\n",
       "    this.send_message('resize', {'width': x_pixels, 'height': y_pixels});\n",
       "}\n",
       "\n",
       "mpl.figure.prototype.send_message = function(type, properties) {\n",
       "    properties['type'] = type;\n",
       "    properties['figure_id'] = this.id;\n",
       "    this.ws.send(JSON.stringify(properties));\n",
       "}\n",
       "\n",
       "mpl.figure.prototype.send_draw_message = function() {\n",
       "    if (!this.waiting) {\n",
       "        this.waiting = true;\n",
       "        this.ws.send(JSON.stringify({type: \"draw\", figure_id: this.id}));\n",
       "    }\n",
       "}\n",
       "\n",
       "\n",
       "mpl.figure.prototype.handle_save = function(fig, msg) {\n",
       "    var format_dropdown = fig.format_dropdown;\n",
       "    var format = format_dropdown.options[format_dropdown.selectedIndex].value;\n",
       "    fig.ondownload(fig, format);\n",
       "}\n",
       "\n",
       "\n",
       "mpl.figure.prototype.handle_resize = function(fig, msg) {\n",
       "    var size = msg['size'];\n",
       "    if (size[0] != fig.canvas.width || size[1] != fig.canvas.height) {\n",
       "        fig._resize_canvas(size[0], size[1]);\n",
       "        fig.send_message(\"refresh\", {});\n",
       "    };\n",
       "}\n",
       "\n",
       "mpl.figure.prototype.handle_rubberband = function(fig, msg) {\n",
       "    var x0 = msg['x0'] / mpl.ratio;\n",
       "    var y0 = (fig.canvas.height - msg['y0']) / mpl.ratio;\n",
       "    var x1 = msg['x1'] / mpl.ratio;\n",
       "    var y1 = (fig.canvas.height - msg['y1']) / mpl.ratio;\n",
       "    x0 = Math.floor(x0) + 0.5;\n",
       "    y0 = Math.floor(y0) + 0.5;\n",
       "    x1 = Math.floor(x1) + 0.5;\n",
       "    y1 = Math.floor(y1) + 0.5;\n",
       "    var min_x = Math.min(x0, x1);\n",
       "    var min_y = Math.min(y0, y1);\n",
       "    var width = Math.abs(x1 - x0);\n",
       "    var height = Math.abs(y1 - y0);\n",
       "\n",
       "    fig.rubberband_context.clearRect(\n",
       "        0, 0, fig.canvas.width, fig.canvas.height);\n",
       "\n",
       "    fig.rubberband_context.strokeRect(min_x, min_y, width, height);\n",
       "}\n",
       "\n",
       "mpl.figure.prototype.handle_figure_label = function(fig, msg) {\n",
       "    // Updates the figure title.\n",
       "    fig.header.textContent = msg['label'];\n",
       "}\n",
       "\n",
       "mpl.figure.prototype.handle_cursor = function(fig, msg) {\n",
       "    var cursor = msg['cursor'];\n",
       "    switch(cursor)\n",
       "    {\n",
       "    case 0:\n",
       "        cursor = 'pointer';\n",
       "        break;\n",
       "    case 1:\n",
       "        cursor = 'default';\n",
       "        break;\n",
       "    case 2:\n",
       "        cursor = 'crosshair';\n",
       "        break;\n",
       "    case 3:\n",
       "        cursor = 'move';\n",
       "        break;\n",
       "    }\n",
       "    fig.rubberband_canvas.style.cursor = cursor;\n",
       "}\n",
       "\n",
       "mpl.figure.prototype.handle_message = function(fig, msg) {\n",
       "    fig.message.textContent = msg['message'];\n",
       "}\n",
       "\n",
       "mpl.figure.prototype.handle_draw = function(fig, msg) {\n",
       "    // Request the server to send over a new figure.\n",
       "    fig.send_draw_message();\n",
       "}\n",
       "\n",
       "mpl.figure.prototype.handle_image_mode = function(fig, msg) {\n",
       "    fig.image_mode = msg['mode'];\n",
       "}\n",
       "\n",
       "mpl.figure.prototype.updated_canvas_event = function() {\n",
       "    // Called whenever the canvas gets updated.\n",
       "    this.send_message(\"ack\", {});\n",
       "}\n",
       "\n",
       "// A function to construct a web socket function for onmessage handling.\n",
       "// Called in the figure constructor.\n",
       "mpl.figure.prototype._make_on_message_function = function(fig) {\n",
       "    return function socket_on_message(evt) {\n",
       "        if (evt.data instanceof Blob) {\n",
       "            /* FIXME: We get \"Resource interpreted as Image but\n",
       "             * transferred with MIME type text/plain:\" errors on\n",
       "             * Chrome.  But how to set the MIME type?  It doesn't seem\n",
       "             * to be part of the websocket stream */\n",
       "            evt.data.type = \"image/png\";\n",
       "\n",
       "            /* Free the memory for the previous frames */\n",
       "            if (fig.imageObj.src) {\n",
       "                (window.URL || window.webkitURL).revokeObjectURL(\n",
       "                    fig.imageObj.src);\n",
       "            }\n",
       "\n",
       "            fig.imageObj.src = (window.URL || window.webkitURL).createObjectURL(\n",
       "                evt.data);\n",
       "            fig.updated_canvas_event();\n",
       "            fig.waiting = false;\n",
       "            return;\n",
       "        }\n",
       "        else if (typeof evt.data === 'string' && evt.data.slice(0, 21) == \"data:image/png;base64\") {\n",
       "            fig.imageObj.src = evt.data;\n",
       "            fig.updated_canvas_event();\n",
       "            fig.waiting = false;\n",
       "            return;\n",
       "        }\n",
       "\n",
       "        var msg = JSON.parse(evt.data);\n",
       "        var msg_type = msg['type'];\n",
       "\n",
       "        // Call the  \"handle_{type}\" callback, which takes\n",
       "        // the figure and JSON message as its only arguments.\n",
       "        try {\n",
       "            var callback = fig[\"handle_\" + msg_type];\n",
       "        } catch (e) {\n",
       "            console.log(\"No handler for the '\" + msg_type + \"' message type: \", msg);\n",
       "            return;\n",
       "        }\n",
       "\n",
       "        if (callback) {\n",
       "            try {\n",
       "                // console.log(\"Handling '\" + msg_type + \"' message: \", msg);\n",
       "                callback(fig, msg);\n",
       "            } catch (e) {\n",
       "                console.log(\"Exception inside the 'handler_\" + msg_type + \"' callback:\", e, e.stack, msg);\n",
       "            }\n",
       "        }\n",
       "    };\n",
       "}\n",
       "\n",
       "// from http://stackoverflow.com/questions/1114465/getting-mouse-location-in-canvas\n",
       "mpl.findpos = function(e) {\n",
       "    //this section is from http://www.quirksmode.org/js/events_properties.html\n",
       "    var targ;\n",
       "    if (!e)\n",
       "        e = window.event;\n",
       "    if (e.target)\n",
       "        targ = e.target;\n",
       "    else if (e.srcElement)\n",
       "        targ = e.srcElement;\n",
       "    if (targ.nodeType == 3) // defeat Safari bug\n",
       "        targ = targ.parentNode;\n",
       "\n",
       "    // jQuery normalizes the pageX and pageY\n",
       "    // pageX,Y are the mouse positions relative to the document\n",
       "    // offset() returns the position of the element relative to the document\n",
       "    var x = e.pageX - $(targ).offset().left;\n",
       "    var y = e.pageY - $(targ).offset().top;\n",
       "\n",
       "    return {\"x\": x, \"y\": y};\n",
       "};\n",
       "\n",
       "/*\n",
       " * return a copy of an object with only non-object keys\n",
       " * we need this to avoid circular references\n",
       " * http://stackoverflow.com/a/24161582/3208463\n",
       " */\n",
       "function simpleKeys (original) {\n",
       "  return Object.keys(original).reduce(function (obj, key) {\n",
       "    if (typeof original[key] !== 'object')\n",
       "        obj[key] = original[key]\n",
       "    return obj;\n",
       "  }, {});\n",
       "}\n",
       "\n",
       "mpl.figure.prototype.mouse_event = function(event, name) {\n",
       "    var canvas_pos = mpl.findpos(event)\n",
       "\n",
       "    if (name === 'button_press')\n",
       "    {\n",
       "        this.canvas.focus();\n",
       "        this.canvas_div.focus();\n",
       "    }\n",
       "\n",
       "    var x = canvas_pos.x * mpl.ratio;\n",
       "    var y = canvas_pos.y * mpl.ratio;\n",
       "\n",
       "    this.send_message(name, {x: x, y: y, button: event.button,\n",
       "                             step: event.step,\n",
       "                             guiEvent: simpleKeys(event)});\n",
       "\n",
       "    /* This prevents the web browser from automatically changing to\n",
       "     * the text insertion cursor when the button is pressed.  We want\n",
       "     * to control all of the cursor setting manually through the\n",
       "     * 'cursor' event from matplotlib */\n",
       "    event.preventDefault();\n",
       "    return false;\n",
       "}\n",
       "\n",
       "mpl.figure.prototype._key_event_extra = function(event, name) {\n",
       "    // Handle any extra behaviour associated with a key event\n",
       "}\n",
       "\n",
       "mpl.figure.prototype.key_event = function(event, name) {\n",
       "\n",
       "    // Prevent repeat events\n",
       "    if (name == 'key_press')\n",
       "    {\n",
       "        if (event.which === this._key)\n",
       "            return;\n",
       "        else\n",
       "            this._key = event.which;\n",
       "    }\n",
       "    if (name == 'key_release')\n",
       "        this._key = null;\n",
       "\n",
       "    var value = '';\n",
       "    if (event.ctrlKey && event.which != 17)\n",
       "        value += \"ctrl+\";\n",
       "    if (event.altKey && event.which != 18)\n",
       "        value += \"alt+\";\n",
       "    if (event.shiftKey && event.which != 16)\n",
       "        value += \"shift+\";\n",
       "\n",
       "    value += 'k';\n",
       "    value += event.which.toString();\n",
       "\n",
       "    this._key_event_extra(event, name);\n",
       "\n",
       "    this.send_message(name, {key: value,\n",
       "                             guiEvent: simpleKeys(event)});\n",
       "    return false;\n",
       "}\n",
       "\n",
       "mpl.figure.prototype.toolbar_button_onclick = function(name) {\n",
       "    if (name == 'download') {\n",
       "        this.handle_save(this, null);\n",
       "    } else {\n",
       "        this.send_message(\"toolbar_button\", {name: name});\n",
       "    }\n",
       "};\n",
       "\n",
       "mpl.figure.prototype.toolbar_button_onmouseover = function(tooltip) {\n",
       "    this.message.textContent = tooltip;\n",
       "};\n",
       "mpl.toolbar_items = [[\"Home\", \"Reset original view\", \"fa fa-home icon-home\", \"home\"], [\"Back\", \"Back to  previous view\", \"fa fa-arrow-left icon-arrow-left\", \"back\"], [\"Forward\", \"Forward to next view\", \"fa fa-arrow-right icon-arrow-right\", \"forward\"], [\"\", \"\", \"\", \"\"], [\"Pan\", \"Pan axes with left mouse, zoom with right\", \"fa fa-arrows icon-move\", \"pan\"], [\"Zoom\", \"Zoom to rectangle\", \"fa fa-square-o icon-check-empty\", \"zoom\"], [\"\", \"\", \"\", \"\"], [\"Download\", \"Download plot\", \"fa fa-floppy-o icon-save\", \"download\"]];\n",
       "\n",
       "mpl.extensions = [\"eps\", \"jpeg\", \"pdf\", \"png\", \"ps\", \"raw\", \"svg\", \"tif\"];\n",
       "\n",
       "mpl.default_extension = \"png\";var comm_websocket_adapter = function(comm) {\n",
       "    // Create a \"websocket\"-like object which calls the given IPython comm\n",
       "    // object with the appropriate methods. Currently this is a non binary\n",
       "    // socket, so there is still some room for performance tuning.\n",
       "    var ws = {};\n",
       "\n",
       "    ws.close = function() {\n",
       "        comm.close()\n",
       "    };\n",
       "    ws.send = function(m) {\n",
       "        //console.log('sending', m);\n",
       "        comm.send(m);\n",
       "    };\n",
       "    // Register the callback with on_msg.\n",
       "    comm.on_msg(function(msg) {\n",
       "        //console.log('receiving', msg['content']['data'], msg);\n",
       "        // Pass the mpl event to the overriden (by mpl) onmessage function.\n",
       "        ws.onmessage(msg['content']['data'])\n",
       "    });\n",
       "    return ws;\n",
       "}\n",
       "\n",
       "mpl.mpl_figure_comm = function(comm, msg) {\n",
       "    // This is the function which gets called when the mpl process\n",
       "    // starts-up an IPython Comm through the \"matplotlib\" channel.\n",
       "\n",
       "    var id = msg.content.data.id;\n",
       "    // Get hold of the div created by the display call when the Comm\n",
       "    // socket was opened in Python.\n",
       "    var element = $(\"#\" + id);\n",
       "    var ws_proxy = comm_websocket_adapter(comm)\n",
       "\n",
       "    function ondownload(figure, format) {\n",
       "        window.open(figure.imageObj.src);\n",
       "    }\n",
       "\n",
       "    var fig = new mpl.figure(id, ws_proxy,\n",
       "                           ondownload,\n",
       "                           element.get(0));\n",
       "\n",
       "    // Call onopen now - mpl needs it, as it is assuming we've passed it a real\n",
       "    // web socket which is closed, not our websocket->open comm proxy.\n",
       "    ws_proxy.onopen();\n",
       "\n",
       "    fig.parent_element = element.get(0);\n",
       "    fig.cell_info = mpl.find_output_cell(\"<div id='\" + id + \"'></div>\");\n",
       "    if (!fig.cell_info) {\n",
       "        console.error(\"Failed to find cell for figure\", id, fig);\n",
       "        return;\n",
       "    }\n",
       "\n",
       "    var output_index = fig.cell_info[2]\n",
       "    var cell = fig.cell_info[0];\n",
       "\n",
       "};\n",
       "\n",
       "mpl.figure.prototype.handle_close = function(fig, msg) {\n",
       "    var width = fig.canvas.width/mpl.ratio\n",
       "    fig.root.unbind('remove')\n",
       "\n",
       "    // Update the output cell to use the data from the current canvas.\n",
       "    fig.push_to_output();\n",
       "    var dataURL = fig.canvas.toDataURL();\n",
       "    // Re-enable the keyboard manager in IPython - without this line, in FF,\n",
       "    // the notebook keyboard shortcuts fail.\n",
       "    IPython.keyboard_manager.enable()\n",
       "    $(fig.parent_element).html('<img src=\"' + dataURL + '\" width=\"' + width + '\">');\n",
       "    fig.close_ws(fig, msg);\n",
       "}\n",
       "\n",
       "mpl.figure.prototype.close_ws = function(fig, msg){\n",
       "    fig.send_message('closing', msg);\n",
       "    // fig.ws.close()\n",
       "}\n",
       "\n",
       "mpl.figure.prototype.push_to_output = function(remove_interactive) {\n",
       "    // Turn the data on the canvas into data in the output cell.\n",
       "    var width = this.canvas.width/mpl.ratio\n",
       "    var dataURL = this.canvas.toDataURL();\n",
       "    this.cell_info[1]['text/html'] = '<img src=\"' + dataURL + '\" width=\"' + width + '\">';\n",
       "}\n",
       "\n",
       "mpl.figure.prototype.updated_canvas_event = function() {\n",
       "    // Tell IPython that the notebook contents must change.\n",
       "    IPython.notebook.set_dirty(true);\n",
       "    this.send_message(\"ack\", {});\n",
       "    var fig = this;\n",
       "    // Wait a second, then push the new image to the DOM so\n",
       "    // that it is saved nicely (might be nice to debounce this).\n",
       "    setTimeout(function () { fig.push_to_output() }, 1000);\n",
       "}\n",
       "\n",
       "mpl.figure.prototype._init_toolbar = function() {\n",
       "    var fig = this;\n",
       "\n",
       "    var nav_element = $('<div/>')\n",
       "    nav_element.attr('style', 'width: 100%');\n",
       "    this.root.append(nav_element);\n",
       "\n",
       "    // Define a callback function for later on.\n",
       "    function toolbar_event(event) {\n",
       "        return fig.toolbar_button_onclick(event['data']);\n",
       "    }\n",
       "    function toolbar_mouse_event(event) {\n",
       "        return fig.toolbar_button_onmouseover(event['data']);\n",
       "    }\n",
       "\n",
       "    for(var toolbar_ind in mpl.toolbar_items){\n",
       "        var name = mpl.toolbar_items[toolbar_ind][0];\n",
       "        var tooltip = mpl.toolbar_items[toolbar_ind][1];\n",
       "        var image = mpl.toolbar_items[toolbar_ind][2];\n",
       "        var method_name = mpl.toolbar_items[toolbar_ind][3];\n",
       "\n",
       "        if (!name) { continue; };\n",
       "\n",
       "        var button = $('<button class=\"btn btn-default\" href=\"#\" title=\"' + name + '\"><i class=\"fa ' + image + ' fa-lg\"></i></button>');\n",
       "        button.click(method_name, toolbar_event);\n",
       "        button.mouseover(tooltip, toolbar_mouse_event);\n",
       "        nav_element.append(button);\n",
       "    }\n",
       "\n",
       "    // Add the status bar.\n",
       "    var status_bar = $('<span class=\"mpl-message\" style=\"text-align:right; float: right;\"/>');\n",
       "    nav_element.append(status_bar);\n",
       "    this.message = status_bar[0];\n",
       "\n",
       "    // Add the close button to the window.\n",
       "    var buttongrp = $('<div class=\"btn-group inline pull-right\"></div>');\n",
       "    var button = $('<button class=\"btn btn-mini btn-primary\" href=\"#\" title=\"Stop Interaction\"><i class=\"fa fa-power-off icon-remove icon-large\"></i></button>');\n",
       "    button.click(function (evt) { fig.handle_close(fig, {}); } );\n",
       "    button.mouseover('Stop Interaction', toolbar_mouse_event);\n",
       "    buttongrp.append(button);\n",
       "    var titlebar = this.root.find($('.ui-dialog-titlebar'));\n",
       "    titlebar.prepend(buttongrp);\n",
       "}\n",
       "\n",
       "mpl.figure.prototype._root_extra_style = function(el){\n",
       "    var fig = this\n",
       "    el.on(\"remove\", function(){\n",
       "\tfig.close_ws(fig, {});\n",
       "    });\n",
       "}\n",
       "\n",
       "mpl.figure.prototype._canvas_extra_style = function(el){\n",
       "    // this is important to make the div 'focusable\n",
       "    el.attr('tabindex', 0)\n",
       "    // reach out to IPython and tell the keyboard manager to turn it's self\n",
       "    // off when our div gets focus\n",
       "\n",
       "    // location in version 3\n",
       "    if (IPython.notebook.keyboard_manager) {\n",
       "        IPython.notebook.keyboard_manager.register_events(el);\n",
       "    }\n",
       "    else {\n",
       "        // location in version 2\n",
       "        IPython.keyboard_manager.register_events(el);\n",
       "    }\n",
       "\n",
       "}\n",
       "\n",
       "mpl.figure.prototype._key_event_extra = function(event, name) {\n",
       "    var manager = IPython.notebook.keyboard_manager;\n",
       "    if (!manager)\n",
       "        manager = IPython.keyboard_manager;\n",
       "\n",
       "    // Check for shift+enter\n",
       "    if (event.shiftKey && event.which == 13) {\n",
       "        this.canvas_div.blur();\n",
       "        // select the cell after this one\n",
       "        var index = IPython.notebook.find_cell_index(this.cell_info[0]);\n",
       "        IPython.notebook.select(index + 1);\n",
       "    }\n",
       "}\n",
       "\n",
       "mpl.figure.prototype.handle_save = function(fig, msg) {\n",
       "    fig.ondownload(fig, null);\n",
       "}\n",
       "\n",
       "\n",
       "mpl.find_output_cell = function(html_output) {\n",
       "    // Return the cell and output element which can be found *uniquely* in the notebook.\n",
       "    // Note - this is a bit hacky, but it is done because the \"notebook_saving.Notebook\"\n",
       "    // IPython event is triggered only after the cells have been serialised, which for\n",
       "    // our purposes (turning an active figure into a static one), is too late.\n",
       "    var cells = IPython.notebook.get_cells();\n",
       "    var ncells = cells.length;\n",
       "    for (var i=0; i<ncells; i++) {\n",
       "        var cell = cells[i];\n",
       "        if (cell.cell_type === 'code'){\n",
       "            for (var j=0; j<cell.output_area.outputs.length; j++) {\n",
       "                var data = cell.output_area.outputs[j];\n",
       "                if (data.data) {\n",
       "                    // IPython >= 3 moved mimebundle to data attribute of output\n",
       "                    data = data.data;\n",
       "                }\n",
       "                if (data['text/html'] == html_output) {\n",
       "                    return [cell, data, j];\n",
       "                }\n",
       "            }\n",
       "        }\n",
       "    }\n",
       "}\n",
       "\n",
       "// Register the function which deals with the matplotlib target/channel.\n",
       "// The kernel may be null if the page has been refreshed.\n",
       "if (IPython.notebook.kernel != null) {\n",
       "    IPython.notebook.kernel.comm_manager.register_target('matplotlib', mpl.mpl_figure_comm);\n",
       "}\n"
      ],
      "text/plain": [
       "<IPython.core.display.Javascript object>"
      ]
     },
     "metadata": {},
     "output_type": "display_data"
    },
    {
     "data": {
      "text/html": [
       "<img src=\"data:image/png;base64,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\" width=\"640\">"
      ],
      "text/plain": [
       "<IPython.core.display.HTML object>"
      ]
     },
     "metadata": {},
     "output_type": "display_data"
    },
    {
     "data": {
      "application/vnd.jupyter.widget-view+json": {
       "model_id": "d3915e34b8dd43e68ffe08828dedf242"
      }
     },
     "metadata": {},
     "output_type": "display_data"
    },
    {
     "data": {
      "text/plain": [
       "<function __main__.<lambda>>"
      ]
     },
     "execution_count": 13,
     "metadata": {},
     "output_type": "execute_result"
    }
   ],
   "source": [
    "# Prettify Column Names - Replace Underscores with Spaces and Capitalize the First Letter of Each Word\n",
    "data.columns = [\" \".join([word[0].upper() + word[1:] for word in col.split(\"_\")]) for col in data.columns]\n",
    "\n",
    "# Filter Columns\n",
    "filterCols = list(data.columns.drop('Diagnosis'))[0:5]\n",
    "\n",
    "# Group Data by Diagnosis\n",
    "groups = data.groupby(\"Diagnosis\")\n",
    "    \n",
    "# Initialize Plot\n",
    "fig, axis = initPlot(groups, \"Diagnosis\", filterCols[0])\n",
    "\n",
    "# Create Filter Toggle\n",
    "filters = widgets.ToggleButtons(\n",
    "    options = filterCols,\n",
    "    description = 'Filter:',\n",
    "    disabled = False,\n",
    "    button_style='info',\n",
    "    tooltip='Feature',\n",
    "    icon='check'\n",
    ")\n",
    "\n",
    "# Bing ToggleButtons Widget Events to Rendering Function\n",
    "interact(lambda x: updatePlot(groups, \"Diagnosis\", x, fig, axis), x = filters)"
   ]
  },
  {
   "cell_type": "markdown",
   "metadata": {
    "extensions": {
     "jupyter_dashboards": {
      "version": 1,
      "views": {
       "grid_default": {
        "col": 0,
        "height": 4,
        "hidden": false,
        "row": 81,
        "width": 4
       },
       "report_default": {}
      }
     }
    }
   },
   "source": [
    "### In-Class Excercises"
   ]
  },
  {
   "cell_type": "code",
   "execution_count": null,
   "metadata": {
    "collapsed": true,
    "extensions": {
     "jupyter_dashboards": {
      "version": 1,
      "views": {
       "grid_default": {
        "hidden": true
       },
       "report_default": {}
      }
     }
    }
   },
   "outputs": [],
   "source": []
  },
  {
   "cell_type": "markdown",
   "metadata": {
    "extensions": {
     "jupyter_dashboards": {
      "version": 1,
      "views": {
       "grid_default": {
        "col": 0,
        "height": 6,
        "hidden": true,
        "row": 67,
        "width": 12
       },
       "report_default": {}
      }
     }
    }
   },
   "source": [
    "### Further Reading & Reference - This Sections Not as Relevant Right Now\n",
    "\n",
    "* [Data-Ink Ratio](https://en.wikipedia.org/wiki/Edward_Tufte#Information_design) <sup>1</sup>\n",
    "* [Exploratory Versus Explanatory](http://www.storytellingwithdata.com/blog/2014/04/exploratory-vs-explanatory-analysis) <sup>2</sup>\n",
    "* [Dimensionality Reduction Techniques](https://en.wikipedia.org/wiki/Dimensionality_reduction)\n",
    "    * [Principle Component Analysis (PCA)](http://setosa.io/ev/principal-component-analysis/) <sup>3</sup>\n",
    "    * [t-distributed Stochastic Neighbor Embedding (t-SNE)](https://distill.pub/2016/misread-tsne/) <sup>4</sup>\n",
    "        * [SK Learning t-SNE Implementation](http://scikit-learn.org/stable/auto_examples/manifold/plot_compare_methods.html#sphx-glr-auto-examples-manifold-plot-compare-methods-py)\n",
    "\n",
    "\n",
    "1. Tufte, Edward R (1983), The Visual Display of Quantitative Information (2nd ed.), Cheshire, CT: Graphics Press, ISBN 0-9613921-4-2.\n",
    "2. [Knaflic, Cole N. (2014), Exloratory vs Explanatory Analysis. Blog post.](http://www.storytellingwithdata.com/blog/2014/04/exploratory-vs-explanatory-analysis)\n",
    "3. [Hotelling, Harold (1933). Analysis of a complex of statistical variables into principal components. Journal of Educational Psychology. American Psychological Association. 24 (6): 417–441.](http://content.apa.org/doiLanding?doi=10.1037%2Fh0071325)\n",
    "4. [van der Maaten, L. & Hinton, G. (2008). Visualizing data using t-SNE. The Journal of Machine Learning Research. 9 (2579-2605), 85.](http://www.jmlr.org/papers/volume9/vandermaaten08a/vandermaaten08a.pdf)"
   ]
  },
  {
   "cell_type": "code",
   "execution_count": null,
   "metadata": {
    "collapsed": true,
    "extensions": {
     "jupyter_dashboards": {
      "version": 1,
      "views": {
       "grid_default": {
        "hidden": true
       },
       "report_default": {}
      }
     }
    }
   },
   "outputs": [],
   "source": []
  }
 ],
 "metadata": {
  "extensions": {
   "jupyter_dashboards": {
    "activeView": "grid_default",
    "version": 1,
    "views": {
     "grid_default": {
      "cellMargin": 10,
      "defaultCellHeight": 20,
      "maxColumns": 12,
      "name": "grid",
      "type": "grid"
     },
     "report_default": {
      "name": "report",
      "type": "report"
     }
    }
   }
  },
  "kernelspec": {
   "display_name": "Python 3",
   "language": "python",
   "name": "python3"
  },
  "language_info": {
   "codemirror_mode": {
    "name": "ipython",
    "version": 3
   },
   "file_extension": ".py",
   "mimetype": "text/x-python",
   "name": "python",
   "nbconvert_exporter": "python",
   "pygments_lexer": "ipython3",
   "version": "3.5.2"
  }
 },
 "nbformat": 4,
 "nbformat_minor": 2
}
