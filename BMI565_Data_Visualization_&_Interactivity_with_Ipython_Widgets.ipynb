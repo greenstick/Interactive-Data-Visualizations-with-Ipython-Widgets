{
 "cells": [
  {
   "cell_type": "markdown",
   "metadata": {
    "extensions": {
     "jupyter_dashboards": {
      "version": 1,
      "views": {
       "grid_default": {
        "col": 0,
        "height": 27,
        "hidden": true,
        "row": 0,
        "width": 12
       },
       "report_default": {
        "hidden": false
       }
      }
     }
    }
   },
   "source": [
    "# BMI565 - Bioinformatics Programming & Scripting\n",
    "\n",
    "## Interactive Data Visualizations with Ipython Widgets\n",
    "\n",
    "### Table of Contents\n",
    "\n",
    "1. [Introduction](#Introduction)\n",
    "    * Dependencies\n",
    "    * Installation\n",
    "    * Setup\n",
    "2. [Ipython Widgets](#Ipython-Widgets)\n",
    "    * Some Basic Widgets\n",
    "    * Widgets To Filter\n",
    "    * Widgets To Select\n",
    "    * Simplifying Interactivity\n",
    "    * Custom Widgets\n",
    "3. [Motivational Example: Malignant or Benign?](#Motivational-Example:-Malignant-or-Benign?)\n",
    "    * Load Data into Pandas\n",
    "    * Initializing & Re-Rendering Visualizations\n",
    "    * Bringing It All Together\n",
    "4. [In-Class Exercises](#In---Class-Exercises)\n",
    "5. [Reference](#Reference)\n",
    "\n",
    "### Introduction\n",
    "\n",
    "During the course of an exploratory data analysis (EDA) we often generate numerous data visualizations, which we could describe simply as *exploratory data visualizations*. Once our EDA is complete and we have conducted our principle analysis, we'll have hopefully gained a handful of insights that we find valuable and would like to communicate to a larger audience of our peers or perhaps even the general public. As with an EDA, the communication of results is often greatly facilitated by visualization. Often, just a handful of plots and a paragraph can provide a powerful distillation of the major findings from a dataset. \n",
    "\n",
    "With that in mind, once we have the results of our study, the purpose of data visualization shifts from **exploratory** to **explanatory**. For the latter, the basic approach can be to select a few plots from the EDA that highlight the core findings of a study. Usually, however, the additional step of generating bespoke visualizations that are illustrative of specific findings will be required. \n",
    "\n",
    "For *explanatory data visualization*, interactivity can be used to create compelling visualizations that engage a user and invite them to explore the results themselves through their web browser. By making visualizations interactive, we can both improve the quality of a visualization in terms of it's ability to engage a viewer while also making visualization more informative. \n",
    "\n",
    "#### Dependencies\n",
    "\n",
    "The following dependencies are required to run this notebook. Note that the version numbers are primarily for reference; exact library versions are unlikely to be required.\n",
    "\n",
    "1. Python\n",
    "    * Python 3.x\n",
    "2. Python Libraries\n",
    "    * Pandas 0.20.3\n",
    "    * Jupyter 1.0.0\n",
    "    * Ipywidgets 6.0.0\n",
    "    * MPLD3 0.3\n",
    "    \n",
    "#### Installation\n",
    "If you don't have the above libraries installed, paste & run the following commands into your terminal. "
   ]
  },
  {
   "cell_type": "markdown",
   "metadata": {
    "extensions": {
     "jupyter_dashboards": {
      "version": 1,
      "views": {
       "grid_default": {
        "col": 0,
        "height": 8,
        "hidden": false,
        "row": 114,
        "width": 12
       },
       "report_default": {
        "hidden": false
       }
      }
     }
    }
   },
   "source": [
    "```bash\n",
    "pip3 install pandas==0.20.3  # Pandas (Introduces DataFrame data structure, similar to R)\n",
    "pip3 install jupyter==1.0.0  # Jupyter Notebook\n",
    "pip3 install ipywidgets==6.0.0 # Ipywidgets\n",
    "pip3 install mpld3==0.3\n",
    "jupyter nbextension enable --py --sys-prefix widgetsnbextension  # Ipywidgets - Extension Setup Step\n",
    "```\n",
    "*Use `pip` instead of `pip3` if using Python 2*\n",
    "\n",
    "#### Setup"
   ]
  },
  {
   "cell_type": "code",
   "execution_count": 122,
   "metadata": {
    "extensions": {
     "jupyter_dashboards": {
      "version": 1,
      "views": {
       "grid_default": {
        "col": 0,
        "height": 4,
        "hidden": false,
        "row": 110,
        "width": 12
       },
       "report_default": {
        "hidden": true
       }
      }
     }
    }
   },
   "outputs": [],
   "source": [
    "# Render Plots Inline\n",
    "%matplotlib notebook\n",
    "\n",
    "# Imports: Standard Library\n",
    "import re as Rgx\n",
    "import math as Math\n",
    "\n",
    "# Imports: Third Party\n",
    "import pandas as Pandas\n",
    "import matplotlib.pyplot as Plot\n",
    "import mpld3 as D3\n",
    "import statsmodels as Stats\n",
    "from ipywidgets import widgets, interact"
   ]
  },
  {
   "cell_type": "markdown",
   "metadata": {
    "extensions": {
     "jupyter_dashboards": {
      "version": 1,
      "views": {
       "grid_default": {
        "col": 0,
        "height": 4,
        "hidden": false,
        "row": 122,
        "width": 12
       },
       "report_default": {
        "hidden": false
       }
      }
     }
    }
   },
   "source": [
    "### Ipython Widgets\n",
    "\n",
    "Ipython widgets provide a way to introduce interactivity into notebooks. The widgets are implemented with HTML (structure), CSS (styling), and JavaScript (action) and encapsulate specific UI functionalities."
   ]
  },
  {
   "cell_type": "code",
   "execution_count": 123,
   "metadata": {
    "extensions": {
     "jupyter_dashboards": {
      "version": 1,
      "views": {
       "grid_default": {
        "col": 0,
        "height": 25,
        "hidden": false,
        "row": 85,
        "width": 12
       },
       "report_default": {
        "hidden": false
       }
      }
     }
    }
   },
   "outputs": [
    {
     "data": {
      "text/plain": [
       "['Jupyter.Accordion',\n",
       " 'Jupyter.BoundedFloatText',\n",
       " 'Jupyter.BoundedIntText',\n",
       " 'Jupyter.Box',\n",
       " 'Jupyter.Button',\n",
       " 'Jupyter.ButtonStyle',\n",
       " 'Jupyter.Checkbox',\n",
       " 'Jupyter.ColorPicker',\n",
       " 'Jupyter.Controller',\n",
       " 'Jupyter.ControllerAxis',\n",
       " 'Jupyter.ControllerButton',\n",
       " 'Jupyter.DatePicker',\n",
       " 'Jupyter.Dropdown',\n",
       " 'Jupyter.FloatProgress',\n",
       " 'Jupyter.FloatRangeSlider',\n",
       " 'Jupyter.FloatSlider',\n",
       " 'Jupyter.FloatText',\n",
       " 'Jupyter.HBox',\n",
       " 'Jupyter.HTML',\n",
       " 'Jupyter.HTMLMath',\n",
       " 'Jupyter.Image',\n",
       " 'Jupyter.IntProgress',\n",
       " 'Jupyter.IntRangeSlider',\n",
       " 'Jupyter.IntSlider',\n",
       " 'Jupyter.IntText',\n",
       " 'Jupyter.Label',\n",
       " 'Jupyter.Play',\n",
       " 'Jupyter.ProgressStyle',\n",
       " 'Jupyter.RadioButtons',\n",
       " 'Jupyter.Select',\n",
       " 'Jupyter.SelectMultiple',\n",
       " 'Jupyter.SelectionSlider',\n",
       " 'Jupyter.SliderStyle',\n",
       " 'Jupyter.Tab',\n",
       " 'Jupyter.Text',\n",
       " 'Jupyter.Textarea',\n",
       " 'Jupyter.ToggleButton',\n",
       " 'Jupyter.ToggleButtons',\n",
       " 'Jupyter.VBox',\n",
       " 'Jupyter.Valid',\n",
       " 'jupyter.DirectionalLink',\n",
       " 'jupyter.Link']"
      ]
     },
     "execution_count": 123,
     "metadata": {},
     "output_type": "execute_result"
    }
   ],
   "source": [
    "sorted(widgets.Widget.widget_types)"
   ]
  },
  {
   "cell_type": "markdown",
   "metadata": {},
   "source": [
    "We can think of certain widgets as being amenable to certain types of manipulation of the data model. For example:\n",
    "\n",
    "* **Button** and **Radio Button** widgets can be used to toggle a visualization feature, such as an optional regression line on a scatter plot\n",
    "* **Slider** and **Ranged Slider** widgets can be used to filter values or date ranges\n",
    "* **Toggle** and **Dropdown** widgets can be used to select specific data columns or datasets. \n",
    "* **Image** and **HTML** widgets can be used to build out user interfaces\n",
    "\n",
    "There are also specialized widgets, such as color pickers and date pickers, which can offer a user more granular control of how a visualization is rendered and data is selected. "
   ]
  },
  {
   "cell_type": "markdown",
   "metadata": {
    "extensions": {
     "jupyter_dashboards": {
      "version": 1,
      "views": {
       "grid_default": {
        "col": 0,
        "height": 4,
        "hidden": false,
        "row": 32,
        "width": 12
       },
       "report_default": {
        "hidden": false
       }
      }
     }
    }
   },
   "source": [
    "#### Some Basic Widgets\n",
    "\n",
    "##### The Button Widget\n",
    "\n",
    "Each widget takes a set of initialization arguments ([see documentation for each widget here](https://ipywidgets.readthedocs.io/en/stable/examples/Widget%20List.html)). The most basic of example is perhaps a simple button element:"
   ]
  },
  {
   "cell_type": "code",
   "execution_count": 124,
   "metadata": {
    "extensions": {
     "jupyter_dashboards": {
      "version": 1,
      "views": {
       "grid_default": {
        "col": 0,
        "height": 4,
        "hidden": false,
        "row": 69,
        "width": 12
       },
       "report_default": {
        "hidden": false
       }
      }
     }
    }
   },
   "outputs": [
    {
     "data": {
      "application/vnd.jupyter.widget-view+json": {
       "model_id": "8bb9da21078b4a66bd2f03f245567677"
      }
     },
     "metadata": {},
     "output_type": "display_data"
    }
   ],
   "source": [
    "button = widgets.Button(\n",
    "    description = \"I'm a Button! Click me!\"\n",
    ")\n",
    "button"
   ]
  },
  {
   "cell_type": "markdown",
   "metadata": {
    "extensions": {
     "jupyter_dashboards": {
      "version": 1,
      "views": {
       "grid_default": {
        "col": 0,
        "height": 4,
        "hidden": false,
        "row": 73,
        "width": 12
       },
       "report_default": {
        "hidden": false
       }
      }
     }
    }
   },
   "source": [
    "Looks great, but what does it do? Nothing. Let's fix that:"
   ]
  },
  {
   "cell_type": "code",
   "execution_count": 125,
   "metadata": {
    "extensions": {
     "jupyter_dashboards": {
      "version": 1,
      "views": {
       "grid_default": {
        "col": 0,
        "height": 4,
        "hidden": false,
        "row": 77,
        "width": 12
       },
       "report_default": {
        "hidden": false
       }
      }
     }
    }
   },
   "outputs": [
    {
     "data": {
      "application/vnd.jupyter.widget-view+json": {
       "model_id": "8bb9da21078b4a66bd2f03f245567677"
      }
     },
     "metadata": {},
     "output_type": "display_data"
    }
   ],
   "source": [
    "# Define a Function for The Button to Trigger\n",
    "def makeAnAnimalSound (element):\n",
    "    import random\n",
    "    sounds = [\"moo\", \"squawk\", \"cacaw\", \"woof\", \"oink\", \"rawr\", \"meow\", \"bark\"]\n",
    "    print(\"%s\\t\" % random.sample(sounds, 1)[0], element)\n",
    "\n",
    "button.on_click(makeAnAnimalSound)\n",
    "button"
   ]
  },
  {
   "cell_type": "markdown",
   "metadata": {},
   "source": [
    "##### The Toggle Button Widget\n",
    "\n",
    "If you need to both set and unset a variable, you can use the toggle button widget."
   ]
  },
  {
   "cell_type": "code",
   "execution_count": 126,
   "metadata": {},
   "outputs": [
    {
     "data": {
      "application/vnd.jupyter.widget-view+json": {
       "model_id": "6b0721bc99bc4259b656ef9aed1768bd"
      }
     },
     "metadata": {},
     "output_type": "display_data"
    }
   ],
   "source": [
    "button = widgets.ToggleButton(\n",
    "    value=False,\n",
    "    description=\"It's Toggle Time.\",\n",
    "    button_style='info', # 'success', 'info', 'warning', 'danger' or ''\n",
    "    tooltip='Turn on the lights!'\n",
    ")\n",
    "button"
   ]
  },
  {
   "cell_type": "markdown",
   "metadata": {},
   "source": [
    "##### The Checkbox Widget\n",
    "\n",
    "Basically just another `ToggleButton` widget. "
   ]
  },
  {
   "cell_type": "code",
   "execution_count": 127,
   "metadata": {},
   "outputs": [
    {
     "data": {
      "application/vnd.jupyter.widget-view+json": {
       "model_id": "d39e40a346824837a2b36e1b37a73098"
      }
     },
     "metadata": {},
     "output_type": "display_data"
    }
   ],
   "source": [
    "widgets.Checkbox(\n",
    "    value=False,\n",
    "    description='Please don\\'t check me'\n",
    ")"
   ]
  },
  {
   "cell_type": "markdown",
   "metadata": {
    "extensions": {
     "jupyter_dashboards": {
      "version": 1,
      "views": {
       "grid_default": {
        "col": 0,
        "height": 4,
        "hidden": false,
        "row": 61,
        "width": 12
       },
       "report_default": {
        "hidden": false
       }
      }
     }
    }
   },
   "source": [
    "#### Widgets To Filter\n",
    "\n",
    "You can use sliders to filter both integer, float, or categorical data types. Below is an example of an integer slider.\n",
    "\n",
    "##### The Integer Slider Widget"
   ]
  },
  {
   "cell_type": "code",
   "execution_count": 128,
   "metadata": {
    "extensions": {
     "jupyter_dashboards": {
      "version": 1,
      "views": {
       "grid_default": {
        "col": 4,
        "height": 4,
        "hidden": false,
        "row": 57,
        "width": 4
       },
       "report_default": {
        "hidden": false
       }
      }
     }
    }
   },
   "outputs": [
    {
     "data": {
      "application/vnd.jupyter.widget-view+json": {
       "model_id": "98b5cf1938414c8eb31d76e4792fa501"
      }
     },
     "metadata": {},
     "output_type": "display_data"
    }
   ],
   "source": [
    "slider = widgets.IntSlider(\n",
    "    value = 0,\n",
    "    min = -10,\n",
    "    max = 10,\n",
    "    step = 1,\n",
    "    description = \"Do you like octopi?\",\n",
    "    disabled = False,\n",
    "    continuous_update = True,\n",
    "    orientation = \"horizontal\",\n",
    "    readout = True,\n",
    "    readout_format = 'i'\n",
    ")\n",
    "slider"
   ]
  },
  {
   "cell_type": "markdown",
   "metadata": {
    "extensions": {
     "jupyter_dashboards": {
      "version": 1,
      "views": {
       "grid_default": {
        "col": 8,
        "height": 4,
        "hidden": false,
        "row": 57,
        "width": 4
       },
       "report_default": {
        "hidden": false
       }
      }
     }
    }
   },
   "source": [
    "##### The Range Slider Widget\n",
    "Both integer and float variants of the range slider are available."
   ]
  },
  {
   "cell_type": "code",
   "execution_count": 129,
   "metadata": {
    "extensions": {
     "jupyter_dashboards": {
      "version": 1,
      "views": {
       "grid_default": {
        "col": 0,
        "height": 4,
        "hidden": false,
        "row": 81,
        "width": 12
       },
       "report_default": {
        "hidden": false
       }
      }
     }
    }
   },
   "outputs": [
    {
     "data": {
      "application/vnd.jupyter.widget-view+json": {
       "model_id": "202a48eb1049411ca8a05c24b8d17f96"
      }
     },
     "metadata": {},
     "output_type": "display_data"
    }
   ],
   "source": [
    "slider = widgets.FloatRangeSlider(\n",
    "    value=[5, 7.5],\n",
    "    min=0,\n",
    "    max=10.0,\n",
    "    step=0.1,\n",
    "    description='How Big is The Fish?',\n",
    "    disabled=False,\n",
    "    continuous_update=False,\n",
    "    orientation='horizontal',\n",
    "    readout=True,\n",
    "    readout_format='i',\n",
    "    slider_color='white',\n",
    "    color='black'\n",
    ")\n",
    "slider"
   ]
  },
  {
   "cell_type": "markdown",
   "metadata": {},
   "source": [
    "#### Widgets To Select\n",
    "\n",
    "##### The Dropdown Widget\n",
    "The classic dropdown."
   ]
  },
  {
   "cell_type": "code",
   "execution_count": 130,
   "metadata": {},
   "outputs": [
    {
     "data": {
      "application/vnd.jupyter.widget-view+json": {
       "model_id": "b247136b16e04652b1f2ad01974eb49d"
      }
     },
     "metadata": {},
     "output_type": "display_data"
    }
   ],
   "source": [
    "widgets.Dropdown(\n",
    "    options={'Rock': 1, 'Indie': 2, 'Hip Hop': 3, 'Rap': 4, 'Folk': 5, 'Country': 6, 'Bluegrass': 7, 'Classical': 8},\n",
    "    value=1,\n",
    "    description=\"I'd Rather Listen To:\",\n",
    ")"
   ]
  },
  {
   "cell_type": "markdown",
   "metadata": {},
   "source": [
    "##### The Multi Select Widget\n",
    "For when you would like to allow the selection of combinations."
   ]
  },
  {
   "cell_type": "code",
   "execution_count": 131,
   "metadata": {},
   "outputs": [
    {
     "data": {
      "application/vnd.jupyter.widget-view+json": {
       "model_id": "9ea8217fded34ef694d114b52b5f12aa"
      }
     },
     "metadata": {},
     "output_type": "display_data"
    }
   ],
   "source": [
    "widgets.SelectMultiple(\n",
    "    options=['Breakfast', 'Second Breakfast', 'Brunch', 'Lunch', 'Dinner', 'Second Dinner', 'Dessert All Day'],\n",
    "    value=['Breakfast', 'Brunch', 'Lunch', 'Dinner', 'Second Dinner'],\n",
    "    description='I Will Have...'\n",
    ")"
   ]
  },
  {
   "cell_type": "markdown",
   "metadata": {},
   "source": [
    "##### The Tabs Widget"
   ]
  },
  {
   "cell_type": "code",
   "execution_count": 132,
   "metadata": {},
   "outputs": [
    {
     "data": {
      "application/vnd.jupyter.widget-view+json": {
       "model_id": "8320818d52744c1bb840fe46f8f88c26"
      }
     },
     "metadata": {},
     "output_type": "display_data"
    }
   ],
   "source": [
    "# Import OrderedDict To Ensure Alphabetical Ordering of Tabs\n",
    "from collections import OrderedDict\n",
    "labels = OrderedDict(\n",
    "    (\n",
    "        ('A', 'Alice'), \n",
    "        ('B', 'Bob'), \n",
    "        ('C', 'Charlie'),\n",
    "        ('D', 'Diane')\n",
    "    )\n",
    ")\n",
    "\n",
    "tab = widgets.Tab()\n",
    "\n",
    "# Set Names to Labels\n",
    "tab.children = [widgets.Label(value) for key, value in labels.items()]\n",
    "for i, key in enumerate(labels.keys()):\n",
    "    tab.set_title(i, key)\n",
    "tab"
   ]
  },
  {
   "cell_type": "markdown",
   "metadata": {
    "extensions": {
     "jupyter_dashboards": {
      "version": 1,
      "views": {
       "grid_default": {
        "col": 0,
        "height": 4,
        "hidden": false,
        "row": 126,
        "width": 12
       },
       "report_default": {
        "hidden": false
       }
      }
     }
    }
   },
   "source": [
    "##### The Toggle Buttons Widget"
   ]
  },
  {
   "cell_type": "code",
   "execution_count": 133,
   "metadata": {
    "extensions": {
     "jupyter_dashboards": {
      "version": 1,
      "views": {
       "grid_default": {
        "col": 0,
        "height": 4,
        "hidden": false,
        "row": 130,
        "width": 12
       },
       "report_default": {
        "hidden": false
       }
      }
     }
    }
   },
   "outputs": [
    {
     "data": {
      "application/vnd.jupyter.widget-view+json": {
       "model_id": "b60bc99e7f4e4566bf9574aebc099705"
      }
     },
     "metadata": {},
     "output_type": "display_data"
    }
   ],
   "source": [
    "toggle = widgets.ToggleButtons(\n",
    "    options = [\"bpm\", \"bmi\", \"systolic\", \"diastolic\"],\n",
    "    description = 'Filter:',\n",
    "    disabled = False,\n",
    "    button_style='info', # 'success', 'info', 'warning', 'danger' or ''\n",
    "    tooltip='Description',\n",
    "    icon='check'\n",
    ")\n",
    "toggle"
   ]
  },
  {
   "cell_type": "markdown",
   "metadata": {
    "extensions": {
     "jupyter_dashboards": {
      "version": 1,
      "views": {
       "grid_default": {
        "col": 0,
        "height": 4,
        "hidden": false,
        "row": 36,
        "width": 12
       },
       "report_default": {
        "hidden": false
       }
      }
     }
    }
   },
   "source": [
    "#### Creating Interactivity\n",
    "\n",
    "Widget interactivity is powered by JavaScript's [event loop architecture](https://developer.mozilla.org/en-US/docs/Web/JavaScript/EventLoop). Certain widgets have specialized event methods (e.g. `Buttons` have the `on_click` method, as seen above), however, for slider and toggle widgets, we can use the `observe` method to bind a specific action to interactions with the widget."
   ]
  },
  {
   "cell_type": "code",
   "execution_count": 134,
   "metadata": {
    "extensions": {
     "jupyter_dashboards": {
      "version": 1,
      "views": {
       "grid_default": {
        "col": 0,
        "height": 4,
        "hidden": false,
        "row": 134,
        "width": 12
       },
       "report_default": {
        "hidden": false
       }
      }
     }
    }
   },
   "outputs": [
    {
     "name": "stdout",
     "output_type": "stream",
     "text": [
      "Event Type\tNew Value\n"
     ]
    },
    {
     "data": {
      "application/vnd.jupyter.widget-view+json": {
       "model_id": "b60bc99e7f4e4566bf9574aebc099705"
      }
     },
     "metadata": {},
     "output_type": "display_data"
    }
   ],
   "source": [
    "def callback (event):\n",
    "    if \"value\" in event[\"new\"]:\n",
    "        print(\"%s\\t\\t%s\" % (event[\"type\"], event[\"new\"][\"value\"]))\n",
    "        \n",
    "toggle.observe(callback)\n",
    "print(\"Event Type\\tNew Value\")\n",
    "toggle"
   ]
  },
  {
   "cell_type": "markdown",
   "metadata": {
    "extensions": {
     "jupyter_dashboards": {
      "version": 1,
      "views": {
       "grid_default": {
        "col": 0,
        "height": 7,
        "hidden": false,
        "row": 40,
        "width": 12
       },
       "report_default": {
        "hidden": false
       }
      }
     }
    }
   },
   "source": [
    "Above, we defined a function called `callback`, which checks for an updated filter value and prints it if it exists (along with the `change` event that triggered it). We then hand in this 'callback function' as a parameter to the `observe` method, binding interactions with the `ToggleButtons widget` to `callbacks` functionality. This architecture is not common in Python, but is the bread and butter of event-based programming in JavaScript (and many other asynchronous languages). To see more about events, see their [documentation](https://ipywidgets.readthedocs.io/en/stable/examples/Widget%20Events.html).\n",
    "\n",
    "##### Simplifying Interactivity\n",
    "Often times, we're only concerned with the specific value of the interaction. In those cases, we can simplify the above using the `interact` method, which allows us to work with the widget data directly (rather than extracting it from the `event` dictionary, which was passed as a parameter to the `callback` method we defined above). "
   ]
  },
  {
   "cell_type": "code",
   "execution_count": 135,
   "metadata": {
    "extensions": {
     "jupyter_dashboards": {
      "version": 1,
      "views": {
       "grid_default": {
        "col": 0,
        "height": 5,
        "hidden": false,
        "row": 138,
        "width": 12
       },
       "report_default": {
        "hidden": false
       }
      }
     }
    }
   },
   "outputs": [
    {
     "data": {
      "application/vnd.jupyter.widget-view+json": {
       "model_id": "8ea843e9106549d8abdb2a1c5d7138de"
      }
     },
     "metadata": {},
     "output_type": "display_data"
    }
   ],
   "source": [
    "toggle = interact(lambda x: x, x = widgets.ToggleButtons(\n",
    "    options = [\"bpm\", \"bmi\", \"systolic\", \"diastolic\"],\n",
    "    description = 'Filter:',\n",
    "    disabled = False,\n",
    "    button_style='info', # 'success', 'info', 'warning', 'danger' or ''\n",
    "    tooltip='Description',\n",
    "    icon='check'\n",
    "))"
   ]
  },
  {
   "cell_type": "markdown",
   "metadata": {
    "extensions": {
     "jupyter_dashboards": {
      "version": 1,
      "views": {
       "grid_default": {
        "col": 0,
        "height": 4,
        "hidden": false,
        "row": 143,
        "width": 12
       },
       "report_default": {
        "hidden": false
       }
      }
     }
    }
   },
   "source": [
    "Here, we pass to the `interact` method a simple `lambda` function, which returns the value passed to it, and bind this to our familiar `ToggleButtons` widget. Of course we could customize the `lambda` function to, say, reverse and capitalize the string value:"
   ]
  },
  {
   "cell_type": "code",
   "execution_count": 136,
   "metadata": {
    "extensions": {
     "jupyter_dashboards": {
      "version": 1,
      "views": {
       "grid_default": {
        "hidden": true
       },
       "report_default": {
        "hidden": true
       }
      }
     }
    }
   },
   "outputs": [
    {
     "data": {
      "application/vnd.jupyter.widget-view+json": {
       "model_id": "34297ae1e3b34e8296fea79b85d8b8a9"
      }
     },
     "metadata": {},
     "output_type": "display_data"
    }
   ],
   "source": [
    "# An Inline Function To Print A Reversed & Capitalized String\n",
    "reverseAndCapitalize = lambda x: \"%s >>> %s\" % (x, x[::-1].upper())\n",
    "\n",
    "toggle = interact(reverseAndCapitalize, x = widgets.ToggleButtons(\n",
    "    options = [\"bpm\", \"bmi\", \"systolic\", \"diastolic\"],\n",
    "    description = 'Filter:',\n",
    "    disabled = False,\n",
    "    button_style='info', # 'success', 'info', 'warning', 'danger' or ''\n",
    "    tooltip='Description',\n",
    "    icon='check'\n",
    "))"
   ]
  },
  {
   "cell_type": "markdown",
   "metadata": {
    "extensions": {
     "jupyter_dashboards": {
      "version": 1,
      "views": {
       "grid_default": {
        "col": 0,
        "height": 4,
        "hidden": false,
        "row": 47,
        "width": 12
       },
       "report_default": {
        "hidden": false
       }
      }
     }
    }
   },
   "source": [
    "#### Custom Widgets\n",
    "\n",
    "If you find that none of the above widgets suit your needs, the `ipywidgets` API also enables the development of [custom widgets](https://ipywidgets.readthedocs.io/en/stable/examples/Widget%20Custom.html). Before embarking down this road, its worthwhile to build an understanding of how `ipywidgets` work as it is a bit more involved – here's an [excellent tutorial](https://ipywidgets.readthedocs.io/en/stable/examples/Widget%20Low%20Level.html) that focuses on just that. "
   ]
  },
  {
   "cell_type": "markdown",
   "metadata": {
    "extensions": {
     "jupyter_dashboards": {
      "version": 1,
      "views": {
       "grid_default": {
        "col": 0,
        "height": 4,
        "hidden": true,
        "row": 0,
        "width": 12
       },
       "report_default": {
        "hidden": false
       }
      }
     }
    }
   },
   "source": [
    "### Motivational Example: Malignant Versus Benign"
   ]
  },
  {
   "cell_type": "markdown",
   "metadata": {
    "extensions": {
     "jupyter_dashboards": {
      "version": 1,
      "views": {
       "grid_default": {
        "col": 0,
        "height": 10,
        "hidden": false,
        "row": 13,
        "width": 12
       },
       "report_default": {
        "hidden": false
       }
      }
     }
    }
   },
   "source": [
    "Widgets enable us to build UI that allow for the interactive exploration of data sets and their visualization. To illustrate this, we'll use a dataset with 30 (continuous) breast cancer imaging features and a (categorical) dependent variable of `diagnosis` with two factor levels (malignant or benign).\n",
    "\n",
    "The original data along with descriptions of each feature can be found on the <a href=\"https://archive.ics.uci.edu/ml/datasets/Breast+Cancer+Wisconsin+(Diagnostic)\" target=\"_blank\">UCI Machine Learning Repository</a> website. \n",
    "\n",
    "#### Load Data into Pandas"
   ]
  },
  {
   "cell_type": "code",
   "execution_count": 150,
   "metadata": {
    "extensions": {
     "jupyter_dashboards": {
      "version": 1,
      "views": {
       "grid_default": {
        "col": 0,
        "height": 9,
        "hidden": false,
        "row": 23,
        "width": 12
       },
       "report_default": {
        "hidden": false
       }
      }
     }
    }
   },
   "outputs": [],
   "source": [
    "# Read in Data & See Head\n",
    "data = Pandas.read_csv(\"data/data.csv\").drop([\"id\", \"Unnamed: 32\"], axis = 1)\n",
    "data.head()\n",
    "\n",
    "# Lets Make Our Visualization Look Like ggplot\n",
    "Plot.style.use('ggplot')"
   ]
  },
  {
   "cell_type": "markdown",
   "metadata": {
    "extensions": {
     "jupyter_dashboards": {
      "version": 1,
      "views": {
       "grid_default": {
        "col": 0,
        "height": 6,
        "hidden": false,
        "row": 51,
        "width": 12
       },
       "report_default": {
        "hidden": false
       }
      }
     }
    }
   },
   "source": [
    "#### Initializing & Re-Rendering Visualizations\n",
    "\n",
    "To generate interactive data visualizations with Matplotlib, we can look at the visualization component as having two basic pieces: \n",
    "* Initialization – Where we setup the basics of the plot and `show` it. \n",
    "* Updating – Where we update the data and any associated axes, legends, labels, etc. \n",
    "\n",
    "Below is an example of a very basic initialization method."
   ]
  },
  {
   "cell_type": "code",
   "execution_count": 158,
   "metadata": {
    "extensions": {
     "jupyter_dashboards": {
      "version": 1,
      "views": {
       "grid_default": {
        "col": 0,
        "height": 4,
        "hidden": false,
        "row": 147,
        "width": 12
       },
       "report_default": {
        "hidden": true
       }
      }
     }
    }
   },
   "outputs": [],
   "source": [
    "def initPlot (groups, dependent, independent):\n",
    "    \"\"\"\n",
    "    Method to initialize a plot, returns fig & axis, Returns Figure & Axis Objects.\n",
    "    \"\"\"\n",
    "    # Structure Data for Matplotlib\n",
    "    keys, structuredData = [], []\n",
    "    for key, group in groups:\n",
    "        keys.append(key)\n",
    "        structuredData.append(group[independent])\n",
    "    # Setup Plot Figure & Axis\n",
    "    fig = Plot.figure(figsize = (8, 6))\n",
    "    axis = fig.add_subplot(111)\n",
    "    # Set Labels\n",
    "    axis.set_xlabel(dependent)\n",
    "    axis.set_ylabel(independent) \n",
    "    # Set X Axis Ticks\n",
    "    axis.set_xticks([1, 2])\n",
    "    axis.set_xticklabels(keys)\n",
    "    # Generate Violin Plot\n",
    "    axis.violinplot(structuredData)\n",
    "    Plot.show(fig)\n",
    "    return fig, axis"
   ]
  },
  {
   "cell_type": "markdown",
   "metadata": {
    "extensions": {
     "jupyter_dashboards": {
      "version": 1,
      "views": {
       "grid_default": {
        "col": 0,
        "height": 4,
        "hidden": false,
        "row": 151,
        "width": 12
       },
       "report_default": {
        "hidden": false
       }
      }
     }
    }
   },
   "source": [
    "And the update function, notice the call to `Plot.cla()`, which clears the `axis` object and avoids plots rendering on top of eachother. "
   ]
  },
  {
   "cell_type": "code",
   "execution_count": 159,
   "metadata": {
    "collapsed": true,
    "extensions": {
     "jupyter_dashboards": {
      "version": 1,
      "views": {
       "grid_default": {
        "col": 0,
        "height": 4,
        "hidden": false,
        "row": 155,
        "width": 12
       },
       "report_default": {
        "hidden": true
       }
      }
     }
    }
   },
   "outputs": [],
   "source": [
    "def updatePlot (groups, dependent, independent, fig, axis):\n",
    "    \"\"\"\n",
    "    Method to Render a Plot with a Pandas DataFrame, No Return Value.\n",
    "    \"\"\"\n",
    "    # Important – Clear Plot Axis\n",
    "    Plot.cla()\n",
    "    # Structure Data for Matplotlib\n",
    "    keys, structuredData = [], []\n",
    "    for key, group in groups:\n",
    "        keys.append(key)\n",
    "        structuredData.append(group[independent])\n",
    "    # Update Labels\n",
    "    axis.set_xlabel(dependent)\n",
    "    axis.set_ylabel(independent) \n",
    "    # Update X Axis Ticks\n",
    "    axis.set_xticks([1, 2])\n",
    "    axis.set_xticklabels(keys)\n",
    "    # Update Title\n",
    "    Plot.title(\"Distribution of %s by %s\" % (independent, dependent))\n",
    "    # Generate Violin Plot\n",
    "    axis.violinplot(structuredData, showmeans = True)"
   ]
  },
  {
   "cell_type": "markdown",
   "metadata": {
    "extensions": {
     "jupyter_dashboards": {
      "version": 1,
      "views": {
       "grid_default": {
        "col": 0,
        "height": 4,
        "hidden": false,
        "row": 65,
        "width": 12
       },
       "report_default": {
        "hidden": false
       }
      }
     }
    }
   },
   "source": [
    "#### Bringing It All Together\n",
    "\n",
    "You may have noticed earlier that we imported a library called `mpld3`. Before rendering the interactive plot, we'll initialize this library to enable [D3.js](https://d3js.org) to handle the rendering of the plot. One of the benefits of doing so is that the plot generated by `mpld3` will be sharper than a standard `matplotlib` plot. This is because D3 by default renders the plot in scalable vector graphics (SVG, an XML-based format) rather than painting each pixel (i.e. rasterization, like a photo). "
   ]
  },
  {
   "cell_type": "code",
   "execution_count": 160,
   "metadata": {
    "extensions": {
     "jupyter_dashboards": {
      "version": 1,
      "views": {
       "grid_default": {
        "col": 0,
        "height": 13,
        "hidden": false,
        "row": 0,
        "width": 11
       },
       "report_default": {
        "hidden": false
       }
      }
     }
    }
   },
   "outputs": [
    {
     "data": {
      "application/javascript": [
       "/* Put everything inside the global mpl namespace */\n",
       "window.mpl = {};\n",
       "\n",
       "\n",
       "mpl.get_websocket_type = function() {\n",
       "    if (typeof(WebSocket) !== 'undefined') {\n",
       "        return WebSocket;\n",
       "    } else if (typeof(MozWebSocket) !== 'undefined') {\n",
       "        return MozWebSocket;\n",
       "    } else {\n",
       "        alert('Your browser does not have WebSocket support.' +\n",
       "              'Please try Chrome, Safari or Firefox ≥ 6. ' +\n",
       "              'Firefox 4 and 5 are also supported but you ' +\n",
       "              'have to enable WebSockets in about:config.');\n",
       "    };\n",
       "}\n",
       "\n",
       "mpl.figure = function(figure_id, websocket, ondownload, parent_element) {\n",
       "    this.id = figure_id;\n",
       "\n",
       "    this.ws = websocket;\n",
       "\n",
       "    this.supports_binary = (this.ws.binaryType != undefined);\n",
       "\n",
       "    if (!this.supports_binary) {\n",
       "        var warnings = document.getElementById(\"mpl-warnings\");\n",
       "        if (warnings) {\n",
       "            warnings.style.display = 'block';\n",
       "            warnings.textContent = (\n",
       "                \"This browser does not support binary websocket messages. \" +\n",
       "                    \"Performance may be slow.\");\n",
       "        }\n",
       "    }\n",
       "\n",
       "    this.imageObj = new Image();\n",
       "\n",
       "    this.context = undefined;\n",
       "    this.message = undefined;\n",
       "    this.canvas = undefined;\n",
       "    this.rubberband_canvas = undefined;\n",
       "    this.rubberband_context = undefined;\n",
       "    this.format_dropdown = undefined;\n",
       "\n",
       "    this.image_mode = 'full';\n",
       "\n",
       "    this.root = $('<div/>');\n",
       "    this._root_extra_style(this.root)\n",
       "    this.root.attr('style', 'display: inline-block');\n",
       "\n",
       "    $(parent_element).append(this.root);\n",
       "\n",
       "    this._init_header(this);\n",
       "    this._init_canvas(this);\n",
       "    this._init_toolbar(this);\n",
       "\n",
       "    var fig = this;\n",
       "\n",
       "    this.waiting = false;\n",
       "\n",
       "    this.ws.onopen =  function () {\n",
       "            fig.send_message(\"supports_binary\", {value: fig.supports_binary});\n",
       "            fig.send_message(\"send_image_mode\", {});\n",
       "            if (mpl.ratio != 1) {\n",
       "                fig.send_message(\"set_dpi_ratio\", {'dpi_ratio': mpl.ratio});\n",
       "            }\n",
       "            fig.send_message(\"refresh\", {});\n",
       "        }\n",
       "\n",
       "    this.imageObj.onload = function() {\n",
       "            if (fig.image_mode == 'full') {\n",
       "                // Full images could contain transparency (where diff images\n",
       "                // almost always do), so we need to clear the canvas so that\n",
       "                // there is no ghosting.\n",
       "                fig.context.clearRect(0, 0, fig.canvas.width, fig.canvas.height);\n",
       "            }\n",
       "            fig.context.drawImage(fig.imageObj, 0, 0);\n",
       "        };\n",
       "\n",
       "    this.imageObj.onunload = function() {\n",
       "        this.ws.close();\n",
       "    }\n",
       "\n",
       "    this.ws.onmessage = this._make_on_message_function(this);\n",
       "\n",
       "    this.ondownload = ondownload;\n",
       "}\n",
       "\n",
       "mpl.figure.prototype._init_header = function() {\n",
       "    var titlebar = $(\n",
       "        '<div class=\"ui-dialog-titlebar ui-widget-header ui-corner-all ' +\n",
       "        'ui-helper-clearfix\"/>');\n",
       "    var titletext = $(\n",
       "        '<div class=\"ui-dialog-title\" style=\"width: 100%; ' +\n",
       "        'text-align: center; padding: 3px;\"/>');\n",
       "    titlebar.append(titletext)\n",
       "    this.root.append(titlebar);\n",
       "    this.header = titletext[0];\n",
       "}\n",
       "\n",
       "\n",
       "\n",
       "mpl.figure.prototype._canvas_extra_style = function(canvas_div) {\n",
       "\n",
       "}\n",
       "\n",
       "\n",
       "mpl.figure.prototype._root_extra_style = function(canvas_div) {\n",
       "\n",
       "}\n",
       "\n",
       "mpl.figure.prototype._init_canvas = function() {\n",
       "    var fig = this;\n",
       "\n",
       "    var canvas_div = $('<div/>');\n",
       "\n",
       "    canvas_div.attr('style', 'position: relative; clear: both; outline: 0');\n",
       "\n",
       "    function canvas_keyboard_event(event) {\n",
       "        return fig.key_event(event, event['data']);\n",
       "    }\n",
       "\n",
       "    canvas_div.keydown('key_press', canvas_keyboard_event);\n",
       "    canvas_div.keyup('key_release', canvas_keyboard_event);\n",
       "    this.canvas_div = canvas_div\n",
       "    this._canvas_extra_style(canvas_div)\n",
       "    this.root.append(canvas_div);\n",
       "\n",
       "    var canvas = $('<canvas/>');\n",
       "    canvas.addClass('mpl-canvas');\n",
       "    canvas.attr('style', \"left: 0; top: 0; z-index: 0; outline: 0\")\n",
       "\n",
       "    this.canvas = canvas[0];\n",
       "    this.context = canvas[0].getContext(\"2d\");\n",
       "\n",
       "    var backingStore = this.context.backingStorePixelRatio ||\n",
       "\tthis.context.webkitBackingStorePixelRatio ||\n",
       "\tthis.context.mozBackingStorePixelRatio ||\n",
       "\tthis.context.msBackingStorePixelRatio ||\n",
       "\tthis.context.oBackingStorePixelRatio ||\n",
       "\tthis.context.backingStorePixelRatio || 1;\n",
       "\n",
       "    mpl.ratio = (window.devicePixelRatio || 1) / backingStore;\n",
       "\n",
       "    var rubberband = $('<canvas/>');\n",
       "    rubberband.attr('style', \"position: absolute; left: 0; top: 0; z-index: 1;\")\n",
       "\n",
       "    var pass_mouse_events = true;\n",
       "\n",
       "    canvas_div.resizable({\n",
       "        start: function(event, ui) {\n",
       "            pass_mouse_events = false;\n",
       "        },\n",
       "        resize: function(event, ui) {\n",
       "            fig.request_resize(ui.size.width, ui.size.height);\n",
       "        },\n",
       "        stop: function(event, ui) {\n",
       "            pass_mouse_events = true;\n",
       "            fig.request_resize(ui.size.width, ui.size.height);\n",
       "        },\n",
       "    });\n",
       "\n",
       "    function mouse_event_fn(event) {\n",
       "        if (pass_mouse_events)\n",
       "            return fig.mouse_event(event, event['data']);\n",
       "    }\n",
       "\n",
       "    rubberband.mousedown('button_press', mouse_event_fn);\n",
       "    rubberband.mouseup('button_release', mouse_event_fn);\n",
       "    // Throttle sequential mouse events to 1 every 20ms.\n",
       "    rubberband.mousemove('motion_notify', mouse_event_fn);\n",
       "\n",
       "    rubberband.mouseenter('figure_enter', mouse_event_fn);\n",
       "    rubberband.mouseleave('figure_leave', mouse_event_fn);\n",
       "\n",
       "    canvas_div.on(\"wheel\", function (event) {\n",
       "        event = event.originalEvent;\n",
       "        event['data'] = 'scroll'\n",
       "        if (event.deltaY < 0) {\n",
       "            event.step = 1;\n",
       "        } else {\n",
       "            event.step = -1;\n",
       "        }\n",
       "        mouse_event_fn(event);\n",
       "    });\n",
       "\n",
       "    canvas_div.append(canvas);\n",
       "    canvas_div.append(rubberband);\n",
       "\n",
       "    this.rubberband = rubberband;\n",
       "    this.rubberband_canvas = rubberband[0];\n",
       "    this.rubberband_context = rubberband[0].getContext(\"2d\");\n",
       "    this.rubberband_context.strokeStyle = \"#000000\";\n",
       "\n",
       "    this._resize_canvas = function(width, height) {\n",
       "        // Keep the size of the canvas, canvas container, and rubber band\n",
       "        // canvas in synch.\n",
       "        canvas_div.css('width', width)\n",
       "        canvas_div.css('height', height)\n",
       "\n",
       "        canvas.attr('width', width * mpl.ratio);\n",
       "        canvas.attr('height', height * mpl.ratio);\n",
       "        canvas.attr('style', 'width: ' + width + 'px; height: ' + height + 'px;');\n",
       "\n",
       "        rubberband.attr('width', width);\n",
       "        rubberband.attr('height', height);\n",
       "    }\n",
       "\n",
       "    // Set the figure to an initial 600x600px, this will subsequently be updated\n",
       "    // upon first draw.\n",
       "    this._resize_canvas(600, 600);\n",
       "\n",
       "    // Disable right mouse context menu.\n",
       "    $(this.rubberband_canvas).bind(\"contextmenu\",function(e){\n",
       "        return false;\n",
       "    });\n",
       "\n",
       "    function set_focus () {\n",
       "        canvas.focus();\n",
       "        canvas_div.focus();\n",
       "    }\n",
       "\n",
       "    window.setTimeout(set_focus, 100);\n",
       "}\n",
       "\n",
       "mpl.figure.prototype._init_toolbar = function() {\n",
       "    var fig = this;\n",
       "\n",
       "    var nav_element = $('<div/>')\n",
       "    nav_element.attr('style', 'width: 100%');\n",
       "    this.root.append(nav_element);\n",
       "\n",
       "    // Define a callback function for later on.\n",
       "    function toolbar_event(event) {\n",
       "        return fig.toolbar_button_onclick(event['data']);\n",
       "    }\n",
       "    function toolbar_mouse_event(event) {\n",
       "        return fig.toolbar_button_onmouseover(event['data']);\n",
       "    }\n",
       "\n",
       "    for(var toolbar_ind in mpl.toolbar_items) {\n",
       "        var name = mpl.toolbar_items[toolbar_ind][0];\n",
       "        var tooltip = mpl.toolbar_items[toolbar_ind][1];\n",
       "        var image = mpl.toolbar_items[toolbar_ind][2];\n",
       "        var method_name = mpl.toolbar_items[toolbar_ind][3];\n",
       "\n",
       "        if (!name) {\n",
       "            // put a spacer in here.\n",
       "            continue;\n",
       "        }\n",
       "        var button = $('<button/>');\n",
       "        button.addClass('ui-button ui-widget ui-state-default ui-corner-all ' +\n",
       "                        'ui-button-icon-only');\n",
       "        button.attr('role', 'button');\n",
       "        button.attr('aria-disabled', 'false');\n",
       "        button.click(method_name, toolbar_event);\n",
       "        button.mouseover(tooltip, toolbar_mouse_event);\n",
       "\n",
       "        var icon_img = $('<span/>');\n",
       "        icon_img.addClass('ui-button-icon-primary ui-icon');\n",
       "        icon_img.addClass(image);\n",
       "        icon_img.addClass('ui-corner-all');\n",
       "\n",
       "        var tooltip_span = $('<span/>');\n",
       "        tooltip_span.addClass('ui-button-text');\n",
       "        tooltip_span.html(tooltip);\n",
       "\n",
       "        button.append(icon_img);\n",
       "        button.append(tooltip_span);\n",
       "\n",
       "        nav_element.append(button);\n",
       "    }\n",
       "\n",
       "    var fmt_picker_span = $('<span/>');\n",
       "\n",
       "    var fmt_picker = $('<select/>');\n",
       "    fmt_picker.addClass('mpl-toolbar-option ui-widget ui-widget-content');\n",
       "    fmt_picker_span.append(fmt_picker);\n",
       "    nav_element.append(fmt_picker_span);\n",
       "    this.format_dropdown = fmt_picker[0];\n",
       "\n",
       "    for (var ind in mpl.extensions) {\n",
       "        var fmt = mpl.extensions[ind];\n",
       "        var option = $(\n",
       "            '<option/>', {selected: fmt === mpl.default_extension}).html(fmt);\n",
       "        fmt_picker.append(option)\n",
       "    }\n",
       "\n",
       "    // Add hover states to the ui-buttons\n",
       "    $( \".ui-button\" ).hover(\n",
       "        function() { $(this).addClass(\"ui-state-hover\");},\n",
       "        function() { $(this).removeClass(\"ui-state-hover\");}\n",
       "    );\n",
       "\n",
       "    var status_bar = $('<span class=\"mpl-message\"/>');\n",
       "    nav_element.append(status_bar);\n",
       "    this.message = status_bar[0];\n",
       "}\n",
       "\n",
       "mpl.figure.prototype.request_resize = function(x_pixels, y_pixels) {\n",
       "    // Request matplotlib to resize the figure. Matplotlib will then trigger a resize in the client,\n",
       "    // which will in turn request a refresh of the image.\n",
       "    this.send_message('resize', {'width': x_pixels, 'height': y_pixels});\n",
       "}\n",
       "\n",
       "mpl.figure.prototype.send_message = function(type, properties) {\n",
       "    properties['type'] = type;\n",
       "    properties['figure_id'] = this.id;\n",
       "    this.ws.send(JSON.stringify(properties));\n",
       "}\n",
       "\n",
       "mpl.figure.prototype.send_draw_message = function() {\n",
       "    if (!this.waiting) {\n",
       "        this.waiting = true;\n",
       "        this.ws.send(JSON.stringify({type: \"draw\", figure_id: this.id}));\n",
       "    }\n",
       "}\n",
       "\n",
       "\n",
       "mpl.figure.prototype.handle_save = function(fig, msg) {\n",
       "    var format_dropdown = fig.format_dropdown;\n",
       "    var format = format_dropdown.options[format_dropdown.selectedIndex].value;\n",
       "    fig.ondownload(fig, format);\n",
       "}\n",
       "\n",
       "\n",
       "mpl.figure.prototype.handle_resize = function(fig, msg) {\n",
       "    var size = msg['size'];\n",
       "    if (size[0] != fig.canvas.width || size[1] != fig.canvas.height) {\n",
       "        fig._resize_canvas(size[0], size[1]);\n",
       "        fig.send_message(\"refresh\", {});\n",
       "    };\n",
       "}\n",
       "\n",
       "mpl.figure.prototype.handle_rubberband = function(fig, msg) {\n",
       "    var x0 = msg['x0'] / mpl.ratio;\n",
       "    var y0 = (fig.canvas.height - msg['y0']) / mpl.ratio;\n",
       "    var x1 = msg['x1'] / mpl.ratio;\n",
       "    var y1 = (fig.canvas.height - msg['y1']) / mpl.ratio;\n",
       "    x0 = Math.floor(x0) + 0.5;\n",
       "    y0 = Math.floor(y0) + 0.5;\n",
       "    x1 = Math.floor(x1) + 0.5;\n",
       "    y1 = Math.floor(y1) + 0.5;\n",
       "    var min_x = Math.min(x0, x1);\n",
       "    var min_y = Math.min(y0, y1);\n",
       "    var width = Math.abs(x1 - x0);\n",
       "    var height = Math.abs(y1 - y0);\n",
       "\n",
       "    fig.rubberband_context.clearRect(\n",
       "        0, 0, fig.canvas.width, fig.canvas.height);\n",
       "\n",
       "    fig.rubberband_context.strokeRect(min_x, min_y, width, height);\n",
       "}\n",
       "\n",
       "mpl.figure.prototype.handle_figure_label = function(fig, msg) {\n",
       "    // Updates the figure title.\n",
       "    fig.header.textContent = msg['label'];\n",
       "}\n",
       "\n",
       "mpl.figure.prototype.handle_cursor = function(fig, msg) {\n",
       "    var cursor = msg['cursor'];\n",
       "    switch(cursor)\n",
       "    {\n",
       "    case 0:\n",
       "        cursor = 'pointer';\n",
       "        break;\n",
       "    case 1:\n",
       "        cursor = 'default';\n",
       "        break;\n",
       "    case 2:\n",
       "        cursor = 'crosshair';\n",
       "        break;\n",
       "    case 3:\n",
       "        cursor = 'move';\n",
       "        break;\n",
       "    }\n",
       "    fig.rubberband_canvas.style.cursor = cursor;\n",
       "}\n",
       "\n",
       "mpl.figure.prototype.handle_message = function(fig, msg) {\n",
       "    fig.message.textContent = msg['message'];\n",
       "}\n",
       "\n",
       "mpl.figure.prototype.handle_draw = function(fig, msg) {\n",
       "    // Request the server to send over a new figure.\n",
       "    fig.send_draw_message();\n",
       "}\n",
       "\n",
       "mpl.figure.prototype.handle_image_mode = function(fig, msg) {\n",
       "    fig.image_mode = msg['mode'];\n",
       "}\n",
       "\n",
       "mpl.figure.prototype.updated_canvas_event = function() {\n",
       "    // Called whenever the canvas gets updated.\n",
       "    this.send_message(\"ack\", {});\n",
       "}\n",
       "\n",
       "// A function to construct a web socket function for onmessage handling.\n",
       "// Called in the figure constructor.\n",
       "mpl.figure.prototype._make_on_message_function = function(fig) {\n",
       "    return function socket_on_message(evt) {\n",
       "        if (evt.data instanceof Blob) {\n",
       "            /* FIXME: We get \"Resource interpreted as Image but\n",
       "             * transferred with MIME type text/plain:\" errors on\n",
       "             * Chrome.  But how to set the MIME type?  It doesn't seem\n",
       "             * to be part of the websocket stream */\n",
       "            evt.data.type = \"image/png\";\n",
       "\n",
       "            /* Free the memory for the previous frames */\n",
       "            if (fig.imageObj.src) {\n",
       "                (window.URL || window.webkitURL).revokeObjectURL(\n",
       "                    fig.imageObj.src);\n",
       "            }\n",
       "\n",
       "            fig.imageObj.src = (window.URL || window.webkitURL).createObjectURL(\n",
       "                evt.data);\n",
       "            fig.updated_canvas_event();\n",
       "            fig.waiting = false;\n",
       "            return;\n",
       "        }\n",
       "        else if (typeof evt.data === 'string' && evt.data.slice(0, 21) == \"data:image/png;base64\") {\n",
       "            fig.imageObj.src = evt.data;\n",
       "            fig.updated_canvas_event();\n",
       "            fig.waiting = false;\n",
       "            return;\n",
       "        }\n",
       "\n",
       "        var msg = JSON.parse(evt.data);\n",
       "        var msg_type = msg['type'];\n",
       "\n",
       "        // Call the  \"handle_{type}\" callback, which takes\n",
       "        // the figure and JSON message as its only arguments.\n",
       "        try {\n",
       "            var callback = fig[\"handle_\" + msg_type];\n",
       "        } catch (e) {\n",
       "            console.log(\"No handler for the '\" + msg_type + \"' message type: \", msg);\n",
       "            return;\n",
       "        }\n",
       "\n",
       "        if (callback) {\n",
       "            try {\n",
       "                // console.log(\"Handling '\" + msg_type + \"' message: \", msg);\n",
       "                callback(fig, msg);\n",
       "            } catch (e) {\n",
       "                console.log(\"Exception inside the 'handler_\" + msg_type + \"' callback:\", e, e.stack, msg);\n",
       "            }\n",
       "        }\n",
       "    };\n",
       "}\n",
       "\n",
       "// from http://stackoverflow.com/questions/1114465/getting-mouse-location-in-canvas\n",
       "mpl.findpos = function(e) {\n",
       "    //this section is from http://www.quirksmode.org/js/events_properties.html\n",
       "    var targ;\n",
       "    if (!e)\n",
       "        e = window.event;\n",
       "    if (e.target)\n",
       "        targ = e.target;\n",
       "    else if (e.srcElement)\n",
       "        targ = e.srcElement;\n",
       "    if (targ.nodeType == 3) // defeat Safari bug\n",
       "        targ = targ.parentNode;\n",
       "\n",
       "    // jQuery normalizes the pageX and pageY\n",
       "    // pageX,Y are the mouse positions relative to the document\n",
       "    // offset() returns the position of the element relative to the document\n",
       "    var x = e.pageX - $(targ).offset().left;\n",
       "    var y = e.pageY - $(targ).offset().top;\n",
       "\n",
       "    return {\"x\": x, \"y\": y};\n",
       "};\n",
       "\n",
       "/*\n",
       " * return a copy of an object with only non-object keys\n",
       " * we need this to avoid circular references\n",
       " * http://stackoverflow.com/a/24161582/3208463\n",
       " */\n",
       "function simpleKeys (original) {\n",
       "  return Object.keys(original).reduce(function (obj, key) {\n",
       "    if (typeof original[key] !== 'object')\n",
       "        obj[key] = original[key]\n",
       "    return obj;\n",
       "  }, {});\n",
       "}\n",
       "\n",
       "mpl.figure.prototype.mouse_event = function(event, name) {\n",
       "    var canvas_pos = mpl.findpos(event)\n",
       "\n",
       "    if (name === 'button_press')\n",
       "    {\n",
       "        this.canvas.focus();\n",
       "        this.canvas_div.focus();\n",
       "    }\n",
       "\n",
       "    var x = canvas_pos.x * mpl.ratio;\n",
       "    var y = canvas_pos.y * mpl.ratio;\n",
       "\n",
       "    this.send_message(name, {x: x, y: y, button: event.button,\n",
       "                             step: event.step,\n",
       "                             guiEvent: simpleKeys(event)});\n",
       "\n",
       "    /* This prevents the web browser from automatically changing to\n",
       "     * the text insertion cursor when the button is pressed.  We want\n",
       "     * to control all of the cursor setting manually through the\n",
       "     * 'cursor' event from matplotlib */\n",
       "    event.preventDefault();\n",
       "    return false;\n",
       "}\n",
       "\n",
       "mpl.figure.prototype._key_event_extra = function(event, name) {\n",
       "    // Handle any extra behaviour associated with a key event\n",
       "}\n",
       "\n",
       "mpl.figure.prototype.key_event = function(event, name) {\n",
       "\n",
       "    // Prevent repeat events\n",
       "    if (name == 'key_press')\n",
       "    {\n",
       "        if (event.which === this._key)\n",
       "            return;\n",
       "        else\n",
       "            this._key = event.which;\n",
       "    }\n",
       "    if (name == 'key_release')\n",
       "        this._key = null;\n",
       "\n",
       "    var value = '';\n",
       "    if (event.ctrlKey && event.which != 17)\n",
       "        value += \"ctrl+\";\n",
       "    if (event.altKey && event.which != 18)\n",
       "        value += \"alt+\";\n",
       "    if (event.shiftKey && event.which != 16)\n",
       "        value += \"shift+\";\n",
       "\n",
       "    value += 'k';\n",
       "    value += event.which.toString();\n",
       "\n",
       "    this._key_event_extra(event, name);\n",
       "\n",
       "    this.send_message(name, {key: value,\n",
       "                             guiEvent: simpleKeys(event)});\n",
       "    return false;\n",
       "}\n",
       "\n",
       "mpl.figure.prototype.toolbar_button_onclick = function(name) {\n",
       "    if (name == 'download') {\n",
       "        this.handle_save(this, null);\n",
       "    } else {\n",
       "        this.send_message(\"toolbar_button\", {name: name});\n",
       "    }\n",
       "};\n",
       "\n",
       "mpl.figure.prototype.toolbar_button_onmouseover = function(tooltip) {\n",
       "    this.message.textContent = tooltip;\n",
       "};\n",
       "mpl.toolbar_items = [[\"Home\", \"Reset original view\", \"fa fa-home icon-home\", \"home\"], [\"Back\", \"Back to  previous view\", \"fa fa-arrow-left icon-arrow-left\", \"back\"], [\"Forward\", \"Forward to next view\", \"fa fa-arrow-right icon-arrow-right\", \"forward\"], [\"\", \"\", \"\", \"\"], [\"Pan\", \"Pan axes with left mouse, zoom with right\", \"fa fa-arrows icon-move\", \"pan\"], [\"Zoom\", \"Zoom to rectangle\", \"fa fa-square-o icon-check-empty\", \"zoom\"], [\"\", \"\", \"\", \"\"], [\"Download\", \"Download plot\", \"fa fa-floppy-o icon-save\", \"download\"]];\n",
       "\n",
       "mpl.extensions = [\"eps\", \"jpeg\", \"pdf\", \"png\", \"ps\", \"raw\", \"svg\", \"tif\"];\n",
       "\n",
       "mpl.default_extension = \"png\";var comm_websocket_adapter = function(comm) {\n",
       "    // Create a \"websocket\"-like object which calls the given IPython comm\n",
       "    // object with the appropriate methods. Currently this is a non binary\n",
       "    // socket, so there is still some room for performance tuning.\n",
       "    var ws = {};\n",
       "\n",
       "    ws.close = function() {\n",
       "        comm.close()\n",
       "    };\n",
       "    ws.send = function(m) {\n",
       "        //console.log('sending', m);\n",
       "        comm.send(m);\n",
       "    };\n",
       "    // Register the callback with on_msg.\n",
       "    comm.on_msg(function(msg) {\n",
       "        //console.log('receiving', msg['content']['data'], msg);\n",
       "        // Pass the mpl event to the overriden (by mpl) onmessage function.\n",
       "        ws.onmessage(msg['content']['data'])\n",
       "    });\n",
       "    return ws;\n",
       "}\n",
       "\n",
       "mpl.mpl_figure_comm = function(comm, msg) {\n",
       "    // This is the function which gets called when the mpl process\n",
       "    // starts-up an IPython Comm through the \"matplotlib\" channel.\n",
       "\n",
       "    var id = msg.content.data.id;\n",
       "    // Get hold of the div created by the display call when the Comm\n",
       "    // socket was opened in Python.\n",
       "    var element = $(\"#\" + id);\n",
       "    var ws_proxy = comm_websocket_adapter(comm)\n",
       "\n",
       "    function ondownload(figure, format) {\n",
       "        window.open(figure.imageObj.src);\n",
       "    }\n",
       "\n",
       "    var fig = new mpl.figure(id, ws_proxy,\n",
       "                           ondownload,\n",
       "                           element.get(0));\n",
       "\n",
       "    // Call onopen now - mpl needs it, as it is assuming we've passed it a real\n",
       "    // web socket which is closed, not our websocket->open comm proxy.\n",
       "    ws_proxy.onopen();\n",
       "\n",
       "    fig.parent_element = element.get(0);\n",
       "    fig.cell_info = mpl.find_output_cell(\"<div id='\" + id + \"'></div>\");\n",
       "    if (!fig.cell_info) {\n",
       "        console.error(\"Failed to find cell for figure\", id, fig);\n",
       "        return;\n",
       "    }\n",
       "\n",
       "    var output_index = fig.cell_info[2]\n",
       "    var cell = fig.cell_info[0];\n",
       "\n",
       "};\n",
       "\n",
       "mpl.figure.prototype.handle_close = function(fig, msg) {\n",
       "    var width = fig.canvas.width/mpl.ratio\n",
       "    fig.root.unbind('remove')\n",
       "\n",
       "    // Update the output cell to use the data from the current canvas.\n",
       "    fig.push_to_output();\n",
       "    var dataURL = fig.canvas.toDataURL();\n",
       "    // Re-enable the keyboard manager in IPython - without this line, in FF,\n",
       "    // the notebook keyboard shortcuts fail.\n",
       "    IPython.keyboard_manager.enable()\n",
       "    $(fig.parent_element).html('<img src=\"' + dataURL + '\" width=\"' + width + '\">');\n",
       "    fig.close_ws(fig, msg);\n",
       "}\n",
       "\n",
       "mpl.figure.prototype.close_ws = function(fig, msg){\n",
       "    fig.send_message('closing', msg);\n",
       "    // fig.ws.close()\n",
       "}\n",
       "\n",
       "mpl.figure.prototype.push_to_output = function(remove_interactive) {\n",
       "    // Turn the data on the canvas into data in the output cell.\n",
       "    var width = this.canvas.width/mpl.ratio\n",
       "    var dataURL = this.canvas.toDataURL();\n",
       "    this.cell_info[1]['text/html'] = '<img src=\"' + dataURL + '\" width=\"' + width + '\">';\n",
       "}\n",
       "\n",
       "mpl.figure.prototype.updated_canvas_event = function() {\n",
       "    // Tell IPython that the notebook contents must change.\n",
       "    IPython.notebook.set_dirty(true);\n",
       "    this.send_message(\"ack\", {});\n",
       "    var fig = this;\n",
       "    // Wait a second, then push the new image to the DOM so\n",
       "    // that it is saved nicely (might be nice to debounce this).\n",
       "    setTimeout(function () { fig.push_to_output() }, 1000);\n",
       "}\n",
       "\n",
       "mpl.figure.prototype._init_toolbar = function() {\n",
       "    var fig = this;\n",
       "\n",
       "    var nav_element = $('<div/>')\n",
       "    nav_element.attr('style', 'width: 100%');\n",
       "    this.root.append(nav_element);\n",
       "\n",
       "    // Define a callback function for later on.\n",
       "    function toolbar_event(event) {\n",
       "        return fig.toolbar_button_onclick(event['data']);\n",
       "    }\n",
       "    function toolbar_mouse_event(event) {\n",
       "        return fig.toolbar_button_onmouseover(event['data']);\n",
       "    }\n",
       "\n",
       "    for(var toolbar_ind in mpl.toolbar_items){\n",
       "        var name = mpl.toolbar_items[toolbar_ind][0];\n",
       "        var tooltip = mpl.toolbar_items[toolbar_ind][1];\n",
       "        var image = mpl.toolbar_items[toolbar_ind][2];\n",
       "        var method_name = mpl.toolbar_items[toolbar_ind][3];\n",
       "\n",
       "        if (!name) { continue; };\n",
       "\n",
       "        var button = $('<button class=\"btn btn-default\" href=\"#\" title=\"' + name + '\"><i class=\"fa ' + image + ' fa-lg\"></i></button>');\n",
       "        button.click(method_name, toolbar_event);\n",
       "        button.mouseover(tooltip, toolbar_mouse_event);\n",
       "        nav_element.append(button);\n",
       "    }\n",
       "\n",
       "    // Add the status bar.\n",
       "    var status_bar = $('<span class=\"mpl-message\" style=\"text-align:right; float: right;\"/>');\n",
       "    nav_element.append(status_bar);\n",
       "    this.message = status_bar[0];\n",
       "\n",
       "    // Add the close button to the window.\n",
       "    var buttongrp = $('<div class=\"btn-group inline pull-right\"></div>');\n",
       "    var button = $('<button class=\"btn btn-mini btn-primary\" href=\"#\" title=\"Stop Interaction\"><i class=\"fa fa-power-off icon-remove icon-large\"></i></button>');\n",
       "    button.click(function (evt) { fig.handle_close(fig, {}); } );\n",
       "    button.mouseover('Stop Interaction', toolbar_mouse_event);\n",
       "    buttongrp.append(button);\n",
       "    var titlebar = this.root.find($('.ui-dialog-titlebar'));\n",
       "    titlebar.prepend(buttongrp);\n",
       "}\n",
       "\n",
       "mpl.figure.prototype._root_extra_style = function(el){\n",
       "    var fig = this\n",
       "    el.on(\"remove\", function(){\n",
       "\tfig.close_ws(fig, {});\n",
       "    });\n",
       "}\n",
       "\n",
       "mpl.figure.prototype._canvas_extra_style = function(el){\n",
       "    // this is important to make the div 'focusable\n",
       "    el.attr('tabindex', 0)\n",
       "    // reach out to IPython and tell the keyboard manager to turn it's self\n",
       "    // off when our div gets focus\n",
       "\n",
       "    // location in version 3\n",
       "    if (IPython.notebook.keyboard_manager) {\n",
       "        IPython.notebook.keyboard_manager.register_events(el);\n",
       "    }\n",
       "    else {\n",
       "        // location in version 2\n",
       "        IPython.keyboard_manager.register_events(el);\n",
       "    }\n",
       "\n",
       "}\n",
       "\n",
       "mpl.figure.prototype._key_event_extra = function(event, name) {\n",
       "    var manager = IPython.notebook.keyboard_manager;\n",
       "    if (!manager)\n",
       "        manager = IPython.keyboard_manager;\n",
       "\n",
       "    // Check for shift+enter\n",
       "    if (event.shiftKey && event.which == 13) {\n",
       "        this.canvas_div.blur();\n",
       "        // select the cell after this one\n",
       "        var index = IPython.notebook.find_cell_index(this.cell_info[0]);\n",
       "        IPython.notebook.select(index + 1);\n",
       "    }\n",
       "}\n",
       "\n",
       "mpl.figure.prototype.handle_save = function(fig, msg) {\n",
       "    fig.ondownload(fig, null);\n",
       "}\n",
       "\n",
       "\n",
       "mpl.find_output_cell = function(html_output) {\n",
       "    // Return the cell and output element which can be found *uniquely* in the notebook.\n",
       "    // Note - this is a bit hacky, but it is done because the \"notebook_saving.Notebook\"\n",
       "    // IPython event is triggered only after the cells have been serialised, which for\n",
       "    // our purposes (turning an active figure into a static one), is too late.\n",
       "    var cells = IPython.notebook.get_cells();\n",
       "    var ncells = cells.length;\n",
       "    for (var i=0; i<ncells; i++) {\n",
       "        var cell = cells[i];\n",
       "        if (cell.cell_type === 'code'){\n",
       "            for (var j=0; j<cell.output_area.outputs.length; j++) {\n",
       "                var data = cell.output_area.outputs[j];\n",
       "                if (data.data) {\n",
       "                    // IPython >= 3 moved mimebundle to data attribute of output\n",
       "                    data = data.data;\n",
       "                }\n",
       "                if (data['text/html'] == html_output) {\n",
       "                    return [cell, data, j];\n",
       "                }\n",
       "            }\n",
       "        }\n",
       "    }\n",
       "}\n",
       "\n",
       "// Register the function which deals with the matplotlib target/channel.\n",
       "// The kernel may be null if the page has been refreshed.\n",
       "if (IPython.notebook.kernel != null) {\n",
       "    IPython.notebook.kernel.comm_manager.register_target('matplotlib', mpl.mpl_figure_comm);\n",
       "}\n"
      ],
      "text/plain": [
       "<IPython.core.display.Javascript object>"
      ]
     },
     "metadata": {},
     "output_type": "display_data"
    },
    {
     "data": {
      "text/html": [
       "<img src=\"data:image/png;base64,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\" width=\"800\">"
      ],
      "text/plain": [
       "<IPython.core.display.HTML object>"
      ]
     },
     "metadata": {},
     "output_type": "display_data"
    },
    {
     "data": {
      "application/vnd.jupyter.widget-view+json": {
       "model_id": "630051a190324e43b50c956191184687"
      }
     },
     "metadata": {},
     "output_type": "display_data"
    },
    {
     "data": {
      "text/plain": [
       "<function __main__.<lambda>>"
      ]
     },
     "execution_count": 160,
     "metadata": {},
     "output_type": "execute_result"
    }
   ],
   "source": [
    "# Before Plotting, We Need to Enable D3 in The Notebook\n",
    "D3.enable_notebook()\n",
    "\n",
    "# Prettify Column Names - Replace Underscores with Spaces and Capitalize the First Letter of Each Word\n",
    "data.columns = [\" \".join([word[0].upper() + word[1:] for word in col.split(\"_\")]) for col in data.columns]\n",
    "\n",
    "# Filter Columns\n",
    "filterCols = list(data.columns.drop('Diagnosis'))[0:5]\n",
    "\n",
    "# Group Data by Diagnosis\n",
    "groups = data.groupby(\"Diagnosis\")\n",
    "    \n",
    "# Initialize Plot\n",
    "fig, axis = initPlot(groups, \"Diagnosis\", filterCols[0])\n",
    "\n",
    "# Create Filter Toggle\n",
    "filters = widgets.ToggleButtons(\n",
    "    options = filterCols,\n",
    "    description = 'Filter:',\n",
    "    disabled = False,\n",
    "    button_style='info',\n",
    "    tooltip='Feature',\n",
    "    icon='check'\n",
    ")\n",
    "\n",
    "# Bind ToggleButtons Widget Events to Rendering Function\n",
    "interact(lambda x: updatePlot(groups, \"Diagnosis\", x, fig, axis), x = filters)"
   ]
  },
  {
   "cell_type": "markdown",
   "metadata": {
    "extensions": {
     "jupyter_dashboards": {
      "version": 1,
      "views": {
       "grid_default": {
        "col": 0,
        "height": 4,
        "hidden": false,
        "row": 171,
        "width": 12
       },
       "report_default": {
        "hidden": false
       }
      }
     }
    }
   },
   "source": []
  },
  {
   "cell_type": "markdown",
   "metadata": {
    "extensions": {
     "jupyter_dashboards": {
      "version": 1,
      "views": {
       "grid_default": {
        "col": 0,
        "height": 4,
        "hidden": false,
        "row": 57,
        "width": 4
       },
       "report_default": {
        "hidden": false
       }
      }
     }
    }
   },
   "source": [
    "### In-Class Excercises\n",
    "#### 1. Using the available dataset, create an interactive plot that visualizes `Perimeter Mean` by `Radius Mean`. Allow the user to select samples by their `Diagnosis` using a `dropdown` widget. "
   ]
  },
  {
   "cell_type": "code",
   "execution_count": null,
   "metadata": {
    "collapsed": true,
    "extensions": {
     "jupyter_dashboards": {
      "version": 1,
      "views": {
       "grid_default": {
        "col": 0,
        "height": 4,
        "hidden": true,
        "row": 0,
        "width": 12
       },
       "report_default": {
        "hidden": true
       }
      }
     }
    }
   },
   "outputs": [],
   "source": []
  },
  {
   "cell_type": "markdown",
   "metadata": {
    "extensions": {
     "jupyter_dashboards": {
      "version": 1,
      "views": {
       "grid_default": {
        "col": 0,
        "height": 12,
        "hidden": false,
        "row": 159,
        "width": 12
       },
       "report_default": {
        "hidden": false
       }
      }
     }
    }
   },
   "source": [
    "#### 2. Create a similar plot to Exercise 1 that visualizes data for both `Diagnosis` (malignant and benign). Allow the user to filter this data by a value range using a `rageslider` widget. "
   ]
  },
  {
   "cell_type": "code",
   "execution_count": null,
   "metadata": {
    "collapsed": true,
    "extensions": {
     "jupyter_dashboards": {
      "version": 1,
      "views": {
       "grid_default": {
        "col": 0,
        "height": 4,
        "hidden": true,
        "row": 0,
        "width": 12
       },
       "report_default": {
        "hidden": true
       }
      }
     }
    }
   },
   "outputs": [],
   "source": []
  }
 ],
 "metadata": {
  "extensions": {
   "jupyter_dashboards": {
    "activeView": "grid_default",
    "version": 1,
    "views": {
     "grid_default": {
      "cellMargin": 10,
      "defaultCellHeight": 20,
      "maxColumns": 12,
      "name": "grid",
      "type": "grid"
     },
     "report_default": {
      "name": "report",
      "type": "report"
     }
    }
   }
  },
  "kernelspec": {
   "display_name": "Python 3",
   "language": "python",
   "name": "python3"
  },
  "language_info": {
   "codemirror_mode": {
    "name": "ipython",
    "version": 3
   },
   "file_extension": ".py",
   "mimetype": "text/x-python",
   "name": "python",
   "nbconvert_exporter": "python",
   "pygments_lexer": "ipython3",
   "version": "3.5.2"
  }
 },
 "nbformat": 4,
 "nbformat_minor": 2
}
